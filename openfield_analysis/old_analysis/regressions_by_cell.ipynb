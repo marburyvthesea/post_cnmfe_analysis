{
 "cells": [
  {
   "cell_type": "code",
   "execution_count": 1,
   "metadata": {},
   "outputs": [
    {
     "data": {
      "text/html": [
       "<style>.container { width:90% !important; }</style>"
      ],
      "text/plain": [
       "<IPython.core.display.HTML object>"
      ]
     },
     "metadata": {},
     "output_type": "display_data"
    },
    {
     "name": "stderr",
     "output_type": "stream",
     "text": [
      "/home/jma819/.conda/envs/caiman/lib/python3.6/site-packages/sklearn/utils/deprecation.py:144: FutureWarning: The sklearn.decomposition.incremental_pca module is  deprecated in version 0.22 and will be removed in version 0.24. The corresponding classes / functions should instead be imported from sklearn.decomposition. Anything that cannot be imported from sklearn.decomposition is now part of the private API.\n",
      "  warnings.warn(message, FutureWarning)\n"
     ]
    }
   ],
   "source": [
    "from IPython.core.display import display, HTML\n",
    "display(HTML(\"<style>.container { width:90% !important; }</style>\"))\n",
    "import numpy as np\n",
    "import pandas as pd\n",
    "import h5py\n",
    "from tqdm import tqdm\n",
    "import scipy.io as sio\n",
    "from scipy import stats\n",
    "from importlib import reload\n",
    "from matplotlib import pyplot as plt\n",
    "import sys\n",
    "sys.path.append('/home/jma819/post_cmfe_analysis')\n",
    "import python_utils_jjm as utils_jjm\n",
    "import dlc_utils\n",
    "import caiman\n",
    "import statsmodels.formula.api as smf\n",
    "import scipy.spatial.distance as dist\n",
    "import itertools\n",
    "import math"
   ]
  },
  {
   "cell_type": "code",
   "execution_count": 2,
   "metadata": {},
   "outputs": [
    {
     "data": {
      "text/plain": [
       "<module 'python_utils_jjm' from '/home/jma819/post_cmfe_analysis/python_utils_jjm.py'>"
      ]
     },
     "execution_count": 2,
     "metadata": {},
     "output_type": "execute_result"
    }
   ],
   "source": [
    "reload(utils_jjm)"
   ]
  },
  {
   "cell_type": "code",
   "execution_count": 3,
   "metadata": {},
   "outputs": [],
   "source": [
    "cnmfe_file_key = pd.read_csv('/projects/p30771/dlc_analysis/openfield_dlc_output/cnmfe_file_key.csv')"
   ]
  },
  {
   "cell_type": "code",
   "execution_count": 4,
   "metadata": {},
   "outputs": [],
   "source": [
    "cnmfe_base_dir = '/projects/p30771/MATLAB/CNMF_E_jjm/quest_MATLAB_cnmfe/batch_output_files/'\n",
    "wt_CNMFE_file = ['30-Mar_20_39_05_out.mat', '30-Mar_20_45_16_out.mat', '27-Feb_17_33_59_out.mat', '22-Mar_22_52_02_out.mat',\n",
    "                 '28-Feb_16_10_05_out.mat', '27-Feb_17_32_15_out.mat', '28-Feb_16_21_21_out.mat', '25-Mar_13_27_27_out.mat',\n",
    "                 '25-Mar_14_22_02_out.mat', '25-Mar_14_22_44_out.mat', '26-Mar_18_33_55_out.mat', '27-Mar_00_26_12_out.mat', '27-Mar_00_48_46_out.mat']\n",
    "\n",
    "ko_CNMFE_files = ['31-Mar_13_28_15_out.mat', '29-Mar_21_42_20_out.mat', '13-Apr_17_57_40_out.mat', '29-Mar_14_27_55_out.mat', '13-Apr_16_01_20_out.mat',\n",
    "                 '13-Apr_16_11_27_out.mat', '29-Mar_13_39_44_out.mat']"
   ]
  },
  {
   "cell_type": "code",
   "execution_count": 5,
   "metadata": {},
   "outputs": [],
   "source": [
    "tracking_files = ['/projects/p30771/dlc_analysis/openfield_dlc_output/'+utils_jjm.find_behavior_tracking(fname, cnmfe_file_key) for fname in wt_CNMFE_file] "
   ]
  },
  {
   "cell_type": "code",
   "execution_count": 6,
   "metadata": {},
   "outputs": [],
   "source": [
    "#tracking_files"
   ]
  },
  {
   "cell_type": "code",
   "execution_count": 7,
   "metadata": {},
   "outputs": [],
   "source": [
    "CNMFE_dir_paths_list = [str(cnmfe_base_dir+fname) for fname in wt_CNMFE_file]\n",
    "#CNMFE_dir_paths_list"
   ]
  },
  {
   "cell_type": "code",
   "execution_count": 8,
   "metadata": {},
   "outputs": [],
   "source": [
    "spatial_components_by_session = {}\n",
    "for cnmfe_file, tracking_file in zip(CNMFE_dir_paths_list, tracking_files):\n",
    "    com_df, spatial_components = utils_jjm.return_spatial_info(cnmfe_file, 0.6)\n",
    "    spatial_components_by_session[tracking_file.split('/')[-2]] = {'com' : com_df, 'spatial_components' : spatial_components}"
   ]
  },
  {
   "cell_type": "code",
   "execution_count": 9,
   "metadata": {},
   "outputs": [
    {
     "name": "stderr",
     "output_type": "stream",
     "text": [
      "/home/jma819/.conda/envs/caiman/lib/python3.6/site-packages/numpy/core/fromnumeric.py:3335: RuntimeWarning: Mean of empty slice.\n",
      "  out=out, **kwargs)\n",
      "/home/jma819/.conda/envs/caiman/lib/python3.6/site-packages/numpy/core/_methods.py:161: RuntimeWarning: invalid value encountered in double_scalars\n",
      "  ret = ret.dtype.type(ret / rcount)\n",
      "/home/jma819/.conda/envs/caiman/lib/python3.6/site-packages/numpy/core/fromnumeric.py:3335: RuntimeWarning: Mean of empty slice.\n",
      "  out=out, **kwargs)\n",
      "/home/jma819/.conda/envs/caiman/lib/python3.6/site-packages/numpy/core/_methods.py:161: RuntimeWarning: invalid value encountered in double_scalars\n",
      "  ret = ret.dtype.type(ret / rcount)\n",
      "/home/jma819/.conda/envs/caiman/lib/python3.6/site-packages/numpy/core/fromnumeric.py:3335: RuntimeWarning: Mean of empty slice.\n",
      "  out=out, **kwargs)\n",
      "/home/jma819/.conda/envs/caiman/lib/python3.6/site-packages/numpy/core/_methods.py:161: RuntimeWarning: invalid value encountered in double_scalars\n",
      "  ret = ret.dtype.type(ret / rcount)\n",
      "/home/jma819/.conda/envs/caiman/lib/python3.6/site-packages/numpy/core/fromnumeric.py:3335: RuntimeWarning: Mean of empty slice.\n",
      "  out=out, **kwargs)\n",
      "/home/jma819/.conda/envs/caiman/lib/python3.6/site-packages/numpy/core/_methods.py:161: RuntimeWarning: invalid value encountered in double_scalars\n",
      "  ret = ret.dtype.type(ret / rcount)\n",
      "/home/jma819/.conda/envs/caiman/lib/python3.6/site-packages/numpy/core/fromnumeric.py:3335: RuntimeWarning: Mean of empty slice.\n",
      "  out=out, **kwargs)\n",
      "/home/jma819/.conda/envs/caiman/lib/python3.6/site-packages/numpy/core/_methods.py:161: RuntimeWarning: invalid value encountered in double_scalars\n",
      "  ret = ret.dtype.type(ret / rcount)\n",
      "/home/jma819/.conda/envs/caiman/lib/python3.6/site-packages/numpy/core/fromnumeric.py:3335: RuntimeWarning: Mean of empty slice.\n",
      "  out=out, **kwargs)\n",
      "/home/jma819/.conda/envs/caiman/lib/python3.6/site-packages/numpy/core/_methods.py:161: RuntimeWarning: invalid value encountered in double_scalars\n",
      "  ret = ret.dtype.type(ret / rcount)\n",
      "/home/jma819/.conda/envs/caiman/lib/python3.6/site-packages/numpy/core/fromnumeric.py:3335: RuntimeWarning: Mean of empty slice.\n",
      "  out=out, **kwargs)\n",
      "/home/jma819/.conda/envs/caiman/lib/python3.6/site-packages/numpy/core/_methods.py:161: RuntimeWarning: invalid value encountered in double_scalars\n",
      "  ret = ret.dtype.type(ret / rcount)\n",
      "/home/jma819/.conda/envs/caiman/lib/python3.6/site-packages/numpy/core/fromnumeric.py:3335: RuntimeWarning: Mean of empty slice.\n",
      "  out=out, **kwargs)\n",
      "/home/jma819/.conda/envs/caiman/lib/python3.6/site-packages/numpy/core/_methods.py:161: RuntimeWarning: invalid value encountered in double_scalars\n",
      "  ret = ret.dtype.type(ret / rcount)\n",
      "/home/jma819/.conda/envs/caiman/lib/python3.6/site-packages/numpy/core/fromnumeric.py:3335: RuntimeWarning: Mean of empty slice.\n",
      "  out=out, **kwargs)\n",
      "/home/jma819/.conda/envs/caiman/lib/python3.6/site-packages/numpy/core/_methods.py:161: RuntimeWarning: invalid value encountered in double_scalars\n",
      "  ret = ret.dtype.type(ret / rcount)\n",
      "/home/jma819/.conda/envs/caiman/lib/python3.6/site-packages/numpy/core/fromnumeric.py:3335: RuntimeWarning: Mean of empty slice.\n",
      "  out=out, **kwargs)\n",
      "/home/jma819/.conda/envs/caiman/lib/python3.6/site-packages/numpy/core/_methods.py:161: RuntimeWarning: invalid value encountered in double_scalars\n",
      "  ret = ret.dtype.type(ret / rcount)\n",
      "/home/jma819/.conda/envs/caiman/lib/python3.6/site-packages/numpy/core/fromnumeric.py:3335: RuntimeWarning: Mean of empty slice.\n",
      "  out=out, **kwargs)\n",
      "/home/jma819/.conda/envs/caiman/lib/python3.6/site-packages/numpy/core/_methods.py:161: RuntimeWarning: invalid value encountered in double_scalars\n",
      "  ret = ret.dtype.type(ret / rcount)\n",
      "/home/jma819/.conda/envs/caiman/lib/python3.6/site-packages/numpy/core/fromnumeric.py:3335: RuntimeWarning: Mean of empty slice.\n",
      "  out=out, **kwargs)\n",
      "/home/jma819/.conda/envs/caiman/lib/python3.6/site-packages/numpy/core/_methods.py:161: RuntimeWarning: invalid value encountered in double_scalars\n",
      "  ret = ret.dtype.type(ret / rcount)\n",
      "/home/jma819/.conda/envs/caiman/lib/python3.6/site-packages/numpy/core/fromnumeric.py:3335: RuntimeWarning: Mean of empty slice.\n",
      "  out=out, **kwargs)\n",
      "/home/jma819/.conda/envs/caiman/lib/python3.6/site-packages/numpy/core/_methods.py:161: RuntimeWarning: invalid value encountered in double_scalars\n",
      "  ret = ret.dtype.type(ret / rcount)\n"
     ]
    }
   ],
   "source": [
    "binning_time = 1 # seconds \n",
    "body_part_for_tracking = 'tail_base' #\n",
    "number_of_bins = 50 #\n",
    "polynomial_degree = 2 #\n",
    "\n",
    "spatial_components_by_session = {}\n",
    "group_results_binning = {}\n",
    "success = []\n",
    "failed = []\n",
    "for CNMFE_file, tracking_file in zip(CNMFE_dir_paths_list, tracking_files):\n",
    "    #print(CNMFE_file)\n",
    "    #print(tracking_file)\n",
    "    try:\n",
    "        # create time deltas\n",
    "        C_z_scored, interpolated = utils_jjm.prepare_timedelta_dfs(CNMFE_file, tracking_file)\n",
    "        # downsample and bin\n",
    "        cells_C_binned_by_V, cells_mean_C_binned_by_V = dlc_utils.downsample_session_and_bin_C_by_V(binning_time, number_of_bins, body_part_for_tracking, interpolated, C_z_scored)\n",
    "        # add save step here?\n",
    "        group_results_binning[tracking_file.split('/')[-2]] = {'C_z_scored':C_z_scored, 'tracking_data' :interpolated, \n",
    "                                              'C_binned_by_V':cells_C_binned_by_V, 'C_binned_by_V_means':cells_mean_C_binned_by_V}\n",
    "        success.append((tracking_file.split('/')[-2], CNMFE_file.split('/')[-1]))\n",
    "        \n",
    "        #load spatial components by session\n",
    "        com_df, spatial_components = utils_jjm.return_spatial_info(CNMFE_file, 0.6)\n",
    "        spatial_components_by_session[tracking_file.split('/')[-2]] = {'com' : com_df, 'spatial_components' : spatial_components}\n",
    "    \n",
    "    except FileNotFoundError:\n",
    "        failed.append(tracking_file)\n",
    "    except OSError:\n",
    "        failed.append(tracking_file)"
   ]
  },
  {
   "cell_type": "code",
   "execution_count": null,
   "metadata": {},
   "outputs": [],
   "source": [
    "## quadratic regressions by cell \n",
    "regression_results_by_group = {}\n",
    "for tracking_file in list(group_results_binning.keys()):\n",
    "    # add regression results\n",
    "    regression_results = dlc_utils.create_regression_models_per_cell(group_results_binning[tracking_file]['C_binned_by_V_means'], polynomial_degree)\n",
    "    regression_results_by_group[tracking_file] = regression_results\n",
    "\n",
    "#session_names = [session_name.split('/')[-2] for session_name in list(group_results_binning.keys())]    \n",
    "session_names = list(group_results_binning.keys())\n",
    "\n",
    "## get some summaries of regression info by groups\n",
    "grouped_info = {}\n",
    "grouped_info_means = {}\n",
    "for session in list(group_results_binning.keys()):\n",
    "    info_by_session = {}\n",
    "    info_by_session_means = {}\n",
    "    session_results = regression_results_by_group[session]\n",
    "    # F statistics\n",
    "    F_stats_by_session = np.array([float(session_results[cell]['statsmodel_results'].summary().tables[0][3][3].data) \n",
    "                    for cell in range(1, len(session_results)+1)])\n",
    "    info_by_session['F_stats'] = F_stats_by_session\n",
    "    info_by_session_means['total_cells'] = len(F_stats_by_session)\n",
    "    # r2\n",
    "    r_stats_by_session = np.array([float(session_results[cell]['statsmodel_results'].summary().tables[0][3][3].data) \n",
    "                    for cell in range(1, len(session_results)+1)])\n",
    "    info_by_session['R-squared'] = r_stats_by_session\n",
    "    info_by_session_means['R-squared_mean'] = np.mean(r_stats_by_session)\n",
    "    # significant regressions\n",
    "    significant_regressions = len(np.argwhere(F_stats_by_session<0.05))\n",
    "    info_by_session_means['significant_regressions'] = significant_regressions \n",
    "    \n",
    "    #proportion of significant regressions \n",
    "    percent_significant = (significant_regressions/len(F_stats_by_session))*100\n",
    "    info_by_session_means['percent_significant'] = percent_significant\n",
    "    #print('percent significant')\n",
    "    #print(percent_significant)\n",
    "    grouped_info[session] = info_by_session\n",
    "    grouped_info_means[session] = info_by_session_means\n",
    "    \n",
    "grouped_info_means = pd.DataFrame(grouped_info_means)\n",
    "grouped_info = pd.DataFrame(grouped_info_means)"
   ]
  },
  {
   "cell_type": "code",
   "execution_count": null,
   "metadata": {},
   "outputs": [],
   "source": [
    "failed"
   ]
  },
  {
   "cell_type": "code",
   "execution_count": null,
   "metadata": {
    "scrolled": false
   },
   "outputs": [],
   "source": [
    "grouped_info_means"
   ]
  },
  {
   "cell_type": "markdown",
   "metadata": {},
   "source": [
    "## regression analysis "
   ]
  },
  {
   "cell_type": "code",
   "execution_count": null,
   "metadata": {},
   "outputs": [],
   "source": [
    "grouped_info_means.mean(axis=1)"
   ]
  },
  {
   "cell_type": "code",
   "execution_count": null,
   "metadata": {
    "scrolled": true
   },
   "outputs": [],
   "source": [
    "plt.scatter(np.ones(len(grouped_info_means.loc['percent_significant'].values)), grouped_info_means.loc['percent_significant'].values)"
   ]
  },
  {
   "cell_type": "code",
   "execution_count": null,
   "metadata": {
    "scrolled": true
   },
   "outputs": [],
   "source": [
    "#grouped_info_means.loc['R-squared_mean']\n",
    "plt.scatter(np.ones(len(grouped_info_means.loc['R-squared_mean'].values)), grouped_info_means.loc['R-squared_mean'].values)"
   ]
  },
  {
   "cell_type": "markdown",
   "metadata": {},
   "source": [
    "# triggered averaging "
   ]
  },
  {
   "cell_type": "code",
   "execution_count": null,
   "metadata": {},
   "outputs": [],
   "source": [
    "#if using normed df\n",
    "#df_for_averaging = C_z_scored.apply(utils_jjm.normalize)"
   ]
  },
  {
   "cell_type": "code",
   "execution_count": null,
   "metadata": {},
   "outputs": [],
   "source": [
    "#spatial_components_by_session['GRIN013_H13_M33_S54']['spatial_components']"
   ]
  },
  {
   "cell_type": "code",
   "execution_count": null,
   "metadata": {},
   "outputs": [],
   "source": [
    "#cell_contours, x, y, cell_dims = utils_jjm.create_contour_layouts(spatial_components_by_session['GRIN013_H13_M33_S54']['spatial_components'])"
   ]
  },
  {
   "cell_type": "code",
   "execution_count": 16,
   "metadata": {},
   "outputs": [
    {
     "name": "stdout",
     "output_type": "stream",
     "text": [
      "GRIN013_H13_M33_S54\n",
      "GRIN027_H13_M29_S44\n",
      "GRIN026_H16_M35_S34\n",
      "GRIN033_H14_M34_S32\n",
      "GRIN033_H13_M42_S33\n",
      "GRIN032_H17_M30_S22\n",
      "GRIN032_H16_M49_S22\n",
      "GRIN034_H15_M28_S2\n",
      "GRIN034_H16_M13_S22\n",
      "GRIN034_H19_M0_S18\n",
      "GRIN035_H13_M50_S58\n",
      "GRIN035_H13_M31_S20\n",
      "GRIN035_H14_M40_S34\n"
     ]
    }
   ],
   "source": [
    "avged_by_session = {}\n",
    "for session in list(group_results_binning.keys()):\n",
    "    print(session)\n",
    "    # downsample velocity and pick maximum values within 200msec \n",
    "    new_sampling_interval = 2\n",
    "    interpolated = group_results_binning[session]['tracking_data'].set_index(pd.to_timedelta(np.linspace(0, len(group_results_binning[session]['tracking_data'])*(1/20), \n",
    "                                                                                                len(group_results_binning[session]['tracking_data'])), unit='s'), drop=True)\n",
    "    interpolated_downsampled = interpolated.resample(str(new_sampling_interval)+'S').max()\n",
    "    # bin by activity threshold (body_part, resting_time_threshold, active_time_threshold, resting_threshold, activity_threshold)\n",
    "    binned_velocity = dlc_utils.bin_by_activity_threshold(interpolated['tail_base'], 40, 20, 0.5, 0.5)\n",
    "    transition_indicies = utils_jjm.select_trigger_regions(binned_velocity, 0.5, 0.5, 40)\n",
    "    \n",
    "    ##aligning to fluorescence trace\n",
    "    C_z_scored_session_input = group_results_binning[session]['C_z_scored']\n",
    "    #filter out small cells\n",
    "    cell_contours, x, y, cell_dims = utils_jjm.create_contour_layouts(spatial_components_by_session[session]['spatial_components'])\n",
    "    C_z_scored_session = utils_jjm.filter_out_by_size(C_z_scored_session_input, cell_contours, cell_dims, 0.6, 100)\n",
    "\n",
    "    #if using normed df\n",
    "    #df_for_averaging = C_z_scored_session.apply(utils_jjm.normalize)\n",
    "    df_for_averaging = C_z_scored_session\n",
    "    threshold_regions_df = utils_jjm.average_triggered_regions(df_for_averaging, transition_indicies, 40) \n",
    "    relative_triggered_df = utils_jjm.adjust_triggered_average_plots(binned_velocity, df_for_averaging, threshold_regions_df)\n",
    "    avged_by_session[session] = relative_triggered_df "
   ]
  },
  {
   "cell_type": "code",
   "execution_count": 17,
   "metadata": {},
   "outputs": [
    {
     "data": {
      "image/png": "[encoded data removed]",
      "text/plain": [
       "<Figure size 432x288 with 1 Axes>"
      ]
     },
     "metadata": {
      "needs_background": "light"
     },
     "output_type": "display_data"
    }
   ],
   "source": [
    "plt.plot(avged_by_session[list(avged_by_session.keys())[4]].mean(axis=1))\n",
    "plt.show()"
   ]
  },
  {
   "cell_type": "code",
   "execution_count": 18,
   "metadata": {
    "scrolled": true
   },
   "outputs": [
    {
     "data": {
      "text/plain": [
       "['GRIN032', 'GRIN013', 'GRIN027', 'GRIN033', 'GRIN035', 'GRIN034', 'GRIN026']"
      ]
     },
     "execution_count": 18,
     "metadata": {},
     "output_type": "execute_result"
    }
   ],
   "source": [
    "list(set([session[0:7] for session in list(avged_by_session.keys())]))"
   ]
  },
  {
   "cell_type": "code",
   "execution_count": 19,
   "metadata": {},
   "outputs": [],
   "source": [
    "#concat by mouse \n",
    "concacted = {}\n",
    "for mouse in list(set([session[0:7] for session in list(avged_by_session.keys())])):\n",
    "    dfs_by_mouse = []\n",
    "    for session in list(avged_by_session.keys()):\n",
    "        if mouse in session:\n",
    "            dfs_by_mouse.append(avged_by_session[session].mean(axis=1))\n",
    "    concacted[mouse] = pd.DataFrame(np.transpose(dfs_by_mouse)).mean(axis=1)\n",
    "by_mouse_df = pd.DataFrame(concacted)"
   ]
  },
  {
   "cell_type": "code",
   "execution_count": 26,
   "metadata": {},
   "outputs": [],
   "source": [
    "std_error = (by_mouse_df.std(axis=1)/math.sqrt(len(by_mouse_df))).values\n",
    "mean = by_mouse_df.mean(axis=1)\n",
    "x = np.linspace(-2, 2, 80)"
   ]
  },
  {
   "cell_type": "code",
   "execution_count": 32,
   "metadata": {},
   "outputs": [
    {
     "data": {
      "image/png": "[encoded data removed]",
      "text/plain": [
       "<Figure size 432x288 with 1 Axes>"
      ]
     },
     "metadata": {
      "needs_background": "light"
     },
     "output_type": "display_data"
    }
   ],
   "source": [
    "plt.plot(x, mean)\n",
    "plt.fill_between(x,mean-std_error, mean+std_error)\n",
    "ax = plt.gca()\n",
    "ax.set_ylabel('fluorescence Z-Score (fold change)')\n",
    "ax.set_xlabel('time from motion onset (sec)')\n",
    "plt.draw()\n",
    "plt.savefig('/home/jma819/presentation_files/wt_triggered_average.svg', transparent=True, format=\"svg\")"
   ]
  },
  {
   "cell_type": "markdown",
   "metadata": {},
   "source": [
    "## for group spatial clustering"
   ]
  },
  {
   "cell_type": "code",
   "execution_count": 10,
   "metadata": {},
   "outputs": [],
   "source": [
    "#get spatial components by group\n",
    "spatial_components_by_session = {}\n",
    "for cnmfe_file, tracking_file in zip(CNMFE_dir_paths_list, tracking_files):\n",
    "    com_df, spatial_components = utils_jjm.return_spatial_info(cnmfe_file, 0.6)\n",
    "    spatial_components_by_session[tracking_file.split('/')[-2]] = {'com' : com_df, 'spatial_components' : spatial_components}\n",
    "\n"
   ]
  },
  {
   "cell_type": "code",
   "execution_count": 11,
   "metadata": {},
   "outputs": [
    {
     "data": {
      "text/plain": [
       "dict_keys(['GRIN013_H13_M33_S54', 'GRIN027_H13_M29_S44', 'GRIN026_H16_M35_S34', 'GRIN033_H14_M34_S32', 'GRIN033_H13_M42_S33', 'GRIN032_H17_M30_S22', 'GRIN032_H16_M49_S22', 'GRIN034_H15_M28_S2', 'GRIN034_H16_M13_S22', 'GRIN034_H19_M0_S18', 'GRIN035_H13_M50_S58', 'GRIN035_H13_M31_S20', 'GRIN035_H14_M40_S34'])"
      ]
     },
     "execution_count": 11,
     "metadata": {},
     "output_type": "execute_result"
    }
   ],
   "source": [
    "spatial_components_by_session.keys()"
   ]
  },
  {
   "cell_type": "code",
   "execution_count": null,
   "metadata": {},
   "outputs": [],
   "source": [
    "#spatial_components_by_session['GRIN013_H13_M33_S54']['com']\n",
    "#group_results_binning['GRIN013_H13_M33_S54']['C_z_scored']"
   ]
  },
  {
   "cell_type": "code",
   "execution_count": null,
   "metadata": {},
   "outputs": [],
   "source": [
    "## clustering across session\n",
    "clustering_info = {}\n",
    "fluoresence_bin_width = 20\n",
    "Z_score_threshold = 3\n",
    "for recording_session in list(spatial_components_by_session.keys()):\n",
    "    #pairwise_distance\n",
    "    pairwise_distance = utils_jjm.get_pairwise_distance_by_session(spatial_components_by_session[recording_session]['com'])\n",
    "    #filter out small cells\n",
    "    C_z_scored_session_input = group_results_binning[session]['C_z_scored']\n",
    "    cell_contours, x, y, cell_dims = utils_jjm.create_contour_layouts(spatial_components_by_session[session]['spatial_components'])\n",
    "    C_z_scored_session = utils_jjm.filter_out_by_size(C_z_scored_session_input, cell_contours, cell_dims, 0.6, 100)\n",
    "    \n",
    "    #binned fluorescence\n",
    "    C_z_scored_binned = group_results_binning[recording_session]['C_z_scored'].apply(utils_jjm.binning_function_uncrop, args=[fluoresence_bin_width, Z_score_threshold])\n",
    "    C_z_scored_binned.drop(['msCamFrame'], axis=1, inplace=True)\n",
    "    # get linear pairwise correlation coefficients\n",
    "    pairwise_pearson = utils_jjm.get_linear_pairwise_correlation_coefficients(C_z_scored_binned, spatial_components_by_session[recording_session]['com'])\n",
    "    clustering_info[recording_session] = {'pairwise_distance' : pairwise_distance, 'C_z_scored_binned' : C_z_scored_binned, 'pairwise_pearson' : pairwise_pearson}"
   ]
  },
  {
   "cell_type": "code",
   "execution_count": null,
   "metadata": {
    "scrolled": true
   },
   "outputs": [],
   "source": [
    "#clustering_info[list(spatial_components_by_session.keys())[0]]['pairwise_distance']"
   ]
  },
  {
   "cell_type": "code",
   "execution_count": null,
   "metadata": {},
   "outputs": [],
   "source": [
    "#clustering_info['GRIN034_H15_M28_S2']['pairwise_pearson']"
   ]
  },
  {
   "cell_type": "code",
   "execution_count": null,
   "metadata": {
    "scrolled": true
   },
   "outputs": [],
   "source": [
    "session = 7\n",
    "plt.scatter(clustering_info[list(spatial_components_by_session.keys())[session]]['pairwise_distance'].values, \n",
    "         clustering_info[list(spatial_components_by_session.keys())[session]]['pairwise_pearson'].values)\n",
    "plt.show()"
   ]
  },
  {
   "cell_type": "code",
   "execution_count": null,
   "metadata": {
    "scrolled": true
   },
   "outputs": [],
   "source": [
    "#clustering_info[list(spatial_components_by_session.keys())[0]]['pairwise_distance']"
   ]
  },
  {
   "cell_type": "code",
   "execution_count": null,
   "metadata": {},
   "outputs": [],
   "source": [
    "#clustering_info[list(spatial_components_by_session.keys())[0]]['pairwise_distance'].values[0]"
   ]
  },
  {
   "cell_type": "code",
   "execution_count": null,
   "metadata": {},
   "outputs": [],
   "source": [
    "#run regressions\n",
    "regressions_by_session = {}\n",
    "for cnmfe_file in list(spatial_components_by_session.keys()):\n",
    "    try:\n",
    "        regressions_by_session[cnmfe_file] = utils_jjm.store_regression_info_per_session(clustering_info[cnmfe_file]['pairwise_pearson'].values[0], \n",
    "                                                                                         clustering_info[cnmfe_file]['pairwise_distance'].values[0], 2)\n",
    "        #print(cnmfe_file)\n",
    "    except ValueError:\n",
    "        pass"
   ]
  },
  {
   "cell_type": "code",
   "execution_count": null,
   "metadata": {},
   "outputs": [],
   "source": [
    "trendlines = pd.DataFrame(np.transpose([regressions_by_session[session]['p1d'](np.linspace(0, 400, 400)) for session in regressions_by_session.keys()]), \n",
    "             columns=regressions_by_session.keys())"
   ]
  },
  {
   "cell_type": "code",
   "execution_count": null,
   "metadata": {},
   "outputs": [],
   "source": [
    "plt.plot(trendlines.mean(axis=1))\n",
    "plt.show()"
   ]
  },
  {
   "cell_type": "code",
   "execution_count": null,
   "metadata": {},
   "outputs": [],
   "source": [
    "#clustering during rest or movement\n",
    "clustering_by_v = {}\n",
    "velocity_threshold = 2\n",
    "for cnmfe_file in list(spatial_components_by_session.keys()):\n",
    "    indicies_to_match = interpolated.iloc[0:len(C_z_scored_binned)][interpolated.iloc[0:len(C_z_scored_binned)]['centroid']>velocity_threshold].index\n",
    "    C_z_scored_by_v = clustering_info[cnmfe_file.split('/')[-2]]['C_z_scored_binned'].iloc[[interpolated.index.get_loc(value) for value in indicies_to_match]]\n",
    "    pairwise_pearson = utils_jjm.get_linear_pairwise_correlation_coefficients(C_z_scored_by_v, spatial_components_by_session[cnmfe_file.split('/')[-2]])\n",
    "    clustering_by_v[spatial_components_by_session[cnmfe_file.split('/')[-2]]] = pairwise_pearson"
   ]
  }
 ],
 "metadata": {
  "kernelspec": {
   "display_name": "caiman",
   "language": "python",
   "name": "caiman"
  },
  "language_info": {
   "codemirror_mode": {
    "name": "ipython",
    "version": 3
   },
   "file_extension": ".py",
   "mimetype": "text/x-python",
   "name": "python",
   "nbconvert_exporter": "python",
   "pygments_lexer": "ipython3",
   "version": "3.6.7"
  }
 },
 "nbformat": 4,
 "nbformat_minor": 2
}
