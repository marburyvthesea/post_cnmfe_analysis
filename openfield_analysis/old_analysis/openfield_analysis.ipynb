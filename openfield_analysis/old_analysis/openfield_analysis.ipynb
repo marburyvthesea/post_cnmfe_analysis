{
 "cells": [
  {
   "cell_type": "code",
   "execution_count": 1,
   "metadata": {
    "scrolled": true
   },
   "outputs": [
    {
     "data": {
      "text/html": [
       "<style>.container { width:90% !important; }</style>"
      ],
      "text/plain": [
       "<IPython.core.display.HTML object>"
      ]
     },
     "metadata": {},
     "output_type": "display_data"
    },
    {
     "name": "stderr",
     "output_type": "stream",
     "text": [
      "/Users/johnmarshall/anaconda3/envs/caiman/lib/python3.6/site-packages/sklearn/utils/deprecation.py:144: FutureWarning: The sklearn.decomposition.incremental_pca module is  deprecated in version 0.22 and will be removed in version 0.24. The corresponding classes / functions should instead be imported from sklearn.decomposition. Anything that cannot be imported from sklearn.decomposition is now part of the private API.\n",
      "  warnings.warn(message, FutureWarning)\n",
      "/Users/johnmarshall/anaconda3/envs/caiman/lib/python3.6/site-packages/tensorflow/python/framework/dtypes.py:526: FutureWarning: Passing (type, 1) or '1type' as a synonym of type is deprecated; in a future version of numpy, it will be understood as (type, (1,)) / '(1,)type'.\n",
      "  _np_qint8 = np.dtype([(\"qint8\", np.int8, 1)])\n",
      "/Users/johnmarshall/anaconda3/envs/caiman/lib/python3.6/site-packages/tensorflow/python/framework/dtypes.py:527: FutureWarning: Passing (type, 1) or '1type' as a synonym of type is deprecated; in a future version of numpy, it will be understood as (type, (1,)) / '(1,)type'.\n",
      "  _np_quint8 = np.dtype([(\"quint8\", np.uint8, 1)])\n",
      "/Users/johnmarshall/anaconda3/envs/caiman/lib/python3.6/site-packages/tensorflow/python/framework/dtypes.py:528: FutureWarning: Passing (type, 1) or '1type' as a synonym of type is deprecated; in a future version of numpy, it will be understood as (type, (1,)) / '(1,)type'.\n",
      "  _np_qint16 = np.dtype([(\"qint16\", np.int16, 1)])\n",
      "/Users/johnmarshall/anaconda3/envs/caiman/lib/python3.6/site-packages/tensorflow/python/framework/dtypes.py:529: FutureWarning: Passing (type, 1) or '1type' as a synonym of type is deprecated; in a future version of numpy, it will be understood as (type, (1,)) / '(1,)type'.\n",
      "  _np_quint16 = np.dtype([(\"quint16\", np.uint16, 1)])\n",
      "/Users/johnmarshall/anaconda3/envs/caiman/lib/python3.6/site-packages/tensorflow/python/framework/dtypes.py:530: FutureWarning: Passing (type, 1) or '1type' as a synonym of type is deprecated; in a future version of numpy, it will be understood as (type, (1,)) / '(1,)type'.\n",
      "  _np_qint32 = np.dtype([(\"qint32\", np.int32, 1)])\n",
      "/Users/johnmarshall/anaconda3/envs/caiman/lib/python3.6/site-packages/tensorflow/python/framework/dtypes.py:535: FutureWarning: Passing (type, 1) or '1type' as a synonym of type is deprecated; in a future version of numpy, it will be understood as (type, (1,)) / '(1,)type'.\n",
      "  np_resource = np.dtype([(\"resource\", np.ubyte, 1)])\n"
     ]
    }
   ],
   "source": [
    "from IPython.core.display import display, HTML\n",
    "display(HTML(\"<style>.container { width:90% !important; }</style>\"))\n",
    "import numpy as np\n",
    "import pandas as pd\n",
    "import h5py\n",
    "from tqdm import tqdm\n",
    "import scipy.io as sio\n",
    "from scipy import stats\n",
    "from importlib import reload\n",
    "from matplotlib import pyplot as plt\n",
    "import sys\n",
    "sys.path.append('/Users/johnmarshall/Documents/Analysis/PythonAnalysisScripts/post_cmfe_analysis/')\n",
    "import python_utils_jjm as utils_jjm\n",
    "import dlc_utils\n",
    "import caiman"
   ]
  },
  {
   "cell_type": "code",
   "execution_count": 5,
   "metadata": {
    "scrolled": true
   },
   "outputs": [
    {
     "data": {
      "text/plain": [
       "<module 'dlc_utils' from '/Users/johnmarshall/Documents/Analysis/PythonAnalysisScripts/post_cmfe_analysis/dlc_utils.py'>"
      ]
     },
     "execution_count": 5,
     "metadata": {},
     "output_type": "execute_result"
    }
   ],
   "source": [
    "reload(dlc_utils)"
   ]
  },
  {
   "cell_type": "code",
   "execution_count": 2,
   "metadata": {},
   "outputs": [
    {
     "ename": "NotImplementedError",
     "evalue": "Please use HDF reader for matlab v7.3 files",
     "output_type": "error",
     "traceback": [
      "\u001b[0;31m---------------------------------------------------------------------------\u001b[0m",
      "\u001b[0;31mNotImplementedError\u001b[0m                       Traceback (most recent call last)",
      "\u001b[0;32m<ipython-input-2-83f7057abdde>\u001b[0m in \u001b[0;36m<module>\u001b[0;34m\u001b[0m\n\u001b[1;32m      1\u001b[0m \u001b[0;31m#cnmfe data\u001b[0m\u001b[0;34m\u001b[0m\u001b[0;34m\u001b[0m\u001b[0;34m\u001b[0m\u001b[0m\n\u001b[1;32m      2\u001b[0m \u001b[0mdir_path_cnmfe\u001b[0m \u001b[0;34m=\u001b[0m \u001b[0;34m'/Volumes/My_Passport/cnmfe_analysis_files/batch_output_files/31-Jan_00_12_24.mat'\u001b[0m\u001b[0;34m\u001b[0m\u001b[0;34m\u001b[0m\u001b[0m\n\u001b[0;32m----> 3\u001b[0;31m \u001b[0mCNMFE_results\u001b[0m \u001b[0;34m=\u001b[0m \u001b[0msio\u001b[0m\u001b[0;34m.\u001b[0m\u001b[0mloadmat\u001b[0m\u001b[0;34m(\u001b[0m\u001b[0mdir_path_cnmfe\u001b[0m\u001b[0;34m)\u001b[0m\u001b[0;34m\u001b[0m\u001b[0;34m\u001b[0m\u001b[0m\n\u001b[0m",
      "\u001b[0;32m~/anaconda3/envs/caiman/lib/python3.6/site-packages/scipy/io/matlab/mio.py\u001b[0m in \u001b[0;36mloadmat\u001b[0;34m(file_name, mdict, appendmat, **kwargs)\u001b[0m\n\u001b[1;32m    215\u001b[0m     \u001b[0mvariable_names\u001b[0m \u001b[0;34m=\u001b[0m \u001b[0mkwargs\u001b[0m\u001b[0;34m.\u001b[0m\u001b[0mpop\u001b[0m\u001b[0;34m(\u001b[0m\u001b[0;34m'variable_names'\u001b[0m\u001b[0;34m,\u001b[0m \u001b[0;32mNone\u001b[0m\u001b[0;34m)\u001b[0m\u001b[0;34m\u001b[0m\u001b[0;34m\u001b[0m\u001b[0m\n\u001b[1;32m    216\u001b[0m     \u001b[0;32mwith\u001b[0m \u001b[0m_open_file_context\u001b[0m\u001b[0;34m(\u001b[0m\u001b[0mfile_name\u001b[0m\u001b[0;34m,\u001b[0m \u001b[0mappendmat\u001b[0m\u001b[0;34m)\u001b[0m \u001b[0;32mas\u001b[0m \u001b[0mf\u001b[0m\u001b[0;34m:\u001b[0m\u001b[0;34m\u001b[0m\u001b[0;34m\u001b[0m\u001b[0m\n\u001b[0;32m--> 217\u001b[0;31m         \u001b[0mMR\u001b[0m\u001b[0;34m,\u001b[0m \u001b[0m_\u001b[0m \u001b[0;34m=\u001b[0m \u001b[0mmat_reader_factory\u001b[0m\u001b[0;34m(\u001b[0m\u001b[0mf\u001b[0m\u001b[0;34m,\u001b[0m \u001b[0;34m**\u001b[0m\u001b[0mkwargs\u001b[0m\u001b[0;34m)\u001b[0m\u001b[0;34m\u001b[0m\u001b[0;34m\u001b[0m\u001b[0m\n\u001b[0m\u001b[1;32m    218\u001b[0m         \u001b[0mmatfile_dict\u001b[0m \u001b[0;34m=\u001b[0m \u001b[0mMR\u001b[0m\u001b[0;34m.\u001b[0m\u001b[0mget_variables\u001b[0m\u001b[0;34m(\u001b[0m\u001b[0mvariable_names\u001b[0m\u001b[0;34m)\u001b[0m\u001b[0;34m\u001b[0m\u001b[0;34m\u001b[0m\u001b[0m\n\u001b[1;32m    219\u001b[0m \u001b[0;34m\u001b[0m\u001b[0m\n",
      "\u001b[0;32m~/anaconda3/envs/caiman/lib/python3.6/site-packages/scipy/io/matlab/mio.py\u001b[0m in \u001b[0;36mmat_reader_factory\u001b[0;34m(file_name, appendmat, **kwargs)\u001b[0m\n\u001b[1;32m     76\u001b[0m         \u001b[0;32mreturn\u001b[0m \u001b[0mMatFile5Reader\u001b[0m\u001b[0;34m(\u001b[0m\u001b[0mbyte_stream\u001b[0m\u001b[0;34m,\u001b[0m \u001b[0;34m**\u001b[0m\u001b[0mkwargs\u001b[0m\u001b[0;34m)\u001b[0m\u001b[0;34m,\u001b[0m \u001b[0mfile_opened\u001b[0m\u001b[0;34m\u001b[0m\u001b[0;34m\u001b[0m\u001b[0m\n\u001b[1;32m     77\u001b[0m     \u001b[0;32melif\u001b[0m \u001b[0mmjv\u001b[0m \u001b[0;34m==\u001b[0m \u001b[0;36m2\u001b[0m\u001b[0;34m:\u001b[0m\u001b[0;34m\u001b[0m\u001b[0;34m\u001b[0m\u001b[0m\n\u001b[0;32m---> 78\u001b[0;31m         \u001b[0;32mraise\u001b[0m \u001b[0mNotImplementedError\u001b[0m\u001b[0;34m(\u001b[0m\u001b[0;34m'Please use HDF reader for matlab v7.3 files'\u001b[0m\u001b[0;34m)\u001b[0m\u001b[0;34m\u001b[0m\u001b[0;34m\u001b[0m\u001b[0m\n\u001b[0m\u001b[1;32m     79\u001b[0m     \u001b[0;32melse\u001b[0m\u001b[0;34m:\u001b[0m\u001b[0;34m\u001b[0m\u001b[0;34m\u001b[0m\u001b[0m\n\u001b[1;32m     80\u001b[0m         \u001b[0;32mraise\u001b[0m \u001b[0mTypeError\u001b[0m\u001b[0;34m(\u001b[0m\u001b[0;34m'Did not recognize version %s'\u001b[0m \u001b[0;34m%\u001b[0m \u001b[0mmjv\u001b[0m\u001b[0;34m)\u001b[0m\u001b[0;34m\u001b[0m\u001b[0;34m\u001b[0m\u001b[0m\n",
      "\u001b[0;31mNotImplementedError\u001b[0m: Please use HDF reader for matlab v7.3 files"
     ]
    }
   ],
   "source": [
    "#cnmfe data\n",
    "dir_path_cnmfe = '/Volumes/My_Passport/cnmfe_analysis_files/batch_output_files/31-Jan_00_12_24.mat' \n",
    "CNMFE_results = sio.loadmat(dir_path_cnmfe)"
   ]
  },
  {
   "cell_type": "code",
   "execution_count": 9,
   "metadata": {},
   "outputs": [],
   "source": [
    "#behavior results\n",
    "interpolated = pd.read_csv('/volumes/My_Passport/dlc_analysis/behavcamvideos/GRIN026_H16_M35_S34/GRIN026_H16_M35_S34_dlc_tracking_foranalysis.csv')\n",
    "interpolated.set_index('Unnamed: 0', inplace=True)\n",
    "interpolated.index.rename('time(sec)', inplace=True)"
   ]
  },
  {
   "cell_type": "code",
   "execution_count": 10,
   "metadata": {},
   "outputs": [],
   "source": [
    "interpolated['msCam_index'] = np.linspace(0, len(interpolated)-1, len(interpolated))"
   ]
  },
  {
   "cell_type": "code",
   "execution_count": 50,
   "metadata": {},
   "outputs": [
    {
     "data": {
      "text/plain": [
       "array([0.08249881, 0.08389108, 0.08528335, 0.08667562, 0.08806789,\n",
       "       0.08946016, 0.09085242, 0.09224469, 0.09363696, 0.09502923])"
      ]
     },
     "execution_count": 50,
     "metadata": {},
     "output_type": "execute_result"
    }
   ],
   "source": [
    "interpolated['centroid'].values[0:10]"
   ]
  },
  {
   "cell_type": "code",
   "execution_count": 12,
   "metadata": {
    "scrolled": false
   },
   "outputs": [],
   "source": [
    "C_z_scored = utils_jjm.z_score_CNMFE(CNMFE_results['C'])"
   ]
  },
  {
   "cell_type": "code",
   "execution_count": 13,
   "metadata": {},
   "outputs": [],
   "source": [
    "binned_velocity = dlc_utils.bin_by_activity_threshold(interpolated['centroid'], 40, 20, 0.5, 0.5)"
   ]
  },
  {
   "cell_type": "code",
   "execution_count": 20,
   "metadata": {},
   "outputs": [
    {
     "data": {
      "image/png": "[encoded data removed]",
      "text/plain": [
       "<Figure size 432x288 with 1 Axes>"
      ]
     },
     "metadata": {
      "needs_background": "light"
     },
     "output_type": "display_data"
    }
   ],
   "source": [
    "indicies=(0,10000)\n",
    "plt.plot(interpolated['msCam_index'][indicies[0]:indicies[1]], interpolated['centroid'][indicies[0]:indicies[1]])\n",
    "plt.show()"
   ]
  },
  {
   "cell_type": "code",
   "execution_count": 21,
   "metadata": {
    "scrolled": false
   },
   "outputs": [
    {
     "data": {
      "text/plain": [
       "[<matplotlib.lines.Line2D at 0x13ca138d0>]"
      ]
     },
     "execution_count": 21,
     "metadata": {},
     "output_type": "execute_result"
    },
    {
     "data": {
      "image/png": "[encoded data removed]",
      "text/plain": [
       "<Figure size 432x288 with 1 Axes>"
      ]
     },
     "metadata": {
      "needs_background": "light"
     },
     "output_type": "display_data"
    }
   ],
   "source": [
    "plt.plot(binned_velocity[indicies[0]:indicies[1]])"
   ]
  },
  {
   "cell_type": "code",
   "execution_count": 22,
   "metadata": {},
   "outputs": [],
   "source": [
    "#return inidicies where velocity transitions from at least a 1 second resting period \n",
    "transition_indicies = []\n",
    "resting_threshold = 40\n",
    "for point in range(resting_threshold, len(binned_velocity)):\n",
    "    if binned_velocity[point]>0.5 and not any(binned_velocity[point-resting_threshold:point]):\n",
    "           transition_indicies.append(point)"
   ]
  },
  {
   "cell_type": "code",
   "execution_count": 23,
   "metadata": {},
   "outputs": [],
   "source": [
    "#select section of trace 2 seconds around transition periods\n",
    "transition_activity = {}\n",
    "for index in transition_indicies:\n",
    "       transition_activity[index] = C_z_scored.mean(axis=0)[index-40:index+40]\n",
    "threshold_activity_df = pd.DataFrame(transition_activity)"
   ]
  },
  {
   "cell_type": "code",
   "execution_count": 24,
   "metadata": {},
   "outputs": [
    {
     "data": {
      "image/png": "[encoded data removed]",
      "text/plain": [
       "<Figure size 432x288 with 1 Axes>"
      ]
     },
     "metadata": {
      "needs_background": "light"
     },
     "output_type": "display_data"
    }
   ],
   "source": [
    "plt.plot(threshold_activity_df.mean(axis=1))\n",
    "plt.show()"
   ]
  },
  {
   "cell_type": "code",
   "execution_count": 25,
   "metadata": {
    "scrolled": false
   },
   "outputs": [
    {
     "data": {
      "text/plain": [
       "[<matplotlib.lines.Line2D at 0x13f9dd390>]"
      ]
     },
     "execution_count": 25,
     "metadata": {},
     "output_type": "execute_result"
    },
    {
     "data": {
      "image/png": "[encoded data removed]",
      "text/plain": [
       "<Figure size 432x288 with 1 Axes>"
      ]
     },
     "metadata": {
      "needs_background": "light"
     },
     "output_type": "display_data"
    }
   ],
   "source": [
    "plt.plot(C_z_scored.mean(axis=0)[indicies[0]:indicies[1]])"
   ]
  },
  {
   "cell_type": "code",
   "execution_count": 36,
   "metadata": {
    "scrolled": true
   },
   "outputs": [],
   "source": [
    "#return indicies where value is above threshold\n",
    "moving_indicies = np.argwhere(binned_velocity[0:len(C_z_scored.mean(axis=0))]>0.5)\n",
    "#compare df/f for moving and nonmoving periods \n",
    "df_f_moving = np.mean(C_z_scored.mean(axis=0)[moving_indicies])\n",
    "df_f_resting = np.mean(C_z_scored.mean(axis=0)[np.argwhere(binned_velocity[0:25000]<0.5)])"
   ]
  },
  {
   "cell_type": "code",
   "execution_count": 37,
   "metadata": {},
   "outputs": [
    {
     "data": {
      "text/plain": [
       "0.3014343409100791"
      ]
     },
     "execution_count": 37,
     "metadata": {},
     "output_type": "execute_result"
    }
   ],
   "source": [
    "np.mean(C_z_scored.mean(axis=0)[moving_indicies])"
   ]
  },
  {
   "cell_type": "code",
   "execution_count": 38,
   "metadata": {},
   "outputs": [
    {
     "data": {
      "text/plain": [
       "-0.22101841302447287"
      ]
     },
     "execution_count": 38,
     "metadata": {},
     "output_type": "execute_result"
    }
   ],
   "source": [
    "np.mean(C_z_scored.mean(axis=0)[np.argwhere(binned_velocity[0:25000]<0.5)])"
   ]
  },
  {
   "cell_type": "code",
   "execution_count": 46,
   "metadata": {},
   "outputs": [],
   "source": [
    "correlation_coeffs = []\n",
    "for cell in C_z_scored:\n",
    "    correlation_coeffs.append(stats.pearsonr(cell, interpolated['centroid'].values[0:len(cell)]))[0]"
   ]
  },
  {
   "cell_type": "code",
   "execution_count": null,
   "metadata": {},
   "outputs": [],
   "source": [
    "plt.scatter(np.concatenate([np.zeros(len(wt_cell_z_v_linear_r)), np.concatenate([wt_cell_z_v_linear_r, ko_cell_z_v_linear_r]),\n",
    "           s=200, linewidths=.5, edgecolors='k')"
   ]
  },
  {
   "cell_type": "code",
   "execution_count": 47,
   "metadata": {},
   "outputs": [
    {
     "data": {
      "text/plain": [
       "[(0.37150407717182954, 0.0),\n",
       " (0.4166117099992501, 0.0),\n",
       " (0.4794597191982898, 0.0),\n",
       " (0.39321542100288587, 0.0),\n",
       " (0.29797696938082874, 0.0),\n",
       " (0.4413889993983092, 0.0),\n",
       " (0.25743745201067403, 0.0),\n",
       " (0.3406586372177149, 0.0),\n",
       " (0.34941039406864866, 0.0),\n",
       " (0.27567682574238145, 0.0),\n",
       " (0.26169120025902126, 0.0),\n",
       " (0.4115842410800369, 0.0),\n",
       " (0.4323452795348743, 0.0),\n",
       " (0.4038960902682741, 0.0),\n",
       " (0.26007556102486384, 0.0),\n",
       " (0.2884124185913141, 0.0),\n",
       " (0.2030732900044017, 6.223946260175596e-231),\n",
       " (0.24157388299571383, 0.0),\n",
       " (0.31091020341467374, 0.0),\n",
       " (0.4664709405735519, 0.0),\n",
       " (0.3203402277745952, 0.0),\n",
       " (0.3099941126132896, 0.0),\n",
       " (0.416540872801813, 0.0),\n",
       " (0.2434491129130073, 0.0),\n",
       " (0.3532133059013382, 0.0),\n",
       " (0.21388361821376076, 1.5541524109702416e-256),\n",
       " (0.3662943482713438, 0.0),\n",
       " (0.32794680614330934, 0.0),\n",
       " (0.36703031905048183, 0.0),\n",
       " (0.2131593939218389, 8.953256299775205e-255),\n",
       " (0.30523153956977356, 0.0),\n",
       " (0.37339750233101604, 0.0),\n",
       " (0.28070479131224546, 0.0),\n",
       " (0.4107832080276761, 0.0),\n",
       " (0.29328057304114225, 0.0),\n",
       " (0.3094038313793579, 0.0),\n",
       " (0.305302869929508, 0.0),\n",
       " (0.23210090552992113, 5.513836955700054e-303),\n",
       " (0.38858779916115394, 0.0),\n",
       " (0.31626120070033126, 0.0),\n",
       " (0.4161801574072174, 0.0),\n",
       " (0.2614871625431146, 0.0),\n",
       " (0.2731631886679817, 0.0),\n",
       " (0.41845635726466157, 0.0),\n",
       " (0.2177809109391613, 4.0306065070013525e-266),\n",
       " (0.2908248788461194, 0.0),\n",
       " (0.380571889697387, 0.0),\n",
       " (0.3255792285992893, 0.0),\n",
       " (0.34507505276798267, 0.0),\n",
       " (0.4331716150408399, 0.0),\n",
       " (0.34379678833162297, 0.0),\n",
       " (0.2996224045217095, 0.0),\n",
       " (0.17956775032057426, 3.4091033667598016e-180),\n",
       " (0.3950910911637398, 0.0),\n",
       " (0.2594510539857014, 0.0),\n",
       " (0.32747246659548035, 0.0),\n",
       " (0.2424050471744772, 0.0),\n",
       " (0.27024387886809237, 0.0),\n",
       " (0.3754693316301344, 0.0),\n",
       " (0.3813367792029233, 0.0),\n",
       " (0.31292899735412905, 0.0),\n",
       " (0.3311265862088174, 0.0),\n",
       " (0.5416725998242676, 0.0),\n",
       " (0.4421793999260135, 0.0),\n",
       " (0.2898808639954225, 0.0),\n",
       " (0.2230856555502015, 1.7844755141155337e-279),\n",
       " (0.2771765983441523, 0.0),\n",
       " (0.39555610547323505, 0.0),\n",
       " (0.28549023911635363, 0.0),\n",
       " (0.4204746412254498, 0.0),\n",
       " (0.4428836358680269, 0.0),\n",
       " (0.4056053049889137, 0.0),\n",
       " (0.2791055572027673, 0.0),\n",
       " (0.3748518457706925, 0.0),\n",
       " (0.2958528845899293, 0.0),\n",
       " (0.1773823593521925, 8.160408556062625e-176),\n",
       " (0.2746399252278233, 0.0),\n",
       " (0.24781762645629377, 0.0),\n",
       " (0.36381104850632046, 0.0),\n",
       " (0.1809451262246983, 5.537903710974489e-183),\n",
       " (0.35280992434209085, 0.0),\n",
       " (0.3148036356671006, 0.0),\n",
       " (0.2283624693645414, 4.1287655969121183e-293),\n",
       " (0.11967109976930357, 2.1034025994133734e-80),\n",
       " (-0.030826869924326154, 1.0876937910885164e-06)]"
      ]
     },
     "execution_count": 47,
     "metadata": {},
     "output_type": "execute_result"
    }
   ],
   "source": [
    "plt.scatter(np.concatenate([np.zeros(len(wt_cell_z_v_linear_r)),np.ones(len(ko_cell_z_v_linear_r))/2]), np.concatenate([wt_cell_z_v_linear_r, ko_cell_z_v_linear_r]),\n",
    "           s=200, linewidths=.5, edgecolors='k')\n",
    "plt.xlim([-.5, 1])\n",
    "ax = plt.gca()\n",
    "ax.spines[\"top\"].set_visible(False)\n",
    "ax.spines[\"right\"].set_visible(False)\n",
    "ax.spines[\"bottom\"].set_visible(False)\n",
    "plt.xticks([])\n",
    "plt.ylabel('pearsons r (cell fluorescence to velocity)')\n",
    "plt.draw()\n",
    "plt.savefig('/Users/johnmarshall/Documents/Presentations/Dec2019_report/cell_velocity_correlation.png')\n",
    "plt.savefig('/Users/johnmarshall/Documents/Presentations/Dec2019_report/cell_velocity_correlation.svg', transparent=True, format=\"svg\")"
   ]
  },
  {
   "cell_type": "code",
   "execution_count": null,
   "metadata": {},
   "outputs": [],
   "source": []
  }
 ],
 "metadata": {
  "kernelspec": {
   "display_name": "caiman",
   "language": "python",
   "name": "caiman"
  },
  "language_info": {
   "codemirror_mode": {
    "name": "ipython",
    "version": 3
   },
   "file_extension": ".py",
   "mimetype": "text/x-python",
   "name": "python",
   "nbconvert_exporter": "python",
   "pygments_lexer": "ipython3",
   "version": "3.6.7"
  }
 },
 "nbformat": 4,
 "nbformat_minor": 2
}
