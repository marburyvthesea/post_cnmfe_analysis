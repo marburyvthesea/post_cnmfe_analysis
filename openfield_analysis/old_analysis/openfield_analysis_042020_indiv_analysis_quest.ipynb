{
 "cells": [
  {
   "cell_type": "code",
   "execution_count": 1,
   "metadata": {
    "scrolled": true
   },
   "outputs": [
    {
     "data": {
      "text/html": [
       "<style>.container { width:90% !important; }</style>"
      ],
      "text/plain": [
       "<IPython.core.display.HTML object>"
      ]
     },
     "metadata": {},
     "output_type": "display_data"
    },
    {
     "name": "stderr",
     "output_type": "stream",
     "text": [
      "/home/jma819/.conda/envs/caiman/lib/python3.6/site-packages/sklearn/utils/deprecation.py:144: FutureWarning: The sklearn.decomposition.incremental_pca module is  deprecated in version 0.22 and will be removed in version 0.24. The corresponding classes / functions should instead be imported from sklearn.decomposition. Anything that cannot be imported from sklearn.decomposition is now part of the private API.\n",
      "  warnings.warn(message, FutureWarning)\n"
     ]
    }
   ],
   "source": [
    "from IPython.core.display import display, HTML\n",
    "display(HTML(\"<style>.container { width:90% !important; }</style>\"))\n",
    "import numpy as np\n",
    "import pandas as pd\n",
    "import h5py\n",
    "from tqdm import tqdm\n",
    "import scipy.io as sio\n",
    "from scipy import stats\n",
    "from importlib import reload\n",
    "from matplotlib import pyplot as plt\n",
    "import sys\n",
    "sys.path.append('/home/jma819/post_cmfe_analysis')\n",
    "import python_utils_jjm as utils_jjm\n",
    "import dlc_utils\n",
    "import caiman\n",
    "import statsmodels.formula.api as smf\n",
    "import scipy.spatial.distance as dist\n",
    "import itertools"
   ]
  },
  {
   "cell_type": "code",
   "execution_count": 42,
   "metadata": {
    "scrolled": false
   },
   "outputs": [
    {
     "data": {
      "text/plain": [
       "<module 'python_utils_jjm' from '/home/jma819/post_cmfe_analysis/python_utils_jjm.py'>"
      ]
     },
     "execution_count": 42,
     "metadata": {},
     "output_type": "execute_result"
    }
   ],
   "source": [
    "reload(dlc_utils)\n",
    "reload(utils_jjm)"
   ]
  },
  {
   "cell_type": "code",
   "execution_count": 3,
   "metadata": {},
   "outputs": [],
   "source": [
    "#load and prep data\n",
    "dir_path_cnmfe = '/projects/p30771/MATLAB/CNMF_E_jjm/quest_MATLAB_cnmfe/batch_output_files/27-Mar_00_48_46_out.mat'\n",
    "dir_path_tracking = '/projects/p30771/dlc_analysis/openfield_dlc_output/GRIN035_H14_M40_S34/GRIN035_H14_M40_S34_dlc_tracking_foranalysis_04142020.csv'"
   ]
  },
  {
   "cell_type": "code",
   "execution_count": 22,
   "metadata": {},
   "outputs": [],
   "source": [
    "C_z_scored, interpolated = utils_jjm.prepare_timedelta_dfs(dir_path_cnmfe, dir_path_tracking)"
   ]
  },
  {
   "cell_type": "code",
   "execution_count": 5,
   "metadata": {},
   "outputs": [],
   "source": [
    "#spatial components\n",
    "com_df, spatial_components = utils_jjm.return_spatial_info(dir_path_cnmfe, 0.6)"
   ]
  },
  {
   "cell_type": "code",
   "execution_count": 6,
   "metadata": {},
   "outputs": [
    {
     "data": {
      "image/png": "[encoded data removed]",
      "text/plain": [
       "<Figure size 432x288 with 1 Axes>"
      ]
     },
     "metadata": {
      "needs_background": "light"
     },
     "output_type": "display_data"
    }
   ],
   "source": [
    "#spatial contours\n",
    "cell_contours, x, y, cell_dims = utils_jjm.create_contour_layouts(spatial_components)\n",
    "##if plotting\n",
    "to_plot = np.array(list(cell_contours.values()))\n",
    "for i in range(len(to_plot)):\n",
    "    plt.contour(y, x, to_plot[i], [0.6], colors='r')"
   ]
  },
  {
   "cell_type": "code",
   "execution_count": 7,
   "metadata": {},
   "outputs": [],
   "source": [
    "C_z_scored = utils_jjm.filter_out_by_size(C_z_scored, cell_contours, cell_dims, 0.6, 100)"
   ]
  },
  {
   "cell_type": "code",
   "execution_count": 8,
   "metadata": {},
   "outputs": [],
   "source": [
    "to_filter_out = np.array([cell for cell in range(1, len(cell_contours)+1) if len(np.array(np.where(cell_dims[cell]>0.6)[0]))<100])"
   ]
  },
  {
   "cell_type": "code",
   "execution_count": 14,
   "metadata": {},
   "outputs": [
    {
     "data": {
      "text/plain": [
       "array([ 10,  12,  18,  36,  38,  39,  40,  41,  43,  62,  63,  65,  72,\n",
       "        73,  76,  83,  86,  87,  88,  93,  97, 100, 104, 107, 108, 111,\n",
       "       112, 113, 114, 115, 117, 118, 119, 120, 122, 124, 125, 127, 128,\n",
       "       129, 130, 131, 132, 133, 135])"
      ]
     },
     "execution_count": 14,
     "metadata": {},
     "output_type": "execute_result"
    }
   ],
   "source": [
    "to_filter_out"
   ]
  },
  {
   "cell_type": "code",
   "execution_count": 20,
   "metadata": {},
   "outputs": [],
   "source": [
    "#C_z_scored"
   ]
  },
  {
   "cell_type": "code",
   "execution_count": 24,
   "metadata": {},
   "outputs": [],
   "source": [
    "#C_z_scored.drop(list(to_filter_out), axis=1, inplace=True)"
   ]
  },
  {
   "cell_type": "code",
   "execution_count": 31,
   "metadata": {},
   "outputs": [],
   "source": [
    "#com_df.drop(list(to_filter_out), axis=0, inplace=True)"
   ]
  },
  {
   "cell_type": "code",
   "execution_count": 34,
   "metadata": {},
   "outputs": [],
   "source": [
    "#list(com_df.index)"
   ]
  },
  {
   "cell_type": "code",
   "execution_count": null,
   "metadata": {
    "scrolled": true
   },
   "outputs": [],
   "source": [
    "# plotting individual cell fluorescence \n",
    "plt.plot(C_z_scored[10][0:4000])\n",
    "plt.show()"
   ]
  },
  {
   "cell_type": "markdown",
   "metadata": {},
   "source": [
    "## individual cell regression"
   ]
  },
  {
   "cell_type": "code",
   "execution_count": null,
   "metadata": {},
   "outputs": [],
   "source": [
    "if len(C_z_scored) > len(interpolated):\n",
    "    C_z_scored = C_z_scored.iloc[0:len(interpolated)]"
   ]
  },
  {
   "cell_type": "code",
   "execution_count": null,
   "metadata": {},
   "outputs": [],
   "source": [
    "## inputs are downsampling interval, number of bins, body part to use for velocity correlation, velocity dataframe, fluorescence dataframe \n",
    "cells_C_binned_by_V, cells_mean_C_binned_by_V = dlc_utils.downsample_session_and_bin_C_by_V(1, 50, 'centroid', interpolated, C_z_scored)"
   ]
  },
  {
   "cell_type": "code",
   "execution_count": null,
   "metadata": {},
   "outputs": [],
   "source": [
    "regression_results = dlc_utils.create_regression_models_per_cell(cells_mean_C_binned_by_V, 2)"
   ]
  },
  {
   "cell_type": "code",
   "execution_count": null,
   "metadata": {
    "scrolled": true
   },
   "outputs": [],
   "source": [
    "regression_results[2]['statsmodel_results'].summary()"
   ]
  },
  {
   "cell_type": "code",
   "execution_count": null,
   "metadata": {},
   "outputs": [],
   "source": [
    "print(regression_results[cell]['statsmodel_results'].summary().tables[0][0][3].data)"
   ]
  },
  {
   "cell_type": "code",
   "execution_count": null,
   "metadata": {},
   "outputs": [],
   "source": [
    "cell=4\n",
    "#label\n",
    "print(regression_results[cell]['statsmodel_results'].summary().tables[0][3][2].data)\n",
    "#F-stat\n",
    "print(regression_results[cell]['statsmodel_results'].summary().tables[0][3][3].data)\n",
    "xp, p1d = dlc_utils.plot_cell_regression(regression_results, cell, cells_mean_C_binned_by_V)\n",
    "fig = plt.plot(regression_results[cell]['fit_df']['x'].values, regression_results[cell]['fit_df']['y'].values, '.',\n",
    "              xp, p1d(xp), '--')\n"
   ]
  },
  {
   "cell_type": "code",
   "execution_count": null,
   "metadata": {},
   "outputs": [],
   "source": [
    "F_stats = np.array([float(regression_results[cell]['statsmodel_results'].summary().tables[0][3][3].data) for cell in range(1, len(regression_results)+1)])"
   ]
  },
  {
   "cell_type": "code",
   "execution_count": null,
   "metadata": {},
   "outputs": [],
   "source": [
    "# to determine cells with significant quadratic regressions\n",
    "len(np.argwhere(F_stats<0.05))"
   ]
  },
  {
   "cell_type": "markdown",
   "metadata": {},
   "source": [
    "## plotting event averages"
   ]
  },
  {
   "cell_type": "code",
   "execution_count": null,
   "metadata": {},
   "outputs": [],
   "source": [
    "# downsample velocity and pick maximum values within 200msec \n",
    "new_sampling_interval = 2\n",
    "interpolated = interpolated.set_index(pd.to_timedelta(np.linspace(0, len(interpolated)*(1/20), len(interpolated)), unit='s'), drop=True)\n",
    "interpolated_downsampled = interpolated.resample(str(new_sampling_interval)+'S').max()\n",
    "# bin by activity threshold (body_part, resting_time_threshold, active_time_threshold, resting_threshold, activity_threshold)\n",
    "binned_velocity = dlc_utils.bin_by_activity_threshold(interpolated['tail_base'], 40, 20, 0.5, 0.5)"
   ]
  },
  {
   "cell_type": "code",
   "execution_count": null,
   "metadata": {},
   "outputs": [],
   "source": [
    "#plt.plot(binned_velocity[0:4000])\n",
    "transition_indicies = utils_jjm.select_trigger_regions(binned_velocity, 0.5, 0.5, 40)"
   ]
  },
  {
   "cell_type": "code",
   "execution_count": null,
   "metadata": {},
   "outputs": [],
   "source": [
    "threshold_regions_df = utils_jjm.average_triggered_regions(C_z_scored, transition_indicies, 40)"
   ]
  },
  {
   "cell_type": "code",
   "execution_count": null,
   "metadata": {
    "scrolled": true
   },
   "outputs": [],
   "source": [
    "relative_triggered_df = utils_jjm.adjust_triggered_average_plots(binned_velocity, C_z_scored, threshold_regions_df)"
   ]
  },
  {
   "cell_type": "code",
   "execution_count": null,
   "metadata": {},
   "outputs": [],
   "source": [
    "plt.plot(relative_triggered_df.mean(axis=1))\n",
    "plt.show()"
   ]
  },
  {
   "cell_type": "markdown",
   "metadata": {},
   "source": [
    "## spatial clustering "
   ]
  },
  {
   "cell_type": "code",
   "execution_count": 43,
   "metadata": {},
   "outputs": [],
   "source": [
    "# get euclidean distances between cells\n",
    "pairwise_distance = utils_jjm.get_pairwise_distance_by_session(com_df)"
   ]
  },
  {
   "cell_type": "code",
   "execution_count": null,
   "metadata": {},
   "outputs": [],
   "source": [
    "pairwise_distance"
   ]
  },
  {
   "cell_type": "code",
   "execution_count": null,
   "metadata": {},
   "outputs": [],
   "source": [
    "## bin fluorescence data (inputs = [bin_width_samples, z_score_threshold)\n",
    "C_z_scored_binned = C_z_scored.apply(utils_jjm.binning_function_uncrop, args=[20, 3])\n",
    "C_z_scored_binned.drop(['msCamFrame'], axis=1, inplace=True)"
   ]
  },
  {
   "cell_type": "code",
   "execution_count": null,
   "metadata": {},
   "outputs": [],
   "source": [
    "# get linear pairwise correlation coefficients from binned fluoresence data\n",
    "pairwise_pearson = utils_jjm.get_linear_pairwise_correlation_coefficients(C_z_scored_binned, com_df)\n"
   ]
  },
  {
   "cell_type": "code",
   "execution_count": null,
   "metadata": {},
   "outputs": [],
   "source": [
    "pairwise_pearson"
   ]
  },
  {
   "cell_type": "code",
   "execution_count": null,
   "metadata": {},
   "outputs": [],
   "source": [
    "plt.scatter(pairwise_distance.values[0], pairwise_pearson.values[0])\n",
    "plt.show()"
   ]
  },
  {
   "cell_type": "code",
   "execution_count": null,
   "metadata": {},
   "outputs": [],
   "source": [
    "## fit regression\n",
    "deg = 2\n",
    "fit_data = pd.DataFrame(columns=['y', 'x'])\n",
    "fit_data['y'] = pairwise_pearson.values[0]\n",
    "fit_data['x'] = pairwise_distance.values[0]\n",
    "\n",
    "p1d = np.poly1d(np.polyfit(fit_data['x'].values, fit_data['y'].values, deg))\n",
    "model = np.poly1d(np.polyfit(fit_data['x'].values, fit_data['y'].values, deg))\n",
    "results = smf.ols(formula='y ~ model(x)', data=fit_data).fit()\n",
    "\n",
    "xp = np.linspace(0, 400, 400)\n",
    "fig = plt.plot(fit_data['x'].values, fit_data['y'].values, '.',\n",
    "              xp, p1d(xp), '--')"
   ]
  },
  {
   "cell_type": "code",
   "execution_count": null,
   "metadata": {},
   "outputs": [],
   "source": [
    "results.summary()"
   ]
  },
  {
   "cell_type": "code",
   "execution_count": null,
   "metadata": {},
   "outputs": [],
   "source": [
    "# get indicies of interpolated dataframe where mouse is moving \n",
    "indicies_to_match = interpolated.iloc[0:len(C_z_scored_binned)][interpolated.iloc[0:len(C_z_scored_binned)]['centroid']>2].index"
   ]
  },
  {
   "cell_type": "code",
   "execution_count": null,
   "metadata": {
    "scrolled": false
   },
   "outputs": [],
   "source": [
    "C_z_scored_moving = C_z_scored_binned.iloc[[interpolated.index.get_loc(value) for value in indicies_to_match]]"
   ]
  },
  {
   "cell_type": "code",
   "execution_count": null,
   "metadata": {},
   "outputs": [],
   "source": [
    "#C_z_scored_moving"
   ]
  },
  {
   "cell_type": "code",
   "execution_count": null,
   "metadata": {},
   "outputs": [],
   "source": [
    "#plt.plot(interpolated['centroid'].values[0:200])\n",
    "#plt.show()"
   ]
  },
  {
   "cell_type": "code",
   "execution_count": null,
   "metadata": {},
   "outputs": [],
   "source": [
    "#interpolated.loc['00:00:03.550000']"
   ]
  },
  {
   "cell_type": "code",
   "execution_count": null,
   "metadata": {},
   "outputs": [],
   "source": [
    "# get linear pairwise correlation coefficients\n",
    "pairwise_r_correlation_unbinned_moving = {}\n",
    "for pair in itertools.combinations(range(1, len(com_df)+1),2):\n",
    "    pairwise_r_correlation_unbinned_moving[pair] = stats.pearsonr(C_z_scored_moving[pair[0]], C_z_scored_moving[pair[1]])[0]\n",
    "\n",
    "pairwise_pearson_moving = pd.DataFrame(pairwise_r_correlation_unbinned_moving, index=['pairwise_pearson_r'])\n"
   ]
  },
  {
   "cell_type": "code",
   "execution_count": null,
   "metadata": {},
   "outputs": [],
   "source": [
    "plt.scatter(pairwise_distance.values[0], pairwise_pearson_moving.values[0])\n",
    "plt.show()"
   ]
  },
  {
   "cell_type": "code",
   "execution_count": null,
   "metadata": {},
   "outputs": [],
   "source": [
    "## fit regression\n",
    "deg = 2\n",
    "fit_data = pd.DataFrame(columns=['y', 'x'])\n",
    "fit_data['y'] = pairwise_pearson_moving.values[0]\n",
    "fit_data['x'] = pairwise_distance.values[0]\n",
    "\n",
    "p1d = np.poly1d(np.polyfit(fit_data['x'].values, fit_data['y'].values, deg))\n",
    "model = np.poly1d(np.polyfit(fit_data['x'].values, fit_data['y'].values, deg))\n",
    "results = smf.ols(formula='y ~ model(x)', data=fit_data).fit()\n",
    "\n",
    "xp = np.linspace(0, 400, 400)\n",
    "fig = plt.plot(fit_data['x'].values, fit_data['y'].values, '.',\n",
    "              xp, p1d(xp), '--')"
   ]
  },
  {
   "cell_type": "code",
   "execution_count": null,
   "metadata": {},
   "outputs": [],
   "source": [
    "results.summary()"
   ]
  },
  {
   "cell_type": "code",
   "execution_count": null,
   "metadata": {},
   "outputs": [],
   "source": []
  }
 ],
 "metadata": {
  "kernelspec": {
   "display_name": "caiman",
   "language": "python",
   "name": "caiman"
  },
  "language_info": {
   "codemirror_mode": {
    "name": "ipython",
    "version": 3
   },
   "file_extension": ".py",
   "mimetype": "text/x-python",
   "name": "python",
   "nbconvert_exporter": "python",
   "pygments_lexer": "ipython3",
   "version": "3.6.7"
  }
 },
 "nbformat": 4,
 "nbformat_minor": 2
}
