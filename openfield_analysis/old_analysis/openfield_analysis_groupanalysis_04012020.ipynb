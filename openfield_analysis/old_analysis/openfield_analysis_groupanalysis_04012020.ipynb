{
 "cells": [
  {
   "cell_type": "code",
   "execution_count": 1,
   "metadata": {
    "scrolled": true
   },
   "outputs": [
    {
     "data": {
      "text/html": [
       "<style>.container { width:90% !important; }</style>"
      ],
      "text/plain": [
       "<IPython.core.display.HTML object>"
      ]
     },
     "metadata": {},
     "output_type": "display_data"
    },
    {
     "ename": "ModuleNotFoundError",
     "evalue": "No module named 'python_utils_jjm'",
     "output_type": "error",
     "traceback": [
      "\u001b[0;31m---------------------------------------------------------------------------\u001b[0m",
      "\u001b[0;31mModuleNotFoundError\u001b[0m                       Traceback (most recent call last)",
      "\u001b[0;32m<ipython-input-1-65a88096919d>\u001b[0m in \u001b[0;36m<module>\u001b[0;34m\u001b[0m\n\u001b[1;32m     11\u001b[0m \u001b[0;32mimport\u001b[0m \u001b[0msys\u001b[0m\u001b[0;34m\u001b[0m\u001b[0;34m\u001b[0m\u001b[0m\n\u001b[1;32m     12\u001b[0m \u001b[0msys\u001b[0m\u001b[0;34m.\u001b[0m\u001b[0mpath\u001b[0m\u001b[0;34m.\u001b[0m\u001b[0mappend\u001b[0m\u001b[0;34m(\u001b[0m\u001b[0;34m'/Users/johnmarshall/Documents/Analysis/PythonAnalysisScripts/post_cmfe_analysis/'\u001b[0m\u001b[0;34m)\u001b[0m\u001b[0;34m\u001b[0m\u001b[0;34m\u001b[0m\u001b[0m\n\u001b[0;32m---> 13\u001b[0;31m \u001b[0;32mimport\u001b[0m \u001b[0mpython_utils_jjm\u001b[0m \u001b[0;32mas\u001b[0m \u001b[0mutils_jjm\u001b[0m\u001b[0;34m\u001b[0m\u001b[0;34m\u001b[0m\u001b[0m\n\u001b[0m\u001b[1;32m     14\u001b[0m \u001b[0;32mimport\u001b[0m \u001b[0mdlc_utils\u001b[0m\u001b[0;34m\u001b[0m\u001b[0;34m\u001b[0m\u001b[0m\n\u001b[1;32m     15\u001b[0m \u001b[0;32mimport\u001b[0m \u001b[0mcaiman\u001b[0m\u001b[0;34m\u001b[0m\u001b[0;34m\u001b[0m\u001b[0m\n",
      "\u001b[0;31mModuleNotFoundError\u001b[0m: No module named 'python_utils_jjm'"
     ]
    }
   ],
   "source": [
    "from IPython.core.display import display, HTML\n",
    "display(HTML(\"<style>.container { width:90% !important; }</style>\"))\n",
    "import numpy as np\n",
    "import pandas as pd\n",
    "import h5py\n",
    "from tqdm import tqdm\n",
    "import scipy.io as sio\n",
    "from scipy import stats\n",
    "from importlib import reload\n",
    "from matplotlib import pyplot as plt\n",
    "import sys\n",
    "sys.path.append('/Users/johnmarshall/Documents/Analysis/PythonAnalysisScripts/post_cmfe_analysis/')\n",
    "import python_utils_jjm as utils_jjm\n",
    "import dlc_utils\n",
    "import caiman"
   ]
  },
  {
   "cell_type": "code",
   "execution_count": 5,
   "metadata": {
    "scrolled": true
   },
   "outputs": [
    {
     "data": {
      "text/plain": [
       "<module 'dlc_utils' from '/Users/johnmarshall/Documents/Analysis/PythonAnalysisScripts/post_cmfe_analysis/dlc_utils.py'>"
      ]
     },
     "execution_count": 5,
     "metadata": {},
     "output_type": "execute_result"
    }
   ],
   "source": [
    "reload(dlc_utils)"
   ]
  },
  {
   "cell_type": "code",
   "execution_count": 6,
   "metadata": {},
   "outputs": [],
   "source": [
    "wt_cnmfe = ['30-Mar_20_39_05_out.mat', '30-Mar_20_45_16_out.mat', '27-Feb_17_33_59_out.mat', '28-Feb_16_10_05_out.mat', '27-Feb_17_32_15_out.mat', '25-Mar_13_27_27_out.mat', '27-Mar_00_48_46_out.mat']\n",
    "wt_dlc_tracking = ['GRIN013_H13_M33_S54','GRIN027_H13_M29_S44','GRIN026_H16_M35_S34','GRIN033_H13_M42_S33', 'GRIN032_H16_M49_S22','GRIN034_H15_M28_S2','GRIN035_H14_M40_S34']"
   ]
  },
  {
   "cell_type": "code",
   "execution_count": 7,
   "metadata": {},
   "outputs": [],
   "source": [
    "ko_cnmfe = ['29-Mar_21_42_20_out.mat', '29-Mar_14_27_55_out.mat', '29-Mar_13_39_44_out.mat']\n",
    "ko_dlc_tracking = ['GRIN018_H17_M41_S43', 'GRIN011_H10_M19_S59', 'GRIN012_H16_M57_S23']"
   ]
  },
  {
   "cell_type": "code",
   "execution_count": 35,
   "metadata": {},
   "outputs": [
    {
     "name": "stdout",
     "output_type": "stream",
     "text": [
      "GRIN018_H17_M41_S43\n",
      "                 level_0  index  centroid  miniscope_light  ear_right  \\\n",
      "time(sec)                                                               \n",
      "00:00:00           14.70  14.70  2.957956         7.933576   2.172861   \n",
      "00:00:00.050000    16.18  16.18  2.917968         7.748875   2.093636   \n",
      "00:00:00.100000    17.66  17.66  2.877979         7.564174   2.014411   \n",
      "00:00:00.150000    19.14  19.14  2.837990         7.379473   1.935185   \n",
      "00:00:00.200000    20.62  20.62  2.798001         7.194772   1.855960   \n",
      "\n",
      "                 tail_base  ear_left  msCamFrame  msCam_index  \n",
      "time(sec)                                                      \n",
      "00:00:00          0.865862  4.076614         9.5          0.0  \n",
      "00:00:00.050000   0.860235  4.126268        10.5          1.0  \n",
      "00:00:00.100000   0.854609  4.175922        11.5          2.0  \n",
      "00:00:00.150000   0.848982  4.225575        12.5          3.0  \n",
      "00:00:00.200000   0.843355  4.275229        13.5          4.0  \n",
      "21000\n",
      "GRIN011_H10_M19_S59\n",
      "                 level_0    index   centroid  miniscope_light  ear_right  \\\n",
      "time(sec)                                                                  \n",
      "00:00:00         14.5000  14.5000  10.565159        24.730902   9.813184   \n",
      "00:00:00.050000  16.0025  16.0025  10.193342        23.514745   9.729819   \n",
      "00:00:00.100000  17.5050  17.5050   9.821525        22.298588   9.646454   \n",
      "00:00:00.150000  19.0075  19.0075   9.449708        21.082432   9.563089   \n",
      "00:00:00.200000  20.5100  20.5100   9.077891        19.866275   9.479724   \n",
      "\n",
      "                 tail_base   ear_left  msCamFrame  msCam_index  \n",
      "time(sec)                                                       \n",
      "00:00:00          4.863442  12.237736         9.5          0.0  \n",
      "00:00:00.050000   4.660666  11.850803        10.5          1.0  \n",
      "00:00:00.100000   4.457890  11.463870        11.5          2.0  \n",
      "00:00:00.150000   4.255113  11.076937        12.5          3.0  \n",
      "00:00:00.200000   4.052337  10.690004        13.5          4.0  \n",
      "25000\n",
      "GRIN012_H16_M57_S23\n",
      "                 level_0  index  centroid  miniscope_light  ear_right  \\\n",
      "time(sec)                                                               \n",
      "00:00:00            15.7   15.7  0.630323         1.703162   0.831955   \n",
      "00:00:00.050000     17.2   17.2  0.660713         1.826266   0.832541   \n",
      "00:00:00.100000     18.7   18.7  0.691103         1.949370   0.833128   \n",
      "00:00:00.150000     20.2   20.2  0.721494         2.072474   0.833714   \n",
      "00:00:00.200000     21.7   21.7  0.751884         2.195578   0.834300   \n",
      "\n",
      "                 tail_base  ear_left  msCamFrame  msCam_index  \n",
      "time(sec)                                                      \n",
      "00:00:00          0.313092  0.343697         9.5          0.0  \n",
      "00:00:00.050000   0.304652  0.333725        10.5          1.0  \n",
      "00:00:00.100000   0.296211  0.323754        11.5          2.0  \n",
      "00:00:00.150000   0.287771  0.313782        12.5          3.0  \n",
      "00:00:00.200000   0.279330  0.303810        13.5          4.0  \n",
      "20000\n"
     ]
    }
   ],
   "source": [
    "genotype_dict = {}\n",
    "for cnmfe_file, dlc_file in zip(ko_cnmfe, ko_dlc_tracking):\n",
    "\n",
    "    #cnmfe data\n",
    "    dir_path_cnmfe = '/Volumes/My_Passport/cnmfe_analysis_files/batch_output_files/' + cnmfe_file \n",
    "    CNMFE_results = sio.loadmat(dir_path_cnmfe)\n",
    "\n",
    "    #behavior results\n",
    "    interpolated = pd.read_csv('/volumes/My_Passport/dlc_analysis/behavcamvideos/' + dlc_file + '/' + dlc_file +'_dlc_tracking_foranalysis.csv')\n",
    "    interpolated.set_index('Unnamed: 0', inplace=True)\n",
    "    interpolated.index.rename('time(sec)', inplace=True)\n",
    "\n",
    "    interpolated['msCam_index'] = np.linspace(0, len(interpolated)-1, len(interpolated))\n",
    "\n",
    "    #interpolated\n",
    "    print(dlc_file)\n",
    "    print(interpolated.head())\n",
    "    \n",
    "    C_z_scored = utils_jjm.z_score_CNMFE(CNMFE_results['C'])\n",
    "    \n",
    "    print(len(C_z_scored[0]))\n",
    "    \n",
    "    correlation_coeffs = []\n",
    "    try:\n",
    "        for cell in C_z_scored:\n",
    "            #print(len(cell))\n",
    "            velocity = interpolated['centroid'].values\n",
    "            correlation_coeffs.append(stats.pearsonr(cell, velocity[0:len(cell)]))\n",
    "        genotype_dict[dlc_file] = correlation_coeffs\n",
    "    except ValueError: \n",
    "        pass"
   ]
  },
  {
   "cell_type": "code",
   "execution_count": 32,
   "metadata": {},
   "outputs": [],
   "source": [
    "wt_corrs = []\n",
    "for array in list(genotype_dict.keys()):\n",
    "    wt_corrs.append([item[0] for item in genotype_dict[array]])\n",
    "wt_cell_z_v_linear_r = np.concatenate(wt_corrs)"
   ]
  },
  {
   "cell_type": "code",
   "execution_count": 36,
   "metadata": {},
   "outputs": [],
   "source": [
    "ko_corrs = []\n",
    "for array in list(genotype_dict.keys()):\n",
    "    wt_corrs.append([item[0] for item in genotype_dict[array]])\n",
    "ko_cell_z_v_linear_r = np.concatenate(wt_corrs)"
   ]
  },
  {
   "cell_type": "code",
   "execution_count": 37,
   "metadata": {},
   "outputs": [
    {
     "data": {
      "image/png": "[encoded data removed]",
      "text/plain": [
       "<Figure size 432x288 with 1 Axes>"
      ]
     },
     "metadata": {
      "needs_background": "light"
     },
     "output_type": "display_data"
    }
   ],
   "source": [
    "plt.scatter(np.concatenate([np.zeros(len(wt_cell_z_v_linear_r)),np.ones(len(ko_cell_z_v_linear_r))/2]), np.concatenate([wt_cell_z_v_linear_r, ko_cell_z_v_linear_r]),\n",
    "           s=200, linewidths=.5, edgecolors='k')\n",
    "plt.xlim([-.5, 1])\n",
    "ax = plt.gca()\n",
    "ax.spines[\"top\"].set_visible(False)\n",
    "ax.spines[\"right\"].set_visible(False)\n",
    "ax.spines[\"bottom\"].set_visible(False)\n",
    "plt.xticks([])\n",
    "plt.ylabel('pearsons r (cell fluorescence to velocity)')\n",
    "plt.draw()\n",
    "plt.savefig('/Users/johnmarshall/Documents/Presentations/Dec2019_report/cell_velocity_correlation.png')\n",
    "plt.savefig('/Users/johnmarshall/Documents/Presentations/Dec2019_report/cell_velocity_correlation.svg', transparent=True, format=\"svg\")"
   ]
  },
  {
   "cell_type": "code",
   "execution_count": null,
   "metadata": {},
   "outputs": [],
   "source": []
  }
 ],
 "metadata": {
  "kernelspec": {
   "display_name": "caiman",
   "language": "python",
   "name": "caiman"
  },
  "language_info": {
   "codemirror_mode": {
    "name": "ipython",
    "version": 3
   },
   "file_extension": ".py",
   "mimetype": "text/x-python",
   "name": "python",
   "nbconvert_exporter": "python",
   "pygments_lexer": "ipython3",
   "version": "3.6.7"
  }
 },
 "nbformat": 4,
 "nbformat_minor": 2
}
