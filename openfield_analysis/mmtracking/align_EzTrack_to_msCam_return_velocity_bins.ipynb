{
 "cells": [
  {
   "cell_type": "code",
   "execution_count": 700,
   "metadata": {
    "scrolled": true
   },
   "outputs": [
    {
     "name": "stderr",
     "output_type": "stream",
     "text": [
      "C:\\Users\\scanimage\\AppData\\Local\\Temp\\ipykernel_20988\\912229180.py:1: DeprecationWarning: Importing display from IPython.core.display is deprecated since IPython 7.14, please import from IPython display\n",
      "  from IPython.core.display import display, HTML\n"
     ]
    },
    {
     "data": {
      "text/html": [
       "<style>.container { width:90% !important; }</style>"
      ],
      "text/plain": [
       "<IPython.core.display.HTML object>"
      ]
     },
     "metadata": {},
     "output_type": "display_data"
    }
   ],
   "source": [
    "from IPython.core.display import display, HTML\n",
    "display(HTML(\"<style>.container { width:90% !important; }</style>\"))"
   ]
  },
  {
   "cell_type": "code",
   "execution_count": 701,
   "metadata": {
    "scrolled": true
   },
   "outputs": [],
   "source": [
    "import sys\n",
    "import glob\n",
    "import numpy as np\n",
    "import pandas as pd \n",
    "import matplotlib\n",
    "import matplotlib.pyplot as plt\n",
    "sys.path.append(r\"C:\\Users\\scanimage\\Documents\\JJM\\post_cnmfe_analysis\")\n",
    "import dlc_utils as dlc\n",
    "import os\n",
    "import datetime\n",
    "import math\n",
    "from matplotlib.dates import DateFormatter, date2num"
   ]
  },
  {
   "cell_type": "code",
   "execution_count": 702,
   "metadata": {},
   "outputs": [],
   "source": [
    "data_folder = r\"F:\\JJM\\behavCam_videos_for_analysis\\dSPNOpenFieldRecordings\""
   ]
  },
  {
   "cell_type": "code",
   "execution_count": 703,
   "metadata": {},
   "outputs": [],
   "source": [
    "exTrack_location_files = glob.glob(data_folder+ r\"\\\\**\\\\\" + '*LocationOutput.csv')"
   ]
  },
  {
   "cell_type": "code",
   "execution_count": 704,
   "metadata": {},
   "outputs": [
    {
     "name": "stdout",
     "output_type": "stream",
     "text": [
      "F:\\JJM\\behavCam_videos_for_analysis\\dSPNOpenFieldRecordings\\GRIN041_H16_M35_S12\\concactenated_behavCam01_behavCam43_LocationOutput.csv\n"
     ]
    }
   ],
   "source": [
    "sessionPath = exTrack_location_files[25]\n",
    "print(sessionPath)"
   ]
  },
  {
   "cell_type": "code",
   "execution_count": 705,
   "metadata": {},
   "outputs": [
    {
     "data": {
      "text/plain": [
       "'F:\\\\JJM\\\\behavCam_videos_for_analysis\\\\dSPNOpenFieldRecordings\\\\GRIN041_H16_M35_S12\\\\timestamp.dat'"
      ]
     },
     "execution_count": 705,
     "metadata": {},
     "output_type": "execute_result"
    }
   ],
   "source": [
    "'\\\\'.join(sessionPath.split(os.sep)[:-1])+'\\\\timestamp.dat'"
   ]
  },
  {
   "cell_type": "code",
   "execution_count": 706,
   "metadata": {},
   "outputs": [],
   "source": [
    "# load eZ track output and behavior camera timestamps from miniscope software \n",
    "ezTrackOutput = pd.read_csv(sessionPath)\n",
    "timestampfile = pd.read_table('\\\\'.join(sessionPath.split(os.sep)[:-1])+'\\\\timestamp.dat')"
   ]
  },
  {
   "cell_type": "code",
   "execution_count": 707,
   "metadata": {},
   "outputs": [],
   "source": [
    "#ezTrackOutput"
   ]
  },
  {
   "cell_type": "code",
   "execution_count": 708,
   "metadata": {},
   "outputs": [],
   "source": [
    "# separate behavCam time stamps\n",
    "behavCamTimeStamps = timestampfile[timestampfile['camNum'] == 1]"
   ]
  },
  {
   "cell_type": "code",
   "execution_count": 709,
   "metadata": {},
   "outputs": [
    {
     "data": {
      "text/plain": [
       "0            1\n",
       "5            2\n",
       "8            3\n",
       "11           4\n",
       "14           5\n",
       "         ...  \n",
       "64452    22100\n",
       "64455    22101\n",
       "64457    22102\n",
       "64460    22103\n",
       "64463    22104\n",
       "Name: frameNum, Length: 22104, dtype: int64"
      ]
     },
     "execution_count": 709,
     "metadata": {},
     "output_type": "execute_result"
    }
   ],
   "source": [
    "behavCamTimeStamps['frameNum'][0:len(ezTrackOutput)]"
   ]
  },
  {
   "cell_type": "code",
   "execution_count": 710,
   "metadata": {},
   "outputs": [
    {
     "name": "stderr",
     "output_type": "stream",
     "text": [
      "C:\\Users\\scanimage\\AppData\\Local\\Temp\\ipykernel_20988\\501050040.py:4: SettingWithCopyWarning: \n",
      "A value is trying to be set on a copy of a slice from a DataFrame\n",
      "\n",
      "See the caveats in the documentation: https://pandas.pydata.org/pandas-docs/stable/user_guide/indexing.html#returning-a-view-versus-a-copy\n",
      "  behavCamTimes[1] = 0\n"
     ]
    }
   ],
   "source": [
    "# get times of frames\n",
    "behavCamTimes = behavCamTimeStamps['sysClock']\n",
    "# set 1st frame to 0 \n",
    "behavCamTimes[1] = 0 \n",
    "# reset index to 0 \n",
    "behavCamTimes = behavCamTimes.reset_index()"
   ]
  },
  {
   "cell_type": "code",
   "execution_count": 711,
   "metadata": {},
   "outputs": [],
   "source": [
    "# delta T between frames for analyzed videos \n",
    "behavCamFrameTimeDelta = behavCamTimes['sysClock'].diff()[0:len(ezTrackOutput)]"
   ]
  },
  {
   "cell_type": "code",
   "execution_count": 712,
   "metadata": {},
   "outputs": [],
   "source": [
    "# get velocity from frame times \n",
    "velocity = abs(ezTrackOutput['Distance_cm'].diff())/(behavCamFrameTimeDelta/1000)"
   ]
  },
  {
   "cell_type": "code",
   "execution_count": 713,
   "metadata": {},
   "outputs": [],
   "source": [
    "# data frame of mouse velocity \n",
    "veloctiyDataFrame = pd.concat([ezTrackOutput[['Frame', 'X', 'Y', 'Distance_px', 'Distance_cm']], \n",
    "                               behavCamTimes[0:len(ezTrackOutput)]['sysClock'],\n",
    "                               pd.DataFrame(velocity, columns=['Velocity'])], axis=1)"
   ]
  },
  {
   "cell_type": "code",
   "execution_count": 714,
   "metadata": {},
   "outputs": [],
   "source": [
    "#plt.plot(veloctiyDataFrame['sysClock'].diff()[10:500])"
   ]
  },
  {
   "cell_type": "code",
   "execution_count": 715,
   "metadata": {
    "scrolled": true
   },
   "outputs": [
    {
     "data": {
      "text/plain": [
       "-0.00013572204125950055"
      ]
     },
     "execution_count": 715,
     "metadata": {},
     "output_type": "execute_result"
    }
   ],
   "source": [
    "#frame rate for behavCam \n",
    "veloctiyDataFrame['sysClock'].diff().mean()"
   ]
  },
  {
   "cell_type": "code",
   "execution_count": 716,
   "metadata": {},
   "outputs": [
    {
     "data": {
      "text/html": [
       "<div>\n",
       "<style scoped>\n",
       "    .dataframe tbody tr th:only-of-type {\n",
       "        vertical-align: middle;\n",
       "    }\n",
       "\n",
       "    .dataframe tbody tr th {\n",
       "        vertical-align: top;\n",
       "    }\n",
       "\n",
       "    .dataframe thead th {\n",
       "        text-align: right;\n",
       "    }\n",
       "</style>\n",
       "<table border=\"1\" class=\"dataframe\">\n",
       "  <thead>\n",
       "    <tr style=\"text-align: right;\">\n",
       "      <th></th>\n",
       "      <th>Frame</th>\n",
       "      <th>X</th>\n",
       "      <th>Y</th>\n",
       "      <th>Distance_px</th>\n",
       "      <th>Distance_cm</th>\n",
       "      <th>sysClock</th>\n",
       "      <th>Velocity</th>\n",
       "    </tr>\n",
       "  </thead>\n",
       "  <tbody>\n",
       "    <tr>\n",
       "      <th>0 days 00:00:00</th>\n",
       "      <td>0</td>\n",
       "      <td>399.238575</td>\n",
       "      <td>104.533266</td>\n",
       "      <td>0.000000</td>\n",
       "      <td>0.000000</td>\n",
       "      <td>3.0</td>\n",
       "      <td>NaN</td>\n",
       "    </tr>\n",
       "    <tr>\n",
       "      <th>0 days 00:00:00.033333333</th>\n",
       "      <td>1</td>\n",
       "      <td>400.886001</td>\n",
       "      <td>104.621612</td>\n",
       "      <td>1.649793</td>\n",
       "      <td>0.189296</td>\n",
       "      <td>68.0</td>\n",
       "      <td>2.912245</td>\n",
       "    </tr>\n",
       "    <tr>\n",
       "      <th>0 days 00:00:00.066666667</th>\n",
       "      <td>2</td>\n",
       "      <td>399.007282</td>\n",
       "      <td>100.356311</td>\n",
       "      <td>4.660727</td>\n",
       "      <td>0.534768</td>\n",
       "      <td>132.0</td>\n",
       "      <td>5.398005</td>\n",
       "    </tr>\n",
       "    <tr>\n",
       "      <th>0 days 00:00:00.100000</th>\n",
       "      <td>3</td>\n",
       "      <td>396.963570</td>\n",
       "      <td>102.753676</td>\n",
       "      <td>3.150257</td>\n",
       "      <td>0.361458</td>\n",
       "      <td>196.0</td>\n",
       "      <td>2.707971</td>\n",
       "    </tr>\n",
       "    <tr>\n",
       "      <th>0 days 00:00:00.133333333</th>\n",
       "      <td>4</td>\n",
       "      <td>395.847713</td>\n",
       "      <td>97.690610</td>\n",
       "      <td>5.184571</td>\n",
       "      <td>0.594874</td>\n",
       "      <td>260.0</td>\n",
       "      <td>3.647119</td>\n",
       "    </tr>\n",
       "    <tr>\n",
       "      <th>...</th>\n",
       "      <td>...</td>\n",
       "      <td>...</td>\n",
       "      <td>...</td>\n",
       "      <td>...</td>\n",
       "      <td>...</td>\n",
       "      <td>...</td>\n",
       "      <td>...</td>\n",
       "    </tr>\n",
       "    <tr>\n",
       "      <th>0 days 00:23:31.900000</th>\n",
       "      <td>42357</td>\n",
       "      <td>412.672935</td>\n",
       "      <td>80.337184</td>\n",
       "      <td>1.001642</td>\n",
       "      <td>0.114928</td>\n",
       "      <td>NaN</td>\n",
       "      <td>NaN</td>\n",
       "    </tr>\n",
       "    <tr>\n",
       "      <th>0 days 00:23:31.933333333</th>\n",
       "      <td>42358</td>\n",
       "      <td>411.064645</td>\n",
       "      <td>80.045651</td>\n",
       "      <td>1.634499</td>\n",
       "      <td>0.187541</td>\n",
       "      <td>NaN</td>\n",
       "      <td>NaN</td>\n",
       "    </tr>\n",
       "    <tr>\n",
       "      <th>0 days 00:23:31.966666667</th>\n",
       "      <td>42359</td>\n",
       "      <td>412.662142</td>\n",
       "      <td>79.169414</td>\n",
       "      <td>1.822028</td>\n",
       "      <td>0.209058</td>\n",
       "      <td>NaN</td>\n",
       "      <td>NaN</td>\n",
       "    </tr>\n",
       "    <tr>\n",
       "      <th>0 days 00:23:32</th>\n",
       "      <td>42360</td>\n",
       "      <td>413.187491</td>\n",
       "      <td>79.124100</td>\n",
       "      <td>0.527300</td>\n",
       "      <td>0.060502</td>\n",
       "      <td>NaN</td>\n",
       "      <td>NaN</td>\n",
       "    </tr>\n",
       "    <tr>\n",
       "      <th>0 days 00:23:32.033333333</th>\n",
       "      <td>42361</td>\n",
       "      <td>407.471901</td>\n",
       "      <td>80.488311</td>\n",
       "      <td>5.876142</td>\n",
       "      <td>0.674224</td>\n",
       "      <td>NaN</td>\n",
       "      <td>NaN</td>\n",
       "    </tr>\n",
       "  </tbody>\n",
       "</table>\n",
       "<p>42362 rows × 7 columns</p>\n",
       "</div>"
      ],
      "text/plain": [
       "                           Frame           X           Y  Distance_px  \\\n",
       "0 days 00:00:00                0  399.238575  104.533266     0.000000   \n",
       "0 days 00:00:00.033333333      1  400.886001  104.621612     1.649793   \n",
       "0 days 00:00:00.066666667      2  399.007282  100.356311     4.660727   \n",
       "0 days 00:00:00.100000         3  396.963570  102.753676     3.150257   \n",
       "0 days 00:00:00.133333333      4  395.847713   97.690610     5.184571   \n",
       "...                          ...         ...         ...          ...   \n",
       "0 days 00:23:31.900000     42357  412.672935   80.337184     1.001642   \n",
       "0 days 00:23:31.933333333  42358  411.064645   80.045651     1.634499   \n",
       "0 days 00:23:31.966666667  42359  412.662142   79.169414     1.822028   \n",
       "0 days 00:23:32            42360  413.187491   79.124100     0.527300   \n",
       "0 days 00:23:32.033333333  42361  407.471901   80.488311     5.876142   \n",
       "\n",
       "                           Distance_cm  sysClock  Velocity  \n",
       "0 days 00:00:00               0.000000       3.0       NaN  \n",
       "0 days 00:00:00.033333333     0.189296      68.0  2.912245  \n",
       "0 days 00:00:00.066666667     0.534768     132.0  5.398005  \n",
       "0 days 00:00:00.100000        0.361458     196.0  2.707971  \n",
       "0 days 00:00:00.133333333     0.594874     260.0  3.647119  \n",
       "...                                ...       ...       ...  \n",
       "0 days 00:23:31.900000        0.114928       NaN       NaN  \n",
       "0 days 00:23:31.933333333     0.187541       NaN       NaN  \n",
       "0 days 00:23:31.966666667     0.209058       NaN       NaN  \n",
       "0 days 00:23:32               0.060502       NaN       NaN  \n",
       "0 days 00:23:32.033333333     0.674224       NaN       NaN  \n",
       "\n",
       "[42362 rows x 7 columns]"
      ]
     },
     "execution_count": 716,
     "metadata": {},
     "output_type": "execute_result"
    }
   ],
   "source": [
    "# create time delta for behavior index\n",
    "# behavCam for v3 should record at 30 fps, can verify in timestamp file, check this is set correctly in concactenated videos\n",
    "veloctiyDataFrame = veloctiyDataFrame.set_index(pd.to_timedelta(np.linspace(0, (len(veloctiyDataFrame)-1)*(1/30), len(veloctiyDataFrame)), unit='s'))\n",
    "veloctiyDataFrame"
   ]
  },
  {
   "cell_type": "code",
   "execution_count": 717,
   "metadata": {},
   "outputs": [
    {
     "data": {
      "text/plain": [
       "42362"
      ]
     },
     "execution_count": 717,
     "metadata": {},
     "output_type": "execute_result"
    }
   ],
   "source": [
    "len(veloctiyDataFrame)"
   ]
  },
  {
   "cell_type": "code",
   "execution_count": 718,
   "metadata": {},
   "outputs": [],
   "source": [
    "## smooth velocity by upsampling "
   ]
  },
  {
   "cell_type": "code",
   "execution_count": 719,
   "metadata": {},
   "outputs": [
    {
     "data": {
      "image/png": "[encoded data removed]",
      "text/plain": [
       "<Figure size 432x288 with 2 Axes>"
      ]
     },
     "metadata": {
      "needs_background": "light"
     },
     "output_type": "display_data"
    }
   ],
   "source": [
    "xRangeFrames=(0,58000)\n",
    "y = veloctiyDataFrame['Velocity'][xRangeFrames[0]:xRangeFrames[1]]\n",
    "#recording_start_time = datetime.datetime.fromtimestamp(abs(timestampfile[timestampfile['camNum'] == 1]['sysClock'][1]))\n",
    "#plot x axis time\n",
    "recording_start_time = datetime.datetime(1970, 1, 1, hour=0, minute=0, second=0, microsecond=0)\n",
    "x = [recording_start_time+veloctiyDataFrame.index[i] for i in range(len(veloctiyDataFrame.index))][xRangeFrames[0]:xRangeFrames[1]]\n",
    "\n",
    "fig = plt.figure()\n",
    "ax1 = fig.add_subplot(111)\n",
    "ax2 = ax1.twiny()\n",
    "fig.subplots_adjust(bottom=0.2)\n",
    "\n",
    "myFmt = DateFormatter(\"%M:%S:%ms\")\n",
    "ax1.xaxis.set_major_formatter(myFmt)\n",
    "ax1.plot(x, y)\n",
    "plt.gcf().autofmt_xdate()\n",
    "\n",
    "# Move twinned axis ticks and label from top to bottom\n",
    "ax2.xaxis.set_ticks_position(\"bottom\")\n",
    "ax2.xaxis.set_label_position(\"bottom\")\n",
    "# Offset the twin axis below the host\n",
    "ax2.spines[\"bottom\"].set_position((\"axes\", -0.25))\n",
    "\n",
    "plt.show()"
   ]
  },
  {
   "cell_type": "code",
   "execution_count": 720,
   "metadata": {},
   "outputs": [
    {
     "data": {
      "text/html": [
       "<div>\n",
       "<style scoped>\n",
       "    .dataframe tbody tr th:only-of-type {\n",
       "        vertical-align: middle;\n",
       "    }\n",
       "\n",
       "    .dataframe tbody tr th {\n",
       "        vertical-align: top;\n",
       "    }\n",
       "\n",
       "    .dataframe thead th {\n",
       "        text-align: right;\n",
       "    }\n",
       "</style>\n",
       "<table border=\"1\" class=\"dataframe\">\n",
       "  <thead>\n",
       "    <tr style=\"text-align: right;\">\n",
       "      <th></th>\n",
       "      <th>X</th>\n",
       "      <th>Y</th>\n",
       "    </tr>\n",
       "  </thead>\n",
       "  <tbody>\n",
       "    <tr>\n",
       "      <th>0 days 00:00:00</th>\n",
       "      <td>398.150058</td>\n",
       "      <td>101.738854</td>\n",
       "    </tr>\n",
       "    <tr>\n",
       "      <th>0 days 00:00:00.200000</th>\n",
       "      <td>398.957231</td>\n",
       "      <td>102.832598</td>\n",
       "    </tr>\n",
       "    <tr>\n",
       "      <th>0 days 00:00:00.400000</th>\n",
       "      <td>398.073222</td>\n",
       "      <td>101.783608</td>\n",
       "    </tr>\n",
       "    <tr>\n",
       "      <th>0 days 00:00:00.600000</th>\n",
       "      <td>398.852560</td>\n",
       "      <td>103.567195</td>\n",
       "    </tr>\n",
       "    <tr>\n",
       "      <th>0 days 00:00:00.800000</th>\n",
       "      <td>398.186173</td>\n",
       "      <td>101.880404</td>\n",
       "    </tr>\n",
       "    <tr>\n",
       "      <th>...</th>\n",
       "      <td>...</td>\n",
       "      <td>...</td>\n",
       "    </tr>\n",
       "    <tr>\n",
       "      <th>0 days 00:23:31.200000</th>\n",
       "      <td>408.212009</td>\n",
       "      <td>78.897836</td>\n",
       "    </tr>\n",
       "    <tr>\n",
       "      <th>0 days 00:23:31.400000</th>\n",
       "      <td>407.221147</td>\n",
       "      <td>80.584094</td>\n",
       "    </tr>\n",
       "    <tr>\n",
       "      <th>0 days 00:23:31.600000</th>\n",
       "      <td>410.876330</td>\n",
       "      <td>80.926820</td>\n",
       "    </tr>\n",
       "    <tr>\n",
       "      <th>0 days 00:23:31.800000</th>\n",
       "      <td>411.682447</td>\n",
       "      <td>80.505123</td>\n",
       "    </tr>\n",
       "    <tr>\n",
       "      <th>0 days 00:23:32</th>\n",
       "      <td>410.329696</td>\n",
       "      <td>79.806205</td>\n",
       "    </tr>\n",
       "  </tbody>\n",
       "</table>\n",
       "<p>7061 rows × 2 columns</p>\n",
       "</div>"
      ],
      "text/plain": [
       "                                 X           Y\n",
       "0 days 00:00:00         398.150058  101.738854\n",
       "0 days 00:00:00.200000  398.957231  102.832598\n",
       "0 days 00:00:00.400000  398.073222  101.783608\n",
       "0 days 00:00:00.600000  398.852560  103.567195\n",
       "0 days 00:00:00.800000  398.186173  101.880404\n",
       "...                            ...         ...\n",
       "0 days 00:23:31.200000  408.212009   78.897836\n",
       "0 days 00:23:31.400000  407.221147   80.584094\n",
       "0 days 00:23:31.600000  410.876330   80.926820\n",
       "0 days 00:23:31.800000  411.682447   80.505123\n",
       "0 days 00:23:32         410.329696   79.806205\n",
       "\n",
       "[7061 rows x 2 columns]"
      ]
     },
     "execution_count": 720,
     "metadata": {},
     "output_type": "execute_result"
    }
   ],
   "source": [
    "downsampledDataFrame = veloctiyDataFrame.resample('.2S').mean()[['X', 'Y']]\n",
    "# calculate new euclidean distance based on mean values here \n",
    "downsampledDataFrame"
   ]
  },
  {
   "cell_type": "code",
   "execution_count": 721,
   "metadata": {},
   "outputs": [
    {
     "name": "stdout",
     "output_type": "stream",
     "text": [
      "0.11473923410161976\n"
     ]
    }
   ],
   "source": [
    "cmPerPixel = veloctiyDataFrame['Distance_cm'][1]/veloctiyDataFrame['Distance_px'][1]\n",
    "#cmPerPixel = 10\n",
    "print(cmPerPixel)\n",
    "\n",
    "def euclideanDistance(row):\n",
    "    return(math.sqrt(row['X']**2+row['Y']**2))\n",
    "\n",
    "def smoothedVelocity(row, cmPerPixel):\n",
    "    #euclidean distance divided by sampling rate, multiplied by cm/pixel\n",
    "    return((math.sqrt(row['X']**2+row['Y']**2)/.2)*cmPerPixel)\n",
    "    \n",
    "downsampledDataFrame['smoothedVelocity'] = downsampledDataFrame.diff().apply(lambda row : smoothedVelocity(row, cmPerPixel), axis=1)"
   ]
  },
  {
   "cell_type": "code",
   "execution_count": 722,
   "metadata": {},
   "outputs": [
    {
     "data": {
      "text/html": [
       "<div>\n",
       "<style scoped>\n",
       "    .dataframe tbody tr th:only-of-type {\n",
       "        vertical-align: middle;\n",
       "    }\n",
       "\n",
       "    .dataframe tbody tr th {\n",
       "        vertical-align: top;\n",
       "    }\n",
       "\n",
       "    .dataframe thead th {\n",
       "        text-align: right;\n",
       "    }\n",
       "</style>\n",
       "<table border=\"1\" class=\"dataframe\">\n",
       "  <thead>\n",
       "    <tr style=\"text-align: right;\">\n",
       "      <th></th>\n",
       "      <th>X</th>\n",
       "      <th>Y</th>\n",
       "      <th>smoothedVelocity</th>\n",
       "    </tr>\n",
       "  </thead>\n",
       "  <tbody>\n",
       "    <tr>\n",
       "      <th>0 days 00:00:00</th>\n",
       "      <td>398.150058</td>\n",
       "      <td>101.738854</td>\n",
       "      <td>NaN</td>\n",
       "    </tr>\n",
       "    <tr>\n",
       "      <th>0 days 00:00:00.200000</th>\n",
       "      <td>398.957231</td>\n",
       "      <td>102.832598</td>\n",
       "      <td>0.779848</td>\n",
       "    </tr>\n",
       "    <tr>\n",
       "      <th>0 days 00:00:00.400000</th>\n",
       "      <td>398.073222</td>\n",
       "      <td>101.783608</td>\n",
       "      <td>0.787000</td>\n",
       "    </tr>\n",
       "    <tr>\n",
       "      <th>0 days 00:00:00.600000</th>\n",
       "      <td>398.852560</td>\n",
       "      <td>103.567195</td>\n",
       "      <td>1.116654</td>\n",
       "    </tr>\n",
       "    <tr>\n",
       "      <th>0 days 00:00:00.800000</th>\n",
       "      <td>398.186173</td>\n",
       "      <td>101.880404</td>\n",
       "      <td>1.040486</td>\n",
       "    </tr>\n",
       "    <tr>\n",
       "      <th>...</th>\n",
       "      <td>...</td>\n",
       "      <td>...</td>\n",
       "      <td>...</td>\n",
       "    </tr>\n",
       "    <tr>\n",
       "      <th>0 days 00:23:31.200000</th>\n",
       "      <td>408.212009</td>\n",
       "      <td>78.897836</td>\n",
       "      <td>0.872727</td>\n",
       "    </tr>\n",
       "    <tr>\n",
       "      <th>0 days 00:23:31.400000</th>\n",
       "      <td>407.221147</td>\n",
       "      <td>80.584094</td>\n",
       "      <td>1.122053</td>\n",
       "    </tr>\n",
       "    <tr>\n",
       "      <th>0 days 00:23:31.600000</th>\n",
       "      <td>410.876330</td>\n",
       "      <td>80.926820</td>\n",
       "      <td>2.106162</td>\n",
       "    </tr>\n",
       "    <tr>\n",
       "      <th>0 days 00:23:31.800000</th>\n",
       "      <td>411.682447</td>\n",
       "      <td>80.505123</td>\n",
       "      <td>0.521923</td>\n",
       "    </tr>\n",
       "    <tr>\n",
       "      <th>0 days 00:23:32</th>\n",
       "      <td>410.329696</td>\n",
       "      <td>79.806205</td>\n",
       "      <td>0.873531</td>\n",
       "    </tr>\n",
       "  </tbody>\n",
       "</table>\n",
       "<p>7061 rows × 3 columns</p>\n",
       "</div>"
      ],
      "text/plain": [
       "                                 X           Y  smoothedVelocity\n",
       "0 days 00:00:00         398.150058  101.738854               NaN\n",
       "0 days 00:00:00.200000  398.957231  102.832598          0.779848\n",
       "0 days 00:00:00.400000  398.073222  101.783608          0.787000\n",
       "0 days 00:00:00.600000  398.852560  103.567195          1.116654\n",
       "0 days 00:00:00.800000  398.186173  101.880404          1.040486\n",
       "...                            ...         ...               ...\n",
       "0 days 00:23:31.200000  408.212009   78.897836          0.872727\n",
       "0 days 00:23:31.400000  407.221147   80.584094          1.122053\n",
       "0 days 00:23:31.600000  410.876330   80.926820          2.106162\n",
       "0 days 00:23:31.800000  411.682447   80.505123          0.521923\n",
       "0 days 00:23:32         410.329696   79.806205          0.873531\n",
       "\n",
       "[7061 rows x 3 columns]"
      ]
     },
     "execution_count": 722,
     "metadata": {},
     "output_type": "execute_result"
    }
   ],
   "source": [
    "downsampledDataFrame"
   ]
  },
  {
   "cell_type": "code",
   "execution_count": 723,
   "metadata": {},
   "outputs": [],
   "source": [
    "#downsample once more to 1S as a \"median filter\"\n",
    "downsampledMedian = downsampledDataFrame.resample('2S').median()\n",
    "#downsampledMedian"
   ]
  },
  {
   "cell_type": "code",
   "execution_count": 724,
   "metadata": {},
   "outputs": [
    {
     "data": {
      "text/html": [
       "<div>\n",
       "<style scoped>\n",
       "    .dataframe tbody tr th:only-of-type {\n",
       "        vertical-align: middle;\n",
       "    }\n",
       "\n",
       "    .dataframe tbody tr th {\n",
       "        vertical-align: top;\n",
       "    }\n",
       "\n",
       "    .dataframe thead th {\n",
       "        text-align: right;\n",
       "    }\n",
       "</style>\n",
       "<table border=\"1\" class=\"dataframe\">\n",
       "  <thead>\n",
       "    <tr style=\"text-align: right;\">\n",
       "      <th></th>\n",
       "      <th>X</th>\n",
       "      <th>Y</th>\n",
       "      <th>smoothedVelocity</th>\n",
       "    </tr>\n",
       "  </thead>\n",
       "  <tbody>\n",
       "    <tr>\n",
       "      <th>0 days 00:00:00</th>\n",
       "      <td>398.257755</td>\n",
       "      <td>102.243280</td>\n",
       "      <td>0.971466</td>\n",
       "    </tr>\n",
       "    <tr>\n",
       "      <th>0 days 00:00:00.200000</th>\n",
       "      <td>390.109631</td>\n",
       "      <td>93.035067</td>\n",
       "      <td>2.985900</td>\n",
       "    </tr>\n",
       "    <tr>\n",
       "      <th>0 days 00:00:00.400000</th>\n",
       "      <td>390.109631</td>\n",
       "      <td>93.035067</td>\n",
       "      <td>2.985900</td>\n",
       "    </tr>\n",
       "    <tr>\n",
       "      <th>0 days 00:00:00.600000</th>\n",
       "      <td>390.109631</td>\n",
       "      <td>93.035067</td>\n",
       "      <td>2.985900</td>\n",
       "    </tr>\n",
       "    <tr>\n",
       "      <th>0 days 00:00:00.800000</th>\n",
       "      <td>390.109631</td>\n",
       "      <td>93.035067</td>\n",
       "      <td>2.985900</td>\n",
       "    </tr>\n",
       "    <tr>\n",
       "      <th>...</th>\n",
       "      <td>...</td>\n",
       "      <td>...</td>\n",
       "      <td>...</td>\n",
       "    </tr>\n",
       "    <tr>\n",
       "      <th>0 days 00:23:31.200000</th>\n",
       "      <td>410.329696</td>\n",
       "      <td>79.806205</td>\n",
       "      <td>0.873531</td>\n",
       "    </tr>\n",
       "    <tr>\n",
       "      <th>0 days 00:23:31.400000</th>\n",
       "      <td>410.329696</td>\n",
       "      <td>79.806205</td>\n",
       "      <td>0.873531</td>\n",
       "    </tr>\n",
       "    <tr>\n",
       "      <th>0 days 00:23:31.600000</th>\n",
       "      <td>410.329696</td>\n",
       "      <td>79.806205</td>\n",
       "      <td>0.873531</td>\n",
       "    </tr>\n",
       "    <tr>\n",
       "      <th>0 days 00:23:31.800000</th>\n",
       "      <td>410.329696</td>\n",
       "      <td>79.806205</td>\n",
       "      <td>0.873531</td>\n",
       "    </tr>\n",
       "    <tr>\n",
       "      <th>0 days 00:23:32</th>\n",
       "      <td>410.329696</td>\n",
       "      <td>79.806205</td>\n",
       "      <td>0.873531</td>\n",
       "    </tr>\n",
       "  </tbody>\n",
       "</table>\n",
       "<p>7061 rows × 3 columns</p>\n",
       "</div>"
      ],
      "text/plain": [
       "                                 X           Y  smoothedVelocity\n",
       "0 days 00:00:00         398.257755  102.243280          0.971466\n",
       "0 days 00:00:00.200000  390.109631   93.035067          2.985900\n",
       "0 days 00:00:00.400000  390.109631   93.035067          2.985900\n",
       "0 days 00:00:00.600000  390.109631   93.035067          2.985900\n",
       "0 days 00:00:00.800000  390.109631   93.035067          2.985900\n",
       "...                            ...         ...               ...\n",
       "0 days 00:23:31.200000  410.329696   79.806205          0.873531\n",
       "0 days 00:23:31.400000  410.329696   79.806205          0.873531\n",
       "0 days 00:23:31.600000  410.329696   79.806205          0.873531\n",
       "0 days 00:23:31.800000  410.329696   79.806205          0.873531\n",
       "0 days 00:23:32         410.329696   79.806205          0.873531\n",
       "\n",
       "[7061 rows x 3 columns]"
      ]
     },
     "execution_count": 724,
     "metadata": {},
     "output_type": "execute_result"
    }
   ],
   "source": [
    "downsampledMedian.resample('.2S').bfill()"
   ]
  },
  {
   "cell_type": "code",
   "execution_count": 732,
   "metadata": {},
   "outputs": [
    {
     "data": {
      "image/png": "[encoded data removed]",
      "text/plain": [
       "<Figure size 432x288 with 2 Axes>"
      ]
     },
     "metadata": {
      "needs_background": "light"
     },
     "output_type": "display_data"
    }
   ],
   "source": [
    "velocity_resampled = downsampledMedian.resample('.2S').bfill()\n",
    "xRangeFrames=(0,1000)\n",
    "columnToPlot = 'smoothedVelocity'\n",
    "y = velocity_resampled[columnToPlot][xRangeFrames[0]:xRangeFrames[1]]\n",
    "#recording_start_time = datetime.datetime.fromtimestamp(abs(timestampfile[timestampfile['camNum'] == 1]['sysClock'][1]))\n",
    "#plot x axis time\n",
    "recording_start_time = datetime.datetime(1970, 1, 1, hour=0, minute=0, second=0, microsecond=0)\n",
    "x = [recording_start_time+velocity_resampled.index[i] for i in range(len(velocity_resampled.index))][xRangeFrames[0]:xRangeFrames[1]]\n",
    "\n",
    "fig = plt.figure()\n",
    "ax1 = fig.add_subplot(111)\n",
    "ax2 = ax1.twiny()\n",
    "fig.subplots_adjust(bottom=0.2)\n",
    "\n",
    "myFmt = DateFormatter(\"%M:%S:%ms\")\n",
    "ax1.xaxis.set_major_formatter(myFmt)\n",
    "ax1.plot(x, y)\n",
    "plt.gcf().autofmt_xdate()\n",
    "\n",
    "# Move twinned axis ticks and label from top to bottom\n",
    "ax2.xaxis.set_ticks_position(\"bottom\")\n",
    "ax2.xaxis.set_label_position(\"bottom\")\n",
    "# Offset the twin axis below the host\n",
    "ax2.spines[\"bottom\"].set_position((\"axes\", -0.25))\n",
    "\n",
    "plt.show()"
   ]
  },
  {
   "cell_type": "code",
   "execution_count": 726,
   "metadata": {},
   "outputs": [],
   "source": [
    "#velocity_resampled[(velocity_resampled['smoothedVelocity']>0) & (velocity_resampled['smoothedVelocity']<0.5)]\n"
   ]
  },
  {
   "cell_type": "code",
   "execution_count": 727,
   "metadata": {},
   "outputs": [],
   "source": [
    "# define velocity bins and save output to csv files for clustering analysis\n",
    "velocityBins = [(0, 0.5), (0.5, 1), (1, 2), (2, 5), (5, 10), (10, math.inf)]"
   ]
  },
  {
   "cell_type": "code",
   "execution_count": 728,
   "metadata": {},
   "outputs": [],
   "source": [
    "#get indicies corresponding to velocity bins \n",
    "indiciesVbin0 = pd.DataFrame([velocity_resampled.index.get_loc(velocity_resampled[(velocity_resampled['smoothedVelocity']>0) & (velocity_resampled['smoothedVelocity']<0.5)].index[i]) \n",
    " for i in range(len(velocity_resampled[(velocity_resampled['smoothedVelocity']>0) & (velocity_resampled['smoothedVelocity']<0.5)].index))], columns=['Indicies'])\n",
    "indiciesVbin1 = pd.DataFrame([velocity_resampled.index.get_loc(velocity_resampled[(velocity_resampled['smoothedVelocity']>0.5) & (velocity_resampled['smoothedVelocity']<1)].index[i]) \n",
    " for i in range(len(velocity_resampled[(velocity_resampled['smoothedVelocity']>0.5) & (velocity_resampled['smoothedVelocity']<1)].index))], columns=['Indicies'])\n",
    "indiciesVbin2 = pd.DataFrame([velocity_resampled.index.get_loc(velocity_resampled[(velocity_resampled['smoothedVelocity']>1) & (velocity_resampled['smoothedVelocity']<2)].index[i]) \n",
    " for i in range(len(velocity_resampled[(velocity_resampled['smoothedVelocity']>1) & (velocity_resampled['smoothedVelocity']<2)].index))], columns=['Indicies'])\n",
    "indiciesVbin3 = pd.DataFrame([velocity_resampled.index.get_loc(velocity_resampled[(velocity_resampled['smoothedVelocity']>2) & (velocity_resampled['smoothedVelocity']<5)].index[i]) \n",
    " for i in range(len(velocity_resampled[(velocity_resampled['smoothedVelocity']>2) & (velocity_resampled['smoothedVelocity']<5)].index))], columns=['Indicies'])\n",
    "indiciesVbin4 = pd.DataFrame([velocity_resampled.index.get_loc(velocity_resampled[(velocity_resampled['smoothedVelocity']>5) & (velocity_resampled['smoothedVelocity']<10)].index[i]) \n",
    " for i in range(len(velocity_resampled[(velocity_resampled['smoothedVelocity']>5) & (velocity_resampled['smoothedVelocity']<10)].index))], columns=['Indicies'])\n",
    "indiciesVbin5 = pd.DataFrame([velocity_resampled.index.get_loc(velocity_resampled[(velocity_resampled['smoothedVelocity']>10) & (velocity_resampled['smoothedVelocity']<math.inf)].index[i]) \n",
    " for i in range(len(velocity_resampled[(velocity_resampled['smoothedVelocity']>10) & (velocity_resampled['smoothedVelocity']<math.inf)].index))], columns=['Indicies'])"
   ]
  },
  {
   "cell_type": "code",
   "execution_count": 729,
   "metadata": {},
   "outputs": [
    {
     "name": "stdout",
     "output_type": "stream",
     "text": [
      "GRIN041_H16_M35_S12\n"
     ]
    }
   ],
   "source": [
    "#save to csv files \n",
    "basePath=r'F:\\\\JJM\\\\behavCam_videos_for_analysis\\\\dSPNOpenFieldRecordings'\n",
    "indiciesVbin0.to_csv(basePath+'\\\\'+os.path.split(sessionPath)[0].split('\\\\')[-1]+'_movingFrameIndicies5Hz_vbin0.csv')\n",
    "indiciesVbin1.to_csv(basePath+'\\\\'+os.path.split(sessionPath)[0].split('\\\\')[-1]+'_movingFrameIndicies5Hz_vbin1.csv')\n",
    "indiciesVbin2.to_csv(basePath+'\\\\'+os.path.split(sessionPath)[0].split('\\\\')[-1]+'_movingFrameIndicies5Hz_vbin2.csv')\n",
    "indiciesVbin3.to_csv(basePath+'\\\\'+os.path.split(sessionPath)[0].split('\\\\')[-1]+'_movingFrameIndicies5Hz_vbin3.csv')\n",
    "indiciesVbin4.to_csv(basePath+'\\\\'+os.path.split(sessionPath)[0].split('\\\\')[-1]+'_movingFrameIndicies5Hz_vbin4.csv')\n",
    "indiciesVbin5.to_csv(basePath+'\\\\'+os.path.split(sessionPath)[0].split('\\\\')[-1]+'_movingFrameIndicies5Hz_vbin5.csv')\n",
    "print(os.path.split(sessionPath)[0].split('\\\\')[-1])"
   ]
  },
  {
   "cell_type": "code",
   "execution_count": 730,
   "metadata": {},
   "outputs": [
    {
     "data": {
      "text/html": [
       "<div>\n",
       "<style scoped>\n",
       "    .dataframe tbody tr th:only-of-type {\n",
       "        vertical-align: middle;\n",
       "    }\n",
       "\n",
       "    .dataframe tbody tr th {\n",
       "        vertical-align: top;\n",
       "    }\n",
       "\n",
       "    .dataframe thead th {\n",
       "        text-align: right;\n",
       "    }\n",
       "</style>\n",
       "<table border=\"1\" class=\"dataframe\">\n",
       "  <thead>\n",
       "    <tr style=\"text-align: right;\">\n",
       "      <th></th>\n",
       "      <th>Indicies</th>\n",
       "    </tr>\n",
       "  </thead>\n",
       "  <tbody>\n",
       "    <tr>\n",
       "      <th>0</th>\n",
       "      <td>631</td>\n",
       "    </tr>\n",
       "    <tr>\n",
       "      <th>1</th>\n",
       "      <td>632</td>\n",
       "    </tr>\n",
       "    <tr>\n",
       "      <th>2</th>\n",
       "      <td>633</td>\n",
       "    </tr>\n",
       "    <tr>\n",
       "      <th>3</th>\n",
       "      <td>634</td>\n",
       "    </tr>\n",
       "    <tr>\n",
       "      <th>4</th>\n",
       "      <td>635</td>\n",
       "    </tr>\n",
       "    <tr>\n",
       "      <th>5</th>\n",
       "      <td>636</td>\n",
       "    </tr>\n",
       "    <tr>\n",
       "      <th>6</th>\n",
       "      <td>637</td>\n",
       "    </tr>\n",
       "    <tr>\n",
       "      <th>7</th>\n",
       "      <td>638</td>\n",
       "    </tr>\n",
       "    <tr>\n",
       "      <th>8</th>\n",
       "      <td>639</td>\n",
       "    </tr>\n",
       "    <tr>\n",
       "      <th>9</th>\n",
       "      <td>640</td>\n",
       "    </tr>\n",
       "    <tr>\n",
       "      <th>10</th>\n",
       "      <td>731</td>\n",
       "    </tr>\n",
       "    <tr>\n",
       "      <th>11</th>\n",
       "      <td>732</td>\n",
       "    </tr>\n",
       "    <tr>\n",
       "      <th>12</th>\n",
       "      <td>733</td>\n",
       "    </tr>\n",
       "    <tr>\n",
       "      <th>13</th>\n",
       "      <td>734</td>\n",
       "    </tr>\n",
       "    <tr>\n",
       "      <th>14</th>\n",
       "      <td>735</td>\n",
       "    </tr>\n",
       "    <tr>\n",
       "      <th>15</th>\n",
       "      <td>736</td>\n",
       "    </tr>\n",
       "    <tr>\n",
       "      <th>16</th>\n",
       "      <td>737</td>\n",
       "    </tr>\n",
       "    <tr>\n",
       "      <th>17</th>\n",
       "      <td>738</td>\n",
       "    </tr>\n",
       "    <tr>\n",
       "      <th>18</th>\n",
       "      <td>739</td>\n",
       "    </tr>\n",
       "    <tr>\n",
       "      <th>19</th>\n",
       "      <td>740</td>\n",
       "    </tr>\n",
       "    <tr>\n",
       "      <th>20</th>\n",
       "      <td>1321</td>\n",
       "    </tr>\n",
       "    <tr>\n",
       "      <th>21</th>\n",
       "      <td>1322</td>\n",
       "    </tr>\n",
       "    <tr>\n",
       "      <th>22</th>\n",
       "      <td>1323</td>\n",
       "    </tr>\n",
       "    <tr>\n",
       "      <th>23</th>\n",
       "      <td>1324</td>\n",
       "    </tr>\n",
       "    <tr>\n",
       "      <th>24</th>\n",
       "      <td>1325</td>\n",
       "    </tr>\n",
       "    <tr>\n",
       "      <th>25</th>\n",
       "      <td>1326</td>\n",
       "    </tr>\n",
       "    <tr>\n",
       "      <th>26</th>\n",
       "      <td>1327</td>\n",
       "    </tr>\n",
       "    <tr>\n",
       "      <th>27</th>\n",
       "      <td>1328</td>\n",
       "    </tr>\n",
       "    <tr>\n",
       "      <th>28</th>\n",
       "      <td>1329</td>\n",
       "    </tr>\n",
       "    <tr>\n",
       "      <th>29</th>\n",
       "      <td>1330</td>\n",
       "    </tr>\n",
       "    <tr>\n",
       "      <th>30</th>\n",
       "      <td>4861</td>\n",
       "    </tr>\n",
       "    <tr>\n",
       "      <th>31</th>\n",
       "      <td>4862</td>\n",
       "    </tr>\n",
       "    <tr>\n",
       "      <th>32</th>\n",
       "      <td>4863</td>\n",
       "    </tr>\n",
       "    <tr>\n",
       "      <th>33</th>\n",
       "      <td>4864</td>\n",
       "    </tr>\n",
       "    <tr>\n",
       "      <th>34</th>\n",
       "      <td>4865</td>\n",
       "    </tr>\n",
       "    <tr>\n",
       "      <th>35</th>\n",
       "      <td>4866</td>\n",
       "    </tr>\n",
       "    <tr>\n",
       "      <th>36</th>\n",
       "      <td>4867</td>\n",
       "    </tr>\n",
       "    <tr>\n",
       "      <th>37</th>\n",
       "      <td>4868</td>\n",
       "    </tr>\n",
       "    <tr>\n",
       "      <th>38</th>\n",
       "      <td>4869</td>\n",
       "    </tr>\n",
       "    <tr>\n",
       "      <th>39</th>\n",
       "      <td>4870</td>\n",
       "    </tr>\n",
       "  </tbody>\n",
       "</table>\n",
       "</div>"
      ],
      "text/plain": [
       "    Indicies\n",
       "0        631\n",
       "1        632\n",
       "2        633\n",
       "3        634\n",
       "4        635\n",
       "5        636\n",
       "6        637\n",
       "7        638\n",
       "8        639\n",
       "9        640\n",
       "10       731\n",
       "11       732\n",
       "12       733\n",
       "13       734\n",
       "14       735\n",
       "15       736\n",
       "16       737\n",
       "17       738\n",
       "18       739\n",
       "19       740\n",
       "20      1321\n",
       "21      1322\n",
       "22      1323\n",
       "23      1324\n",
       "24      1325\n",
       "25      1326\n",
       "26      1327\n",
       "27      1328\n",
       "28      1329\n",
       "29      1330\n",
       "30      4861\n",
       "31      4862\n",
       "32      4863\n",
       "33      4864\n",
       "34      4865\n",
       "35      4866\n",
       "36      4867\n",
       "37      4868\n",
       "38      4869\n",
       "39      4870"
      ]
     },
     "execution_count": 730,
     "metadata": {},
     "output_type": "execute_result"
    }
   ],
   "source": [
    "indiciesVbin5"
   ]
  },
  {
   "cell_type": "code",
   "execution_count": null,
   "metadata": {},
   "outputs": [],
   "source": [
    "#move to quest\n",
    "#res_files=8f796c9e-f5c8-11e5-9842-22000b9da45e\n",
    "#quest=d5990400-6d04-11e5-ba46-22000b92c6ec\n",
    "#res_files_base_dir = '8f796c9e-f5c8-11e5-9842-22000b9da45e:/rdss/jma819/fsmresfiles/Projects/JJM/MiniscopeMovies/scope_data/'\n",
    "#quest_dir = 'd5990400-6d04-11e5-ba46-22000b92c6ec:/projects/b1118/behaviorvideos/timestampfiles/'"
   ]
  },
  {
   "cell_type": "code",
   "execution_count": null,
   "metadata": {},
   "outputs": [],
   "source": [
    "#for session in list(time_stamp_file_locations.keys()):\n",
    "#    transfer_info = res_files_base_dir+time_stamp_file_locations[session]+' '+quest_dir+session+'_timestamp.dat'\n",
    "#    !eval \"globus transfer\" $transfer_info"
   ]
  },
  {
   "cell_type": "code",
   "execution_count": null,
   "metadata": {},
   "outputs": [],
   "source": [
    "##frame by frame alignment to miniscope camera\n",
    "\n",
    "sessions = [f_path.split('/')[-1].rstrip('_raw_trace.csv') for f_path in mm_raw_traces]\n",
    "\n",
    "sessions = ['GRIN039_H14_M8_S53', 'GRIN026_H16_M35_S34', 'GRIN032_H16_M49_S22']\n",
    "\n",
    "for session in sessions:\n",
    "    print(session)\n",
    "    timestampfile = '/projects/b1118/behaviorvideos/timestampfiles/'+session+'_timestamp.dat'\n",
    "    frame_clock_df = pd.read_table(timestampfile)\n",
    "    output_directory = '/projects/b1118/miniscope/analysis/compiled_data/mm_tracking_output/'\n",
    "\n",
    "    Cam0_timestamps = frame_clock_df[frame_clock_df['camNum'] == 0]  \n",
    "    Cam1_timestamps = frame_clock_df[frame_clock_df['camNum'] == 1]\n",
    "    #beavCam is usually faster framerate \n",
    "    if Cam1_timestamps['sysClock'].iloc[1:].diff().mean()<Cam0_timestamps['sysClock'].iloc[1:].diff().mean():\n",
    "        msCam_camnum=0\n",
    "        behavCam_camnum=1\n",
    "    elif Cam0_timestamps['sysClock'].iloc[1:].diff().mean()<Cam1_timestamps['sysClock'].iloc[1:].diff().mean():\n",
    "        msCam_camnum=1\n",
    "        behavCam_camnum=0\n",
    "\n",
    "    raw_trace = pd.read_csv(data_folder+session+'_raw_trace.csv', names=['velocity'])\n",
    "    raw_trace_filtered = pd.read_csv(data_folder+session+'_raw_trace_median_filter.csv', names=['velocity(20_Hz_filtered)'])\n",
    "    speed_trace = pd.read_csv(data_folder+session+'_speedtrace.csv', names=['speed_trace(velocity_5Hz_filtered)'])\n",
    "    raw_traces = pd.concat([raw_trace, raw_trace_filtered], axis=1)\n",
    "\n",
    "    # align the raw traces for comparison\n",
    "\n",
    "    mm_tracking_aligned = dlc.downsample_mmtracking(raw_traces, timestampfile, msCam_camnum, behavCam_camnum)\n",
    "\n",
    "    # convert to timedelta for downsampling \n",
    "    aligned_td = mm_tracking_aligned.set_index(pd.to_timedelta(np.linspace(0, mm_tracking_aligned['sys_clock_behavCam'].values[-1]/1000, len(mm_tracking_aligned)), unit='s'), drop=False)\n",
    "    aligned_td.to_csv(output_directory+session+'_mm_tracking_foranalysis_unsmoothed'+'.csv')"
   ]
  },
  {
   "cell_type": "code",
   "execution_count": null,
   "metadata": {},
   "outputs": [],
   "source": []
  }
 ],
 "metadata": {
  "kernelspec": {
   "display_name": "2pCNMFEAnalysisEnv",
   "language": "python",
   "name": "2pcnmfeanalysisenv"
  },
  "language_info": {
   "codemirror_mode": {
    "name": "ipython",
    "version": 3
   },
   "file_extension": ".py",
   "mimetype": "text/x-python",
   "name": "python",
   "nbconvert_exporter": "python",
   "pygments_lexer": "ipython3",
   "version": "3.10.4"
  }
 },
 "nbformat": 4,
 "nbformat_minor": 2
}
