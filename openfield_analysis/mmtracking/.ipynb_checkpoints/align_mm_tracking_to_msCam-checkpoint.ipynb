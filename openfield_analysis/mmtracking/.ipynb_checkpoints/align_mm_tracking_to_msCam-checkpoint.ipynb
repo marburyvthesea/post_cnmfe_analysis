{
 "cells": [
  {
   "cell_type": "code",
   "execution_count": 13,
   "metadata": {
    "collapsed": false
   },
   "outputs": [
    {
     "data": {
      "text/html": [
       "<style>.container { width:90% !important; }</style>"
      ],
      "text/plain": [
       "<IPython.core.display.HTML object>"
      ]
     },
     "metadata": {},
     "output_type": "display_data"
    }
   ],
   "source": [
    "from IPython.core.display import display, HTML\n",
    "display(HTML(\"<style>.container { width:90% !important; }</style>\"))"
   ]
  },
  {
   "cell_type": "code",
   "execution_count": 14,
   "metadata": {
    "collapsed": false,
    "scrolled": true
   },
   "outputs": [],
   "source": [
    "import sys\n",
    "import glob\n",
    "import numpy as np\n",
    "import pandas as pd \n",
    "import matplotlib.pyplot as plt\n",
    "sys.path.append('/home/jma819/post_cmfe_analysis')\n",
    "import dlc_utils as dlc"
   ]
  },
  {
   "cell_type": "code",
   "execution_count": 15,
   "metadata": {
    "collapsed": true
   },
   "outputs": [],
   "source": [
    "data_folder = '/projects/b1118/miniscope/analysis/compiled_data/mm_tracking_output/'"
   ]
  },
  {
   "cell_type": "code",
   "execution_count": 16,
   "metadata": {
    "collapsed": false
   },
   "outputs": [],
   "source": [
    "mm_raw_traces = glob.glob(data_folder+'*raw_trace.csv')\n",
    "mm_speed_files = glob.glob(data_folder+'*speedtrace.csv')"
   ]
  },
  {
   "cell_type": "code",
   "execution_count": 17,
   "metadata": {
    "collapsed": true
   },
   "outputs": [],
   "source": [
    "#move to quest\n",
    "#res_files=8f796c9e-f5c8-11e5-9842-22000b9da45e\n",
    "#quest=d5990400-6d04-11e5-ba46-22000b92c6ec\n",
    "#res_files_base_dir = '8f796c9e-f5c8-11e5-9842-22000b9da45e:/rdss/jma819/fsmresfiles/Projects/JJM/MiniscopeMovies/scope_data/'\n",
    "#quest_dir = 'd5990400-6d04-11e5-ba46-22000b92c6ec:/projects/b1118/behaviorvideos/timestampfiles/'"
   ]
  },
  {
   "cell_type": "code",
   "execution_count": 18,
   "metadata": {
    "collapsed": false
   },
   "outputs": [],
   "source": [
    "#for session in list(time_stamp_file_locations.keys()):\n",
    "#    transfer_info = res_files_base_dir+time_stamp_file_locations[session]+' '+quest_dir+session+'_timestamp.dat'\n",
    "#    !eval \"globus transfer\" $transfer_info"
   ]
  },
  {
   "cell_type": "code",
   "execution_count": 19,
   "metadata": {
    "collapsed": false
   },
   "outputs": [],
   "source": [
    "sessions = [f_path.split('/')[-1].rstrip('_raw_trace.csv') for f_path in mm_raw_traces]"
   ]
  },
  {
   "cell_type": "code",
   "execution_count": 20,
   "metadata": {
    "collapsed": false,
    "scrolled": false
   },
   "outputs": [],
   "source": [
    "sessions = ['GRIN039_H14_M8_S53', 'GRIN026_H16_M35_S34', 'GRIN032_H16_M49_S22']"
   ]
  },
  {
   "cell_type": "code",
   "execution_count": 21,
   "metadata": {
    "collapsed": false
   },
   "outputs": [
    {
     "name": "stderr",
     "output_type": "stream",
     "text": [
      "  0%|          | 42/32697 [00:00<01:17, 419.72it/s]"
     ]
    },
    {
     "name": "stdout",
     "output_type": "stream",
     "text": [
      "GRIN039_H14_M8_S53\n"
     ]
    },
    {
     "name": "stderr",
     "output_type": "stream",
     "text": [
      "100%|██████████| 32697/32697 [02:06<00:00, 259.01it/s]\n",
      "  0%|          | 38/25930 [00:00<01:09, 372.88it/s]"
     ]
    },
    {
     "name": "stdout",
     "output_type": "stream",
     "text": [
      "GRIN026_H16_M35_S34\n"
     ]
    },
    {
     "name": "stderr",
     "output_type": "stream",
     "text": [
      "100%|██████████| 25930/25930 [01:13<00:00, 354.53it/s]\n",
      "  0%|          | 0/36996 [00:00<?, ?it/s]"
     ]
    },
    {
     "name": "stdout",
     "output_type": "stream",
     "text": [
      "GRIN032_H16_M49_S22\n"
     ]
    },
    {
     "name": "stderr",
     "output_type": "stream",
     "text": [
      "100%|██████████| 36996/36996 [01:58<00:00, 311.61it/s]\n"
     ]
    }
   ],
   "source": [
    "for session in sessions:\n",
    "    print(session)\n",
    "    timestampfile = '/projects/b1118/behaviorvideos/timestampfiles/'+session+'_timestamp.dat'\n",
    "    frame_clock_df = pd.read_table(timestampfile)\n",
    "    output_directory = '/projects/b1118/miniscope/analysis/compiled_data/mm_tracking_output/'\n",
    "\n",
    "    Cam0_timestamps = frame_clock_df[frame_clock_df['camNum'] == 0]  \n",
    "    Cam1_timestamps = frame_clock_df[frame_clock_df['camNum'] == 1]\n",
    "    #beavCam is usually faster framerate \n",
    "    if Cam1_timestamps['sysClock'].iloc[1:].diff().mean()<Cam0_timestamps['sysClock'].iloc[1:].diff().mean():\n",
    "        msCam_camnum=0\n",
    "        behavCam_camnum=1\n",
    "    elif Cam0_timestamps['sysClock'].iloc[1:].diff().mean()<Cam1_timestamps['sysClock'].iloc[1:].diff().mean():\n",
    "        msCam_camnum=1\n",
    "        behavCam_camnum=0\n",
    "\n",
    "    raw_trace = pd.read_csv(data_folder+session+'_raw_trace.csv', names=['velocity'])\n",
    "    raw_trace_filtered = pd.read_csv(data_folder+session+'_raw_trace_median_filter.csv', names=['velocity(20_Hz_filtered)'])\n",
    "    speed_trace = pd.read_csv(data_folder+session+'_speedtrace.csv', names=['speed_trace(velocity_5Hz_filtered)'])\n",
    "    raw_traces = pd.concat([raw_trace, raw_trace_filtered], axis=1)\n",
    "\n",
    "    # align the raw traces for comparison\n",
    "\n",
    "    mm_tracking_aligned = dlc.downsample_mmtracking(raw_traces, timestampfile, msCam_camnum, behavCam_camnum)\n",
    "\n",
    "    # convert to timedelta for downsampling \n",
    "    aligned_td = mm_tracking_aligned.set_index(pd.to_timedelta(np.linspace(0, mm_tracking_aligned['sys_clock_behavCam'].values[-1]/1000, len(mm_tracking_aligned)), unit='s'), drop=False)\n",
    "    aligned_td.to_csv(output_directory+session+'_mm_tracking_foranalysis_unsmoothed'+'.csv')"
   ]
  },
  {
   "cell_type": "code",
   "execution_count": 143,
   "metadata": {
    "collapsed": false
   },
   "outputs": [
    {
     "data": {
      "text/html": [
       "<div>\n",
       "<style scoped>\n",
       "    .dataframe tbody tr th:only-of-type {\n",
       "        vertical-align: middle;\n",
       "    }\n",
       "\n",
       "    .dataframe tbody tr th {\n",
       "        vertical-align: top;\n",
       "    }\n",
       "\n",
       "    .dataframe thead th {\n",
       "        text-align: right;\n",
       "    }\n",
       "</style>\n",
       "<table border=\"1\" class=\"dataframe\">\n",
       "  <thead>\n",
       "    <tr style=\"text-align: right;\">\n",
       "      <th></th>\n",
       "      <th>velocity</th>\n",
       "      <th>velocity(20_Hz_filtered)</th>\n",
       "      <th>index</th>\n",
       "      <th>frameNum</th>\n",
       "      <th>camNum</th>\n",
       "      <th>sysClock</th>\n",
       "      <th>buffer</th>\n",
       "      <th>behavCam_frames</th>\n",
       "      <th>sys_clock_behavCam</th>\n",
       "    </tr>\n",
       "  </thead>\n",
       "  <tbody>\n",
       "    <tr>\n",
       "      <th>0 days 00:00:00</th>\n",
       "      <td>0.010296</td>\n",
       "      <td>0.094921</td>\n",
       "      <td>0</td>\n",
       "      <td>1</td>\n",
       "      <td>0</td>\n",
       "      <td>0</td>\n",
       "      <td>1</td>\n",
       "      <td>1</td>\n",
       "      <td>0</td>\n",
       "    </tr>\n",
       "    <tr>\n",
       "      <th>0 days 00:00:00.050967172</th>\n",
       "      <td>0.010296</td>\n",
       "      <td>0.094921</td>\n",
       "      <td>1</td>\n",
       "      <td>2</td>\n",
       "      <td>0</td>\n",
       "      <td>9</td>\n",
       "      <td>1</td>\n",
       "      <td>1</td>\n",
       "      <td>0</td>\n",
       "    </tr>\n",
       "    <tr>\n",
       "      <th>0 days 00:00:00.101934344</th>\n",
       "      <td>0.013000</td>\n",
       "      <td>0.094921</td>\n",
       "      <td>2</td>\n",
       "      <td>3</td>\n",
       "      <td>0</td>\n",
       "      <td>59</td>\n",
       "      <td>2</td>\n",
       "      <td>3</td>\n",
       "      <td>63</td>\n",
       "    </tr>\n",
       "    <tr>\n",
       "      <th>0 days 00:00:00.152901516</th>\n",
       "      <td>0.076420</td>\n",
       "      <td>0.091110</td>\n",
       "      <td>3</td>\n",
       "      <td>4</td>\n",
       "      <td>0</td>\n",
       "      <td>177</td>\n",
       "      <td>1</td>\n",
       "      <td>6</td>\n",
       "      <td>158</td>\n",
       "    </tr>\n",
       "    <tr>\n",
       "      <th>0 days 00:00:00.203868688</th>\n",
       "      <td>0.522950</td>\n",
       "      <td>0.087298</td>\n",
       "      <td>4</td>\n",
       "      <td>5</td>\n",
       "      <td>0</td>\n",
       "      <td>180</td>\n",
       "      <td>1</td>\n",
       "      <td>7</td>\n",
       "      <td>196</td>\n",
       "    </tr>\n",
       "    <tr>\n",
       "      <th>...</th>\n",
       "      <td>...</td>\n",
       "      <td>...</td>\n",
       "      <td>...</td>\n",
       "      <td>...</td>\n",
       "      <td>...</td>\n",
       "      <td>...</td>\n",
       "      <td>...</td>\n",
       "      <td>...</td>\n",
       "      <td>...</td>\n",
       "    </tr>\n",
       "    <tr>\n",
       "      <th>0 days 00:22:21.201131312</th>\n",
       "      <td>0.000000</td>\n",
       "      <td>0.000000</td>\n",
       "      <td>26315</td>\n",
       "      <td>26316</td>\n",
       "      <td>0</td>\n",
       "      <td>1341196</td>\n",
       "      <td>1</td>\n",
       "      <td>37918</td>\n",
       "      <td>1341181</td>\n",
       "    </tr>\n",
       "    <tr>\n",
       "      <th>0 days 00:22:21.252098484</th>\n",
       "      <td>0.037202</td>\n",
       "      <td>0.000000</td>\n",
       "      <td>26316</td>\n",
       "      <td>26317</td>\n",
       "      <td>0</td>\n",
       "      <td>1341249</td>\n",
       "      <td>1</td>\n",
       "      <td>37920</td>\n",
       "      <td>1341246</td>\n",
       "    </tr>\n",
       "    <tr>\n",
       "      <th>0 days 00:22:21.303065656</th>\n",
       "      <td>0.000000</td>\n",
       "      <td>0.000000</td>\n",
       "      <td>26317</td>\n",
       "      <td>26318</td>\n",
       "      <td>0</td>\n",
       "      <td>1341297</td>\n",
       "      <td>1</td>\n",
       "      <td>37922</td>\n",
       "      <td>1341310</td>\n",
       "    </tr>\n",
       "    <tr>\n",
       "      <th>0 days 00:22:21.354032828</th>\n",
       "      <td>0.003606</td>\n",
       "      <td>0.000000</td>\n",
       "      <td>26318</td>\n",
       "      <td>26319</td>\n",
       "      <td>0</td>\n",
       "      <td>1341347</td>\n",
       "      <td>1</td>\n",
       "      <td>37923</td>\n",
       "      <td>1341341</td>\n",
       "    </tr>\n",
       "    <tr>\n",
       "      <th>0 days 00:22:21.405000</th>\n",
       "      <td>0.002236</td>\n",
       "      <td>0.000000</td>\n",
       "      <td>26319</td>\n",
       "      <td>26320</td>\n",
       "      <td>0</td>\n",
       "      <td>1341397</td>\n",
       "      <td>1</td>\n",
       "      <td>37925</td>\n",
       "      <td>1341405</td>\n",
       "    </tr>\n",
       "  </tbody>\n",
       "</table>\n",
       "<p>26320 rows × 9 columns</p>\n",
       "</div>"
      ],
      "text/plain": [
       "                           velocity  velocity(20_Hz_filtered)  index  \\\n",
       "0 days 00:00:00            0.010296                  0.094921      0   \n",
       "0 days 00:00:00.050967172  0.010296                  0.094921      1   \n",
       "0 days 00:00:00.101934344  0.013000                  0.094921      2   \n",
       "0 days 00:00:00.152901516  0.076420                  0.091110      3   \n",
       "0 days 00:00:00.203868688  0.522950                  0.087298      4   \n",
       "...                             ...                       ...    ...   \n",
       "0 days 00:22:21.201131312  0.000000                  0.000000  26315   \n",
       "0 days 00:22:21.252098484  0.037202                  0.000000  26316   \n",
       "0 days 00:22:21.303065656  0.000000                  0.000000  26317   \n",
       "0 days 00:22:21.354032828  0.003606                  0.000000  26318   \n",
       "0 days 00:22:21.405000     0.002236                  0.000000  26319   \n",
       "\n",
       "                           frameNum  camNum  sysClock  buffer  \\\n",
       "0 days 00:00:00                   1       0         0       1   \n",
       "0 days 00:00:00.050967172         2       0         9       1   \n",
       "0 days 00:00:00.101934344         3       0        59       2   \n",
       "0 days 00:00:00.152901516         4       0       177       1   \n",
       "0 days 00:00:00.203868688         5       0       180       1   \n",
       "...                             ...     ...       ...     ...   \n",
       "0 days 00:22:21.201131312     26316       0   1341196       1   \n",
       "0 days 00:22:21.252098484     26317       0   1341249       1   \n",
       "0 days 00:22:21.303065656     26318       0   1341297       1   \n",
       "0 days 00:22:21.354032828     26319       0   1341347       1   \n",
       "0 days 00:22:21.405000        26320       0   1341397       1   \n",
       "\n",
       "                           behavCam_frames  sys_clock_behavCam  \n",
       "0 days 00:00:00                          1                   0  \n",
       "0 days 00:00:00.050967172                1                   0  \n",
       "0 days 00:00:00.101934344                3                  63  \n",
       "0 days 00:00:00.152901516                6                 158  \n",
       "0 days 00:00:00.203868688                7                 196  \n",
       "...                                    ...                 ...  \n",
       "0 days 00:22:21.201131312            37918             1341181  \n",
       "0 days 00:22:21.252098484            37920             1341246  \n",
       "0 days 00:22:21.303065656            37922             1341310  \n",
       "0 days 00:22:21.354032828            37923             1341341  \n",
       "0 days 00:22:21.405000               37925             1341405  \n",
       "\n",
       "[26320 rows x 9 columns]"
      ]
     },
     "execution_count": 143,
     "metadata": {},
     "output_type": "execute_result"
    }
   ],
   "source": [
    "aligned_td"
   ]
  },
  {
   "cell_type": "code",
   "execution_count": 88,
   "metadata": {
    "collapsed": false
   },
   "outputs": [
    {
     "data": {
      "image/png": "[encoded data removed]",
      "text/plain": [
       "<Figure size 432x288 with 1 Axes>"
      ]
     },
     "metadata": {
      "needs_background": "light"
     },
     "output_type": "display_data"
    }
   ],
   "source": [
    "plt.plot(speed_trace['speed_trace(velocity_5Hz_filtered)'])\n",
    "plt.show()"
   ]
  },
  {
   "cell_type": "code",
   "execution_count": 49,
   "metadata": {
    "collapsed": false,
    "scrolled": true
   },
   "outputs": [
    {
     "data": {
      "image/png": "[encoded data removed]",
      "text/plain": [
       "<Figure size 432x288 with 1 Axes>"
      ]
     },
     "metadata": {
      "needs_background": "light"
     },
     "output_type": "display_data"
    }
   ],
   "source": [
    "plt.plot(raw_trace['velocity'])\n",
    "plt.plot(speed_trace['velocity_5Hz_filtered'])\n",
    "plt.show()"
   ]
  },
  {
   "cell_type": "code",
   "execution_count": 50,
   "metadata": {
    "collapsed": false
   },
   "outputs": [
    {
     "data": {
      "text/html": [
       "<div>\n",
       "<style scoped>\n",
       "    .dataframe tbody tr th:only-of-type {\n",
       "        vertical-align: middle;\n",
       "    }\n",
       "\n",
       "    .dataframe tbody tr th {\n",
       "        vertical-align: top;\n",
       "    }\n",
       "\n",
       "    .dataframe thead th {\n",
       "        text-align: right;\n",
       "    }\n",
       "</style>\n",
       "<table border=\"1\" class=\"dataframe\">\n",
       "  <thead>\n",
       "    <tr style=\"text-align: right;\">\n",
       "      <th></th>\n",
       "      <th>velocity_5Hz_filtered</th>\n",
       "    </tr>\n",
       "  </thead>\n",
       "  <tbody>\n",
       "    <tr>\n",
       "      <th>0</th>\n",
       "      <td>4.26720</td>\n",
       "    </tr>\n",
       "    <tr>\n",
       "      <th>1</th>\n",
       "      <td>4.52560</td>\n",
       "    </tr>\n",
       "    <tr>\n",
       "      <th>2</th>\n",
       "      <td>4.77620</td>\n",
       "    </tr>\n",
       "    <tr>\n",
       "      <th>3</th>\n",
       "      <td>4.95840</td>\n",
       "    </tr>\n",
       "    <tr>\n",
       "      <th>4</th>\n",
       "      <td>5.18450</td>\n",
       "    </tr>\n",
       "    <tr>\n",
       "      <th>...</th>\n",
       "      <td>...</td>\n",
       "    </tr>\n",
       "    <tr>\n",
       "      <th>6162</th>\n",
       "      <td>0.52988</td>\n",
       "    </tr>\n",
       "    <tr>\n",
       "      <th>6163</th>\n",
       "      <td>0.53292</td>\n",
       "    </tr>\n",
       "    <tr>\n",
       "      <th>6164</th>\n",
       "      <td>0.53609</td>\n",
       "    </tr>\n",
       "    <tr>\n",
       "      <th>6165</th>\n",
       "      <td>0.50607</td>\n",
       "    </tr>\n",
       "    <tr>\n",
       "      <th>6166</th>\n",
       "      <td>0.50808</td>\n",
       "    </tr>\n",
       "  </tbody>\n",
       "</table>\n",
       "<p>6167 rows × 1 columns</p>\n",
       "</div>"
      ],
      "text/plain": [
       "      velocity_5Hz_filtered\n",
       "0                   4.26720\n",
       "1                   4.52560\n",
       "2                   4.77620\n",
       "3                   4.95840\n",
       "4                   5.18450\n",
       "...                     ...\n",
       "6162                0.52988\n",
       "6163                0.53292\n",
       "6164                0.53609\n",
       "6165                0.50607\n",
       "6166                0.50808\n",
       "\n",
       "[6167 rows x 1 columns]"
      ]
     },
     "execution_count": 50,
     "metadata": {},
     "output_type": "execute_result"
    }
   ],
   "source": [
    "speed_trace"
   ]
  },
  {
   "cell_type": "code",
   "execution_count": null,
   "metadata": {
    "collapsed": true
   },
   "outputs": [],
   "source": []
  }
 ],
 "metadata": {
  "kernelspec": {
   "display_name": "caiman_with_tables",
   "language": "python",
   "name": "caiman_with_tables"
  },
  "language_info": {
   "codemirror_mode": {
    "name": "ipython",
    "version": 3
   },
   "file_extension": ".py",
   "mimetype": "text/x-python",
   "name": "python",
   "nbconvert_exporter": "python",
   "pygments_lexer": "ipython3",
   "version": "3.8.8"
  }
 },
 "nbformat": 4,
 "nbformat_minor": 2
}
