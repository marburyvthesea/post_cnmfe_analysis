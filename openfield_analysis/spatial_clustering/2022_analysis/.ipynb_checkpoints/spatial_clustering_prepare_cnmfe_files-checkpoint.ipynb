{
 "cells": [
  {
   "cell_type": "code",
   "execution_count": 1,
   "metadata": {},
   "outputs": [
    {
     "name": "stderr",
     "output_type": "stream",
     "text": [
      "C:\\Users\\scanimage\\AppData\\Local\\Temp\\ipykernel_19208\\2024270946.py:1: DeprecationWarning: Importing display from IPython.core.display is deprecated since IPython 7.14, please import from IPython display\n",
      "  from IPython.core.display import display, HTML\n"
     ]
    },
    {
     "data": {
      "text/html": [
       "<style>.container { width:90% !important; }</style>"
      ],
      "text/plain": [
       "<IPython.core.display.HTML object>"
      ]
     },
     "metadata": {},
     "output_type": "display_data"
    }
   ],
   "source": [
    "from IPython.core.display import display, HTML\n",
    "display(HTML(\"<style>.container { width:90% !important; }</style>\"))\n",
    "import numpy as np\n",
    "import pandas as pd\n",
    "import h5py\n",
    "from tqdm import tqdm\n",
    "import scipy.io as sio\n",
    "from scipy import stats\n",
    "from importlib import reload\n",
    "from matplotlib import pyplot as plt\n",
    "import sys\n",
    "#sys.path.append('/home/jma819/post_cmfe_analysis')\n",
    "sys.path.append(r'C:\\Users\\scanimage\\Documents\\JJM\\post_cnmfe_analysis')\n",
    "import python_utils_jjm as utils_jjm\n",
    "import dlc_utils\n",
    "import statsmodels.formula.api as smf\n",
    "import scipy.spatial.distance as dist\n",
    "import itertools\n",
    "import math\n",
    "import warnings\n",
    "import numbers\n",
    "from multiprocessing import Pool\n",
    "from functools import partial\n",
    "warnings.filterwarnings(action='once')"
   ]
  },
  {
   "cell_type": "code",
   "execution_count": null,
   "metadata": {},
   "outputs": [],
   "source": [
    "#import matlab.engine \n",
    "#import os"
   ]
  },
  {
   "cell_type": "code",
   "execution_count": null,
   "metadata": {},
   "outputs": [],
   "source": [
    "#eng = matlab.engine.start_matlab()"
   ]
  },
  {
   "cell_type": "code",
   "execution_count": null,
   "metadata": {},
   "outputs": [],
   "source": [
    "#os.chdir('/Users/johnmarshall/Documents/Analysis/PythonAnalysisScripts/post_cmfe_analysis/openfield_analysis/spatial_clustering/jones_scripts')\n",
    "#eng.cd('/Users/johnmarshall/Documents/Analysis/PythonAnalysisScripts/post_cmfe_analysis/openfield_analysis/spatial_clustering/jones_scripts')"
   ]
  },
  {
   "cell_type": "code",
   "execution_count": null,
   "metadata": {},
   "outputs": [],
   "source": [
    "## import Jones's functions\n",
    "#eng.help(eng.getPaddedSignalPeaks())"
   ]
  },
  {
   "cell_type": "code",
   "execution_count": 2,
   "metadata": {
    "scrolled": false
   },
   "outputs": [
    {
     "data": {
      "text/plain": [
       "<module 'dlc_utils' from 'C:\\\\Users\\\\scanimage\\\\Documents\\\\JJM\\\\post_cnmfe_analysis\\\\dlc_utils.py'>"
      ]
     },
     "execution_count": 2,
     "metadata": {},
     "output_type": "execute_result"
    }
   ],
   "source": [
    "reload(utils_jjm)\n",
    "reload(dlc_utils)"
   ]
  },
  {
   "cell_type": "code",
   "execution_count": 4,
   "metadata": {},
   "outputs": [],
   "source": [
    "#cnmfe_file_key = pd.read_csv('/Volumes/My_Passport/cnmfe_analysis_files/OpenFieldAnalysis/2020/cnmfe_file_key.csv')\n",
    "#cnmfe_file_key = pd.read_csv('/projects/p30771/dlc_analysis/openfield_dlc_output/cnmfe_file_key.csv')"
   ]
  },
  {
   "cell_type": "code",
   "execution_count": 22,
   "metadata": {},
   "outputs": [],
   "source": [
    "cnmfe_base_dir = r'F:\\\\JJM\\\\miniscope_analysis\\\\mGluR5_NAM\\\\'\n",
    "#cnmfe_base_dir = '/projects/p30771/MATLAB/CNMF_E_jjm/quest_MATLAB_cnmfe/batch_output_files/'\n",
    "vehicle_CNMFE_file = ['24-Aug_18_47_51_out.mat', '24-Aug_18_48_08_out.mat', '26-Aug_20_22_57_out.mat', '30-Aug_12_38_32_out.mat', '31-Aug_12_18_47_out.mat']\n",
    "\n",
    "fenobam_CNMFE_files = ['25-Aug_17_46_55_out.mat', '26-Aug_15_57_27_out.mat', '30-Aug_18_16_26_out.mat', '31-Aug_13_16_00_out.mat',\n",
    "                      '31-Aug_13_41_59_out.mat']"
   ]
  },
  {
   "cell_type": "code",
   "execution_count": 23,
   "metadata": {},
   "outputs": [],
   "source": [
    "#tracking_files = ['/Volumes/My_Passport/dlc_analysis/behavcamvideos/open_field_miniscope/'+utils_jjm.find_behavior_tracking(fname, cnmfe_file_key) for fname in ko_CNMFE_files] \n",
    "#tracking_files = ['/projects/p30771/dlc_analysis/openfield_dlc_output/'+utils_jjm.find_behavior_tracking(fname, cnmfe_file_key) for fname in wt_CNMFE_file] "
   ]
  },
  {
   "cell_type": "code",
   "execution_count": 24,
   "metadata": {},
   "outputs": [],
   "source": [
    "CNMFE_dir_paths_list = [str(cnmfe_base_dir+fname) for fname in vehicle_CNMFE_file]\n",
    "#CNMFE_dir_paths_list"
   ]
  },
  {
   "cell_type": "code",
   "execution_count": 17,
   "metadata": {},
   "outputs": [],
   "source": [
    "cell_fluorescence = sio.loadmat(str(cnmfe_base_dir+'26-Aug_20_22_57_out.mat'))\n",
    "CNMFE_results = cell_fluorescence"
   ]
  },
  {
   "cell_type": "code",
   "execution_count": 18,
   "metadata": {},
   "outputs": [
    {
     "data": {
      "text/plain": [
       "(8, 35682)"
      ]
     },
     "execution_count": 18,
     "metadata": {},
     "output_type": "execute_result"
    }
   ],
   "source": [
    "np.shape(cell_fluorescence['C'])"
   ]
  },
  {
   "cell_type": "code",
   "execution_count": null,
   "metadata": {},
   "outputs": [],
   "source": [
    "spatial_components = np.array(CNMFE_results['A'].todense())"
   ]
  },
  {
   "cell_type": "code",
   "execution_count": null,
   "metadata": {},
   "outputs": [],
   "source": [
    "spatial_components\n",
    "dims=(600, 600)\n",
    "d1 = dims[0]\n",
    "d2 = dims[1]\n",
    "coms = utils_jjm.com(spatial_components, d1, d2)"
   ]
  },
  {
   "cell_type": "code",
   "execution_count": null,
   "metadata": {},
   "outputs": [],
   "source": [
    "CNMFE_dir_paths_list[0].split(r'\\\\')[-1]"
   ]
  },
  {
   "cell_type": "code",
   "execution_count": 37,
   "metadata": {},
   "outputs": [
    {
     "name": "stdout",
     "output_type": "stream",
     "text": [
      "F:\\\\JJM\\\\miniscope_analysis\\\\mGluR5_NAM\\\\24-Aug_18_47_51_out.mat\n",
      "F:\\\\JJM\\\\miniscope_analysis\\\\mGluR5_NAM\\\\24-Aug_18_48_08_out.mat\n",
      "F:\\\\JJM\\\\miniscope_analysis\\\\mGluR5_NAM\\\\26-Aug_20_22_57_out.mat\n",
      "F:\\\\JJM\\\\miniscope_analysis\\\\mGluR5_NAM\\\\30-Aug_12_38_32_out.mat\n",
      "F:\\\\JJM\\\\miniscope_analysis\\\\mGluR5_NAM\\\\31-Aug_12_18_47_out.mat\n"
     ]
    }
   ],
   "source": [
    "grouped_raw_data = {}\n",
    "success = []\n",
    "failed = []\n",
    "#for CNMFE_file, tracking_file in zip(CNMFE_dir_paths_list, tracking_files):\n",
    "for CNMFE_file in CNMFE_dir_paths_list:\n",
    "    print(CNMFE_file)\n",
    "    #print(tracking_file)\n",
    "    try:\n",
    "        # load cell fluorescence \n",
    "        cell_fluorescence = sio.loadmat(CNMFE_file)\n",
    "        C_timedelta = utils_jjm.create_fluorescence_time_delta(cell_fluorescence['C'])\n",
    "        C_normalized = C_timedelta.apply(utils_jjm.normalize).set_index(pd.to_timedelta(np.linspace(0, (len(C_timedelta)-1)*(1/20), len(C_timedelta)), unit='s'), drop=True)\n",
    "        C_z_scored = C_timedelta.apply(stats.zscore).set_index(pd.to_timedelta(np.linspace(0, (len(C_timedelta)-1)*(1/20), len(C_timedelta)), unit='s'), drop=True)\n",
    "        C_normalized_z_scored = C_normalized.apply(stats.zscore).set_index(pd.to_timedelta(np.linspace(0, (len(C_normalized)-1)*(1/20), len(C_normalized)), unit='s'), drop=True)\n",
    "        # create tracking time deltas\n",
    "        #interpolated = utils_jjm.prepare_timedelta_dfs(tracking_file)\n",
    "        #load spatial components by session\n",
    "        #dims of v4 scope are (600,600)\n",
    "        com_df, spatial_components = utils_jjm.return_spatial_info(CNMFE_file, 0.6, dims=(600, 600))\n",
    "        cell_contours, for_dims = utils_jjm.create_contour_layouts(spatial_components, dims=(600, 600))\n",
    "        #C_z_scored_filtered = utils_jjm.filter_out_by_size(C_z_scored, cell_contours, for_dims, 0.6, 100)\n",
    "        #store results \n",
    "        grouped_raw_data[CNMFE_file.split(r'\\\\')[-1]] = {'C': C_timedelta, 'C_z_scored': C_z_scored, 'C_normalized': C_normalized, 'C_normalized_z_scored': C_normalized_z_scored, \n",
    "                                                          'com' : com_df, 'spatial_components' : spatial_components, 'cell_contours': cell_contours,  \n",
    "                                                         'for_dims' : for_dims}\n",
    "        success.append(CNMFE_file.split(r'\\\\')[-1])\n",
    "    except FileNotFoundError:\n",
    "        failed.append(tracking_file)\n",
    "    except OSError:\n",
    "        failed.append(tracking_file)"
   ]
  },
  {
   "cell_type": "markdown",
   "metadata": {},
   "source": [
    "## spatial clustering"
   ]
  },
  {
   "cell_type": "code",
   "execution_count": 38,
   "metadata": {},
   "outputs": [],
   "source": [
    "#downsample calcium traces, use 'C_normalized_z_scored' data \n",
    "new_sampling_interval = .2\n",
    "downsampled_df = pd.concat([grouped_raw_data[session]['C_normalized_z_scored'].resample(str(new_sampling_interval)+'S').max() \n",
    "                  for session in list(grouped_raw_data.keys())], keys=list(grouped_raw_data.keys()))"
   ]
  },
  {
   "cell_type": "code",
   "execution_count": 39,
   "metadata": {},
   "outputs": [],
   "source": [
    "# compile and filter fluorescence\n",
    "filtered_for_analysis = {}\n",
    "for session in list(grouped_raw_data.keys()):\n",
    "    filtered_for_analysis[session] = utils_jjm.filter_out_by_size(grouped_raw_data[session]['C_normalized_z_scored'], grouped_raw_data[session]['cell_contours'], \n",
    "                                                                  grouped_raw_data[session]['for_dims'], 0.6, 100)\n",
    "C_df = pd.concat([filtered_for_analysis[session].resample(str(new_sampling_interval)+'S').max()\n",
    "                  for session in list(grouped_raw_data.keys())], keys=list(grouped_raw_data.keys()))\n"
   ]
  },
  {
   "cell_type": "code",
   "execution_count": 45,
   "metadata": {},
   "outputs": [
    {
     "data": {
      "text/html": [
       "<div>\n",
       "<style scoped>\n",
       "    .dataframe tbody tr th:only-of-type {\n",
       "        vertical-align: middle;\n",
       "    }\n",
       "\n",
       "    .dataframe tbody tr th {\n",
       "        vertical-align: top;\n",
       "    }\n",
       "\n",
       "    .dataframe thead th {\n",
       "        text-align: right;\n",
       "    }\n",
       "</style>\n",
       "<table border=\"1\" class=\"dataframe\">\n",
       "  <thead>\n",
       "    <tr style=\"text-align: right;\">\n",
       "      <th></th>\n",
       "      <th>1</th>\n",
       "      <th>2</th>\n",
       "      <th>3</th>\n",
       "      <th>4</th>\n",
       "      <th>5</th>\n",
       "      <th>6</th>\n",
       "      <th>7</th>\n",
       "      <th>8</th>\n",
       "    </tr>\n",
       "  </thead>\n",
       "  <tbody>\n",
       "    <tr>\n",
       "      <th>0 days 00:00:00</th>\n",
       "      <td>NaN</td>\n",
       "      <td>NaN</td>\n",
       "      <td>NaN</td>\n",
       "      <td>NaN</td>\n",
       "      <td>NaN</td>\n",
       "      <td>NaN</td>\n",
       "      <td>NaN</td>\n",
       "      <td>NaN</td>\n",
       "    </tr>\n",
       "    <tr>\n",
       "      <th>0 days 00:00:00.200000</th>\n",
       "      <td>NaN</td>\n",
       "      <td>NaN</td>\n",
       "      <td>NaN</td>\n",
       "      <td>NaN</td>\n",
       "      <td>NaN</td>\n",
       "      <td>NaN</td>\n",
       "      <td>NaN</td>\n",
       "      <td>NaN</td>\n",
       "    </tr>\n",
       "    <tr>\n",
       "      <th>0 days 00:00:00.400000</th>\n",
       "      <td>NaN</td>\n",
       "      <td>NaN</td>\n",
       "      <td>NaN</td>\n",
       "      <td>NaN</td>\n",
       "      <td>NaN</td>\n",
       "      <td>NaN</td>\n",
       "      <td>NaN</td>\n",
       "      <td>NaN</td>\n",
       "    </tr>\n",
       "    <tr>\n",
       "      <th>0 days 00:00:00.600000</th>\n",
       "      <td>NaN</td>\n",
       "      <td>NaN</td>\n",
       "      <td>NaN</td>\n",
       "      <td>NaN</td>\n",
       "      <td>NaN</td>\n",
       "      <td>NaN</td>\n",
       "      <td>NaN</td>\n",
       "      <td>NaN</td>\n",
       "    </tr>\n",
       "    <tr>\n",
       "      <th>0 days 00:00:00.800000</th>\n",
       "      <td>NaN</td>\n",
       "      <td>NaN</td>\n",
       "      <td>NaN</td>\n",
       "      <td>NaN</td>\n",
       "      <td>NaN</td>\n",
       "      <td>NaN</td>\n",
       "      <td>NaN</td>\n",
       "      <td>NaN</td>\n",
       "    </tr>\n",
       "    <tr>\n",
       "      <th>...</th>\n",
       "      <td>...</td>\n",
       "      <td>...</td>\n",
       "      <td>...</td>\n",
       "      <td>...</td>\n",
       "      <td>...</td>\n",
       "      <td>...</td>\n",
       "      <td>...</td>\n",
       "      <td>...</td>\n",
       "    </tr>\n",
       "    <tr>\n",
       "      <th>0 days 00:17:29</th>\n",
       "      <td>NaN</td>\n",
       "      <td>NaN</td>\n",
       "      <td>NaN</td>\n",
       "      <td>NaN</td>\n",
       "      <td>NaN</td>\n",
       "      <td>NaN</td>\n",
       "      <td>NaN</td>\n",
       "      <td>NaN</td>\n",
       "    </tr>\n",
       "    <tr>\n",
       "      <th>0 days 00:17:29.200000</th>\n",
       "      <td>NaN</td>\n",
       "      <td>NaN</td>\n",
       "      <td>NaN</td>\n",
       "      <td>NaN</td>\n",
       "      <td>NaN</td>\n",
       "      <td>NaN</td>\n",
       "      <td>NaN</td>\n",
       "      <td>NaN</td>\n",
       "    </tr>\n",
       "    <tr>\n",
       "      <th>0 days 00:17:29.400000</th>\n",
       "      <td>NaN</td>\n",
       "      <td>NaN</td>\n",
       "      <td>NaN</td>\n",
       "      <td>NaN</td>\n",
       "      <td>NaN</td>\n",
       "      <td>NaN</td>\n",
       "      <td>NaN</td>\n",
       "      <td>NaN</td>\n",
       "    </tr>\n",
       "    <tr>\n",
       "      <th>0 days 00:17:29.600000</th>\n",
       "      <td>NaN</td>\n",
       "      <td>NaN</td>\n",
       "      <td>NaN</td>\n",
       "      <td>NaN</td>\n",
       "      <td>NaN</td>\n",
       "      <td>NaN</td>\n",
       "      <td>NaN</td>\n",
       "      <td>NaN</td>\n",
       "    </tr>\n",
       "    <tr>\n",
       "      <th>0 days 00:17:29.800000</th>\n",
       "      <td>NaN</td>\n",
       "      <td>NaN</td>\n",
       "      <td>NaN</td>\n",
       "      <td>NaN</td>\n",
       "      <td>NaN</td>\n",
       "      <td>NaN</td>\n",
       "      <td>NaN</td>\n",
       "      <td>NaN</td>\n",
       "    </tr>\n",
       "  </tbody>\n",
       "</table>\n",
       "<p>5250 rows × 8 columns</p>\n",
       "</div>"
      ],
      "text/plain": [
       "                         1   2   3   4   5   6   7   8\n",
       "0 days 00:00:00        NaN NaN NaN NaN NaN NaN NaN NaN\n",
       "0 days 00:00:00.200000 NaN NaN NaN NaN NaN NaN NaN NaN\n",
       "0 days 00:00:00.400000 NaN NaN NaN NaN NaN NaN NaN NaN\n",
       "0 days 00:00:00.600000 NaN NaN NaN NaN NaN NaN NaN NaN\n",
       "0 days 00:00:00.800000 NaN NaN NaN NaN NaN NaN NaN NaN\n",
       "...                     ..  ..  ..  ..  ..  ..  ..  ..\n",
       "0 days 00:17:29        NaN NaN NaN NaN NaN NaN NaN NaN\n",
       "0 days 00:17:29.200000 NaN NaN NaN NaN NaN NaN NaN NaN\n",
       "0 days 00:17:29.400000 NaN NaN NaN NaN NaN NaN NaN NaN\n",
       "0 days 00:17:29.600000 NaN NaN NaN NaN NaN NaN NaN NaN\n",
       "0 days 00:17:29.800000 NaN NaN NaN NaN NaN NaN NaN NaN\n",
       "\n",
       "[5250 rows x 8 columns]"
      ]
     },
     "execution_count": 45,
     "metadata": {},
     "output_type": "execute_result"
    }
   ],
   "source": [
    "C_df.loc['31-Aug_12_18_47_out.mat'].drop('msCamFrame', axis=1)"
   ]
  },
  {
   "cell_type": "code",
   "execution_count": 41,
   "metadata": {},
   "outputs": [
    {
     "name": "stderr",
     "output_type": "stream",
     "text": [
      "100%|████████████████████████████████████████████████████████████████████████████████████████████| 5/5 [00:00<?, ?it/s]\n"
     ]
    }
   ],
   "source": [
    "# clustering info per session \n",
    "coactivity_dfs = {}\n",
    "for session in tqdm(list(grouped_raw_data.keys())):\n",
    "    # get indicies of small cells \n",
    "    cells_to_drop = np.array([cell for cell in range(1, len(grouped_raw_data[session]['cell_contours'])+1) if \n",
    "                              len(np.array(np.where(grouped_raw_data[session]['for_dims'][cell]>0.6)[0]))<100])\n",
    "    #compile and filter cell centers of mass\n",
    "    filtered_centers_of_mass = grouped_raw_data[session]['com'].drop(cells_to_drop, axis =0)\n",
    "    coactivity_dfs[session] = filtered_centers_of_mass"
   ]
  },
  {
   "cell_type": "code",
   "execution_count": 42,
   "metadata": {},
   "outputs": [],
   "source": [
    "com_df = pd.concat(coactivity_dfs)"
   ]
  },
  {
   "cell_type": "code",
   "execution_count": 43,
   "metadata": {},
   "outputs": [
    {
     "ename": "KeyError",
     "evalue": "'31-Aug_12_18_47_out.mat'",
     "output_type": "error",
     "traceback": [
      "\u001b[1;31m---------------------------------------------------------------------------\u001b[0m",
      "\u001b[1;31mKeyError\u001b[0m                                  Traceback (most recent call last)",
      "Input \u001b[1;32mIn [43]\u001b[0m, in \u001b[0;36m<cell line: 5>\u001b[1;34m()\u001b[0m\n\u001b[0;32m      4\u001b[0m save_path\u001b[38;5;241m=\u001b[39m\u001b[38;5;124mr\u001b[39m\u001b[38;5;124m'\u001b[39m\u001b[38;5;124mF:\u001b[39m\u001b[38;5;130;01m\\\\\u001b[39;00m\u001b[38;5;124mJJM\u001b[39m\u001b[38;5;130;01m\\\\\u001b[39;00m\u001b[38;5;124mminiscope_analysis\u001b[39m\u001b[38;5;130;01m\\\\\u001b[39;00m\u001b[38;5;124mmGluR5_NAM\u001b[39m\u001b[38;5;130;01m\\\\\u001b[39;00m\u001b[38;5;124m'\u001b[39m\n\u001b[0;32m      5\u001b[0m \u001b[38;5;28;01mfor\u001b[39;00m session \u001b[38;5;129;01min\u001b[39;00m \u001b[38;5;28mlist\u001b[39m(grouped_raw_data\u001b[38;5;241m.\u001b[39mkeys()):\n\u001b[1;32m----> 6\u001b[0m     \u001b[43mcom_df\u001b[49m\u001b[38;5;241;43m.\u001b[39;49m\u001b[43mloc\u001b[49m\u001b[43m[\u001b[49m\u001b[43msession\u001b[49m\u001b[43m]\u001b[49m\u001b[38;5;241m.\u001b[39mto_csv(save_path\u001b[38;5;241m+\u001b[39msession\u001b[38;5;241m+\u001b[39m\u001b[38;5;124m'\u001b[39m\u001b[38;5;124m_com.csv\u001b[39m\u001b[38;5;124m'\u001b[39m)\n\u001b[0;32m      7\u001b[0m     C_df\u001b[38;5;241m.\u001b[39mloc[session]\u001b[38;5;241m.\u001b[39mdrop(\u001b[38;5;124m'\u001b[39m\u001b[38;5;124mmsCamFrame\u001b[39m\u001b[38;5;124m'\u001b[39m, axis\u001b[38;5;241m=\u001b[39m\u001b[38;5;241m1\u001b[39m)\u001b[38;5;241m.\u001b[39mto_csv(save_path\u001b[38;5;241m+\u001b[39msession\u001b[38;5;241m+\u001b[39m\u001b[38;5;124m'\u001b[39m\u001b[38;5;124m_filtered_f_traces.csv\u001b[39m\u001b[38;5;124m'\u001b[39m)\n",
      "File \u001b[1;32m~\\.conda\\envs\\2pCNMFEAnalysisEnv\\lib\\site-packages\\pandas\\core\\indexing.py:967\u001b[0m, in \u001b[0;36m_LocationIndexer.__getitem__\u001b[1;34m(self, key)\u001b[0m\n\u001b[0;32m    964\u001b[0m axis \u001b[38;5;241m=\u001b[39m \u001b[38;5;28mself\u001b[39m\u001b[38;5;241m.\u001b[39maxis \u001b[38;5;129;01mor\u001b[39;00m \u001b[38;5;241m0\u001b[39m\n\u001b[0;32m    966\u001b[0m maybe_callable \u001b[38;5;241m=\u001b[39m com\u001b[38;5;241m.\u001b[39mapply_if_callable(key, \u001b[38;5;28mself\u001b[39m\u001b[38;5;241m.\u001b[39mobj)\n\u001b[1;32m--> 967\u001b[0m \u001b[38;5;28;01mreturn\u001b[39;00m \u001b[38;5;28;43mself\u001b[39;49m\u001b[38;5;241;43m.\u001b[39;49m\u001b[43m_getitem_axis\u001b[49m\u001b[43m(\u001b[49m\u001b[43mmaybe_callable\u001b[49m\u001b[43m,\u001b[49m\u001b[43m \u001b[49m\u001b[43maxis\u001b[49m\u001b[38;5;241;43m=\u001b[39;49m\u001b[43maxis\u001b[49m\u001b[43m)\u001b[49m\n",
      "File \u001b[1;32m~\\.conda\\envs\\2pCNMFEAnalysisEnv\\lib\\site-packages\\pandas\\core\\indexing.py:1202\u001b[0m, in \u001b[0;36m_LocIndexer._getitem_axis\u001b[1;34m(self, key, axis)\u001b[0m\n\u001b[0;32m   1200\u001b[0m \u001b[38;5;66;03m# fall thru to straight lookup\u001b[39;00m\n\u001b[0;32m   1201\u001b[0m \u001b[38;5;28mself\u001b[39m\u001b[38;5;241m.\u001b[39m_validate_key(key, axis)\n\u001b[1;32m-> 1202\u001b[0m \u001b[38;5;28;01mreturn\u001b[39;00m \u001b[38;5;28;43mself\u001b[39;49m\u001b[38;5;241;43m.\u001b[39;49m\u001b[43m_get_label\u001b[49m\u001b[43m(\u001b[49m\u001b[43mkey\u001b[49m\u001b[43m,\u001b[49m\u001b[43m \u001b[49m\u001b[43maxis\u001b[49m\u001b[38;5;241;43m=\u001b[39;49m\u001b[43maxis\u001b[49m\u001b[43m)\u001b[49m\n",
      "File \u001b[1;32m~\\.conda\\envs\\2pCNMFEAnalysisEnv\\lib\\site-packages\\pandas\\core\\indexing.py:1153\u001b[0m, in \u001b[0;36m_LocIndexer._get_label\u001b[1;34m(self, label, axis)\u001b[0m\n\u001b[0;32m   1151\u001b[0m \u001b[38;5;28;01mdef\u001b[39;00m \u001b[38;5;21m_get_label\u001b[39m(\u001b[38;5;28mself\u001b[39m, label, axis: \u001b[38;5;28mint\u001b[39m):\n\u001b[0;32m   1152\u001b[0m     \u001b[38;5;66;03m# GH#5667 this will fail if the label is not present in the axis.\u001b[39;00m\n\u001b[1;32m-> 1153\u001b[0m     \u001b[38;5;28;01mreturn\u001b[39;00m \u001b[38;5;28;43mself\u001b[39;49m\u001b[38;5;241;43m.\u001b[39;49m\u001b[43mobj\u001b[49m\u001b[38;5;241;43m.\u001b[39;49m\u001b[43mxs\u001b[49m\u001b[43m(\u001b[49m\u001b[43mlabel\u001b[49m\u001b[43m,\u001b[49m\u001b[43m \u001b[49m\u001b[43maxis\u001b[49m\u001b[38;5;241;43m=\u001b[39;49m\u001b[43maxis\u001b[49m\u001b[43m)\u001b[49m\n",
      "File \u001b[1;32m~\\.conda\\envs\\2pCNMFEAnalysisEnv\\lib\\site-packages\\pandas\\core\\generic.py:3857\u001b[0m, in \u001b[0;36mNDFrame.xs\u001b[1;34m(self, key, axis, level, drop_level)\u001b[0m\n\u001b[0;32m   3854\u001b[0m \u001b[38;5;28mself\u001b[39m\u001b[38;5;241m.\u001b[39m_consolidate_inplace()\n\u001b[0;32m   3856\u001b[0m \u001b[38;5;28;01mif\u001b[39;00m \u001b[38;5;28misinstance\u001b[39m(index, MultiIndex):\n\u001b[1;32m-> 3857\u001b[0m     loc, new_index \u001b[38;5;241m=\u001b[39m \u001b[43mindex\u001b[49m\u001b[38;5;241;43m.\u001b[39;49m\u001b[43m_get_loc_level\u001b[49m\u001b[43m(\u001b[49m\u001b[43mkey\u001b[49m\u001b[43m,\u001b[49m\u001b[43m \u001b[49m\u001b[43mlevel\u001b[49m\u001b[38;5;241;43m=\u001b[39;49m\u001b[38;5;241;43m0\u001b[39;49m\u001b[43m)\u001b[49m\n\u001b[0;32m   3858\u001b[0m     \u001b[38;5;28;01mif\u001b[39;00m \u001b[38;5;129;01mnot\u001b[39;00m drop_level:\n\u001b[0;32m   3859\u001b[0m         \u001b[38;5;28;01mif\u001b[39;00m lib\u001b[38;5;241m.\u001b[39mis_integer(loc):\n",
      "File \u001b[1;32m~\\.conda\\envs\\2pCNMFEAnalysisEnv\\lib\\site-packages\\pandas\\core\\indexes\\multi.py:3113\u001b[0m, in \u001b[0;36mMultiIndex._get_loc_level\u001b[1;34m(self, key, level)\u001b[0m\n\u001b[0;32m   3111\u001b[0m         \u001b[38;5;28;01mreturn\u001b[39;00m indexer, maybe_mi_droplevels(indexer, ilevels)\n\u001b[0;32m   3112\u001b[0m \u001b[38;5;28;01melse\u001b[39;00m:\n\u001b[1;32m-> 3113\u001b[0m     indexer \u001b[38;5;241m=\u001b[39m \u001b[38;5;28;43mself\u001b[39;49m\u001b[38;5;241;43m.\u001b[39;49m\u001b[43m_get_level_indexer\u001b[49m\u001b[43m(\u001b[49m\u001b[43mkey\u001b[49m\u001b[43m,\u001b[49m\u001b[43m \u001b[49m\u001b[43mlevel\u001b[49m\u001b[38;5;241;43m=\u001b[39;49m\u001b[43mlevel\u001b[49m\u001b[43m)\u001b[49m\n\u001b[0;32m   3114\u001b[0m     \u001b[38;5;28;01mif\u001b[39;00m (\n\u001b[0;32m   3115\u001b[0m         \u001b[38;5;28misinstance\u001b[39m(key, \u001b[38;5;28mstr\u001b[39m)\n\u001b[0;32m   3116\u001b[0m         \u001b[38;5;129;01mand\u001b[39;00m \u001b[38;5;28mself\u001b[39m\u001b[38;5;241m.\u001b[39mlevels[level]\u001b[38;5;241m.\u001b[39m_supports_partial_string_indexing\n\u001b[0;32m   3117\u001b[0m     ):\n\u001b[0;32m   3118\u001b[0m         \u001b[38;5;66;03m# check to see if we did an exact lookup vs sliced\u001b[39;00m\n\u001b[0;32m   3119\u001b[0m         check \u001b[38;5;241m=\u001b[39m \u001b[38;5;28mself\u001b[39m\u001b[38;5;241m.\u001b[39mlevels[level]\u001b[38;5;241m.\u001b[39mget_loc(key)\n",
      "File \u001b[1;32m~\\.conda\\envs\\2pCNMFEAnalysisEnv\\lib\\site-packages\\pandas\\core\\indexes\\multi.py:3249\u001b[0m, in \u001b[0;36mMultiIndex._get_level_indexer\u001b[1;34m(self, key, level, indexer)\u001b[0m\n\u001b[0;32m   3245\u001b[0m     end \u001b[38;5;241m=\u001b[39m level_codes\u001b[38;5;241m.\u001b[39msearchsorted(idx, side\u001b[38;5;241m=\u001b[39m\u001b[38;5;124m\"\u001b[39m\u001b[38;5;124mright\u001b[39m\u001b[38;5;124m\"\u001b[39m)\n\u001b[0;32m   3247\u001b[0m \u001b[38;5;28;01mif\u001b[39;00m start \u001b[38;5;241m==\u001b[39m end:\n\u001b[0;32m   3248\u001b[0m     \u001b[38;5;66;03m# The label is present in self.levels[level] but unused:\u001b[39;00m\n\u001b[1;32m-> 3249\u001b[0m     \u001b[38;5;28;01mraise\u001b[39;00m \u001b[38;5;167;01mKeyError\u001b[39;00m(key)\n\u001b[0;32m   3250\u001b[0m \u001b[38;5;28;01mreturn\u001b[39;00m \u001b[38;5;28mslice\u001b[39m(start, end)\n",
      "\u001b[1;31mKeyError\u001b[0m: '31-Aug_12_18_47_out.mat'"
     ]
    }
   ],
   "source": [
    "## save outputs if needed \n",
    "#com_df.loc['GRIN026_H16_M35_S34'].to_csv('/Volumes/My_Passport/cnmfe_analysis_files/OpenFieldAnalysis/2020/GRIN026_H16_M35_S34_com.csv')\n",
    "#com_df.to_csv('/Volumes/My_Passport/cnmfe_analysis_files/OpenFieldAnalysis/2020/wt_com.csv')\n",
    "save_path=r'F:\\\\JJM\\\\miniscope_analysis\\\\mGluR5_NAM\\\\'\n",
    "for session in list(grouped_raw_data.keys()):\n",
    "    com_df.loc[session].to_csv(save_path+session+'_com.csv')\n",
    "    C_df.loc[session].drop('msCamFrame', axis=1).to_csv(save_path+session+'_filtered_f_traces.csv')\n",
    "#com_df.to_csv('/projects/p30771/miniscope/analysis/OpenFieldAnalysis/spatial_clusters/jones_script_analysis/wt_com.csv')"
   ]
  },
  {
   "cell_type": "code",
   "execution_count": null,
   "metadata": {},
   "outputs": [],
   "source": [
    "list(grouped_raw_data.keys())"
   ]
  },
  {
   "cell_type": "code",
   "execution_count": null,
   "metadata": {},
   "outputs": [],
   "source": [
    "C_df.loc['GRIN012_H17_M32_S17']"
   ]
  },
  {
   "cell_type": "code",
   "execution_count": null,
   "metadata": {},
   "outputs": [],
   "source": [
    "## start analysis with Jones's scripts"
   ]
  },
  {
   "cell_type": "code",
   "execution_count": null,
   "metadata": {},
   "outputs": [],
   "source": [
    "C_df.loc['GRIN026_H16_M35_S34'].iloc[:,:].dropna(axis=1).values.transpose()[:-1,:]"
   ]
  },
  {
   "cell_type": "code",
   "execution_count": null,
   "metadata": {},
   "outputs": [],
   "source": [
    "#get fluorescence traces for one animal\n",
    "cell_traces = C_df.loc['GRIN026_H16_M35_S34'].iloc[:,:].dropna(axis=1).values.transpose()[:-1,:]"
   ]
  },
  {
   "cell_type": "code",
   "execution_count": null,
   "metadata": {
    "scrolled": true
   },
   "outputs": [],
   "source": [
    "cell_traces"
   ]
  },
  {
   "cell_type": "code",
   "execution_count": null,
   "metadata": {},
   "outputs": [],
   "source": [
    "np.shape(cell_traces)[0]"
   ]
  },
  {
   "cell_type": "code",
   "execution_count": null,
   "metadata": {},
   "outputs": [],
   "source": [
    "#xy centroids\n",
    "cell_XY_coords = com_df.loc['GRIN026_H16_M35_S34'].iloc[:,:].dropna(axis=1).values.transpose()"
   ]
  },
  {
   "cell_type": "code",
   "execution_count": null,
   "metadata": {
    "scrolled": false
   },
   "outputs": [],
   "source": [
    "#convert to MATLAB array \n",
    "cell_traces_MATLAB = matlab.double(cell_traces.tolist())\n",
    "cell_XY_coords_MATLAB = matlab.double(cell_XY_coords.tolist())"
   ]
  },
  {
   "cell_type": "code",
   "execution_count": null,
   "metadata": {},
   "outputs": [],
   "source": [
    "#output signal peaks \n",
    "signal_peaks = eng.computeSignalPeaks(cell_traces_MATLAB, 'doMovAvg', 0, 'reportMidpoint', 1, 'numStdsForThresh', 2.5)"
   ]
  },
  {
   "cell_type": "code",
   "execution_count": null,
   "metadata": {},
   "outputs": [],
   "source": [
    "#pad signal peaks\n",
    "padded_signal_peaks = eng.getPaddedSignalPeaks(signal_peaks)"
   ]
  },
  {
   "cell_type": "code",
   "execution_count": null,
   "metadata": {},
   "outputs": [],
   "source": [
    "#eng.size(signal_peaks)\n",
    "eng.size(padded_signal_peaks)"
   ]
  },
  {
   "cell_type": "code",
   "execution_count": null,
   "metadata": {},
   "outputs": [],
   "source": [
    "#get cell distances multiply by pixel to micron scale\n",
    "cellDistances = eng.pdist(cell_XY_coords_MATLAB, 'euclidean')*2.5"
   ]
  },
  {
   "cell_type": "code",
   "execution_count": null,
   "metadata": {},
   "outputs": [],
   "source": [
    "#get velocity bins\n",
    "#reset timedelta index to integers matching frame numbers\n",
    "vbin_frames_by_session = {}\n",
    "for session in list(grouped_raw_data.keys()):\n",
    "    df_w_integer_index = C_df.loc[session].reset_index()\n",
    "    frame_indicies = {}\n",
    "    for interval_range in all_sessions_v_bins.values.categories.values:\n",
    "        frame_indicies[interval_range] = df_w_integer_index[df_w_integer_index['velocity_bins']==interval_range].index.values\n",
    "    vbin_frames_by_session[session] = frame_indicies"
   ]
  },
  {
   "cell_type": "code",
   "execution_count": null,
   "metadata": {},
   "outputs": [],
   "source": [
    "#pull out indicies matching given bins \n",
    "#save list to csv file\n",
    "\n",
    "for session in list(grouped_raw_data.keys()):\n",
    "    for interval_range_int in range(len(all_sessions_v_bins.values.categories.values)):\n",
    "        np.savetxt('/projects/p30771/miniscope/analysis/OpenFieldAnalysis/spatial_clusters/jones_script_analysis/'+str(session)+'_frame_bins_'+str(interval_range_int).zfill(3)+'_.csv',\n",
    "                vbin_frames_by_session[session][list(frame_indicies.keys())[interval_range_int]])\n",
    "    "
   ]
  },
  {
   "cell_type": "code",
   "execution_count": null,
   "metadata": {},
   "outputs": [],
   "source": [
    "#input frames to analyze\n",
    "# all frames\n",
    "frames_to_analyze = matlab.double(np.linspace(0, np.shape(cell_traces)[1]-1, np.shape(cell_traces)[1]).tolist())\n",
    "within_frames_to_analyze = matlab.double(np.linspace(0, np.shape(cell_traces)[1]-1, np.shape(cell_traces)[1]).tolist())"
   ]
  },
  {
   "cell_type": "code",
   "execution_count": null,
   "metadata": {},
   "outputs": [],
   "source": [
    "# frames subset\n",
    "v_bin_to_analyze = 0 \n",
    "\n",
    "frames_to_analyze = matlab.double(frame_indicies[list(frame_indicies.keys())[v_bin_to_analyze]].tolist())\n",
    "within_frames_to_analyze = matlab.double(frame_indicies[list(frame_indicies.keys())[v_bin_to_analyze]].tolist())"
   ]
  },
  {
   "cell_type": "code",
   "execution_count": null,
   "metadata": {},
   "outputs": [],
   "source": [
    "# cell distance bins\n",
    "maxDist = matlab.double([500]) #compare out to 500 um\n",
    "binSize = matlab.double([20]) #compare in 20 um bins\n",
    "numBins = matlab.double([maxDist[0][0]/binSize[0][0]-1]) #throw out the first bin (overlapping cells)\n",
    "binVector = matlab.double(np.linspace(int(binSize[0][0]), int(maxDist[0][0]), int(numBins[0][0])+1).tolist())"
   ]
  },
  {
   "cell_type": "code",
   "execution_count": null,
   "metadata": {},
   "outputs": [],
   "source": [
    "#other needed variables\n",
    "numCells = matlab.double([np.shape(cell_traces)[0]])"
   ]
  },
  {
   "cell_type": "code",
   "execution_count": null,
   "metadata": {},
   "outputs": [],
   "source": []
  },
  {
   "cell_type": "code",
   "execution_count": null,
   "metadata": {},
   "outputs": [],
   "source": [
    "# get Jaccard scores and compare to shuffle\n",
    "\n",
    "eng.p355_jaccard_shuffle(padded_signal_peaks, frames_to_analyze[0], within_frames_to_analyze, cell_XY_coords_MATLAB, numCells, cellDistances, numBins, binVector, 1)\n"
   ]
  },
  {
   "cell_type": "code",
   "execution_count": null,
   "metadata": {},
   "outputs": [],
   "source": [
    "# clustering info per session \n",
    "coactivity_dfs = {}\n",
    "for session in tqdm(list(grouped_raw_data.keys())):\n",
    "    # get indicies of small cells \n",
    "    cells_to_drop = np.array([cell for cell in range(1, len(grouped_raw_data[session]['cell_contours'])+1) if \n",
    "                              len(np.array(np.where(grouped_raw_data[session]['for_dims'][cell]>0.6)[0]))<100])\n",
    "    #compile and filter cell centers of mass\n",
    "    filtered_centers_of_mass = grouped_raw_data[session]['com'].drop(cells_to_drop, axis =0)\n",
    "\n",
    "    com_distances = utils_jjm.get_pairwise_distance_by_session(filtered_centers_of_mass)\n",
    "\n",
    "    ##get binned fluorescence and calc Jaccard scores\n",
    "    #arguments are sample widths to bin and z score threshold\n",
    "    cells_in_session = C_df.loc[session].dropna(axis=1).drop('msCamFrame', axis=1)\n",
    "    binned_fluorescence = cells_in_session.apply(utils_jjm.binning_function_uncrop, args=[1, 2])\n",
    "\n",
    "    reindexed = binned_fluorescence.set_index(int(x) for x in np.linspace(0, len(binned_fluorescence)-1, len(binned_fluorescence)))\n",
    "\n",
    "    #ks_results_2sided, ks_one_sided_more, ks_one_sided_less, coactivity_dfs = utils_jjm.spatial_coordination_by_session(reindexed, 10, com_distances)\n",
    "    coactivity_dfs[session] = utils_jjm.spatial_coordination_by_session(reindexed)\n",
    "    \n",
    "    "
   ]
  },
  {
   "cell_type": "code",
   "execution_count": null,
   "metadata": {},
   "outputs": [],
   "source": [
    "#save coactivity info to h5py file\n",
    "for session in tqdm(list(grouped_raw_data.keys())):\n",
    "    f = h5py.File(\"/Users/johnmarshall/Documents/Analysis/PythonAnalysisScripts/post_cmfe_analysis/openfield_analysis/spatial_clustering/\" + str(session) +\"clustering.h5\", \"w\")\n",
    "\n",
    "    for time_pt in range(len(coactivity_dfs[session])):\n",
    "        dset = f.create_dataset(str(time_pt), np.shape(coactivity_dfs[session][time_pt].values), dtype=np.float32)\n",
    "        dset[:, :] = coactivity_dfs[session][time_pt].values\n",
    "\n",
    "    cell_pair_ids = f.create_dataset('cell_ids', np.shape(list(coactivity_dfs[session][0].columns)), dtype='i')\n",
    "    cell_pair_ids[:, :] = list(coactivity_dfs[session][0].columns)\n",
    "\n",
    "    f.close()"
   ]
  },
  {
   "cell_type": "code",
   "execution_count": null,
   "metadata": {},
   "outputs": [],
   "source": [
    "spatial_coordination_by_session = {}\n",
    "for session in list(grouped_raw_data.keys()):\n",
    "    print(session)\n",
    "    f = h5py.File(\"/Users/johnmarshall/Documents/Analysis/PythonAnalysisScripts/post_cmfe_analysis/openfield_analysis/spatial_clustering/\" + str(session) +\"clustering.h5\", \"r\")\n",
    "# get indicies of small cells \n",
    "    cells_to_drop = np.array([cell for cell in range(1, len(grouped_raw_data[session]['cell_contours'])+1) if \n",
    "                          len(np.array(np.where(grouped_raw_data[session]['for_dims'][cell]>0.6)[0]))<100])\n",
    "#compile and filter cell centers of mass\n",
    "    filtered_centers_of_mass = grouped_raw_data[session]['com'].drop(cells_to_drop, axis =0)\n",
    "    com_distances = utils_jjm.get_pairwise_distance_by_session(filtered_centers_of_mass)\n",
    "\n",
    "# get one sided ks tests from h5 data set\n",
    "    binnums = 10\n",
    "    ks_one_sided_more = []\n",
    "    ks_one_sided_less = []\n",
    "    for time_point in time_points:\n",
    "        active_cells = [cell_ids[x] for x in [index[0] for index in np.argwhere(f[str(time_points[time_point])][0, 0:len(cell_ids)])]]\n",
    "        active_cell_distances = [com_distances[cell].values[0] for cell in active_cells]\n",
    "        cum_results_coactive = stats.cumfreq(active_cell_distances, numbins=binnums, defaultreallimits=(0, 500))\n",
    "        less_result = stats.kstest(cum_results_coactive.cumcount/len(active_cell_distances), 'norm', alternative='less')\n",
    "        more_result = stats.kstest(cum_results_coactive.cumcount/len(active_cell_distances), 'norm', alternative='greater')\n",
    "        ks_one_sided_more.append(more_result)\n",
    "        ks_one_sided_less.append(less_result)\n",
    "    \n",
    "    spatial_coordination_by_session[session] = {'ks_one_sided_more' : ks_one_sided_more, 'ks_one_sided_less' : ks_one_sided_less}"
   ]
  },
  {
   "cell_type": "code",
   "execution_count": null,
   "metadata": {
    "scrolled": true
   },
   "outputs": [],
   "source": [
    "session = list(grouped_raw_data.keys())[2]"
   ]
  },
  {
   "cell_type": "code",
   "execution_count": null,
   "metadata": {},
   "outputs": [],
   "source": [
    "f = h5py.File(\"/Users/johnmarshall/Documents/Analysis/PythonAnalysisScripts/post_cmfe_analysis/openfield_analysis/spatial_clustering/\" + str(session) +\"clustering.h5\", \"r\")\n",
    "# get indicies of small cells \n",
    "cells_to_drop = np.array([cell for cell in range(1, len(grouped_raw_data[session]['cell_contours'])+1) if \n",
    "                          len(np.array(np.where(grouped_raw_data[session]['for_dims'][cell]>0.6)[0]))<100])\n",
    "#compile and filter cell centers of mass\n",
    "filtered_centers_of_mass = grouped_raw_data[session]['com'].drop(cells_to_drop, axis =0)\n",
    "com_distances = utils_jjm.get_pairwise_distance_by_session(filtered_centers_of_mass)"
   ]
  },
  {
   "cell_type": "code",
   "execution_count": null,
   "metadata": {},
   "outputs": [],
   "source": [
    "cell_ids = f['cell_ids']"
   ]
  },
  {
   "cell_type": "code",
   "execution_count": null,
   "metadata": {},
   "outputs": [],
   "source": [
    "time_point = 95"
   ]
  },
  {
   "cell_type": "code",
   "execution_count": null,
   "metadata": {},
   "outputs": [],
   "source": [
    "len(cell_ids)"
   ]
  },
  {
   "cell_type": "code",
   "execution_count": null,
   "metadata": {},
   "outputs": [],
   "source": [
    "cell_ids[10]"
   ]
  },
  {
   "cell_type": "code",
   "execution_count": null,
   "metadata": {},
   "outputs": [],
   "source": [
    "np.argwhere(f[str(time_point)][0, 0:len(cell_ids)])"
   ]
  },
  {
   "cell_type": "code",
   "execution_count": null,
   "metadata": {
    "scrolled": true
   },
   "outputs": [],
   "source": [
    "active_cells = [cell_idx[0] for cell_idx in np.argwhere(f[str(time_point)][0, 0:len(cell_ids)])]"
   ]
  },
  {
   "cell_type": "code",
   "execution_count": null,
   "metadata": {},
   "outputs": [],
   "source": []
  },
  {
   "cell_type": "code",
   "execution_count": null,
   "metadata": {},
   "outputs": [],
   "source": [
    "len(filtered_centers_of_mass)"
   ]
  },
  {
   "cell_type": "code",
   "execution_count": null,
   "metadata": {},
   "outputs": [],
   "source": [
    "[cell_ids[cell] for cell in active_cells]"
   ]
  },
  {
   "cell_type": "code",
   "execution_count": null,
   "metadata": {},
   "outputs": [],
   "source": [
    "cell_ids[active_cells[0]][0]"
   ]
  },
  {
   "cell_type": "code",
   "execution_count": null,
   "metadata": {},
   "outputs": [],
   "source": [
    "cell_ids[active_cells[0]][1]"
   ]
  },
  {
   "cell_type": "code",
   "execution_count": null,
   "metadata": {
    "scrolled": true
   },
   "outputs": [],
   "source": [
    "com_distances[5]"
   ]
  },
  {
   "cell_type": "code",
   "execution_count": null,
   "metadata": {},
   "outputs": [],
   "source": [
    "[com_distances[cell_ids[cell_idx][0]][cell_ids[cell_idx][1]].values[0] for cell_idx in active_cells]"
   ]
  },
  {
   "cell_type": "code",
   "execution_count": null,
   "metadata": {},
   "outputs": [],
   "source": [
    "for time_pt in range(6251):\n",
    "    if len(np.argwhere(f[str(time_pt)][0, 0:len(cell_ids)])) > 1:\n",
    "        print(time_pt)\n",
    "        break \n",
    "    "
   ]
  },
  {
   "cell_type": "code",
   "execution_count": null,
   "metadata": {},
   "outputs": [],
   "source": [
    "len(f.keys())"
   ]
  },
  {
   "cell_type": "code",
   "execution_count": null,
   "metadata": {},
   "outputs": [],
   "source": []
  },
  {
   "cell_type": "code",
   "execution_count": null,
   "metadata": {},
   "outputs": [],
   "source": [
    "# get one sided ks tests from h5 data set\n",
    "binnums = 10\n",
    "ks_one_sided_more = []\n",
    "ks_one_sided_less = []\n",
    "cell_ids = f['cell_ids']\n",
    "for time_point in time_points:\n",
    "    print(time_point)\n",
    "    active_cells = [cell_idx[0] for cell_idx in np.argwhere(f[str(time_point)][0, 0:len(cell_ids)])]\n",
    "    active_cell_distances = [com_distances[cell_ids[cell_idx][0]][cell_ids[cell_idx][1]].values[0] for cell_idx in active_cells]\n",
    "    cum_results_coactive = stats.cumfreq(active_cell_distances, numbins=binnums, defaultreallimits=(0, 500))\n",
    "    less_result = stats.kstest(cum_results_coactive.cumcount/len(active_cell_distances), 'norm', alternative='less')\n",
    "    more_result = stats.kstest(cum_results_coactive.cumcount/len(active_cell_distances), 'norm', alternative='greater')\n",
    "    ks_one_sided_more.append(more_result)\n",
    "    ks_one_sided_less.append(less_result)\n",
    "    \n",
    "spatial_coordination_by_session[session] = {'ks_one_sided_more' : ks_one_sided_more, 'ks_one_sided_less' : ks_one_sided_less}"
   ]
  },
  {
   "cell_type": "code",
   "execution_count": null,
   "metadata": {},
   "outputs": [],
   "source": [
    "coord_index = np.nan_to_num([math.log(result.pvalue, 10)*-1 for result in ks_one_sided_less])"
   ]
  },
  {
   "cell_type": "code",
   "execution_count": null,
   "metadata": {},
   "outputs": [],
   "source": [
    "plt.plot(coord_index[1700:2500])\n",
    "plt.show()"
   ]
  },
  {
   "cell_type": "code",
   "execution_count": null,
   "metadata": {},
   "outputs": [],
   "source": [
    "plt.plot(V_df.loc[session]['tail_base'].values[1700:2500])\n",
    "plt.show()"
   ]
  },
  {
   "cell_type": "code",
   "execution_count": null,
   "metadata": {},
   "outputs": [],
   "source": [
    "## for plotting average spatial coordination during trigger regions"
   ]
  },
  {
   "cell_type": "code",
   "execution_count": null,
   "metadata": {
    "scrolled": true
   },
   "outputs": [],
   "source": [
    "\n",
    "triggered_activity_across_sessions = {}\n",
    "for session in list(grouped_raw_data.keys()):\n",
    "    #inputs activity_threshold, resting_threshold, resting_baseline \n",
    "    crossing_indicies = utils_jjm.select_trigger_regions(binned_velocity_df[session], 0.5, 0.5, 20)\n",
    "    #inputs time_to_plot\n",
    "    threshold_activity = utils_jjm.average_triggered_regions(V_df.loc[session]['tail_base'].values, crossing_indicies, 40)\n",
    "    \n",
    "    f_threshold_activity = utils_jjm.average_triggered_regions(spatial_coordination_activity_in_session \n",
    "            , crossing_indicies, 40)\n",
    "    triggered_activity_across_sessions[session] = pd.concat([threshold_activity, f_threshold_activity], axis=1, keys=['velocity', 'spatial_coordination'])"
   ]
  },
  {
   "cell_type": "code",
   "execution_count": null,
   "metadata": {},
   "outputs": [],
   "source": [
    "#triggered_activity_across_sessions"
   ]
  },
  {
   "cell_type": "code",
   "execution_count": null,
   "metadata": {
    "scrolled": false
   },
   "outputs": [],
   "source": [
    "#concat by mouse \n",
    "concacted_by_mouse = {}\n",
    "for mouse in list(set([session[0:7] for session in list(triggered_activity_across_sessions.keys())])):\n",
    "    dfs_by_mouse = []\n",
    "    sessions = []\n",
    "    for session in list(triggered_activity_across_sessions.keys()):\n",
    "        if mouse in session:\n",
    "            if not(triggered_activity_across_sessions[session].empty):\n",
    "                means = triggered_activity_across_sessions[session].mean(axis=1, level=0)\n",
    "                dfs_by_mouse.append(means)\n",
    "                sessions.append(session)\n",
    "    if len(dfs_by_mouse)>0:\n",
    "        concacted_by_mouse[mouse] = pd.concat(dfs_by_mouse, axis=1, keys=sessions)\n",
    "combined_by_mouse = pd.concat(list(concacted_by_mouse.values()), axis=1, keys=list(concacted_by_mouse.keys()))\n",
    "\n",
    "combined_by_mouse.head()"
   ]
  },
  {
   "cell_type": "code",
   "execution_count": null,
   "metadata": {},
   "outputs": [],
   "source": [
    "binnums = 10\n",
    "#ks_results_2sided = []\n",
    "ks_one_sided_more = []\n",
    "ks_one_sided_less = []\n",
    "for time_point in tqdm(time_points):\n",
    "    active_cells = [cell_ids[x] for x in [index[0] for index in np.argwhere(f[str(time_points[time_point])][0, 0:len(cell_ids)])]]\n",
    "    coactive_cell_distances = [com_distances[cell].values[0] for cell in active_cells]\n",
    "    #non_coactive_distances = com_distances[coactivity_df[coactivity_df == 0].dropna(axis=1).columns]\n",
    "    #linear_distribution = np.linspace(1, len(coactive_cell_distances.columns), binnums)\n",
    "    #binnums=10\n",
    "    cum_results_coactive = stats.cumfreq(coactive_cell_distances, numbins=binnums, defaultreallimits=(0, 500))\n",
    "    #cum_results_non_coactive = stats.cumfreq(non_coactive_distances.values[0], numbins=binnums, defaultreallimits=(0, 500))\n",
    "    #plt.plot(np.linspace(0, 500, binnums), cum_results_coactive.cumcount/len(coactive_cell_distances.values[0]))\n",
    "    #plt.plot(np.linspace(0, 500, binnums), cum_results_non_coactive.cumcount/len(non_coactive_distances.values[0]))\n",
    "    #plt.plot(np.linspace(0, 500, binnums), linear_distribution/len(coactive_cell_distances.values[0]))\n",
    "    #plt.show()\n",
    "    less_result = stats.kstest(cum_results_coactive.cumcount/len(coactive_cell_distances), 'norm', alternative='less')\n",
    "    more_result = stats.kstest(cum_results_coactive.cumcount/len(coactive_cell_distances), 'norm', alternative='greater')\n",
    "    ks_one_sided_more.append(more_result)\n",
    "    ks_one_sided_less.append(less_result)\n",
    "    #coordination_index = utils_jjm.create_coordination_index(more_result, less_result)\n",
    "    #two sided test between coactive and noncoactive distribution \n",
    "    #ks_result = stats.ks_2samp(cum_results_coactive.cumcount/len(coactive_cell_distances.values[0]), cum_results_non_coactive.cumcount/len(non_coactive_distances.values[0]))\n",
    "    #coordination_indicies.append(coordination_index)\n",
    "    #ks_results_2sided.append(ks_result)\n",
    "    "
   ]
  },
  {
   "cell_type": "code",
   "execution_count": null,
   "metadata": {},
   "outputs": [],
   "source": [
    "x = np.linspace(-40*.2, 40*.2, 80)\n",
    "mean=combined_by_mouse.mean(axis=1, level=2)['velocity'].values\n",
    "plt.plot(x, combined_by_mouse.mean(axis=1, level=2)['velocity'].values, color='k')\n",
    "std_error = (combined_by_mouse.std(axis=1, level=2)['velocity'])/math.sqrt(combined_by_mouse.mean(axis=1, level=0).shape[1])\n",
    "plt.fill_between(x, mean-std_error, mean+std_error)\n",
    "ax = plt.gca()\n",
    "ax.axvline(x=(0), linestyle='--', color='r')\n",
    "plt.show()"
   ]
  },
  {
   "cell_type": "code",
   "execution_count": null,
   "metadata": {},
   "outputs": [],
   "source": [
    "x = np.linspace(-40*.2, 40*.2, 80)\n",
    "mean = combined_by_mouse.mean(axis=1, level=2)['fluorescence'].values\n",
    "plt.plot(x, mean, color='k')\n",
    "std_error = (combined_by_mouse.std(axis=1, level=2)['fluorescence'])/math.sqrt(combined_by_mouse.mean(axis=1, level=0).shape[1])\n",
    "plt.fill_between(x, mean-std_error, mean+std_error)\n",
    "ax = plt.gca()\n",
    "ax.axvline(x=0, linestyle='--', color='r')\n",
    "plt.show()"
   ]
  },
  {
   "cell_type": "code",
   "execution_count": null,
   "metadata": {},
   "outputs": [],
   "source": []
  }
 ],
 "metadata": {
  "kernelspec": {
   "display_name": "2pCNMFEAnalysisEnv",
   "language": "python",
   "name": "2pcnmfeanalysisenv"
  },
  "language_info": {
   "codemirror_mode": {
    "name": "ipython",
    "version": 3
   },
   "file_extension": ".py",
   "mimetype": "text/x-python",
   "name": "python",
   "nbconvert_exporter": "python",
   "pygments_lexer": "ipython3",
   "version": "3.10.4"
  }
 },
 "nbformat": 4,
 "nbformat_minor": 2
}
