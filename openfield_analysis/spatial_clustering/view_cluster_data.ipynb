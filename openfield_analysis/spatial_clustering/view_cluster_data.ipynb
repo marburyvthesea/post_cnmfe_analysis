{
 "cells": [
  {
   "cell_type": "code",
   "execution_count": 1,
   "metadata": {
    "collapsed": false
   },
   "outputs": [
    {
     "data": {
      "text/html": [
       "<style>.container { width:90% !important; }</style>"
      ],
      "text/plain": [
       "<IPython.core.display.HTML object>"
      ]
     },
     "metadata": {},
     "output_type": "display_data"
    },
    {
     "name": "stderr",
     "output_type": "stream",
     "text": [
      "/home/jma819/.conda/envs/caiman/lib/python3.6/site-packages/sklearn/utils/deprecation.py:144: FutureWarning: The sklearn.decomposition.incremental_pca module is  deprecated in version 0.22 and will be removed in version 0.24. The corresponding classes / functions should instead be imported from sklearn.decomposition. Anything that cannot be imported from sklearn.decomposition is now part of the private API.\n",
      "  warnings.warn(message, FutureWarning)\n"
     ]
    }
   ],
   "source": [
    "from IPython.core.display import display, HTML\n",
    "display(HTML(\"<style>.container { width:90% !important; }</style>\"))\n",
    "import numpy as np\n",
    "import pandas as pd\n",
    "import h5py\n",
    "from tqdm import tqdm\n",
    "import scipy.io as sio\n",
    "from scipy import stats\n",
    "from importlib import reload\n",
    "from matplotlib import pyplot as plt\n",
    "import sys\n",
    "sys.path.append('/home/jma819/post_cmfe_analysis')\n",
    "#sys.path.append('/Users/johnmarshall/Documents/Analysis/PythonAnalysisScripts/post_cmfe_analysis')\n",
    "import python_utils_jjm as utils_jjm\n",
    "import dlc_utils\n",
    "import caiman\n",
    "import statsmodels.formula.api as smf\n",
    "import scipy.spatial.distance as dist\n",
    "import itertools\n",
    "import math\n",
    "import warnings\n",
    "import numbers\n",
    "from multiprocessing import Pool\n",
    "from functools import partial\n",
    "warnings.filterwarnings(action='once')"
   ]
  },
  {
   "cell_type": "code",
   "execution_count": 2,
   "metadata": {
    "collapsed": false
   },
   "outputs": [],
   "source": [
    "data_directory='/projects/p30771/miniscope/analysis/OpenFieldAnalysis/spatial_clusters/jones_script_analysis/data'"
   ]
  },
  {
   "cell_type": "code",
   "execution_count": 5,
   "metadata": {
    "collapsed": false
   },
   "outputs": [],
   "source": [
    "##load up jaccard compute outputs\n",
    "session = 'GRIN026_H16_M35_S34'\n",
    "\n",
    "cell_jaccards = pd.read_csv(data_directory+'/'+session+'_CellJaccards.csv')\n",
    "shuffled_cell_jaccards = pd.read_csv(data_directory+'/'+session+'_ShuffledCellJaccards.csv')\n",
    "normbinned_cell_jaccards = pd.read_csv(data_directory+'/'+session+'_normlBinnedCellJaccards.csv')\n",
    "normbinned_shuffled_cell_jaccards = pd.read_csv(data_directory+'/'+session+'_normlShuffledBinnedCellJaccards.csv')\n",
    "proximal_pair_indicies = pd.read_csv(data_directory+'/'+session+'_proximalPairIndices.csv')"
   ]
  },
  {
   "cell_type": "code",
   "execution_count": 27,
   "metadata": {
    "collapsed": false,
    "scrolled": true
   },
   "outputs": [
    {
     "data": {
      "text/html": [
       "<div>\n",
       "<style scoped>\n",
       "    .dataframe tbody tr th:only-of-type {\n",
       "        vertical-align: middle;\n",
       "    }\n",
       "\n",
       "    .dataframe tbody tr th {\n",
       "        vertical-align: top;\n",
       "    }\n",
       "\n",
       "    .dataframe thead th {\n",
       "        text-align: right;\n",
       "    }\n",
       "</style>\n",
       "<table border=\"1\" class=\"dataframe\">\n",
       "  <thead>\n",
       "    <tr style=\"text-align: right;\">\n",
       "      <th></th>\n",
       "      <th>0.11345</th>\n",
       "      <th>0.09589</th>\n",
       "      <th>0.038136</th>\n",
       "      <th>0.05042</th>\n",
       "      <th>0.030769</th>\n",
       "      <th>0.048387</th>\n",
       "      <th>0.043956</th>\n",
       "      <th>0.21622</th>\n",
       "      <th>0.021277</th>\n",
       "      <th>0.05</th>\n",
       "      <th>...</th>\n",
       "      <th>0.020882</th>\n",
       "      <th>0.13699</th>\n",
       "      <th>0.061008</th>\n",
       "      <th>0.077283</th>\n",
       "      <th>0.080097</th>\n",
       "      <th>0.064356.2</th>\n",
       "      <th>0.038136.3</th>\n",
       "      <th>0.074271</th>\n",
       "      <th>0.086449</th>\n",
       "      <th>0.0181.3</th>\n",
       "    </tr>\n",
       "  </thead>\n",
       "  <tbody>\n",
       "  </tbody>\n",
       "</table>\n",
       "<p>0 rows × 2775 columns</p>\n",
       "</div>"
      ],
      "text/plain": [
       "Empty DataFrame\n",
       "Columns: [0.11345, 0.09589, 0.038136, 0.05042, 0.030769, 0.048387, 0.043956, 0.21622, 0.021277, 0.05, 0.076233, 0.17021, 0.04878, 0, 0.010453, 0.025237, 0.021898, 0.043307, 0.024096, 0.051136, 0.0040161, 0.025641, 0.0096154, 0.056034, 0.019608, 0.028807, 0.032609, 0.092896, 0.036036, 0.1, 0.086957, 0.013514, 0.11374, 0.033058, 0.040892, 0.0071942, 0.039755, 0.038251, 0.2, 0.13095, 0.0091743, 0.18785, 0.050955, 0.059908, 0.029412, 0.081731, 0.14035, 0.0074627, 0.012146, 0.024096.1, 0.039604, 0.020833, 0.0034014, 0.072961, 0.11732, 0.022364, 0.069182, 0.035354, 0.0051546, 0.10329, 0.0096154.1, 0.067961, 0.02, 0.042654, 0.026012, 0.056338, 0.034483, 0.0098522, 0.078067, 0.09589.1, 0.047904, 0.094276, 0.02649, 0.042254, 0.10442, 0.1336, 0.14458, 0.12462, 0.016949, 0.11386, 0.035857, 0.078431, 0.17225, 0.23874, 0.099291, 0.059322, 0.022727, 0.006192, 0.049563, 0.053512, 0.098901, 0.024735, 0.0091743.1, 0.014235, 0.046512, 0.3, 0.01083, 0.12167, 0.091954, 0.066351, ...]\n",
       "Index: []\n",
       "\n",
       "[0 rows x 2775 columns]"
      ]
     },
     "execution_count": 27,
     "metadata": {},
     "output_type": "execute_result"
    }
   ],
   "source": [
    "cell_jaccards"
   ]
  },
  {
   "cell_type": "code",
   "execution_count": 6,
   "metadata": {
    "collapsed": false
   },
   "outputs": [
    {
     "data": {
      "text/html": [
       "<div>\n",
       "<style scoped>\n",
       "    .dataframe tbody tr th:only-of-type {\n",
       "        vertical-align: middle;\n",
       "    }\n",
       "\n",
       "    .dataframe tbody tr th {\n",
       "        vertical-align: top;\n",
       "    }\n",
       "\n",
       "    .dataframe thead th {\n",
       "        text-align: right;\n",
       "    }\n",
       "</style>\n",
       "<table border=\"1\" class=\"dataframe\">\n",
       "  <thead>\n",
       "    <tr style=\"text-align: right;\">\n",
       "      <th></th>\n",
       "      <th>0.010565</th>\n",
       "      <th>0.0099774</th>\n",
       "      <th>0.0097073</th>\n",
       "      <th>0.010162</th>\n",
       "      <th>0.012734</th>\n",
       "      <th>0.011797</th>\n",
       "      <th>0.0071472</th>\n",
       "      <th>0.0092037</th>\n",
       "      <th>0.0097797</th>\n",
       "      <th>0.0087234</th>\n",
       "      <th>...</th>\n",
       "      <th>0.017616</th>\n",
       "      <th>0.016103</th>\n",
       "      <th>0.017541</th>\n",
       "      <th>0.018297</th>\n",
       "      <th>0.018161</th>\n",
       "      <th>0.017465</th>\n",
       "      <th>0.020598</th>\n",
       "      <th>0.016791</th>\n",
       "      <th>0.018916</th>\n",
       "      <th>0.01817</th>\n",
       "    </tr>\n",
       "  </thead>\n",
       "  <tbody>\n",
       "  </tbody>\n",
       "</table>\n",
       "<p>0 rows × 2775 columns</p>\n",
       "</div>"
      ],
      "text/plain": [
       "Empty DataFrame\n",
       "Columns: [0.010565, 0.0099774, 0.0097073, 0.010162, 0.012734, 0.011797, 0.0071472, 0.0092037, 0.0097797, 0.0087234, 0.010168, 0.010832, 0.0089752, 0.01025, 0.011572, 0.012284, 0.010666, 0.010519, 0.009338, 0.0069993, 0.0099521, 0.011726, 0.0083279, 0.0094698, 0.010243, 0.0099529, 0.0069925, 0.007369, 0.0098702, 0.0063553, 0.011943, 0.011626, 0.0094147, 0.010157, 0.010562, 0.010813, 0.012396, 0.0074473, 0.0091083, 0.010829, 0.0089255, 0.008655, 0.0056953, 0.0097452, 0.0097153, 0.0087385, 0.010224, 0.010826, 0.010108, 0.010618, 0.0080869, 0.010072, 0.011845, 0.010037, 0.0081988, 0.011837, 0.0064846, 0.0090029, 0.0080931, 0.0095418, 0.0084155, 0.0094048, 0.010437, 0.0089986, 0.012597, 0.0092267, 0.010438, 0.008381, 0.011765, 0.011701, 0.012462, 0.012231, 0.012416, 0.012612, 0.011374, 0.012279, 0.011918, 0.015479, 0.014722, 0.0079107, 0.010325, 0.011066, 0.0099866, 0.010673, 0.013212, 0.0089744, 0.010822, 0.013633, 0.01443, 0.013136, 0.012604, 0.01154, 0.0081872, 0.011538, 0.012928, 0.009098, 0.011496, 0.011554, 0.011685, 0.0088255, ...]\n",
       "Index: []\n",
       "\n",
       "[0 rows x 2775 columns]"
      ]
     },
     "execution_count": 6,
     "metadata": {},
     "output_type": "execute_result"
    }
   ],
   "source": [
    "shuffled_cell_jaccards"
   ]
  },
  {
   "cell_type": "code",
   "execution_count": 12,
   "metadata": {
    "collapsed": false
   },
   "outputs": [
    {
     "data": {
      "text/html": [
       "<div>\n",
       "<style scoped>\n",
       "    .dataframe tbody tr th:only-of-type {\n",
       "        vertical-align: middle;\n",
       "    }\n",
       "\n",
       "    .dataframe tbody tr th {\n",
       "        vertical-align: top;\n",
       "    }\n",
       "\n",
       "    .dataframe thead th {\n",
       "        text-align: right;\n",
       "    }\n",
       "</style>\n",
       "<table border=\"1\" class=\"dataframe\">\n",
       "  <thead>\n",
       "    <tr style=\"text-align: right;\">\n",
       "      <th></th>\n",
       "      <th>2</th>\n",
       "    </tr>\n",
       "  </thead>\n",
       "  <tbody>\n",
       "    <tr>\n",
       "      <th>0</th>\n",
       "      <td>5</td>\n",
       "    </tr>\n",
       "    <tr>\n",
       "      <th>1</th>\n",
       "      <td>27</td>\n",
       "    </tr>\n",
       "    <tr>\n",
       "      <th>2</th>\n",
       "      <td>34</td>\n",
       "    </tr>\n",
       "    <tr>\n",
       "      <th>3</th>\n",
       "      <td>69</td>\n",
       "    </tr>\n",
       "    <tr>\n",
       "      <th>4</th>\n",
       "      <td>75</td>\n",
       "    </tr>\n",
       "    <tr>\n",
       "      <th>...</th>\n",
       "      <td>...</td>\n",
       "    </tr>\n",
       "    <tr>\n",
       "      <th>140</th>\n",
       "      <td>2707</td>\n",
       "    </tr>\n",
       "    <tr>\n",
       "      <th>141</th>\n",
       "      <td>2710</td>\n",
       "    </tr>\n",
       "    <tr>\n",
       "      <th>142</th>\n",
       "      <td>2740</td>\n",
       "    </tr>\n",
       "    <tr>\n",
       "      <th>143</th>\n",
       "      <td>2752</td>\n",
       "    </tr>\n",
       "    <tr>\n",
       "      <th>144</th>\n",
       "      <td>2759</td>\n",
       "    </tr>\n",
       "  </tbody>\n",
       "</table>\n",
       "<p>145 rows × 1 columns</p>\n",
       "</div>"
      ],
      "text/plain": [
       "        2\n",
       "0       5\n",
       "1      27\n",
       "2      34\n",
       "3      69\n",
       "4      75\n",
       "..    ...\n",
       "140  2707\n",
       "141  2710\n",
       "142  2740\n",
       "143  2752\n",
       "144  2759\n",
       "\n",
       "[145 rows x 1 columns]"
      ]
     },
     "execution_count": 12,
     "metadata": {},
     "output_type": "execute_result"
    }
   ],
   "source": [
    "proximal_pair_indicies"
   ]
  },
  {
   "cell_type": "code",
   "execution_count": null,
   "metadata": {
    "collapsed": true
   },
   "outputs": [],
   "source": []
  }
 ],
 "metadata": {
  "kernelspec": {
   "display_name": "caiman",
   "language": "python",
   "name": "caiman"
  },
  "language_info": {
   "codemirror_mode": {
    "name": "ipython",
    "version": 3
   },
   "file_extension": ".py",
   "mimetype": "text/x-python",
   "name": "python",
   "nbconvert_exporter": "python",
   "pygments_lexer": "ipython3",
   "version": "3.7.10"
  }
 },
 "nbformat": 4,
 "nbformat_minor": 2
}
