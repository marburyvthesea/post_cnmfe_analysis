{
 "cells": [
  {
   "cell_type": "code",
   "execution_count": 1,
   "metadata": {},
   "outputs": [
    {
     "name": "stderr",
     "output_type": "stream",
     "text": [
      "C:\\Users\\scanimage\\AppData\\Local\\Temp\\ipykernel_1824\\3734102346.py:1: DeprecationWarning: Importing display from IPython.core.display is deprecated since IPython 7.14, please import from IPython display\n",
      "  from IPython.core.display import display, HTML\n"
     ]
    },
    {
     "data": {
      "text/html": [
       "<style>.container { width:90% !important; }</style>"
      ],
      "text/plain": [
       "<IPython.core.display.HTML object>"
      ]
     },
     "metadata": {},
     "output_type": "display_data"
    },
    {
     "ename": "ModuleNotFoundError",
     "evalue": "No module named 'python_utils_jjm'",
     "output_type": "error",
     "traceback": [
      "\u001b[1;31m---------------------------------------------------------------------------\u001b[0m",
      "\u001b[1;31mModuleNotFoundError\u001b[0m                       Traceback (most recent call last)",
      "Input \u001b[1;32mIn [1]\u001b[0m, in \u001b[0;36m<cell line: 14>\u001b[1;34m()\u001b[0m\n\u001b[0;32m     12\u001b[0m sys\u001b[38;5;241m.\u001b[39mpath\u001b[38;5;241m.\u001b[39mappend(\u001b[38;5;124m'\u001b[39m\u001b[38;5;124m/home/jma819/post_cmfe_analysis\u001b[39m\u001b[38;5;124m'\u001b[39m)\n\u001b[0;32m     13\u001b[0m \u001b[38;5;66;03m#sys.path.append('/Users/johnmarshall/Documents/Analysis/PythonAnalysisScripts/post_cmfe_analysis')\u001b[39;00m\n\u001b[1;32m---> 14\u001b[0m \u001b[38;5;28;01mimport\u001b[39;00m \u001b[38;5;21;01mpython_utils_jjm\u001b[39;00m \u001b[38;5;28;01mas\u001b[39;00m \u001b[38;5;21;01mutils_jjm\u001b[39;00m\n\u001b[0;32m     15\u001b[0m \u001b[38;5;28;01mimport\u001b[39;00m \u001b[38;5;21;01mdlc_utils\u001b[39;00m\n\u001b[0;32m     16\u001b[0m \u001b[38;5;28;01mimport\u001b[39;00m \u001b[38;5;21;01mcaiman\u001b[39;00m\n",
      "\u001b[1;31mModuleNotFoundError\u001b[0m: No module named 'python_utils_jjm'"
     ]
    }
   ],
   "source": [
    "from IPython.core.display import display, HTML\n",
    "display(HTML(\"<style>.container { width:90% !important; }</style>\"))\n",
    "import numpy as np\n",
    "import pandas as pd\n",
    "import h5py\n",
    "from tqdm import tqdm\n",
    "import scipy.io as sio\n",
    "from scipy import stats\n",
    "from importlib import reload\n",
    "from matplotlib import pyplot as plt\n",
    "import sys\n",
    "#sys.path.append('/home/jma819/post_cmfe_analysis')\n",
    "sys.path.append('/Users/johnmarshall/Documents/Analysis/PythonAnalysisScripts/post_cmfe_analysis')\n",
    "import python_utils_jjm as utils_jjm\n",
    "import dlc_utils\n",
    "import caiman\n",
    "import statsmodels.formula.api as smf\n",
    "import scipy.spatial.distance as dist\n",
    "import itertools\n",
    "import math\n",
    "import warnings\n",
    "import numbers\n",
    "from multiprocessing import Pool\n",
    "from functools import partial\n",
    "warnings.filterwarnings(action='once')"
   ]
  },
  {
   "cell_type": "code",
   "execution_count": 2,
   "metadata": {
    "collapsed": true
   },
   "outputs": [],
   "source": [
    "#import matlab.engine \n",
    "#import os"
   ]
  },
  {
   "cell_type": "code",
   "execution_count": 3,
   "metadata": {
    "collapsed": true
   },
   "outputs": [],
   "source": [
    "#eng = matlab.engine.start_matlab()"
   ]
  },
  {
   "cell_type": "code",
   "execution_count": 4,
   "metadata": {
    "collapsed": true
   },
   "outputs": [],
   "source": [
    "#os.chdir('/Users/johnmarshall/Documents/Analysis/PythonAnalysisScripts/post_cmfe_analysis/openfield_analysis/spatial_clustering/jones_scripts')\n",
    "#eng.cd('/Users/johnmarshall/Documents/Analysis/PythonAnalysisScripts/post_cmfe_analysis/openfield_analysis/spatial_clustering/jones_scripts')"
   ]
  },
  {
   "cell_type": "code",
   "execution_count": 5,
   "metadata": {
    "collapsed": true
   },
   "outputs": [],
   "source": [
    "## import Jones's functions\n",
    "#eng.help(eng.getPaddedSignalPeaks())"
   ]
  },
  {
   "cell_type": "code",
   "execution_count": 6,
   "metadata": {
    "scrolled": false
   },
   "outputs": [
    {
     "data": {
      "text/plain": [
       "<module 'dlc_utils' from '/Users/johnmarshall/Documents/Analysis/PythonAnalysisScripts/post_cmfe_analysis/dlc_utils.py'>"
      ]
     },
     "execution_count": 6,
     "metadata": {},
     "output_type": "execute_result"
    }
   ],
   "source": [
    "reload(utils_jjm)\n",
    "reload(dlc_utils)"
   ]
  },
  {
   "cell_type": "code",
   "execution_count": 7,
   "metadata": {
    "collapsed": true
   },
   "outputs": [],
   "source": [
    "cnmfe_file_key = pd.read_csv('/Volumes/My_Passport/cnmfe_analysis_files/OpenFieldAnalysis/2020/cnmfe_file_key.csv')\n",
    "#cnmfe_file_key = pd.read_csv('/projects/p30771/dlc_analysis/openfield_dlc_output/cnmfe_file_key.csv')"
   ]
  },
  {
   "cell_type": "code",
   "execution_count": 8,
   "metadata": {
    "collapsed": true
   },
   "outputs": [],
   "source": [
    "cnmfe_base_dir = '/Volumes/My_Passport/cnmfe_analysis_files/batch_output_files/'\n",
    "#cnmfe_base_dir = '/projects/p30771/MATLAB/CNMF_E_jjm/quest_MATLAB_cnmfe/batch_output_files/'\n",
    "wt_CNMFE_file = ['30-Mar_20_39_05_out.mat', '30-Mar_20_45_16_out.mat', '27-Feb_17_33_59_out.mat', '22-Mar_22_52_02_out.mat',\n",
    "                 '28-Feb_16_10_05_out.mat', '27-Feb_17_32_15_out.mat', '28-Feb_16_21_21_out.mat', '25-Mar_13_27_27_out.mat',\n",
    "                 '25-Mar_14_22_02_out.mat', '25-Mar_14_22_44_out.mat', '26-Mar_18_33_55_out.mat', '27-Mar_00_26_12_out.mat', '27-Mar_00_48_46_out.mat']\n",
    "\n",
    "ko_CNMFE_files = ['31-Mar_13_28_15_out.mat', '29-Mar_21_42_20_out.mat', '13-Apr_17_57_40_out.mat', '29-Mar_14_27_55_out.mat', '13-Apr_16_01_20_out.mat',\n",
    "                 '13-Apr_16_11_27_out.mat', '29-Mar_13_39_44_out.mat']"
   ]
  },
  {
   "cell_type": "code",
   "execution_count": 9,
   "metadata": {
    "collapsed": true
   },
   "outputs": [],
   "source": [
    "tracking_files = ['/Volumes/My_Passport/dlc_analysis/behavcamvideos/open_field_miniscope/'+utils_jjm.find_behavior_tracking(fname, cnmfe_file_key) for fname in ko_CNMFE_files] \n",
    "#tracking_files = ['/projects/p30771/dlc_analysis/openfield_dlc_output/'+utils_jjm.find_behavior_tracking(fname, cnmfe_file_key) for fname in wt_CNMFE_file] "
   ]
  },
  {
   "cell_type": "code",
   "execution_count": 10,
   "metadata": {
    "collapsed": true
   },
   "outputs": [],
   "source": [
    "CNMFE_dir_paths_list = [str(cnmfe_base_dir+fname) for fname in ko_CNMFE_files]\n",
    "#CNMFE_dir_paths_list"
   ]
  },
  {
   "cell_type": "code",
   "execution_count": 11,
   "metadata": {
    "collapsed": true
   },
   "outputs": [],
   "source": [
    "binning_time = 1 # seconds \n",
    "body_part_for_tracking = 'tail_base' #\n",
    "number_of_bins = 50 #\n",
    "polynomial_degree = 2 #\n",
    "\n",
    "grouped_raw_data = {}\n",
    "success = []\n",
    "failed = []\n",
    "for CNMFE_file, tracking_file in zip(CNMFE_dir_paths_list, tracking_files):\n",
    "    #print(CNMFE_file)\n",
    "    #print(tracking_file)\n",
    "    try:\n",
    "        # load cell fluorescence \n",
    "        cell_fluorescence = sio.loadmat(CNMFE_file)\n",
    "        C_timedelta = utils_jjm.create_fluorescence_time_delta(cell_fluorescence['C'])\n",
    "        C_normalized = C_timedelta.apply(utils_jjm.normalize).set_index(pd.to_timedelta(np.linspace(0, (len(C_timedelta)-1)*(1/20), len(C_timedelta)), unit='s'), drop=True)\n",
    "        C_z_scored = C_timedelta.apply(stats.zscore).set_index(pd.to_timedelta(np.linspace(0, (len(C_timedelta)-1)*(1/20), len(C_timedelta)), unit='s'), drop=True)\n",
    "        C_normalized_z_scored = C_normalized.apply(stats.zscore).set_index(pd.to_timedelta(np.linspace(0, (len(C_normalized)-1)*(1/20), len(C_normalized)), unit='s'), drop=True)\n",
    "        # create tracking time deltas\n",
    "        interpolated = utils_jjm.prepare_timedelta_dfs(tracking_file)\n",
    "        #load spatial components by session\n",
    "        com_df, spatial_components = utils_jjm.return_spatial_info(CNMFE_file, 0.6)\n",
    "        cell_contours, for_dims = utils_jjm.create_contour_layouts(spatial_components)\n",
    "        #C_z_scored_filtered = utils_jjm.filter_out_by_size(C_z_scored, cell_contours, for_dims, 0.6, 100)\n",
    "        #store results \n",
    "        grouped_raw_data[tracking_file.split('/')[-2]] = {'C': C_timedelta, 'C_z_scored': C_z_scored, 'C_normalized': C_normalized, 'C_normalized_z_scored': C_normalized_z_scored, \n",
    "                                                          'interpolated' : interpolated, 'com' : com_df, 'spatial_components' : spatial_components, 'cell_contours': cell_contours,  \n",
    "                                                         'for_dims' : for_dims}\n",
    "        success.append((tracking_file.split('/')[-2], CNMFE_file.split('/')[-1]))\n",
    "    except FileNotFoundError:\n",
    "        failed.append(tracking_file)\n",
    "    except OSError:\n",
    "        failed.append(tracking_file)"
   ]
  },
  {
   "cell_type": "markdown",
   "metadata": {},
   "source": [
    "## spatial clustering"
   ]
  },
  {
   "cell_type": "code",
   "execution_count": 12,
   "metadata": {
    "collapsed": true
   },
   "outputs": [],
   "source": [
    "## combine dfs for each session to bin velocity values across dfs\n",
    "#downsample\n",
    "new_sampling_interval = .2\n",
    "V_df = pd.concat([grouped_raw_data[session]['interpolated'].resample(str(new_sampling_interval)+'S').max() \n",
    "                  for session in list(grouped_raw_data.keys())], keys=list(grouped_raw_data.keys()))\n",
    "all_sessions_v_bins = pd.cut(V_df['tail_base'], bins=50)\n",
    "\n",
    "V_df['velocity_bins'] = all_sessions_v_bins"
   ]
  },
  {
   "cell_type": "code",
   "execution_count": 26,
   "metadata": {},
   "outputs": [
    {
     "data": {
      "text/html": [
       "<div>\n",
       "<style scoped>\n",
       "    .dataframe tbody tr th:only-of-type {\n",
       "        vertical-align: middle;\n",
       "    }\n",
       "\n",
       "    .dataframe tbody tr th {\n",
       "        vertical-align: top;\n",
       "    }\n",
       "\n",
       "    .dataframe thead th {\n",
       "        text-align: right;\n",
       "    }\n",
       "</style>\n",
       "<table border=\"1\" class=\"dataframe\">\n",
       "  <thead>\n",
       "    <tr style=\"text-align: right;\">\n",
       "      <th></th>\n",
       "      <th>index</th>\n",
       "      <th>centroid</th>\n",
       "      <th>ear_right</th>\n",
       "      <th>miniscope_light</th>\n",
       "      <th>ear_left</th>\n",
       "      <th>tail_base</th>\n",
       "      <th>msCam_index</th>\n",
       "      <th>centroid_likelihood</th>\n",
       "      <th>ear_right_likelihood</th>\n",
       "      <th>miniscope_light_likelihood</th>\n",
       "      <th>ear_left_likelihood</th>\n",
       "      <th>tail_base_likelihood</th>\n",
       "      <th>velocity_bins</th>\n",
       "    </tr>\n",
       "  </thead>\n",
       "  <tbody>\n",
       "    <tr>\n",
       "      <th>00:00:00</th>\n",
       "      <td>13.500000</td>\n",
       "      <td>2.515226</td>\n",
       "      <td>3.103374</td>\n",
       "      <td>3.988434</td>\n",
       "      <td>2.562785</td>\n",
       "      <td>2.890625</td>\n",
       "      <td>3.0</td>\n",
       "      <td>NaN</td>\n",
       "      <td>NaN</td>\n",
       "      <td>NaN</td>\n",
       "      <td>NaN</td>\n",
       "      <td>NaN</td>\n",
       "      <td>(2.829, 5.58]</td>\n",
       "    </tr>\n",
       "    <tr>\n",
       "      <th>00:00:00.200000</th>\n",
       "      <td>17.500000</td>\n",
       "      <td>2.460201</td>\n",
       "      <td>3.317561</td>\n",
       "      <td>3.809521</td>\n",
       "      <td>2.468187</td>\n",
       "      <td>2.692109</td>\n",
       "      <td>7.0</td>\n",
       "      <td>NaN</td>\n",
       "      <td>NaN</td>\n",
       "      <td>NaN</td>\n",
       "      <td>NaN</td>\n",
       "      <td>NaN</td>\n",
       "      <td>(-0.0606, 2.829]</td>\n",
       "    </tr>\n",
       "    <tr>\n",
       "      <th>00:00:00.400000</th>\n",
       "      <td>21.500000</td>\n",
       "      <td>2.405176</td>\n",
       "      <td>3.531748</td>\n",
       "      <td>3.630609</td>\n",
       "      <td>2.373588</td>\n",
       "      <td>2.493592</td>\n",
       "      <td>11.0</td>\n",
       "      <td>NaN</td>\n",
       "      <td>NaN</td>\n",
       "      <td>NaN</td>\n",
       "      <td>NaN</td>\n",
       "      <td>NaN</td>\n",
       "      <td>(-0.0606, 2.829]</td>\n",
       "    </tr>\n",
       "    <tr>\n",
       "      <th>00:00:00.600000</th>\n",
       "      <td>25.500000</td>\n",
       "      <td>2.350151</td>\n",
       "      <td>3.745935</td>\n",
       "      <td>3.451696</td>\n",
       "      <td>2.278990</td>\n",
       "      <td>2.295075</td>\n",
       "      <td>15.0</td>\n",
       "      <td>NaN</td>\n",
       "      <td>NaN</td>\n",
       "      <td>NaN</td>\n",
       "      <td>NaN</td>\n",
       "      <td>NaN</td>\n",
       "      <td>(-0.0606, 2.829]</td>\n",
       "    </tr>\n",
       "    <tr>\n",
       "      <th>00:00:00.800000</th>\n",
       "      <td>29.500000</td>\n",
       "      <td>2.295127</td>\n",
       "      <td>3.960121</td>\n",
       "      <td>3.272783</td>\n",
       "      <td>2.184391</td>\n",
       "      <td>2.096559</td>\n",
       "      <td>19.0</td>\n",
       "      <td>NaN</td>\n",
       "      <td>NaN</td>\n",
       "      <td>NaN</td>\n",
       "      <td>NaN</td>\n",
       "      <td>NaN</td>\n",
       "      <td>(-0.0606, 2.829]</td>\n",
       "    </tr>\n",
       "    <tr>\n",
       "      <th>...</th>\n",
       "      <td>...</td>\n",
       "      <td>...</td>\n",
       "      <td>...</td>\n",
       "      <td>...</td>\n",
       "      <td>...</td>\n",
       "      <td>...</td>\n",
       "      <td>...</td>\n",
       "      <td>...</td>\n",
       "      <td>...</td>\n",
       "      <td>...</td>\n",
       "      <td>...</td>\n",
       "      <td>...</td>\n",
       "      <td>...</td>\n",
       "    </tr>\n",
       "    <tr>\n",
       "      <th>00:17:20.200000</th>\n",
       "      <td>828.745625</td>\n",
       "      <td>6.051251</td>\n",
       "      <td>6.068077</td>\n",
       "      <td>11.766592</td>\n",
       "      <td>7.764174</td>\n",
       "      <td>6.352312</td>\n",
       "      <td>20807.0</td>\n",
       "      <td>NaN</td>\n",
       "      <td>NaN</td>\n",
       "      <td>NaN</td>\n",
       "      <td>NaN</td>\n",
       "      <td>NaN</td>\n",
       "      <td>(5.58, 8.332]</td>\n",
       "    </tr>\n",
       "    <tr>\n",
       "      <th>00:17:20.400000</th>\n",
       "      <td>832.343125</td>\n",
       "      <td>6.399855</td>\n",
       "      <td>4.627216</td>\n",
       "      <td>15.371330</td>\n",
       "      <td>5.978581</td>\n",
       "      <td>6.454261</td>\n",
       "      <td>20811.0</td>\n",
       "      <td>NaN</td>\n",
       "      <td>NaN</td>\n",
       "      <td>NaN</td>\n",
       "      <td>NaN</td>\n",
       "      <td>NaN</td>\n",
       "      <td>(5.58, 8.332]</td>\n",
       "    </tr>\n",
       "    <tr>\n",
       "      <th>00:17:20.600000</th>\n",
       "      <td>835.940625</td>\n",
       "      <td>6.748460</td>\n",
       "      <td>3.186355</td>\n",
       "      <td>18.976068</td>\n",
       "      <td>4.192988</td>\n",
       "      <td>6.556209</td>\n",
       "      <td>20815.0</td>\n",
       "      <td>NaN</td>\n",
       "      <td>NaN</td>\n",
       "      <td>NaN</td>\n",
       "      <td>NaN</td>\n",
       "      <td>NaN</td>\n",
       "      <td>(5.58, 8.332]</td>\n",
       "    </tr>\n",
       "    <tr>\n",
       "      <th>00:17:20.800000</th>\n",
       "      <td>839.538125</td>\n",
       "      <td>7.097064</td>\n",
       "      <td>1.745493</td>\n",
       "      <td>22.580805</td>\n",
       "      <td>2.407395</td>\n",
       "      <td>6.658158</td>\n",
       "      <td>20819.0</td>\n",
       "      <td>NaN</td>\n",
       "      <td>NaN</td>\n",
       "      <td>NaN</td>\n",
       "      <td>NaN</td>\n",
       "      <td>NaN</td>\n",
       "      <td>(5.58, 8.332]</td>\n",
       "    </tr>\n",
       "    <tr>\n",
       "      <th>00:17:21</th>\n",
       "      <td>840.437500</td>\n",
       "      <td>7.184215</td>\n",
       "      <td>0.304632</td>\n",
       "      <td>23.481990</td>\n",
       "      <td>0.621802</td>\n",
       "      <td>6.683645</td>\n",
       "      <td>20820.0</td>\n",
       "      <td>NaN</td>\n",
       "      <td>NaN</td>\n",
       "      <td>NaN</td>\n",
       "      <td>NaN</td>\n",
       "      <td>NaN</td>\n",
       "      <td>(5.58, 8.332]</td>\n",
       "    </tr>\n",
       "  </tbody>\n",
       "</table>\n",
       "<p>5206 rows × 13 columns</p>\n",
       "</div>"
      ],
      "text/plain": [
       "                      index  centroid  ear_right  miniscope_light  ear_left  \\\n",
       "00:00:00          13.500000  2.515226   3.103374         3.988434  2.562785   \n",
       "00:00:00.200000   17.500000  2.460201   3.317561         3.809521  2.468187   \n",
       "00:00:00.400000   21.500000  2.405176   3.531748         3.630609  2.373588   \n",
       "00:00:00.600000   25.500000  2.350151   3.745935         3.451696  2.278990   \n",
       "00:00:00.800000   29.500000  2.295127   3.960121         3.272783  2.184391   \n",
       "...                     ...       ...        ...              ...       ...   \n",
       "00:17:20.200000  828.745625  6.051251   6.068077        11.766592  7.764174   \n",
       "00:17:20.400000  832.343125  6.399855   4.627216        15.371330  5.978581   \n",
       "00:17:20.600000  835.940625  6.748460   3.186355        18.976068  4.192988   \n",
       "00:17:20.800000  839.538125  7.097064   1.745493        22.580805  2.407395   \n",
       "00:17:21         840.437500  7.184215   0.304632        23.481990  0.621802   \n",
       "\n",
       "                 tail_base  msCam_index  centroid_likelihood  \\\n",
       "00:00:00          2.890625          3.0                  NaN   \n",
       "00:00:00.200000   2.692109          7.0                  NaN   \n",
       "00:00:00.400000   2.493592         11.0                  NaN   \n",
       "00:00:00.600000   2.295075         15.0                  NaN   \n",
       "00:00:00.800000   2.096559         19.0                  NaN   \n",
       "...                    ...          ...                  ...   \n",
       "00:17:20.200000   6.352312      20807.0                  NaN   \n",
       "00:17:20.400000   6.454261      20811.0                  NaN   \n",
       "00:17:20.600000   6.556209      20815.0                  NaN   \n",
       "00:17:20.800000   6.658158      20819.0                  NaN   \n",
       "00:17:21          6.683645      20820.0                  NaN   \n",
       "\n",
       "                 ear_right_likelihood  miniscope_light_likelihood  \\\n",
       "00:00:00                          NaN                         NaN   \n",
       "00:00:00.200000                   NaN                         NaN   \n",
       "00:00:00.400000                   NaN                         NaN   \n",
       "00:00:00.600000                   NaN                         NaN   \n",
       "00:00:00.800000                   NaN                         NaN   \n",
       "...                               ...                         ...   \n",
       "00:17:20.200000                   NaN                         NaN   \n",
       "00:17:20.400000                   NaN                         NaN   \n",
       "00:17:20.600000                   NaN                         NaN   \n",
       "00:17:20.800000                   NaN                         NaN   \n",
       "00:17:21                          NaN                         NaN   \n",
       "\n",
       "                 ear_left_likelihood  tail_base_likelihood     velocity_bins  \n",
       "00:00:00                         NaN                   NaN     (2.829, 5.58]  \n",
       "00:00:00.200000                  NaN                   NaN  (-0.0606, 2.829]  \n",
       "00:00:00.400000                  NaN                   NaN  (-0.0606, 2.829]  \n",
       "00:00:00.600000                  NaN                   NaN  (-0.0606, 2.829]  \n",
       "00:00:00.800000                  NaN                   NaN  (-0.0606, 2.829]  \n",
       "...                              ...                   ...               ...  \n",
       "00:17:20.200000                  NaN                   NaN     (5.58, 8.332]  \n",
       "00:17:20.400000                  NaN                   NaN     (5.58, 8.332]  \n",
       "00:17:20.600000                  NaN                   NaN     (5.58, 8.332]  \n",
       "00:17:20.800000                  NaN                   NaN     (5.58, 8.332]  \n",
       "00:17:21                         NaN                   NaN     (5.58, 8.332]  \n",
       "\n",
       "[5206 rows x 13 columns]"
      ]
     },
     "execution_count": 26,
     "metadata": {},
     "output_type": "execute_result"
    }
   ],
   "source": [
    "V_df.loc['GRIN012_H17_M32_S17']"
   ]
  },
  {
   "cell_type": "code",
   "execution_count": 27,
   "metadata": {
    "collapsed": true
   },
   "outputs": [],
   "source": [
    "# compile and filter fluorescence\n",
    "filtered_for_analysis = {}\n",
    "for session in list(grouped_raw_data.keys()):\n",
    "    filtered_for_analysis[session] = utils_jjm.filter_out_by_size(grouped_raw_data[session]['C_normalized_z_scored'], grouped_raw_data[session]['cell_contours'], \n",
    "                                                                  grouped_raw_data[session]['for_dims'], 0.6, 100)\n",
    "C_df = pd.concat([filtered_for_analysis[session].resample(str(new_sampling_interval)+'S').max()\n",
    "                  for session in list(grouped_raw_data.keys())], keys=list(grouped_raw_data.keys()))\n",
    "C_df['velocity_bins'] = all_sessions_v_bins\n",
    "#if want to normalize bins by each indiv mouse \n",
    "#C_df['by_mouse_vbins'] = V_df['by_mouse_vbins']"
   ]
  },
  {
   "cell_type": "code",
   "execution_count": 32,
   "metadata": {},
   "outputs": [
    {
     "data": {
      "text/html": [
       "<div>\n",
       "<style scoped>\n",
       "    .dataframe tbody tr th:only-of-type {\n",
       "        vertical-align: middle;\n",
       "    }\n",
       "\n",
       "    .dataframe tbody tr th {\n",
       "        vertical-align: top;\n",
       "    }\n",
       "\n",
       "    .dataframe thead th {\n",
       "        text-align: right;\n",
       "    }\n",
       "</style>\n",
       "<table border=\"1\" class=\"dataframe\">\n",
       "  <thead>\n",
       "    <tr style=\"text-align: right;\">\n",
       "      <th></th>\n",
       "      <th>1</th>\n",
       "      <th>2</th>\n",
       "      <th>3</th>\n",
       "      <th>4</th>\n",
       "      <th>7</th>\n",
       "      <th>8</th>\n",
       "      <th>10</th>\n",
       "      <th>11</th>\n",
       "      <th>12</th>\n",
       "      <th>13</th>\n",
       "      <th>...</th>\n",
       "      <th>58</th>\n",
       "      <th>9</th>\n",
       "      <th>26</th>\n",
       "      <th>28</th>\n",
       "      <th>29</th>\n",
       "      <th>30</th>\n",
       "      <th>37</th>\n",
       "      <th>43</th>\n",
       "      <th>56</th>\n",
       "      <th>velocity_bins</th>\n",
       "    </tr>\n",
       "  </thead>\n",
       "  <tbody>\n",
       "    <tr>\n",
       "      <th>00:00:00</th>\n",
       "      <td>-0.376794</td>\n",
       "      <td>-0.004745</td>\n",
       "      <td>0.450959</td>\n",
       "      <td>-0.309227</td>\n",
       "      <td>-0.221392</td>\n",
       "      <td>-0.278460</td>\n",
       "      <td>-0.345085</td>\n",
       "      <td>-0.439040</td>\n",
       "      <td>-0.226133</td>\n",
       "      <td>0.154454</td>\n",
       "      <td>...</td>\n",
       "      <td>-0.662661</td>\n",
       "      <td>0.156937</td>\n",
       "      <td>-0.696122</td>\n",
       "      <td>0.444113</td>\n",
       "      <td>-0.219053</td>\n",
       "      <td>-0.544912</td>\n",
       "      <td>-0.261650</td>\n",
       "      <td>-0.260863</td>\n",
       "      <td>-0.399339</td>\n",
       "      <td>(2.829, 5.58]</td>\n",
       "    </tr>\n",
       "    <tr>\n",
       "      <th>00:00:00.200000</th>\n",
       "      <td>-0.306167</td>\n",
       "      <td>0.102310</td>\n",
       "      <td>0.345854</td>\n",
       "      <td>-0.273399</td>\n",
       "      <td>-0.190540</td>\n",
       "      <td>-0.038487</td>\n",
       "      <td>-0.363913</td>\n",
       "      <td>-0.470494</td>\n",
       "      <td>-0.242395</td>\n",
       "      <td>0.046148</td>\n",
       "      <td>...</td>\n",
       "      <td>-0.262511</td>\n",
       "      <td>0.105288</td>\n",
       "      <td>-0.351586</td>\n",
       "      <td>0.633657</td>\n",
       "      <td>-0.225043</td>\n",
       "      <td>-0.544912</td>\n",
       "      <td>-0.382058</td>\n",
       "      <td>-0.337916</td>\n",
       "      <td>-0.399339</td>\n",
       "      <td>(-0.0606, 2.829]</td>\n",
       "    </tr>\n",
       "    <tr>\n",
       "      <th>00:00:00.400000</th>\n",
       "      <td>-0.316236</td>\n",
       "      <td>0.000900</td>\n",
       "      <td>0.253256</td>\n",
       "      <td>-0.282653</td>\n",
       "      <td>-0.220512</td>\n",
       "      <td>-0.068930</td>\n",
       "      <td>-0.431485</td>\n",
       "      <td>-0.130533</td>\n",
       "      <td>-0.271917</td>\n",
       "      <td>-0.041017</td>\n",
       "      <td>...</td>\n",
       "      <td>-0.571493</td>\n",
       "      <td>-0.067953</td>\n",
       "      <td>-0.384992</td>\n",
       "      <td>0.489780</td>\n",
       "      <td>-0.230944</td>\n",
       "      <td>-0.544912</td>\n",
       "      <td>-0.482612</td>\n",
       "      <td>-0.460526</td>\n",
       "      <td>-0.399339</td>\n",
       "      <td>(-0.0606, 2.829]</td>\n",
       "    </tr>\n",
       "    <tr>\n",
       "      <th>00:00:00.600000</th>\n",
       "      <td>-0.328850</td>\n",
       "      <td>-0.113600</td>\n",
       "      <td>1.501771</td>\n",
       "      <td>-0.316145</td>\n",
       "      <td>-0.261911</td>\n",
       "      <td>-0.177432</td>\n",
       "      <td>-0.352664</td>\n",
       "      <td>-0.277353</td>\n",
       "      <td>-0.297844</td>\n",
       "      <td>0.188154</td>\n",
       "      <td>...</td>\n",
       "      <td>-0.723151</td>\n",
       "      <td>-0.197988</td>\n",
       "      <td>-0.481413</td>\n",
       "      <td>0.629067</td>\n",
       "      <td>-0.236759</td>\n",
       "      <td>-0.230613</td>\n",
       "      <td>-0.551955</td>\n",
       "      <td>-0.447324</td>\n",
       "      <td>-0.399339</td>\n",
       "      <td>(-0.0606, 2.829]</td>\n",
       "    </tr>\n",
       "    <tr>\n",
       "      <th>00:00:00.800000</th>\n",
       "      <td>-0.340596</td>\n",
       "      <td>-0.208212</td>\n",
       "      <td>2.650304</td>\n",
       "      <td>-0.344636</td>\n",
       "      <td>-0.358440</td>\n",
       "      <td>-0.267445</td>\n",
       "      <td>-0.371167</td>\n",
       "      <td>-0.430588</td>\n",
       "      <td>-0.320613</td>\n",
       "      <td>0.166308</td>\n",
       "      <td>...</td>\n",
       "      <td>-0.797590</td>\n",
       "      <td>-0.295591</td>\n",
       "      <td>-0.555278</td>\n",
       "      <td>0.823599</td>\n",
       "      <td>-0.242488</td>\n",
       "      <td>-0.273238</td>\n",
       "      <td>-0.595354</td>\n",
       "      <td>-0.367747</td>\n",
       "      <td>-0.399339</td>\n",
       "      <td>(-0.0606, 2.829]</td>\n",
       "    </tr>\n",
       "    <tr>\n",
       "      <th>...</th>\n",
       "      <td>...</td>\n",
       "      <td>...</td>\n",
       "      <td>...</td>\n",
       "      <td>...</td>\n",
       "      <td>...</td>\n",
       "      <td>...</td>\n",
       "      <td>...</td>\n",
       "      <td>...</td>\n",
       "      <td>...</td>\n",
       "      <td>...</td>\n",
       "      <td>...</td>\n",
       "      <td>...</td>\n",
       "      <td>...</td>\n",
       "      <td>...</td>\n",
       "      <td>...</td>\n",
       "      <td>...</td>\n",
       "      <td>...</td>\n",
       "      <td>...</td>\n",
       "      <td>...</td>\n",
       "      <td>...</td>\n",
       "      <td>...</td>\n",
       "    </tr>\n",
       "    <tr>\n",
       "      <th>00:17:20.200000</th>\n",
       "      <td>-0.324722</td>\n",
       "      <td>-0.355914</td>\n",
       "      <td>0.930279</td>\n",
       "      <td>-0.492554</td>\n",
       "      <td>-0.751163</td>\n",
       "      <td>-0.961469</td>\n",
       "      <td>-0.783829</td>\n",
       "      <td>-0.552474</td>\n",
       "      <td>-0.087489</td>\n",
       "      <td>-0.400377</td>\n",
       "      <td>...</td>\n",
       "      <td>-0.648197</td>\n",
       "      <td>-0.721182</td>\n",
       "      <td>-0.356670</td>\n",
       "      <td>3.645533</td>\n",
       "      <td>-0.216210</td>\n",
       "      <td>-0.490532</td>\n",
       "      <td>7.505467</td>\n",
       "      <td>-0.799420</td>\n",
       "      <td>8.770218</td>\n",
       "      <td>(5.58, 8.332]</td>\n",
       "    </tr>\n",
       "    <tr>\n",
       "      <th>00:17:20.400000</th>\n",
       "      <td>0.194894</td>\n",
       "      <td>0.040039</td>\n",
       "      <td>1.059677</td>\n",
       "      <td>-0.494145</td>\n",
       "      <td>-0.751163</td>\n",
       "      <td>-0.103260</td>\n",
       "      <td>-0.783829</td>\n",
       "      <td>-0.340877</td>\n",
       "      <td>-0.155995</td>\n",
       "      <td>-0.400377</td>\n",
       "      <td>...</td>\n",
       "      <td>-0.654596</td>\n",
       "      <td>-0.707126</td>\n",
       "      <td>-0.371221</td>\n",
       "      <td>3.533746</td>\n",
       "      <td>-0.212437</td>\n",
       "      <td>-0.498738</td>\n",
       "      <td>7.332302</td>\n",
       "      <td>-0.799420</td>\n",
       "      <td>9.185146</td>\n",
       "      <td>(5.58, 8.332]</td>\n",
       "    </tr>\n",
       "    <tr>\n",
       "      <th>00:17:20.600000</th>\n",
       "      <td>-0.192350</td>\n",
       "      <td>-0.353085</td>\n",
       "      <td>0.798822</td>\n",
       "      <td>-0.495559</td>\n",
       "      <td>-0.751163</td>\n",
       "      <td>-0.535972</td>\n",
       "      <td>-0.783829</td>\n",
       "      <td>-0.404122</td>\n",
       "      <td>-0.037461</td>\n",
       "      <td>-0.400377</td>\n",
       "      <td>...</td>\n",
       "      <td>-0.660809</td>\n",
       "      <td>-0.117856</td>\n",
       "      <td>-0.400843</td>\n",
       "      <td>3.757240</td>\n",
       "      <td>-0.227802</td>\n",
       "      <td>-0.470555</td>\n",
       "      <td>7.420499</td>\n",
       "      <td>-0.799420</td>\n",
       "      <td>9.426400</td>\n",
       "      <td>(5.58, 8.332]</td>\n",
       "    </tr>\n",
       "    <tr>\n",
       "      <th>00:17:20.800000</th>\n",
       "      <td>-0.205112</td>\n",
       "      <td>-0.089171</td>\n",
       "      <td>1.040609</td>\n",
       "      <td>-0.496817</td>\n",
       "      <td>-0.751163</td>\n",
       "      <td>-0.721540</td>\n",
       "      <td>-0.783829</td>\n",
       "      <td>-0.351787</td>\n",
       "      <td>-0.205840</td>\n",
       "      <td>-0.400377</td>\n",
       "      <td>...</td>\n",
       "      <td>-0.666843</td>\n",
       "      <td>-0.456708</td>\n",
       "      <td>-0.413935</td>\n",
       "      <td>3.604610</td>\n",
       "      <td>-0.206952</td>\n",
       "      <td>-0.486733</td>\n",
       "      <td>7.431136</td>\n",
       "      <td>-0.799420</td>\n",
       "      <td>8.734445</td>\n",
       "      <td>(5.58, 8.332]</td>\n",
       "    </tr>\n",
       "    <tr>\n",
       "      <th>00:17:21</th>\n",
       "      <td>0.220509</td>\n",
       "      <td>-0.274594</td>\n",
       "      <td>0.934513</td>\n",
       "      <td>-0.497935</td>\n",
       "      <td>-0.751163</td>\n",
       "      <td>-0.719434</td>\n",
       "      <td>-0.783829</td>\n",
       "      <td>-0.590940</td>\n",
       "      <td>-0.372397</td>\n",
       "      <td>-0.400377</td>\n",
       "      <td>...</td>\n",
       "      <td>-0.672703</td>\n",
       "      <td>-0.306329</td>\n",
       "      <td>-0.346471</td>\n",
       "      <td>4.047497</td>\n",
       "      <td>-0.218832</td>\n",
       "      <td>-0.409374</td>\n",
       "      <td>7.638934</td>\n",
       "      <td>-0.799420</td>\n",
       "      <td>9.467957</td>\n",
       "      <td>(5.58, 8.332]</td>\n",
       "    </tr>\n",
       "  </tbody>\n",
       "</table>\n",
       "<p>5206 rows × 58 columns</p>\n",
       "</div>"
      ],
      "text/plain": [
       "                        1         2         3         4         7         8  \\\n",
       "00:00:00        -0.376794 -0.004745  0.450959 -0.309227 -0.221392 -0.278460   \n",
       "00:00:00.200000 -0.306167  0.102310  0.345854 -0.273399 -0.190540 -0.038487   \n",
       "00:00:00.400000 -0.316236  0.000900  0.253256 -0.282653 -0.220512 -0.068930   \n",
       "00:00:00.600000 -0.328850 -0.113600  1.501771 -0.316145 -0.261911 -0.177432   \n",
       "00:00:00.800000 -0.340596 -0.208212  2.650304 -0.344636 -0.358440 -0.267445   \n",
       "...                   ...       ...       ...       ...       ...       ...   \n",
       "00:17:20.200000 -0.324722 -0.355914  0.930279 -0.492554 -0.751163 -0.961469   \n",
       "00:17:20.400000  0.194894  0.040039  1.059677 -0.494145 -0.751163 -0.103260   \n",
       "00:17:20.600000 -0.192350 -0.353085  0.798822 -0.495559 -0.751163 -0.535972   \n",
       "00:17:20.800000 -0.205112 -0.089171  1.040609 -0.496817 -0.751163 -0.721540   \n",
       "00:17:21         0.220509 -0.274594  0.934513 -0.497935 -0.751163 -0.719434   \n",
       "\n",
       "                       10        11        12        13  ...        58  \\\n",
       "00:00:00        -0.345085 -0.439040 -0.226133  0.154454  ... -0.662661   \n",
       "00:00:00.200000 -0.363913 -0.470494 -0.242395  0.046148  ... -0.262511   \n",
       "00:00:00.400000 -0.431485 -0.130533 -0.271917 -0.041017  ... -0.571493   \n",
       "00:00:00.600000 -0.352664 -0.277353 -0.297844  0.188154  ... -0.723151   \n",
       "00:00:00.800000 -0.371167 -0.430588 -0.320613  0.166308  ... -0.797590   \n",
       "...                   ...       ...       ...       ...  ...       ...   \n",
       "00:17:20.200000 -0.783829 -0.552474 -0.087489 -0.400377  ... -0.648197   \n",
       "00:17:20.400000 -0.783829 -0.340877 -0.155995 -0.400377  ... -0.654596   \n",
       "00:17:20.600000 -0.783829 -0.404122 -0.037461 -0.400377  ... -0.660809   \n",
       "00:17:20.800000 -0.783829 -0.351787 -0.205840 -0.400377  ... -0.666843   \n",
       "00:17:21        -0.783829 -0.590940 -0.372397 -0.400377  ... -0.672703   \n",
       "\n",
       "                        9        26        28        29        30        37  \\\n",
       "00:00:00         0.156937 -0.696122  0.444113 -0.219053 -0.544912 -0.261650   \n",
       "00:00:00.200000  0.105288 -0.351586  0.633657 -0.225043 -0.544912 -0.382058   \n",
       "00:00:00.400000 -0.067953 -0.384992  0.489780 -0.230944 -0.544912 -0.482612   \n",
       "00:00:00.600000 -0.197988 -0.481413  0.629067 -0.236759 -0.230613 -0.551955   \n",
       "00:00:00.800000 -0.295591 -0.555278  0.823599 -0.242488 -0.273238 -0.595354   \n",
       "...                   ...       ...       ...       ...       ...       ...   \n",
       "00:17:20.200000 -0.721182 -0.356670  3.645533 -0.216210 -0.490532  7.505467   \n",
       "00:17:20.400000 -0.707126 -0.371221  3.533746 -0.212437 -0.498738  7.332302   \n",
       "00:17:20.600000 -0.117856 -0.400843  3.757240 -0.227802 -0.470555  7.420499   \n",
       "00:17:20.800000 -0.456708 -0.413935  3.604610 -0.206952 -0.486733  7.431136   \n",
       "00:17:21        -0.306329 -0.346471  4.047497 -0.218832 -0.409374  7.638934   \n",
       "\n",
       "                       43        56     velocity_bins  \n",
       "00:00:00        -0.260863 -0.399339     (2.829, 5.58]  \n",
       "00:00:00.200000 -0.337916 -0.399339  (-0.0606, 2.829]  \n",
       "00:00:00.400000 -0.460526 -0.399339  (-0.0606, 2.829]  \n",
       "00:00:00.600000 -0.447324 -0.399339  (-0.0606, 2.829]  \n",
       "00:00:00.800000 -0.367747 -0.399339  (-0.0606, 2.829]  \n",
       "...                   ...       ...               ...  \n",
       "00:17:20.200000 -0.799420  8.770218     (5.58, 8.332]  \n",
       "00:17:20.400000 -0.799420  9.185146     (5.58, 8.332]  \n",
       "00:17:20.600000 -0.799420  9.426400     (5.58, 8.332]  \n",
       "00:17:20.800000 -0.799420  8.734445     (5.58, 8.332]  \n",
       "00:17:21        -0.799420  9.467957     (5.58, 8.332]  \n",
       "\n",
       "[5206 rows x 58 columns]"
      ]
     },
     "execution_count": 32,
     "metadata": {},
     "output_type": "execute_result"
    }
   ],
   "source": [
    "C_df.loc['GRIN012_H17_M32_S17'][C_df.loc['GRIN012_H17_M32_S17']['velocity_bins'].notna()].iloc[:,:].dropna(axis=1)"
   ]
  },
  {
   "cell_type": "code",
   "execution_count": 14,
   "metadata": {},
   "outputs": [
    {
     "name": "stderr",
     "output_type": "stream",
     "text": [
      "100%|██████████| 6/6 [00:02<00:00,  2.29it/s]\n"
     ]
    }
   ],
   "source": [
    "# clustering info per session \n",
    "coactivity_dfs = {}\n",
    "for session in tqdm(list(grouped_raw_data.keys())):\n",
    "    # get indicies of small cells \n",
    "    cells_to_drop = np.array([cell for cell in range(1, len(grouped_raw_data[session]['cell_contours'])+1) if \n",
    "                              len(np.array(np.where(grouped_raw_data[session]['for_dims'][cell]>0.6)[0]))<100])\n",
    "    #compile and filter cell centers of mass\n",
    "    filtered_centers_of_mass = grouped_raw_data[session]['com'].drop(cells_to_drop, axis =0)\n",
    "    coactivity_dfs[session] = filtered_centers_of_mass"
   ]
  },
  {
   "cell_type": "code",
   "execution_count": 15,
   "metadata": {
    "collapsed": true
   },
   "outputs": [],
   "source": [
    "com_df = pd.concat(coactivity_dfs)"
   ]
  },
  {
   "cell_type": "code",
   "execution_count": 33,
   "metadata": {
    "collapsed": true
   },
   "outputs": [],
   "source": [
    "## save outputs if needed \n",
    "#com_df.loc['GRIN026_H16_M35_S34'].to_csv('/Volumes/My_Passport/cnmfe_analysis_files/OpenFieldAnalysis/2020/GRIN026_H16_M35_S34_com.csv')\n",
    "#com_df.to_csv('/Volumes/My_Passport/cnmfe_analysis_files/OpenFieldAnalysis/2020/wt_com.csv')\n",
    "save_path='/Volumes/My_Passport/cnmfe_analysis_files/OpenFieldAnalysis/2020/D1_mGluRKO_clustering/data/ko/'\n",
    "for session in list(grouped_raw_data.keys()):\n",
    "    com_df.loc[session].to_csv(save_path+session+'_com.csv')\n",
    "    C_df.loc[session][C_df.loc[session]['velocity_bins'].notna()].iloc[:,:].dropna(axis=1).to_csv(save_path+session+'_filtered_f_traces.csv')\n",
    "#com_df.to_csv('/projects/p30771/miniscope/analysis/OpenFieldAnalysis/spatial_clusters/jones_script_analysis/wt_com.csv')"
   ]
  },
  {
   "cell_type": "code",
   "execution_count": 17,
   "metadata": {},
   "outputs": [
    {
     "data": {
      "text/plain": [
       "['GRIN009_H13_M59_S14',\n",
       " 'GRIN018_H17_M41_S43',\n",
       " 'GRIN018_H16_M13_S53',\n",
       " 'GRIN011_H10_M19_S59',\n",
       " 'GRIN012_H17_M32_S17',\n",
       " 'GRIN012_H16_M57_S23']"
      ]
     },
     "execution_count": 17,
     "metadata": {},
     "output_type": "execute_result"
    }
   ],
   "source": [
    "list(grouped_raw_data.keys())"
   ]
  },
  {
   "cell_type": "code",
   "execution_count": 22,
   "metadata": {},
   "outputs": [
    {
     "data": {
      "text/html": [
       "<div>\n",
       "<style scoped>\n",
       "    .dataframe tbody tr th:only-of-type {\n",
       "        vertical-align: middle;\n",
       "    }\n",
       "\n",
       "    .dataframe tbody tr th {\n",
       "        vertical-align: top;\n",
       "    }\n",
       "\n",
       "    .dataframe thead th {\n",
       "        text-align: right;\n",
       "    }\n",
       "</style>\n",
       "<table border=\"1\" class=\"dataframe\">\n",
       "  <thead>\n",
       "    <tr style=\"text-align: right;\">\n",
       "      <th></th>\n",
       "      <th>1</th>\n",
       "      <th>2</th>\n",
       "      <th>3</th>\n",
       "      <th>4</th>\n",
       "      <th>7</th>\n",
       "      <th>8</th>\n",
       "      <th>10</th>\n",
       "      <th>11</th>\n",
       "      <th>12</th>\n",
       "      <th>13</th>\n",
       "      <th>...</th>\n",
       "      <th>253</th>\n",
       "      <th>254</th>\n",
       "      <th>255</th>\n",
       "      <th>257</th>\n",
       "      <th>259</th>\n",
       "      <th>260</th>\n",
       "      <th>263</th>\n",
       "      <th>264</th>\n",
       "      <th>56</th>\n",
       "      <th>velocity_bins</th>\n",
       "    </tr>\n",
       "  </thead>\n",
       "  <tbody>\n",
       "    <tr>\n",
       "      <th>00:00:00</th>\n",
       "      <td>-0.376794</td>\n",
       "      <td>-0.004745</td>\n",
       "      <td>0.450959</td>\n",
       "      <td>-0.309227</td>\n",
       "      <td>-0.221392</td>\n",
       "      <td>-0.278460</td>\n",
       "      <td>-0.345085</td>\n",
       "      <td>-0.439040</td>\n",
       "      <td>-0.226133</td>\n",
       "      <td>0.154454</td>\n",
       "      <td>...</td>\n",
       "      <td>NaN</td>\n",
       "      <td>NaN</td>\n",
       "      <td>NaN</td>\n",
       "      <td>NaN</td>\n",
       "      <td>NaN</td>\n",
       "      <td>NaN</td>\n",
       "      <td>NaN</td>\n",
       "      <td>NaN</td>\n",
       "      <td>-0.399339</td>\n",
       "      <td>(2.829, 5.58]</td>\n",
       "    </tr>\n",
       "    <tr>\n",
       "      <th>00:00:00.200000</th>\n",
       "      <td>-0.306167</td>\n",
       "      <td>0.102310</td>\n",
       "      <td>0.345854</td>\n",
       "      <td>-0.273399</td>\n",
       "      <td>-0.190540</td>\n",
       "      <td>-0.038487</td>\n",
       "      <td>-0.363913</td>\n",
       "      <td>-0.470494</td>\n",
       "      <td>-0.242395</td>\n",
       "      <td>0.046148</td>\n",
       "      <td>...</td>\n",
       "      <td>NaN</td>\n",
       "      <td>NaN</td>\n",
       "      <td>NaN</td>\n",
       "      <td>NaN</td>\n",
       "      <td>NaN</td>\n",
       "      <td>NaN</td>\n",
       "      <td>NaN</td>\n",
       "      <td>NaN</td>\n",
       "      <td>-0.399339</td>\n",
       "      <td>(-0.0606, 2.829]</td>\n",
       "    </tr>\n",
       "    <tr>\n",
       "      <th>00:00:00.400000</th>\n",
       "      <td>-0.316236</td>\n",
       "      <td>0.000900</td>\n",
       "      <td>0.253256</td>\n",
       "      <td>-0.282653</td>\n",
       "      <td>-0.220512</td>\n",
       "      <td>-0.068930</td>\n",
       "      <td>-0.431485</td>\n",
       "      <td>-0.130533</td>\n",
       "      <td>-0.271917</td>\n",
       "      <td>-0.041017</td>\n",
       "      <td>...</td>\n",
       "      <td>NaN</td>\n",
       "      <td>NaN</td>\n",
       "      <td>NaN</td>\n",
       "      <td>NaN</td>\n",
       "      <td>NaN</td>\n",
       "      <td>NaN</td>\n",
       "      <td>NaN</td>\n",
       "      <td>NaN</td>\n",
       "      <td>-0.399339</td>\n",
       "      <td>(-0.0606, 2.829]</td>\n",
       "    </tr>\n",
       "    <tr>\n",
       "      <th>00:00:00.600000</th>\n",
       "      <td>-0.328850</td>\n",
       "      <td>-0.113600</td>\n",
       "      <td>1.501771</td>\n",
       "      <td>-0.316145</td>\n",
       "      <td>-0.261911</td>\n",
       "      <td>-0.177432</td>\n",
       "      <td>-0.352664</td>\n",
       "      <td>-0.277353</td>\n",
       "      <td>-0.297844</td>\n",
       "      <td>0.188154</td>\n",
       "      <td>...</td>\n",
       "      <td>NaN</td>\n",
       "      <td>NaN</td>\n",
       "      <td>NaN</td>\n",
       "      <td>NaN</td>\n",
       "      <td>NaN</td>\n",
       "      <td>NaN</td>\n",
       "      <td>NaN</td>\n",
       "      <td>NaN</td>\n",
       "      <td>-0.399339</td>\n",
       "      <td>(-0.0606, 2.829]</td>\n",
       "    </tr>\n",
       "    <tr>\n",
       "      <th>00:00:00.800000</th>\n",
       "      <td>-0.340596</td>\n",
       "      <td>-0.208212</td>\n",
       "      <td>2.650304</td>\n",
       "      <td>-0.344636</td>\n",
       "      <td>-0.358440</td>\n",
       "      <td>-0.267445</td>\n",
       "      <td>-0.371167</td>\n",
       "      <td>-0.430588</td>\n",
       "      <td>-0.320613</td>\n",
       "      <td>0.166308</td>\n",
       "      <td>...</td>\n",
       "      <td>NaN</td>\n",
       "      <td>NaN</td>\n",
       "      <td>NaN</td>\n",
       "      <td>NaN</td>\n",
       "      <td>NaN</td>\n",
       "      <td>NaN</td>\n",
       "      <td>NaN</td>\n",
       "      <td>NaN</td>\n",
       "      <td>-0.399339</td>\n",
       "      <td>(-0.0606, 2.829]</td>\n",
       "    </tr>\n",
       "    <tr>\n",
       "      <th>...</th>\n",
       "      <td>...</td>\n",
       "      <td>...</td>\n",
       "      <td>...</td>\n",
       "      <td>...</td>\n",
       "      <td>...</td>\n",
       "      <td>...</td>\n",
       "      <td>...</td>\n",
       "      <td>...</td>\n",
       "      <td>...</td>\n",
       "      <td>...</td>\n",
       "      <td>...</td>\n",
       "      <td>...</td>\n",
       "      <td>...</td>\n",
       "      <td>...</td>\n",
       "      <td>...</td>\n",
       "      <td>...</td>\n",
       "      <td>...</td>\n",
       "      <td>...</td>\n",
       "      <td>...</td>\n",
       "      <td>...</td>\n",
       "      <td>...</td>\n",
       "    </tr>\n",
       "    <tr>\n",
       "      <th>00:17:20.800000</th>\n",
       "      <td>-0.205112</td>\n",
       "      <td>-0.089171</td>\n",
       "      <td>1.040609</td>\n",
       "      <td>-0.496817</td>\n",
       "      <td>-0.751163</td>\n",
       "      <td>-0.721540</td>\n",
       "      <td>-0.783829</td>\n",
       "      <td>-0.351787</td>\n",
       "      <td>-0.205840</td>\n",
       "      <td>-0.400377</td>\n",
       "      <td>...</td>\n",
       "      <td>NaN</td>\n",
       "      <td>NaN</td>\n",
       "      <td>NaN</td>\n",
       "      <td>NaN</td>\n",
       "      <td>NaN</td>\n",
       "      <td>NaN</td>\n",
       "      <td>NaN</td>\n",
       "      <td>NaN</td>\n",
       "      <td>8.734445</td>\n",
       "      <td>(5.58, 8.332]</td>\n",
       "    </tr>\n",
       "    <tr>\n",
       "      <th>00:17:21</th>\n",
       "      <td>0.220509</td>\n",
       "      <td>-0.274594</td>\n",
       "      <td>0.934513</td>\n",
       "      <td>-0.497935</td>\n",
       "      <td>-0.751163</td>\n",
       "      <td>-0.719434</td>\n",
       "      <td>-0.783829</td>\n",
       "      <td>-0.590940</td>\n",
       "      <td>-0.372397</td>\n",
       "      <td>-0.400377</td>\n",
       "      <td>...</td>\n",
       "      <td>NaN</td>\n",
       "      <td>NaN</td>\n",
       "      <td>NaN</td>\n",
       "      <td>NaN</td>\n",
       "      <td>NaN</td>\n",
       "      <td>NaN</td>\n",
       "      <td>NaN</td>\n",
       "      <td>NaN</td>\n",
       "      <td>9.467957</td>\n",
       "      <td>(5.58, 8.332]</td>\n",
       "    </tr>\n",
       "    <tr>\n",
       "      <th>00:17:21.200000</th>\n",
       "      <td>-0.158256</td>\n",
       "      <td>0.095171</td>\n",
       "      <td>0.918597</td>\n",
       "      <td>-0.498929</td>\n",
       "      <td>-0.751163</td>\n",
       "      <td>-0.238494</td>\n",
       "      <td>-0.783829</td>\n",
       "      <td>-0.588025</td>\n",
       "      <td>-0.216089</td>\n",
       "      <td>-0.400377</td>\n",
       "      <td>...</td>\n",
       "      <td>NaN</td>\n",
       "      <td>NaN</td>\n",
       "      <td>NaN</td>\n",
       "      <td>NaN</td>\n",
       "      <td>NaN</td>\n",
       "      <td>NaN</td>\n",
       "      <td>NaN</td>\n",
       "      <td>NaN</td>\n",
       "      <td>9.160393</td>\n",
       "      <td>NaN</td>\n",
       "    </tr>\n",
       "    <tr>\n",
       "      <th>00:17:21.400000</th>\n",
       "      <td>-0.220229</td>\n",
       "      <td>-0.046662</td>\n",
       "      <td>1.098281</td>\n",
       "      <td>-0.499813</td>\n",
       "      <td>-0.751163</td>\n",
       "      <td>-0.605093</td>\n",
       "      <td>-0.783829</td>\n",
       "      <td>-0.499196</td>\n",
       "      <td>-0.208017</td>\n",
       "      <td>-0.400377</td>\n",
       "      <td>...</td>\n",
       "      <td>NaN</td>\n",
       "      <td>NaN</td>\n",
       "      <td>NaN</td>\n",
       "      <td>NaN</td>\n",
       "      <td>NaN</td>\n",
       "      <td>NaN</td>\n",
       "      <td>NaN</td>\n",
       "      <td>NaN</td>\n",
       "      <td>10.368723</td>\n",
       "      <td>NaN</td>\n",
       "    </tr>\n",
       "    <tr>\n",
       "      <th>00:17:21.600000</th>\n",
       "      <td>0.039137</td>\n",
       "      <td>-0.398520</td>\n",
       "      <td>0.741816</td>\n",
       "      <td>-0.500599</td>\n",
       "      <td>-0.751163</td>\n",
       "      <td>0.133077</td>\n",
       "      <td>-0.783829</td>\n",
       "      <td>-0.685502</td>\n",
       "      <td>-0.027561</td>\n",
       "      <td>-0.400377</td>\n",
       "      <td>...</td>\n",
       "      <td>NaN</td>\n",
       "      <td>NaN</td>\n",
       "      <td>NaN</td>\n",
       "      <td>NaN</td>\n",
       "      <td>NaN</td>\n",
       "      <td>NaN</td>\n",
       "      <td>NaN</td>\n",
       "      <td>NaN</td>\n",
       "      <td>8.250221</td>\n",
       "      <td>NaN</td>\n",
       "    </tr>\n",
       "  </tbody>\n",
       "</table>\n",
       "<p>5209 rows × 242 columns</p>\n",
       "</div>"
      ],
      "text/plain": [
       "                        1         2         3         4         7         8  \\\n",
       "00:00:00        -0.376794 -0.004745  0.450959 -0.309227 -0.221392 -0.278460   \n",
       "00:00:00.200000 -0.306167  0.102310  0.345854 -0.273399 -0.190540 -0.038487   \n",
       "00:00:00.400000 -0.316236  0.000900  0.253256 -0.282653 -0.220512 -0.068930   \n",
       "00:00:00.600000 -0.328850 -0.113600  1.501771 -0.316145 -0.261911 -0.177432   \n",
       "00:00:00.800000 -0.340596 -0.208212  2.650304 -0.344636 -0.358440 -0.267445   \n",
       "...                   ...       ...       ...       ...       ...       ...   \n",
       "00:17:20.800000 -0.205112 -0.089171  1.040609 -0.496817 -0.751163 -0.721540   \n",
       "00:17:21         0.220509 -0.274594  0.934513 -0.497935 -0.751163 -0.719434   \n",
       "00:17:21.200000 -0.158256  0.095171  0.918597 -0.498929 -0.751163 -0.238494   \n",
       "00:17:21.400000 -0.220229 -0.046662  1.098281 -0.499813 -0.751163 -0.605093   \n",
       "00:17:21.600000  0.039137 -0.398520  0.741816 -0.500599 -0.751163  0.133077   \n",
       "\n",
       "                       10        11        12        13  ...  253  254  255  \\\n",
       "00:00:00        -0.345085 -0.439040 -0.226133  0.154454  ...  NaN  NaN  NaN   \n",
       "00:00:00.200000 -0.363913 -0.470494 -0.242395  0.046148  ...  NaN  NaN  NaN   \n",
       "00:00:00.400000 -0.431485 -0.130533 -0.271917 -0.041017  ...  NaN  NaN  NaN   \n",
       "00:00:00.600000 -0.352664 -0.277353 -0.297844  0.188154  ...  NaN  NaN  NaN   \n",
       "00:00:00.800000 -0.371167 -0.430588 -0.320613  0.166308  ...  NaN  NaN  NaN   \n",
       "...                   ...       ...       ...       ...  ...  ...  ...  ...   \n",
       "00:17:20.800000 -0.783829 -0.351787 -0.205840 -0.400377  ...  NaN  NaN  NaN   \n",
       "00:17:21        -0.783829 -0.590940 -0.372397 -0.400377  ...  NaN  NaN  NaN   \n",
       "00:17:21.200000 -0.783829 -0.588025 -0.216089 -0.400377  ...  NaN  NaN  NaN   \n",
       "00:17:21.400000 -0.783829 -0.499196 -0.208017 -0.400377  ...  NaN  NaN  NaN   \n",
       "00:17:21.600000 -0.783829 -0.685502 -0.027561 -0.400377  ...  NaN  NaN  NaN   \n",
       "\n",
       "                 257  259  260  263  264         56     velocity_bins  \n",
       "00:00:00         NaN  NaN  NaN  NaN  NaN  -0.399339     (2.829, 5.58]  \n",
       "00:00:00.200000  NaN  NaN  NaN  NaN  NaN  -0.399339  (-0.0606, 2.829]  \n",
       "00:00:00.400000  NaN  NaN  NaN  NaN  NaN  -0.399339  (-0.0606, 2.829]  \n",
       "00:00:00.600000  NaN  NaN  NaN  NaN  NaN  -0.399339  (-0.0606, 2.829]  \n",
       "00:00:00.800000  NaN  NaN  NaN  NaN  NaN  -0.399339  (-0.0606, 2.829]  \n",
       "...              ...  ...  ...  ...  ...        ...               ...  \n",
       "00:17:20.800000  NaN  NaN  NaN  NaN  NaN   8.734445     (5.58, 8.332]  \n",
       "00:17:21         NaN  NaN  NaN  NaN  NaN   9.467957     (5.58, 8.332]  \n",
       "00:17:21.200000  NaN  NaN  NaN  NaN  NaN   9.160393               NaN  \n",
       "00:17:21.400000  NaN  NaN  NaN  NaN  NaN  10.368723               NaN  \n",
       "00:17:21.600000  NaN  NaN  NaN  NaN  NaN   8.250221               NaN  \n",
       "\n",
       "[5209 rows x 242 columns]"
      ]
     },
     "execution_count": 22,
     "metadata": {},
     "output_type": "execute_result"
    }
   ],
   "source": [
    "C_df.loc['GRIN012_H17_M32_S17']"
   ]
  },
  {
   "cell_type": "code",
   "execution_count": 16,
   "metadata": {
    "collapsed": true
   },
   "outputs": [],
   "source": [
    "## start analysis with Jones's scripts"
   ]
  },
  {
   "cell_type": "code",
   "execution_count": 50,
   "metadata": {},
   "outputs": [
    {
     "data": {
      "text/plain": [
       "array([[-0.25102836264285117, -0.17671887323743618, 0.08744908086959693,\n",
       "        ..., 1.113494403225138, 1.1635455109482133, 0.9548691508208585],\n",
       "       [0.2268380640848979, 0.23253915165516115, 0.18583093063192407,\n",
       "        ..., 2.9236969370112105, 2.0648892423049814, 1.4124981472366254],\n",
       "       [0.3454201962726108, 0.3291852956228375, 0.348359328978695, ...,\n",
       "        1.7276403218368643, 0.9302150029215204, 0.40136977570200555],\n",
       "       ...,\n",
       "       [1.5080586594925516, 1.1376714598327757, 0.7888997955521182, ...,\n",
       "        4.906288124011757, 4.563649419991397, 4.331158879753255],\n",
       "       [-0.08612036548581312, 0.2692903540072777, 0.8126225505387242,\n",
       "        ..., 1.431751306361636, 2.0773125413272573, 1.8421225231825937],\n",
       "       [-0.5329814552150857, -0.5062164524852223, -0.6239475567078001,\n",
       "        ..., -0.13858807216199112, -0.5112578693333647,\n",
       "        -0.544580199721618]], dtype=object)"
      ]
     },
     "execution_count": 50,
     "metadata": {},
     "output_type": "execute_result"
    }
   ],
   "source": [
    "C_df.loc['GRIN026_H16_M35_S34'].iloc[:,:].dropna(axis=1).values.transpose()[:-1,:]"
   ]
  },
  {
   "cell_type": "code",
   "execution_count": 53,
   "metadata": {
    "collapsed": true
   },
   "outputs": [],
   "source": [
    "#get fluorescence traces for one animal\n",
    "cell_traces = C_df.loc['GRIN026_H16_M35_S34'].iloc[:,:].dropna(axis=1).values.transpose()[:-1,:]"
   ]
  },
  {
   "cell_type": "code",
   "execution_count": 54,
   "metadata": {
    "scrolled": true
   },
   "outputs": [
    {
     "data": {
      "text/plain": [
       "array([[-0.25102836264285117, -0.17671887323743618, 0.08744908086959693,\n",
       "        ..., 1.113494403225138, 1.1635455109482133, 0.9548691508208585],\n",
       "       [0.2268380640848979, 0.23253915165516115, 0.18583093063192407,\n",
       "        ..., 2.9236969370112105, 2.0648892423049814, 1.4124981472366254],\n",
       "       [0.3454201962726108, 0.3291852956228375, 0.348359328978695, ...,\n",
       "        1.7276403218368643, 0.9302150029215204, 0.40136977570200555],\n",
       "       ...,\n",
       "       [1.5080586594925516, 1.1376714598327757, 0.7888997955521182, ...,\n",
       "        4.906288124011757, 4.563649419991397, 4.331158879753255],\n",
       "       [-0.08612036548581312, 0.2692903540072777, 0.8126225505387242,\n",
       "        ..., 1.431751306361636, 2.0773125413272573, 1.8421225231825937],\n",
       "       [-0.5329814552150857, -0.5062164524852223, -0.6239475567078001,\n",
       "        ..., -0.13858807216199112, -0.5112578693333647,\n",
       "        -0.544580199721618]], dtype=object)"
      ]
     },
     "execution_count": 54,
     "metadata": {},
     "output_type": "execute_result"
    }
   ],
   "source": [
    "cell_traces"
   ]
  },
  {
   "cell_type": "code",
   "execution_count": 55,
   "metadata": {},
   "outputs": [
    {
     "data": {
      "text/plain": [
       "76"
      ]
     },
     "execution_count": 55,
     "metadata": {},
     "output_type": "execute_result"
    }
   ],
   "source": [
    "np.shape(cell_traces)[0]"
   ]
  },
  {
   "cell_type": "code",
   "execution_count": 56,
   "metadata": {
    "collapsed": true
   },
   "outputs": [],
   "source": [
    "#xy centroids\n",
    "cell_XY_coords = com_df.loc['GRIN026_H16_M35_S34'].iloc[:,:].dropna(axis=1).values.transpose()"
   ]
  },
  {
   "cell_type": "code",
   "execution_count": 57,
   "metadata": {
    "collapsed": true,
    "scrolled": false
   },
   "outputs": [],
   "source": [
    "#convert to MATLAB array \n",
    "cell_traces_MATLAB = matlab.double(cell_traces.tolist())\n",
    "cell_XY_coords_MATLAB = matlab.double(cell_XY_coords.tolist())"
   ]
  },
  {
   "cell_type": "code",
   "execution_count": 58,
   "metadata": {
    "collapsed": true
   },
   "outputs": [],
   "source": [
    "#output signal peaks \n",
    "signal_peaks = eng.computeSignalPeaks(cell_traces_MATLAB, 'doMovAvg', 0, 'reportMidpoint', 1, 'numStdsForThresh', 2.5)"
   ]
  },
  {
   "cell_type": "code",
   "execution_count": 59,
   "metadata": {
    "collapsed": true
   },
   "outputs": [],
   "source": [
    "#pad signal peaks\n",
    "padded_signal_peaks = eng.getPaddedSignalPeaks(signal_peaks)"
   ]
  },
  {
   "cell_type": "code",
   "execution_count": 60,
   "metadata": {},
   "outputs": [
    {
     "data": {
      "text/plain": [
       "matlab.double([[76.0,6250.0]])"
      ]
     },
     "execution_count": 60,
     "metadata": {},
     "output_type": "execute_result"
    }
   ],
   "source": [
    "#eng.size(signal_peaks)\n",
    "eng.size(padded_signal_peaks)"
   ]
  },
  {
   "cell_type": "code",
   "execution_count": 61,
   "metadata": {
    "collapsed": true
   },
   "outputs": [],
   "source": [
    "#get cell distances multiply by pixel to micron scale\n",
    "cellDistances = eng.pdist(cell_XY_coords_MATLAB, 'euclidean')*2.5"
   ]
  },
  {
   "cell_type": "code",
   "execution_count": 22,
   "metadata": {},
   "outputs": [
    {
     "name": "stderr",
     "output_type": "stream",
     "text": [
      "/home/jma819/.conda/envs/caiman/lib/python3.6/site-packages/jupyter_client/jsonutil.py:67: DeprecationWarning: Interpreting naive datetime as local 2020-10-09 14:11:16.642508. Please add timezone info to timestamps.\n",
      "  new_obj[k] = extract_dates(v)\n"
     ]
    }
   ],
   "source": [
    "#get velocity bins\n",
    "#reset timedelta index to integers matching frame numbers\n",
    "vbin_frames_by_session = {}\n",
    "for session in list(grouped_raw_data.keys()):\n",
    "    df_w_integer_index = C_df.loc[session].reset_index()\n",
    "    frame_indicies = {}\n",
    "    for interval_range in all_sessions_v_bins.values.categories.values:\n",
    "        frame_indicies[interval_range] = df_w_integer_index[df_w_integer_index['velocity_bins']==interval_range].index.values\n",
    "    vbin_frames_by_session[session] = frame_indicies"
   ]
  },
  {
   "cell_type": "code",
   "execution_count": 23,
   "metadata": {},
   "outputs": [
    {
     "name": "stderr",
     "output_type": "stream",
     "text": [
      "/home/jma819/.conda/envs/caiman/lib/python3.6/site-packages/jupyter_client/jsonutil.py:67: DeprecationWarning: Interpreting naive datetime as local 2020-10-09 14:14:10.441681. Please add timezone info to timestamps.\n",
      "  new_obj[k] = extract_dates(v)\n"
     ]
    }
   ],
   "source": [
    "#pull out indicies matching given bins \n",
    "#save list to csv file\n",
    "\n",
    "for session in list(grouped_raw_data.keys()):\n",
    "    for interval_range_int in range(len(all_sessions_v_bins.values.categories.values)):\n",
    "        np.savetxt('/projects/p30771/miniscope/analysis/OpenFieldAnalysis/spatial_clusters/jones_script_analysis/'+str(session)+'_frame_bins_'+str(interval_range_int).zfill(3)+'_.csv',\n",
    "                vbin_frames_by_session[session][list(frame_indicies.keys())[interval_range_int]])\n",
    "    "
   ]
  },
  {
   "cell_type": "code",
   "execution_count": 102,
   "metadata": {
    "collapsed": true
   },
   "outputs": [],
   "source": [
    "#input frames to analyze\n",
    "# all frames\n",
    "frames_to_analyze = matlab.double(np.linspace(0, np.shape(cell_traces)[1]-1, np.shape(cell_traces)[1]).tolist())\n",
    "within_frames_to_analyze = matlab.double(np.linspace(0, np.shape(cell_traces)[1]-1, np.shape(cell_traces)[1]).tolist())"
   ]
  },
  {
   "cell_type": "code",
   "execution_count": 103,
   "metadata": {
    "collapsed": true
   },
   "outputs": [],
   "source": [
    "# frames subset\n",
    "v_bin_to_analyze = 0 \n",
    "\n",
    "frames_to_analyze = matlab.double(frame_indicies[list(frame_indicies.keys())[v_bin_to_analyze]].tolist())\n",
    "within_frames_to_analyze = matlab.double(frame_indicies[list(frame_indicies.keys())[v_bin_to_analyze]].tolist())"
   ]
  },
  {
   "cell_type": "code",
   "execution_count": 106,
   "metadata": {
    "collapsed": true
   },
   "outputs": [],
   "source": [
    "# cell distance bins\n",
    "maxDist = matlab.double([500]) #compare out to 500 um\n",
    "binSize = matlab.double([20]) #compare in 20 um bins\n",
    "numBins = matlab.double([maxDist[0][0]/binSize[0][0]-1]) #throw out the first bin (overlapping cells)\n",
    "binVector = matlab.double(np.linspace(int(binSize[0][0]), int(maxDist[0][0]), int(numBins[0][0])+1).tolist())"
   ]
  },
  {
   "cell_type": "code",
   "execution_count": 107,
   "metadata": {
    "collapsed": true
   },
   "outputs": [],
   "source": [
    "#other needed variables\n",
    "numCells = matlab.double([np.shape(cell_traces)[0]])"
   ]
  },
  {
   "cell_type": "code",
   "execution_count": null,
   "metadata": {
    "collapsed": true
   },
   "outputs": [],
   "source": []
  },
  {
   "cell_type": "code",
   "execution_count": 114,
   "metadata": {},
   "outputs": [
    {
     "ename": "MatlabExecutionError",
     "evalue": "\n  File /Users/johnmarshall/Documents/Analysis/PythonAnalysisScripts/post_cmfe_analysis/openfield_analysis/spatial_clustering/jones_scripts/p355_jaccard_shuffle.m, line 29, in p355_jaccard_shuffle\nIndex in position 2 is invalid. Array indices must be positive integers or logical values.\n",
     "output_type": "error",
     "traceback": [
      "\u001b[0;31m---------------------------------------------------------------------------\u001b[0m",
      "\u001b[0;31mMatlabExecutionError\u001b[0m                      Traceback (most recent call last)",
      "\u001b[0;32m<ipython-input-114-7a1f4fa8bcc5>\u001b[0m in \u001b[0;36m<module>\u001b[0;34m\u001b[0m\n\u001b[1;32m      1\u001b[0m \u001b[0;31m# get Jaccard scores and compare to shuffle\u001b[0m\u001b[0;34m\u001b[0m\u001b[0;34m\u001b[0m\u001b[0;34m\u001b[0m\u001b[0m\n\u001b[1;32m      2\u001b[0m \u001b[0;34m\u001b[0m\u001b[0m\n\u001b[0;32m----> 3\u001b[0;31m \u001b[0meng\u001b[0m\u001b[0;34m.\u001b[0m\u001b[0mp355_jaccard_shuffle\u001b[0m\u001b[0;34m(\u001b[0m\u001b[0mpadded_signal_peaks\u001b[0m\u001b[0;34m,\u001b[0m \u001b[0mframes_to_analyze\u001b[0m\u001b[0;34m[\u001b[0m\u001b[0;36m0\u001b[0m\u001b[0;34m]\u001b[0m\u001b[0;34m,\u001b[0m \u001b[0mwithin_frames_to_analyze\u001b[0m\u001b[0;34m,\u001b[0m \u001b[0mcell_XY_coords_MATLAB\u001b[0m\u001b[0;34m,\u001b[0m \u001b[0mnumCells\u001b[0m\u001b[0;34m,\u001b[0m \u001b[0mcellDistances\u001b[0m\u001b[0;34m,\u001b[0m \u001b[0mnumBins\u001b[0m\u001b[0;34m,\u001b[0m \u001b[0mbinVector\u001b[0m\u001b[0;34m,\u001b[0m \u001b[0;36m1\u001b[0m\u001b[0;34m)\u001b[0m\u001b[0;34m\u001b[0m\u001b[0;34m\u001b[0m\u001b[0m\n\u001b[0m",
      "\u001b[0;32m~/anaconda3/envs/caiman/lib/python3.6/site-packages/matlab/engine/matlabengine.py\u001b[0m in \u001b[0;36m__call__\u001b[0;34m(self, *args, **kwargs)\u001b[0m\n\u001b[1;32m     69\u001b[0m         \u001b[0;32melse\u001b[0m\u001b[0;34m:\u001b[0m\u001b[0;34m\u001b[0m\u001b[0;34m\u001b[0m\u001b[0m\n\u001b[1;32m     70\u001b[0m             return FutureResult(self._engine(), future, nargs, _stdout,\n\u001b[0;32m---> 71\u001b[0;31m                                 _stderr, feval=True).result()\n\u001b[0m\u001b[1;32m     72\u001b[0m \u001b[0;34m\u001b[0m\u001b[0m\n\u001b[1;32m     73\u001b[0m     \u001b[0;32mdef\u001b[0m \u001b[0m__validate_engine\u001b[0m\u001b[0;34m(\u001b[0m\u001b[0mself\u001b[0m\u001b[0;34m)\u001b[0m\u001b[0;34m:\u001b[0m\u001b[0;34m\u001b[0m\u001b[0;34m\u001b[0m\u001b[0m\n",
      "\u001b[0;32m~/anaconda3/envs/caiman/lib/python3.6/site-packages/matlab/engine/futureresult.py\u001b[0m in \u001b[0;36mresult\u001b[0;34m(self, timeout)\u001b[0m\n\u001b[1;32m     65\u001b[0m                 \u001b[0;32mraise\u001b[0m \u001b[0mTypeError\u001b[0m\u001b[0;34m(\u001b[0m\u001b[0mpythonengine\u001b[0m\u001b[0;34m.\u001b[0m\u001b[0mgetMessage\u001b[0m\u001b[0;34m(\u001b[0m\u001b[0;34m'TimeoutCannotBeNegative'\u001b[0m\u001b[0;34m)\u001b[0m\u001b[0;34m)\u001b[0m\u001b[0;34m\u001b[0m\u001b[0;34m\u001b[0m\u001b[0m\n\u001b[1;32m     66\u001b[0m \u001b[0;34m\u001b[0m\u001b[0m\n\u001b[0;32m---> 67\u001b[0;31m         \u001b[0;32mreturn\u001b[0m \u001b[0mself\u001b[0m\u001b[0;34m.\u001b[0m\u001b[0m__future\u001b[0m\u001b[0;34m.\u001b[0m\u001b[0mresult\u001b[0m\u001b[0;34m(\u001b[0m\u001b[0mtimeout\u001b[0m\u001b[0;34m)\u001b[0m\u001b[0;34m\u001b[0m\u001b[0;34m\u001b[0m\u001b[0m\n\u001b[0m\u001b[1;32m     68\u001b[0m \u001b[0;34m\u001b[0m\u001b[0m\n\u001b[1;32m     69\u001b[0m     \u001b[0;32mdef\u001b[0m \u001b[0mcancel\u001b[0m\u001b[0;34m(\u001b[0m\u001b[0mself\u001b[0m\u001b[0;34m)\u001b[0m\u001b[0;34m:\u001b[0m\u001b[0;34m\u001b[0m\u001b[0;34m\u001b[0m\u001b[0m\n",
      "\u001b[0;32m~/anaconda3/envs/caiman/lib/python3.6/site-packages/matlab/engine/fevalfuture.py\u001b[0m in \u001b[0;36mresult\u001b[0;34m(self, timeout)\u001b[0m\n\u001b[1;32m     80\u001b[0m                 \u001b[0;32mraise\u001b[0m \u001b[0mTimeoutError\u001b[0m\u001b[0;34m(\u001b[0m\u001b[0mpythonengine\u001b[0m\u001b[0;34m.\u001b[0m\u001b[0mgetMessage\u001b[0m\u001b[0;34m(\u001b[0m\u001b[0;34m'MatlabFunctionTimeout'\u001b[0m\u001b[0;34m)\u001b[0m\u001b[0;34m)\u001b[0m\u001b[0;34m\u001b[0m\u001b[0;34m\u001b[0m\u001b[0m\n\u001b[1;32m     81\u001b[0m \u001b[0;34m\u001b[0m\u001b[0m\n\u001b[0;32m---> 82\u001b[0;31m             \u001b[0mself\u001b[0m\u001b[0;34m.\u001b[0m\u001b[0m_result\u001b[0m \u001b[0;34m=\u001b[0m \u001b[0mpythonengine\u001b[0m\u001b[0;34m.\u001b[0m\u001b[0mgetFEvalResult\u001b[0m\u001b[0;34m(\u001b[0m\u001b[0mself\u001b[0m\u001b[0;34m.\u001b[0m\u001b[0m_future\u001b[0m\u001b[0;34m,\u001b[0m\u001b[0mself\u001b[0m\u001b[0;34m.\u001b[0m\u001b[0m_nargout\u001b[0m\u001b[0;34m,\u001b[0m \u001b[0;32mNone\u001b[0m\u001b[0;34m,\u001b[0m \u001b[0mout\u001b[0m\u001b[0;34m=\u001b[0m\u001b[0mself\u001b[0m\u001b[0;34m.\u001b[0m\u001b[0m_out\u001b[0m\u001b[0;34m,\u001b[0m \u001b[0merr\u001b[0m\u001b[0;34m=\u001b[0m\u001b[0mself\u001b[0m\u001b[0;34m.\u001b[0m\u001b[0m_err\u001b[0m\u001b[0;34m)\u001b[0m\u001b[0;34m\u001b[0m\u001b[0;34m\u001b[0m\u001b[0m\n\u001b[0m\u001b[1;32m     83\u001b[0m             \u001b[0mself\u001b[0m\u001b[0;34m.\u001b[0m\u001b[0m_retrieved\u001b[0m \u001b[0;34m=\u001b[0m \u001b[0;32mTrue\u001b[0m\u001b[0;34m\u001b[0m\u001b[0;34m\u001b[0m\u001b[0m\n\u001b[1;32m     84\u001b[0m             \u001b[0;32mreturn\u001b[0m \u001b[0mself\u001b[0m\u001b[0;34m.\u001b[0m\u001b[0m_result\u001b[0m\u001b[0;34m\u001b[0m\u001b[0;34m\u001b[0m\u001b[0m\n",
      "\u001b[0;31mMatlabExecutionError\u001b[0m: \n  File /Users/johnmarshall/Documents/Analysis/PythonAnalysisScripts/post_cmfe_analysis/openfield_analysis/spatial_clustering/jones_scripts/p355_jaccard_shuffle.m, line 29, in p355_jaccard_shuffle\nIndex in position 2 is invalid. Array indices must be positive integers or logical values.\n"
     ]
    }
   ],
   "source": [
    "# get Jaccard scores and compare to shuffle\n",
    "\n",
    "eng.p355_jaccard_shuffle(padded_signal_peaks, frames_to_analyze[0], within_frames_to_analyze, cell_XY_coords_MATLAB, numCells, cellDistances, numBins, binVector, 1)\n"
   ]
  },
  {
   "cell_type": "code",
   "execution_count": null,
   "metadata": {
    "collapsed": true
   },
   "outputs": [],
   "source": [
    "# clustering info per session \n",
    "coactivity_dfs = {}\n",
    "for session in tqdm(list(grouped_raw_data.keys())):\n",
    "    # get indicies of small cells \n",
    "    cells_to_drop = np.array([cell for cell in range(1, len(grouped_raw_data[session]['cell_contours'])+1) if \n",
    "                              len(np.array(np.where(grouped_raw_data[session]['for_dims'][cell]>0.6)[0]))<100])\n",
    "    #compile and filter cell centers of mass\n",
    "    filtered_centers_of_mass = grouped_raw_data[session]['com'].drop(cells_to_drop, axis =0)\n",
    "\n",
    "    com_distances = utils_jjm.get_pairwise_distance_by_session(filtered_centers_of_mass)\n",
    "\n",
    "    ##get binned fluorescence and calc Jaccard scores\n",
    "    #arguments are sample widths to bin and z score threshold\n",
    "    cells_in_session = C_df.loc[session].dropna(axis=1).drop('msCamFrame', axis=1)\n",
    "    binned_fluorescence = cells_in_session.apply(utils_jjm.binning_function_uncrop, args=[1, 2])\n",
    "\n",
    "    reindexed = binned_fluorescence.set_index(int(x) for x in np.linspace(0, len(binned_fluorescence)-1, len(binned_fluorescence)))\n",
    "\n",
    "    #ks_results_2sided, ks_one_sided_more, ks_one_sided_less, coactivity_dfs = utils_jjm.spatial_coordination_by_session(reindexed, 10, com_distances)\n",
    "    coactivity_dfs[session] = utils_jjm.spatial_coordination_by_session(reindexed)\n",
    "    \n",
    "    "
   ]
  },
  {
   "cell_type": "code",
   "execution_count": null,
   "metadata": {
    "collapsed": true
   },
   "outputs": [],
   "source": [
    "#save coactivity info to h5py file\n",
    "for session in tqdm(list(grouped_raw_data.keys())):\n",
    "    f = h5py.File(\"/Users/johnmarshall/Documents/Analysis/PythonAnalysisScripts/post_cmfe_analysis/openfield_analysis/spatial_clustering/\" + str(session) +\"clustering.h5\", \"w\")\n",
    "\n",
    "    for time_pt in range(len(coactivity_dfs[session])):\n",
    "        dset = f.create_dataset(str(time_pt), np.shape(coactivity_dfs[session][time_pt].values), dtype=np.float32)\n",
    "        dset[:, :] = coactivity_dfs[session][time_pt].values\n",
    "\n",
    "    cell_pair_ids = f.create_dataset('cell_ids', np.shape(list(coactivity_dfs[session][0].columns)), dtype='i')\n",
    "    cell_pair_ids[:, :] = list(coactivity_dfs[session][0].columns)\n",
    "\n",
    "    f.close()"
   ]
  },
  {
   "cell_type": "code",
   "execution_count": null,
   "metadata": {
    "collapsed": true
   },
   "outputs": [],
   "source": [
    "spatial_coordination_by_session = {}\n",
    "for session in list(grouped_raw_data.keys()):\n",
    "    print(session)\n",
    "    f = h5py.File(\"/Users/johnmarshall/Documents/Analysis/PythonAnalysisScripts/post_cmfe_analysis/openfield_analysis/spatial_clustering/\" + str(session) +\"clustering.h5\", \"r\")\n",
    "# get indicies of small cells \n",
    "    cells_to_drop = np.array([cell for cell in range(1, len(grouped_raw_data[session]['cell_contours'])+1) if \n",
    "                          len(np.array(np.where(grouped_raw_data[session]['for_dims'][cell]>0.6)[0]))<100])\n",
    "#compile and filter cell centers of mass\n",
    "    filtered_centers_of_mass = grouped_raw_data[session]['com'].drop(cells_to_drop, axis =0)\n",
    "    com_distances = utils_jjm.get_pairwise_distance_by_session(filtered_centers_of_mass)\n",
    "\n",
    "# get one sided ks tests from h5 data set\n",
    "    binnums = 10\n",
    "    ks_one_sided_more = []\n",
    "    ks_one_sided_less = []\n",
    "    for time_point in time_points:\n",
    "        active_cells = [cell_ids[x] for x in [index[0] for index in np.argwhere(f[str(time_points[time_point])][0, 0:len(cell_ids)])]]\n",
    "        active_cell_distances = [com_distances[cell].values[0] for cell in active_cells]\n",
    "        cum_results_coactive = stats.cumfreq(active_cell_distances, numbins=binnums, defaultreallimits=(0, 500))\n",
    "        less_result = stats.kstest(cum_results_coactive.cumcount/len(active_cell_distances), 'norm', alternative='less')\n",
    "        more_result = stats.kstest(cum_results_coactive.cumcount/len(active_cell_distances), 'norm', alternative='greater')\n",
    "        ks_one_sided_more.append(more_result)\n",
    "        ks_one_sided_less.append(less_result)\n",
    "    \n",
    "    spatial_coordination_by_session[session] = {'ks_one_sided_more' : ks_one_sided_more, 'ks_one_sided_less' : ks_one_sided_less}"
   ]
  },
  {
   "cell_type": "code",
   "execution_count": null,
   "metadata": {
    "collapsed": true,
    "scrolled": true
   },
   "outputs": [],
   "source": [
    "session = list(grouped_raw_data.keys())[2]"
   ]
  },
  {
   "cell_type": "code",
   "execution_count": null,
   "metadata": {
    "collapsed": true
   },
   "outputs": [],
   "source": [
    "f = h5py.File(\"/Users/johnmarshall/Documents/Analysis/PythonAnalysisScripts/post_cmfe_analysis/openfield_analysis/spatial_clustering/\" + str(session) +\"clustering.h5\", \"r\")\n",
    "# get indicies of small cells \n",
    "cells_to_drop = np.array([cell for cell in range(1, len(grouped_raw_data[session]['cell_contours'])+1) if \n",
    "                          len(np.array(np.where(grouped_raw_data[session]['for_dims'][cell]>0.6)[0]))<100])\n",
    "#compile and filter cell centers of mass\n",
    "filtered_centers_of_mass = grouped_raw_data[session]['com'].drop(cells_to_drop, axis =0)\n",
    "com_distances = utils_jjm.get_pairwise_distance_by_session(filtered_centers_of_mass)"
   ]
  },
  {
   "cell_type": "code",
   "execution_count": null,
   "metadata": {
    "collapsed": true
   },
   "outputs": [],
   "source": [
    "cell_ids = f['cell_ids']"
   ]
  },
  {
   "cell_type": "code",
   "execution_count": null,
   "metadata": {
    "collapsed": true
   },
   "outputs": [],
   "source": [
    "time_point = 95"
   ]
  },
  {
   "cell_type": "code",
   "execution_count": null,
   "metadata": {
    "collapsed": true
   },
   "outputs": [],
   "source": [
    "len(cell_ids)"
   ]
  },
  {
   "cell_type": "code",
   "execution_count": null,
   "metadata": {
    "collapsed": true
   },
   "outputs": [],
   "source": [
    "cell_ids[10]"
   ]
  },
  {
   "cell_type": "code",
   "execution_count": null,
   "metadata": {
    "collapsed": true
   },
   "outputs": [],
   "source": [
    "np.argwhere(f[str(time_point)][0, 0:len(cell_ids)])"
   ]
  },
  {
   "cell_type": "code",
   "execution_count": null,
   "metadata": {
    "collapsed": true,
    "scrolled": true
   },
   "outputs": [],
   "source": [
    "active_cells = [cell_idx[0] for cell_idx in np.argwhere(f[str(time_point)][0, 0:len(cell_ids)])]"
   ]
  },
  {
   "cell_type": "code",
   "execution_count": null,
   "metadata": {
    "collapsed": true
   },
   "outputs": [],
   "source": []
  },
  {
   "cell_type": "code",
   "execution_count": null,
   "metadata": {
    "collapsed": true
   },
   "outputs": [],
   "source": [
    "len(filtered_centers_of_mass)"
   ]
  },
  {
   "cell_type": "code",
   "execution_count": null,
   "metadata": {
    "collapsed": true
   },
   "outputs": [],
   "source": [
    "[cell_ids[cell] for cell in active_cells]"
   ]
  },
  {
   "cell_type": "code",
   "execution_count": null,
   "metadata": {
    "collapsed": true
   },
   "outputs": [],
   "source": [
    "cell_ids[active_cells[0]][0]"
   ]
  },
  {
   "cell_type": "code",
   "execution_count": null,
   "metadata": {
    "collapsed": true
   },
   "outputs": [],
   "source": [
    "cell_ids[active_cells[0]][1]"
   ]
  },
  {
   "cell_type": "code",
   "execution_count": null,
   "metadata": {
    "collapsed": true,
    "scrolled": true
   },
   "outputs": [],
   "source": [
    "com_distances[5]"
   ]
  },
  {
   "cell_type": "code",
   "execution_count": null,
   "metadata": {
    "collapsed": true
   },
   "outputs": [],
   "source": [
    "[com_distances[cell_ids[cell_idx][0]][cell_ids[cell_idx][1]].values[0] for cell_idx in active_cells]"
   ]
  },
  {
   "cell_type": "code",
   "execution_count": null,
   "metadata": {
    "collapsed": true
   },
   "outputs": [],
   "source": [
    "for time_pt in range(6251):\n",
    "    if len(np.argwhere(f[str(time_pt)][0, 0:len(cell_ids)])) > 1:\n",
    "        print(time_pt)\n",
    "        break \n",
    "    "
   ]
  },
  {
   "cell_type": "code",
   "execution_count": null,
   "metadata": {
    "collapsed": true
   },
   "outputs": [],
   "source": [
    "len(f.keys())"
   ]
  },
  {
   "cell_type": "code",
   "execution_count": null,
   "metadata": {
    "collapsed": true
   },
   "outputs": [],
   "source": []
  },
  {
   "cell_type": "code",
   "execution_count": null,
   "metadata": {
    "collapsed": true
   },
   "outputs": [],
   "source": [
    "# get one sided ks tests from h5 data set\n",
    "binnums = 10\n",
    "ks_one_sided_more = []\n",
    "ks_one_sided_less = []\n",
    "cell_ids = f['cell_ids']\n",
    "for time_point in time_points:\n",
    "    print(time_point)\n",
    "    active_cells = [cell_idx[0] for cell_idx in np.argwhere(f[str(time_point)][0, 0:len(cell_ids)])]\n",
    "    active_cell_distances = [com_distances[cell_ids[cell_idx][0]][cell_ids[cell_idx][1]].values[0] for cell_idx in active_cells]\n",
    "    cum_results_coactive = stats.cumfreq(active_cell_distances, numbins=binnums, defaultreallimits=(0, 500))\n",
    "    less_result = stats.kstest(cum_results_coactive.cumcount/len(active_cell_distances), 'norm', alternative='less')\n",
    "    more_result = stats.kstest(cum_results_coactive.cumcount/len(active_cell_distances), 'norm', alternative='greater')\n",
    "    ks_one_sided_more.append(more_result)\n",
    "    ks_one_sided_less.append(less_result)\n",
    "    \n",
    "spatial_coordination_by_session[session] = {'ks_one_sided_more' : ks_one_sided_more, 'ks_one_sided_less' : ks_one_sided_less}"
   ]
  },
  {
   "cell_type": "code",
   "execution_count": null,
   "metadata": {
    "collapsed": true
   },
   "outputs": [],
   "source": [
    "coord_index = np.nan_to_num([math.log(result.pvalue, 10)*-1 for result in ks_one_sided_less])"
   ]
  },
  {
   "cell_type": "code",
   "execution_count": null,
   "metadata": {
    "collapsed": true
   },
   "outputs": [],
   "source": [
    "plt.plot(coord_index[1700:2500])\n",
    "plt.show()"
   ]
  },
  {
   "cell_type": "code",
   "execution_count": null,
   "metadata": {
    "collapsed": true
   },
   "outputs": [],
   "source": [
    "plt.plot(V_df.loc[session]['tail_base'].values[1700:2500])\n",
    "plt.show()"
   ]
  },
  {
   "cell_type": "code",
   "execution_count": null,
   "metadata": {
    "collapsed": true
   },
   "outputs": [],
   "source": [
    "## for plotting average spatial coordination during trigger regions"
   ]
  },
  {
   "cell_type": "code",
   "execution_count": null,
   "metadata": {
    "collapsed": true,
    "scrolled": true
   },
   "outputs": [],
   "source": [
    "\n",
    "triggered_activity_across_sessions = {}\n",
    "for session in list(grouped_raw_data.keys()):\n",
    "    #inputs activity_threshold, resting_threshold, resting_baseline \n",
    "    crossing_indicies = utils_jjm.select_trigger_regions(binned_velocity_df[session], 0.5, 0.5, 20)\n",
    "    #inputs time_to_plot\n",
    "    threshold_activity = utils_jjm.average_triggered_regions(V_df.loc[session]['tail_base'].values, crossing_indicies, 40)\n",
    "    \n",
    "    f_threshold_activity = utils_jjm.average_triggered_regions(spatial_coordination_activity_in_session \n",
    "            , crossing_indicies, 40)\n",
    "    triggered_activity_across_sessions[session] = pd.concat([threshold_activity, f_threshold_activity], axis=1, keys=['velocity', 'spatial_coordination'])"
   ]
  },
  {
   "cell_type": "code",
   "execution_count": null,
   "metadata": {
    "collapsed": true
   },
   "outputs": [],
   "source": [
    "#triggered_activity_across_sessions"
   ]
  },
  {
   "cell_type": "code",
   "execution_count": null,
   "metadata": {
    "collapsed": true,
    "scrolled": false
   },
   "outputs": [],
   "source": [
    "#concat by mouse \n",
    "concacted_by_mouse = {}\n",
    "for mouse in list(set([session[0:7] for session in list(triggered_activity_across_sessions.keys())])):\n",
    "    dfs_by_mouse = []\n",
    "    sessions = []\n",
    "    for session in list(triggered_activity_across_sessions.keys()):\n",
    "        if mouse in session:\n",
    "            if not(triggered_activity_across_sessions[session].empty):\n",
    "                means = triggered_activity_across_sessions[session].mean(axis=1, level=0)\n",
    "                dfs_by_mouse.append(means)\n",
    "                sessions.append(session)\n",
    "    if len(dfs_by_mouse)>0:\n",
    "        concacted_by_mouse[mouse] = pd.concat(dfs_by_mouse, axis=1, keys=sessions)\n",
    "combined_by_mouse = pd.concat(list(concacted_by_mouse.values()), axis=1, keys=list(concacted_by_mouse.keys()))\n",
    "\n",
    "combined_by_mouse.head()"
   ]
  },
  {
   "cell_type": "code",
   "execution_count": null,
   "metadata": {
    "collapsed": true
   },
   "outputs": [],
   "source": [
    "binnums = 10\n",
    "#ks_results_2sided = []\n",
    "ks_one_sided_more = []\n",
    "ks_one_sided_less = []\n",
    "for time_point in tqdm(time_points):\n",
    "    active_cells = [cell_ids[x] for x in [index[0] for index in np.argwhere(f[str(time_points[time_point])][0, 0:len(cell_ids)])]]\n",
    "    coactive_cell_distances = [com_distances[cell].values[0] for cell in active_cells]\n",
    "    #non_coactive_distances = com_distances[coactivity_df[coactivity_df == 0].dropna(axis=1).columns]\n",
    "    #linear_distribution = np.linspace(1, len(coactive_cell_distances.columns), binnums)\n",
    "    #binnums=10\n",
    "    cum_results_coactive = stats.cumfreq(coactive_cell_distances, numbins=binnums, defaultreallimits=(0, 500))\n",
    "    #cum_results_non_coactive = stats.cumfreq(non_coactive_distances.values[0], numbins=binnums, defaultreallimits=(0, 500))\n",
    "    #plt.plot(np.linspace(0, 500, binnums), cum_results_coactive.cumcount/len(coactive_cell_distances.values[0]))\n",
    "    #plt.plot(np.linspace(0, 500, binnums), cum_results_non_coactive.cumcount/len(non_coactive_distances.values[0]))\n",
    "    #plt.plot(np.linspace(0, 500, binnums), linear_distribution/len(coactive_cell_distances.values[0]))\n",
    "    #plt.show()\n",
    "    less_result = stats.kstest(cum_results_coactive.cumcount/len(coactive_cell_distances), 'norm', alternative='less')\n",
    "    more_result = stats.kstest(cum_results_coactive.cumcount/len(coactive_cell_distances), 'norm', alternative='greater')\n",
    "    ks_one_sided_more.append(more_result)\n",
    "    ks_one_sided_less.append(less_result)\n",
    "    #coordination_index = utils_jjm.create_coordination_index(more_result, less_result)\n",
    "    #two sided test between coactive and noncoactive distribution \n",
    "    #ks_result = stats.ks_2samp(cum_results_coactive.cumcount/len(coactive_cell_distances.values[0]), cum_results_non_coactive.cumcount/len(non_coactive_distances.values[0]))\n",
    "    #coordination_indicies.append(coordination_index)\n",
    "    #ks_results_2sided.append(ks_result)\n",
    "    "
   ]
  },
  {
   "cell_type": "code",
   "execution_count": null,
   "metadata": {
    "collapsed": true
   },
   "outputs": [],
   "source": [
    "x = np.linspace(-40*.2, 40*.2, 80)\n",
    "mean=combined_by_mouse.mean(axis=1, level=2)['velocity'].values\n",
    "plt.plot(x, combined_by_mouse.mean(axis=1, level=2)['velocity'].values, color='k')\n",
    "std_error = (combined_by_mouse.std(axis=1, level=2)['velocity'])/math.sqrt(combined_by_mouse.mean(axis=1, level=0).shape[1])\n",
    "plt.fill_between(x, mean-std_error, mean+std_error)\n",
    "ax = plt.gca()\n",
    "ax.axvline(x=(0), linestyle='--', color='r')\n",
    "plt.show()"
   ]
  },
  {
   "cell_type": "code",
   "execution_count": null,
   "metadata": {
    "collapsed": true
   },
   "outputs": [],
   "source": [
    "x = np.linspace(-40*.2, 40*.2, 80)\n",
    "mean = combined_by_mouse.mean(axis=1, level=2)['fluorescence'].values\n",
    "plt.plot(x, mean, color='k')\n",
    "std_error = (combined_by_mouse.std(axis=1, level=2)['fluorescence'])/math.sqrt(combined_by_mouse.mean(axis=1, level=0).shape[1])\n",
    "plt.fill_between(x, mean-std_error, mean+std_error)\n",
    "ax = plt.gca()\n",
    "ax.axvline(x=0, linestyle='--', color='r')\n",
    "plt.show()"
   ]
  },
  {
   "cell_type": "code",
   "execution_count": null,
   "metadata": {
    "collapsed": true
   },
   "outputs": [],
   "source": []
  }
 ],
 "metadata": {
  "kernelspec": {
   "display_name": "2pCNMFEAnalysisEnv",
   "language": "python",
   "name": "2pcnmfeanalysisenv"
  },
  "language_info": {
   "codemirror_mode": {
    "name": "ipython",
    "version": 3
   },
   "file_extension": ".py",
   "mimetype": "text/x-python",
   "name": "python",
   "nbconvert_exporter": "python",
   "pygments_lexer": "ipython3",
   "version": "3.10.4"
  }
 },
 "nbformat": 4,
 "nbformat_minor": 2
}
