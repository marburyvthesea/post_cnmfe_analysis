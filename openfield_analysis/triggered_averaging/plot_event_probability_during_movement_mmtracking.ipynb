{
 "cells": [
  {
   "cell_type": "code",
   "execution_count": 1,
   "metadata": {
    "collapsed": false
   },
   "outputs": [
    {
     "data": {
      "text/html": [
       "<style>.container { width:90% !important; }</style>"
      ],
      "text/plain": [
       "<IPython.core.display.HTML object>"
      ]
     },
     "metadata": {},
     "output_type": "display_data"
    }
   ],
   "source": [
    "from IPython.core.display import display, HTML\n",
    "display(HTML(\"<style>.container { width:90% !important; }</style>\"))\n",
    "import pandas as pd \n",
    "import numpy as np\n",
    "import h5py\n",
    "import sys\n",
    "sys.path.append('/home/jma819/post_cmfe_analysis')\n",
    "import python_utils_jjm as utils_jjm\n",
    "import dlc_utils\n",
    "import math\n",
    "import matplotlib.pyplot as plt"
   ]
  },
  {
   "cell_type": "code",
   "execution_count": 2,
   "metadata": {
    "collapsed": true
   },
   "outputs": [],
   "source": [
    "##wt files \n",
    "wt_sessions = ['GRIN039_H14_M8_S53','GRIN039_H12_M33_S29', 'GRIN039_H12_M26_S54', 'GRIN013_H13_M33_S54', 'GRIN027_H13_M29_S44', 'GRIN033_H14_M34_S32', 'GRIN033_H13_M42_S33',\n",
    " 'GRIN032_H17_M30_S22', 'GRIN034_H15_M28_S2', 'GRIN026_H16_M35_S34', 'GRIN032_H16_M49_S22', 'GRIN034_H16_M13_S22', 'GRIN034_H19_M0_S18',\n",
    " 'GRIN035_H13_M50_S58', 'GRIN035_H13_M31_S20', 'GRIN035_H14_M40_S34']\n",
    "\n",
    "ko_sessions = ['GRIN038_H15_M39_S40', 'GRIN038_H11_M57_S0', 'GRIN038_H13_M37_S23', 'GRIN041_H12_M54_S49', 'GRIN009_H13_M59_S14', 'GRIN018_H17_M41_S43',\n",
    " 'GRIN018_H16_M13_S53', 'GRIN011_H10_M19_S59', 'GRIN012_H17_M46_S35', 'GRIN012_H17_M32_S17', 'GRIN012_H16_M57_S23']"
   ]
  },
  {
   "cell_type": "code",
   "execution_count": 3,
   "metadata": {
    "collapsed": false
   },
   "outputs": [],
   "source": [
    "#need to get keys first from all session dataframes to read into pandas \n",
    "h5file=pd.HDFStore('/projects/b1118/miniscope/analysis/event_analysis/mm_tracking_output/movement_regions_for_analysis.h5')\n",
    "keys=h5file.keys()\n",
    "h5file.close()"
   ]
  },
  {
   "cell_type": "code",
   "execution_count": 4,
   "metadata": {
    "collapsed": false
   },
   "outputs": [],
   "source": [
    "#keys"
   ]
  },
  {
   "cell_type": "code",
   "execution_count": 5,
   "metadata": {
    "collapsed": false
   },
   "outputs": [],
   "source": [
    "#load fluorescence in event regions\n",
    "z_scored_events_by_session = {key_idx.strip('/'):pd.read_hdf('/projects/b1118/miniscope/analysis/event_analysis/mm_tracking_output/movement_regions_for_analysis.h5', key=key_idx) for key_idx in keys}"
   ]
  },
  {
   "cell_type": "code",
   "execution_count": 6,
   "metadata": {
    "collapsed": false
   },
   "outputs": [],
   "source": [
    "#z_scored_events_by_session['GRIN038_H11_M57_S0']"
   ]
  },
  {
   "cell_type": "code",
   "execution_count": 7,
   "metadata": {
    "collapsed": true
   },
   "outputs": [],
   "source": [
    "#load velocity data \n",
    "#load speed trace -- should be able to align this using a time delta index\n",
    "velocity_data = {}\n",
    "for session in z_scored_events_by_session.keys(): \n",
    "    speed_trace = pd.read_csv('/projects/b1118/miniscope/analysis/compiled_data/mm_tracking_output/'+session+'_speedtrace.csv',names=['mm_speed'])\n",
    "    speed_trace_td = speed_trace.set_index(pd.to_timedelta(np.linspace(0, (len(speed_trace)-1)*(.2), len(speed_trace)), unit='s'))\n",
    "    speed_trace_td['datetime']=speed_trace_td.index.values.astype('datetime64[ns]')\n",
    "    velocity_data[session] = speed_trace_td\n",
    "velocity_data = pd.concat(velocity_data, keys=velocity_data.keys())"
   ]
  },
  {
   "cell_type": "code",
   "execution_count": 8,
   "metadata": {
    "collapsed": false
   },
   "outputs": [],
   "source": [
    "#bin velocity \n",
    "velocity_data['velocity_bins']= pd.cut(velocity_data['mm_speed'], bins=25)"
   ]
  },
  {
   "cell_type": "code",
   "execution_count": 9,
   "metadata": {
    "collapsed": true
   },
   "outputs": [],
   "source": [
    "def concat_by_mouse(df_unsorted):\n",
    "    sorted_by_mouse = {mouse:[] for mouse in list(set([session[0:7] for session in list(df_unsorted.columns.levels[0])]))}\n",
    "    for mouse in sorted_by_mouse.keys():\n",
    "        for session in list(df_unsorted.columns):\n",
    "            if session[0:7] == mouse:\n",
    "                sorted_by_mouse[mouse].append(df_unsorted[session])\n",
    "    concat_by_mouse_df = pd.DataFrame({mouse:pd.concat(sorted_by_mouse[mouse], axis=1).mean(axis=1) for mouse in list(sorted_by_mouse.keys())})\n",
    "    return(concat_by_mouse_df)"
   ]
  },
  {
   "cell_type": "code",
   "execution_count": 10,
   "metadata": {
    "collapsed": false
   },
   "outputs": [],
   "source": [
    "#helper functions for calculating event probability during movement periods \n",
    "def return_list_of_start_indicies_in_session(event_regions_in_session_df):\n",
    "    indicies = list(set([event_regions_in_session_df.index[idx][0] for idx in range(len(event_regions_in_session_df.index))]))\n",
    "    indicies.sort()\n",
    "    return(indicies)\n",
    "def return_list_of_stop_indicies_in_session(event_regions_in_session_df):\n",
    "    indicies = list(set([event_regions_in_session_df.index[idx][1] for idx in range(len(event_regions_in_session_df.index))]))\n",
    "    indicies.sort()\n",
    "    return(indicies)\n",
    "def group_events_by_max_v_bin(velocity_by_session, start_indicies_in, stop_indicies_in):\n",
    "    max_v_bins_in_session = {}\n",
    "    for st_idx, end_idx in zip(start_indicies_in, stop_indicies_in):\n",
    "        max_v_bins_in_session[st_idx]=velocity_by_session.loc[st_idx:end_idx]['velocity_bins'].max()\n",
    "    return(max_v_bins_in_session)\n",
    "def group_events_by_unique_bin(unique_bins, all_events_by_bin):\n",
    "    sorted_by_v_bin={}\n",
    "    for v_bin in unique_bins:\n",
    "        events_with_v_bin=[]\n",
    "        for event in list(all_events_by_bin.keys()):\n",
    "            if all_events_by_bin[event]==v_bin:\n",
    "                events_with_v_bin.append(event)\n",
    "        sorted_by_v_bin[v_bin.left]=events_with_v_bin\n",
    "    return(sorted_by_v_bin)"
   ]
  },
  {
   "cell_type": "code",
   "execution_count": 11,
   "metadata": {
    "collapsed": false,
    "scrolled": true
   },
   "outputs": [
    {
     "data": {
      "text/plain": [
       "dict_keys(['GRIN009_H13_M59_S14', 'GRIN011_H10_M19_S59', 'GRIN012_H16_M57_S23', 'GRIN012_H17_M32_S17', 'GRIN013_H13_M33_S54', 'GRIN018_H16_M13_S53', 'GRIN018_H17_M41_S43', 'GRIN027_H13_M29_S44', 'GRIN032_H17_M30_S22', 'GRIN033_H13_M42_S33', 'GRIN033_H14_M34_S32', 'GRIN034_H15_M28_S2', 'GRIN034_H16_M13_S22', 'GRIN034_H19_M0_S18', 'GRIN035_H13_M31_S20', 'GRIN035_H13_M50_S58', 'GRIN035_H14_M40_S34', 'GRIN038_H11_M57_S0', 'GRIN038_H13_M37_S23', 'GRIN038_H15_M39_S40', 'GRIN039_H12_M26_S54', 'GRIN039_H12_M33_S29', 'GRIN039_H14_M8_S53', 'GRIN041_H12_M54_S49'])"
      ]
     },
     "execution_count": 11,
     "metadata": {},
     "output_type": "execute_result"
    }
   ],
   "source": [
    "z_scored_events_by_session.keys()"
   ]
  },
  {
   "cell_type": "code",
   "execution_count": 12,
   "metadata": {
    "collapsed": false
   },
   "outputs": [],
   "source": [
    "#z_scored_events_by_session['GRIN039_H12_M26_S54'].loc['z_scored_movement_regions']"
   ]
  },
  {
   "cell_type": "code",
   "execution_count": 20,
   "metadata": {
    "collapsed": false
   },
   "outputs": [],
   "source": [
    "velocity_data_resampled = velocity_data\n",
    "##loop over all sessions and extract event probability, binned by velocity \n",
    "##event theshold\n",
    "event_threshold = 4\n",
    "#for now \"rest bin\" is 0 ( or np.NINF, negative infinity ? )\n",
    "event_p_by_session={}\n",
    "events_by_session_sorted_by_unique_bin = {}\n",
    "for session in list(z_scored_events_by_session.keys()):\n",
    "    #print(session)\n",
    "    start_indicies = return_list_of_start_indicies_in_session(z_scored_events_by_session[session].loc['z_scored_movement_regions'])\n",
    "    end_indicies = return_list_of_stop_indicies_in_session(z_scored_events_by_session[session].loc['z_scored_movement_regions'])\n",
    "\n",
    "    max_v_bins_in_session = group_events_by_max_v_bin(velocity_data_resampled.loc[session], start_indicies, end_indicies)\n",
    "\n",
    "    unique_max_v_bins_in_session = list(set(list(max_v_bins_in_session.values())))\n",
    "\n",
    "    sorted_by_unique_bin = group_events_by_unique_bin(unique_max_v_bins_in_session, max_v_bins_in_session)\n",
    "\n",
    "    event_p_by_vbin={}\n",
    "    for v_bin in list(sorted_by_unique_bin.keys()):\n",
    "        event_p_by_vbin[v_bin] = utils_jjm.calculate_event_probability(z_scored_events_by_session[session].loc['z_scored_rest_regions'], \n",
    "                                                                   z_scored_events_by_session[session].loc['z_scored_movement_regions'].loc[sorted_by_unique_bin[v_bin]], event_threshold)[0]\n",
    "        event_p_by_vbin[0] = utils_jjm.calculate_event_probability(z_scored_events_by_session[session].loc['z_scored_rest_regions'], \n",
    "                                                                    z_scored_events_by_session[session].loc['z_scored_movement_regions'].loc[sorted_by_unique_bin[v_bin]], event_threshold)[1]\n",
    "    event_p_by_session[session]=pd.concat(event_p_by_vbin, keys=list(event_p_by_vbin.keys())).droplevel(1)\n",
    "    events_by_session_sorted_by_unique_bin[session] = sorted_by_unique_bin"
   ]
  },
  {
   "cell_type": "code",
   "execution_count": 21,
   "metadata": {
    "collapsed": false
   },
   "outputs": [],
   "source": [
    "# should remove velocity bins greater than 10 (or 1 cm/sec) (likely reflects noise in tail base detection)\n",
    "# for mm tracking remove greater than 20 cm/sec\n",
    "for session in list(event_p_by_session.keys()):\n",
    "    event_p_by_session[session].drop([i for i in event_p_by_session[session].index if i>20], inplace=True)   "
   ]
  },
  {
   "cell_type": "code",
   "execution_count": 22,
   "metadata": {
    "collapsed": true
   },
   "outputs": [],
   "source": [
    "wt_sessions = ['GRIN039_H14_M8_S53','GRIN039_H12_M33_S29', 'GRIN039_H12_M26_S54', 'GRIN013_H13_M33_S54', 'GRIN027_H13_M29_S44', \n",
    "               'GRIN033_H14_M34_S32', 'GRIN033_H13_M42_S33', 'GRIN032_H17_M30_S22', 'GRIN034_H15_M28_S2', 'GRIN026_H16_M35_S34', \n",
    "               'GRIN032_H16_M49_S22', 'GRIN034_H16_M13_S22', 'GRIN034_H19_M0_S18', 'GRIN035_H13_M50_S58', 'GRIN035_H13_M31_S20', \n",
    "               'GRIN035_H14_M40_S34']\n",
    "\n",
    "ko_sessions = ['GRIN038_H15_M39_S40', 'GRIN038_H11_M57_S0', 'GRIN038_H13_M37_S23', 'GRIN041_H12_M54_S49', 'GRIN009_H13_M59_S14', \n",
    "               'GRIN018_H17_M41_S43', 'GRIN018_H16_M13_S53', 'GRIN011_H10_M19_S59', 'GRIN012_H17_M46_S35', 'GRIN012_H17_M32_S17', \n",
    "               'GRIN012_H16_M57_S23']"
   ]
  },
  {
   "cell_type": "code",
   "execution_count": 23,
   "metadata": {
    "collapsed": false
   },
   "outputs": [],
   "source": [
    "# group by wt and ko\n",
    "wt_event_by_session = {k:v for k,v in zip(event_p_by_session.keys(), event_p_by_session.values()) if k in wt_sessions}\n",
    "wt_event_by_session_df = pd.concat(wt_event_by_session.values(),keys=wt_event_by_session.keys(), axis=1)\n",
    "ko_event_by_session = {k:v for k,v in zip(event_p_by_session.keys(), event_p_by_session.values()) if k in ko_sessions}\n",
    "ko_event_by_session_df = pd.concat(ko_event_by_session.values(),keys=ko_event_by_session.keys(), axis=1)"
   ]
  },
  {
   "cell_type": "code",
   "execution_count": 24,
   "metadata": {
    "collapsed": false
   },
   "outputs": [],
   "source": [
    "#normalize to resting values\n",
    "norm_to_rest_wt = wt_event_by_session_df/wt_event_by_session_df.loc[0]\n",
    "norm_to_rest_ko = ko_event_by_session_df/ko_event_by_session_df.loc[0]\n",
    "#change infinity values to nan so mean function ignores them \n",
    "norm_to_rest_wt_no_inf = norm_to_rest_wt.replace([np.inf, -np.inf], np.nan)\n",
    "norm_to_rest_ko_no_inf = norm_to_rest_ko.replace([np.inf, -np.inf], np.nan)"
   ]
  },
  {
   "cell_type": "code",
   "execution_count": 25,
   "metadata": {
    "collapsed": false
   },
   "outputs": [],
   "source": [
    "#sorted_by_mouse = {mouse:[] for mouse in list(set([session[0:7] for session in list(wt_event_by_session_df.columns.levels[0])]))}"
   ]
  },
  {
   "cell_type": "code",
   "execution_count": 26,
   "metadata": {
    "collapsed": false
   },
   "outputs": [
    {
     "data": {
      "image/png": "[encoded data removed]",
      "text/plain": [
       "<Figure size 432x288 with 1 Axes>"
      ]
     },
     "metadata": {
      "needs_background": "light"
     },
     "output_type": "display_data"
    }
   ],
   "source": [
    "## wt versus ko plot, norm to rest, across cells\n",
    "pixel_scale = 1\n",
    "#x_scaled = norm_to_rest_wt_no_inf.mean(axis=1).index\n",
    "\n",
    "fig = plt.figure()\n",
    "plt.plot(list(norm_to_rest_wt_no_inf.mean(axis=1).index), norm_to_rest_wt_no_inf.mean(axis=1), color='k')\n",
    "\n",
    "std_error = norm_to_rest_wt_no_inf.std(axis=1)/math.sqrt(len(list(norm_to_rest_wt_no_inf.columns)))\n",
    "\n",
    "plt.fill_between(list(norm_to_rest_wt_no_inf.mean(axis=1).index), norm_to_rest_wt_no_inf.mean(axis=1)+std_error, \n",
    "                 norm_to_rest_wt_no_inf.mean(axis=1)-std_error)\n",
    "\n",
    "plt.plot(list(norm_to_rest_ko_no_inf.mean(axis=1).index), norm_to_rest_ko_no_inf.mean(axis=1), color='k')\n",
    "\n",
    "std_error_2 = norm_to_rest_ko_no_inf.std(axis=1)/math.sqrt(len(list(norm_to_rest_ko_no_inf.columns)))\n",
    "\n",
    "plt.fill_between(list(norm_to_rest_ko_no_inf.mean(axis=1).index), norm_to_rest_ko_no_inf.mean(axis=1)+std_error_2, \n",
    "                 norm_to_rest_ko_no_inf.mean(axis=1)-std_error_2, alpha=0.5)\n",
    "plt.ylabel('event probability (normalzied to rest)')\n",
    "plt.xlabel('velocity cm/sec')\n",
    "plt.draw()\n",
    "#fig.savefig('/projects/b1118/miniscope/analysis/summaryfigures/event_probability_by_cell_mmtracking_sd_2_5.svg', bbox_inches='tight', format='svg', transparent=True)\n",
    "#plt.savefig('/projects/b1118/miniscope/analysis/summaryfigures/event_probability_by_cell_mmtracking_sd2_5.pdf', transparent=True)\n",
    "plt.show()"
   ]
  },
  {
   "cell_type": "code",
   "execution_count": 23,
   "metadata": {
    "collapsed": false
   },
   "outputs": [
    {
     "data": {
      "text/html": [
       "<div>\n",
       "<style scoped>\n",
       "    .dataframe tbody tr th:only-of-type {\n",
       "        vertical-align: middle;\n",
       "    }\n",
       "\n",
       "    .dataframe tbody tr th {\n",
       "        vertical-align: top;\n",
       "    }\n",
       "\n",
       "    .dataframe thead th {\n",
       "        text-align: right;\n",
       "    }\n",
       "</style>\n",
       "<table border=\"1\" class=\"dataframe\">\n",
       "  <thead>\n",
       "    <tr style=\"text-align: right;\">\n",
       "      <th></th>\n",
       "      <th>wt_mean</th>\n",
       "      <th>ko_mean</th>\n",
       "      <th>wt_sem</th>\n",
       "      <th>ko_sem</th>\n",
       "    </tr>\n",
       "  </thead>\n",
       "  <tbody>\n",
       "    <tr>\n",
       "      <th>0.000</th>\n",
       "      <td>1.000000</td>\n",
       "      <td>1.000000</td>\n",
       "      <td>0.000000</td>\n",
       "      <td>0.000000</td>\n",
       "    </tr>\n",
       "    <tr>\n",
       "      <th>4.359</th>\n",
       "      <td>2.395663</td>\n",
       "      <td>2.578274</td>\n",
       "      <td>0.265135</td>\n",
       "      <td>0.173057</td>\n",
       "    </tr>\n",
       "    <tr>\n",
       "      <th>8.718</th>\n",
       "      <td>1.059464</td>\n",
       "      <td>2.983767</td>\n",
       "      <td>0.143590</td>\n",
       "      <td>0.198912</td>\n",
       "    </tr>\n",
       "    <tr>\n",
       "      <th>13.078</th>\n",
       "      <td>2.181844</td>\n",
       "      <td>2.779983</td>\n",
       "      <td>0.301536</td>\n",
       "      <td>0.217812</td>\n",
       "    </tr>\n",
       "    <tr>\n",
       "      <th>17.437</th>\n",
       "      <td>3.930532</td>\n",
       "      <td>3.658071</td>\n",
       "      <td>0.491421</td>\n",
       "      <td>0.314118</td>\n",
       "    </tr>\n",
       "  </tbody>\n",
       "</table>\n",
       "</div>"
      ],
      "text/plain": [
       "         wt_mean   ko_mean    wt_sem    ko_sem\n",
       "0.000   1.000000  1.000000  0.000000  0.000000\n",
       "4.359   2.395663  2.578274  0.265135  0.173057\n",
       "8.718   1.059464  2.983767  0.143590  0.198912\n",
       "13.078  2.181844  2.779983  0.301536  0.217812\n",
       "17.437  3.930532  3.658071  0.491421  0.314118"
      ]
     },
     "execution_count": 23,
     "metadata": {},
     "output_type": "execute_result"
    }
   ],
   "source": [
    "#save data to make plot elsewhere\n",
    "plot_data = pd.DataFrame({'wt_mean':norm_to_rest_wt_no_inf.mean(axis=1), 'ko_mean':norm_to_rest_ko_no_inf.mean(axis=1), \n",
    "                          'wt_sem':std_error, 'ko_sem':std_error_2})\n",
    "plot_data.to_csv('/projects/b1118/miniscope/analysis/summaryfigures/event_probability_by_cell_mmtracking_sd_2_5.csv')\n",
    "plot_data"
   ]
  },
  {
   "cell_type": "code",
   "execution_count": 27,
   "metadata": {
    "collapsed": false
   },
   "outputs": [],
   "source": [
    "#plot across sessions\n",
    "means_to_plot_wt = norm_to_rest_wt_no_inf.mean(axis=1, level=0).mean(axis=1)\n",
    "std_dev_wt = norm_to_rest_wt_no_inf.mean(axis=1, level=0).std(axis=1)\n",
    "means_to_plot_ko = norm_to_rest_ko_no_inf.mean(axis=1, level=0).mean(axis=1)\n",
    "std_dev_ko = norm_to_rest_ko_no_inf.mean(axis=1, level=0).std(axis=1)"
   ]
  },
  {
   "cell_type": "code",
   "execution_count": 28,
   "metadata": {
    "collapsed": false
   },
   "outputs": [
    {
     "data": {
      "image/png": "[encoded data removed]",
      "text/plain": [
       "<Figure size 432x288 with 1 Axes>"
      ]
     },
     "metadata": {
      "needs_background": "light"
     },
     "output_type": "display_data"
    }
   ],
   "source": [
    "## wt versus ko plot, norm to rest, across sessions \n",
    "plt.figure()\n",
    "plt.plot(list(means_to_plot_wt.index), means_to_plot_wt, color='k')\n",
    "std_error = std_dev_wt/math.sqrt(len(list(norm_to_rest_wt_no_inf.columns.levels[0])))\n",
    "plt.fill_between(list(means_to_plot_wt.index), means_to_plot_wt+std_error, \n",
    "                 means_to_plot_wt-std_error)\n",
    "plt.plot(list(means_to_plot_ko.index), means_to_plot_ko, color='k')\n",
    "std_error_2 = std_dev_ko/math.sqrt(len(list(norm_to_rest_ko_no_inf.columns.levels[0])))\n",
    "plt.fill_between(list(means_to_plot_ko.index), means_to_plot_ko+std_error_2, \n",
    "                 means_to_plot_ko-std_error_2, alpha=0.5)\n",
    "plt.ylabel('event probability (normalzied to rest)')\n",
    "plt.xlabel('velocity')\n",
    "#plt.savefig('/projects/b1118/miniscope/analysis/summaryfigures/event_probability_by_session_sd25.pdf', transparent=True)\n",
    "plt.show()"
   ]
  },
  {
   "cell_type": "code",
   "execution_count": 22,
   "metadata": {
    "collapsed": false,
    "scrolled": false
   },
   "outputs": [
    {
     "data": {
      "image/png": "[encoded data removed]",
      "text/plain": [
       "<Figure size 432x288 with 1 Axes>"
      ]
     },
     "metadata": {
      "needs_background": "light"
     },
     "output_type": "display_data"
    }
   ],
   "source": [
    "#plot per session, plot versus length \n",
    "\n",
    "means_by_session_wt = norm_to_rest_wt_no_inf.mean(axis=1, level=0)\n",
    "means_by_session_ko = norm_to_rest_ko_no_inf.mean(axis=1, level=0)\n",
    "v_bins = list(means_by_session_wt.index)\n",
    "\n",
    "binned_means_dict_wt = {v_bin:means_by_session_wt.loc[v_bin].values for v_bin in v_bins}\n",
    "binned_means_dict_ko = {v_bin:means_by_session_ko.loc[v_bin].values for v_bin in v_bins}\n",
    "\n",
    "plt.figure()\n",
    "for v_bin, session_means in zip(list(binned_means_dict_wt.keys()), list(binned_means_dict_wt.values())):\n",
    "    plt.scatter([v_bin]*len(session_means), session_means, color='b')\n",
    "for v_bin, session_means in zip(list(binned_means_dict_ko.keys()), list(binned_means_dict_ko.values())):\n",
    "    plt.scatter([v_bin]*len(session_means), session_means, color='orange') \n",
    "plt.ylabel('event probability (normalzied to rest)')\n",
    "plt.xlabel('velocity')\n",
    "#plt.savefig('/projects/b1118/miniscope/analysis/summaryfigures/event_probability_individual_sessions_25.pdf', transparent=True)\n",
    "plt.show()    "
   ]
  },
  {
   "cell_type": "code",
   "execution_count": 23,
   "metadata": {
    "collapsed": false
   },
   "outputs": [
    {
     "data": {
      "text/plain": [
       "Text(0.5, 0, 'velocity')"
      ]
     },
     "execution_count": 23,
     "metadata": {},
     "output_type": "execute_result"
    },
    {
     "data": {
      "image/png": "[encoded data removed]",
      "text/plain": [
       "<Figure size 432x288 with 1 Axes>"
      ]
     },
     "metadata": {
      "needs_background": "light"
     },
     "output_type": "display_data"
    }
   ],
   "source": [
    "#get average lengths of velocity bins \n",
    "event_lengths_all_sessions = {}\n",
    "for session in list(events_by_session_sorted_by_unique_bin.keys()):\n",
    "    event_lengths_all_sessions[session] = pd.concat([pd.DataFrame({event:(list(set([idx[0] for idx in list(z_scored_events_by_session[session].loc['z_scored_movement_regions'].loc[event].index)]))[0]-event).total_seconds()\n",
    "     for event in events_by_session_sorted_by_unique_bin[session][v_bin]}, index=['time (seconds)']) \n",
    "               for v_bin in events_by_session_sorted_by_unique_bin[session].keys()], axis=1, keys=events_by_session_sorted_by_unique_bin[session].keys())\n",
    "event_lengths_all_sessions_df = pd.concat(event_lengths_all_sessions, keys=event_lengths_all_sessions.keys(), axis=1)\n",
    "\n",
    "mean_lengths_by_session_wt = pd.concat([event_lengths_all_sessions_df[session].mean(axis=1, level=0) for session in list(event_lengths_all_sessions_df.columns.levels[0])\n",
    "                                    if session in wt_sessions], \n",
    "                                       keys=[session for session in list(event_lengths_all_sessions_df.columns.levels[0]) if session in wt_sessions], \n",
    "                                       axis=1).swaplevel(i=0, j=1, axis=1)\n",
    "\n",
    "mean_lengths_by_session_ko = pd.concat([event_lengths_all_sessions_df[session].mean(axis=1, level=0) for session in list(event_lengths_all_sessions_df.columns.levels[0])\n",
    "                                    if session in ko_sessions], \n",
    "                                       keys=[session for session in list(event_lengths_all_sessions_df.columns.levels[0]) if session in ko_sessions], \n",
    "                                       axis=1).swaplevel(i=0, j=1, axis=1)\n",
    "\n",
    "bins_to_test = list(norm_to_rest_wt_no_inf.mean(axis=1).index)[1:]\n",
    "\n",
    "plt.figure()\n",
    "for v_bin in bins_to_test: \n",
    "    plt.scatter([v_bin]*len(mean_lengths_by_session_wt[bins_to_test][v_bin].values[0]), mean_lengths_by_session_wt[bins_to_test][v_bin].values[0], color='b')\n",
    "    plt.scatter([v_bin]*len(mean_lengths_by_session_ko[bins_to_test][v_bin].values[0]), mean_lengths_by_session_ko[bins_to_test][v_bin].values[0], color='orange')\n",
    "    \n",
    "plt.ylabel('event duration (seconds)')\n",
    "plt.xlabel('velocity')\n",
    "#plt.savefig('/projects/b1118/miniscope/analysis/summaryfigures/event_duration_individual_sessions_sd25.pdf', transparent=True)"
   ]
  },
  {
   "cell_type": "code",
   "execution_count": 24,
   "metadata": {
    "collapsed": false
   },
   "outputs": [
    {
     "data": {
      "text/plain": [
       "Text(0.5, 0, 'velocity')"
      ]
     },
     "execution_count": 24,
     "metadata": {},
     "output_type": "execute_result"
    },
    {
     "data": {
      "image/png": "[encoded data removed]",
      "text/plain": [
       "<Figure size 432x288 with 1 Axes>"
      ]
     },
     "metadata": {
      "needs_background": "light"
     },
     "output_type": "display_data"
    }
   ],
   "source": [
    "#get event counts in velocity bins \n",
    "event_lengths_all_sessions = {}\n",
    "for session in list(events_by_session_sorted_by_unique_bin.keys()):\n",
    "    event_lengths_all_sessions[session] = pd.concat([pd.DataFrame({event:(list(set([idx[0] for idx in list(z_scored_events_by_session[session].loc['z_scored_movement_regions'].loc[event].index)]))[0]-event).total_seconds()\n",
    "     for event in events_by_session_sorted_by_unique_bin[session][v_bin]}, index=['time (seconds)']) \n",
    "               for v_bin in events_by_session_sorted_by_unique_bin[session].keys()], axis=1, keys=events_by_session_sorted_by_unique_bin[session].keys())\n",
    "\n",
    "wt_counts = pd.concat([pd.DataFrame({v_bin: len(events_by_session_sorted_by_unique_bin[session][v_bin]) \n",
    " for v_bin in events_by_session_sorted_by_unique_bin[session].keys()},index=['event counts']) \n",
    "           for session in events_by_session_sorted_by_unique_bin.keys() if session in wt_sessions], \n",
    "keys=[session for session in list(events_by_session_sorted_by_unique_bin.keys()) if session in wt_sessions], axis=1).swaplevel(i=0, j=1, axis=1)\n",
    "\n",
    "ko_counts = pd.concat([pd.DataFrame({v_bin: len(events_by_session_sorted_by_unique_bin[session][v_bin]) \n",
    " for v_bin in events_by_session_sorted_by_unique_bin[session].keys()},index=['event counts']) \n",
    "           for session in events_by_session_sorted_by_unique_bin.keys() if session in ko_sessions], \n",
    "keys=[session for session in list(events_by_session_sorted_by_unique_bin.keys()) if session in ko_sessions], axis=1).swaplevel(i=0, j=1, axis=1)\n",
    "\n",
    "plt.figure()\n",
    "\n",
    "bins_to_test = list(norm_to_rest_wt_no_inf.mean(axis=1).index)[1:]\n",
    "\n",
    "for v_bin in bins_to_test: \n",
    "    plt.scatter([v_bin]*len(wt_counts[bins_to_test][v_bin].values[0]), wt_counts[bins_to_test][v_bin].values[0], color='b')\n",
    "    plt.scatter([v_bin]*len(ko_counts[bins_to_test][v_bin].values[0]), ko_counts[bins_to_test][v_bin].values[0], color='orange')\n",
    "    \n",
    "plt.ylabel('event counts')\n",
    "plt.xlabel('velocity')\n",
    "#plt.savefig('/projects/b1118/miniscope/analysis/summaryfigures/event_counts_individual_sessions_sd25.pdf', transparent=True)"
   ]
  },
  {
   "cell_type": "code",
   "execution_count": 25,
   "metadata": {
    "collapsed": false,
    "scrolled": true
   },
   "outputs": [
    {
     "data": {
      "image/png": "[encoded data removed]",
      "text/plain": [
       "<Figure size 432x288 with 1 Axes>"
      ]
     },
     "metadata": {
      "needs_background": "light"
     },
     "output_type": "display_data"
    }
   ],
   "source": [
    "## wt versus ko plot, raw values \n",
    "plt.plot(wt_event_by_session_df.mean(axis=1).index, wt_event_by_session_df.mean(axis=1), color='k')\n",
    "std_error = wt_event_by_session_df.std(axis=1)/math.sqrt(len(wt_event_by_session.keys()))\n",
    "plt.fill_between(wt_event_by_session_df.mean(axis=1).index, wt_event_by_session_df.mean(axis=1)+std_error, \n",
    "                 wt_event_by_session_df.mean(axis=1)-std_error)\n",
    "plt.plot(ko_event_by_session_df.mean(axis=1), color='k')\n",
    "std_error_2 = ko_event_by_session_df.std(axis=1)/math.sqrt(len(ko_event_by_session.keys()))\n",
    "plt.fill_between(ko_event_by_session_df.mean(axis=1).index, ko_event_by_session_df.mean(axis=1)+std_error_2, \n",
    "                 ko_event_by_session_df.mean(axis=1)-std_error_2, alpha=0.5)\n",
    "plt.show()"
   ]
  },
  {
   "cell_type": "code",
   "execution_count": null,
   "metadata": {
    "collapsed": true
   },
   "outputs": [],
   "source": [
    "##events by session, do this as scatter plot? \n",
    "#plot probability for event length "
   ]
  },
  {
   "cell_type": "code",
   "execution_count": null,
   "metadata": {
    "collapsed": false,
    "scrolled": true
   },
   "outputs": [],
   "source": [
    "for session in wt_event_by_session:\n",
    "    plt.plot(event_p_by_session[session].mean(axis=1).sort_index())\n",
    "plt.show()"
   ]
  },
  {
   "cell_type": "code",
   "execution_count": null,
   "metadata": {
    "collapsed": false
   },
   "outputs": [],
   "source": [
    "for session in ko_event_by_session:\n",
    "    plt.plot(event_p_by_session[session].mean(axis=1).sort_index())\n",
    "plt.show()"
   ]
  },
  {
   "cell_type": "code",
   "execution_count": null,
   "metadata": {
    "collapsed": true
   },
   "outputs": [],
   "source": [
    "#plot lengths of events "
   ]
  },
  {
   "cell_type": "code",
   "execution_count": null,
   "metadata": {
    "collapsed": false
   },
   "outputs": [],
   "source": [
    "event_lengths_wt = {}\n",
    "for session in wt_event_by_session: \n",
    "    start_indicies = return_list_of_start_indicies_in_session(z_scored_events_by_session[session].loc['z_scored_movement_regions'])\n",
    "    end_indicies = return_list_of_stop_indicies_in_session(z_scored_events_by_session[session].loc['z_scored_movement_regions'])\n",
    "    event_lengths_wt[session] = pd.DataFrame({start_idx: (end_idx-start_idx).total_seconds() for start_idx, end_idx in zip(start_indicies, end_indicies)},\n",
    "                              index= ['duration']).transpose()\n",
    "event_lengths_wt_df = pd.concat(event_lengths_wt, keys=wt_event_by_session)"
   ]
  },
  {
   "cell_type": "code",
   "execution_count": null,
   "metadata": {
    "collapsed": false
   },
   "outputs": [],
   "source": [
    "event_lengths_ko = {}\n",
    "for session in ko_event_by_session: \n",
    "    start_indicies = return_list_of_start_indicies_in_session(z_scored_events_by_session[session].loc['z_scored_movement_regions'])\n",
    "    end_indicies = return_list_of_stop_indicies_in_session(z_scored_events_by_session[session].loc['z_scored_movement_regions'])\n",
    "    event_lengths_ko[session] = pd.DataFrame({start_idx: (end_idx-start_idx).total_seconds() for start_idx, end_idx in zip(start_indicies, end_indicies)},\n",
    "                              index= ['duration']).transpose()\n",
    "event_lengths_ko_df = pd.concat(event_lengths_ko, keys=ko_event_by_session)"
   ]
  },
  {
   "cell_type": "code",
   "execution_count": null,
   "metadata": {
    "collapsed": false
   },
   "outputs": [],
   "source": [
    "plt.hist(event_lengths_wt_df['duration'], alpha=0.6)\n",
    "plt.hist(event_lengths_ko_df['duration'], alpha=0.6)"
   ]
  },
  {
   "cell_type": "code",
   "execution_count": null,
   "metadata": {
    "collapsed": true
   },
   "outputs": [],
   "source": []
  }
 ],
 "metadata": {
  "kernelspec": {
   "display_name": "caiman_with_tables",
   "language": "python",
   "name": "caiman_with_tables"
  },
  "language_info": {
   "codemirror_mode": {
    "name": "ipython",
    "version": 3
   },
   "file_extension": ".py",
   "mimetype": "text/x-python",
   "name": "python",
   "nbconvert_exporter": "python",
   "pygments_lexer": "ipython3",
   "version": "3.8.8"
  }
 },
 "nbformat": 4,
 "nbformat_minor": 2
}
