{
 "cells": [
  {
   "cell_type": "code",
   "execution_count": 1,
   "metadata": {},
   "outputs": [
    {
     "data": {
      "text/html": [
       "<style>.container { width:90% !important; }</style>"
      ],
      "text/plain": [
       "<IPython.core.display.HTML object>"
      ]
     },
     "metadata": {},
     "output_type": "display_data"
    }
   ],
   "source": [
    "from IPython.core.display import display, HTML\n",
    "display(HTML(\"<style>.container { width:90% !important; }</style>\"))\n",
    "import numpy as np\n",
    "import pandas as pd\n",
    "import h5py\n",
    "from tqdm import tqdm\n",
    "import scipy.io as sio\n",
    "from scipy import stats\n",
    "from importlib import reload\n",
    "from matplotlib import pyplot as plt\n",
    "import sys\n",
    "sys.path.append('/home/jma819/post_cmfe_analysis')\n",
    "#sys.path.append('/Users/johnmarshall/Documents/Analysis/PythonAnalysisScripts/post_cmfe_analysis')\n",
    "import python_utils_jjm as utils_jjm\n",
    "import dlc_utils\n",
    "from sklearn.preprocessing import MinMaxScaler\n",
    "import scipy.spatial.distance as dist\n",
    "import itertools\n",
    "import math\n",
    "import warnings\n",
    "%matplotlib inline\n",
    "from matplotlib import pyplot as plt\n",
    "from matplotlib import animation, rc\n",
    "from IPython.display import HTML\n",
    "import av\n",
    "from multiprocessing import Pool\n",
    "import functools\n",
    "import glob\n",
    "plt.rcParams['animation.ffmpeg_path']='/home/jma819/.conda/envs/caiman/bin/ffmpeg'\n",
    "warnings.filterwarnings(action='once')"
   ]
  },
  {
   "cell_type": "code",
   "execution_count": 2,
   "metadata": {
    "scrolled": true
   },
   "outputs": [
    {
     "name": "stderr",
     "output_type": "stream",
     "text": [
      "/home/jma819/.conda/envs/caiman_with_tables/lib/python3.8/site-packages/ipykernel/ipkernel.py:287: DeprecationWarning: `should_run_async` will not call `transform_cell` automatically in the future. Please pass the result to `transformed_cell` argument and any exception that happen during thetransform in `preprocessing_exc_tuple` in IPython 7.17 and above.\n",
      "  and should_run_async(code)\n"
     ]
    },
    {
     "data": {
      "text/plain": [
       "<module 'dlc_utils' from '/home/jma819/post_cmfe_analysis/dlc_utils.py'>"
      ]
     },
     "execution_count": 2,
     "metadata": {},
     "output_type": "execute_result"
    }
   ],
   "source": [
    "reload(utils_jjm)\n",
    "reload(dlc_utils)"
   ]
  },
  {
   "cell_type": "code",
   "execution_count": 3,
   "metadata": {},
   "outputs": [],
   "source": [
    "##wt files \n",
    "wt_sessions = ['GRIN039_H14_M8_S53','GRIN039_H12_M33_S29', 'GRIN039_H12_M26_S54', 'GRIN013_H13_M33_S54', 'GRIN027_H13_M29_S44', 'GRIN033_H14_M34_S32', 'GRIN033_H13_M42_S33',\n",
    " 'GRIN032_H17_M30_S22', 'GRIN034_H15_M28_S2', 'GRIN026_H16_M35_S34', 'GRIN032_H16_M49_S22', 'GRIN034_H16_M13_S22', 'GRIN034_H19_M0_S18',\n",
    " 'GRIN035_H13_M50_S58', 'GRIN035_H13_M31_S20', 'GRIN035_H14_M40_S34']\n",
    "##ko files \n",
    "ko_sessions = ['GRIN038_H15_M39_S40', 'GRIN038_H11_M57_S0', 'GRIN038_H13_M37_S23', 'GRIN041_H12_M54_S49', 'GRIN009_H13_M59_S14', 'GRIN018_H17_M41_S43',\n",
    " 'GRIN018_H16_M13_S53', 'GRIN011_H10_M19_S59', 'GRIN012_H17_M46_S35', 'GRIN012_H17_M32_S17', 'GRIN012_H16_M57_S23']"
   ]
  },
  {
   "cell_type": "code",
   "execution_count": 4,
   "metadata": {},
   "outputs": [],
   "source": [
    "h5file=pd.HDFStore('/projects/b1118/miniscope/analysis/compiled_data/GRIN009_H13_M59_S14_.h5')\n",
    "keys=h5file.keys()\n",
    "h5file.close()"
   ]
  },
  {
   "cell_type": "code",
   "execution_count": 5,
   "metadata": {},
   "outputs": [
    {
     "data": {
      "text/plain": [
       "['/GRIN009_H13_M59_S14C',\n",
       " '/GRIN009_H13_M59_S14C_normalized',\n",
       " '/GRIN009_H13_M59_S14C_normalized_z_scored',\n",
       " '/GRIN009_H13_M59_S14com_df',\n",
       " '/GRIN009_H13_M59_S14velocity_data']"
      ]
     },
     "execution_count": 5,
     "metadata": {},
     "output_type": "execute_result"
    }
   ],
   "source": [
    "keys"
   ]
  },
  {
   "cell_type": "code",
   "execution_count": 6,
   "metadata": {},
   "outputs": [
    {
     "name": "stderr",
     "output_type": "stream",
     "text": [
      "/home/jma819/.conda/envs/caiman_with_tables/lib/python3.8/site-packages/tables/atom.py:1224: DeprecationWarning: tostring() is deprecated. Use tobytes() instead.\n",
      "  return pickle.loads(array.tostring())\n",
      "/home/jma819/.conda/envs/caiman_with_tables/lib/python3.8/site-packages/tables/array.py:241: DeprecationWarning: `np.object` is a deprecated alias for the builtin `object`. To silence this warning, use `object` by itself. Doing this will not modify any behavior and is safe. \n",
      "Deprecated in NumPy 1.20; for more details and guidance: https://numpy.org/devdocs/release/1.20.0-notes.html#deprecations\n",
      "  (oid, self.atom, self.shape, self._v_chunkshape) = self._open_array()\n"
     ]
    }
   ],
   "source": [
    "grouped_raw_data = {}\n",
    "for session in wt_sessions+ko_sessions:\n",
    "    h5file=pd.HDFStore('/projects/b1118/miniscope/analysis/compiled_data/'+session+'_.h5')\n",
    "    keys=h5file.keys()\n",
    "    h5file.close()\n",
    "    raw_session_data = {key_idx.strip('/'):pd.read_hdf('/projects/b1118/miniscope/analysis/compiled_data/'+session+'_.h5', key=key_idx) for key_idx in keys}\n",
    "    grouped_raw_data[session] = raw_session_data     "
   ]
  },
  {
   "cell_type": "code",
   "execution_count": 7,
   "metadata": {
    "scrolled": true
   },
   "outputs": [],
   "source": [
    "#grouped_raw_data['GRIN039_H14_M8_S53']['GRIN039_H14_M8_S53C']"
   ]
  },
  {
   "cell_type": "code",
   "execution_count": 8,
   "metadata": {},
   "outputs": [],
   "source": [
    "#load spatial components \n",
    "spatial_h5file=h5py.File('/projects/b1118/miniscope/analysis/spatial_data/spatial_components_test.h5', 'r')\n",
    "spatial_contours = {session:spatial_h5file[session][:] for session in list(spatial_h5file.keys())}\n",
    "spatial_h5file.close()"
   ]
  },
  {
   "cell_type": "code",
   "execution_count": 12,
   "metadata": {},
   "outputs": [],
   "source": [
    "##wt files \n",
    "wt_sessions = ['GRIN039_H14_M8_S53','GRIN039_H12_M33_S29', 'GRIN039_H12_M26_S54', 'GRIN013_H13_M33_S54', 'GRIN027_H13_M29_S44', 'GRIN033_H14_M34_S32', 'GRIN033_H13_M42_S33',\n",
    " 'GRIN032_H17_M30_S22', 'GRIN034_H15_M28_S2', 'GRIN026_H16_M35_S34', 'GRIN032_H16_M49_S22', 'GRIN034_H16_M13_S22', 'GRIN034_H19_M0_S18',\n",
    " 'GRIN035_H13_M50_S58', 'GRIN035_H13_M31_S20', 'GRIN035_H14_M40_S34']\n",
    "\n",
    "#ko files\n",
    "ko_sessions = ['GRIN011_H10_M19_S59', 'GRIN041_H12_M54_S49', 'GRIN009_H13_M59_S14', 'GRIN038_H15_M39_S40', 'GRIN038_H11_M57_S0', 'GRIN038_H13_M37_S23',  \n",
    "               'GRIN018_H17_M41_S43', 'GRIN018_H16_M13_S53', 'GRIN012_H17_M46_S35', 'GRIN012_H17_M32_S17', 'GRIN012_H16_M57_S23']"
   ]
  },
  {
   "cell_type": "markdown",
   "metadata": {},
   "source": [
    "## find bursting periods "
   ]
  },
  {
   "cell_type": "code",
   "execution_count": 25,
   "metadata": {},
   "outputs": [],
   "source": [
    "##remove small cells \n",
    "filtered_for_analysis = {}\n",
    "\n",
    "for session in list(grouped_raw_data.keys()):\n",
    "    # get indicies of small cells \n",
    "    cell_contours, for_dims = utils_jjm.create_contour_layouts(spatial_contours[session])\n",
    "    cells_to_drop = np.array([int(cell) for cell in list(for_dims.keys()) if \n",
    "                              len(np.array(np.where(for_dims[cell]>0.6)[0]))<100])\n",
    "\n",
    "    C_traces_filtered = grouped_raw_data[session][session+'C_normalized_z_scored'].drop(cells_to_drop, axis=1)\n",
    "    filtered_for_analysis[session] = C_traces_filtered.drop('msCamFrame', axis=1)\n",
    "    \n",
    "    "
   ]
  },
  {
   "cell_type": "code",
   "execution_count": 40,
   "metadata": {
    "scrolled": true
   },
   "outputs": [],
   "source": [
    "wt_cells = {session:len(filtered_for_analysis[session].columns) for session in wt_sessions}\n",
    "ko_cells = {session:len(filtered_for_analysis[session].columns) for session in ko_sessions}\n",
    "all_cells = {session:len(filtered_for_analysis[session].columns) for session in wt_sessions+ko_sessions}"
   ]
  },
  {
   "cell_type": "code",
   "execution_count": 38,
   "metadata": {},
   "outputs": [
    {
     "data": {
      "text/plain": [
       "68.75"
      ]
     },
     "execution_count": 38,
     "metadata": {},
     "output_type": "execute_result"
    }
   ],
   "source": [
    "np.mean(list(wt_cells.values()))"
   ]
  },
  {
   "cell_type": "code",
   "execution_count": 39,
   "metadata": {},
   "outputs": [
    {
     "data": {
      "text/plain": [
       "89.45454545454545"
      ]
     },
     "execution_count": 39,
     "metadata": {},
     "output_type": "execute_result"
    }
   ],
   "source": [
    "np.mean(list(ko_cells.values()))"
   ]
  },
  {
   "cell_type": "code",
   "execution_count": 41,
   "metadata": {},
   "outputs": [
    {
     "data": {
      "text/plain": [
       "77.18518518518519"
      ]
     },
     "execution_count": 41,
     "metadata": {},
     "output_type": "execute_result"
    }
   ],
   "source": [
    "np.mean(list(all_cells.values()))"
   ]
  },
  {
   "cell_type": "code",
   "execution_count": 83,
   "metadata": {
    "scrolled": true
   },
   "outputs": [
    {
     "name": "stderr",
     "output_type": "stream",
     "text": [
      "/home/jma819/.conda/envs/caiman_with_tables/lib/python3.8/site-packages/jupyter_client/jsonutil.py:64: DeprecationWarning: Interpreting naive datetime as local 2021-08-23 15:19:04.820693. Please add timezone info to timestamps.\n",
      "  new_obj[k] = extract_dates(v)\n"
     ]
    }
   ],
   "source": [
    "new_sampling_interval = .2    \n",
    "# sets sampling interval to 5Hz \n",
    "C_norm_df = pd.concat([filtered_for_analysis[session].resample(str(new_sampling_interval)+'S').max()\n",
    "                  for session in list(filtered_for_analysis.keys())], axis=1, keys=list(filtered_for_analysis.keys()))\n",
    "# after downsampling convert back to regular index\n",
    "C_norm_df_reindexed = pd.concat([C_norm_df[session].reset_index(drop=True)\n",
    "                  for session in list(set(C_norm_df.columns.get_level_values(0)))], axis=1, keys=list(set(C_norm_df.columns.get_level_values(0))))"
   ]
  },
  {
   "cell_type": "code",
   "execution_count": 38,
   "metadata": {
    "scrolled": false
   },
   "outputs": [
    {
     "name": "stderr",
     "output_type": "stream",
     "text": [
      "/home/jma819/.conda/envs/caiman_with_tables/lib/python3.8/site-packages/jupyter_client/jsonutil.py:64: DeprecationWarning: Interpreting naive datetime as local 2021-08-22 22:03:18.899316. Please add timezone info to timestamps.\n",
      "  new_obj[k] = extract_dates(v)\n"
     ]
    }
   ],
   "source": [
    "# bin/binarize cell activity \n",
    "session = 'GRIN038_H15_M39_S40'\n",
    "samples_to_forward_smooth = 5\n",
    "z_score_threshold = 2.5\n",
    "binned_session = C_norm_df_reindexed[session].apply(utils_jjm.binning_function_uncrop, \n",
    "                                                                  axis=0, args=(samples_to_forward_smooth, z_score_threshold))"
   ]
  },
  {
   "cell_type": "code",
   "execution_count": 39,
   "metadata": {
    "scrolled": true
   },
   "outputs": [
    {
     "name": "stderr",
     "output_type": "stream",
     "text": [
      "/home/jma819/.conda/envs/caiman_with_tables/lib/python3.8/site-packages/jupyter_client/jsonutil.py:64: DeprecationWarning: Interpreting naive datetime as local 2021-08-22 22:03:21.360700. Please add timezone info to timestamps.\n",
      "  new_obj[k] = extract_dates(v)\n"
     ]
    },
    {
     "data": {
      "text/plain": [
       "[<matplotlib.lines.Line2D at 0x2ad4fe82ae80>]"
      ]
     },
     "execution_count": 39,
     "metadata": {},
     "output_type": "execute_result"
    },
    {
     "data": {
      "image/png": "[encoded data removed]",
      "text/plain": [
       "<Figure size 432x288 with 1 Axes>"
      ]
     },
     "metadata": {
      "needs_background": "light"
     },
     "output_type": "display_data"
    }
   ],
   "source": [
    "bounds_of_bursting_session = (0, 1000)\n",
    "plt.plot((binned_session.sum(axis=1)/len(binned_session.columns))[bounds_of_bursting_session[0]:bounds_of_bursting_session[1]])"
   ]
  },
  {
   "cell_type": "code",
   "execution_count": 40,
   "metadata": {},
   "outputs": [
    {
     "name": "stderr",
     "output_type": "stream",
     "text": [
      "/home/jma819/.conda/envs/caiman_with_tables/lib/python3.8/site-packages/jupyter_client/jsonutil.py:64: DeprecationWarning: Interpreting naive datetime as local 2021-08-22 22:03:50.711732. Please add timezone info to timestamps.\n",
      "  new_obj[k] = extract_dates(v)\n"
     ]
    }
   ],
   "source": [
    "#store a list of active cells at each sample point \n",
    "active_cells_by_time = {}\n",
    "for sample in list(binned_session[bounds_of_bursting_session[0]:bounds_of_bursting_session[1]].index):\n",
    "    active_cells_by_time[sample]=[]\n",
    "    for cell in list(binned_session.columns):\n",
    "        if binned_session[bounds_of_bursting_session[0]:bounds_of_bursting_session[1]].loc[sample][cell]==1:\n",
    "            active_cells_by_time[sample].append(cell)"
   ]
  },
  {
   "cell_type": "code",
   "execution_count": 46,
   "metadata": {},
   "outputs": [
    {
     "name": "stderr",
     "output_type": "stream",
     "text": [
      "/home/jma819/.conda/envs/caiman_with_tables/lib/python3.8/site-packages/jupyter_client/jsonutil.py:64: DeprecationWarning: Interpreting naive datetime as local 2021-03-21 13:48:36.974118. Please add timezone info to timestamps.\n",
      "  new_obj[k] = extract_dates(v)\n"
     ]
    }
   ],
   "source": [
    "# load spatial data and get average distance bewtween coactive cells "
   ]
  },
  {
   "cell_type": "code",
   "execution_count": 49,
   "metadata": {},
   "outputs": [
    {
     "name": "stderr",
     "output_type": "stream",
     "text": [
      "/home/jma819/.conda/envs/caiman_with_tables/lib/python3.8/site-packages/jupyter_client/jsonutil.py:64: DeprecationWarning: Interpreting naive datetime as local 2021-03-21 13:59:00.632154. Please add timezone info to timestamps.\n",
      "  new_obj[k] = extract_dates(v)\n"
     ]
    }
   ],
   "source": [
    "cell_com = pd.read_csv('/projects/b1118/miniscope/analysis/spatial_data/spatial_clustering/jones_script_analysis/GRIN011_H10_M19_S59_com_filtered.csv')"
   ]
  },
  {
   "cell_type": "code",
   "execution_count": 76,
   "metadata": {
    "scrolled": true
   },
   "outputs": [
    {
     "name": "stderr",
     "output_type": "stream",
     "text": [
      "/home/jma819/.conda/envs/caiman_with_tables/lib/python3.8/site-packages/jupyter_client/jsonutil.py:64: DeprecationWarning: Interpreting naive datetime as local 2021-03-21 14:32:01.301682. Please add timezone info to timestamps.\n",
      "  new_obj[k] = extract_dates(v)\n",
      "100%|██████████| 1000/1000 [00:04<00:00, 209.61it/s]\n"
     ]
    }
   ],
   "source": [
    "avg_distance_coactive_cell_by_sample = []\n",
    "for sample in tqdm(list(active_cells_by_time.keys())):\n",
    "    cell_distances = []\n",
    "    for pair in itertools.combinations(active_cells_by_time[sample], 2):\n",
    "        cell_distances.append(math.sqrt((cell_com[str(pair[0])][0]-cell_com[str(pair[1])][0])**2+(cell_com[str(pair[0])][1]-cell_com[str(pair[1])][1])**2))    \n",
    "    avg_distance_coactive_cell_by_sample.append(np.mean(cell_distances))\n",
    "avg_distance_coactive_cell_by_sample = np.array(avg_distance_coactive_cell_by_sample)"
   ]
  },
  {
   "cell_type": "code",
   "execution_count": 81,
   "metadata": {},
   "outputs": [
    {
     "name": "stderr",
     "output_type": "stream",
     "text": [
      "/home/jma819/.conda/envs/caiman_with_tables/lib/python3.8/site-packages/jupyter_client/jsonutil.py:64: DeprecationWarning: Interpreting naive datetime as local 2021-03-21 14:33:34.917447. Please add timezone info to timestamps.\n",
      "  new_obj[k] = extract_dates(v)\n",
      "/home/jma819/.conda/envs/caiman_with_tables/lib/python3.8/site-packages/ipykernel/ipkernel.py:287: DeprecationWarning: `should_run_async` will not call `transform_cell` automatically in the future. Please pass the result to `transformed_cell` argument and any exception that happen during thetransform in `preprocessing_exc_tuple` in IPython 7.17 and above.\n",
      "  and should_run_async(code)\n"
     ]
    },
    {
     "data": {
      "text/plain": [
       "array([165.31390512, 165.31390512, 165.31390512, 165.31390512,\n",
       "       165.31390512, 165.31390512, 165.31390512, 165.31390512,\n",
       "       165.31390512, 165.31390512,   0.        ,   0.        ,\n",
       "         0.        ,   0.        ,   0.        ,   0.        ,\n",
       "         0.        ,   0.        ,   0.        ,   0.        ,\n",
       "       218.08545292, 218.08545292, 218.08545292, 218.08545292,\n",
       "       218.08545292, 218.08545292, 218.08545292, 218.08545292,\n",
       "       218.08545292, 218.08545292, 191.30774258, 191.30774258,\n",
       "       191.30774258, 191.30774258, 191.30774258, 191.30774258,\n",
       "       191.30774258, 191.30774258, 191.30774258, 191.30774258,\n",
       "       225.05030121, 225.05030121, 225.05030121, 225.05030121,\n",
       "       225.05030121, 225.05030121, 225.05030121, 225.05030121,\n",
       "       225.05030121, 225.05030121,   0.        ,   0.        ,\n",
       "         0.        ,   0.        ,   0.        ,   0.        ,\n",
       "         0.        ,   0.        ,   0.        ,   0.        ,\n",
       "       182.56854316, 182.56854316, 182.56854316, 182.56854316,\n",
       "       182.56854316, 182.56854316, 182.56854316, 182.56854316,\n",
       "       182.56854316, 182.56854316, 133.84053833, 133.84053833,\n",
       "       133.84053833, 133.84053833, 133.84053833, 133.84053833,\n",
       "       133.84053833, 133.84053833, 133.84053833, 133.84053833,\n",
       "       203.07848775, 203.07848775, 203.07848775, 203.07848775,\n",
       "       203.07848775, 203.07848775, 203.07848775, 203.07848775,\n",
       "       203.07848775, 203.07848775, 158.56224019, 158.56224019,\n",
       "       158.56224019, 158.56224019, 158.56224019, 158.56224019,\n",
       "       158.56224019, 158.56224019, 158.56224019, 158.56224019,\n",
       "       128.84182132, 128.84182132, 128.84182132, 128.84182132,\n",
       "       128.84182132, 128.84182132, 128.84182132, 128.84182132,\n",
       "       128.84182132, 128.84182132, 111.37252543, 111.37252543,\n",
       "       111.37252543, 111.37252543, 111.37252543, 111.37252543,\n",
       "       111.37252543, 111.37252543, 111.37252543, 111.37252543,\n",
       "         0.        ,   0.        ,   0.        ,   0.        ,\n",
       "         0.        ,   0.        ,   0.        ,   0.        ,\n",
       "         0.        ,   0.        , 223.44652947, 223.44652947,\n",
       "       223.44652947, 223.44652947, 223.44652947, 223.44652947,\n",
       "       223.44652947, 223.44652947, 223.44652947, 223.44652947,\n",
       "       218.61852447, 218.61852447, 218.61852447, 218.61852447,\n",
       "       218.61852447, 218.61852447, 218.61852447, 218.61852447,\n",
       "       218.61852447, 218.61852447, 228.79690423, 228.79690423,\n",
       "       228.79690423, 228.79690423, 228.79690423, 228.79690423,\n",
       "       228.79690423, 228.79690423, 228.79690423, 228.79690423,\n",
       "       174.13961083, 174.13961083, 174.13961083, 174.13961083,\n",
       "       174.13961083, 174.13961083, 174.13961083, 174.13961083,\n",
       "       174.13961083, 174.13961083, 166.69953458, 166.69953458,\n",
       "       166.69953458, 166.69953458, 166.69953458, 166.69953458,\n",
       "       166.69953458, 166.69953458, 166.69953458, 166.69953458,\n",
       "       220.4098425 , 220.4098425 , 220.4098425 , 220.4098425 ,\n",
       "       220.4098425 , 220.4098425 , 220.4098425 , 220.4098425 ,\n",
       "       220.4098425 , 220.4098425 , 307.89444912, 307.89444912,\n",
       "       307.89444912, 307.89444912, 307.89444912, 307.89444912,\n",
       "       307.89444912, 307.89444912, 307.89444912, 307.89444912,\n",
       "       215.95466159, 215.95466159, 215.95466159, 215.95466159,\n",
       "       215.95466159, 215.95466159, 215.95466159, 215.95466159,\n",
       "       215.95466159, 215.95466159, 251.28110024, 251.28110024,\n",
       "       251.28110024, 251.28110024, 251.28110024, 251.28110024,\n",
       "       251.28110024, 251.28110024, 251.28110024, 251.28110024,\n",
       "       132.77591756, 132.77591756, 132.77591756, 132.77591756,\n",
       "       132.77591756, 132.77591756, 132.77591756, 132.77591756,\n",
       "       132.77591756, 132.77591756, 193.88958107, 193.88958107,\n",
       "       193.88958107, 193.88958107, 193.88958107, 193.88958107,\n",
       "       193.88958107, 193.88958107, 193.88958107, 193.88958107,\n",
       "       178.73314291, 178.73314291, 178.73314291, 178.73314291,\n",
       "       178.73314291, 178.73314291, 178.73314291, 178.73314291,\n",
       "       178.73314291, 178.73314291, 216.82860393, 216.82860393,\n",
       "       216.82860393, 216.82860393, 216.82860393, 216.82860393,\n",
       "       216.82860393, 216.82860393, 216.82860393, 216.82860393,\n",
       "       191.47470368, 191.47470368, 191.47470368, 191.47470368,\n",
       "       191.47470368, 191.47470368, 191.47470368, 191.47470368,\n",
       "       191.47470368, 191.47470368, 131.851609  , 131.851609  ,\n",
       "       131.851609  , 131.851609  , 131.851609  , 131.851609  ,\n",
       "       131.851609  , 131.851609  , 131.851609  , 131.851609  ,\n",
       "         0.        ,   0.        ,   0.        ,   0.        ,\n",
       "         0.        ,   0.        ,   0.        ,   0.        ,\n",
       "         0.        ,   0.        , 242.99781355, 242.99781355,\n",
       "       242.99781355, 242.99781355, 242.99781355, 242.99781355,\n",
       "       242.99781355, 242.99781355, 242.99781355, 242.99781355,\n",
       "       208.56532406, 208.56532406, 208.56532406, 208.56532406,\n",
       "       208.56532406, 208.56532406, 208.56532406, 208.56532406,\n",
       "       208.56532406, 208.56532406, 295.5443347 , 295.5443347 ,\n",
       "       295.5443347 , 295.5443347 , 295.5443347 , 295.5443347 ,\n",
       "       295.5443347 , 295.5443347 , 295.5443347 , 295.5443347 ,\n",
       "         0.        ,   0.        ,   0.        ,   0.        ,\n",
       "         0.        ,   0.        ,   0.        ,   0.        ,\n",
       "         0.        ,   0.        ,   0.        ,   0.        ,\n",
       "         0.        ,   0.        ,   0.        ,   0.        ,\n",
       "         0.        ,   0.        ,   0.        ,   0.        ,\n",
       "         0.        ,   0.        ,   0.        ,   0.        ,\n",
       "         0.        ,   0.        ,   0.        ,   0.        ,\n",
       "         0.        ,   0.        ,   0.        ,   0.        ,\n",
       "         0.        ,   0.        ,   0.        ,   0.        ,\n",
       "         0.        ,   0.        ,   0.        ,   0.        ,\n",
       "       206.6881548 , 206.6881548 , 206.6881548 , 206.6881548 ,\n",
       "       206.6881548 , 206.6881548 , 206.6881548 , 206.6881548 ,\n",
       "       206.6881548 , 206.6881548 , 194.44851467, 194.44851467,\n",
       "       194.44851467, 194.44851467, 194.44851467, 194.44851467,\n",
       "       194.44851467, 194.44851467, 194.44851467, 194.44851467,\n",
       "         0.        ,   0.        ,   0.        ,   0.        ,\n",
       "         0.        ,   0.        ,   0.        ,   0.        ,\n",
       "         0.        ,   0.        ,   0.        ,   0.        ,\n",
       "         0.        ,   0.        ,   0.        ,   0.        ,\n",
       "         0.        ,   0.        ,   0.        ,   0.        ,\n",
       "         0.        ,   0.        ,   0.        ,   0.        ,\n",
       "         0.        ,   0.        ,   0.        ,   0.        ,\n",
       "         0.        ,   0.        , 216.09279892, 216.09279892,\n",
       "       216.09279892, 216.09279892, 216.09279892, 216.09279892,\n",
       "       216.09279892, 216.09279892, 216.09279892, 216.09279892,\n",
       "       231.75884143, 231.75884143, 231.75884143, 231.75884143,\n",
       "       231.75884143, 231.75884143, 231.75884143, 231.75884143,\n",
       "       231.75884143, 231.75884143, 205.99318087, 205.99318087,\n",
       "       205.99318087, 205.99318087, 205.99318087, 205.99318087,\n",
       "       205.99318087, 205.99318087, 205.99318087, 205.99318087,\n",
       "        76.26717047,  76.26717047,  76.26717047,  76.26717047,\n",
       "        76.26717047,  76.26717047,  76.26717047,  76.26717047,\n",
       "        76.26717047,  76.26717047,   0.        ,   0.        ,\n",
       "         0.        ,   0.        ,   0.        ,   0.        ,\n",
       "         0.        ,   0.        ,   0.        ,   0.        ,\n",
       "        67.13494094,  67.13494094,  67.13494094,  67.13494094,\n",
       "        67.13494094,  67.13494094,  67.13494094,  67.13494094,\n",
       "        67.13494094,  67.13494094, 210.50861097, 210.50861097,\n",
       "       210.50861097, 210.50861097, 210.50861097, 210.50861097,\n",
       "       210.50861097, 210.50861097, 210.50861097, 210.50861097,\n",
       "       197.59508161, 197.59508161, 197.59508161, 197.59508161,\n",
       "       197.59508161, 197.59508161, 197.59508161, 197.59508161,\n",
       "       197.59508161, 197.59508161,   0.        ,   0.        ,\n",
       "         0.        ,   0.        ,   0.        ,   0.        ,\n",
       "         0.        ,   0.        ,   0.        ,   0.        ,\n",
       "         0.        ,   0.        ,   0.        ,   0.        ,\n",
       "         0.        ,   0.        ,   0.        ,   0.        ,\n",
       "         0.        ,   0.        , 136.86948431, 136.86948431,\n",
       "       136.86948431, 136.86948431, 136.86948431, 136.86948431,\n",
       "       136.86948431, 136.86948431, 136.86948431, 136.86948431,\n",
       "       164.40568867, 164.40568867, 164.40568867, 164.40568867,\n",
       "       164.40568867, 164.40568867, 164.40568867, 164.40568867,\n",
       "       164.40568867, 164.40568867,   0.        ,   0.        ,\n",
       "         0.        ,   0.        ,   0.        ,   0.        ,\n",
       "         0.        ,   0.        ,   0.        ,   0.        ,\n",
       "         0.        ,   0.        ,   0.        ,   0.        ,\n",
       "         0.        ,   0.        ,   0.        ,   0.        ,\n",
       "         0.        ,   0.        , 196.15697212, 196.15697212,\n",
       "       196.15697212, 196.15697212, 196.15697212, 196.15697212,\n",
       "       196.15697212, 196.15697212, 196.15697212, 196.15697212,\n",
       "       179.66695557, 179.66695557, 179.66695557, 179.66695557,\n",
       "       179.66695557, 179.66695557, 179.66695557, 179.66695557,\n",
       "       179.66695557, 179.66695557, 247.34820026, 247.34820026,\n",
       "       247.34820026, 247.34820026, 247.34820026, 247.34820026,\n",
       "       247.34820026, 247.34820026, 247.34820026, 247.34820026,\n",
       "       267.42597203, 267.42597203, 267.42597203, 267.42597203,\n",
       "       267.42597203, 267.42597203, 267.42597203, 267.42597203,\n",
       "       267.42597203, 267.42597203,   0.        ,   0.        ,\n",
       "         0.        ,   0.        ,   0.        ,   0.        ,\n",
       "         0.        ,   0.        ,   0.        ,   0.        ,\n",
       "         0.        ,   0.        ,   0.        ,   0.        ,\n",
       "         0.        ,   0.        ,   0.        ,   0.        ,\n",
       "         0.        ,   0.        ,   0.        ,   0.        ,\n",
       "         0.        ,   0.        ,   0.        ,   0.        ,\n",
       "         0.        ,   0.        ,   0.        ,   0.        ,\n",
       "       124.27133291, 124.27133291, 124.27133291, 124.27133291,\n",
       "       124.27133291, 124.27133291, 124.27133291, 124.27133291,\n",
       "       124.27133291, 124.27133291, 143.07998733, 143.07998733,\n",
       "       143.07998733, 143.07998733, 143.07998733, 143.07998733,\n",
       "       143.07998733, 143.07998733, 143.07998733, 143.07998733,\n",
       "         0.        ,   0.        ,   0.        ,   0.        ,\n",
       "         0.        ,   0.        ,   0.        ,   0.        ,\n",
       "         0.        ,   0.        , 161.75112363, 161.75112363,\n",
       "       161.75112363, 161.75112363, 161.75112363, 161.75112363,\n",
       "       161.75112363, 161.75112363, 161.75112363, 161.75112363,\n",
       "         0.        ,   0.        ,   0.        ,   0.        ,\n",
       "         0.        ,   0.        ,   0.        ,   0.        ,\n",
       "         0.        ,   0.        ,   0.        ,   0.        ,\n",
       "         0.        ,   0.        ,   0.        ,   0.        ,\n",
       "         0.        ,   0.        ,   0.        ,   0.        ,\n",
       "         0.        ,   0.        ,   0.        ,   0.        ,\n",
       "         0.        ,   0.        ,   0.        ,   0.        ,\n",
       "         0.        ,   0.        , 207.30225785, 207.30225785,\n",
       "       207.30225785, 207.30225785, 207.30225785, 207.30225785,\n",
       "       207.30225785, 207.30225785, 207.30225785, 207.30225785,\n",
       "         0.        ,   0.        ,   0.        ,   0.        ,\n",
       "         0.        ,   0.        ,   0.        ,   0.        ,\n",
       "         0.        ,   0.        ,   0.        ,   0.        ,\n",
       "         0.        ,   0.        ,   0.        ,   0.        ,\n",
       "         0.        ,   0.        ,   0.        ,   0.        ,\n",
       "         0.        ,   0.        ,   0.        ,   0.        ,\n",
       "         0.        ,   0.        ,   0.        ,   0.        ,\n",
       "         0.        ,   0.        ,   0.        ,   0.        ,\n",
       "         0.        ,   0.        ,   0.        ,   0.        ,\n",
       "         0.        ,   0.        ,   0.        ,   0.        ,\n",
       "        28.86940177,  28.86940177,  28.86940177,  28.86940177,\n",
       "        28.86940177,  28.86940177,  28.86940177,  28.86940177,\n",
       "        28.86940177,  28.86940177,   0.        ,   0.        ,\n",
       "         0.        ,   0.        ,   0.        ,   0.        ,\n",
       "         0.        ,   0.        ,   0.        ,   0.        ,\n",
       "         0.        ,   0.        ,   0.        ,   0.        ,\n",
       "         0.        ,   0.        ,   0.        ,   0.        ,\n",
       "         0.        ,   0.        , 172.3106164 , 172.3106164 ,\n",
       "       172.3106164 , 172.3106164 , 172.3106164 , 172.3106164 ,\n",
       "       172.3106164 , 172.3106164 , 172.3106164 , 172.3106164 ,\n",
       "        95.25098769,  95.25098769,  95.25098769,  95.25098769,\n",
       "        95.25098769,  95.25098769,  95.25098769,  95.25098769,\n",
       "        95.25098769,  95.25098769,   0.        ,   0.        ,\n",
       "         0.        ,   0.        ,   0.        ,   0.        ,\n",
       "         0.        ,   0.        ,   0.        ,   0.        ,\n",
       "        28.33564482,  28.33564482,  28.33564482,  28.33564482,\n",
       "        28.33564482,  28.33564482,  28.33564482,  28.33564482,\n",
       "        28.33564482,  28.33564482,  39.86782206,  39.86782206,\n",
       "        39.86782206,  39.86782206,  39.86782206,  39.86782206,\n",
       "        39.86782206,  39.86782206,  39.86782206,  39.86782206,\n",
       "         0.        ,   0.        ,   0.        ,   0.        ,\n",
       "         0.        ,   0.        ,   0.        ,   0.        ,\n",
       "         0.        ,   0.        , 277.79173534, 277.79173534,\n",
       "       277.79173534, 277.79173534, 277.79173534, 277.79173534,\n",
       "       277.79173534, 277.79173534, 277.79173534, 277.79173534,\n",
       "       283.51888381, 283.51888381, 283.51888381, 283.51888381,\n",
       "       283.51888381, 283.51888381, 283.51888381, 283.51888381,\n",
       "       283.51888381, 283.51888381,  85.73763734,  85.73763734,\n",
       "        85.73763734,  85.73763734,  85.73763734,  85.73763734,\n",
       "        85.73763734,  85.73763734,  85.73763734,  85.73763734,\n",
       "       114.9919056 , 114.9919056 , 114.9919056 , 114.9919056 ,\n",
       "       114.9919056 , 114.9919056 , 114.9919056 , 114.9919056 ,\n",
       "       114.9919056 , 114.9919056 , 114.9919056 , 114.9919056 ,\n",
       "       114.9919056 , 114.9919056 , 114.9919056 , 114.9919056 ,\n",
       "       114.9919056 , 114.9919056 , 114.9919056 , 114.9919056 ,\n",
       "       177.00260974, 177.00260974, 177.00260974, 177.00260974,\n",
       "       177.00260974, 177.00260974, 177.00260974, 177.00260974,\n",
       "       177.00260974, 177.00260974, 169.76066436, 169.76066436,\n",
       "       169.76066436, 169.76066436, 169.76066436, 169.76066436,\n",
       "       169.76066436, 169.76066436, 169.76066436, 169.76066436,\n",
       "         0.        ,   0.        ,   0.        ,   0.        ,\n",
       "         0.        ,   0.        ,   0.        ,   0.        ,\n",
       "         0.        ,   0.        ,   0.        ,   0.        ,\n",
       "         0.        ,   0.        ,   0.        ,   0.        ,\n",
       "         0.        ,   0.        ,   0.        ,   0.        ,\n",
       "         0.        ,   0.        ,   0.        ,   0.        ,\n",
       "         0.        ,   0.        ,   0.        ,   0.        ,\n",
       "         0.        ,   0.        ,   0.        ,   0.        ,\n",
       "         0.        ,   0.        ,   0.        ,   0.        ,\n",
       "         0.        ,   0.        ,   0.        ,   0.        ,\n",
       "         0.        ,   0.        ,   0.        ,   0.        ,\n",
       "         0.        ,   0.        ,   0.        ,   0.        ,\n",
       "         0.        ,   0.        ,   0.        ,   0.        ,\n",
       "         0.        ,   0.        ,   0.        ,   0.        ,\n",
       "         0.        ,   0.        ,   0.        ,   0.        ,\n",
       "         0.        ,   0.        ,   0.        ,   0.        ,\n",
       "         0.        ,   0.        ,   0.        ,   0.        ,\n",
       "         0.        ,   0.        ,   0.        ,   0.        ,\n",
       "         0.        ,   0.        ,   0.        ,   0.        ,\n",
       "         0.        ,   0.        ,   0.        ,   0.        ,\n",
       "         0.        ,   0.        ,   0.        ,   0.        ,\n",
       "         0.        ,   0.        ,   0.        ,   0.        ,\n",
       "         0.        ,   0.        , 206.3042806 , 206.3042806 ,\n",
       "       206.3042806 , 206.3042806 , 206.3042806 , 206.3042806 ,\n",
       "       206.3042806 , 206.3042806 , 206.3042806 , 206.3042806 ])"
      ]
     },
     "execution_count": 81,
     "metadata": {},
     "output_type": "execute_result"
    }
   ],
   "source": [
    "np.nan_to_num(avg_distance_coactive_cell_by_sample, copy=False, nan=0.0)"
   ]
  },
  {
   "cell_type": "code",
   "execution_count": 82,
   "metadata": {
    "scrolled": false
   },
   "outputs": [
    {
     "name": "stderr",
     "output_type": "stream",
     "text": [
      "/home/jma819/.conda/envs/caiman_with_tables/lib/python3.8/site-packages/jupyter_client/jsonutil.py:64: DeprecationWarning: Interpreting naive datetime as local 2021-03-21 14:33:35.444418. Please add timezone info to timestamps.\n",
      "  new_obj[k] = extract_dates(v)\n"
     ]
    },
    {
     "data": {
      "text/plain": [
       "[<matplotlib.lines.Line2D at 0x2b417ce98550>]"
      ]
     },
     "execution_count": 82,
     "metadata": {},
     "output_type": "execute_result"
    },
    {
     "data": {
      "image/png": "[encoded data removed]",
      "text/plain": [
       "<Figure size 432x288 with 1 Axes>"
      ]
     },
     "metadata": {
      "needs_background": "light"
     },
     "output_type": "display_data"
    }
   ],
   "source": [
    "plt.plot(avg_distance_coactive_cell_by_sample[200:400])"
   ]
  },
  {
   "cell_type": "code",
   "execution_count": 84,
   "metadata": {},
   "outputs": [
    {
     "name": "stderr",
     "output_type": "stream",
     "text": [
      "/home/jma819/.conda/envs/caiman_with_tables/lib/python3.8/site-packages/jupyter_client/jsonutil.py:64: DeprecationWarning: Interpreting naive datetime as local 2021-03-21 14:33:55.382356. Please add timezone info to timestamps.\n",
      "  new_obj[k] = extract_dates(v)\n"
     ]
    },
    {
     "data": {
      "text/plain": [
       "[<matplotlib.lines.Line2D at 0x2b417cfeaaf0>]"
      ]
     },
     "execution_count": 84,
     "metadata": {},
     "output_type": "execute_result"
    },
    {
     "data": {
      "image/png": "[encoded data removed]",
      "text/plain": [
       "<Figure size 432x288 with 1 Axes>"
      ]
     },
     "metadata": {
      "needs_background": "light"
     },
     "output_type": "display_data"
    }
   ],
   "source": [
    "#plt.plot((binned_session.sum(axis=1)/len(binned_session.columns))[bounds_of_bursting_session[0]:bounds_of_bursting_session[1]])\n",
    "plt.plot((binned_session.sum(axis=1)/len(binned_session.columns))[200:400])"
   ]
  },
  {
   "cell_type": "code",
   "execution_count": null,
   "metadata": {
    "collapsed": true
   },
   "outputs": [],
   "source": [
    "##could do this over entire trace to get sets of coactive cells ?? \n",
    "#then look for large sets of coactivity (greater than 5?)\n",
    "#get total set of individual cells active during periods of coacticity\n",
    "#for each cell in the set, plot the similarity of other cells it was coactive with across all periods\n",
    "#i.e. is this cell always part of the same \"cluster\"\n"
   ]
  },
  {
   "cell_type": "code",
   "execution_count": 23,
   "metadata": {},
   "outputs": [
    {
     "name": "stderr",
     "output_type": "stream",
     "text": [
      "/home/jma819/.conda/envs/caiman_with_tables/lib/python3.8/site-packages/jupyter_client/jsonutil.py:64: DeprecationWarning: Interpreting naive datetime as local 2021-03-22 10:57:51.149640. Please add timezone info to timestamps.\n",
      "  new_obj[k] = extract_dates(v)\n"
     ]
    },
    {
     "data": {
      "text/plain": [
       "27"
      ]
     },
     "execution_count": 23,
     "metadata": {},
     "output_type": "execute_result"
    }
   ],
   "source": [
    "C_norm_df_reindexed.columns.levels[0]"
   ]
  },
  {
   "cell_type": "code",
   "execution_count": 41,
   "metadata": {
    "scrolled": true
   },
   "outputs": [
    {
     "name": "stderr",
     "output_type": "stream",
     "text": [
      "/home/jma819/.conda/envs/caiman_with_tables/lib/python3.8/site-packages/jupyter_client/jsonutil.py:64: DeprecationWarning: Interpreting naive datetime as local 2021-08-22 22:05:04.771291. Please add timezone info to timestamps.\n",
      "  new_obj[k] = extract_dates(v)\n",
      "100%|██████████| 10785/10785 [00:32<00:00, 332.73it/s]\n",
      "  0%|          | 0/10785 [00:00<?, ?it/s]/home/jma819/.conda/envs/caiman_with_tables/lib/python3.8/site-packages/numpy/core/fromnumeric.py:3419: RuntimeWarning: Mean of empty slice.\n",
      "  return _methods._mean(a, axis=axis, dtype=dtype,\n",
      "/home/jma819/.conda/envs/caiman_with_tables/lib/python3.8/site-packages/numpy/core/_methods.py:188: RuntimeWarning: invalid value encountered in double_scalars\n",
      "  ret = ret.dtype.type(ret / rcount)\n",
      "100%|██████████| 10785/10785 [00:02<00:00, 4183.19it/s] \n"
     ]
    },
    {
     "name": "stdout",
     "output_type": "stream",
     "text": [
      "savedGRIN018_H16_M13_S53\n"
     ]
    },
    {
     "name": "stderr",
     "output_type": "stream",
     "text": [
      "100%|██████████| 10785/10785 [00:40<00:00, 266.15it/s]\n",
      "100%|██████████| 10785/10785 [00:02<00:00, 4134.26it/s] \n",
      "  5%|▍         | 498/10785 [00:00<00:02, 4979.02it/s]"
     ]
    },
    {
     "name": "stdout",
     "output_type": "stream",
     "text": [
      "savedGRIN012_H17_M32_S17\n"
     ]
    },
    {
     "name": "stderr",
     "output_type": "stream",
     "text": [
      "100%|██████████| 10785/10785 [00:02<00:00, 4740.98it/s]\n",
      "100%|██████████| 10785/10785 [00:00<00:00, 78475.39it/s]\n"
     ]
    },
    {
     "name": "stdout",
     "output_type": "stream",
     "text": [
      "savedGRIN041_H12_M54_S49\n"
     ]
    },
    {
     "name": "stderr",
     "output_type": "stream",
     "text": [
      "100%|██████████| 10785/10785 [01:44<00:00, 103.01it/s]\n",
      "100%|██████████| 10785/10785 [00:28<00:00, 375.02it/s]\n",
      "  0%|          | 0/10785 [00:00<?, ?it/s]"
     ]
    },
    {
     "name": "stdout",
     "output_type": "stream",
     "text": [
      "savedGRIN009_H13_M59_S14\n"
     ]
    },
    {
     "name": "stderr",
     "output_type": "stream",
     "text": [
      "100%|██████████| 10785/10785 [00:11<00:00, 926.96it/s]\n",
      "100%|██████████| 10785/10785 [00:00<00:00, 36276.27it/s]\n"
     ]
    },
    {
     "name": "stdout",
     "output_type": "stream",
     "text": [
      "savedGRIN039_H12_M33_S29\n"
     ]
    },
    {
     "name": "stderr",
     "output_type": "stream",
     "text": [
      "100%|██████████| 10785/10785 [02:10<00:00, 82.75it/s]\n",
      "100%|██████████| 10785/10785 [00:34<00:00, 312.89it/s]\n"
     ]
    },
    {
     "name": "stdout",
     "output_type": "stream",
     "text": [
      "savedGRIN038_H13_M37_S23\n"
     ]
    },
    {
     "name": "stderr",
     "output_type": "stream",
     "text": [
      "100%|██████████| 10785/10785 [01:04<00:00, 168.00it/s]\n",
      "100%|██████████| 10785/10785 [00:05<00:00, 1877.95it/s]\n"
     ]
    },
    {
     "name": "stdout",
     "output_type": "stream",
     "text": [
      "savedGRIN035_H13_M31_S20\n"
     ]
    },
    {
     "name": "stderr",
     "output_type": "stream",
     "text": [
      "100%|██████████| 10785/10785 [01:16<00:00, 140.17it/s]\n",
      "100%|██████████| 10785/10785 [00:09<00:00, 1142.56it/s]\n"
     ]
    },
    {
     "name": "stdout",
     "output_type": "stream",
     "text": [
      "savedGRIN035_H13_M50_S58\n"
     ]
    },
    {
     "name": "stderr",
     "output_type": "stream",
     "text": [
      "100%|██████████| 10785/10785 [00:59<00:00, 180.11it/s]\n",
      "100%|██████████| 10785/10785 [00:09<00:00, 1095.82it/s]\n"
     ]
    },
    {
     "name": "stdout",
     "output_type": "stream",
     "text": [
      "savedGRIN039_H14_M8_S53\n"
     ]
    },
    {
     "name": "stderr",
     "output_type": "stream",
     "text": [
      "100%|██████████| 10785/10785 [00:56<00:00, 190.33it/s]\n",
      "100%|██████████| 10785/10785 [00:09<00:00, 1149.57it/s]\n"
     ]
    },
    {
     "name": "stdout",
     "output_type": "stream",
     "text": [
      "savedGRIN026_H16_M35_S34\n"
     ]
    },
    {
     "name": "stderr",
     "output_type": "stream",
     "text": [
      "100%|██████████| 10785/10785 [00:46<00:00, 233.39it/s]\n",
      "100%|██████████| 10785/10785 [00:04<00:00, 2190.06it/s]\n"
     ]
    },
    {
     "name": "stdout",
     "output_type": "stream",
     "text": [
      "savedGRIN018_H17_M41_S43\n"
     ]
    },
    {
     "name": "stderr",
     "output_type": "stream",
     "text": [
      "100%|██████████| 10785/10785 [00:27<00:00, 396.26it/s]\n",
      "100%|██████████| 10785/10785 [00:01<00:00, 6248.75it/s]\n"
     ]
    },
    {
     "name": "stdout",
     "output_type": "stream",
     "text": [
      "savedGRIN013_H13_M33_S54\n"
     ]
    },
    {
     "name": "stderr",
     "output_type": "stream",
     "text": [
      "100%|██████████| 10785/10785 [00:30<00:00, 354.41it/s]\n",
      "100%|██████████| 10785/10785 [00:01<00:00, 9423.07it/s]\n"
     ]
    },
    {
     "name": "stdout",
     "output_type": "stream",
     "text": [
      "savedGRIN034_H19_M0_S18\n"
     ]
    },
    {
     "name": "stderr",
     "output_type": "stream",
     "text": [
      "100%|██████████| 10785/10785 [00:47<00:00, 225.28it/s]\n",
      "100%|██████████| 10785/10785 [00:06<00:00, 1627.52it/s]\n"
     ]
    },
    {
     "name": "stdout",
     "output_type": "stream",
     "text": [
      "savedGRIN039_H12_M26_S54\n"
     ]
    },
    {
     "name": "stderr",
     "output_type": "stream",
     "text": [
      "100%|██████████| 10785/10785 [01:23<00:00, 129.12it/s]\n",
      "100%|██████████| 10785/10785 [00:13<00:00, 786.90it/s]\n"
     ]
    },
    {
     "name": "stdout",
     "output_type": "stream",
     "text": [
      "savedGRIN032_H16_M49_S22\n"
     ]
    },
    {
     "name": "stderr",
     "output_type": "stream",
     "text": [
      "100%|██████████| 10785/10785 [00:34<00:00, 316.95it/s]\n",
      "100%|██████████| 10785/10785 [00:02<00:00, 3671.90it/s]\n"
     ]
    },
    {
     "name": "stdout",
     "output_type": "stream",
     "text": [
      "savedGRIN027_H13_M29_S44\n"
     ]
    },
    {
     "name": "stderr",
     "output_type": "stream",
     "text": [
      "100%|██████████| 10785/10785 [01:32<00:00, 116.68it/s]\n",
      "100%|██████████| 10785/10785 [00:25<00:00, 417.12it/s] \n"
     ]
    },
    {
     "name": "stdout",
     "output_type": "stream",
     "text": [
      "savedGRIN032_H17_M30_S22\n"
     ]
    },
    {
     "name": "stderr",
     "output_type": "stream",
     "text": [
      "100%|██████████| 10785/10785 [02:30<00:00, 71.53it/s]\n",
      "100%|██████████| 10785/10785 [00:57<00:00, 186.35it/s]\n"
     ]
    },
    {
     "name": "stdout",
     "output_type": "stream",
     "text": [
      "savedGRIN011_H10_M19_S59\n"
     ]
    },
    {
     "name": "stderr",
     "output_type": "stream",
     "text": [
      "100%|██████████| 10785/10785 [01:02<00:00, 171.74it/s]\n",
      "100%|██████████| 10785/10785 [00:07<00:00, 1461.93it/s]\n"
     ]
    },
    {
     "name": "stdout",
     "output_type": "stream",
     "text": [
      "savedGRIN012_H16_M57_S23\n"
     ]
    },
    {
     "name": "stderr",
     "output_type": "stream",
     "text": [
      "100%|██████████| 10785/10785 [00:28<00:00, 375.20it/s]\n",
      "100%|██████████| 10785/10785 [00:00<00:00, 12379.40it/s]\n"
     ]
    },
    {
     "name": "stdout",
     "output_type": "stream",
     "text": [
      "savedGRIN034_H16_M13_S22\n"
     ]
    },
    {
     "name": "stderr",
     "output_type": "stream",
     "text": [
      "100%|██████████| 10785/10785 [01:10<00:00, 152.05it/s]\n",
      "100%|██████████| 10785/10785 [00:08<00:00, 1254.10it/s]\n"
     ]
    },
    {
     "name": "stdout",
     "output_type": "stream",
     "text": [
      "savedGRIN038_H15_M39_S40\n"
     ]
    },
    {
     "name": "stderr",
     "output_type": "stream",
     "text": [
      "100%|██████████| 10785/10785 [01:14<00:00, 143.83it/s]\n",
      "100%|██████████| 10785/10785 [00:16<00:00, 666.71it/s]\n"
     ]
    },
    {
     "name": "stdout",
     "output_type": "stream",
     "text": [
      "savedGRIN033_H13_M42_S33\n"
     ]
    },
    {
     "name": "stderr",
     "output_type": "stream",
     "text": [
      "100%|██████████| 10785/10785 [00:38<00:00, 282.21it/s]\n",
      "100%|██████████| 10785/10785 [00:03<00:00, 3517.70it/s]\n"
     ]
    },
    {
     "name": "stdout",
     "output_type": "stream",
     "text": [
      "savedGRIN034_H15_M28_S2\n"
     ]
    },
    {
     "name": "stderr",
     "output_type": "stream",
     "text": [
      "100%|██████████| 10785/10785 [00:22<00:00, 475.99it/s]\n",
      "100%|██████████| 10785/10785 [00:01<00:00, 10348.12it/s]\n"
     ]
    },
    {
     "name": "stdout",
     "output_type": "stream",
     "text": [
      "savedGRIN033_H14_M34_S32\n"
     ]
    },
    {
     "name": "stderr",
     "output_type": "stream",
     "text": [
      "100%|██████████| 10785/10785 [01:07<00:00, 160.54it/s]\n",
      "100%|██████████| 10785/10785 [00:09<00:00, 1096.74it/s]\n"
     ]
    },
    {
     "name": "stdout",
     "output_type": "stream",
     "text": [
      "savedGRIN035_H14_M40_S34\n"
     ]
    },
    {
     "name": "stderr",
     "output_type": "stream",
     "text": [
      "100%|██████████| 10785/10785 [01:18<00:00, 137.19it/s]\n",
      "100%|██████████| 10785/10785 [00:11<00:00, 953.88it/s]\n",
      "  2%|▏         | 206/10785 [00:00<00:05, 2051.34it/s]"
     ]
    },
    {
     "name": "stdout",
     "output_type": "stream",
     "text": [
      "savedGRIN038_H11_M57_S0\n"
     ]
    },
    {
     "name": "stderr",
     "output_type": "stream",
     "text": [
      "100%|██████████| 10785/10785 [00:05<00:00, 2021.30it/s]\n",
      "100%|██████████| 10785/10785 [00:00<00:00, 57532.14it/s]\n"
     ]
    },
    {
     "name": "stdout",
     "output_type": "stream",
     "text": [
      "savedGRIN012_H17_M46_S35\n"
     ]
    }
   ],
   "source": [
    "# bin/binarize cell activity \n",
    "for session in list(C_norm_df_reindexed.columns.levels[0]):\n",
    "    samples_to_forward_smooth = 10\n",
    "    z_score_threshold = 2.5\n",
    "    binned_session = C_norm_df_reindexed[session].apply(utils_jjm.binning_function_uncrop, \n",
    "                                                                  axis=0, args=(samples_to_forward_smooth, z_score_threshold))\n",
    "\n",
    "    cell_com = pd.read_csv('/projects/b1118/miniscope/analysis/spatial_data/spatial_clustering/jones_script_analysis/'+session+'_com_filtered.csv')\n",
    "\n",
    "    #get lists of cell active during sample periods in a given session\n",
    "    active_cells_by_time_whole_session = {}\n",
    "    for sample in tqdm(list(binned_session.index)):\n",
    "        active_cells_by_time_whole_session[sample]=[]\n",
    "        for cell in list(binned_session.columns):\n",
    "            if binned_session.loc[sample][cell]==1:\n",
    "                active_cells_by_time_whole_session[sample].append(cell)\n",
    "\n",
    "    #get the average distance between all cell pairs active during each sample \n",
    "    avg_distance_coactive_cell_by_sample = []\n",
    "    for sample in tqdm(list(active_cells_by_time_whole_session.keys())):\n",
    "        cell_distances = []\n",
    "        for pair in itertools.combinations(active_cells_by_time_whole_session[sample], 2):\n",
    "            cell_distances.append(math.sqrt((cell_com[str(pair[0])][0]-cell_com[str(pair[1])][0])**2+(cell_com[str(pair[0])][1]-cell_com[str(pair[1])][1])**2))    \n",
    "        avg_distance_coactive_cell_by_sample.append(np.mean(cell_distances))\n",
    "    avg_distance_coactive_cell_by_sample = np.array(avg_distance_coactive_cell_by_sample)\n",
    "\n",
    "    ## save the lists of active cells and the average cluster distance per sample to h5 files\n",
    "    h5_output = h5py.File('/projects/b1118/miniscope/analysis/spatial_data/spatial_clustering/cluster_size/'+session+'_082021_clusters.h5', 'w')\n",
    "    for sample in list(active_cells_by_time_whole_session.keys()):\n",
    "        sub_grp = h5_output.create_group(str(sample)) \n",
    "        sub_grp.create_dataset('active cells', data=np.array(active_cells_by_time_whole_session[sample]))\n",
    "    h5_output.create_dataset('average cell distance of active cells', data=avg_distance_coactive_cell_by_sample)\n",
    "    h5_output.close()\n",
    "    print('saved'+session)\n",
    "\n"
   ]
  },
  {
   "cell_type": "code",
   "execution_count": null,
   "metadata": {
    "collapsed": true
   },
   "outputs": [],
   "source": [
    "##analyze cluster sizes by genotype "
   ]
  },
  {
   "cell_type": "code",
   "execution_count": 14,
   "metadata": {},
   "outputs": [
    {
     "name": "stderr",
     "output_type": "stream",
     "text": [
      "/home/jma819/.conda/envs/caiman_with_tables/lib/python3.8/site-packages/jupyter_client/jsonutil.py:64: DeprecationWarning: Interpreting naive datetime as local 2021-08-23 14:56:54.730879. Please add timezone info to timestamps.\n",
      "  new_obj[k] = extract_dates(v)\n"
     ]
    }
   ],
   "source": [
    "def concat_by_mouse(df_unsorted):\n",
    "    sorted_by_mouse = {mouse:[] for mouse in list(set([session[0:7] for session in list(df_unsorted.columns)]))}\n",
    "    for mouse in sorted_by_mouse.keys():\n",
    "        for session in list(df_unsorted.columns):\n",
    "            if session[0:7] == mouse:\n",
    "                sorted_by_mouse[mouse].append(df_unsorted[session])\n",
    "    concat_by_mouse_df = pd.DataFrame({mouse:pd.concat(sorted_by_mouse[mouse], axis=1).mean(axis=1) for mouse in list(sorted_by_mouse.keys())})\n",
    "    return(concat_by_mouse_df)"
   ]
  },
  {
   "cell_type": "code",
   "execution_count": 11,
   "metadata": {},
   "outputs": [
    {
     "name": "stderr",
     "output_type": "stream",
     "text": [
      "/home/jma819/.conda/envs/caiman_with_tables/lib/python3.8/site-packages/ipykernel/ipkernel.py:287: DeprecationWarning: `should_run_async` will not call `transform_cell` automatically in the future. Please pass the result to `transformed_cell` argument and any exception that happen during thetransform in `preprocessing_exc_tuple` in IPython 7.17 and above.\n",
      "  and should_run_async(code)\n"
     ]
    }
   ],
   "source": [
    "##wt files \n",
    "wt_sessions = ['GRIN039_H14_M8_S53','GRIN039_H12_M33_S29', 'GRIN039_H12_M26_S54', 'GRIN013_H13_M33_S54', 'GRIN027_H13_M29_S44', 'GRIN033_H14_M34_S32', 'GRIN033_H13_M42_S33',\n",
    " 'GRIN032_H17_M30_S22', 'GRIN034_H15_M28_S2', 'GRIN026_H16_M35_S34', 'GRIN032_H16_M49_S22', 'GRIN034_H16_M13_S22', 'GRIN034_H19_M0_S18',\n",
    " 'GRIN035_H13_M50_S58', 'GRIN035_H13_M31_S20', 'GRIN035_H14_M40_S34']\n",
    "\n",
    "#ko files\n",
    "ko_sessions = ['GRIN011_H10_M19_S59', 'GRIN041_H12_M54_S49', 'GRIN009_H13_M59_S14', 'GRIN038_H15_M39_S40', 'GRIN038_H11_M57_S0', 'GRIN038_H13_M37_S23',  \n",
    "               'GRIN018_H17_M41_S43', 'GRIN018_H16_M13_S53', 'GRIN012_H17_M46_S35', 'GRIN012_H17_M32_S17', 'GRIN012_H16_M57_S23']"
   ]
  },
  {
   "cell_type": "code",
   "execution_count": 50,
   "metadata": {
    "scrolled": true
   },
   "outputs": [
    {
     "name": "stderr",
     "output_type": "stream",
     "text": [
      "/home/jma819/.conda/envs/caiman_with_tables/lib/python3.8/site-packages/jupyter_client/jsonutil.py:64: DeprecationWarning: Interpreting naive datetime as local 2021-08-23 15:07:49.364868. Please add timezone info to timestamps.\n",
      "  new_obj[k] = extract_dates(v)\n",
      "/home/jma819/.conda/envs/caiman_with_tables/lib/python3.8/site-packages/ipykernel/ipkernel.py:287: DeprecationWarning: `should_run_async` will not call `transform_cell` automatically in the future. Please pass the result to `transformed_cell` argument and any exception that happen during thetransform in `preprocessing_exc_tuple` in IPython 7.17 and above.\n",
      "  and should_run_async(code)\n"
     ]
    }
   ],
   "source": [
    "cluster_files = glob.glob('/projects/b1118/miniscope/analysis/spatial_data/spatial_clustering/cluster_size/*_clusters.h5')"
   ]
  },
  {
   "cell_type": "code",
   "execution_count": 51,
   "metadata": {
    "scrolled": true
   },
   "outputs": [
    {
     "name": "stderr",
     "output_type": "stream",
     "text": [
      "/home/jma819/.conda/envs/caiman_with_tables/lib/python3.8/site-packages/jupyter_client/jsonutil.py:64: DeprecationWarning: Interpreting naive datetime as local 2021-08-23 15:07:53.701614. Please add timezone info to timestamps.\n",
      "  new_obj[k] = extract_dates(v)\n"
     ]
    }
   ],
   "source": [
    "saved_cluster_info = {}\n",
    "for file in cluster_files:\n",
    "    f = h5py.File(file, 'r')\n",
    "    saved_cluster_info[file.split('/')[-1].strip('_clusters.h5')]=f['average cell distance of active cells'][:]\n",
    "    f.close()"
   ]
  },
  {
   "cell_type": "code",
   "execution_count": 61,
   "metadata": {},
   "outputs": [
    {
     "name": "stderr",
     "output_type": "stream",
     "text": [
      "/home/jma819/.conda/envs/caiman_with_tables/lib/python3.8/site-packages/jupyter_client/jsonutil.py:64: DeprecationWarning: Interpreting naive datetime as local 2021-08-23 15:10:11.619068. Please add timezone info to timestamps.\n",
      "  new_obj[k] = extract_dates(v)\n"
     ]
    },
    {
     "data": {
      "text/plain": [
       "['GRIN034_H15_M28_S2_082021',\n",
       " 'GRIN018_H17_M41_S43',\n",
       " 'GRIN035_H13_M50_S58_082021',\n",
       " 'GRIN032_H16_M49_S22_082021',\n",
       " 'GRIN032_H17_M30_S22_082021',\n",
       " 'GRIN033_H14_M34_S32_082021',\n",
       " 'GRIN018_H17_M41_S43_082021',\n",
       " 'GRIN033_H13_M42_S33',\n",
       " 'GRIN035_H13_M31_S20',\n",
       " 'GRIN035_H14_M40_S34']"
      ]
     },
     "execution_count": 61,
     "metadata": {},
     "output_type": "execute_result"
    }
   ],
   "source": [
    "list(saved_cluster_info.keys())[0:10]"
   ]
  },
  {
   "cell_type": "code",
   "execution_count": 70,
   "metadata": {},
   "outputs": [
    {
     "name": "stderr",
     "output_type": "stream",
     "text": [
      "/home/jma819/.conda/envs/caiman_with_tables/lib/python3.8/site-packages/jupyter_client/jsonutil.py:64: DeprecationWarning: Interpreting naive datetime as local 2021-08-23 15:13:03.773228. Please add timezone info to timestamps.\n",
      "  new_obj[k] = extract_dates(v)\n",
      "/home/jma819/.conda/envs/caiman_with_tables/lib/python3.8/site-packages/ipykernel/ipkernel.py:287: DeprecationWarning: `should_run_async` will not call `transform_cell` automatically in the future. Please pass the result to `transformed_cell` argument and any exception that happen during thetransform in `preprocessing_exc_tuple` in IPython 7.17 and above.\n",
      "  and should_run_async(code)\n"
     ]
    }
   ],
   "source": [
    "avgs_clusters_per_session_wt = pd.DataFrame({k:v for k,v in zip([session for session in list(saved_cluster_info.keys())], \n",
    "                                             [np.nanmean(cluster_size) for cluster_size in list(saved_cluster_info.values())]) if\n",
    "                             k in wt_sessions}, index=['avgdistance'])\n",
    "avgs_clusters_per_session_ko = pd.DataFrame({k:v for k,v in zip([session for session in list(saved_cluster_info.keys())], \n",
    "                                             [np.nanmean(cluster_size) for cluster_size in list(saved_cluster_info.values())]) if\n",
    "                             k in ko_sessions}, index=['avgdistance'])\n",
    "by_mouse_wt = concat_by_mouse(avgs_clusters_per_session_wt)\n",
    "by_mouse_ko = concat_by_mouse(avgs_clusters_per_session_ko)"
   ]
  },
  {
   "cell_type": "code",
   "execution_count": 71,
   "metadata": {},
   "outputs": [
    {
     "name": "stderr",
     "output_type": "stream",
     "text": [
      "/home/jma819/.conda/envs/caiman_with_tables/lib/python3.8/site-packages/jupyter_client/jsonutil.py:64: DeprecationWarning: Interpreting naive datetime as local 2021-08-23 15:13:06.592413. Please add timezone info to timestamps.\n",
      "  new_obj[k] = extract_dates(v)\n"
     ]
    },
    {
     "data": {
      "text/html": [
       "<div>\n",
       "<style scoped>\n",
       "    .dataframe tbody tr th:only-of-type {\n",
       "        vertical-align: middle;\n",
       "    }\n",
       "\n",
       "    .dataframe tbody tr th {\n",
       "        vertical-align: top;\n",
       "    }\n",
       "\n",
       "    .dataframe thead th {\n",
       "        text-align: right;\n",
       "    }\n",
       "</style>\n",
       "<table border=\"1\" class=\"dataframe\">\n",
       "  <thead>\n",
       "    <tr style=\"text-align: right;\">\n",
       "      <th></th>\n",
       "      <th>GRIN033_H13_M42_S33</th>\n",
       "      <th>GRIN035_H13_M31_S20</th>\n",
       "      <th>GRIN035_H14_M40_S34</th>\n",
       "      <th>GRIN039_H12_M33_S29</th>\n",
       "      <th>GRIN034_H19_M0_S18</th>\n",
       "      <th>GRIN039_H12_M26_S54</th>\n",
       "      <th>GRIN027_H13_M29_S44</th>\n",
       "      <th>GRIN034_H16_M13_S22</th>\n",
       "      <th>GRIN032_H17_M30_S22</th>\n",
       "      <th>GRIN039_H14_M8_S53</th>\n",
       "      <th>GRIN035_H13_M50_S58</th>\n",
       "      <th>GRIN026_H16_M35_S34</th>\n",
       "      <th>GRIN033_H14_M34_S32</th>\n",
       "      <th>GRIN034_H15_M28_S2</th>\n",
       "      <th>GRIN032_H16_M49_S22</th>\n",
       "      <th>GRIN013_H13_M33_S54</th>\n",
       "    </tr>\n",
       "  </thead>\n",
       "  <tbody>\n",
       "    <tr>\n",
       "      <th>avgdistance</th>\n",
       "      <td>136.466047</td>\n",
       "      <td>151.680949</td>\n",
       "      <td>142.070071</td>\n",
       "      <td>136.604259</td>\n",
       "      <td>198.306641</td>\n",
       "      <td>95.96699</td>\n",
       "      <td>120.196086</td>\n",
       "      <td>210.300136</td>\n",
       "      <td>162.458412</td>\n",
       "      <td>139.826366</td>\n",
       "      <td>135.776629</td>\n",
       "      <td>145.306098</td>\n",
       "      <td>151.810463</td>\n",
       "      <td>170.738538</td>\n",
       "      <td>152.995798</td>\n",
       "      <td>118.476005</td>\n",
       "    </tr>\n",
       "  </tbody>\n",
       "</table>\n",
       "</div>"
      ],
      "text/plain": [
       "             GRIN033_H13_M42_S33  GRIN035_H13_M31_S20  GRIN035_H14_M40_S34  \\\n",
       "avgdistance           136.466047           151.680949           142.070071   \n",
       "\n",
       "             GRIN039_H12_M33_S29  GRIN034_H19_M0_S18  GRIN039_H12_M26_S54  \\\n",
       "avgdistance           136.604259          198.306641             95.96699   \n",
       "\n",
       "             GRIN027_H13_M29_S44  GRIN034_H16_M13_S22  GRIN032_H17_M30_S22  \\\n",
       "avgdistance           120.196086           210.300136           162.458412   \n",
       "\n",
       "             GRIN039_H14_M8_S53  GRIN035_H13_M50_S58  GRIN026_H16_M35_S34  \\\n",
       "avgdistance          139.826366           135.776629           145.306098   \n",
       "\n",
       "             GRIN033_H14_M34_S32  GRIN034_H15_M28_S2  GRIN032_H16_M49_S22  \\\n",
       "avgdistance           151.810463          170.738538           152.995798   \n",
       "\n",
       "             GRIN013_H13_M33_S54  \n",
       "avgdistance           118.476005  "
      ]
     },
     "execution_count": 71,
     "metadata": {},
     "output_type": "execute_result"
    }
   ],
   "source": [
    "avgs_clusters_per_session_wt"
   ]
  },
  {
   "cell_type": "code",
   "execution_count": 73,
   "metadata": {
    "scrolled": true
   },
   "outputs": [
    {
     "name": "stderr",
     "output_type": "stream",
     "text": [
      "/home/jma819/.conda/envs/caiman_with_tables/lib/python3.8/site-packages/jupyter_client/jsonutil.py:64: DeprecationWarning: Interpreting naive datetime as local 2021-08-23 15:13:17.997843. Please add timezone info to timestamps.\n",
      "  new_obj[k] = extract_dates(v)\n",
      "/home/jma819/.conda/envs/caiman_with_tables/lib/python3.8/site-packages/ipykernel/ipkernel.py:287: DeprecationWarning: `should_run_async` will not call `transform_cell` automatically in the future. Please pass the result to `transformed_cell` argument and any exception that happen during thetransform in `preprocessing_exc_tuple` in IPython 7.17 and above.\n",
      "  and should_run_async(code)\n"
     ]
    },
    {
     "data": {
      "image/png": "[encoded data removed]",
      "text/plain": [
       "<Figure size 792x432 with 1 Axes>"
      ]
     },
     "metadata": {
      "needs_background": "light"
     },
     "output_type": "display_data"
    }
   ],
   "source": [
    "plt.rcParams.update({'font.size': 22})\n",
    "plt.scatter(np.zeros(len(by_mouse_wt.loc['avgdistance'])), by_mouse_wt.loc['avgdistance'], s=200, \n",
    "            linewidths=0.5, edgecolors='k')\n",
    "plt.scatter(np.ones(len(by_mouse_ko.loc['avgdistance']))/2, by_mouse_ko.loc['avgdistance'], s=200, \n",
    "            linewidths=0.5, edgecolors='k')\n",
    "plt.ylim((0, 400))\n",
    "plt.xlim((-0.25, 0.75))\n",
    "fig = plt.gcf()\n",
    "fig.set_size_inches(11, 6)\n",
    "ax = plt.gca()\n",
    "ax.set_ylabel('average pairwise distance \\n between coactive cells')\n",
    "ax.axes.get_xaxis().set_visible(False)\n",
    "fig.savefig('/projects/b1118/miniscope/analysis/summaryfigures/avg_pairwise_distance_session.pdf', transparent=True)\n",
    "plt.show()"
   ]
  },
  {
   "cell_type": "code",
   "execution_count": 74,
   "metadata": {
    "scrolled": true
   },
   "outputs": [
    {
     "name": "stderr",
     "output_type": "stream",
     "text": [
      "/home/jma819/.conda/envs/caiman_with_tables/lib/python3.8/site-packages/jupyter_client/jsonutil.py:64: DeprecationWarning: Interpreting naive datetime as local 2021-08-23 15:13:37.845469. Please add timezone info to timestamps.\n",
      "  new_obj[k] = extract_dates(v)\n",
      "/home/jma819/.conda/envs/caiman_with_tables/lib/python3.8/site-packages/ipykernel/ipkernel.py:287: DeprecationWarning: `should_run_async` will not call `transform_cell` automatically in the future. Please pass the result to `transformed_cell` argument and any exception that happen during thetransform in `preprocessing_exc_tuple` in IPython 7.17 and above.\n",
      "  and should_run_async(code)\n"
     ]
    }
   ],
   "source": [
    "##plot cumulative distribution of cluster sizes "
   ]
  },
  {
   "cell_type": "code",
   "execution_count": 75,
   "metadata": {},
   "outputs": [
    {
     "name": "stderr",
     "output_type": "stream",
     "text": [
      "/home/jma819/.conda/envs/caiman_with_tables/lib/python3.8/site-packages/jupyter_client/jsonutil.py:64: DeprecationWarning: Interpreting naive datetime as local 2021-08-23 15:13:39.100545. Please add timezone info to timestamps.\n",
      "  new_obj[k] = extract_dates(v)\n"
     ]
    }
   ],
   "source": [
    "clusters_per_session_wt = {k:v for k,v in zip([session for session in list(saved_cluster_info.keys())], \n",
    "                                             [cluster_size for cluster_size in list(saved_cluster_info.values())]) if\n",
    "                             k in wt_sessions}\n",
    "clusters_per_session_ko = {k:v for k,v in zip([session for session in list(saved_cluster_info.keys())], \n",
    "                                             [cluster_size for cluster_size in list(saved_cluster_info.values())]) if\n",
    "                             k in ko_sessions}"
   ]
  },
  {
   "cell_type": "code",
   "execution_count": 95,
   "metadata": {},
   "outputs": [
    {
     "name": "stderr",
     "output_type": "stream",
     "text": [
      "/home/jma819/.conda/envs/caiman_with_tables/lib/python3.8/site-packages/jupyter_client/jsonutil.py:64: DeprecationWarning: Interpreting naive datetime as local 2021-08-23 15:31:31.880593. Please add timezone info to timestamps.\n",
      "  new_obj[k] = extract_dates(v)\n",
      "<ipython-input-95-cb0368ea41ce>:1: FutureWarning: arrays to stack must be passed as a \"sequence\" type such as list or tuple. Support for non-sequence iterables such as generators is deprecated as of NumPy 1.16 and will raise an error in the future.\n",
      "  len(np.hstack(list(clusters_per_session_wt.values())[i][np.logical_not(np.isnan(list(clusters_per_session_wt.values())[i]))] for i in range(len(clusters_per_session_wt.keys()))))\n"
     ]
    },
    {
     "data": {
      "text/plain": [
       "67320"
      ]
     },
     "execution_count": 95,
     "metadata": {},
     "output_type": "execute_result"
    }
   ],
   "source": [
    "np.hstack(list(clusters_per_session_wt.values())[i][np.logical_not(np.isnan(list(clusters_per_session_wt.values())[i]))] for i in range(len(clusters_per_session_wt.keys())))"
   ]
  },
  {
   "cell_type": "code",
   "execution_count": 96,
   "metadata": {
    "scrolled": true
   },
   "outputs": [
    {
     "name": "stderr",
     "output_type": "stream",
     "text": [
      "/home/jma819/.conda/envs/caiman_with_tables/lib/python3.8/site-packages/jupyter_client/jsonutil.py:64: DeprecationWarning: Interpreting naive datetime as local 2021-08-23 15:32:49.953805. Please add timezone info to timestamps.\n",
      "  new_obj[k] = extract_dates(v)\n",
      "<ipython-input-96-0adc22b3c098>:1: FutureWarning: arrays to stack must be passed as a \"sequence\" type such as list or tuple. Support for non-sequence iterables such as generators is deprecated as of NumPy 1.16 and will raise an error in the future.\n",
      "  all_cluster_sizes_wt = np.hstack(list(clusters_per_session_wt.values())[i][np.logical_not(np.isnan(list(clusters_per_session_wt.values())[i]))] for i in range(len(clusters_per_session_wt.keys())))\n"
     ]
    }
   ],
   "source": [
    "all_cluster_sizes_wt = np.hstack(list(clusters_per_session_wt.values())[i][np.logical_not(np.isnan(list(clusters_per_session_wt.values())[i]))] for i in range(len(clusters_per_session_wt.keys())))\n",
    "#all_cluster_sizes_wt = np.nan_to_num(all_cluster_sizes_wt, nan=0.0)\n",
    "all_cluster_sizes_ko = np.hstack(list(clusters_per_session_ko.values())[i][np.logical_not(np.isnan(list(clusters_per_session_ko.values())[i]))] for i in range(len(clusters_per_session_ko.keys())))\n",
    "#all_cluster_sizes_ko = np.nan_to_num(all_cluster_sizes_ko, nan=0.0)"
   ]
  },
  {
   "cell_type": "code",
   "execution_count": 97,
   "metadata": {},
   "outputs": [
    {
     "name": "stderr",
     "output_type": "stream",
     "text": [
      "/home/jma819/.conda/envs/caiman_with_tables/lib/python3.8/site-packages/jupyter_client/jsonutil.py:64: DeprecationWarning: Interpreting naive datetime as local 2021-08-23 15:32:50.845566. Please add timezone info to timestamps.\n",
      "  new_obj[k] = extract_dates(v)\n"
     ]
    }
   ],
   "source": [
    "all_wt_clusters_cumulative = stats.cumfreq(all_cluster_sizes_wt, numbins=500, defaultreallimits=(0, 300))\n",
    "all_ko_clusters_cumulative = stats.cumfreq(all_cluster_sizes_ko, numbins=500, defaultreallimits=(0, 300))"
   ]
  },
  {
   "cell_type": "code",
   "execution_count": 98,
   "metadata": {
    "scrolled": true
   },
   "outputs": [
    {
     "name": "stderr",
     "output_type": "stream",
     "text": [
      "/home/jma819/.conda/envs/caiman_with_tables/lib/python3.8/site-packages/jupyter_client/jsonutil.py:64: DeprecationWarning: Interpreting naive datetime as local 2021-08-23 15:32:51.789878. Please add timezone info to timestamps.\n",
      "  new_obj[k] = extract_dates(v)\n"
     ]
    }
   ],
   "source": [
    "wt_data = all_wt_clusters_cumulative.cumcount/len(all_cluster_sizes_wt)\n",
    "ko_data = all_ko_clusters_cumulative.cumcount/len(all_cluster_sizes_ko)"
   ]
  },
  {
   "cell_type": "code",
   "execution_count": 99,
   "metadata": {
    "scrolled": true
   },
   "outputs": [
    {
     "name": "stderr",
     "output_type": "stream",
     "text": [
      "/home/jma819/.conda/envs/caiman_with_tables/lib/python3.8/site-packages/jupyter_client/jsonutil.py:64: DeprecationWarning: Interpreting naive datetime as local 2021-08-23 15:32:52.461966. Please add timezone info to timestamps.\n",
      "  new_obj[k] = extract_dates(v)\n"
     ]
    },
    {
     "data": {
      "image/png": "[encoded data removed]",
      "text/plain": [
       "<Figure size 576x432 with 1 Axes>"
      ]
     },
     "metadata": {
      "needs_background": "light"
     },
     "output_type": "display_data"
    }
   ],
   "source": [
    "plt.plot(np.linspace(0, 300, 500), wt_data, linewidth=7.0)\n",
    "plt.plot(np.linspace(0, 300, 500), ko_data, linewidth=7.0)\n",
    "fig = plt.gcf()\n",
    "fig.set_size_inches(8, 6)\n",
    "ax = plt.gca()\n",
    "ax.set_ylabel('cumulative fraction')\n",
    "ax.set_xlabel('cluster size')\n",
    "fig.savefig('/projects/b1118/miniscope/analysis/summaryfigures/cumulative_cluster_size.pdf', transparent=True)\n",
    "plt.show()"
   ]
  },
  {
   "cell_type": "code",
   "execution_count": 80,
   "metadata": {},
   "outputs": [
    {
     "name": "stderr",
     "output_type": "stream",
     "text": [
      "/home/jma819/.conda/envs/caiman_with_tables/lib/python3.8/site-packages/jupyter_client/jsonutil.py:64: DeprecationWarning: Interpreting naive datetime as local 2021-08-23 15:14:38.593817. Please add timezone info to timestamps.\n",
      "  new_obj[k] = extract_dates(v)\n",
      "/home/jma819/.conda/envs/caiman_with_tables/lib/python3.8/site-packages/ipykernel/ipkernel.py:287: DeprecationWarning: `should_run_async` will not call `transform_cell` automatically in the future. Please pass the result to `transformed_cell` argument and any exception that happen during thetransform in `preprocessing_exc_tuple` in IPython 7.17 and above.\n",
      "  and should_run_async(code)\n"
     ]
    }
   ],
   "source": [
    "## just analyze cell activity "
   ]
  },
  {
   "cell_type": "code",
   "execution_count": 103,
   "metadata": {},
   "outputs": [
    {
     "name": "stderr",
     "output_type": "stream",
     "text": [
      "/home/jma819/.conda/envs/caiman_with_tables/lib/python3.8/site-packages/jupyter_client/jsonutil.py:64: DeprecationWarning: Interpreting naive datetime as local 2021-08-23 15:37:46.844151. Please add timezone info to timestamps.\n",
      "  new_obj[k] = extract_dates(v)\n",
      "/home/jma819/.conda/envs/caiman_with_tables/lib/python3.8/site-packages/ipykernel/ipkernel.py:287: DeprecationWarning: `should_run_async` will not call `transform_cell` automatically in the future. Please pass the result to `transformed_cell` argument and any exception that happen during thetransform in `preprocessing_exc_tuple` in IPython 7.17 and above.\n",
      "  and should_run_async(code)\n"
     ]
    },
    {
     "data": {
      "text/html": [
       "<div>\n",
       "<style scoped>\n",
       "    .dataframe tbody tr th:only-of-type {\n",
       "        vertical-align: middle;\n",
       "    }\n",
       "\n",
       "    .dataframe tbody tr th {\n",
       "        vertical-align: top;\n",
       "    }\n",
       "\n",
       "    .dataframe thead tr th {\n",
       "        text-align: left;\n",
       "    }\n",
       "</style>\n",
       "<table border=\"1\" class=\"dataframe\">\n",
       "  <thead>\n",
       "    <tr>\n",
       "      <th></th>\n",
       "      <th colspan=\"10\" halign=\"left\">GRIN038_H11_M57_S0</th>\n",
       "      <th>...</th>\n",
       "      <th colspan=\"10\" halign=\"left\">GRIN035_H13_M31_S20</th>\n",
       "    </tr>\n",
       "    <tr>\n",
       "      <th></th>\n",
       "      <th>1</th>\n",
       "      <th>2</th>\n",
       "      <th>3</th>\n",
       "      <th>4</th>\n",
       "      <th>5</th>\n",
       "      <th>6</th>\n",
       "      <th>7</th>\n",
       "      <th>9</th>\n",
       "      <th>10</th>\n",
       "      <th>11</th>\n",
       "      <th>...</th>\n",
       "      <th>92</th>\n",
       "      <th>94</th>\n",
       "      <th>95</th>\n",
       "      <th>96</th>\n",
       "      <th>97</th>\n",
       "      <th>98</th>\n",
       "      <th>99</th>\n",
       "      <th>100</th>\n",
       "      <th>103</th>\n",
       "      <th>115</th>\n",
       "    </tr>\n",
       "  </thead>\n",
       "  <tbody>\n",
       "    <tr>\n",
       "      <th>0</th>\n",
       "      <td>0.030641</td>\n",
       "      <td>-0.334673</td>\n",
       "      <td>-0.385941</td>\n",
       "      <td>1.378682</td>\n",
       "      <td>0.415051</td>\n",
       "      <td>1.787543</td>\n",
       "      <td>-0.796210</td>\n",
       "      <td>-0.095890</td>\n",
       "      <td>-0.670173</td>\n",
       "      <td>0.250826</td>\n",
       "      <td>...</td>\n",
       "      <td>-0.874208</td>\n",
       "      <td>-0.884617</td>\n",
       "      <td>-0.398490</td>\n",
       "      <td>-0.783585</td>\n",
       "      <td>-0.302336</td>\n",
       "      <td>0.950614</td>\n",
       "      <td>-0.298345</td>\n",
       "      <td>-0.668222</td>\n",
       "      <td>-0.175693</td>\n",
       "      <td>-0.116727</td>\n",
       "    </tr>\n",
       "    <tr>\n",
       "      <th>1</th>\n",
       "      <td>0.006106</td>\n",
       "      <td>0.530134</td>\n",
       "      <td>-0.482426</td>\n",
       "      <td>0.829074</td>\n",
       "      <td>0.406346</td>\n",
       "      <td>1.471651</td>\n",
       "      <td>-0.815548</td>\n",
       "      <td>-0.050909</td>\n",
       "      <td>-0.435981</td>\n",
       "      <td>0.496721</td>\n",
       "      <td>...</td>\n",
       "      <td>-0.874208</td>\n",
       "      <td>-0.836608</td>\n",
       "      <td>-0.409878</td>\n",
       "      <td>-0.787458</td>\n",
       "      <td>-0.335660</td>\n",
       "      <td>1.075597</td>\n",
       "      <td>-0.362013</td>\n",
       "      <td>-0.235355</td>\n",
       "      <td>-0.174399</td>\n",
       "      <td>-0.116727</td>\n",
       "    </tr>\n",
       "    <tr>\n",
       "      <th>2</th>\n",
       "      <td>-0.044704</td>\n",
       "      <td>0.372799</td>\n",
       "      <td>0.219029</td>\n",
       "      <td>0.052913</td>\n",
       "      <td>0.271380</td>\n",
       "      <td>1.123980</td>\n",
       "      <td>0.012096</td>\n",
       "      <td>0.032167</td>\n",
       "      <td>-0.426361</td>\n",
       "      <td>0.434462</td>\n",
       "      <td>...</td>\n",
       "      <td>-0.874208</td>\n",
       "      <td>-0.781434</td>\n",
       "      <td>-0.374840</td>\n",
       "      <td>-0.800570</td>\n",
       "      <td>-0.325061</td>\n",
       "      <td>1.511132</td>\n",
       "      <td>-0.417915</td>\n",
       "      <td>-0.362256</td>\n",
       "      <td>-0.172158</td>\n",
       "      <td>-0.116727</td>\n",
       "    </tr>\n",
       "    <tr>\n",
       "      <th>3</th>\n",
       "      <td>-0.085678</td>\n",
       "      <td>0.109389</td>\n",
       "      <td>0.495987</td>\n",
       "      <td>0.271491</td>\n",
       "      <td>0.102831</td>\n",
       "      <td>1.000351</td>\n",
       "      <td>-0.212388</td>\n",
       "      <td>-0.007789</td>\n",
       "      <td>-0.315667</td>\n",
       "      <td>2.210106</td>\n",
       "      <td>...</td>\n",
       "      <td>-0.874208</td>\n",
       "      <td>-0.823737</td>\n",
       "      <td>-0.329160</td>\n",
       "      <td>-0.810561</td>\n",
       "      <td>-0.332034</td>\n",
       "      <td>1.028973</td>\n",
       "      <td>-0.466998</td>\n",
       "      <td>-0.454513</td>\n",
       "      <td>-0.173499</td>\n",
       "      <td>-0.116727</td>\n",
       "    </tr>\n",
       "    <tr>\n",
       "      <th>4</th>\n",
       "      <td>-0.118721</td>\n",
       "      <td>-0.097926</td>\n",
       "      <td>0.095145</td>\n",
       "      <td>-0.044795</td>\n",
       "      <td>-0.103111</td>\n",
       "      <td>0.610818</td>\n",
       "      <td>-0.501097</td>\n",
       "      <td>-0.070250</td>\n",
       "      <td>-0.350987</td>\n",
       "      <td>2.201244</td>\n",
       "      <td>...</td>\n",
       "      <td>-0.874208</td>\n",
       "      <td>-0.884786</td>\n",
       "      <td>-0.346194</td>\n",
       "      <td>-0.818176</td>\n",
       "      <td>-0.336874</td>\n",
       "      <td>1.261573</td>\n",
       "      <td>-0.510095</td>\n",
       "      <td>-0.521586</td>\n",
       "      <td>-0.170579</td>\n",
       "      <td>-0.116727</td>\n",
       "    </tr>\n",
       "    <tr>\n",
       "      <th>...</th>\n",
       "      <td>...</td>\n",
       "      <td>...</td>\n",
       "      <td>...</td>\n",
       "      <td>...</td>\n",
       "      <td>...</td>\n",
       "      <td>...</td>\n",
       "      <td>...</td>\n",
       "      <td>...</td>\n",
       "      <td>...</td>\n",
       "      <td>...</td>\n",
       "      <td>...</td>\n",
       "      <td>...</td>\n",
       "      <td>...</td>\n",
       "      <td>...</td>\n",
       "      <td>...</td>\n",
       "      <td>...</td>\n",
       "      <td>...</td>\n",
       "      <td>...</td>\n",
       "      <td>...</td>\n",
       "      <td>...</td>\n",
       "      <td>...</td>\n",
       "    </tr>\n",
       "    <tr>\n",
       "      <th>10780</th>\n",
       "      <td>NaN</td>\n",
       "      <td>NaN</td>\n",
       "      <td>NaN</td>\n",
       "      <td>NaN</td>\n",
       "      <td>NaN</td>\n",
       "      <td>NaN</td>\n",
       "      <td>NaN</td>\n",
       "      <td>NaN</td>\n",
       "      <td>NaN</td>\n",
       "      <td>NaN</td>\n",
       "      <td>...</td>\n",
       "      <td>NaN</td>\n",
       "      <td>NaN</td>\n",
       "      <td>NaN</td>\n",
       "      <td>NaN</td>\n",
       "      <td>NaN</td>\n",
       "      <td>NaN</td>\n",
       "      <td>NaN</td>\n",
       "      <td>NaN</td>\n",
       "      <td>NaN</td>\n",
       "      <td>NaN</td>\n",
       "    </tr>\n",
       "    <tr>\n",
       "      <th>10781</th>\n",
       "      <td>NaN</td>\n",
       "      <td>NaN</td>\n",
       "      <td>NaN</td>\n",
       "      <td>NaN</td>\n",
       "      <td>NaN</td>\n",
       "      <td>NaN</td>\n",
       "      <td>NaN</td>\n",
       "      <td>NaN</td>\n",
       "      <td>NaN</td>\n",
       "      <td>NaN</td>\n",
       "      <td>...</td>\n",
       "      <td>NaN</td>\n",
       "      <td>NaN</td>\n",
       "      <td>NaN</td>\n",
       "      <td>NaN</td>\n",
       "      <td>NaN</td>\n",
       "      <td>NaN</td>\n",
       "      <td>NaN</td>\n",
       "      <td>NaN</td>\n",
       "      <td>NaN</td>\n",
       "      <td>NaN</td>\n",
       "    </tr>\n",
       "    <tr>\n",
       "      <th>10782</th>\n",
       "      <td>NaN</td>\n",
       "      <td>NaN</td>\n",
       "      <td>NaN</td>\n",
       "      <td>NaN</td>\n",
       "      <td>NaN</td>\n",
       "      <td>NaN</td>\n",
       "      <td>NaN</td>\n",
       "      <td>NaN</td>\n",
       "      <td>NaN</td>\n",
       "      <td>NaN</td>\n",
       "      <td>...</td>\n",
       "      <td>NaN</td>\n",
       "      <td>NaN</td>\n",
       "      <td>NaN</td>\n",
       "      <td>NaN</td>\n",
       "      <td>NaN</td>\n",
       "      <td>NaN</td>\n",
       "      <td>NaN</td>\n",
       "      <td>NaN</td>\n",
       "      <td>NaN</td>\n",
       "      <td>NaN</td>\n",
       "    </tr>\n",
       "    <tr>\n",
       "      <th>10783</th>\n",
       "      <td>NaN</td>\n",
       "      <td>NaN</td>\n",
       "      <td>NaN</td>\n",
       "      <td>NaN</td>\n",
       "      <td>NaN</td>\n",
       "      <td>NaN</td>\n",
       "      <td>NaN</td>\n",
       "      <td>NaN</td>\n",
       "      <td>NaN</td>\n",
       "      <td>NaN</td>\n",
       "      <td>...</td>\n",
       "      <td>NaN</td>\n",
       "      <td>NaN</td>\n",
       "      <td>NaN</td>\n",
       "      <td>NaN</td>\n",
       "      <td>NaN</td>\n",
       "      <td>NaN</td>\n",
       "      <td>NaN</td>\n",
       "      <td>NaN</td>\n",
       "      <td>NaN</td>\n",
       "      <td>NaN</td>\n",
       "    </tr>\n",
       "    <tr>\n",
       "      <th>10784</th>\n",
       "      <td>NaN</td>\n",
       "      <td>NaN</td>\n",
       "      <td>NaN</td>\n",
       "      <td>NaN</td>\n",
       "      <td>NaN</td>\n",
       "      <td>NaN</td>\n",
       "      <td>NaN</td>\n",
       "      <td>NaN</td>\n",
       "      <td>NaN</td>\n",
       "      <td>NaN</td>\n",
       "      <td>...</td>\n",
       "      <td>NaN</td>\n",
       "      <td>NaN</td>\n",
       "      <td>NaN</td>\n",
       "      <td>NaN</td>\n",
       "      <td>NaN</td>\n",
       "      <td>NaN</td>\n",
       "      <td>NaN</td>\n",
       "      <td>NaN</td>\n",
       "      <td>NaN</td>\n",
       "      <td>NaN</td>\n",
       "    </tr>\n",
       "  </tbody>\n",
       "</table>\n",
       "<p>10785 rows × 2084 columns</p>\n",
       "</div>"
      ],
      "text/plain": [
       "      GRIN038_H11_M57_S0                                                    \\\n",
       "                     1         2         3         4         5         6     \n",
       "0               0.030641 -0.334673 -0.385941  1.378682  0.415051  1.787543   \n",
       "1               0.006106  0.530134 -0.482426  0.829074  0.406346  1.471651   \n",
       "2              -0.044704  0.372799  0.219029  0.052913  0.271380  1.123980   \n",
       "3              -0.085678  0.109389  0.495987  0.271491  0.102831  1.000351   \n",
       "4              -0.118721 -0.097926  0.095145 -0.044795 -0.103111  0.610818   \n",
       "...                  ...       ...       ...       ...       ...       ...   \n",
       "10780                NaN       NaN       NaN       NaN       NaN       NaN   \n",
       "10781                NaN       NaN       NaN       NaN       NaN       NaN   \n",
       "10782                NaN       NaN       NaN       NaN       NaN       NaN   \n",
       "10783                NaN       NaN       NaN       NaN       NaN       NaN   \n",
       "10784                NaN       NaN       NaN       NaN       NaN       NaN   \n",
       "\n",
       "                                               ... GRIN035_H13_M31_S20  \\\n",
       "            7         9         10        11   ...                 92    \n",
       "0     -0.796210 -0.095890 -0.670173  0.250826  ...           -0.874208   \n",
       "1     -0.815548 -0.050909 -0.435981  0.496721  ...           -0.874208   \n",
       "2      0.012096  0.032167 -0.426361  0.434462  ...           -0.874208   \n",
       "3     -0.212388 -0.007789 -0.315667  2.210106  ...           -0.874208   \n",
       "4     -0.501097 -0.070250 -0.350987  2.201244  ...           -0.874208   \n",
       "...         ...       ...       ...       ...  ...                 ...   \n",
       "10780       NaN       NaN       NaN       NaN  ...                 NaN   \n",
       "10781       NaN       NaN       NaN       NaN  ...                 NaN   \n",
       "10782       NaN       NaN       NaN       NaN  ...                 NaN   \n",
       "10783       NaN       NaN       NaN       NaN  ...                 NaN   \n",
       "10784       NaN       NaN       NaN       NaN  ...                 NaN   \n",
       "\n",
       "                                                                             \\\n",
       "            94        95        96        97        98        99        100   \n",
       "0     -0.884617 -0.398490 -0.783585 -0.302336  0.950614 -0.298345 -0.668222   \n",
       "1     -0.836608 -0.409878 -0.787458 -0.335660  1.075597 -0.362013 -0.235355   \n",
       "2     -0.781434 -0.374840 -0.800570 -0.325061  1.511132 -0.417915 -0.362256   \n",
       "3     -0.823737 -0.329160 -0.810561 -0.332034  1.028973 -0.466998 -0.454513   \n",
       "4     -0.884786 -0.346194 -0.818176 -0.336874  1.261573 -0.510095 -0.521586   \n",
       "...         ...       ...       ...       ...       ...       ...       ...   \n",
       "10780       NaN       NaN       NaN       NaN       NaN       NaN       NaN   \n",
       "10781       NaN       NaN       NaN       NaN       NaN       NaN       NaN   \n",
       "10782       NaN       NaN       NaN       NaN       NaN       NaN       NaN   \n",
       "10783       NaN       NaN       NaN       NaN       NaN       NaN       NaN   \n",
       "10784       NaN       NaN       NaN       NaN       NaN       NaN       NaN   \n",
       "\n",
       "                           \n",
       "            103       115  \n",
       "0     -0.175693 -0.116727  \n",
       "1     -0.174399 -0.116727  \n",
       "2     -0.172158 -0.116727  \n",
       "3     -0.173499 -0.116727  \n",
       "4     -0.170579 -0.116727  \n",
       "...         ...       ...  \n",
       "10780       NaN       NaN  \n",
       "10781       NaN       NaN  \n",
       "10782       NaN       NaN  \n",
       "10783       NaN       NaN  \n",
       "10784       NaN       NaN  \n",
       "\n",
       "[10785 rows x 2084 columns]"
      ]
     },
     "execution_count": 103,
     "metadata": {},
     "output_type": "execute_result"
    }
   ],
   "source": [
    "C_norm_df_reindexed"
   ]
  },
  {
   "cell_type": "code",
   "execution_count": 111,
   "metadata": {},
   "outputs": [
    {
     "name": "stderr",
     "output_type": "stream",
     "text": [
      "/home/jma819/.conda/envs/caiman_with_tables/lib/python3.8/site-packages/jupyter_client/jsonutil.py:64: DeprecationWarning: Interpreting naive datetime as local 2021-08-23 16:01:38.587056. Please add timezone info to timestamps.\n",
      "  new_obj[k] = extract_dates(v)\n",
      "100%|██████████| 27/27 [02:16<00:00,  5.05s/it]\n"
     ]
    }
   ],
   "source": [
    "# bin/binarize cell activity \n",
    "ISIs_by_session = {}\n",
    "for session in tqdm(list(C_norm_df_reindexed.columns.levels[0])):\n",
    "    samples_to_forward_smooth = 1\n",
    "    z_score_threshold = 2.5\n",
    "    binned_session = C_norm_df_reindexed[session].apply(utils_jjm.binning_function_uncrop, \n",
    "                                                                  axis=0, args=(samples_to_forward_smooth, z_score_threshold))\n",
    "    ISIs_by_cell = utils_jjm.get_ISIs_binned_data(np.transpose(binned_session.values), 5, len(np.transpose(binned_session.values)), 0.5)\n",
    "    ISIs_in_session = np.hstack([np.array(ISI_list) for ISI_list in ISIs_by_cell[0]])\n",
    "    ISIs_by_session[session] = ISIs_in_session"
   ]
  },
  {
   "cell_type": "code",
   "execution_count": 112,
   "metadata": {
    "scrolled": true
   },
   "outputs": [
    {
     "name": "stderr",
     "output_type": "stream",
     "text": [
      "/home/jma819/.conda/envs/caiman_with_tables/lib/python3.8/site-packages/jupyter_client/jsonutil.py:64: DeprecationWarning: Interpreting naive datetime as local 2021-08-23 16:07:11.371114. Please add timezone info to timestamps.\n",
      "  new_obj[k] = extract_dates(v)\n"
     ]
    }
   ],
   "source": [
    "ISIs_by_session_wt = {k:v for k,v in zip(ISIs_by_session.keys(),ISIs_by_session.values()) if k in wt_sessions}\n",
    "ISIs_by_session_ko = {k:v for k,v in zip(ISIs_by_session.keys(),ISIs_by_session.values()) if k in ko_sessions}"
   ]
  },
  {
   "cell_type": "code",
   "execution_count": 113,
   "metadata": {},
   "outputs": [
    {
     "name": "stderr",
     "output_type": "stream",
     "text": [
      "/home/jma819/.conda/envs/caiman_with_tables/lib/python3.8/site-packages/jupyter_client/jsonutil.py:64: DeprecationWarning: Interpreting naive datetime as local 2021-08-23 16:07:12.494060. Please add timezone info to timestamps.\n",
      "  new_obj[k] = extract_dates(v)\n"
     ]
    }
   ],
   "source": [
    "all_wt_ISIs = np.hstack([ISIs for ISIs in ISIs_by_session_wt.values()])\n",
    "all_ko_ISIs = np.hstack([ISIs for ISIs in ISIs_by_session_ko.values()])"
   ]
  },
  {
   "cell_type": "code",
   "execution_count": 114,
   "metadata": {},
   "outputs": [
    {
     "name": "stderr",
     "output_type": "stream",
     "text": [
      "/home/jma819/.conda/envs/caiman_with_tables/lib/python3.8/site-packages/jupyter_client/jsonutil.py:64: DeprecationWarning: Interpreting naive datetime as local 2021-08-23 16:07:13.187050. Please add timezone info to timestamps.\n",
      "  new_obj[k] = extract_dates(v)\n"
     ]
    }
   ],
   "source": [
    "all_wt_ISIs_cumulative = stats.cumfreq(all_wt_ISIs, numbins=1000, defaultreallimits=(0, 1800))\n",
    "wt_data = all_wt_ISIs_cumulative.cumcount/len(all_wt_ISIs)\n",
    "all_ko_ISIs_cumulative = stats.cumfreq(all_ko_ISIs, numbins=1000, defaultreallimits=(0, 1800))\n",
    "ko_data = all_ko_ISIs_cumulative.cumcount/len(all_ko_ISIs)"
   ]
  },
  {
   "cell_type": "code",
   "execution_count": 115,
   "metadata": {},
   "outputs": [
    {
     "name": "stderr",
     "output_type": "stream",
     "text": [
      "/home/jma819/.conda/envs/caiman_with_tables/lib/python3.8/site-packages/jupyter_client/jsonutil.py:64: DeprecationWarning: Interpreting naive datetime as local 2021-08-23 16:07:13.952798. Please add timezone info to timestamps.\n",
      "  new_obj[k] = extract_dates(v)\n"
     ]
    },
    {
     "data": {
      "image/png": "[encoded data removed]",
      "text/plain": [
       "<Figure size 576x432 with 1 Axes>"
      ]
     },
     "metadata": {
      "needs_background": "light"
     },
     "output_type": "display_data"
    }
   ],
   "source": [
    "plt.rcParams.update({'font.size': 22})\n",
    "plt.plot(np.linspace(0, 1800, 1000), wt_data, linewidth=7.0)\n",
    "plt.plot(np.linspace(0, 1800, 1000), ko_data, linewidth=7.0)\n",
    "fig = plt.gcf()\n",
    "fig.set_size_inches(8, 6)\n",
    "ax = plt.gca()\n",
    "ax.set_ylabel('cumulative fraction')\n",
    "ax.set_xlabel('inter event interval (sec)')\n",
    "fig.savefig('/projects/b1118/miniscope/analysis/summaryfigures/event_ISIs.pdf', transparent=True)\n",
    "plt.show()"
   ]
  },
  {
   "cell_type": "code",
   "execution_count": null,
   "metadata": {
    "collapsed": true
   },
   "outputs": [],
   "source": []
  },
  {
   "cell_type": "code",
   "execution_count": null,
   "metadata": {
    "collapsed": true
   },
   "outputs": [],
   "source": []
  },
  {
   "cell_type": "code",
   "execution_count": null,
   "metadata": {
    "collapsed": true
   },
   "outputs": [],
   "source": [
    "\n",
    "\n",
    "\n",
    "\n",
    "\n",
    "\n",
    "\n",
    "\n",
    "\n",
    "\n",
    "\n",
    "\n",
    "\n",
    "\n",
    "\n",
    "\n",
    "\n",
    "\n",
    "\n",
    "\n",
    "\n",
    "\n",
    "\n",
    "\n",
    "\n",
    "\n",
    "\n",
    "\n",
    "\n",
    "\n",
    "\n",
    "\n",
    "\n"
   ]
  }
 ],
 "metadata": {
  "kernelspec": {
   "display_name": "caiman_with_tables",
   "language": "python",
   "name": "caiman_with_tables"
  },
  "language_info": {
   "codemirror_mode": {
    "name": "ipython",
    "version": 3
   },
   "file_extension": ".py",
   "mimetype": "text/x-python",
   "name": "python",
   "nbconvert_exporter": "python",
   "pygments_lexer": "ipython3",
   "version": "3.8.8"
  }
 },
 "nbformat": 4,
 "nbformat_minor": 2
}
