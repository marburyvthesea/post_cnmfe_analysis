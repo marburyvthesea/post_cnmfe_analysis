{
 "cells": [
  {
   "cell_type": "code",
   "execution_count": 2,
   "metadata": {
    "collapsed": false
   },
   "outputs": [
    {
     "name": "stderr",
     "output_type": "stream",
     "text": [
      "/home/jma819/.conda/envs/caiman_with_tables/lib/python3.8/site-packages/jupyter_client/jsonutil.py:64: DeprecationWarning: Interpreting naive datetime as local 2021-08-23 14:52:14.039740. Please add timezone info to timestamps.\n",
      "  new_obj[k] = extract_dates(v)\n",
      "/home/jma819/.conda/envs/caiman_with_tables/lib/python3.8/site-packages/ipykernel/ipkernel.py:287: DeprecationWarning: `should_run_async` will not call `transform_cell` automatically in the future. Please pass the result to `transformed_cell` argument and any exception that happen during thetransform in `preprocessing_exc_tuple` in IPython 7.17 and above.\n",
      "  and should_run_async(code)\n"
     ]
    },
    {
     "data": {
      "text/html": [
       "<style>.container { width:90% !important; }</style>"
      ],
      "text/plain": [
       "<IPython.core.display.HTML object>"
      ]
     },
     "metadata": {},
     "output_type": "display_data"
    }
   ],
   "source": [
    "from IPython.core.display import display, HTML\n",
    "display(HTML(\"<style>.container { width:90% !important; }</style>\"))\n",
    "import numpy as np\n",
    "import pandas as pd\n",
    "import h5py\n",
    "from tqdm import tqdm\n",
    "import scipy.io as sio\n",
    "from scipy import stats\n",
    "from importlib import reload\n",
    "from matplotlib import pyplot as plt\n",
    "import sys\n",
    "sys.path.append('/home/jma819/post_cmfe_analysis')\n",
    "#sys.path.append('/Users/johnmarshall/Documents/Analysis/PythonAnalysisScripts/post_cmfe_analysis')\n",
    "import python_utils_jjm as utils_jjm\n",
    "import dlc_utils\n",
    "from sklearn.preprocessing import MinMaxScaler\n",
    "import scipy.spatial.distance as dist\n",
    "import itertools\n",
    "import math\n",
    "import warnings\n",
    "%matplotlib inline\n",
    "from matplotlib import pyplot as plt\n",
    "from matplotlib import animation, rc\n",
    "from IPython.display import HTML\n",
    "import av\n",
    "from multiprocessing import Pool\n",
    "import functools\n",
    "import glob\n",
    "plt.rcParams['animation.ffmpeg_path']='/home/jma819/.conda/envs/caiman/bin/ffmpeg'\n",
    "warnings.filterwarnings(action='once')"
   ]
  },
  {
   "cell_type": "code",
   "execution_count": 3,
   "metadata": {
    "collapsed": false,
    "scrolled": false
   },
   "outputs": [
    {
     "name": "stderr",
     "output_type": "stream",
     "text": [
      "/home/jma819/.conda/envs/caiman_with_tables/lib/python3.8/site-packages/jupyter_client/jsonutil.py:64: DeprecationWarning: Interpreting naive datetime as local 2021-08-23 14:52:21.515168. Please add timezone info to timestamps.\n",
      "  new_obj[k] = extract_dates(v)\n",
      "/home/jma819/.conda/envs/caiman_with_tables/lib/python3.8/site-packages/ipykernel/ipkernel.py:287: DeprecationWarning: `should_run_async` will not call `transform_cell` automatically in the future. Please pass the result to `transformed_cell` argument and any exception that happen during thetransform in `preprocessing_exc_tuple` in IPython 7.17 and above.\n",
      "  and should_run_async(code)\n"
     ]
    },
    {
     "data": {
      "text/plain": [
       "<module 'dlc_utils' from '/home/jma819/post_cmfe_analysis/dlc_utils.py'>"
      ]
     },
     "execution_count": 3,
     "metadata": {},
     "output_type": "execute_result"
    }
   ],
   "source": [
    "reload(utils_jjm)\n",
    "reload(dlc_utils)"
   ]
  },
  {
   "cell_type": "code",
   "execution_count": 4,
   "metadata": {
    "collapsed": false,
    "scrolled": false
   },
   "outputs": [
    {
     "name": "stderr",
     "output_type": "stream",
     "text": [
      "/home/jma819/.conda/envs/caiman_with_tables/lib/python3.8/site-packages/jupyter_client/jsonutil.py:64: DeprecationWarning: Interpreting naive datetime as local 2021-08-23 14:52:26.025361. Please add timezone info to timestamps.\n",
      "  new_obj[k] = extract_dates(v)\n"
     ]
    }
   ],
   "source": [
    "#cnmfe_file_key = pd.read_csv('/Volumes/My_Passport/dlc_analysis/behavcamvideos/open_field_miniscope/cnmfe_key.csv')\n",
    "cnmfe_file_key = pd.read_csv('/projects/p30771/dlc_analysis/openfield_dlc_output/cnmfe_key.csv')"
   ]
  },
  {
   "cell_type": "code",
   "execution_count": 5,
   "metadata": {
    "collapsed": false
   },
   "outputs": [
    {
     "name": "stderr",
     "output_type": "stream",
     "text": [
      "/home/jma819/.conda/envs/caiman_with_tables/lib/python3.8/site-packages/jupyter_client/jsonutil.py:64: DeprecationWarning: Interpreting naive datetime as local 2021-08-23 14:52:27.952770. Please add timezone info to timestamps.\n",
      "  new_obj[k] = extract_dates(v)\n"
     ]
    }
   ],
   "source": [
    "#cnmfe_base_dir = '/Volumes/My_Passport/cnmfe_analysis_files/batch_output_files/'\n",
    "cnmfe_base_dir = '/projects/p30771/MATLAB/CNMF_E_jjm/quest_MATLAB_cnmfe/batch_output_files/'\n",
    "wt_CNMFE_files = ['12-Mar_14_05_31_out.mat' ,'10-Mar_21_30_19_out.mat', '29-Jan_12_35_06_out.mat','30-Mar_20_39_05_out.mat', \n",
    "                  '30-Mar_20_45_16_out.mat', \n",
    "                  '22-Mar_22_52_02_out.mat', '28-Feb_16_10_05_out.mat', '27-Feb_17_32_15_out.mat', '25-Mar_13_27_27_out.mat',\n",
    "                  '27-Feb_17_33_59_out.mat', '28-Feb_16_21_21_out.mat', '25-Mar_14_22_02_out.mat', '25-Mar_14_22_44_out.mat', \n",
    "                  '26-Mar_18_33_55_out.mat', '27-Mar_00_26_12_out.mat', '27-Mar_00_48_46_out.mat', '10-Mar_21_30_19_out.mat']\n",
    "\n",
    "ko_CNMFE_files = ['11-Mar_18_08_19_out.mat', '11-Mar_16_27_44_out.mat','31-Jan_01_43_49_out.mat',\n",
    "                  '31-Jan_00_12_24_out.mat','31-Mar_13_28_15_out.mat',  '29-Mar_21_42_20_out.mat', '13-Apr_17_57_40_out.mat', \n",
    "                  '29-Mar_14_27_55_out.mat', '13-Apr_16_01_20_out.mat',\n",
    "                  '13-Apr_16_11_27_out.mat', '29-Mar_13_39_44_out.mat']"
   ]
  },
  {
   "cell_type": "code",
   "execution_count": 6,
   "metadata": {
    "collapsed": false
   },
   "outputs": [
    {
     "name": "stderr",
     "output_type": "stream",
     "text": [
      "/home/jma819/.conda/envs/caiman_with_tables/lib/python3.8/site-packages/jupyter_client/jsonutil.py:64: DeprecationWarning: Interpreting naive datetime as local 2021-08-23 14:52:32.976705. Please add timezone info to timestamps.\n",
      "  new_obj[k] = extract_dates(v)\n"
     ]
    }
   ],
   "source": [
    "#create dictionary to store tracking info\n",
    "#do this for all wt and ko sessions, parse out later in individual analysis functions\n",
    "tracking_files = ['/projects/b1118/behaviorvideos/'+utils_jjm.find_behavior_tracking(fname, cnmfe_file_key, 'unsmoothed_02212021') \n",
    "                  for fname in wt_CNMFE_files+ko_CNMFE_files] \n",
    "\n",
    "cnmfe_dict_key = {'/projects/b1118/behaviorvideos/'+utils_jjm.find_behavior_tracking(fname, cnmfe_file_key, 'unsmoothed_02212021'):\n",
    "                  str(cnmfe_base_dir+fname) for fname in wt_CNMFE_files for fname in wt_CNMFE_files+ko_CNMFE_files}"
   ]
  },
  {
   "cell_type": "code",
   "execution_count": 7,
   "metadata": {
    "collapsed": false
   },
   "outputs": [
    {
     "name": "stderr",
     "output_type": "stream",
     "text": [
      "/home/jma819/.conda/envs/caiman_with_tables/lib/python3.8/site-packages/jupyter_client/jsonutil.py:64: DeprecationWarning: Interpreting naive datetime as local 2021-08-23 14:52:33.793598. Please add timezone info to timestamps.\n",
      "  new_obj[k] = extract_dates(v)\n"
     ]
    },
    {
     "data": {
      "text/plain": [
       "{'/projects/b1118/behaviorvideos/GRIN039_H12_M33_S29/GRIN039_H12_M33_S29_dlc_tracking_foranalysis_unsmoothed_02212021.csv': '/projects/p30771/MATLAB/CNMF_E_jjm/quest_MATLAB_cnmfe/batch_output_files/12-Mar_14_05_31_out.mat',\n",
       " '/projects/b1118/behaviorvideos/GRIN039_H14_M8_S53/GRIN039_H14_M8_S53_dlc_tracking_foranalysis_unsmoothed_02212021.csv': '/projects/p30771/MATLAB/CNMF_E_jjm/quest_MATLAB_cnmfe/batch_output_files/10-Mar_21_30_19_out.mat',\n",
       " '/projects/b1118/behaviorvideos/GRIN039_H12_M26_S54/GRIN039_H12_M26_S54_dlc_tracking_foranalysis_unsmoothed_02212021.csv': '/projects/p30771/MATLAB/CNMF_E_jjm/quest_MATLAB_cnmfe/batch_output_files/29-Jan_12_35_06_out.mat',\n",
       " '/projects/b1118/behaviorvideos/GRIN013_H13_M33_S54/GRIN013_H13_M33_S54_dlc_tracking_foranalysis_unsmoothed_02212021.csv': '/projects/p30771/MATLAB/CNMF_E_jjm/quest_MATLAB_cnmfe/batch_output_files/30-Mar_20_39_05_out.mat',\n",
       " '/projects/b1118/behaviorvideos/GRIN027_H13_M29_S44/GRIN027_H13_M29_S44_dlc_tracking_foranalysis_unsmoothed_02212021.csv': '/projects/p30771/MATLAB/CNMF_E_jjm/quest_MATLAB_cnmfe/batch_output_files/30-Mar_20_45_16_out.mat',\n",
       " '/projects/b1118/behaviorvideos/GRIN033_H14_M34_S32/GRIN033_H14_M34_S32_dlc_tracking_foranalysis_unsmoothed_02212021.csv': '/projects/p30771/MATLAB/CNMF_E_jjm/quest_MATLAB_cnmfe/batch_output_files/22-Mar_22_52_02_out.mat',\n",
       " '/projects/b1118/behaviorvideos/GRIN033_H13_M42_S33/GRIN033_H13_M42_S33_dlc_tracking_foranalysis_unsmoothed_02212021.csv': '/projects/p30771/MATLAB/CNMF_E_jjm/quest_MATLAB_cnmfe/batch_output_files/28-Feb_16_10_05_out.mat',\n",
       " '/projects/b1118/behaviorvideos/GRIN032_H17_M30_S22/GRIN032_H17_M30_S22_dlc_tracking_foranalysis_unsmoothed_02212021.csv': '/projects/p30771/MATLAB/CNMF_E_jjm/quest_MATLAB_cnmfe/batch_output_files/27-Feb_17_32_15_out.mat',\n",
       " '/projects/b1118/behaviorvideos/GRIN034_H15_M28_S2/GRIN034_H15_M28_S2_dlc_tracking_foranalysis_unsmoothed_02212021.csv': '/projects/p30771/MATLAB/CNMF_E_jjm/quest_MATLAB_cnmfe/batch_output_files/25-Mar_13_27_27_out.mat',\n",
       " '/projects/b1118/behaviorvideos/GRIN026_H16_M35_S34/GRIN026_H16_M35_S34_dlc_tracking_foranalysis_unsmoothed_02212021.csv': '/projects/p30771/MATLAB/CNMF_E_jjm/quest_MATLAB_cnmfe/batch_output_files/27-Feb_17_33_59_out.mat',\n",
       " '/projects/b1118/behaviorvideos/GRIN032_H16_M49_S22/GRIN032_H16_M49_S22_dlc_tracking_foranalysis_unsmoothed_02212021.csv': '/projects/p30771/MATLAB/CNMF_E_jjm/quest_MATLAB_cnmfe/batch_output_files/28-Feb_16_21_21_out.mat',\n",
       " '/projects/b1118/behaviorvideos/GRIN034_H16_M13_S22/GRIN034_H16_M13_S22_dlc_tracking_foranalysis_unsmoothed_02212021.csv': '/projects/p30771/MATLAB/CNMF_E_jjm/quest_MATLAB_cnmfe/batch_output_files/25-Mar_14_22_02_out.mat',\n",
       " '/projects/b1118/behaviorvideos/GRIN034_H19_M0_S18/GRIN034_H19_M0_S18_dlc_tracking_foranalysis_unsmoothed_02212021.csv': '/projects/p30771/MATLAB/CNMF_E_jjm/quest_MATLAB_cnmfe/batch_output_files/25-Mar_14_22_44_out.mat',\n",
       " '/projects/b1118/behaviorvideos/GRIN035_H13_M50_S58/GRIN035_H13_M50_S58_dlc_tracking_foranalysis_unsmoothed_02212021.csv': '/projects/p30771/MATLAB/CNMF_E_jjm/quest_MATLAB_cnmfe/batch_output_files/26-Mar_18_33_55_out.mat',\n",
       " '/projects/b1118/behaviorvideos/GRIN035_H13_M31_S20/GRIN035_H13_M31_S20_dlc_tracking_foranalysis_unsmoothed_02212021.csv': '/projects/p30771/MATLAB/CNMF_E_jjm/quest_MATLAB_cnmfe/batch_output_files/27-Mar_00_26_12_out.mat',\n",
       " '/projects/b1118/behaviorvideos/GRIN035_H14_M40_S34/GRIN035_H14_M40_S34_dlc_tracking_foranalysis_unsmoothed_02212021.csv': '/projects/p30771/MATLAB/CNMF_E_jjm/quest_MATLAB_cnmfe/batch_output_files/27-Mar_00_48_46_out.mat',\n",
       " '/projects/b1118/behaviorvideos/GRIN038_H15_M39_S40/GRIN038_H15_M39_S40_dlc_tracking_foranalysis_unsmoothed_02212021.csv': '/projects/p30771/MATLAB/CNMF_E_jjm/quest_MATLAB_cnmfe/batch_output_files/11-Mar_18_08_19_out.mat',\n",
       " '/projects/b1118/behaviorvideos/GRIN038_H11_M57_S0/GRIN038_H11_M57_S0_dlc_tracking_foranalysis_unsmoothed_02212021.csv': '/projects/p30771/MATLAB/CNMF_E_jjm/quest_MATLAB_cnmfe/batch_output_files/11-Mar_16_27_44_out.mat',\n",
       " '/projects/b1118/behaviorvideos/GRIN038_H13_M37_S23/GRIN038_H13_M37_S23_dlc_tracking_foranalysis_unsmoothed_02212021.csv': '/projects/p30771/MATLAB/CNMF_E_jjm/quest_MATLAB_cnmfe/batch_output_files/31-Jan_01_43_49_out.mat',\n",
       " '/projects/b1118/behaviorvideos/GRIN041_H12_M54_S49/GRIN041_H12_M54_S49_dlc_tracking_foranalysis_unsmoothed_02212021.csv': '/projects/p30771/MATLAB/CNMF_E_jjm/quest_MATLAB_cnmfe/batch_output_files/31-Jan_00_12_24_out.mat',\n",
       " '/projects/b1118/behaviorvideos/GRIN009_H13_M59_S14/GRIN009_H13_M59_S14_dlc_tracking_foranalysis_unsmoothed_02212021.csv': '/projects/p30771/MATLAB/CNMF_E_jjm/quest_MATLAB_cnmfe/batch_output_files/31-Mar_13_28_15_out.mat',\n",
       " '/projects/b1118/behaviorvideos/GRIN018_H17_M41_S43/GRIN018_H17_M41_S43_dlc_tracking_foranalysis_unsmoothed_02212021.csv': '/projects/p30771/MATLAB/CNMF_E_jjm/quest_MATLAB_cnmfe/batch_output_files/29-Mar_21_42_20_out.mat',\n",
       " '/projects/b1118/behaviorvideos/GRIN018_H16_M13_S53/GRIN018_H16_M13_S53_dlc_tracking_foranalysis_unsmoothed_02212021.csv': '/projects/p30771/MATLAB/CNMF_E_jjm/quest_MATLAB_cnmfe/batch_output_files/13-Apr_17_57_40_out.mat',\n",
       " '/projects/b1118/behaviorvideos/GRIN011_H10_M19_S59/GRIN011_H10_M19_S59_dlc_tracking_foranalysis_unsmoothed_02212021.csv': '/projects/p30771/MATLAB/CNMF_E_jjm/quest_MATLAB_cnmfe/batch_output_files/29-Mar_14_27_55_out.mat',\n",
       " '/projects/b1118/behaviorvideos/GRIN012_H17_M46_S35/GRIN012_H17_M46_S35_dlc_tracking_foranalysis_unsmoothed_02212021.csv': '/projects/p30771/MATLAB/CNMF_E_jjm/quest_MATLAB_cnmfe/batch_output_files/13-Apr_16_01_20_out.mat',\n",
       " '/projects/b1118/behaviorvideos/GRIN012_H17_M32_S17/GRIN012_H17_M32_S17_dlc_tracking_foranalysis_unsmoothed_02212021.csv': '/projects/p30771/MATLAB/CNMF_E_jjm/quest_MATLAB_cnmfe/batch_output_files/13-Apr_16_11_27_out.mat',\n",
       " '/projects/b1118/behaviorvideos/GRIN012_H16_M57_S23/GRIN012_H16_M57_S23_dlc_tracking_foranalysis_unsmoothed_02212021.csv': '/projects/p30771/MATLAB/CNMF_E_jjm/quest_MATLAB_cnmfe/batch_output_files/29-Mar_13_39_44_out.mat'}"
      ]
     },
     "execution_count": 7,
     "metadata": {},
     "output_type": "execute_result"
    }
   ],
   "source": [
    "cnmfe_dict_key"
   ]
  },
  {
   "cell_type": "markdown",
   "metadata": {},
   "source": [
    "# compiling/binning velocity across wt and ko sessions "
   ]
  },
  {
   "cell_type": "code",
   "execution_count": 8,
   "metadata": {
    "collapsed": false,
    "scrolled": false
   },
   "outputs": [
    {
     "name": "stderr",
     "output_type": "stream",
     "text": [
      "/home/jma819/.conda/envs/caiman_with_tables/lib/python3.8/site-packages/jupyter_client/jsonutil.py:64: DeprecationWarning: Interpreting naive datetime as local 2021-08-23 14:52:58.519459. Please add timezone info to timestamps.\n",
      "  new_obj[k] = extract_dates(v)\n"
     ]
    }
   ],
   "source": [
    "#load all tracking_files for velocity binning\n",
    "all_session_names = [file.split('/')[-2] for file in list(cnmfe_dict_key.keys())]"
   ]
  },
  {
   "cell_type": "code",
   "execution_count": 9,
   "metadata": {
    "collapsed": false
   },
   "outputs": [
    {
     "name": "stderr",
     "output_type": "stream",
     "text": [
      "/home/jma819/.conda/envs/caiman_with_tables/lib/python3.8/site-packages/jupyter_client/jsonutil.py:64: DeprecationWarning: Interpreting naive datetime as local 2021-08-23 14:52:59.255637. Please add timezone info to timestamps.\n",
      "  new_obj[k] = extract_dates(v)\n"
     ]
    },
    {
     "ename": "FileNotFoundError",
     "evalue": "[Errno 2] No such file or directory: '/projects/b1118/behaviorvideos/GRIN039_H12_M33_S29/GRIN039_H12_M33_S29_dlc_tracking_foranalysis_unsmoothed_02212021.csv'",
     "output_type": "error",
     "traceback": [
      "\u001b[0;31m---------------------------------------------------------------------------\u001b[0m",
      "\u001b[0;31mFileNotFoundError\u001b[0m                         Traceback (most recent call last)",
      "\u001b[0;32m<ipython-input-9-c320447ad69b>\u001b[0m in \u001b[0;36m<module>\u001b[0;34m\u001b[0m\n\u001b[1;32m      1\u001b[0m \u001b[0;31m#combine all dlc openfield output files and convert to timedelta index\u001b[0m\u001b[0;34m\u001b[0m\u001b[0;34m\u001b[0m\u001b[0;34m\u001b[0m\u001b[0m\n\u001b[0;32m----> 2\u001b[0;31m velocity_data = pd.concat([pd.read_csv(file).drop(['Unnamed: 0', 'Unnamed: 0.1',  'index'], axis=1) \n\u001b[0m\u001b[1;32m      3\u001b[0m                            for file in list(cnmfe_dict_key.keys())], keys=all_session_names)\n\u001b[1;32m      4\u001b[0m velocity_data_td = pd.concat([velocity_data.loc[session].set_index(pd.to_timedelta(np.linspace(velocity_data.loc[session]['sysClock'].iloc[0], \n\u001b[1;32m      5\u001b[0m                     velocity_data.loc[session]['sysClock'].iloc[-1]/1000, len(velocity_data.loc[session])), unit='s'), drop=True) \n",
      "\u001b[0;32m<ipython-input-9-c320447ad69b>\u001b[0m in \u001b[0;36m<listcomp>\u001b[0;34m(.0)\u001b[0m\n\u001b[1;32m      1\u001b[0m \u001b[0;31m#combine all dlc openfield output files and convert to timedelta index\u001b[0m\u001b[0;34m\u001b[0m\u001b[0;34m\u001b[0m\u001b[0;34m\u001b[0m\u001b[0m\n\u001b[0;32m----> 2\u001b[0;31m velocity_data = pd.concat([pd.read_csv(file).drop(['Unnamed: 0', 'Unnamed: 0.1',  'index'], axis=1) \n\u001b[0m\u001b[1;32m      3\u001b[0m                            for file in list(cnmfe_dict_key.keys())], keys=all_session_names)\n\u001b[1;32m      4\u001b[0m velocity_data_td = pd.concat([velocity_data.loc[session].set_index(pd.to_timedelta(np.linspace(velocity_data.loc[session]['sysClock'].iloc[0], \n\u001b[1;32m      5\u001b[0m                     velocity_data.loc[session]['sysClock'].iloc[-1]/1000, len(velocity_data.loc[session])), unit='s'), drop=True) \n",
      "\u001b[0;32m~/.conda/envs/caiman_with_tables/lib/python3.8/site-packages/pandas/io/parsers.py\u001b[0m in \u001b[0;36mread_csv\u001b[0;34m(filepath_or_buffer, sep, delimiter, header, names, index_col, usecols, squeeze, prefix, mangle_dupe_cols, dtype, engine, converters, true_values, false_values, skipinitialspace, skiprows, skipfooter, nrows, na_values, keep_default_na, na_filter, verbose, skip_blank_lines, parse_dates, infer_datetime_format, keep_date_col, date_parser, dayfirst, cache_dates, iterator, chunksize, compression, thousands, decimal, lineterminator, quotechar, quoting, doublequote, escapechar, comment, encoding, dialect, error_bad_lines, warn_bad_lines, delim_whitespace, low_memory, memory_map, float_precision, storage_options)\u001b[0m\n\u001b[1;32m    608\u001b[0m     \u001b[0mkwds\u001b[0m\u001b[0;34m.\u001b[0m\u001b[0mupdate\u001b[0m\u001b[0;34m(\u001b[0m\u001b[0mkwds_defaults\u001b[0m\u001b[0;34m)\u001b[0m\u001b[0;34m\u001b[0m\u001b[0;34m\u001b[0m\u001b[0m\n\u001b[1;32m    609\u001b[0m \u001b[0;34m\u001b[0m\u001b[0m\n\u001b[0;32m--> 610\u001b[0;31m     \u001b[0;32mreturn\u001b[0m \u001b[0m_read\u001b[0m\u001b[0;34m(\u001b[0m\u001b[0mfilepath_or_buffer\u001b[0m\u001b[0;34m,\u001b[0m \u001b[0mkwds\u001b[0m\u001b[0;34m)\u001b[0m\u001b[0;34m\u001b[0m\u001b[0;34m\u001b[0m\u001b[0m\n\u001b[0m\u001b[1;32m    611\u001b[0m \u001b[0;34m\u001b[0m\u001b[0m\n\u001b[1;32m    612\u001b[0m \u001b[0;34m\u001b[0m\u001b[0m\n",
      "\u001b[0;32m~/.conda/envs/caiman_with_tables/lib/python3.8/site-packages/pandas/io/parsers.py\u001b[0m in \u001b[0;36m_read\u001b[0;34m(filepath_or_buffer, kwds)\u001b[0m\n\u001b[1;32m    460\u001b[0m \u001b[0;34m\u001b[0m\u001b[0m\n\u001b[1;32m    461\u001b[0m     \u001b[0;31m# Create the parser.\u001b[0m\u001b[0;34m\u001b[0m\u001b[0;34m\u001b[0m\u001b[0;34m\u001b[0m\u001b[0m\n\u001b[0;32m--> 462\u001b[0;31m     \u001b[0mparser\u001b[0m \u001b[0;34m=\u001b[0m \u001b[0mTextFileReader\u001b[0m\u001b[0;34m(\u001b[0m\u001b[0mfilepath_or_buffer\u001b[0m\u001b[0;34m,\u001b[0m \u001b[0;34m**\u001b[0m\u001b[0mkwds\u001b[0m\u001b[0;34m)\u001b[0m\u001b[0;34m\u001b[0m\u001b[0;34m\u001b[0m\u001b[0m\n\u001b[0m\u001b[1;32m    463\u001b[0m \u001b[0;34m\u001b[0m\u001b[0m\n\u001b[1;32m    464\u001b[0m     \u001b[0;32mif\u001b[0m \u001b[0mchunksize\u001b[0m \u001b[0;32mor\u001b[0m \u001b[0miterator\u001b[0m\u001b[0;34m:\u001b[0m\u001b[0;34m\u001b[0m\u001b[0;34m\u001b[0m\u001b[0m\n",
      "\u001b[0;32m~/.conda/envs/caiman_with_tables/lib/python3.8/site-packages/pandas/io/parsers.py\u001b[0m in \u001b[0;36m__init__\u001b[0;34m(self, f, engine, **kwds)\u001b[0m\n\u001b[1;32m    817\u001b[0m             \u001b[0mself\u001b[0m\u001b[0;34m.\u001b[0m\u001b[0moptions\u001b[0m\u001b[0;34m[\u001b[0m\u001b[0;34m\"has_index_names\"\u001b[0m\u001b[0;34m]\u001b[0m \u001b[0;34m=\u001b[0m \u001b[0mkwds\u001b[0m\u001b[0;34m[\u001b[0m\u001b[0;34m\"has_index_names\"\u001b[0m\u001b[0;34m]\u001b[0m\u001b[0;34m\u001b[0m\u001b[0;34m\u001b[0m\u001b[0m\n\u001b[1;32m    818\u001b[0m \u001b[0;34m\u001b[0m\u001b[0m\n\u001b[0;32m--> 819\u001b[0;31m         \u001b[0mself\u001b[0m\u001b[0;34m.\u001b[0m\u001b[0m_engine\u001b[0m \u001b[0;34m=\u001b[0m \u001b[0mself\u001b[0m\u001b[0;34m.\u001b[0m\u001b[0m_make_engine\u001b[0m\u001b[0;34m(\u001b[0m\u001b[0mself\u001b[0m\u001b[0;34m.\u001b[0m\u001b[0mengine\u001b[0m\u001b[0;34m)\u001b[0m\u001b[0;34m\u001b[0m\u001b[0;34m\u001b[0m\u001b[0m\n\u001b[0m\u001b[1;32m    820\u001b[0m \u001b[0;34m\u001b[0m\u001b[0m\n\u001b[1;32m    821\u001b[0m     \u001b[0;32mdef\u001b[0m \u001b[0mclose\u001b[0m\u001b[0;34m(\u001b[0m\u001b[0mself\u001b[0m\u001b[0;34m)\u001b[0m\u001b[0;34m:\u001b[0m\u001b[0;34m\u001b[0m\u001b[0;34m\u001b[0m\u001b[0m\n",
      "\u001b[0;32m~/.conda/envs/caiman_with_tables/lib/python3.8/site-packages/pandas/io/parsers.py\u001b[0m in \u001b[0;36m_make_engine\u001b[0;34m(self, engine)\u001b[0m\n\u001b[1;32m   1048\u001b[0m             )\n\u001b[1;32m   1049\u001b[0m         \u001b[0;31m# error: Too many arguments for \"ParserBase\"\u001b[0m\u001b[0;34m\u001b[0m\u001b[0;34m\u001b[0m\u001b[0;34m\u001b[0m\u001b[0m\n\u001b[0;32m-> 1050\u001b[0;31m         \u001b[0;32mreturn\u001b[0m \u001b[0mmapping\u001b[0m\u001b[0;34m[\u001b[0m\u001b[0mengine\u001b[0m\u001b[0;34m]\u001b[0m\u001b[0;34m(\u001b[0m\u001b[0mself\u001b[0m\u001b[0;34m.\u001b[0m\u001b[0mf\u001b[0m\u001b[0;34m,\u001b[0m \u001b[0;34m**\u001b[0m\u001b[0mself\u001b[0m\u001b[0;34m.\u001b[0m\u001b[0moptions\u001b[0m\u001b[0;34m)\u001b[0m  \u001b[0;31m# type: ignore[call-arg]\u001b[0m\u001b[0;34m\u001b[0m\u001b[0;34m\u001b[0m\u001b[0m\n\u001b[0m\u001b[1;32m   1051\u001b[0m \u001b[0;34m\u001b[0m\u001b[0m\n\u001b[1;32m   1052\u001b[0m     \u001b[0;32mdef\u001b[0m \u001b[0m_failover_to_python\u001b[0m\u001b[0;34m(\u001b[0m\u001b[0mself\u001b[0m\u001b[0;34m)\u001b[0m\u001b[0;34m:\u001b[0m\u001b[0;34m\u001b[0m\u001b[0;34m\u001b[0m\u001b[0m\n",
      "\u001b[0;32m~/.conda/envs/caiman_with_tables/lib/python3.8/site-packages/pandas/io/parsers.py\u001b[0m in \u001b[0;36m__init__\u001b[0;34m(self, src, **kwds)\u001b[0m\n\u001b[1;32m   1865\u001b[0m \u001b[0;34m\u001b[0m\u001b[0m\n\u001b[1;32m   1866\u001b[0m         \u001b[0;31m# open handles\u001b[0m\u001b[0;34m\u001b[0m\u001b[0;34m\u001b[0m\u001b[0;34m\u001b[0m\u001b[0m\n\u001b[0;32m-> 1867\u001b[0;31m         \u001b[0mself\u001b[0m\u001b[0;34m.\u001b[0m\u001b[0m_open_handles\u001b[0m\u001b[0;34m(\u001b[0m\u001b[0msrc\u001b[0m\u001b[0;34m,\u001b[0m \u001b[0mkwds\u001b[0m\u001b[0;34m)\u001b[0m\u001b[0;34m\u001b[0m\u001b[0;34m\u001b[0m\u001b[0m\n\u001b[0m\u001b[1;32m   1868\u001b[0m         \u001b[0;32massert\u001b[0m \u001b[0mself\u001b[0m\u001b[0;34m.\u001b[0m\u001b[0mhandles\u001b[0m \u001b[0;32mis\u001b[0m \u001b[0;32mnot\u001b[0m \u001b[0;32mNone\u001b[0m\u001b[0;34m\u001b[0m\u001b[0;34m\u001b[0m\u001b[0m\n\u001b[1;32m   1869\u001b[0m         \u001b[0;32mfor\u001b[0m \u001b[0mkey\u001b[0m \u001b[0;32min\u001b[0m \u001b[0;34m(\u001b[0m\u001b[0;34m\"storage_options\"\u001b[0m\u001b[0;34m,\u001b[0m \u001b[0;34m\"encoding\"\u001b[0m\u001b[0;34m,\u001b[0m \u001b[0;34m\"memory_map\"\u001b[0m\u001b[0;34m,\u001b[0m \u001b[0;34m\"compression\"\u001b[0m\u001b[0;34m)\u001b[0m\u001b[0;34m:\u001b[0m\u001b[0;34m\u001b[0m\u001b[0;34m\u001b[0m\u001b[0m\n",
      "\u001b[0;32m~/.conda/envs/caiman_with_tables/lib/python3.8/site-packages/pandas/io/parsers.py\u001b[0m in \u001b[0;36m_open_handles\u001b[0;34m(self, src, kwds)\u001b[0m\n\u001b[1;32m   1360\u001b[0m         \u001b[0mLet\u001b[0m \u001b[0mthe\u001b[0m \u001b[0mreaders\u001b[0m \u001b[0mopen\u001b[0m \u001b[0mIOHanldes\u001b[0m \u001b[0mafter\u001b[0m \u001b[0mthey\u001b[0m \u001b[0mare\u001b[0m \u001b[0mdone\u001b[0m \u001b[0;32mwith\u001b[0m \u001b[0mtheir\u001b[0m \u001b[0mpotential\u001b[0m \u001b[0mraises\u001b[0m\u001b[0;34m.\u001b[0m\u001b[0;34m\u001b[0m\u001b[0;34m\u001b[0m\u001b[0m\n\u001b[1;32m   1361\u001b[0m         \"\"\"\n\u001b[0;32m-> 1362\u001b[0;31m         self.handles = get_handle(\n\u001b[0m\u001b[1;32m   1363\u001b[0m             \u001b[0msrc\u001b[0m\u001b[0;34m,\u001b[0m\u001b[0;34m\u001b[0m\u001b[0;34m\u001b[0m\u001b[0m\n\u001b[1;32m   1364\u001b[0m             \u001b[0;34m\"r\"\u001b[0m\u001b[0;34m,\u001b[0m\u001b[0;34m\u001b[0m\u001b[0;34m\u001b[0m\u001b[0m\n",
      "\u001b[0;32m~/.conda/envs/caiman_with_tables/lib/python3.8/site-packages/pandas/io/common.py\u001b[0m in \u001b[0;36mget_handle\u001b[0;34m(path_or_buf, mode, encoding, compression, memory_map, is_text, errors, storage_options)\u001b[0m\n\u001b[1;32m    640\u001b[0m                 \u001b[0merrors\u001b[0m \u001b[0;34m=\u001b[0m \u001b[0;34m\"replace\"\u001b[0m\u001b[0;34m\u001b[0m\u001b[0;34m\u001b[0m\u001b[0m\n\u001b[1;32m    641\u001b[0m             \u001b[0;31m# Encoding\u001b[0m\u001b[0;34m\u001b[0m\u001b[0;34m\u001b[0m\u001b[0;34m\u001b[0m\u001b[0m\n\u001b[0;32m--> 642\u001b[0;31m             handle = open(\n\u001b[0m\u001b[1;32m    643\u001b[0m                 \u001b[0mhandle\u001b[0m\u001b[0;34m,\u001b[0m\u001b[0;34m\u001b[0m\u001b[0;34m\u001b[0m\u001b[0m\n\u001b[1;32m    644\u001b[0m                 \u001b[0mioargs\u001b[0m\u001b[0;34m.\u001b[0m\u001b[0mmode\u001b[0m\u001b[0;34m,\u001b[0m\u001b[0;34m\u001b[0m\u001b[0;34m\u001b[0m\u001b[0m\n",
      "\u001b[0;31mFileNotFoundError\u001b[0m: [Errno 2] No such file or directory: '/projects/b1118/behaviorvideos/GRIN039_H12_M33_S29/GRIN039_H12_M33_S29_dlc_tracking_foranalysis_unsmoothed_02212021.csv'"
     ]
    }
   ],
   "source": [
    "#combine all dlc openfield output files and convert to timedelta index\n",
    "velocity_data = pd.concat([pd.read_csv(file).drop(['Unnamed: 0', 'Unnamed: 0.1',  'index'], axis=1) \n",
    "                           for file in list(cnmfe_dict_key.keys())], keys=all_session_names)\n",
    "velocity_data_td = pd.concat([velocity_data.loc[session].set_index(pd.to_timedelta(np.linspace(velocity_data.loc[session]['sysClock'].iloc[0], \n",
    "                    velocity_data.loc[session]['sysClock'].iloc[-1]/1000, len(velocity_data.loc[session])), unit='s'), drop=True) \n",
    "                   for session in all_session_names], keys=all_session_names)\n",
    "velocity_data_td.to_hdf('/projects/b1118/miniscope/analysis/event_analysis/compiled_velocity_all_sessions.h5',\n",
    "                                              key='velocity_tracking_data', mode='w')\n",
    "\n",
    "#downsample for binning \n",
    "new_sampling_interval = .2\n",
    "V_df = pd.concat([velocity_data_td.loc[session].resample(str(new_sampling_interval)+'S').max() \n",
    "                  for session in all_session_names], keys=all_session_names)\n",
    "#V_df.to_hdf('/projects/b1118/miniscope/analysis/event_analysis/compiled_velocity_all_sessions.h5',\n",
    "#                                              key='velocity_tracking_resampled', mode='w', format='table')\n",
    "V_df['velocity_bins']= pd.cut(V_df['tail_base'], bins=10)"
   ]
  },
  {
   "cell_type": "code",
   "execution_count": 9,
   "metadata": {
    "collapsed": false
   },
   "outputs": [
    {
     "name": "stderr",
     "output_type": "stream",
     "text": [
      "/home/jma819/.conda/envs/caiman_with_tables/lib/python3.8/site-packages/jupyter_client/jsonutil.py:64: DeprecationWarning: Interpreting naive datetime as local 2021-03-22 10:46:53.436424. Please add timezone info to timestamps.\n",
      "  new_obj[k] = extract_dates(v)\n"
     ]
    }
   ],
   "source": [
    "##save all spatial information to hdf \n",
    "h5_output = h5py.File('/projects/b1118/miniscope/analysis/spatial_data/spatial_components_test.h5', 'w')\n",
    "for CNMFE_file, tracking_file in zip(list(cnmfe_dict_key.values()), cnmfe_dict_key.keys()):\n",
    "    com_df, spatial_components = utils_jjm.return_spatial_info(CNMFE_file, 0.6)\n",
    "    h5_output.create_dataset(str(tracking_file.split('/')[-2]), data=spatial_components)"
   ]
  },
  {
   "cell_type": "code",
   "execution_count": 11,
   "metadata": {
    "collapsed": false,
    "scrolled": true
   },
   "outputs": [
    {
     "name": "stderr",
     "output_type": "stream",
     "text": [
      "/home/jma819/.conda/envs/caiman_with_tables/lib/python3.8/site-packages/jupyter_client/jsonutil.py:64: DeprecationWarning: Interpreting naive datetime as local 2021-03-22 10:47:18.364558. Please add timezone info to timestamps.\n",
      "  new_obj[k] = extract_dates(v)\n"
     ]
    },
    {
     "data": {
      "text/plain": [
       "<KeysViewHDF5 ['GRIN009_H13_M59_S14', 'GRIN011_H10_M19_S59', 'GRIN012_H16_M57_S23', 'GRIN012_H17_M32_S17', 'GRIN012_H17_M46_S35', 'GRIN013_H13_M33_S54', 'GRIN018_H16_M13_S53', 'GRIN018_H17_M41_S43', 'GRIN026_H16_M35_S34', 'GRIN027_H13_M29_S44', 'GRIN032_H16_M49_S22', 'GRIN032_H17_M30_S22', 'GRIN033_H13_M42_S33', 'GRIN033_H14_M34_S32', 'GRIN034_H15_M28_S2', 'GRIN034_H16_M13_S22', 'GRIN034_H19_M0_S18', 'GRIN035_H13_M31_S20', 'GRIN035_H13_M50_S58', 'GRIN035_H14_M40_S34', 'GRIN038_H11_M57_S0', 'GRIN038_H13_M37_S23', 'GRIN038_H15_M39_S40', 'GRIN039_H12_M26_S54', 'GRIN039_H12_M33_S29', 'GRIN039_H14_M8_S53', 'GRIN041_H12_M54_S49']>"
      ]
     },
     "execution_count": 11,
     "metadata": {},
     "output_type": "execute_result"
    }
   ],
   "source": [
    "h5_output.keys()\n",
    "#len(list(h5_output.keys()))"
   ]
  },
  {
   "cell_type": "code",
   "execution_count": 12,
   "metadata": {
    "collapsed": false,
    "scrolled": true
   },
   "outputs": [
    {
     "name": "stderr",
     "output_type": "stream",
     "text": [
      "/home/jma819/.conda/envs/caiman_with_tables/lib/python3.8/site-packages/jupyter_client/jsonutil.py:64: DeprecationWarning: Interpreting naive datetime as local 2021-03-22 10:47:22.913876. Please add timezone info to timestamps.\n",
      "  new_obj[k] = extract_dates(v)\n"
     ]
    }
   ],
   "source": [
    "h5_output.close()"
   ]
  },
  {
   "cell_type": "code",
   "execution_count": 31,
   "metadata": {
    "collapsed": false
   },
   "outputs": [
    {
     "name": "stderr",
     "output_type": "stream",
     "text": [
      "/home/jma819/.conda/envs/caiman_with_tables/lib/python3.8/site-packages/jupyter_client/jsonutil.py:64: DeprecationWarning: Interpreting naive datetime as local 2021-03-23 11:54:15.261843. Please add timezone info to timestamps.\n",
      "  new_obj[k] = extract_dates(v)\n"
     ]
    }
   ],
   "source": [
    "#directory to save\n",
    "save_directory = '/projects/b1118/miniscope/analysis/compiled_data/'\n",
    "# change to individually saving files\n",
    "CNMFE_file = '11-Mar_18_08_19_out.mat'\n",
    "CNMFE_file_path = '/projects/p30771/MATLAB/CNMF_E_jjm/quest_MATLAB_cnmfe/batch_output_files/11-Mar_18_08_19_out.mat'\n",
    "tracking_file = '/projects/b1118/behaviorvideos/'+utils_jjm.find_behavior_tracking(CNMFE_file, cnmfe_file_key, 'unsmoothed_02212021') \n",
    "cell_fluorescence = sio.loadmat(CNMFE_file_path)"
   ]
  },
  {
   "cell_type": "code",
   "execution_count": 32,
   "metadata": {
    "collapsed": false
   },
   "outputs": [
    {
     "name": "stderr",
     "output_type": "stream",
     "text": [
      "/home/jma819/.conda/envs/caiman_with_tables/lib/python3.8/site-packages/jupyter_client/jsonutil.py:64: DeprecationWarning: Interpreting naive datetime as local 2021-03-23 11:54:18.106505. Please add timezone info to timestamps.\n",
      "  new_obj[k] = extract_dates(v)\n"
     ]
    }
   ],
   "source": [
    "com_df, spatial_components = utils_jjm.return_spatial_info(CNMFE_file_path, 0.6)\n",
    "cell_contours, for_dims = utils_jjm.create_contour_layouts(spatial_components)"
   ]
  },
  {
   "cell_type": "code",
   "execution_count": 33,
   "metadata": {
    "collapsed": false,
    "scrolled": true
   },
   "outputs": [
    {
     "name": "stderr",
     "output_type": "stream",
     "text": [
      "/home/jma819/.conda/envs/caiman_with_tables/lib/python3.8/site-packages/jupyter_client/jsonutil.py:64: DeprecationWarning: Interpreting naive datetime as local 2021-03-23 11:54:20.369748. Please add timezone info to timestamps.\n",
      "  new_obj[k] = extract_dates(v)\n"
     ]
    }
   ],
   "source": [
    "cells_to_drop = np.array([int(cell) for cell in range(1, len(cell_contours)+1) if \n",
    "                              len(np.array(np.where(for_dims[cell]>0.6)[0]))<100])"
   ]
  },
  {
   "cell_type": "code",
   "execution_count": 34,
   "metadata": {
    "collapsed": false
   },
   "outputs": [
    {
     "name": "stderr",
     "output_type": "stream",
     "text": [
      "/home/jma819/.conda/envs/caiman_with_tables/lib/python3.8/site-packages/jupyter_client/jsonutil.py:64: DeprecationWarning: Interpreting naive datetime as local 2021-03-23 11:54:21.359995. Please add timezone info to timestamps.\n",
      "  new_obj[k] = extract_dates(v)\n"
     ]
    }
   ],
   "source": [
    "C_timedelta = utils_jjm.create_fluorescence_time_delta(cell_fluorescence['C'])\n",
    "C_normalized = C_timedelta.apply(utils_jjm.normalize).set_index(pd.to_timedelta(np.linspace(0, \n",
    "                                                    (len(C_timedelta)-1)*(1/20), len(C_timedelta)), unit='s'), drop=True)\n",
    "C_normalized = C_normalized.drop(['msCamFrame'], axis=1).drop(cells_to_drop, axis=1)\n",
    "velocity_data = pd.read_csv(tracking_file)"
   ]
  },
  {
   "cell_type": "code",
   "execution_count": 35,
   "metadata": {
    "collapsed": false,
    "scrolled": true
   },
   "outputs": [
    {
     "name": "stderr",
     "output_type": "stream",
     "text": [
      "/home/jma819/.conda/envs/caiman_with_tables/lib/python3.8/site-packages/jupyter_client/jsonutil.py:64: DeprecationWarning: Interpreting naive datetime as local 2021-03-23 11:54:23.986889. Please add timezone info to timestamps.\n",
      "  new_obj[k] = extract_dates(v)\n"
     ]
    }
   ],
   "source": [
    "velocity_data.to_hdf(save_directory+str(tracking_file.split('/')[-2])+'_.h5', key=tracking_file.split('/')[-2]+'velocity', mode='a')\n",
    "velocity_data.to_csv(save_directory+str(tracking_file.split('/')[-2])+'velocity_.csv')\n",
    "C_normalized.to_hdf(save_directory+str(tracking_file.split('/')[-2])+'_.h5', key=tracking_file.split('/')[-2]+'C_traces', mode='a')\n",
    "C_normalized.to_csv(save_directory+str(tracking_file.split('/')[-2])+'_C_traces_.csv')\n",
    "C_timedelta.to_hdf(save_directory+str(tracking_file.split('/')[-2])+'_.h5', key=tracking_file.split('/')[-2]+'C', mode='a')"
   ]
  },
  {
   "cell_type": "code",
   "execution_count": 36,
   "metadata": {
    "collapsed": false
   },
   "outputs": [
    {
     "name": "stderr",
     "output_type": "stream",
     "text": [
      "/home/jma819/.conda/envs/caiman_with_tables/lib/python3.8/site-packages/jupyter_client/jsonutil.py:64: DeprecationWarning: Interpreting naive datetime as local 2021-03-23 12:02:10.929894. Please add timezone info to timestamps.\n",
      "  new_obj[k] = extract_dates(v)\n"
     ]
    },
    {
     "data": {
      "text/html": [
       "<div>\n",
       "<style scoped>\n",
       "    .dataframe tbody tr th:only-of-type {\n",
       "        vertical-align: middle;\n",
       "    }\n",
       "\n",
       "    .dataframe tbody tr th {\n",
       "        vertical-align: top;\n",
       "    }\n",
       "\n",
       "    .dataframe thead th {\n",
       "        text-align: right;\n",
       "    }\n",
       "</style>\n",
       "<table border=\"1\" class=\"dataframe\">\n",
       "  <thead>\n",
       "    <tr style=\"text-align: right;\">\n",
       "      <th></th>\n",
       "      <th>1</th>\n",
       "      <th>2</th>\n",
       "      <th>3</th>\n",
       "      <th>4</th>\n",
       "      <th>5</th>\n",
       "      <th>6</th>\n",
       "      <th>7</th>\n",
       "      <th>8</th>\n",
       "      <th>9</th>\n",
       "      <th>10</th>\n",
       "      <th>...</th>\n",
       "      <th>91</th>\n",
       "      <th>92</th>\n",
       "      <th>93</th>\n",
       "      <th>94</th>\n",
       "      <th>95</th>\n",
       "      <th>96</th>\n",
       "      <th>97</th>\n",
       "      <th>98</th>\n",
       "      <th>99</th>\n",
       "      <th>100</th>\n",
       "    </tr>\n",
       "  </thead>\n",
       "  <tbody>\n",
       "    <tr>\n",
       "      <th>0 days 00:00:00</th>\n",
       "      <td>0.000000</td>\n",
       "      <td>1.469393</td>\n",
       "      <td>2.579367</td>\n",
       "      <td>0.000000</td>\n",
       "      <td>0.000000</td>\n",
       "      <td>0.000000</td>\n",
       "      <td>0.395783</td>\n",
       "      <td>0.000000</td>\n",
       "      <td>0.033626</td>\n",
       "      <td>0.075006</td>\n",
       "      <td>...</td>\n",
       "      <td>1.220515</td>\n",
       "      <td>0.839477</td>\n",
       "      <td>0.387338</td>\n",
       "      <td>0.346094</td>\n",
       "      <td>0.000000</td>\n",
       "      <td>0.384146</td>\n",
       "      <td>0.046554</td>\n",
       "      <td>0.063556</td>\n",
       "      <td>0.000000</td>\n",
       "      <td>0.446532</td>\n",
       "    </tr>\n",
       "    <tr>\n",
       "      <th>0 days 00:00:00.050000</th>\n",
       "      <td>0.000000</td>\n",
       "      <td>1.297881</td>\n",
       "      <td>2.321599</td>\n",
       "      <td>0.037683</td>\n",
       "      <td>0.000000</td>\n",
       "      <td>0.000000</td>\n",
       "      <td>0.615926</td>\n",
       "      <td>0.268428</td>\n",
       "      <td>0.030899</td>\n",
       "      <td>0.075006</td>\n",
       "      <td>...</td>\n",
       "      <td>2.081471</td>\n",
       "      <td>0.725304</td>\n",
       "      <td>0.387338</td>\n",
       "      <td>0.285626</td>\n",
       "      <td>0.000000</td>\n",
       "      <td>0.384146</td>\n",
       "      <td>0.211324</td>\n",
       "      <td>0.103455</td>\n",
       "      <td>0.000000</td>\n",
       "      <td>0.487464</td>\n",
       "    </tr>\n",
       "    <tr>\n",
       "      <th>0 days 00:00:00.100000</th>\n",
       "      <td>0.000000</td>\n",
       "      <td>1.146389</td>\n",
       "      <td>2.089591</td>\n",
       "      <td>0.032791</td>\n",
       "      <td>0.000000</td>\n",
       "      <td>0.000000</td>\n",
       "      <td>0.653275</td>\n",
       "      <td>0.240414</td>\n",
       "      <td>0.028393</td>\n",
       "      <td>0.075006</td>\n",
       "      <td>...</td>\n",
       "      <td>1.860800</td>\n",
       "      <td>0.626660</td>\n",
       "      <td>0.387338</td>\n",
       "      <td>0.235722</td>\n",
       "      <td>0.000000</td>\n",
       "      <td>0.384146</td>\n",
       "      <td>0.195643</td>\n",
       "      <td>0.147303</td>\n",
       "      <td>0.000000</td>\n",
       "      <td>0.356763</td>\n",
       "    </tr>\n",
       "    <tr>\n",
       "      <th>0 days 00:00:00.150000</th>\n",
       "      <td>0.000000</td>\n",
       "      <td>1.012579</td>\n",
       "      <td>1.880768</td>\n",
       "      <td>0.028534</td>\n",
       "      <td>0.000000</td>\n",
       "      <td>0.000000</td>\n",
       "      <td>0.624811</td>\n",
       "      <td>0.215324</td>\n",
       "      <td>0.026090</td>\n",
       "      <td>0.075006</td>\n",
       "      <td>...</td>\n",
       "      <td>1.669592</td>\n",
       "      <td>0.541431</td>\n",
       "      <td>0.387338</td>\n",
       "      <td>0.194538</td>\n",
       "      <td>0.000000</td>\n",
       "      <td>0.384146</td>\n",
       "      <td>0.524412</td>\n",
       "      <td>0.175652</td>\n",
       "      <td>0.000000</td>\n",
       "      <td>0.269954</td>\n",
       "    </tr>\n",
       "    <tr>\n",
       "      <th>0 days 00:00:00.200000</th>\n",
       "      <td>0.000000</td>\n",
       "      <td>0.894388</td>\n",
       "      <td>1.692815</td>\n",
       "      <td>0.024830</td>\n",
       "      <td>0.000000</td>\n",
       "      <td>0.000000</td>\n",
       "      <td>0.599149</td>\n",
       "      <td>0.192852</td>\n",
       "      <td>0.023974</td>\n",
       "      <td>0.075006</td>\n",
       "      <td>...</td>\n",
       "      <td>1.503914</td>\n",
       "      <td>0.467794</td>\n",
       "      <td>0.387338</td>\n",
       "      <td>0.399941</td>\n",
       "      <td>0.000000</td>\n",
       "      <td>0.384146</td>\n",
       "      <td>0.478933</td>\n",
       "      <td>0.229173</td>\n",
       "      <td>0.000000</td>\n",
       "      <td>0.212296</td>\n",
       "    </tr>\n",
       "    <tr>\n",
       "      <th>...</th>\n",
       "      <td>...</td>\n",
       "      <td>...</td>\n",
       "      <td>...</td>\n",
       "      <td>...</td>\n",
       "      <td>...</td>\n",
       "      <td>...</td>\n",
       "      <td>...</td>\n",
       "      <td>...</td>\n",
       "      <td>...</td>\n",
       "      <td>...</td>\n",
       "      <td>...</td>\n",
       "      <td>...</td>\n",
       "      <td>...</td>\n",
       "      <td>...</td>\n",
       "      <td>...</td>\n",
       "      <td>...</td>\n",
       "      <td>...</td>\n",
       "      <td>...</td>\n",
       "      <td>...</td>\n",
       "      <td>...</td>\n",
       "      <td>...</td>\n",
       "    </tr>\n",
       "    <tr>\n",
       "      <th>0 days 00:32:27.600000</th>\n",
       "      <td>0.024967</td>\n",
       "      <td>0.365850</td>\n",
       "      <td>0.217887</td>\n",
       "      <td>0.019626</td>\n",
       "      <td>0.003853</td>\n",
       "      <td>0.091921</td>\n",
       "      <td>0.366357</td>\n",
       "      <td>0.019159</td>\n",
       "      <td>0.336670</td>\n",
       "      <td>0.072485</td>\n",
       "      <td>...</td>\n",
       "      <td>0.367544</td>\n",
       "      <td>0.000039</td>\n",
       "      <td>0.486177</td>\n",
       "      <td>0.119553</td>\n",
       "      <td>0.142496</td>\n",
       "      <td>0.384146</td>\n",
       "      <td>0.048664</td>\n",
       "      <td>0.002171</td>\n",
       "      <td>0.016280</td>\n",
       "      <td>0.985067</td>\n",
       "    </tr>\n",
       "    <tr>\n",
       "      <th>0 days 00:32:27.650000</th>\n",
       "      <td>0.024430</td>\n",
       "      <td>0.357242</td>\n",
       "      <td>0.217638</td>\n",
       "      <td>0.019201</td>\n",
       "      <td>0.003718</td>\n",
       "      <td>0.091073</td>\n",
       "      <td>0.366310</td>\n",
       "      <td>0.018646</td>\n",
       "      <td>0.327457</td>\n",
       "      <td>0.024705</td>\n",
       "      <td>...</td>\n",
       "      <td>0.526908</td>\n",
       "      <td>0.000038</td>\n",
       "      <td>0.477878</td>\n",
       "      <td>0.115743</td>\n",
       "      <td>0.137791</td>\n",
       "      <td>0.384146</td>\n",
       "      <td>0.070673</td>\n",
       "      <td>0.002110</td>\n",
       "      <td>0.016138</td>\n",
       "      <td>0.098260</td>\n",
       "    </tr>\n",
       "    <tr>\n",
       "      <th>0 days 00:32:27.700000</th>\n",
       "      <td>0.023905</td>\n",
       "      <td>0.348836</td>\n",
       "      <td>0.217389</td>\n",
       "      <td>0.018785</td>\n",
       "      <td>0.003587</td>\n",
       "      <td>0.090233</td>\n",
       "      <td>0.366265</td>\n",
       "      <td>0.036080</td>\n",
       "      <td>0.318496</td>\n",
       "      <td>0.088070</td>\n",
       "      <td>...</td>\n",
       "      <td>0.437542</td>\n",
       "      <td>0.000037</td>\n",
       "      <td>0.437710</td>\n",
       "      <td>0.112054</td>\n",
       "      <td>0.216677</td>\n",
       "      <td>0.384146</td>\n",
       "      <td>0.080293</td>\n",
       "      <td>0.002051</td>\n",
       "      <td>0.015997</td>\n",
       "      <td>0.098260</td>\n",
       "    </tr>\n",
       "    <tr>\n",
       "      <th>0 days 00:32:27.750000</th>\n",
       "      <td>0.000000</td>\n",
       "      <td>0.340629</td>\n",
       "      <td>0.217140</td>\n",
       "      <td>0.018378</td>\n",
       "      <td>0.000000</td>\n",
       "      <td>0.089401</td>\n",
       "      <td>0.364181</td>\n",
       "      <td>0.000000</td>\n",
       "      <td>0.309781</td>\n",
       "      <td>0.064700</td>\n",
       "      <td>...</td>\n",
       "      <td>0.425760</td>\n",
       "      <td>0.000037</td>\n",
       "      <td>0.463881</td>\n",
       "      <td>0.132934</td>\n",
       "      <td>0.000000</td>\n",
       "      <td>0.384146</td>\n",
       "      <td>0.032221</td>\n",
       "      <td>0.000000</td>\n",
       "      <td>0.000000</td>\n",
       "      <td>0.098260</td>\n",
       "    </tr>\n",
       "    <tr>\n",
       "      <th>0 days 00:32:27.800000</th>\n",
       "      <td>0.000000</td>\n",
       "      <td>0.000000</td>\n",
       "      <td>0.216892</td>\n",
       "      <td>0.017981</td>\n",
       "      <td>0.000000</td>\n",
       "      <td>0.088576</td>\n",
       "      <td>0.364181</td>\n",
       "      <td>0.000000</td>\n",
       "      <td>0.301304</td>\n",
       "      <td>0.066992</td>\n",
       "      <td>...</td>\n",
       "      <td>0.274850</td>\n",
       "      <td>0.000036</td>\n",
       "      <td>0.438630</td>\n",
       "      <td>0.128697</td>\n",
       "      <td>0.000000</td>\n",
       "      <td>0.384146</td>\n",
       "      <td>0.074521</td>\n",
       "      <td>0.000000</td>\n",
       "      <td>0.000000</td>\n",
       "      <td>0.098260</td>\n",
       "    </tr>\n",
       "  </tbody>\n",
       "</table>\n",
       "<p>38957 rows × 95 columns</p>\n",
       "</div>"
      ],
      "text/plain": [
       "                             1         2         3         4         5    \\\n",
       "0 days 00:00:00         0.000000  1.469393  2.579367  0.000000  0.000000   \n",
       "0 days 00:00:00.050000  0.000000  1.297881  2.321599  0.037683  0.000000   \n",
       "0 days 00:00:00.100000  0.000000  1.146389  2.089591  0.032791  0.000000   \n",
       "0 days 00:00:00.150000  0.000000  1.012579  1.880768  0.028534  0.000000   \n",
       "0 days 00:00:00.200000  0.000000  0.894388  1.692815  0.024830  0.000000   \n",
       "...                          ...       ...       ...       ...       ...   \n",
       "0 days 00:32:27.600000  0.024967  0.365850  0.217887  0.019626  0.003853   \n",
       "0 days 00:32:27.650000  0.024430  0.357242  0.217638  0.019201  0.003718   \n",
       "0 days 00:32:27.700000  0.023905  0.348836  0.217389  0.018785  0.003587   \n",
       "0 days 00:32:27.750000  0.000000  0.340629  0.217140  0.018378  0.000000   \n",
       "0 days 00:32:27.800000  0.000000  0.000000  0.216892  0.017981  0.000000   \n",
       "\n",
       "                             6         7         8         9         10   ...  \\\n",
       "0 days 00:00:00         0.000000  0.395783  0.000000  0.033626  0.075006  ...   \n",
       "0 days 00:00:00.050000  0.000000  0.615926  0.268428  0.030899  0.075006  ...   \n",
       "0 days 00:00:00.100000  0.000000  0.653275  0.240414  0.028393  0.075006  ...   \n",
       "0 days 00:00:00.150000  0.000000  0.624811  0.215324  0.026090  0.075006  ...   \n",
       "0 days 00:00:00.200000  0.000000  0.599149  0.192852  0.023974  0.075006  ...   \n",
       "...                          ...       ...       ...       ...       ...  ...   \n",
       "0 days 00:32:27.600000  0.091921  0.366357  0.019159  0.336670  0.072485  ...   \n",
       "0 days 00:32:27.650000  0.091073  0.366310  0.018646  0.327457  0.024705  ...   \n",
       "0 days 00:32:27.700000  0.090233  0.366265  0.036080  0.318496  0.088070  ...   \n",
       "0 days 00:32:27.750000  0.089401  0.364181  0.000000  0.309781  0.064700  ...   \n",
       "0 days 00:32:27.800000  0.088576  0.364181  0.000000  0.301304  0.066992  ...   \n",
       "\n",
       "                             91        92        93        94        95   \\\n",
       "0 days 00:00:00         1.220515  0.839477  0.387338  0.346094  0.000000   \n",
       "0 days 00:00:00.050000  2.081471  0.725304  0.387338  0.285626  0.000000   \n",
       "0 days 00:00:00.100000  1.860800  0.626660  0.387338  0.235722  0.000000   \n",
       "0 days 00:00:00.150000  1.669592  0.541431  0.387338  0.194538  0.000000   \n",
       "0 days 00:00:00.200000  1.503914  0.467794  0.387338  0.399941  0.000000   \n",
       "...                          ...       ...       ...       ...       ...   \n",
       "0 days 00:32:27.600000  0.367544  0.000039  0.486177  0.119553  0.142496   \n",
       "0 days 00:32:27.650000  0.526908  0.000038  0.477878  0.115743  0.137791   \n",
       "0 days 00:32:27.700000  0.437542  0.000037  0.437710  0.112054  0.216677   \n",
       "0 days 00:32:27.750000  0.425760  0.000037  0.463881  0.132934  0.000000   \n",
       "0 days 00:32:27.800000  0.274850  0.000036  0.438630  0.128697  0.000000   \n",
       "\n",
       "                             96        97        98        99        100  \n",
       "0 days 00:00:00         0.384146  0.046554  0.063556  0.000000  0.446532  \n",
       "0 days 00:00:00.050000  0.384146  0.211324  0.103455  0.000000  0.487464  \n",
       "0 days 00:00:00.100000  0.384146  0.195643  0.147303  0.000000  0.356763  \n",
       "0 days 00:00:00.150000  0.384146  0.524412  0.175652  0.000000  0.269954  \n",
       "0 days 00:00:00.200000  0.384146  0.478933  0.229173  0.000000  0.212296  \n",
       "...                          ...       ...       ...       ...       ...  \n",
       "0 days 00:32:27.600000  0.384146  0.048664  0.002171  0.016280  0.985067  \n",
       "0 days 00:32:27.650000  0.384146  0.070673  0.002110  0.016138  0.098260  \n",
       "0 days 00:32:27.700000  0.384146  0.080293  0.002051  0.015997  0.098260  \n",
       "0 days 00:32:27.750000  0.384146  0.032221  0.000000  0.000000  0.098260  \n",
       "0 days 00:32:27.800000  0.384146  0.074521  0.000000  0.000000  0.098260  \n",
       "\n",
       "[38957 rows x 95 columns]"
      ]
     },
     "execution_count": 36,
     "metadata": {},
     "output_type": "execute_result"
    }
   ],
   "source": [
    "C_normalized"
   ]
  },
  {
   "cell_type": "markdown",
   "metadata": {},
   "source": [
    "# loading sessions by group "
   ]
  },
  {
   "cell_type": "code",
   "execution_count": 7,
   "metadata": {
    "collapsed": false
   },
   "outputs": [
    {
     "name": "stderr",
     "output_type": "stream",
     "text": [
      "/home/jma819/.conda/envs/caiman_with_tables/lib/python3.8/site-packages/jupyter_client/jsonutil.py:64: DeprecationWarning: Interpreting naive datetime as local 2021-03-22 17:43:31.156554. Please add timezone info to timestamps.\n",
      "  new_obj[k] = extract_dates(v)\n"
     ]
    },
    {
     "data": {
      "text/plain": [
       "{'/projects/b1118/behaviorvideos/GRIN039_H12_M33_S29/GRIN039_H12_M33_S29_dlc_tracking_foranalysis_unsmoothed_02212021.csv': '/projects/p30771/MATLAB/CNMF_E_jjm/quest_MATLAB_cnmfe/batch_output_files/12-Mar_14_05_31_out.mat',\n",
       " '/projects/b1118/behaviorvideos/GRIN039_H14_M8_S53/GRIN039_H14_M8_S53_dlc_tracking_foranalysis_unsmoothed_02212021.csv': '/projects/p30771/MATLAB/CNMF_E_jjm/quest_MATLAB_cnmfe/batch_output_files/10-Mar_21_30_19_out.mat',\n",
       " '/projects/b1118/behaviorvideos/GRIN039_H12_M26_S54/GRIN039_H12_M26_S54_dlc_tracking_foranalysis_unsmoothed_02212021.csv': '/projects/p30771/MATLAB/CNMF_E_jjm/quest_MATLAB_cnmfe/batch_output_files/29-Jan_12_35_06_out.mat',\n",
       " '/projects/b1118/behaviorvideos/GRIN013_H13_M33_S54/GRIN013_H13_M33_S54_dlc_tracking_foranalysis_unsmoothed_02212021.csv': '/projects/p30771/MATLAB/CNMF_E_jjm/quest_MATLAB_cnmfe/batch_output_files/30-Mar_20_39_05_out.mat',\n",
       " '/projects/b1118/behaviorvideos/GRIN027_H13_M29_S44/GRIN027_H13_M29_S44_dlc_tracking_foranalysis_unsmoothed_02212021.csv': '/projects/p30771/MATLAB/CNMF_E_jjm/quest_MATLAB_cnmfe/batch_output_files/30-Mar_20_45_16_out.mat',\n",
       " '/projects/b1118/behaviorvideos/GRIN033_H14_M34_S32/GRIN033_H14_M34_S32_dlc_tracking_foranalysis_unsmoothed_02212021.csv': '/projects/p30771/MATLAB/CNMF_E_jjm/quest_MATLAB_cnmfe/batch_output_files/22-Mar_22_52_02_out.mat',\n",
       " '/projects/b1118/behaviorvideos/GRIN033_H13_M42_S33/GRIN033_H13_M42_S33_dlc_tracking_foranalysis_unsmoothed_02212021.csv': '/projects/p30771/MATLAB/CNMF_E_jjm/quest_MATLAB_cnmfe/batch_output_files/28-Feb_16_10_05_out.mat',\n",
       " '/projects/b1118/behaviorvideos/GRIN032_H17_M30_S22/GRIN032_H17_M30_S22_dlc_tracking_foranalysis_unsmoothed_02212021.csv': '/projects/p30771/MATLAB/CNMF_E_jjm/quest_MATLAB_cnmfe/batch_output_files/27-Feb_17_32_15_out.mat',\n",
       " '/projects/b1118/behaviorvideos/GRIN034_H15_M28_S2/GRIN034_H15_M28_S2_dlc_tracking_foranalysis_unsmoothed_02212021.csv': '/projects/p30771/MATLAB/CNMF_E_jjm/quest_MATLAB_cnmfe/batch_output_files/25-Mar_13_27_27_out.mat',\n",
       " '/projects/b1118/behaviorvideos/GRIN026_H16_M35_S34/GRIN026_H16_M35_S34_dlc_tracking_foranalysis_unsmoothed_02212021.csv': '/projects/p30771/MATLAB/CNMF_E_jjm/quest_MATLAB_cnmfe/batch_output_files/27-Feb_17_33_59_out.mat',\n",
       " '/projects/b1118/behaviorvideos/GRIN032_H16_M49_S22/GRIN032_H16_M49_S22_dlc_tracking_foranalysis_unsmoothed_02212021.csv': '/projects/p30771/MATLAB/CNMF_E_jjm/quest_MATLAB_cnmfe/batch_output_files/28-Feb_16_21_21_out.mat',\n",
       " '/projects/b1118/behaviorvideos/GRIN034_H16_M13_S22/GRIN034_H16_M13_S22_dlc_tracking_foranalysis_unsmoothed_02212021.csv': '/projects/p30771/MATLAB/CNMF_E_jjm/quest_MATLAB_cnmfe/batch_output_files/25-Mar_14_22_02_out.mat',\n",
       " '/projects/b1118/behaviorvideos/GRIN034_H19_M0_S18/GRIN034_H19_M0_S18_dlc_tracking_foranalysis_unsmoothed_02212021.csv': '/projects/p30771/MATLAB/CNMF_E_jjm/quest_MATLAB_cnmfe/batch_output_files/25-Mar_14_22_44_out.mat',\n",
       " '/projects/b1118/behaviorvideos/GRIN035_H13_M50_S58/GRIN035_H13_M50_S58_dlc_tracking_foranalysis_unsmoothed_02212021.csv': '/projects/p30771/MATLAB/CNMF_E_jjm/quest_MATLAB_cnmfe/batch_output_files/26-Mar_18_33_55_out.mat',\n",
       " '/projects/b1118/behaviorvideos/GRIN035_H13_M31_S20/GRIN035_H13_M31_S20_dlc_tracking_foranalysis_unsmoothed_02212021.csv': '/projects/p30771/MATLAB/CNMF_E_jjm/quest_MATLAB_cnmfe/batch_output_files/27-Mar_00_26_12_out.mat',\n",
       " '/projects/b1118/behaviorvideos/GRIN035_H14_M40_S34/GRIN035_H14_M40_S34_dlc_tracking_foranalysis_unsmoothed_02212021.csv': '/projects/p30771/MATLAB/CNMF_E_jjm/quest_MATLAB_cnmfe/batch_output_files/27-Mar_00_48_46_out.mat',\n",
       " '/projects/b1118/behaviorvideos/GRIN038_H15_M39_S40/GRIN038_H15_M39_S40_dlc_tracking_foranalysis_unsmoothed_02212021.csv': '/projects/p30771/MATLAB/CNMF_E_jjm/quest_MATLAB_cnmfe/batch_output_files/11-Mar_18_08_19_out.mat',\n",
       " '/projects/b1118/behaviorvideos/GRIN038_H11_M57_S0/GRIN038_H11_M57_S0_dlc_tracking_foranalysis_unsmoothed_02212021.csv': '/projects/p30771/MATLAB/CNMF_E_jjm/quest_MATLAB_cnmfe/batch_output_files/11-Mar_16_27_44_out.mat',\n",
       " '/projects/b1118/behaviorvideos/GRIN038_H13_M37_S23/GRIN038_H13_M37_S23_dlc_tracking_foranalysis_unsmoothed_02212021.csv': '/projects/p30771/MATLAB/CNMF_E_jjm/quest_MATLAB_cnmfe/batch_output_files/31-Jan_01_43_49_out.mat',\n",
       " '/projects/b1118/behaviorvideos/GRIN041_H12_M54_S49/GRIN041_H12_M54_S49_dlc_tracking_foranalysis_unsmoothed_02212021.csv': '/projects/p30771/MATLAB/CNMF_E_jjm/quest_MATLAB_cnmfe/batch_output_files/31-Jan_00_12_24_out.mat',\n",
       " '/projects/b1118/behaviorvideos/GRIN009_H13_M59_S14/GRIN009_H13_M59_S14_dlc_tracking_foranalysis_unsmoothed_02212021.csv': '/projects/p30771/MATLAB/CNMF_E_jjm/quest_MATLAB_cnmfe/batch_output_files/31-Mar_13_28_15_out.mat',\n",
       " '/projects/b1118/behaviorvideos/GRIN018_H17_M41_S43/GRIN018_H17_M41_S43_dlc_tracking_foranalysis_unsmoothed_02212021.csv': '/projects/p30771/MATLAB/CNMF_E_jjm/quest_MATLAB_cnmfe/batch_output_files/29-Mar_21_42_20_out.mat',\n",
       " '/projects/b1118/behaviorvideos/GRIN018_H16_M13_S53/GRIN018_H16_M13_S53_dlc_tracking_foranalysis_unsmoothed_02212021.csv': '/projects/p30771/MATLAB/CNMF_E_jjm/quest_MATLAB_cnmfe/batch_output_files/13-Apr_17_57_40_out.mat',\n",
       " '/projects/b1118/behaviorvideos/GRIN011_H10_M19_S59/GRIN011_H10_M19_S59_dlc_tracking_foranalysis_unsmoothed_02212021.csv': '/projects/p30771/MATLAB/CNMF_E_jjm/quest_MATLAB_cnmfe/batch_output_files/29-Mar_14_27_55_out.mat',\n",
       " '/projects/b1118/behaviorvideos/GRIN012_H17_M46_S35/GRIN012_H17_M46_S35_dlc_tracking_foranalysis_unsmoothed_02212021.csv': '/projects/p30771/MATLAB/CNMF_E_jjm/quest_MATLAB_cnmfe/batch_output_files/13-Apr_16_01_20_out.mat',\n",
       " '/projects/b1118/behaviorvideos/GRIN012_H17_M32_S17/GRIN012_H17_M32_S17_dlc_tracking_foranalysis_unsmoothed_02212021.csv': '/projects/p30771/MATLAB/CNMF_E_jjm/quest_MATLAB_cnmfe/batch_output_files/13-Apr_16_11_27_out.mat',\n",
       " '/projects/b1118/behaviorvideos/GRIN012_H16_M57_S23/GRIN012_H16_M57_S23_dlc_tracking_foranalysis_unsmoothed_02212021.csv': '/projects/p30771/MATLAB/CNMF_E_jjm/quest_MATLAB_cnmfe/batch_output_files/29-Mar_13_39_44_out.mat'}"
      ]
     },
     "execution_count": 7,
     "metadata": {},
     "output_type": "execute_result"
    }
   ],
   "source": [
    "cnmfe_dict_key"
   ]
  },
  {
   "cell_type": "code",
   "execution_count": 17,
   "metadata": {
    "collapsed": false
   },
   "outputs": [
    {
     "name": "stderr",
     "output_type": "stream",
     "text": [
      "/home/jma819/.conda/envs/caiman_with_tables/lib/python3.8/site-packages/jupyter_client/jsonutil.py:64: DeprecationWarning: Interpreting naive datetime as local 2021-03-22 18:12:38.140092. Please add timezone info to timestamps.\n",
      "  new_obj[k] = extract_dates(v)\n"
     ]
    },
    {
     "name": "stdout",
     "output_type": "stream",
     "text": [
      "/projects/p30771/MATLAB/CNMF_E_jjm/quest_MATLAB_cnmfe/batch_output_files/12-Mar_14_05_31_out.mat\n",
      "/projects/b1118/behaviorvideos/GRIN039_H12_M33_S29/GRIN039_H12_M33_S29_dlc_tracking_foranalysis_unsmoothed_02212021.csv\n",
      "/projects/p30771/MATLAB/CNMF_E_jjm/quest_MATLAB_cnmfe/batch_output_files/10-Mar_21_30_19_out.mat\n",
      "/projects/b1118/behaviorvideos/GRIN039_H14_M8_S53/GRIN039_H14_M8_S53_dlc_tracking_foranalysis_unsmoothed_02212021.csv\n",
      "/projects/p30771/MATLAB/CNMF_E_jjm/quest_MATLAB_cnmfe/batch_output_files/29-Jan_12_35_06_out.mat\n",
      "/projects/b1118/behaviorvideos/GRIN039_H12_M26_S54/GRIN039_H12_M26_S54_dlc_tracking_foranalysis_unsmoothed_02212021.csv\n",
      "/projects/p30771/MATLAB/CNMF_E_jjm/quest_MATLAB_cnmfe/batch_output_files/30-Mar_20_39_05_out.mat\n",
      "/projects/b1118/behaviorvideos/GRIN013_H13_M33_S54/GRIN013_H13_M33_S54_dlc_tracking_foranalysis_unsmoothed_02212021.csv\n",
      "/projects/p30771/MATLAB/CNMF_E_jjm/quest_MATLAB_cnmfe/batch_output_files/30-Mar_20_45_16_out.mat\n",
      "/projects/b1118/behaviorvideos/GRIN027_H13_M29_S44/GRIN027_H13_M29_S44_dlc_tracking_foranalysis_unsmoothed_02212021.csv\n",
      "/projects/p30771/MATLAB/CNMF_E_jjm/quest_MATLAB_cnmfe/batch_output_files/22-Mar_22_52_02_out.mat\n",
      "/projects/b1118/behaviorvideos/GRIN033_H14_M34_S32/GRIN033_H14_M34_S32_dlc_tracking_foranalysis_unsmoothed_02212021.csv\n",
      "/projects/p30771/MATLAB/CNMF_E_jjm/quest_MATLAB_cnmfe/batch_output_files/28-Feb_16_10_05_out.mat\n",
      "/projects/b1118/behaviorvideos/GRIN033_H13_M42_S33/GRIN033_H13_M42_S33_dlc_tracking_foranalysis_unsmoothed_02212021.csv\n",
      "/projects/p30771/MATLAB/CNMF_E_jjm/quest_MATLAB_cnmfe/batch_output_files/27-Feb_17_32_15_out.mat\n",
      "/projects/b1118/behaviorvideos/GRIN032_H17_M30_S22/GRIN032_H17_M30_S22_dlc_tracking_foranalysis_unsmoothed_02212021.csv\n",
      "/projects/p30771/MATLAB/CNMF_E_jjm/quest_MATLAB_cnmfe/batch_output_files/25-Mar_13_27_27_out.mat\n",
      "/projects/b1118/behaviorvideos/GRIN034_H15_M28_S2/GRIN034_H15_M28_S2_dlc_tracking_foranalysis_unsmoothed_02212021.csv\n",
      "/projects/p30771/MATLAB/CNMF_E_jjm/quest_MATLAB_cnmfe/batch_output_files/27-Feb_17_33_59_out.mat\n",
      "/projects/b1118/behaviorvideos/GRIN026_H16_M35_S34/GRIN026_H16_M35_S34_dlc_tracking_foranalysis_unsmoothed_02212021.csv\n",
      "/projects/p30771/MATLAB/CNMF_E_jjm/quest_MATLAB_cnmfe/batch_output_files/28-Feb_16_21_21_out.mat\n",
      "/projects/b1118/behaviorvideos/GRIN032_H16_M49_S22/GRIN032_H16_M49_S22_dlc_tracking_foranalysis_unsmoothed_02212021.csv\n",
      "/projects/p30771/MATLAB/CNMF_E_jjm/quest_MATLAB_cnmfe/batch_output_files/25-Mar_14_22_02_out.mat\n",
      "/projects/b1118/behaviorvideos/GRIN034_H16_M13_S22/GRIN034_H16_M13_S22_dlc_tracking_foranalysis_unsmoothed_02212021.csv\n",
      "/projects/p30771/MATLAB/CNMF_E_jjm/quest_MATLAB_cnmfe/batch_output_files/25-Mar_14_22_44_out.mat\n",
      "/projects/b1118/behaviorvideos/GRIN034_H19_M0_S18/GRIN034_H19_M0_S18_dlc_tracking_foranalysis_unsmoothed_02212021.csv\n",
      "/projects/p30771/MATLAB/CNMF_E_jjm/quest_MATLAB_cnmfe/batch_output_files/26-Mar_18_33_55_out.mat\n",
      "/projects/b1118/behaviorvideos/GRIN035_H13_M50_S58/GRIN035_H13_M50_S58_dlc_tracking_foranalysis_unsmoothed_02212021.csv\n",
      "/projects/p30771/MATLAB/CNMF_E_jjm/quest_MATLAB_cnmfe/batch_output_files/27-Mar_00_26_12_out.mat\n",
      "/projects/b1118/behaviorvideos/GRIN035_H13_M31_S20/GRIN035_H13_M31_S20_dlc_tracking_foranalysis_unsmoothed_02212021.csv\n",
      "/projects/p30771/MATLAB/CNMF_E_jjm/quest_MATLAB_cnmfe/batch_output_files/27-Mar_00_48_46_out.mat\n",
      "/projects/b1118/behaviorvideos/GRIN035_H14_M40_S34/GRIN035_H14_M40_S34_dlc_tracking_foranalysis_unsmoothed_02212021.csv\n",
      "/projects/p30771/MATLAB/CNMF_E_jjm/quest_MATLAB_cnmfe/batch_output_files/11-Mar_18_08_19_out.mat\n",
      "/projects/b1118/behaviorvideos/GRIN038_H15_M39_S40/GRIN038_H15_M39_S40_dlc_tracking_foranalysis_unsmoothed_02212021.csv\n",
      "/projects/p30771/MATLAB/CNMF_E_jjm/quest_MATLAB_cnmfe/batch_output_files/11-Mar_16_27_44_out.mat\n",
      "/projects/b1118/behaviorvideos/GRIN038_H11_M57_S0/GRIN038_H11_M57_S0_dlc_tracking_foranalysis_unsmoothed_02212021.csv\n",
      "/projects/p30771/MATLAB/CNMF_E_jjm/quest_MATLAB_cnmfe/batch_output_files/31-Jan_01_43_49_out.mat\n",
      "/projects/b1118/behaviorvideos/GRIN038_H13_M37_S23/GRIN038_H13_M37_S23_dlc_tracking_foranalysis_unsmoothed_02212021.csv\n",
      "/projects/p30771/MATLAB/CNMF_E_jjm/quest_MATLAB_cnmfe/batch_output_files/31-Jan_00_12_24_out.mat\n",
      "/projects/b1118/behaviorvideos/GRIN041_H12_M54_S49/GRIN041_H12_M54_S49_dlc_tracking_foranalysis_unsmoothed_02212021.csv\n",
      "/projects/p30771/MATLAB/CNMF_E_jjm/quest_MATLAB_cnmfe/batch_output_files/31-Mar_13_28_15_out.mat\n",
      "/projects/b1118/behaviorvideos/GRIN009_H13_M59_S14/GRIN009_H13_M59_S14_dlc_tracking_foranalysis_unsmoothed_02212021.csv\n",
      "/projects/p30771/MATLAB/CNMF_E_jjm/quest_MATLAB_cnmfe/batch_output_files/29-Mar_21_42_20_out.mat\n",
      "/projects/b1118/behaviorvideos/GRIN018_H17_M41_S43/GRIN018_H17_M41_S43_dlc_tracking_foranalysis_unsmoothed_02212021.csv\n",
      "/projects/p30771/MATLAB/CNMF_E_jjm/quest_MATLAB_cnmfe/batch_output_files/13-Apr_17_57_40_out.mat\n",
      "/projects/b1118/behaviorvideos/GRIN018_H16_M13_S53/GRIN018_H16_M13_S53_dlc_tracking_foranalysis_unsmoothed_02212021.csv\n",
      "/projects/p30771/MATLAB/CNMF_E_jjm/quest_MATLAB_cnmfe/batch_output_files/29-Mar_14_27_55_out.mat\n",
      "/projects/b1118/behaviorvideos/GRIN011_H10_M19_S59/GRIN011_H10_M19_S59_dlc_tracking_foranalysis_unsmoothed_02212021.csv\n",
      "/projects/p30771/MATLAB/CNMF_E_jjm/quest_MATLAB_cnmfe/batch_output_files/13-Apr_16_01_20_out.mat\n",
      "/projects/b1118/behaviorvideos/GRIN012_H17_M46_S35/GRIN012_H17_M46_S35_dlc_tracking_foranalysis_unsmoothed_02212021.csv\n",
      "/projects/p30771/MATLAB/CNMF_E_jjm/quest_MATLAB_cnmfe/batch_output_files/13-Apr_16_11_27_out.mat\n",
      "/projects/b1118/behaviorvideos/GRIN012_H17_M32_S17/GRIN012_H17_M32_S17_dlc_tracking_foranalysis_unsmoothed_02212021.csv\n",
      "/projects/p30771/MATLAB/CNMF_E_jjm/quest_MATLAB_cnmfe/batch_output_files/29-Mar_13_39_44_out.mat\n",
      "/projects/b1118/behaviorvideos/GRIN012_H16_M57_S23/GRIN012_H16_M57_S23_dlc_tracking_foranalysis_unsmoothed_02212021.csv\n"
     ]
    }
   ],
   "source": [
    "grouped_raw_data = {}\n",
    "success = []\n",
    "failed = []\n",
    "#now storing CNMFE file paths as values in dictionary with tracking files as keys\n",
    "for CNMFE_file, tracking_file in zip(list(cnmfe_dict_key.values()), cnmfe_dict_key.keys()):\n",
    "    print(CNMFE_file)\n",
    "    print(tracking_file)\n",
    "    try:\n",
    "        # load cell fluorescence \n",
    "        cell_fluorescence = sio.loadmat(CNMFE_file)\n",
    "        C_timedelta = utils_jjm.create_fluorescence_time_delta(cell_fluorescence['C'])\n",
    "        C_normalized = C_timedelta.apply(utils_jjm.normalize).set_index(pd.to_timedelta(np.linspace(0, (len(C_timedelta)-1)*(1/20), len(C_timedelta)), unit='s'), drop=True)\n",
    "        C_normalized_z_scored = C_normalized.apply(stats.zscore).set_index(pd.to_timedelta(np.linspace(0, (len(C_normalized)-1)*(1/20), len(C_normalized)), unit='s'), drop=True)\n",
    "        # create tracking time deltas\n",
    "        velocity_data = pd.read_csv(tracking_file)\n",
    "        velocity_data.drop(['Unnamed: 0', 'index'], axis=1, inplace=True)\n",
    "        velocity_data_td = velocity_data.set_index(pd.to_timedelta(np.linspace(velocity_data['sysClock'].iloc[0], \n",
    "               velocity_data['sysClock'].iloc[-1]/1000,\n",
    "               len(velocity_data)), unit='s'), drop=True) \n",
    "        #load spatial components by session\n",
    "        com_df, spatial_components = utils_jjm.return_spatial_info(CNMFE_file, 0.6)\n",
    "        cell_contours, for_dims = utils_jjm.create_contour_layouts(spatial_components)\n",
    "        \n",
    "        #store results \n",
    "        grouped_raw_data[tracking_file.split('/')[-2]] = {'C': C_timedelta, 'C_normalized': C_normalized, 'velocity_data' : velocity_data_td, \n",
    "                                                          'com' : com_df, 'spatial_components' : spatial_components, \n",
    "                                                          'cell_contours': cell_contours, 'for_dims' : for_dims,\n",
    "                                                         'C_normalized_z_scored': C_normalized_z_scored}\n",
    "        #save file\n",
    "    \n",
    "        C_normalized.to_hdf(save_directory+str(tracking_file.split('/')[-2])+'_.h5', key=tracking_file.split('/')[-2]+'C_normalized', mode='a')\n",
    "        C_timedelta.to_hdf(save_directory+str(tracking_file.split('/')[-2])+'_.h5', key=tracking_file.split('/')[-2]+'C', mode='a')\n",
    "        velocity_data_td.to_hdf(save_directory+str(tracking_file.split('/')[-2])+'_.h5', key=tracking_file.split('/')[-2]+'velocity_data', mode='a')\n",
    "        com_df.to_hdf(save_directory+str(tracking_file.split('/')[-2])+'_.h5', key=tracking_file.split('/')[-2]+'com_df', mode='a')\n",
    "        C_normalized_z_scored.to_hdf(save_directory+str(tracking_file.split('/')[-2])+'_.h5', key=tracking_file.split('/')[-2]+'C_normalized_z_scored', mode='a')\n",
    "        success.append((tracking_file.split('/')[-2], CNMFE_file.split('/')[-1]))\n",
    "\n",
    "    except FileNotFoundError:\n",
    "        failed.append(tracking_file)\n",
    "    except OSError:\n",
    "        failed.append(tracking_file)"
   ]
  },
  {
   "cell_type": "markdown",
   "metadata": {},
   "source": [
    "## find bursting periods "
   ]
  },
  {
   "cell_type": "code",
   "execution_count": 18,
   "metadata": {
    "collapsed": false,
    "scrolled": true
   },
   "outputs": [
    {
     "name": "stderr",
     "output_type": "stream",
     "text": [
      "/home/jma819/.conda/envs/caiman_with_tables/lib/python3.8/site-packages/jupyter_client/jsonutil.py:64: DeprecationWarning: Interpreting naive datetime as local 2021-03-22 18:14:03.148174. Please add timezone info to timestamps.\n",
      "  new_obj[k] = extract_dates(v)\n"
     ]
    }
   ],
   "source": [
    "##remove small cells \n",
    "filtered_for_analysis = {}\n",
    "new_sampling_interval=.2\n",
    "for session in list(grouped_raw_data.keys()):\n",
    "    # get indicies of small cells \n",
    "    cells_to_drop = np.array([int(cell) for cell in range(1, len(grouped_raw_data[session]['cell_contours'])+1) if \n",
    "                              len(np.array(np.where(grouped_raw_data[session]['for_dims'][cell]>0.6)[0]))<100])\n",
    "    C_traces_filtered = grouped_raw_data[session]['C_normalized_z_scored'].drop(cells_to_drop, axis=1)\n",
    "    filtered_for_analysis[session] = C_traces_filtered.drop('msCamFrame', axis=1)\n",
    "# sets sampling interval to 5Hz \n",
    "C_norm_df = pd.concat([filtered_for_analysis[session].resample(str(new_sampling_interval)+'S').max()\n",
    "                  for session in list(filtered_for_analysis.keys())], axis=1, keys=list(filtered_for_analysis.keys()))\n",
    "# after downsampling convert back to regular index\n",
    "C_norm_df_reindexed = pd.concat([C_norm_df[session].reset_index(drop=True)\n",
    "                  for session in list(set(C_norm_df.columns.get_level_values(0)))], axis=1, keys=list(set(C_norm_df.columns.get_level_values(0))))"
   ]
  },
  {
   "cell_type": "code",
   "execution_count": 19,
   "metadata": {
    "collapsed": false,
    "scrolled": true
   },
   "outputs": [
    {
     "name": "stderr",
     "output_type": "stream",
     "text": [
      "/home/jma819/.conda/envs/caiman_with_tables/lib/python3.8/site-packages/jupyter_client/jsonutil.py:64: DeprecationWarning: Interpreting naive datetime as local 2021-03-22 18:14:08.555835. Please add timezone info to timestamps.\n",
      "  new_obj[k] = extract_dates(v)\n"
     ]
    }
   ],
   "source": [
    "#bin by activity threshold, using original samples here\n",
    "#inputs: (body_part, resting_time_threshold, active_time_threshold, crossing_threshold, resting_threshold, activity_threshold)\n",
    "binned_velocity_df = pd.DataFrame([dlc_utils.bin_by_activity_threshold_2(grouped_raw_data[session]['velocity_data']['tail_base'], 10, 10, 2, 5, 1)\n",
    "                                for session in list(grouped_raw_data.keys())], index=list(grouped_raw_data.keys()))\n",
    "binned_velocity_df = binned_velocity_df.transpose()"
   ]
  },
  {
   "cell_type": "code",
   "execution_count": 20,
   "metadata": {
    "collapsed": false,
    "scrolled": true
   },
   "outputs": [
    {
     "name": "stderr",
     "output_type": "stream",
     "text": [
      "/home/jma819/.conda/envs/caiman_with_tables/lib/python3.8/site-packages/jupyter_client/jsonutil.py:64: DeprecationWarning: Interpreting naive datetime as local 2021-03-22 18:14:13.789856. Please add timezone info to timestamps.\n",
      "  new_obj[k] = extract_dates(v)\n"
     ]
    },
    {
     "data": {
      "text/plain": [
       "['GRIN039_H14_M8_S53',\n",
       " 'GRIN039_H12_M26_S54',\n",
       " 'GRIN009_H13_M59_S14',\n",
       " 'GRIN035_H14_M40_S34',\n",
       " 'GRIN033_H14_M34_S32',\n",
       " 'GRIN038_H11_M57_S0',\n",
       " 'GRIN026_H16_M35_S34',\n",
       " 'GRIN038_H13_M37_S23',\n",
       " 'GRIN012_H17_M32_S17',\n",
       " 'GRIN032_H16_M49_S22',\n",
       " 'GRIN034_H15_M28_S2',\n",
       " 'GRIN035_H13_M31_S20',\n",
       " 'GRIN041_H12_M54_S49',\n",
       " 'GRIN027_H13_M29_S44',\n",
       " 'GRIN032_H17_M30_S22',\n",
       " 'GRIN018_H16_M13_S53',\n",
       " 'GRIN011_H10_M19_S59',\n",
       " 'GRIN018_H17_M41_S43',\n",
       " 'GRIN035_H13_M50_S58',\n",
       " 'GRIN012_H17_M46_S35',\n",
       " 'GRIN039_H12_M33_S29',\n",
       " 'GRIN034_H16_M13_S22',\n",
       " 'GRIN034_H19_M0_S18',\n",
       " 'GRIN033_H13_M42_S33',\n",
       " 'GRIN038_H15_M39_S40',\n",
       " 'GRIN013_H13_M33_S54',\n",
       " 'GRIN012_H16_M57_S23']"
      ]
     },
     "execution_count": 20,
     "metadata": {},
     "output_type": "execute_result"
    }
   ],
   "source": [
    "list(C_norm_df_reindexed.columns.levels[0])"
   ]
  },
  {
   "cell_type": "code",
   "execution_count": 21,
   "metadata": {
    "collapsed": false,
    "scrolled": false
   },
   "outputs": [
    {
     "name": "stderr",
     "output_type": "stream",
     "text": [
      "/home/jma819/.conda/envs/caiman_with_tables/lib/python3.8/site-packages/jupyter_client/jsonutil.py:64: DeprecationWarning: Interpreting naive datetime as local 2021-03-22 18:14:44.419045. Please add timezone info to timestamps.\n",
      "  new_obj[k] = extract_dates(v)\n"
     ]
    }
   ],
   "source": [
    "# bin/binarize cell activity \n",
    "session = 'GRIN038_H15_M39_S40'\n",
    "samples_to_forward_smooth = 5\n",
    "z_score_threshold = 2.5\n",
    "binned_session = C_norm_df_reindexed[session].apply(utils_jjm.binning_function_uncrop, \n",
    "                                                                  axis=0, args=(samples_to_forward_smooth, z_score_threshold))"
   ]
  },
  {
   "cell_type": "code",
   "execution_count": 39,
   "metadata": {
    "collapsed": false,
    "scrolled": true
   },
   "outputs": [
    {
     "name": "stderr",
     "output_type": "stream",
     "text": [
      "/home/jma819/.conda/envs/caiman_with_tables/lib/python3.8/site-packages/jupyter_client/jsonutil.py:64: DeprecationWarning: Interpreting naive datetime as local 2021-03-21 13:42:59.982062. Please add timezone info to timestamps.\n",
      "  new_obj[k] = extract_dates(v)\n"
     ]
    },
    {
     "data": {
      "text/plain": [
       "[<matplotlib.lines.Line2D at 0x2b417bf0d0a0>]"
      ]
     },
     "execution_count": 39,
     "metadata": {},
     "output_type": "execute_result"
    },
    {
     "data": {
      "image/png": "[encoded data removed]",
      "text/plain": [
       "<Figure size 432x288 with 1 Axes>"
      ]
     },
     "metadata": {
      "needs_background": "light"
     },
     "output_type": "display_data"
    }
   ],
   "source": [
    "bounds_of_bursting_session = (0, 1000)\n",
    "plt.plot((binned_session.sum(axis=1)/len(binned_session.columns))[bounds_of_bursting_session[0]:bounds_of_bursting_session[1]])"
   ]
  },
  {
   "cell_type": "code",
   "execution_count": 42,
   "metadata": {
    "collapsed": false
   },
   "outputs": [
    {
     "name": "stderr",
     "output_type": "stream",
     "text": [
      "/home/jma819/.conda/envs/caiman_with_tables/lib/python3.8/site-packages/jupyter_client/jsonutil.py:64: DeprecationWarning: Interpreting naive datetime as local 2021-03-21 13:43:08.557028. Please add timezone info to timestamps.\n",
      "  new_obj[k] = extract_dates(v)\n",
      "/home/jma819/.conda/envs/caiman_with_tables/lib/python3.8/site-packages/ipykernel/ipkernel.py:287: DeprecationWarning: `should_run_async` will not call `transform_cell` automatically in the future. Please pass the result to `transformed_cell` argument and any exception that happen during thetransform in `preprocessing_exc_tuple` in IPython 7.17 and above.\n",
      "  and should_run_async(code)\n"
     ]
    }
   ],
   "source": [
    "#store a list of active cells at each sample point \n",
    "active_cells_by_time = {}\n",
    "for sample in list(binned_session[bounds_of_bursting_session[0]:bounds_of_bursting_session[1]].index):\n",
    "    active_cells_by_time[sample]=[]\n",
    "    for cell in list(binned_session.columns):\n",
    "        if binned_session[bounds_of_bursting_session[0]:bounds_of_bursting_session[1]].loc[sample][cell]==1:\n",
    "            active_cells_by_time[sample].append(cell)"
   ]
  },
  {
   "cell_type": "code",
   "execution_count": 46,
   "metadata": {
    "collapsed": false
   },
   "outputs": [
    {
     "name": "stderr",
     "output_type": "stream",
     "text": [
      "/home/jma819/.conda/envs/caiman_with_tables/lib/python3.8/site-packages/jupyter_client/jsonutil.py:64: DeprecationWarning: Interpreting naive datetime as local 2021-03-21 13:48:36.974118. Please add timezone info to timestamps.\n",
      "  new_obj[k] = extract_dates(v)\n"
     ]
    }
   ],
   "source": [
    "# load spatial data and get average distance bewtween coactive cells "
   ]
  },
  {
   "cell_type": "code",
   "execution_count": 49,
   "metadata": {
    "collapsed": false
   },
   "outputs": [
    {
     "name": "stderr",
     "output_type": "stream",
     "text": [
      "/home/jma819/.conda/envs/caiman_with_tables/lib/python3.8/site-packages/jupyter_client/jsonutil.py:64: DeprecationWarning: Interpreting naive datetime as local 2021-03-21 13:59:00.632154. Please add timezone info to timestamps.\n",
      "  new_obj[k] = extract_dates(v)\n"
     ]
    }
   ],
   "source": [
    "cell_com = pd.read_csv('/projects/b1118/miniscope/analysis/spatial_data/spatial_clustering/jones_script_analysis/GRIN011_H10_M19_S59_com_filtered.csv')"
   ]
  },
  {
   "cell_type": "code",
   "execution_count": 76,
   "metadata": {
    "collapsed": false,
    "scrolled": true
   },
   "outputs": [
    {
     "name": "stderr",
     "output_type": "stream",
     "text": [
      "/home/jma819/.conda/envs/caiman_with_tables/lib/python3.8/site-packages/jupyter_client/jsonutil.py:64: DeprecationWarning: Interpreting naive datetime as local 2021-03-21 14:32:01.301682. Please add timezone info to timestamps.\n",
      "  new_obj[k] = extract_dates(v)\n",
      "100%|██████████| 1000/1000 [00:04<00:00, 209.61it/s]\n"
     ]
    }
   ],
   "source": [
    "avg_distance_coactive_cell_by_sample = []\n",
    "for sample in tqdm(list(active_cells_by_time.keys())):\n",
    "    cell_distances = []\n",
    "    for pair in itertools.combinations(active_cells_by_time[sample], 2):\n",
    "        cell_distances.append(math.sqrt((cell_com[str(pair[0])][0]-cell_com[str(pair[1])][0])**2+(cell_com[str(pair[0])][1]-cell_com[str(pair[1])][1])**2))    \n",
    "    avg_distance_coactive_cell_by_sample.append(np.mean(cell_distances))\n",
    "avg_distance_coactive_cell_by_sample = np.array(avg_distance_coactive_cell_by_sample)"
   ]
  },
  {
   "cell_type": "code",
   "execution_count": 81,
   "metadata": {
    "collapsed": false
   },
   "outputs": [
    {
     "name": "stderr",
     "output_type": "stream",
     "text": [
      "/home/jma819/.conda/envs/caiman_with_tables/lib/python3.8/site-packages/jupyter_client/jsonutil.py:64: DeprecationWarning: Interpreting naive datetime as local 2021-03-21 14:33:34.917447. Please add timezone info to timestamps.\n",
      "  new_obj[k] = extract_dates(v)\n",
      "/home/jma819/.conda/envs/caiman_with_tables/lib/python3.8/site-packages/ipykernel/ipkernel.py:287: DeprecationWarning: `should_run_async` will not call `transform_cell` automatically in the future. Please pass the result to `transformed_cell` argument and any exception that happen during thetransform in `preprocessing_exc_tuple` in IPython 7.17 and above.\n",
      "  and should_run_async(code)\n"
     ]
    },
    {
     "data": {
      "text/plain": [
       "array([165.31390512, 165.31390512, 165.31390512, 165.31390512,\n",
       "       165.31390512, 165.31390512, 165.31390512, 165.31390512,\n",
       "       165.31390512, 165.31390512,   0.        ,   0.        ,\n",
       "         0.        ,   0.        ,   0.        ,   0.        ,\n",
       "         0.        ,   0.        ,   0.        ,   0.        ,\n",
       "       218.08545292, 218.08545292, 218.08545292, 218.08545292,\n",
       "       218.08545292, 218.08545292, 218.08545292, 218.08545292,\n",
       "       218.08545292, 218.08545292, 191.30774258, 191.30774258,\n",
       "       191.30774258, 191.30774258, 191.30774258, 191.30774258,\n",
       "       191.30774258, 191.30774258, 191.30774258, 191.30774258,\n",
       "       225.05030121, 225.05030121, 225.05030121, 225.05030121,\n",
       "       225.05030121, 225.05030121, 225.05030121, 225.05030121,\n",
       "       225.05030121, 225.05030121,   0.        ,   0.        ,\n",
       "         0.        ,   0.        ,   0.        ,   0.        ,\n",
       "         0.        ,   0.        ,   0.        ,   0.        ,\n",
       "       182.56854316, 182.56854316, 182.56854316, 182.56854316,\n",
       "       182.56854316, 182.56854316, 182.56854316, 182.56854316,\n",
       "       182.56854316, 182.56854316, 133.84053833, 133.84053833,\n",
       "       133.84053833, 133.84053833, 133.84053833, 133.84053833,\n",
       "       133.84053833, 133.84053833, 133.84053833, 133.84053833,\n",
       "       203.07848775, 203.07848775, 203.07848775, 203.07848775,\n",
       "       203.07848775, 203.07848775, 203.07848775, 203.07848775,\n",
       "       203.07848775, 203.07848775, 158.56224019, 158.56224019,\n",
       "       158.56224019, 158.56224019, 158.56224019, 158.56224019,\n",
       "       158.56224019, 158.56224019, 158.56224019, 158.56224019,\n",
       "       128.84182132, 128.84182132, 128.84182132, 128.84182132,\n",
       "       128.84182132, 128.84182132, 128.84182132, 128.84182132,\n",
       "       128.84182132, 128.84182132, 111.37252543, 111.37252543,\n",
       "       111.37252543, 111.37252543, 111.37252543, 111.37252543,\n",
       "       111.37252543, 111.37252543, 111.37252543, 111.37252543,\n",
       "         0.        ,   0.        ,   0.        ,   0.        ,\n",
       "         0.        ,   0.        ,   0.        ,   0.        ,\n",
       "         0.        ,   0.        , 223.44652947, 223.44652947,\n",
       "       223.44652947, 223.44652947, 223.44652947, 223.44652947,\n",
       "       223.44652947, 223.44652947, 223.44652947, 223.44652947,\n",
       "       218.61852447, 218.61852447, 218.61852447, 218.61852447,\n",
       "       218.61852447, 218.61852447, 218.61852447, 218.61852447,\n",
       "       218.61852447, 218.61852447, 228.79690423, 228.79690423,\n",
       "       228.79690423, 228.79690423, 228.79690423, 228.79690423,\n",
       "       228.79690423, 228.79690423, 228.79690423, 228.79690423,\n",
       "       174.13961083, 174.13961083, 174.13961083, 174.13961083,\n",
       "       174.13961083, 174.13961083, 174.13961083, 174.13961083,\n",
       "       174.13961083, 174.13961083, 166.69953458, 166.69953458,\n",
       "       166.69953458, 166.69953458, 166.69953458, 166.69953458,\n",
       "       166.69953458, 166.69953458, 166.69953458, 166.69953458,\n",
       "       220.4098425 , 220.4098425 , 220.4098425 , 220.4098425 ,\n",
       "       220.4098425 , 220.4098425 , 220.4098425 , 220.4098425 ,\n",
       "       220.4098425 , 220.4098425 , 307.89444912, 307.89444912,\n",
       "       307.89444912, 307.89444912, 307.89444912, 307.89444912,\n",
       "       307.89444912, 307.89444912, 307.89444912, 307.89444912,\n",
       "       215.95466159, 215.95466159, 215.95466159, 215.95466159,\n",
       "       215.95466159, 215.95466159, 215.95466159, 215.95466159,\n",
       "       215.95466159, 215.95466159, 251.28110024, 251.28110024,\n",
       "       251.28110024, 251.28110024, 251.28110024, 251.28110024,\n",
       "       251.28110024, 251.28110024, 251.28110024, 251.28110024,\n",
       "       132.77591756, 132.77591756, 132.77591756, 132.77591756,\n",
       "       132.77591756, 132.77591756, 132.77591756, 132.77591756,\n",
       "       132.77591756, 132.77591756, 193.88958107, 193.88958107,\n",
       "       193.88958107, 193.88958107, 193.88958107, 193.88958107,\n",
       "       193.88958107, 193.88958107, 193.88958107, 193.88958107,\n",
       "       178.73314291, 178.73314291, 178.73314291, 178.73314291,\n",
       "       178.73314291, 178.73314291, 178.73314291, 178.73314291,\n",
       "       178.73314291, 178.73314291, 216.82860393, 216.82860393,\n",
       "       216.82860393, 216.82860393, 216.82860393, 216.82860393,\n",
       "       216.82860393, 216.82860393, 216.82860393, 216.82860393,\n",
       "       191.47470368, 191.47470368, 191.47470368, 191.47470368,\n",
       "       191.47470368, 191.47470368, 191.47470368, 191.47470368,\n",
       "       191.47470368, 191.47470368, 131.851609  , 131.851609  ,\n",
       "       131.851609  , 131.851609  , 131.851609  , 131.851609  ,\n",
       "       131.851609  , 131.851609  , 131.851609  , 131.851609  ,\n",
       "         0.        ,   0.        ,   0.        ,   0.        ,\n",
       "         0.        ,   0.        ,   0.        ,   0.        ,\n",
       "         0.        ,   0.        , 242.99781355, 242.99781355,\n",
       "       242.99781355, 242.99781355, 242.99781355, 242.99781355,\n",
       "       242.99781355, 242.99781355, 242.99781355, 242.99781355,\n",
       "       208.56532406, 208.56532406, 208.56532406, 208.56532406,\n",
       "       208.56532406, 208.56532406, 208.56532406, 208.56532406,\n",
       "       208.56532406, 208.56532406, 295.5443347 , 295.5443347 ,\n",
       "       295.5443347 , 295.5443347 , 295.5443347 , 295.5443347 ,\n",
       "       295.5443347 , 295.5443347 , 295.5443347 , 295.5443347 ,\n",
       "         0.        ,   0.        ,   0.        ,   0.        ,\n",
       "         0.        ,   0.        ,   0.        ,   0.        ,\n",
       "         0.        ,   0.        ,   0.        ,   0.        ,\n",
       "         0.        ,   0.        ,   0.        ,   0.        ,\n",
       "         0.        ,   0.        ,   0.        ,   0.        ,\n",
       "         0.        ,   0.        ,   0.        ,   0.        ,\n",
       "         0.        ,   0.        ,   0.        ,   0.        ,\n",
       "         0.        ,   0.        ,   0.        ,   0.        ,\n",
       "         0.        ,   0.        ,   0.        ,   0.        ,\n",
       "         0.        ,   0.        ,   0.        ,   0.        ,\n",
       "       206.6881548 , 206.6881548 , 206.6881548 , 206.6881548 ,\n",
       "       206.6881548 , 206.6881548 , 206.6881548 , 206.6881548 ,\n",
       "       206.6881548 , 206.6881548 , 194.44851467, 194.44851467,\n",
       "       194.44851467, 194.44851467, 194.44851467, 194.44851467,\n",
       "       194.44851467, 194.44851467, 194.44851467, 194.44851467,\n",
       "         0.        ,   0.        ,   0.        ,   0.        ,\n",
       "         0.        ,   0.        ,   0.        ,   0.        ,\n",
       "         0.        ,   0.        ,   0.        ,   0.        ,\n",
       "         0.        ,   0.        ,   0.        ,   0.        ,\n",
       "         0.        ,   0.        ,   0.        ,   0.        ,\n",
       "         0.        ,   0.        ,   0.        ,   0.        ,\n",
       "         0.        ,   0.        ,   0.        ,   0.        ,\n",
       "         0.        ,   0.        , 216.09279892, 216.09279892,\n",
       "       216.09279892, 216.09279892, 216.09279892, 216.09279892,\n",
       "       216.09279892, 216.09279892, 216.09279892, 216.09279892,\n",
       "       231.75884143, 231.75884143, 231.75884143, 231.75884143,\n",
       "       231.75884143, 231.75884143, 231.75884143, 231.75884143,\n",
       "       231.75884143, 231.75884143, 205.99318087, 205.99318087,\n",
       "       205.99318087, 205.99318087, 205.99318087, 205.99318087,\n",
       "       205.99318087, 205.99318087, 205.99318087, 205.99318087,\n",
       "        76.26717047,  76.26717047,  76.26717047,  76.26717047,\n",
       "        76.26717047,  76.26717047,  76.26717047,  76.26717047,\n",
       "        76.26717047,  76.26717047,   0.        ,   0.        ,\n",
       "         0.        ,   0.        ,   0.        ,   0.        ,\n",
       "         0.        ,   0.        ,   0.        ,   0.        ,\n",
       "        67.13494094,  67.13494094,  67.13494094,  67.13494094,\n",
       "        67.13494094,  67.13494094,  67.13494094,  67.13494094,\n",
       "        67.13494094,  67.13494094, 210.50861097, 210.50861097,\n",
       "       210.50861097, 210.50861097, 210.50861097, 210.50861097,\n",
       "       210.50861097, 210.50861097, 210.50861097, 210.50861097,\n",
       "       197.59508161, 197.59508161, 197.59508161, 197.59508161,\n",
       "       197.59508161, 197.59508161, 197.59508161, 197.59508161,\n",
       "       197.59508161, 197.59508161,   0.        ,   0.        ,\n",
       "         0.        ,   0.        ,   0.        ,   0.        ,\n",
       "         0.        ,   0.        ,   0.        ,   0.        ,\n",
       "         0.        ,   0.        ,   0.        ,   0.        ,\n",
       "         0.        ,   0.        ,   0.        ,   0.        ,\n",
       "         0.        ,   0.        , 136.86948431, 136.86948431,\n",
       "       136.86948431, 136.86948431, 136.86948431, 136.86948431,\n",
       "       136.86948431, 136.86948431, 136.86948431, 136.86948431,\n",
       "       164.40568867, 164.40568867, 164.40568867, 164.40568867,\n",
       "       164.40568867, 164.40568867, 164.40568867, 164.40568867,\n",
       "       164.40568867, 164.40568867,   0.        ,   0.        ,\n",
       "         0.        ,   0.        ,   0.        ,   0.        ,\n",
       "         0.        ,   0.        ,   0.        ,   0.        ,\n",
       "         0.        ,   0.        ,   0.        ,   0.        ,\n",
       "         0.        ,   0.        ,   0.        ,   0.        ,\n",
       "         0.        ,   0.        , 196.15697212, 196.15697212,\n",
       "       196.15697212, 196.15697212, 196.15697212, 196.15697212,\n",
       "       196.15697212, 196.15697212, 196.15697212, 196.15697212,\n",
       "       179.66695557, 179.66695557, 179.66695557, 179.66695557,\n",
       "       179.66695557, 179.66695557, 179.66695557, 179.66695557,\n",
       "       179.66695557, 179.66695557, 247.34820026, 247.34820026,\n",
       "       247.34820026, 247.34820026, 247.34820026, 247.34820026,\n",
       "       247.34820026, 247.34820026, 247.34820026, 247.34820026,\n",
       "       267.42597203, 267.42597203, 267.42597203, 267.42597203,\n",
       "       267.42597203, 267.42597203, 267.42597203, 267.42597203,\n",
       "       267.42597203, 267.42597203,   0.        ,   0.        ,\n",
       "         0.        ,   0.        ,   0.        ,   0.        ,\n",
       "         0.        ,   0.        ,   0.        ,   0.        ,\n",
       "         0.        ,   0.        ,   0.        ,   0.        ,\n",
       "         0.        ,   0.        ,   0.        ,   0.        ,\n",
       "         0.        ,   0.        ,   0.        ,   0.        ,\n",
       "         0.        ,   0.        ,   0.        ,   0.        ,\n",
       "         0.        ,   0.        ,   0.        ,   0.        ,\n",
       "       124.27133291, 124.27133291, 124.27133291, 124.27133291,\n",
       "       124.27133291, 124.27133291, 124.27133291, 124.27133291,\n",
       "       124.27133291, 124.27133291, 143.07998733, 143.07998733,\n",
       "       143.07998733, 143.07998733, 143.07998733, 143.07998733,\n",
       "       143.07998733, 143.07998733, 143.07998733, 143.07998733,\n",
       "         0.        ,   0.        ,   0.        ,   0.        ,\n",
       "         0.        ,   0.        ,   0.        ,   0.        ,\n",
       "         0.        ,   0.        , 161.75112363, 161.75112363,\n",
       "       161.75112363, 161.75112363, 161.75112363, 161.75112363,\n",
       "       161.75112363, 161.75112363, 161.75112363, 161.75112363,\n",
       "         0.        ,   0.        ,   0.        ,   0.        ,\n",
       "         0.        ,   0.        ,   0.        ,   0.        ,\n",
       "         0.        ,   0.        ,   0.        ,   0.        ,\n",
       "         0.        ,   0.        ,   0.        ,   0.        ,\n",
       "         0.        ,   0.        ,   0.        ,   0.        ,\n",
       "         0.        ,   0.        ,   0.        ,   0.        ,\n",
       "         0.        ,   0.        ,   0.        ,   0.        ,\n",
       "         0.        ,   0.        , 207.30225785, 207.30225785,\n",
       "       207.30225785, 207.30225785, 207.30225785, 207.30225785,\n",
       "       207.30225785, 207.30225785, 207.30225785, 207.30225785,\n",
       "         0.        ,   0.        ,   0.        ,   0.        ,\n",
       "         0.        ,   0.        ,   0.        ,   0.        ,\n",
       "         0.        ,   0.        ,   0.        ,   0.        ,\n",
       "         0.        ,   0.        ,   0.        ,   0.        ,\n",
       "         0.        ,   0.        ,   0.        ,   0.        ,\n",
       "         0.        ,   0.        ,   0.        ,   0.        ,\n",
       "         0.        ,   0.        ,   0.        ,   0.        ,\n",
       "         0.        ,   0.        ,   0.        ,   0.        ,\n",
       "         0.        ,   0.        ,   0.        ,   0.        ,\n",
       "         0.        ,   0.        ,   0.        ,   0.        ,\n",
       "        28.86940177,  28.86940177,  28.86940177,  28.86940177,\n",
       "        28.86940177,  28.86940177,  28.86940177,  28.86940177,\n",
       "        28.86940177,  28.86940177,   0.        ,   0.        ,\n",
       "         0.        ,   0.        ,   0.        ,   0.        ,\n",
       "         0.        ,   0.        ,   0.        ,   0.        ,\n",
       "         0.        ,   0.        ,   0.        ,   0.        ,\n",
       "         0.        ,   0.        ,   0.        ,   0.        ,\n",
       "         0.        ,   0.        , 172.3106164 , 172.3106164 ,\n",
       "       172.3106164 , 172.3106164 , 172.3106164 , 172.3106164 ,\n",
       "       172.3106164 , 172.3106164 , 172.3106164 , 172.3106164 ,\n",
       "        95.25098769,  95.25098769,  95.25098769,  95.25098769,\n",
       "        95.25098769,  95.25098769,  95.25098769,  95.25098769,\n",
       "        95.25098769,  95.25098769,   0.        ,   0.        ,\n",
       "         0.        ,   0.        ,   0.        ,   0.        ,\n",
       "         0.        ,   0.        ,   0.        ,   0.        ,\n",
       "        28.33564482,  28.33564482,  28.33564482,  28.33564482,\n",
       "        28.33564482,  28.33564482,  28.33564482,  28.33564482,\n",
       "        28.33564482,  28.33564482,  39.86782206,  39.86782206,\n",
       "        39.86782206,  39.86782206,  39.86782206,  39.86782206,\n",
       "        39.86782206,  39.86782206,  39.86782206,  39.86782206,\n",
       "         0.        ,   0.        ,   0.        ,   0.        ,\n",
       "         0.        ,   0.        ,   0.        ,   0.        ,\n",
       "         0.        ,   0.        , 277.79173534, 277.79173534,\n",
       "       277.79173534, 277.79173534, 277.79173534, 277.79173534,\n",
       "       277.79173534, 277.79173534, 277.79173534, 277.79173534,\n",
       "       283.51888381, 283.51888381, 283.51888381, 283.51888381,\n",
       "       283.51888381, 283.51888381, 283.51888381, 283.51888381,\n",
       "       283.51888381, 283.51888381,  85.73763734,  85.73763734,\n",
       "        85.73763734,  85.73763734,  85.73763734,  85.73763734,\n",
       "        85.73763734,  85.73763734,  85.73763734,  85.73763734,\n",
       "       114.9919056 , 114.9919056 , 114.9919056 , 114.9919056 ,\n",
       "       114.9919056 , 114.9919056 , 114.9919056 , 114.9919056 ,\n",
       "       114.9919056 , 114.9919056 , 114.9919056 , 114.9919056 ,\n",
       "       114.9919056 , 114.9919056 , 114.9919056 , 114.9919056 ,\n",
       "       114.9919056 , 114.9919056 , 114.9919056 , 114.9919056 ,\n",
       "       177.00260974, 177.00260974, 177.00260974, 177.00260974,\n",
       "       177.00260974, 177.00260974, 177.00260974, 177.00260974,\n",
       "       177.00260974, 177.00260974, 169.76066436, 169.76066436,\n",
       "       169.76066436, 169.76066436, 169.76066436, 169.76066436,\n",
       "       169.76066436, 169.76066436, 169.76066436, 169.76066436,\n",
       "         0.        ,   0.        ,   0.        ,   0.        ,\n",
       "         0.        ,   0.        ,   0.        ,   0.        ,\n",
       "         0.        ,   0.        ,   0.        ,   0.        ,\n",
       "         0.        ,   0.        ,   0.        ,   0.        ,\n",
       "         0.        ,   0.        ,   0.        ,   0.        ,\n",
       "         0.        ,   0.        ,   0.        ,   0.        ,\n",
       "         0.        ,   0.        ,   0.        ,   0.        ,\n",
       "         0.        ,   0.        ,   0.        ,   0.        ,\n",
       "         0.        ,   0.        ,   0.        ,   0.        ,\n",
       "         0.        ,   0.        ,   0.        ,   0.        ,\n",
       "         0.        ,   0.        ,   0.        ,   0.        ,\n",
       "         0.        ,   0.        ,   0.        ,   0.        ,\n",
       "         0.        ,   0.        ,   0.        ,   0.        ,\n",
       "         0.        ,   0.        ,   0.        ,   0.        ,\n",
       "         0.        ,   0.        ,   0.        ,   0.        ,\n",
       "         0.        ,   0.        ,   0.        ,   0.        ,\n",
       "         0.        ,   0.        ,   0.        ,   0.        ,\n",
       "         0.        ,   0.        ,   0.        ,   0.        ,\n",
       "         0.        ,   0.        ,   0.        ,   0.        ,\n",
       "         0.        ,   0.        ,   0.        ,   0.        ,\n",
       "         0.        ,   0.        ,   0.        ,   0.        ,\n",
       "         0.        ,   0.        ,   0.        ,   0.        ,\n",
       "         0.        ,   0.        , 206.3042806 , 206.3042806 ,\n",
       "       206.3042806 , 206.3042806 , 206.3042806 , 206.3042806 ,\n",
       "       206.3042806 , 206.3042806 , 206.3042806 , 206.3042806 ])"
      ]
     },
     "execution_count": 81,
     "metadata": {},
     "output_type": "execute_result"
    }
   ],
   "source": [
    "np.nan_to_num(avg_distance_coactive_cell_by_sample, copy=False, nan=0.0)"
   ]
  },
  {
   "cell_type": "code",
   "execution_count": 82,
   "metadata": {
    "collapsed": false,
    "scrolled": false
   },
   "outputs": [
    {
     "name": "stderr",
     "output_type": "stream",
     "text": [
      "/home/jma819/.conda/envs/caiman_with_tables/lib/python3.8/site-packages/jupyter_client/jsonutil.py:64: DeprecationWarning: Interpreting naive datetime as local 2021-03-21 14:33:35.444418. Please add timezone info to timestamps.\n",
      "  new_obj[k] = extract_dates(v)\n"
     ]
    },
    {
     "data": {
      "text/plain": [
       "[<matplotlib.lines.Line2D at 0x2b417ce98550>]"
      ]
     },
     "execution_count": 82,
     "metadata": {},
     "output_type": "execute_result"
    },
    {
     "data": {
      "image/png": "[encoded data removed]",
      "text/plain": [
       "<Figure size 432x288 with 1 Axes>"
      ]
     },
     "metadata": {
      "needs_background": "light"
     },
     "output_type": "display_data"
    }
   ],
   "source": [
    "plt.plot(avg_distance_coactive_cell_by_sample[200:400])"
   ]
  },
  {
   "cell_type": "code",
   "execution_count": 84,
   "metadata": {
    "collapsed": false
   },
   "outputs": [
    {
     "name": "stderr",
     "output_type": "stream",
     "text": [
      "/home/jma819/.conda/envs/caiman_with_tables/lib/python3.8/site-packages/jupyter_client/jsonutil.py:64: DeprecationWarning: Interpreting naive datetime as local 2021-03-21 14:33:55.382356. Please add timezone info to timestamps.\n",
      "  new_obj[k] = extract_dates(v)\n"
     ]
    },
    {
     "data": {
      "text/plain": [
       "[<matplotlib.lines.Line2D at 0x2b417cfeaaf0>]"
      ]
     },
     "execution_count": 84,
     "metadata": {},
     "output_type": "execute_result"
    },
    {
     "data": {
      "image/png": "[encoded data removed]",
      "text/plain": [
       "<Figure size 432x288 with 1 Axes>"
      ]
     },
     "metadata": {
      "needs_background": "light"
     },
     "output_type": "display_data"
    }
   ],
   "source": [
    "#plt.plot((binned_session.sum(axis=1)/len(binned_session.columns))[bounds_of_bursting_session[0]:bounds_of_bursting_session[1]])\n",
    "plt.plot((binned_session.sum(axis=1)/len(binned_session.columns))[200:400])"
   ]
  },
  {
   "cell_type": "code",
   "execution_count": null,
   "metadata": {
    "collapsed": true
   },
   "outputs": [],
   "source": [
    "##could do this over entire trace to get sets of coactive cells ?? \n",
    "#then look for large sets of coactivity (greater than 5?)\n",
    "#get total set of individual cells active during periods of coacticity\n",
    "#for each cell in the set, plot the similarity of other cells it was coactive with across all periods\n",
    "#i.e. is this cell always part of the same \"cluster\"\n"
   ]
  },
  {
   "cell_type": "code",
   "execution_count": 23,
   "metadata": {
    "collapsed": false
   },
   "outputs": [
    {
     "name": "stderr",
     "output_type": "stream",
     "text": [
      "/home/jma819/.conda/envs/caiman_with_tables/lib/python3.8/site-packages/jupyter_client/jsonutil.py:64: DeprecationWarning: Interpreting naive datetime as local 2021-03-22 10:57:51.149640. Please add timezone info to timestamps.\n",
      "  new_obj[k] = extract_dates(v)\n"
     ]
    },
    {
     "data": {
      "text/plain": [
       "27"
      ]
     },
     "execution_count": 23,
     "metadata": {},
     "output_type": "execute_result"
    }
   ],
   "source": [
    "C_norm_df_reindexed.columns.levels[0]"
   ]
  },
  {
   "cell_type": "code",
   "execution_count": 77,
   "metadata": {
    "collapsed": false,
    "scrolled": true
   },
   "outputs": [
    {
     "name": "stderr",
     "output_type": "stream",
     "text": [
      "/home/jma819/.conda/envs/caiman_with_tables/lib/python3.8/site-packages/jupyter_client/jsonutil.py:64: DeprecationWarning: Interpreting naive datetime as local 2021-03-21 22:04:33.581904. Please add timezone info to timestamps.\n",
      "  new_obj[k] = extract_dates(v)\n",
      "100%|██████████| 10785/10785 [00:54<00:00, 199.46it/s]\n",
      "100%|██████████| 10785/10785 [00:08<00:00, 1240.94it/s]\n"
     ]
    },
    {
     "name": "stdout",
     "output_type": "stream",
     "text": [
      "savedGRIN039_H14_M8_S53\n"
     ]
    },
    {
     "name": "stderr",
     "output_type": "stream",
     "text": [
      "100%|██████████| 10785/10785 [01:13<00:00, 147.39it/s]\n",
      "100%|██████████| 10785/10785 [00:11<00:00, 924.88it/s]\n",
      "  2%|▏         | 240/10785 [00:00<00:04, 2395.15it/s]"
     ]
    },
    {
     "name": "stdout",
     "output_type": "stream",
     "text": [
      "savedGRIN032_H16_M49_S22\n"
     ]
    },
    {
     "name": "stderr",
     "output_type": "stream",
     "text": [
      "100%|██████████| 10785/10785 [00:04<00:00, 2316.51it/s]\n",
      "100%|██████████| 10785/10785 [00:00<00:00, 86962.88it/s]\n"
     ]
    },
    {
     "name": "stdout",
     "output_type": "stream",
     "text": [
      "savedGRIN012_H17_M46_S35\n"
     ]
    },
    {
     "name": "stderr",
     "output_type": "stream",
     "text": [
      "100%|██████████| 10785/10785 [00:30<00:00, 355.38it/s]\n",
      "100%|██████████| 10785/10785 [00:02<00:00, 4343.83it/s]\n"
     ]
    },
    {
     "name": "stdout",
     "output_type": "stream",
     "text": [
      "savedGRIN027_H13_M29_S44\n"
     ]
    },
    {
     "name": "stderr",
     "output_type": "stream",
     "text": [
      "100%|██████████| 10785/10785 [01:24<00:00, 127.86it/s]\n",
      "100%|██████████| 10785/10785 [00:21<00:00, 498.07it/s]  \n"
     ]
    },
    {
     "name": "stdout",
     "output_type": "stream",
     "text": [
      "savedGRIN032_H17_M30_S22\n"
     ]
    },
    {
     "name": "stderr",
     "output_type": "stream",
     "text": [
      "100%|██████████| 10785/10785 [00:30<00:00, 349.46it/s]\n",
      "100%|██████████| 10785/10785 [00:02<00:00, 4584.67it/s]\n"
     ]
    },
    {
     "name": "stdout",
     "output_type": "stream",
     "text": [
      "savedGRIN034_H15_M28_S2\n"
     ]
    },
    {
     "name": "stderr",
     "output_type": "stream",
     "text": [
      "100%|██████████| 10785/10785 [00:38<00:00, 278.29it/s]\n",
      "100%|██████████| 10785/10785 [00:05<00:00, 2123.40it/s]\n"
     ]
    },
    {
     "name": "stdout",
     "output_type": "stream",
     "text": [
      "savedGRIN039_H12_M26_S54\n"
     ]
    },
    {
     "name": "stderr",
     "output_type": "stream",
     "text": [
      "100%|██████████| 10785/10785 [00:34<00:00, 316.78it/s]\n",
      "100%|██████████| 10785/10785 [00:02<00:00, 4963.63it/s]\n",
      "  0%|          | 0/10785 [00:00<?, ?it/s]"
     ]
    },
    {
     "name": "stdout",
     "output_type": "stream",
     "text": [
      "savedGRIN012_H17_M32_S17\n"
     ]
    },
    {
     "name": "stderr",
     "output_type": "stream",
     "text": [
      "100%|██████████| 10785/10785 [00:21<00:00, 492.33it/s]\n",
      "100%|██████████| 10785/10785 [00:01<00:00, 8221.77it/s]\n",
      "  0%|          | 0/10785 [00:00<?, ?it/s]"
     ]
    },
    {
     "name": "stdout",
     "output_type": "stream",
     "text": [
      "savedGRIN013_H13_M33_S54\n"
     ]
    },
    {
     "name": "stderr",
     "output_type": "stream",
     "text": [
      "100%|██████████| 10785/10785 [00:18<00:00, 590.67it/s]\n",
      "100%|██████████| 10785/10785 [00:00<00:00, 13663.93it/s]\n"
     ]
    },
    {
     "name": "stdout",
     "output_type": "stream",
     "text": [
      "savedGRIN033_H14_M34_S32\n"
     ]
    },
    {
     "name": "stderr",
     "output_type": "stream",
     "text": [
      "100%|██████████| 10785/10785 [00:55<00:00, 196.05it/s]\n",
      "100%|██████████| 10785/10785 [00:08<00:00, 1334.89it/s]\n"
     ]
    },
    {
     "name": "stdout",
     "output_type": "stream",
     "text": [
      "savedGRIN035_H14_M40_S34\n"
     ]
    },
    {
     "name": "stderr",
     "output_type": "stream",
     "text": [
      "100%|██████████| 10785/10785 [01:47<00:00, 100.23it/s]\n",
      "100%|██████████| 10785/10785 [00:28<00:00, 380.05it/s]\n"
     ]
    },
    {
     "name": "stdout",
     "output_type": "stream",
     "text": [
      "savedGRIN038_H13_M37_S23\n"
     ]
    },
    {
     "name": "stderr",
     "output_type": "stream",
     "text": [
      "100%|██████████| 10785/10785 [00:24<00:00, 444.98it/s]\n",
      "100%|██████████| 10785/10785 [00:00<00:00, 12506.43it/s]\n"
     ]
    },
    {
     "name": "stdout",
     "output_type": "stream",
     "text": [
      "savedGRIN034_H19_M0_S18\n"
     ]
    },
    {
     "name": "stderr",
     "output_type": "stream",
     "text": [
      "100%|██████████| 10785/10785 [01:00<00:00, 178.68it/s]\n",
      "100%|██████████| 10785/10785 [00:12<00:00, 857.69it/s]\n"
     ]
    },
    {
     "name": "stdout",
     "output_type": "stream",
     "text": [
      "savedGRIN033_H13_M42_S33\n"
     ]
    },
    {
     "name": "stderr",
     "output_type": "stream",
     "text": [
      "100%|██████████| 10785/10785 [01:26<00:00, 124.12it/s]\n",
      "100%|██████████| 10785/10785 [00:22<00:00, 473.40it/s] \n"
     ]
    },
    {
     "name": "stdout",
     "output_type": "stream",
     "text": [
      "savedGRIN009_H13_M59_S14\n"
     ]
    },
    {
     "name": "stderr",
     "output_type": "stream",
     "text": [
      "100%|██████████| 10785/10785 [00:57<00:00, 187.77it/s]\n",
      "100%|██████████| 10785/10785 [00:06<00:00, 1636.25it/s]\n"
     ]
    },
    {
     "name": "stdout",
     "output_type": "stream",
     "text": [
      "savedGRIN038_H15_M39_S40\n"
     ]
    },
    {
     "name": "stderr",
     "output_type": "stream",
     "text": [
      "100%|██████████| 10785/10785 [00:51<00:00, 210.78it/s]\n",
      "100%|██████████| 10785/10785 [00:05<00:00, 1906.45it/s]\n"
     ]
    },
    {
     "name": "stdout",
     "output_type": "stream",
     "text": [
      "savedGRIN012_H16_M57_S23\n"
     ]
    },
    {
     "name": "stderr",
     "output_type": "stream",
     "text": [
      "100%|██████████| 10785/10785 [01:03<00:00, 170.65it/s]\n",
      "100%|██████████| 10785/10785 [00:07<00:00, 1408.34it/s]\n",
      "  1%|          | 113/10785 [00:00<00:09, 1126.39it/s]"
     ]
    },
    {
     "name": "stdout",
     "output_type": "stream",
     "text": [
      "savedGRIN035_H13_M50_S58\n"
     ]
    },
    {
     "name": "stderr",
     "output_type": "stream",
     "text": [
      "100%|██████████| 10785/10785 [00:09<00:00, 1107.48it/s]\n",
      "100%|██████████| 10785/10785 [00:00<00:00, 44049.19it/s]\n"
     ]
    },
    {
     "name": "stdout",
     "output_type": "stream",
     "text": [
      "savedGRIN039_H12_M33_S29\n"
     ]
    },
    {
     "name": "stderr",
     "output_type": "stream",
     "text": [
      "100%|██████████| 10785/10785 [00:37<00:00, 287.35it/s]\n",
      "100%|██████████| 10785/10785 [00:03<00:00, 2857.81it/s]\n"
     ]
    },
    {
     "name": "stdout",
     "output_type": "stream",
     "text": [
      "savedGRIN018_H17_M41_S43\n"
     ]
    },
    {
     "name": "stderr",
     "output_type": "stream",
     "text": [
      "100%|██████████| 10785/10785 [00:26<00:00, 404.22it/s]\n",
      "100%|██████████| 10785/10785 [00:02<00:00, 5149.35it/s]\n"
     ]
    },
    {
     "name": "stdout",
     "output_type": "stream",
     "text": [
      "savedGRIN018_H16_M13_S53\n"
     ]
    },
    {
     "name": "stderr",
     "output_type": "stream",
     "text": [
      "100%|██████████| 10785/10785 [00:45<00:00, 237.92it/s]\n",
      "100%|██████████| 10785/10785 [00:07<00:00, 1481.61it/s]\n"
     ]
    },
    {
     "name": "stdout",
     "output_type": "stream",
     "text": [
      "savedGRIN026_H16_M35_S34\n"
     ]
    },
    {
     "name": "stderr",
     "output_type": "stream",
     "text": [
      "100%|██████████| 10785/10785 [01:04<00:00, 166.87it/s]\n",
      "100%|██████████| 10785/10785 [00:09<00:00, 1197.07it/s]\n"
     ]
    },
    {
     "name": "stdout",
     "output_type": "stream",
     "text": [
      "savedGRIN038_H11_M57_S0\n"
     ]
    },
    {
     "name": "stderr",
     "output_type": "stream",
     "text": [
      "100%|██████████| 10785/10785 [00:23<00:00, 466.73it/s]\n",
      "100%|██████████| 10785/10785 [00:00<00:00, 16841.03it/s]\n"
     ]
    },
    {
     "name": "stdout",
     "output_type": "stream",
     "text": [
      "savedGRIN034_H16_M13_S22\n"
     ]
    },
    {
     "name": "stderr",
     "output_type": "stream",
     "text": [
      "100%|██████████| 10785/10785 [00:53<00:00, 202.66it/s]\n",
      "100%|██████████| 10785/10785 [00:04<00:00, 2291.54it/s]\n"
     ]
    },
    {
     "name": "stdout",
     "output_type": "stream",
     "text": [
      "savedGRIN035_H13_M31_S20\n"
     ]
    },
    {
     "name": "stderr",
     "output_type": "stream",
     "text": [
      "100%|██████████| 10785/10785 [02:02<00:00, 88.08it/s]\n",
      "100%|██████████| 10785/10785 [00:47<00:00, 226.89it/s]\n"
     ]
    },
    {
     "ename": "OSError",
     "evalue": "Unable to create file (unable to truncate a file which is already open)",
     "output_type": "error",
     "traceback": [
      "\u001b[0;31m---------------------------------------------------------------------------\u001b[0m",
      "\u001b[0;31mOSError\u001b[0m                                   Traceback (most recent call last)",
      "\u001b[0;32m<ipython-input-77-17cefe05d00e>\u001b[0m in \u001b[0;36m<module>\u001b[0;34m\u001b[0m\n\u001b[1;32m     26\u001b[0m \u001b[0;34m\u001b[0m\u001b[0m\n\u001b[1;32m     27\u001b[0m     \u001b[0;31m## save the lists of active cells and the average cluster distance per sample to h5 files\u001b[0m\u001b[0;34m\u001b[0m\u001b[0;34m\u001b[0m\u001b[0;34m\u001b[0m\u001b[0m\n\u001b[0;32m---> 28\u001b[0;31m     \u001b[0mh5_output\u001b[0m \u001b[0;34m=\u001b[0m \u001b[0mh5py\u001b[0m\u001b[0;34m.\u001b[0m\u001b[0mFile\u001b[0m\u001b[0;34m(\u001b[0m\u001b[0;34m'/projects/b1118/miniscope/analysis/spatial_data/spatial_clustering/cluster_size/'\u001b[0m\u001b[0;34m+\u001b[0m\u001b[0msession\u001b[0m\u001b[0;34m+\u001b[0m\u001b[0;34m'_clusters'\u001b[0m\u001b[0;34m,\u001b[0m \u001b[0;34m'w'\u001b[0m\u001b[0;34m)\u001b[0m\u001b[0;34m\u001b[0m\u001b[0;34m\u001b[0m\u001b[0m\n\u001b[0m\u001b[1;32m     29\u001b[0m     \u001b[0;32mfor\u001b[0m \u001b[0msample\u001b[0m \u001b[0;32min\u001b[0m \u001b[0mlist\u001b[0m\u001b[0;34m(\u001b[0m\u001b[0mactive_cells_by_time_whole_session\u001b[0m\u001b[0;34m.\u001b[0m\u001b[0mkeys\u001b[0m\u001b[0;34m(\u001b[0m\u001b[0;34m)\u001b[0m\u001b[0;34m)\u001b[0m\u001b[0;34m:\u001b[0m\u001b[0;34m\u001b[0m\u001b[0;34m\u001b[0m\u001b[0m\n\u001b[1;32m     30\u001b[0m         \u001b[0msub_grp\u001b[0m \u001b[0;34m=\u001b[0m \u001b[0mh5_output\u001b[0m\u001b[0;34m.\u001b[0m\u001b[0mcreate_group\u001b[0m\u001b[0;34m(\u001b[0m\u001b[0mstr\u001b[0m\u001b[0;34m(\u001b[0m\u001b[0msample\u001b[0m\u001b[0;34m)\u001b[0m\u001b[0;34m)\u001b[0m\u001b[0;34m\u001b[0m\u001b[0;34m\u001b[0m\u001b[0m\n",
      "\u001b[0;32m~/.conda/envs/caiman_with_tables/lib/python3.8/site-packages/h5py/_hl/files.py\u001b[0m in \u001b[0;36m__init__\u001b[0;34m(self, name, mode, driver, libver, userblock_size, swmr, rdcc_nslots, rdcc_nbytes, rdcc_w0, track_order, fs_strategy, fs_persist, fs_threshold, **kwds)\u001b[0m\n\u001b[1;32m    422\u001b[0m             \u001b[0;32mwith\u001b[0m \u001b[0mphil\u001b[0m\u001b[0;34m:\u001b[0m\u001b[0;34m\u001b[0m\u001b[0;34m\u001b[0m\u001b[0m\n\u001b[1;32m    423\u001b[0m                 \u001b[0mfapl\u001b[0m \u001b[0;34m=\u001b[0m \u001b[0mmake_fapl\u001b[0m\u001b[0;34m(\u001b[0m\u001b[0mdriver\u001b[0m\u001b[0;34m,\u001b[0m \u001b[0mlibver\u001b[0m\u001b[0;34m,\u001b[0m \u001b[0mrdcc_nslots\u001b[0m\u001b[0;34m,\u001b[0m \u001b[0mrdcc_nbytes\u001b[0m\u001b[0;34m,\u001b[0m \u001b[0mrdcc_w0\u001b[0m\u001b[0;34m,\u001b[0m \u001b[0;34m**\u001b[0m\u001b[0mkwds\u001b[0m\u001b[0;34m)\u001b[0m\u001b[0;34m\u001b[0m\u001b[0;34m\u001b[0m\u001b[0m\n\u001b[0;32m--> 424\u001b[0;31m                 fid = make_fid(name, mode, userblock_size,\n\u001b[0m\u001b[1;32m    425\u001b[0m                                fapl, fcpl=make_fcpl(track_order=track_order, fs_strategy=fs_strategy,\n\u001b[1;32m    426\u001b[0m                                fs_persist=fs_persist, fs_threshold=fs_threshold),\n",
      "\u001b[0;32m~/.conda/envs/caiman_with_tables/lib/python3.8/site-packages/h5py/_hl/files.py\u001b[0m in \u001b[0;36mmake_fid\u001b[0;34m(name, mode, userblock_size, fapl, fcpl, swmr)\u001b[0m\n\u001b[1;32m    194\u001b[0m         \u001b[0mfid\u001b[0m \u001b[0;34m=\u001b[0m \u001b[0mh5f\u001b[0m\u001b[0;34m.\u001b[0m\u001b[0mcreate\u001b[0m\u001b[0;34m(\u001b[0m\u001b[0mname\u001b[0m\u001b[0;34m,\u001b[0m \u001b[0mh5f\u001b[0m\u001b[0;34m.\u001b[0m\u001b[0mACC_EXCL\u001b[0m\u001b[0;34m,\u001b[0m \u001b[0mfapl\u001b[0m\u001b[0;34m=\u001b[0m\u001b[0mfapl\u001b[0m\u001b[0;34m,\u001b[0m \u001b[0mfcpl\u001b[0m\u001b[0;34m=\u001b[0m\u001b[0mfcpl\u001b[0m\u001b[0;34m)\u001b[0m\u001b[0;34m\u001b[0m\u001b[0;34m\u001b[0m\u001b[0m\n\u001b[1;32m    195\u001b[0m     \u001b[0;32melif\u001b[0m \u001b[0mmode\u001b[0m \u001b[0;34m==\u001b[0m \u001b[0;34m'w'\u001b[0m\u001b[0;34m:\u001b[0m\u001b[0;34m\u001b[0m\u001b[0;34m\u001b[0m\u001b[0m\n\u001b[0;32m--> 196\u001b[0;31m         \u001b[0mfid\u001b[0m \u001b[0;34m=\u001b[0m \u001b[0mh5f\u001b[0m\u001b[0;34m.\u001b[0m\u001b[0mcreate\u001b[0m\u001b[0;34m(\u001b[0m\u001b[0mname\u001b[0m\u001b[0;34m,\u001b[0m \u001b[0mh5f\u001b[0m\u001b[0;34m.\u001b[0m\u001b[0mACC_TRUNC\u001b[0m\u001b[0;34m,\u001b[0m \u001b[0mfapl\u001b[0m\u001b[0;34m=\u001b[0m\u001b[0mfapl\u001b[0m\u001b[0;34m,\u001b[0m \u001b[0mfcpl\u001b[0m\u001b[0;34m=\u001b[0m\u001b[0mfcpl\u001b[0m\u001b[0;34m)\u001b[0m\u001b[0;34m\u001b[0m\u001b[0;34m\u001b[0m\u001b[0m\n\u001b[0m\u001b[1;32m    197\u001b[0m     \u001b[0;32melif\u001b[0m \u001b[0mmode\u001b[0m \u001b[0;34m==\u001b[0m \u001b[0;34m'a'\u001b[0m\u001b[0;34m:\u001b[0m\u001b[0;34m\u001b[0m\u001b[0;34m\u001b[0m\u001b[0m\n\u001b[1;32m    198\u001b[0m         \u001b[0;31m# Open in append mode (read/write).\u001b[0m\u001b[0;34m\u001b[0m\u001b[0;34m\u001b[0m\u001b[0;34m\u001b[0m\u001b[0m\n",
      "\u001b[0;32mh5py/_objects.pyx\u001b[0m in \u001b[0;36mh5py._objects.with_phil.wrapper\u001b[0;34m()\u001b[0m\n",
      "\u001b[0;32mh5py/_objects.pyx\u001b[0m in \u001b[0;36mh5py._objects.with_phil.wrapper\u001b[0;34m()\u001b[0m\n",
      "\u001b[0;32mh5py/h5f.pyx\u001b[0m in \u001b[0;36mh5py.h5f.create\u001b[0;34m()\u001b[0m\n",
      "\u001b[0;31mOSError\u001b[0m: Unable to create file (unable to truncate a file which is already open)"
     ]
    }
   ],
   "source": [
    "# bin/binarize cell activity \n",
    "for session in list(C_norm_df_reindexed.columns.levels[0]):\n",
    "    samples_to_forward_smooth = 10\n",
    "    z_score_threshold = 2.5\n",
    "    binned_session = C_norm_df_reindexed[session].apply(utils_jjm.binning_function_uncrop, \n",
    "                                                                  axis=0, args=(samples_to_forward_smooth, z_score_threshold))\n",
    "\n",
    "    cell_com = pd.read_csv('/projects/b1118/miniscope/analysis/spatial_data/spatial_clustering/jones_script_analysis/'+session+'_com_filtered.csv')\n",
    "\n",
    "    #get lists of cell active during sample periods in a given session\n",
    "    active_cells_by_time_whole_session = {}\n",
    "    for sample in tqdm(list(binned_session.index)):\n",
    "        active_cells_by_time_whole_session[sample]=[]\n",
    "        for cell in list(binned_session.columns):\n",
    "            if binned_session.loc[sample][cell]==1:\n",
    "                active_cells_by_time_whole_session[sample].append(cell)\n",
    "\n",
    "    #get the average distance between all cell pairs active during each sample \n",
    "    avg_distance_coactive_cell_by_sample = []\n",
    "    for sample in tqdm(list(active_cells_by_time_whole_session.keys())):\n",
    "        cell_distances = []\n",
    "        for pair in itertools.combinations(active_cells_by_time_whole_session[sample], 2):\n",
    "            cell_distances.append(math.sqrt((cell_com[str(pair[0])][0]-cell_com[str(pair[1])][0])**2+(cell_com[str(pair[0])][1]-cell_com[str(pair[1])][1])**2))    \n",
    "        avg_distance_coactive_cell_by_sample.append(np.mean(cell_distances))\n",
    "    avg_distance_coactive_cell_by_sample = np.array(avg_distance_coactive_cell_by_sample)\n",
    "\n",
    "    ## save the lists of active cells and the average cluster distance per sample to h5 files\n",
    "    h5_output = h5py.File('/projects/b1118/miniscope/analysis/spatial_data/spatial_clustering/cluster_size/'+session+'_clusters.h5', 'w')\n",
    "    for sample in list(active_cells_by_time_whole_session.keys()):\n",
    "        sub_grp = h5_output.create_group(str(sample)) \n",
    "        sub_grp.create_dataset('active cells', data=np.array(active_cells_by_time_whole_session[sample]))\n",
    "    h5_output.create_dataset('average cell distance of active cells', data=avg_distance_coactive_cell_by_sample)\n",
    "    h5_output.close()\n",
    "    print('saved'+session)\n",
    "\n"
   ]
  },
  {
   "cell_type": "code",
   "execution_count": null,
   "metadata": {
    "collapsed": true
   },
   "outputs": [],
   "source": [
    "##analyze cluster sizes by genotype "
   ]
  },
  {
   "cell_type": "code",
   "execution_count": 9,
   "metadata": {
    "collapsed": false
   },
   "outputs": [
    {
     "name": "stderr",
     "output_type": "stream",
     "text": [
      "/home/jma819/.conda/envs/caiman_with_tables/lib/python3.8/site-packages/jupyter_client/jsonutil.py:64: DeprecationWarning: Interpreting naive datetime as local 2021-03-22 14:30:37.385563. Please add timezone info to timestamps.\n",
      "  new_obj[k] = extract_dates(v)\n"
     ]
    }
   ],
   "source": [
    "def concat_by_mouse(df_unsorted):\n",
    "    sorted_by_mouse = {mouse:[] for mouse in list(set([session[0:7] for session in list(df_unsorted.columns)]))}\n",
    "    for mouse in sorted_by_mouse.keys():\n",
    "        for session in list(df_unsorted.columns):\n",
    "            if session[0:7] == mouse:\n",
    "                sorted_by_mouse[mouse].append(df_unsorted[session])\n",
    "    concat_by_mouse_df = pd.DataFrame({mouse:pd.concat(sorted_by_mouse[mouse], axis=1).mean(axis=1) for mouse in list(sorted_by_mouse.keys())})\n",
    "    return(concat_by_mouse_df)"
   ]
  },
  {
   "cell_type": "code",
   "execution_count": 10,
   "metadata": {
    "collapsed": false
   },
   "outputs": [
    {
     "name": "stderr",
     "output_type": "stream",
     "text": [
      "/home/jma819/.conda/envs/caiman_with_tables/lib/python3.8/site-packages/jupyter_client/jsonutil.py:64: DeprecationWarning: Interpreting naive datetime as local 2021-03-22 14:30:38.534897. Please add timezone info to timestamps.\n",
      "  new_obj[k] = extract_dates(v)\n"
     ]
    }
   ],
   "source": [
    "##wt files \n",
    "wt_sessions = ['GRIN039_H14_M8_S53','GRIN039_H12_M33_S29', 'GRIN039_H12_M26_S54', 'GRIN013_H13_M33_S54', 'GRIN027_H13_M29_S44', 'GRIN033_H14_M34_S32', 'GRIN033_H13_M42_S33',\n",
    " 'GRIN032_H17_M30_S22', 'GRIN034_H15_M28_S2', 'GRIN026_H16_M35_S34', 'GRIN032_H16_M49_S22', 'GRIN034_H16_M13_S22', 'GRIN034_H19_M0_S18',\n",
    " 'GRIN035_H13_M50_S58', 'GRIN035_H13_M31_S20', 'GRIN035_H14_M40_S34']\n",
    "\n",
    "#ko files\n",
    "ko_sessions = ['GRIN011_H10_M19_S59', 'GRIN041_H12_M54_S49', 'GRIN009_H13_M59_S14', 'GRIN038_H15_M39_S40', 'GRIN038_H11_M57_S0', 'GRIN038_H13_M37_S23',  \n",
    "               'GRIN018_H17_M41_S43', 'GRIN018_H16_M13_S53', 'GRIN012_H17_M46_S35', 'GRIN012_H17_M32_S17', 'GRIN012_H16_M57_S23']"
   ]
  },
  {
   "cell_type": "code",
   "execution_count": 11,
   "metadata": {
    "collapsed": false,
    "scrolled": true
   },
   "outputs": [
    {
     "name": "stderr",
     "output_type": "stream",
     "text": [
      "/home/jma819/.conda/envs/caiman_with_tables/lib/python3.8/site-packages/jupyter_client/jsonutil.py:64: DeprecationWarning: Interpreting naive datetime as local 2021-03-22 14:30:43.327101. Please add timezone info to timestamps.\n",
      "  new_obj[k] = extract_dates(v)\n"
     ]
    }
   ],
   "source": [
    "cluster_files = glob.glob('/projects/b1118/miniscope/analysis/spatial_data/spatial_clustering/cluster_size/*clusters.h5')"
   ]
  },
  {
   "cell_type": "code",
   "execution_count": 15,
   "metadata": {
    "collapsed": false,
    "scrolled": true
   },
   "outputs": [
    {
     "name": "stderr",
     "output_type": "stream",
     "text": [
      "/home/jma819/.conda/envs/caiman_with_tables/lib/python3.8/site-packages/jupyter_client/jsonutil.py:64: DeprecationWarning: Interpreting naive datetime as local 2021-03-22 14:30:56.909185. Please add timezone info to timestamps.\n",
      "  new_obj[k] = extract_dates(v)\n"
     ]
    }
   ],
   "source": [
    "saved_cluster_info = {}\n",
    "for file in cluster_files:\n",
    "    f = h5py.File(file, 'r')\n",
    "    saved_cluster_info[file.split('/')[-1].strip('_clusters.h5')]=f['average cell distance of active cells'][:]\n",
    "    f.close()"
   ]
  },
  {
   "cell_type": "code",
   "execution_count": 16,
   "metadata": {
    "collapsed": false
   },
   "outputs": [
    {
     "name": "stderr",
     "output_type": "stream",
     "text": [
      "/home/jma819/.conda/envs/caiman_with_tables/lib/python3.8/site-packages/jupyter_client/jsonutil.py:64: DeprecationWarning: Interpreting naive datetime as local 2021-03-22 14:30:59.669830. Please add timezone info to timestamps.\n",
      "  new_obj[k] = extract_dates(v)\n"
     ]
    }
   ],
   "source": [
    "avgs_clusters_per_session_wt = pd.DataFrame({k:v for k,v in zip([session for session in list(saved_cluster_info.keys())], \n",
    "                                             [np.nanmean(cluster_size) for cluster_size in list(saved_cluster_info.values())]) if\n",
    "                             k in wt_sessions}, index=['avgdistance'])\n",
    "avgs_clusters_per_session_ko = pd.DataFrame({k:v for k,v in zip([session for session in list(saved_cluster_info.keys())], \n",
    "                                             [np.nanmean(cluster_size) for cluster_size in list(saved_cluster_info.values())]) if\n",
    "                             k in ko_sessions}, index=['avgdistance'])\n",
    "by_mouse_wt = concat_by_mouse(avgs_clusters_per_session_wt)\n",
    "by_mouse_ko = concat_by_mouse(avgs_clusters_per_session_ko)"
   ]
  },
  {
   "cell_type": "code",
   "execution_count": 19,
   "metadata": {
    "collapsed": false,
    "scrolled": true
   },
   "outputs": [
    {
     "name": "stderr",
     "output_type": "stream",
     "text": [
      "/home/jma819/.conda/envs/caiman_with_tables/lib/python3.8/site-packages/jupyter_client/jsonutil.py:64: DeprecationWarning: Interpreting naive datetime as local 2021-03-22 14:31:10.679874. Please add timezone info to timestamps.\n",
      "  new_obj[k] = extract_dates(v)\n"
     ]
    },
    {
     "data": {
      "image/png": "[encoded data removed]",
      "text/plain": [
       "<Figure size 792x432 with 1 Axes>"
      ]
     },
     "metadata": {
      "needs_background": "light"
     },
     "output_type": "display_data"
    }
   ],
   "source": [
    "plt.rcParams.update({'font.size': 22})\n",
    "plt.scatter(np.zeros(len(by_mouse_wt.loc['avgdistance'])), by_mouse_wt.loc['avgdistance'], s=200, \n",
    "            linewidths=0.5, edgecolors='k')\n",
    "plt.scatter(np.ones(len(by_mouse_ko.loc['avgdistance']))/2, by_mouse_ko.loc['avgdistance'], s=200, \n",
    "            linewidths=0.5, edgecolors='k')\n",
    "plt.ylim((100, 225))\n",
    "plt.xlim((-0.25, 0.75))\n",
    "fig = plt.gcf()\n",
    "fig.set_size_inches(11, 6)\n",
    "ax = plt.gca()\n",
    "ax.set_ylabel('average pairwise distance \\n between coactive cells')\n",
    "ax.axes.get_xaxis().set_visible(False)\n",
    "fig.savefig('/projects/b1118/miniscope/analysis/summaryfigures/avg_pairwise_distance_session.pdf', transparent=True)\n",
    "plt.show()"
   ]
  },
  {
   "cell_type": "code",
   "execution_count": 20,
   "metadata": {
    "collapsed": false
   },
   "outputs": [
    {
     "name": "stderr",
     "output_type": "stream",
     "text": [
      "/home/jma819/.conda/envs/caiman_with_tables/lib/python3.8/site-packages/jupyter_client/jsonutil.py:64: DeprecationWarning: Interpreting naive datetime as local 2021-03-22 14:31:31.796251. Please add timezone info to timestamps.\n",
      "  new_obj[k] = extract_dates(v)\n",
      "/home/jma819/.conda/envs/caiman_with_tables/lib/python3.8/site-packages/ipykernel/ipkernel.py:287: DeprecationWarning: `should_run_async` will not call `transform_cell` automatically in the future. Please pass the result to `transformed_cell` argument and any exception that happen during thetransform in `preprocessing_exc_tuple` in IPython 7.17 and above.\n",
      "  and should_run_async(code)\n"
     ]
    }
   ],
   "source": [
    "##plot cumulative distribution of cluster sizes "
   ]
  },
  {
   "cell_type": "code",
   "execution_count": 75,
   "metadata": {
    "collapsed": false
   },
   "outputs": [
    {
     "name": "stderr",
     "output_type": "stream",
     "text": [
      "/home/jma819/.conda/envs/caiman_with_tables/lib/python3.8/site-packages/jupyter_client/jsonutil.py:64: DeprecationWarning: Interpreting naive datetime as local 2021-03-22 14:50:32.602048. Please add timezone info to timestamps.\n",
      "  new_obj[k] = extract_dates(v)\n"
     ]
    }
   ],
   "source": [
    "clusters_per_session_wt = {k:v for k,v in zip([session for session in list(saved_cluster_info.keys())], \n",
    "                                             [cluster_size for cluster_size in list(saved_cluster_info.values())]) if\n",
    "                             k in wt_sessions}\n",
    "clusters_per_session_ko = {k:v for k,v in zip([session for session in list(saved_cluster_info.keys())], \n",
    "                                             [cluster_size for cluster_size in list(saved_cluster_info.values())]) if\n",
    "                             k in ko_sessions}"
   ]
  },
  {
   "cell_type": "code",
   "execution_count": 76,
   "metadata": {
    "collapsed": false,
    "scrolled": true
   },
   "outputs": [
    {
     "name": "stderr",
     "output_type": "stream",
     "text": [
      "/home/jma819/.conda/envs/caiman_with_tables/lib/python3.8/site-packages/jupyter_client/jsonutil.py:64: DeprecationWarning: Interpreting naive datetime as local 2021-03-22 14:50:33.237656. Please add timezone info to timestamps.\n",
      "  new_obj[k] = extract_dates(v)\n"
     ]
    }
   ],
   "source": [
    "all_cluster_sizes_wt = np.hstack(list(clusters_per_session_wt.values()))\n",
    "all_cluster_sizes_wt = np.nan_to_num(all_cluster_sizes_wt, nan=0.0)\n",
    "all_cluster_sizes_ko = np.hstack(list(clusters_per_session_ko.values()))\n",
    "all_cluster_sizes_ko = np.nan_to_num(all_cluster_sizes_ko, nan=0.0)"
   ]
  },
  {
   "cell_type": "code",
   "execution_count": 80,
   "metadata": {
    "collapsed": false
   },
   "outputs": [
    {
     "name": "stderr",
     "output_type": "stream",
     "text": [
      "/home/jma819/.conda/envs/caiman_with_tables/lib/python3.8/site-packages/jupyter_client/jsonutil.py:64: DeprecationWarning: Interpreting naive datetime as local 2021-03-22 14:51:23.633191. Please add timezone info to timestamps.\n",
      "  new_obj[k] = extract_dates(v)\n",
      "/home/jma819/.conda/envs/caiman_with_tables/lib/python3.8/site-packages/ipykernel/ipkernel.py:287: DeprecationWarning: `should_run_async` will not call `transform_cell` automatically in the future. Please pass the result to `transformed_cell` argument and any exception that happen during thetransform in `preprocessing_exc_tuple` in IPython 7.17 and above.\n",
      "  and should_run_async(code)\n"
     ]
    }
   ],
   "source": [
    "all_wt_clusters_cumulative = stats.cumfreq(all_cluster_sizes_wt, numbins=500, defaultreallimits=(0, 300))\n",
    "all_ko_clusters_cumulative = stats.cumfreq(all_cluster_sizes_ko, numbins=500, defaultreallimits=(0, 300))"
   ]
  },
  {
   "cell_type": "code",
   "execution_count": 81,
   "metadata": {
    "collapsed": false,
    "scrolled": true
   },
   "outputs": [
    {
     "name": "stderr",
     "output_type": "stream",
     "text": [
      "/home/jma819/.conda/envs/caiman_with_tables/lib/python3.8/site-packages/jupyter_client/jsonutil.py:64: DeprecationWarning: Interpreting naive datetime as local 2021-03-22 14:51:24.376707. Please add timezone info to timestamps.\n",
      "  new_obj[k] = extract_dates(v)\n"
     ]
    }
   ],
   "source": [
    "wt_data = all_wt_clusters_cumulative.cumcount/len(all_cluster_sizes_wt)\n",
    "ko_data = all_ko_clusters_cumulative.cumcount/len(all_cluster_sizes_ko)"
   ]
  },
  {
   "cell_type": "code",
   "execution_count": 83,
   "metadata": {
    "collapsed": false,
    "scrolled": true
   },
   "outputs": [
    {
     "name": "stderr",
     "output_type": "stream",
     "text": [
      "/home/jma819/.conda/envs/caiman_with_tables/lib/python3.8/site-packages/jupyter_client/jsonutil.py:64: DeprecationWarning: Interpreting naive datetime as local 2021-03-22 14:52:50.216102. Please add timezone info to timestamps.\n",
      "  new_obj[k] = extract_dates(v)\n",
      "/home/jma819/.conda/envs/caiman_with_tables/lib/python3.8/site-packages/ipykernel/ipkernel.py:287: DeprecationWarning: `should_run_async` will not call `transform_cell` automatically in the future. Please pass the result to `transformed_cell` argument and any exception that happen during thetransform in `preprocessing_exc_tuple` in IPython 7.17 and above.\n",
      "  and should_run_async(code)\n"
     ]
    },
    {
     "data": {
      "image/png": "[encoded data removed]",
      "text/plain": [
       "<Figure size 576x432 with 1 Axes>"
      ]
     },
     "metadata": {
      "needs_background": "light"
     },
     "output_type": "display_data"
    }
   ],
   "source": [
    "plt.plot(np.linspace(0, 300, 500), wt_data, linewidth=7.0)\n",
    "plt.plot(np.linspace(0, 300, 500), ko_data, linewidth=7.0)\n",
    "fig = plt.gcf()\n",
    "fig.set_size_inches(8, 6)\n",
    "ax = plt.gca()\n",
    "ax.set_ylabel('cumulative fraction')\n",
    "ax.set_xlabel('cluster size')\n",
    "fig.savefig('/projects/b1118/miniscope/analysis/summaryfigures/cumulative_cluster_size.pdf', transparent=True)\n",
    "plt.show()"
   ]
  },
  {
   "cell_type": "code",
   "execution_count": null,
   "metadata": {
    "collapsed": true
   },
   "outputs": [],
   "source": [
    "## just analyze cell activity "
   ]
  },
  {
   "cell_type": "code",
   "execution_count": 119,
   "metadata": {
    "collapsed": false
   },
   "outputs": [
    {
     "name": "stderr",
     "output_type": "stream",
     "text": [
      "/home/jma819/.conda/envs/caiman_with_tables/lib/python3.8/site-packages/jupyter_client/jsonutil.py:64: DeprecationWarning: Interpreting naive datetime as local 2021-03-22 12:18:16.124134. Please add timezone info to timestamps.\n",
      "  new_obj[k] = extract_dates(v)\n",
      "/home/jma819/.conda/envs/caiman_with_tables/lib/python3.8/site-packages/ipykernel/ipkernel.py:287: DeprecationWarning: `should_run_async` will not call `transform_cell` automatically in the future. Please pass the result to `transformed_cell` argument and any exception that happen during thetransform in `preprocessing_exc_tuple` in IPython 7.17 and above.\n",
      "  and should_run_async(code)\n",
      "100%|██████████| 27/27 [00:36<00:00,  1.36s/it]\n"
     ]
    }
   ],
   "source": [
    "# bin/binarize cell activity \n",
    "ISIs_by_session = {}\n",
    "for session in tqdm(list(C_norm_df_reindexed.columns.levels[0])):\n",
    "    samples_to_forward_smooth = 5\n",
    "    z_score_threshold = 2.5\n",
    "    binned_session = C_norm_df_reindexed[session].apply(utils_jjm.binning_function_uncrop, \n",
    "                                                                  axis=0, args=(samples_to_forward_smooth, z_score_threshold))\n",
    "    ISIs_by_cell = utils_jjm.get_ISIs_binned_data(np.transpose(binned_session.values), 5, len(np.transpose(binned_session.values)), 0.5)\n",
    "    ISIs_in_session = np.hstack([np.array(ISI_list) for ISI_list in ISIs_by_cell[0]])\n",
    "    ISIs_by_session[session] = ISIs_in_session"
   ]
  },
  {
   "cell_type": "code",
   "execution_count": 120,
   "metadata": {
    "collapsed": false
   },
   "outputs": [
    {
     "name": "stderr",
     "output_type": "stream",
     "text": [
      "/home/jma819/.conda/envs/caiman_with_tables/lib/python3.8/site-packages/jupyter_client/jsonutil.py:64: DeprecationWarning: Interpreting naive datetime as local 2021-03-22 12:20:27.701268. Please add timezone info to timestamps.\n",
      "  new_obj[k] = extract_dates(v)\n"
     ]
    }
   ],
   "source": [
    "ISIs_by_session_wt = {k:v for k,v in zip(ISIs_by_session.keys(),ISIs_by_session.values()) if k in wt_sessions}\n",
    "ISIs_by_session_ko = {k:v for k,v in zip(ISIs_by_session.keys(),ISIs_by_session.values()) if k in ko_sessions}"
   ]
  },
  {
   "cell_type": "code",
   "execution_count": 121,
   "metadata": {
    "collapsed": false
   },
   "outputs": [
    {
     "name": "stderr",
     "output_type": "stream",
     "text": [
      "/home/jma819/.conda/envs/caiman_with_tables/lib/python3.8/site-packages/jupyter_client/jsonutil.py:64: DeprecationWarning: Interpreting naive datetime as local 2021-03-22 12:20:28.762726. Please add timezone info to timestamps.\n",
      "  new_obj[k] = extract_dates(v)\n"
     ]
    }
   ],
   "source": [
    "all_wt_ISIs = np.hstack([ISIs for ISIs in ISIs_by_session_wt.values()])\n",
    "all_ko_ISIs = np.hstack([ISIs for ISIs in ISIs_by_session_ko.values()])"
   ]
  },
  {
   "cell_type": "code",
   "execution_count": 122,
   "metadata": {
    "collapsed": false
   },
   "outputs": [
    {
     "name": "stderr",
     "output_type": "stream",
     "text": [
      "/home/jma819/.conda/envs/caiman_with_tables/lib/python3.8/site-packages/jupyter_client/jsonutil.py:64: DeprecationWarning: Interpreting naive datetime as local 2021-03-22 12:20:29.625380. Please add timezone info to timestamps.\n",
      "  new_obj[k] = extract_dates(v)\n"
     ]
    }
   ],
   "source": [
    "all_wt_ISIs_cumulative = stats.cumfreq(all_wt_ISIs, numbins=1000, defaultreallimits=(0, 2000))\n",
    "wt_data = all_wt_ISIs_cumulative.cumcount/len(all_wt_ISIs)\n",
    "all_ko_ISIs_cumulative = stats.cumfreq(all_ko_ISIs, numbins=1000, defaultreallimits=(0, 2000))\n",
    "ko_data = all_ko_ISIs_cumulative.cumcount/len(all_ko_ISIs)"
   ]
  },
  {
   "cell_type": "code",
   "execution_count": 172,
   "metadata": {
    "collapsed": false
   },
   "outputs": [
    {
     "name": "stderr",
     "output_type": "stream",
     "text": [
      "/home/jma819/.conda/envs/caiman_with_tables/lib/python3.8/site-packages/jupyter_client/jsonutil.py:64: DeprecationWarning: Interpreting naive datetime as local 2021-03-22 13:46:10.085642. Please add timezone info to timestamps.\n",
      "  new_obj[k] = extract_dates(v)\n",
      "/home/jma819/.conda/envs/caiman_with_tables/lib/python3.8/site-packages/ipykernel/ipkernel.py:287: DeprecationWarning: `should_run_async` will not call `transform_cell` automatically in the future. Please pass the result to `transformed_cell` argument and any exception that happen during thetransform in `preprocessing_exc_tuple` in IPython 7.17 and above.\n",
      "  and should_run_async(code)\n"
     ]
    },
    {
     "data": {
      "image/png": "[encoded data removed]",
      "text/plain": [
       "<Figure size 576x432 with 1 Axes>"
      ]
     },
     "metadata": {
      "needs_background": "light"
     },
     "output_type": "display_data"
    }
   ],
   "source": [
    "plt.rcParams.update({'font.size': 22})\n",
    "plt.plot(np.linspace(0, 2000, 1000), wt_data, linewidth=7.0)\n",
    "plt.plot(np.linspace(0, 2000, 1000), ko_data, linewidth=7.0)\n",
    "fig = plt.gcf()\n",
    "fig.set_size_inches(8, 6)\n",
    "ax = plt.gca()\n",
    "ax.set_ylabel('cumulative fraction')\n",
    "ax.set_xlabel('inter event interval (sec)')\n",
    "fig.savefig('/projects/b1118/miniscope/analysis/summaryfigures/event_ISIs.pdf', transparent=True)\n",
    "plt.show()"
   ]
  },
  {
   "cell_type": "code",
   "execution_count": null,
   "metadata": {
    "collapsed": true
   },
   "outputs": [],
   "source": []
  },
  {
   "cell_type": "code",
   "execution_count": null,
   "metadata": {
    "collapsed": true
   },
   "outputs": [],
   "source": []
  },
  {
   "cell_type": "code",
   "execution_count": null,
   "metadata": {
    "collapsed": true
   },
   "outputs": [],
   "source": [
    "\n",
    "\n",
    "\n",
    "\n",
    "\n",
    "\n",
    "\n",
    "\n",
    "\n",
    "\n",
    "\n",
    "\n",
    "\n",
    "\n",
    "\n",
    "\n",
    "\n",
    "\n",
    "\n",
    "\n",
    "\n",
    "\n",
    "\n",
    "\n",
    "\n",
    "\n",
    "\n",
    "\n",
    "\n",
    "\n",
    "\n",
    "\n",
    "\n"
   ]
  }
 ],
 "metadata": {
  "kernelspec": {
   "display_name": "caiman_with_tables",
   "language": "python",
   "name": "caiman_with_tables"
  },
  "language_info": {
   "codemirror_mode": {
    "name": "ipython",
    "version": 3
   },
   "file_extension": ".py",
   "mimetype": "text/x-python",
   "name": "python",
   "nbconvert_exporter": "python",
   "pygments_lexer": "ipython3",
   "version": "3.8.8"
  }
 },
 "nbformat": 4,
 "nbformat_minor": 2
}
