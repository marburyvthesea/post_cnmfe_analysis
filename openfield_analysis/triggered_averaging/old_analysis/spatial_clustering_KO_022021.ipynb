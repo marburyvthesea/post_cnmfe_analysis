{
 "cells": [
  {
   "cell_type": "code",
   "execution_count": 1,
   "metadata": {
    "collapsed": false
   },
   "outputs": [
    {
     "data": {
      "text/html": [
       "<style>.container { width:90% !important; }</style>"
      ],
      "text/plain": [
       "<IPython.core.display.HTML object>"
      ]
     },
     "metadata": {},
     "output_type": "display_data"
    },
    {
     "name": "stderr",
     "output_type": "stream",
     "text": [
      "/home/jma819/.conda/envs/caiman/lib/python3.6/site-packages/sklearn/utils/deprecation.py:144: FutureWarning: The sklearn.decomposition.incremental_pca module is  deprecated in version 0.22 and will be removed in version 0.24. The corresponding classes / functions should instead be imported from sklearn.decomposition. Anything that cannot be imported from sklearn.decomposition is now part of the private API.\n",
      "  warnings.warn(message, FutureWarning)\n"
     ]
    }
   ],
   "source": [
    "from IPython.core.display import display, HTML\n",
    "display(HTML(\"<style>.container { width:90% !important; }</style>\"))\n",
    "import numpy as np\n",
    "import pandas as pd\n",
    "import h5py\n",
    "from tqdm import tqdm\n",
    "import scipy.io as sio\n",
    "from scipy import stats\n",
    "from importlib import reload\n",
    "from matplotlib import pyplot as plt\n",
    "import glob\n",
    "import sys\n",
    "sys.path.append('/home/jma819/post_cmfe_analysis')\n",
    "#sys.path.append('/Users/johnmarshall/Documents/Analysis/PythonAnalysisScripts/post_cmfe_analysis')\n",
    "import python_utils_jjm as utils_jjm\n",
    "import dlc_utils\n",
    "import caiman\n",
    "from sklearn.preprocessing import MinMaxScaler\n",
    "import seaborn as sns\n",
    "import scipy.spatial.distance as dist\n",
    "import itertools\n",
    "import math\n",
    "import warnings\n",
    "%matplotlib inline\n",
    "from matplotlib import pyplot as plt\n",
    "from matplotlib import animation\n",
    "from IPython.display import HTML\n",
    "warnings.filterwarnings(action='once')"
   ]
  },
  {
   "cell_type": "code",
   "execution_count": 2,
   "metadata": {
    "collapsed": false,
    "scrolled": true
   },
   "outputs": [
    {
     "name": "stderr",
     "output_type": "stream",
     "text": [
      "/home/jma819/.conda/envs/caiman/lib/python3.6/site-packages/jupyter_client/jsonutil.py:67: DeprecationWarning: Interpreting naive datetime as local 2021-02-10 17:34:57.196618. Please add timezone info to timestamps.\n",
      "  new_obj[k] = extract_dates(v)\n"
     ]
    },
    {
     "data": {
      "text/plain": [
       "<module 'dlc_utils' from '/home/jma819/post_cmfe_analysis/dlc_utils.py'>"
      ]
     },
     "execution_count": 2,
     "metadata": {},
     "output_type": "execute_result"
    }
   ],
   "source": [
    "reload(utils_jjm)\n",
    "reload(dlc_utils)"
   ]
  },
  {
   "cell_type": "code",
   "execution_count": 3,
   "metadata": {
    "collapsed": false
   },
   "outputs": [
    {
     "name": "stderr",
     "output_type": "stream",
     "text": [
      "/home/jma819/.conda/envs/caiman/lib/python3.6/site-packages/jupyter_client/jsonutil.py:67: DeprecationWarning: Interpreting naive datetime as local 2021-02-10 17:34:58.007827. Please add timezone info to timestamps.\n",
      "  new_obj[k] = extract_dates(v)\n"
     ]
    }
   ],
   "source": [
    "#cnmfe_file_key = pd.read_csv('/Volumes/My_Passport/dlc_analysis/behavcamvideos/open_field_miniscope/cnmfe_key.csv')\n",
    "cnmfe_file_key = pd.read_csv('/projects/p30771/dlc_analysis/openfield_dlc_output/cnmfe_key.csv')"
   ]
  },
  {
   "cell_type": "code",
   "execution_count": 4,
   "metadata": {
    "collapsed": false
   },
   "outputs": [
    {
     "name": "stderr",
     "output_type": "stream",
     "text": [
      "/home/jma819/.conda/envs/caiman/lib/python3.6/site-packages/jupyter_client/jsonutil.py:67: DeprecationWarning: Interpreting naive datetime as local 2021-02-10 17:35:01.493584. Please add timezone info to timestamps.\n",
      "  new_obj[k] = extract_dates(v)\n"
     ]
    }
   ],
   "source": [
    "#cnmfe_base_dir = '/Volumes/My_Passport/cnmfe_analysis_files/batch_output_files/'\n",
    "cnmfe_base_dir = '/projects/p30771/MATLAB/CNMF_E_jjm/quest_MATLAB_cnmfe/batch_output_files/'\n",
    "#'27-Feb_17_33_59_out.mat' '28-Feb_16_21_21_out.mat' '25-Mar_14_22_02_out.mat', '25-Mar_14_22_44_out.mat', '26-Mar_18_33_55_out.mat', '27-Mar_00_26_12_out.mat', '27-Mar_00_48_46_out.mat' throwing error\n",
    "wt_CNMFE_files = ['29-Jan_12_35_06_out.mat','30-Mar_20_39_05_out.mat', '30-Mar_20_45_16_out.mat', '22-Mar_22_52_02_out.mat', '28-Feb_16_10_05_out.mat', '27-Feb_17_32_15_out.mat', '25-Mar_13_27_27_out.mat','27-Feb_17_33_59_out.mat', '28-Feb_16_21_21_out.mat', '25-Mar_14_22_02_out.mat', '25-Mar_14_22_44_out.mat', '26-Mar_18_33_55_out.mat', '27-Mar_00_26_12_out.mat', '27-Mar_00_48_46_out.mat']\n",
    "\n",
    "ko_CNMFE_files = ['30-Jan_16_54_31_out.mat','30-Jan_14_00_19_out.mat','31-Jan_01_43_49_out.mat','31-Jan_00_12_24_out.mat','31-Mar_13_28_15_out.mat', '29-Mar_21_42_20_out.mat', '13-Apr_17_57_40_out.mat', '29-Mar_14_27_55_out.mat', '13-Apr_16_01_20_out.mat',\n",
    "                 '13-Apr_16_11_27_out.mat', '29-Mar_13_39_44_out.mat']"
   ]
  },
  {
   "cell_type": "code",
   "execution_count": 13,
   "metadata": {
    "collapsed": false
   },
   "outputs": [
    {
     "name": "stderr",
     "output_type": "stream",
     "text": [
      "/home/jma819/.conda/envs/caiman/lib/python3.6/site-packages/jupyter_client/jsonutil.py:67: DeprecationWarning: Interpreting naive datetime as local 2021-02-10 17:35:59.916987. Please add timezone info to timestamps.\n",
      "  new_obj[k] = extract_dates(v)\n"
     ]
    }
   ],
   "source": [
    "#tracking_files = ['/Volumes/My_Passport/dlc_analysis/behavcamvideos/open_field_miniscope/'+utils_jjm.find_behavior_tracking(fname, cnmfe_file_key) for fname in wt_CNMFE_files] \n",
    "tracking_files = ['/projects/p30771/dlc_analysis/openfield_dlc_output/'+utils_jjm.find_behavior_tracking(fname, cnmfe_file_key) for fname in ko_CNMFE_files] "
   ]
  },
  {
   "cell_type": "code",
   "execution_count": 14,
   "metadata": {
    "collapsed": false
   },
   "outputs": [
    {
     "name": "stderr",
     "output_type": "stream",
     "text": [
      "/home/jma819/.conda/envs/caiman/lib/python3.6/site-packages/jupyter_client/jsonutil.py:67: DeprecationWarning: Interpreting naive datetime as local 2021-02-10 17:36:00.537779. Please add timezone info to timestamps.\n",
      "  new_obj[k] = extract_dates(v)\n"
     ]
    }
   ],
   "source": [
    "#tracking_files"
   ]
  },
  {
   "cell_type": "code",
   "execution_count": 15,
   "metadata": {
    "collapsed": false
   },
   "outputs": [
    {
     "name": "stderr",
     "output_type": "stream",
     "text": [
      "/home/jma819/.conda/envs/caiman/lib/python3.6/site-packages/jupyter_client/jsonutil.py:67: DeprecationWarning: Interpreting naive datetime as local 2021-02-10 17:36:01.112138. Please add timezone info to timestamps.\n",
      "  new_obj[k] = extract_dates(v)\n"
     ]
    }
   ],
   "source": [
    "CNMFE_dir_paths_list = [str(cnmfe_base_dir+fname) for fname in ko_CNMFE_files]\n",
    "#CNMFE_dir_paths_list"
   ]
  },
  {
   "cell_type": "code",
   "execution_count": 16,
   "metadata": {
    "collapsed": false,
    "scrolled": false
   },
   "outputs": [
    {
     "name": "stderr",
     "output_type": "stream",
     "text": [
      "/home/jma819/.conda/envs/caiman/lib/python3.6/site-packages/jupyter_client/jsonutil.py:67: DeprecationWarning: Interpreting naive datetime as local 2021-02-10 17:36:01.703901. Please add timezone info to timestamps.\n",
      "  new_obj[k] = extract_dates(v)\n"
     ]
    },
    {
     "data": {
      "text/plain": [
       "['/projects/p30771/MATLAB/CNMF_E_jjm/quest_MATLAB_cnmfe/batch_output_files/30-Jan_16_54_31_out.mat',\n",
       " '/projects/p30771/MATLAB/CNMF_E_jjm/quest_MATLAB_cnmfe/batch_output_files/30-Jan_14_00_19_out.mat',\n",
       " '/projects/p30771/MATLAB/CNMF_E_jjm/quest_MATLAB_cnmfe/batch_output_files/31-Jan_01_43_49_out.mat',\n",
       " '/projects/p30771/MATLAB/CNMF_E_jjm/quest_MATLAB_cnmfe/batch_output_files/31-Jan_00_12_24_out.mat',\n",
       " '/projects/p30771/MATLAB/CNMF_E_jjm/quest_MATLAB_cnmfe/batch_output_files/31-Mar_13_28_15_out.mat',\n",
       " '/projects/p30771/MATLAB/CNMF_E_jjm/quest_MATLAB_cnmfe/batch_output_files/29-Mar_21_42_20_out.mat',\n",
       " '/projects/p30771/MATLAB/CNMF_E_jjm/quest_MATLAB_cnmfe/batch_output_files/13-Apr_17_57_40_out.mat',\n",
       " '/projects/p30771/MATLAB/CNMF_E_jjm/quest_MATLAB_cnmfe/batch_output_files/29-Mar_14_27_55_out.mat',\n",
       " '/projects/p30771/MATLAB/CNMF_E_jjm/quest_MATLAB_cnmfe/batch_output_files/13-Apr_16_01_20_out.mat',\n",
       " '/projects/p30771/MATLAB/CNMF_E_jjm/quest_MATLAB_cnmfe/batch_output_files/13-Apr_16_11_27_out.mat',\n",
       " '/projects/p30771/MATLAB/CNMF_E_jjm/quest_MATLAB_cnmfe/batch_output_files/29-Mar_13_39_44_out.mat']"
      ]
     },
     "execution_count": 16,
     "metadata": {},
     "output_type": "execute_result"
    }
   ],
   "source": [
    "CNMFE_dir_paths_list"
   ]
  },
  {
   "cell_type": "code",
   "execution_count": 17,
   "metadata": {
    "collapsed": false,
    "scrolled": true
   },
   "outputs": [
    {
     "name": "stderr",
     "output_type": "stream",
     "text": [
      "/home/jma819/.conda/envs/caiman/lib/python3.6/site-packages/jupyter_client/jsonutil.py:67: DeprecationWarning: Interpreting naive datetime as local 2021-02-10 17:36:06.351395. Please add timezone info to timestamps.\n",
      "  new_obj[k] = extract_dates(v)\n"
     ]
    },
    {
     "data": {
      "text/plain": [
       "['/projects/p30771/dlc_analysis/openfield_dlc_output/GRIN038_H15_M39_S40/GRIN038_H15_M39_S40_dlc_tracking_foranalysis_04142020.csv',\n",
       " '/projects/p30771/dlc_analysis/openfield_dlc_output/GRIN038_H11_M57_S0/GRIN038_H11_M57_S0_dlc_tracking_foranalysis_04142020.csv',\n",
       " '/projects/p30771/dlc_analysis/openfield_dlc_output/GRIN038_H13_M37_S23/GRIN038_H13_M37_S23_dlc_tracking_foranalysis_04142020.csv',\n",
       " '/projects/p30771/dlc_analysis/openfield_dlc_output/GRIN041_H12_M54_S49/GRIN041_H12_M54_S49_dlc_tracking_foranalysis_04142020.csv',\n",
       " '/projects/p30771/dlc_analysis/openfield_dlc_output/GRIN009_H13_M59_S14/GRIN009_H13_M59_S14_dlc_tracking_foranalysis_04142020.csv',\n",
       " '/projects/p30771/dlc_analysis/openfield_dlc_output/GRIN018_H17_M41_S43/GRIN018_H17_M41_S43_dlc_tracking_foranalysis_04142020.csv',\n",
       " '/projects/p30771/dlc_analysis/openfield_dlc_output/GRIN018_H16_M13_S53/GRIN018_H16_M13_S53_dlc_tracking_foranalysis_04142020.csv',\n",
       " '/projects/p30771/dlc_analysis/openfield_dlc_output/GRIN011_H10_M19_S59/GRIN011_H10_M19_S59_dlc_tracking_foranalysis_04142020.csv',\n",
       " '/projects/p30771/dlc_analysis/openfield_dlc_output/GRIN012_H17_M46_S35/GRIN012_H17_M46_S35_dlc_tracking_foranalysis_04142020.csv',\n",
       " '/projects/p30771/dlc_analysis/openfield_dlc_output/GRIN012_H17_M32_S17/GRIN012_H17_M32_S17_dlc_tracking_foranalysis_04142020.csv',\n",
       " '/projects/p30771/dlc_analysis/openfield_dlc_output/GRIN012_H16_M57_S23/GRIN012_H16_M57_S23_dlc_tracking_foranalysis_04142020.csv']"
      ]
     },
     "execution_count": 17,
     "metadata": {},
     "output_type": "execute_result"
    }
   ],
   "source": [
    "tracking_files"
   ]
  },
  {
   "cell_type": "code",
   "execution_count": 18,
   "metadata": {
    "collapsed": false
   },
   "outputs": [
    {
     "name": "stderr",
     "output_type": "stream",
     "text": [
      "/home/jma819/.conda/envs/caiman/lib/python3.6/site-packages/jupyter_client/jsonutil.py:67: DeprecationWarning: Interpreting naive datetime as local 2021-02-10 17:36:12.587730. Please add timezone info to timestamps.\n",
      "  new_obj[k] = extract_dates(v)\n"
     ]
    },
    {
     "name": "stdout",
     "output_type": "stream",
     "text": [
      "/projects/p30771/MATLAB/CNMF_E_jjm/quest_MATLAB_cnmfe/batch_output_files/30-Jan_16_54_31_out.mat\n",
      "/projects/p30771/dlc_analysis/openfield_dlc_output/GRIN038_H15_M39_S40/GRIN038_H15_M39_S40_dlc_tracking_foranalysis_04142020.csv\n",
      "/projects/p30771/MATLAB/CNMF_E_jjm/quest_MATLAB_cnmfe/batch_output_files/30-Jan_14_00_19_out.mat\n",
      "/projects/p30771/dlc_analysis/openfield_dlc_output/GRIN038_H11_M57_S0/GRIN038_H11_M57_S0_dlc_tracking_foranalysis_04142020.csv\n",
      "/projects/p30771/MATLAB/CNMF_E_jjm/quest_MATLAB_cnmfe/batch_output_files/31-Jan_01_43_49_out.mat\n",
      "/projects/p30771/dlc_analysis/openfield_dlc_output/GRIN038_H13_M37_S23/GRIN038_H13_M37_S23_dlc_tracking_foranalysis_04142020.csv\n",
      "/projects/p30771/MATLAB/CNMF_E_jjm/quest_MATLAB_cnmfe/batch_output_files/31-Jan_00_12_24_out.mat\n",
      "/projects/p30771/dlc_analysis/openfield_dlc_output/GRIN041_H12_M54_S49/GRIN041_H12_M54_S49_dlc_tracking_foranalysis_04142020.csv\n",
      "/projects/p30771/MATLAB/CNMF_E_jjm/quest_MATLAB_cnmfe/batch_output_files/31-Mar_13_28_15_out.mat\n",
      "/projects/p30771/dlc_analysis/openfield_dlc_output/GRIN009_H13_M59_S14/GRIN009_H13_M59_S14_dlc_tracking_foranalysis_04142020.csv\n",
      "/projects/p30771/MATLAB/CNMF_E_jjm/quest_MATLAB_cnmfe/batch_output_files/29-Mar_21_42_20_out.mat\n",
      "/projects/p30771/dlc_analysis/openfield_dlc_output/GRIN018_H17_M41_S43/GRIN018_H17_M41_S43_dlc_tracking_foranalysis_04142020.csv\n",
      "/projects/p30771/MATLAB/CNMF_E_jjm/quest_MATLAB_cnmfe/batch_output_files/13-Apr_17_57_40_out.mat\n",
      "/projects/p30771/dlc_analysis/openfield_dlc_output/GRIN018_H16_M13_S53/GRIN018_H16_M13_S53_dlc_tracking_foranalysis_04142020.csv\n",
      "/projects/p30771/MATLAB/CNMF_E_jjm/quest_MATLAB_cnmfe/batch_output_files/29-Mar_14_27_55_out.mat\n",
      "/projects/p30771/dlc_analysis/openfield_dlc_output/GRIN011_H10_M19_S59/GRIN011_H10_M19_S59_dlc_tracking_foranalysis_04142020.csv\n",
      "/projects/p30771/MATLAB/CNMF_E_jjm/quest_MATLAB_cnmfe/batch_output_files/13-Apr_16_01_20_out.mat\n",
      "/projects/p30771/dlc_analysis/openfield_dlc_output/GRIN012_H17_M46_S35/GRIN012_H17_M46_S35_dlc_tracking_foranalysis_04142020.csv\n",
      "/projects/p30771/MATLAB/CNMF_E_jjm/quest_MATLAB_cnmfe/batch_output_files/13-Apr_16_11_27_out.mat\n",
      "/projects/p30771/dlc_analysis/openfield_dlc_output/GRIN012_H17_M32_S17/GRIN012_H17_M32_S17_dlc_tracking_foranalysis_04142020.csv\n",
      "/projects/p30771/MATLAB/CNMF_E_jjm/quest_MATLAB_cnmfe/batch_output_files/29-Mar_13_39_44_out.mat\n",
      "/projects/p30771/dlc_analysis/openfield_dlc_output/GRIN012_H16_M57_S23/GRIN012_H16_M57_S23_dlc_tracking_foranalysis_04142020.csv\n"
     ]
    }
   ],
   "source": [
    "binning_time = 1 # seconds \n",
    "body_part_for_tracking = 'tail_base' #\n",
    "\n",
    "grouped_raw_data = {}\n",
    "success = []\n",
    "failed = []\n",
    "for CNMFE_file, tracking_file in zip(CNMFE_dir_paths_list, tracking_files):\n",
    "    print(CNMFE_file)\n",
    "    print(tracking_file)\n",
    "    try:\n",
    "        # load cell fluorescence \n",
    "        cell_fluorescence = sio.loadmat(CNMFE_file)\n",
    "        C_timedelta = utils_jjm.create_fluorescence_time_delta(cell_fluorescence['C'])\n",
    "        C_normalized = C_timedelta.apply(utils_jjm.normalize).set_index(pd.to_timedelta(np.linspace(0, (len(C_timedelta)-1)*(1/20), len(C_timedelta)), unit='s'), drop=True)\n",
    "        C_z_scored = C_timedelta.apply(stats.zscore).set_index(pd.to_timedelta(np.linspace(0, (len(C_timedelta)-1)*(1/20), len(C_timedelta)), unit='s'), drop=True)\n",
    "        C_normalized_z_scored = C_normalized.apply(stats.zscore).set_index(pd.to_timedelta(np.linspace(0, (len(C_normalized)-1)*(1/20), len(C_normalized)), unit='s'), drop=True)\n",
    "        # create tracking time deltas\n",
    "        interpolated = utils_jjm.prepare_timedelta_dfs(tracking_file)\n",
    "        #C_z_scored_filtered = utils_jjm.filter_out_by_size(C_z_scored, cell_contours, for_dims, 0.6, 100)\n",
    "        #store results \n",
    "        #load spatial components by session\n",
    "        com_df, spatial_components = utils_jjm.return_spatial_info(CNMFE_file, 0.6)\n",
    "        cell_contours, for_dims = utils_jjm.create_contour_layouts(spatial_components)\n",
    "        \n",
    "        #store results \n",
    "        grouped_raw_data[tracking_file.split('/')[-2]] = {'C': C_timedelta, 'C_z_scored': C_z_scored, 'C_normalized': C_normalized, 'C_normalized_z_scored': C_normalized_z_scored, \n",
    "                                                          'interpolated' : interpolated, 'com' : com_df, 'spatial_components' : spatial_components, 'cell_contours': cell_contours,  \n",
    "                                                         'for_dims' : for_dims}\n",
    "        success.append((tracking_file.split('/')[-2], CNMFE_file.split('/')[-1]))\n",
    "    except FileNotFoundError:\n",
    "        failed.append(tracking_file)\n",
    "    except OSError:\n",
    "        failed.append(tracking_file)"
   ]
  },
  {
   "cell_type": "code",
   "execution_count": 19,
   "metadata": {
    "collapsed": false
   },
   "outputs": [
    {
     "name": "stderr",
     "output_type": "stream",
     "text": [
      "/home/jma819/.conda/envs/caiman/lib/python3.6/site-packages/jupyter_client/jsonutil.py:67: DeprecationWarning: Interpreting naive datetime as local 2021-02-10 17:36:33.284731. Please add timezone info to timestamps.\n",
      "  new_obj[k] = extract_dates(v)\n"
     ]
    }
   ],
   "source": [
    "## combine dfs for each session to bin velocity values across dfs\n",
    "#downsample\n",
    "new_sampling_interval = .2\n",
    "V_df = pd.concat([grouped_raw_data[session]['interpolated'].resample(str(new_sampling_interval)+'S').max() \n",
    "                  for session in list(grouped_raw_data.keys())], keys=list(grouped_raw_data.keys()))\n",
    "all_sessions_v_bins = pd.cut(V_df['tail_base'], bins=50)\n",
    "\n",
    "V_df['velocity_bins'] = all_sessions_v_bins"
   ]
  },
  {
   "cell_type": "code",
   "execution_count": 20,
   "metadata": {
    "collapsed": false,
    "scrolled": true
   },
   "outputs": [
    {
     "name": "stderr",
     "output_type": "stream",
     "text": [
      "/home/jma819/.conda/envs/caiman/lib/python3.6/site-packages/jupyter_client/jsonutil.py:67: DeprecationWarning: Interpreting naive datetime as local 2021-02-10 17:36:36.031030. Please add timezone info to timestamps.\n",
      "  new_obj[k] = extract_dates(v)\n"
     ]
    }
   ],
   "source": [
    "#V_df.index"
   ]
  },
  {
   "cell_type": "code",
   "execution_count": 21,
   "metadata": {
    "collapsed": false
   },
   "outputs": [
    {
     "name": "stderr",
     "output_type": "stream",
     "text": [
      "/home/jma819/.conda/envs/caiman/lib/python3.6/site-packages/jupyter_client/jsonutil.py:67: DeprecationWarning: Interpreting naive datetime as local 2021-02-10 17:36:36.864221. Please add timezone info to timestamps.\n",
      "  new_obj[k] = extract_dates(v)\n"
     ]
    },
    {
     "data": {
      "text/plain": [
       "'GRIN038_H13_M37_S23\";\"GRIN041_H12_M54_S49\";\"GRIN009_H13_M59_S14\";\"GRIN018_H17_M41_S43\";\"GRIN018_H16_M13_S53\";\"GRIN011_H10_M19_S59\";\"GRIN012_H17_M32_S17\";\"GRIN012_H16_M57_S23'"
      ]
     },
     "execution_count": 21,
     "metadata": {},
     "output_type": "execute_result"
    }
   ],
   "source": [
    "'\";\"'.join(list(grouped_raw_data.keys()))\n",
    "\n"
   ]
  },
  {
   "cell_type": "code",
   "execution_count": 22,
   "metadata": {
    "collapsed": false,
    "scrolled": true
   },
   "outputs": [
    {
     "name": "stderr",
     "output_type": "stream",
     "text": [
      "/home/jma819/.conda/envs/caiman/lib/python3.6/site-packages/jupyter_client/jsonutil.py:67: DeprecationWarning: Interpreting naive datetime as local 2021-02-10 17:36:46.246078. Please add timezone info to timestamps.\n",
      "  new_obj[k] = extract_dates(v)\n"
     ]
    }
   ],
   "source": [
    "## for spatial clustering start by using z scored data on whole trace as input to event detection function, then try with z score based \n",
    "#on rest or other periods\n",
    "C_traces_filtered_for_analysis = {}\n",
    "com_filtered_for_analysis = {}\n",
    "for session in list(grouped_raw_data.keys()):\n",
    "    # get indicies of small cells \n",
    "    cells_to_drop = np.array([int(cell) for cell in range(1, len(grouped_raw_data[session]['cell_contours'])+1) if \n",
    "                              len(np.array(np.where(grouped_raw_data[session]['for_dims'][cell]>0.6)[0]))<100])\n",
    "    C_traces_filtered = grouped_raw_data[session]['C_normalized_z_scored'].drop(cells_to_drop, axis=1)\n",
    "    \n",
    "    C_traces_filtered_for_analysis[session] = C_traces_filtered.drop('msCamFrame', axis=1)\n",
    "    com_filtered_for_analysis[session] = grouped_raw_data[session]['com'].drop(cells_to_drop, axis=0).transpose()\n",
    "\n",
    "# sets sampling interval to 5Hz to correspond to behavior data \n",
    "C_z_score_df = pd.concat([C_traces_filtered_for_analysis[session].resample(str(new_sampling_interval)+'S').max()\n",
    "                  for session in list(C_traces_filtered_for_analysis.keys())], axis=1, keys=list(C_traces_filtered_for_analysis.keys()))\n",
    "\n",
    "# after downsampling convert back to regular index, timedelta is behaving oddly \n",
    "C_z_score_df_reindexed = pd.concat([C_z_score_df[session].reset_index(drop=True) \n",
    "                                    for session in list(set(C_z_score_df.columns.get_level_values(0)))], axis=1, keys=list(set(C_z_score_df.columns.get_level_values(0))))\n",
    "# drop columns with all nan values\n",
    "C_z_score_df_reindexed.dropna(axis=1, how='all', inplace=True)\n",
    "# create com dataframe\n",
    "#com_df_filtered_for_analysis = pd.concat(com_filtered_for_analysis, axis=0, keys=list(com_filtered_for_analysis.keys()))"
   ]
  },
  {
   "cell_type": "code",
   "execution_count": 23,
   "metadata": {
    "collapsed": false
   },
   "outputs": [
    {
     "name": "stderr",
     "output_type": "stream",
     "text": [
      "/home/jma819/.conda/envs/caiman/lib/python3.6/site-packages/jupyter_client/jsonutil.py:67: DeprecationWarning: Interpreting naive datetime as local 2021-02-10 17:37:19.700461. Please add timezone info to timestamps.\n",
      "  new_obj[k] = extract_dates(v)\n"
     ]
    }
   ],
   "source": [
    "# do same for velocity dataframe\n",
    "V_df_reindexed = pd.concat([V_df.loc[session].reset_index(drop=True)\n",
    "                            for session in list(set(V_df.index.get_level_values(level=0)))], axis=1, keys=list(set(V_df.index.get_level_values(level=0)))) "
   ]
  },
  {
   "cell_type": "code",
   "execution_count": 24,
   "metadata": {
    "collapsed": false,
    "scrolled": true
   },
   "outputs": [
    {
     "name": "stderr",
     "output_type": "stream",
     "text": [
      "/home/jma819/.conda/envs/caiman/lib/python3.6/site-packages/jupyter_client/jsonutil.py:67: DeprecationWarning: Interpreting naive datetime as local 2021-02-10 17:37:20.981411. Please add timezone info to timestamps.\n",
      "  new_obj[k] = extract_dates(v)\n"
     ]
    }
   ],
   "source": [
    "#V_df_reindexed"
   ]
  },
  {
   "cell_type": "code",
   "execution_count": 25,
   "metadata": {
    "collapsed": false,
    "scrolled": true
   },
   "outputs": [
    {
     "name": "stderr",
     "output_type": "stream",
     "text": [
      "/home/jma819/.conda/envs/caiman/lib/python3.6/site-packages/jupyter_client/jsonutil.py:67: DeprecationWarning: Interpreting naive datetime as local 2021-02-10 17:37:27.108781. Please add timezone info to timestamps.\n",
      "  new_obj[k] = extract_dates(v)\n"
     ]
    }
   ],
   "source": [
    "save_directory = '/projects/p30771/miniscope/analysis/OpenFieldAnalysis/spatial_clusters/jones_script_analysis/data/ko/'"
   ]
  },
  {
   "cell_type": "code",
   "execution_count": 26,
   "metadata": {
    "collapsed": false,
    "scrolled": true
   },
   "outputs": [
    {
     "name": "stderr",
     "output_type": "stream",
     "text": [
      "/home/jma819/.conda/envs/caiman/lib/python3.6/site-packages/jupyter_client/jsonutil.py:67: DeprecationWarning: Interpreting naive datetime as local 2021-02-10 17:37:28.439258. Please add timezone info to timestamps.\n",
      "  new_obj[k] = extract_dates(v)\n"
     ]
    }
   ],
   "source": [
    "## save each session csv file individually for loading into MATLAB\n",
    "# using MATLAB readtable function, which will create variable names from column header \n",
    "for session in list(set(C_z_score_df_reindexed.columns.get_level_values(0))):\n",
    "    C_z_score_df_reindexed[session].to_csv(save_directory+session+'_C_traces_filtered.csv')\n",
    "    com_filtered_for_analysis[session].to_csv(save_directory+session+'_com_filtered.csv')"
   ]
  },
  {
   "cell_type": "code",
   "execution_count": 27,
   "metadata": {
    "collapsed": false,
    "scrolled": false
   },
   "outputs": [
    {
     "name": "stderr",
     "output_type": "stream",
     "text": [
      "/home/jma819/.conda/envs/caiman/lib/python3.6/site-packages/jupyter_client/jsonutil.py:67: DeprecationWarning: Interpreting naive datetime as local 2021-02-10 17:37:58.872623. Please add timezone info to timestamps.\n",
      "  new_obj[k] = extract_dates(v)\n"
     ]
    },
    {
     "data": {
      "text/html": [
       "<div>\n",
       "<style scoped>\n",
       "    .dataframe tbody tr th:only-of-type {\n",
       "        vertical-align: middle;\n",
       "    }\n",
       "\n",
       "    .dataframe tbody tr th {\n",
       "        vertical-align: top;\n",
       "    }\n",
       "\n",
       "    .dataframe thead th {\n",
       "        text-align: right;\n",
       "    }\n",
       "</style>\n",
       "<table border=\"1\" class=\"dataframe\">\n",
       "  <thead>\n",
       "    <tr style=\"text-align: right;\">\n",
       "      <th></th>\n",
       "      <th>2</th>\n",
       "      <th>3</th>\n",
       "      <th>4</th>\n",
       "      <th>5</th>\n",
       "      <th>6</th>\n",
       "      <th>7</th>\n",
       "      <th>8</th>\n",
       "      <th>9</th>\n",
       "      <th>10</th>\n",
       "      <th>11</th>\n",
       "      <th>...</th>\n",
       "      <th>252</th>\n",
       "      <th>255</th>\n",
       "      <th>257</th>\n",
       "      <th>264</th>\n",
       "      <th>265</th>\n",
       "      <th>266</th>\n",
       "      <th>267</th>\n",
       "      <th>268</th>\n",
       "      <th>269</th>\n",
       "      <th>270</th>\n",
       "    </tr>\n",
       "  </thead>\n",
       "  <tbody>\n",
       "    <tr>\n",
       "      <th>y</th>\n",
       "      <td>187.796885</td>\n",
       "      <td>170.778945</td>\n",
       "      <td>145.319851</td>\n",
       "      <td>217.997780</td>\n",
       "      <td>241.637899</td>\n",
       "      <td>235.263837</td>\n",
       "      <td>199.322976</td>\n",
       "      <td>333.241219</td>\n",
       "      <td>251.950509</td>\n",
       "      <td>301.055252</td>\n",
       "      <td>...</td>\n",
       "      <td>365.096579</td>\n",
       "      <td>149.560096</td>\n",
       "      <td>297.409452</td>\n",
       "      <td>441.341336</td>\n",
       "      <td>320.056244</td>\n",
       "      <td>133.001992</td>\n",
       "      <td>415.366614</td>\n",
       "      <td>223.686498</td>\n",
       "      <td>301.354713</td>\n",
       "      <td>401.914625</td>\n",
       "    </tr>\n",
       "    <tr>\n",
       "      <th>x</th>\n",
       "      <td>239.045922</td>\n",
       "      <td>180.784003</td>\n",
       "      <td>179.763309</td>\n",
       "      <td>236.755905</td>\n",
       "      <td>140.107529</td>\n",
       "      <td>159.235318</td>\n",
       "      <td>162.753859</td>\n",
       "      <td>226.836190</td>\n",
       "      <td>237.702734</td>\n",
       "      <td>225.342044</td>\n",
       "      <td>...</td>\n",
       "      <td>275.033246</td>\n",
       "      <td>405.785254</td>\n",
       "      <td>207.958762</td>\n",
       "      <td>293.751620</td>\n",
       "      <td>396.273841</td>\n",
       "      <td>207.131505</td>\n",
       "      <td>212.128517</td>\n",
       "      <td>261.383886</td>\n",
       "      <td>314.724032</td>\n",
       "      <td>259.061148</td>\n",
       "    </tr>\n",
       "  </tbody>\n",
       "</table>\n",
       "<p>2 rows × 178 columns</p>\n",
       "</div>"
      ],
      "text/plain": [
       "          2           3           4           5           6           7    \\\n",
       "y  187.796885  170.778945  145.319851  217.997780  241.637899  235.263837   \n",
       "x  239.045922  180.784003  179.763309  236.755905  140.107529  159.235318   \n",
       "\n",
       "          8           9           10          11   ...         252  \\\n",
       "y  199.322976  333.241219  251.950509  301.055252  ...  365.096579   \n",
       "x  162.753859  226.836190  237.702734  225.342044  ...  275.033246   \n",
       "\n",
       "          255         257         264         265         266         267  \\\n",
       "y  149.560096  297.409452  441.341336  320.056244  133.001992  415.366614   \n",
       "x  405.785254  207.958762  293.751620  396.273841  207.131505  212.128517   \n",
       "\n",
       "          268         269         270  \n",
       "y  223.686498  301.354713  401.914625  \n",
       "x  261.383886  314.724032  259.061148  \n",
       "\n",
       "[2 rows x 178 columns]"
      ]
     },
     "execution_count": 27,
     "metadata": {},
     "output_type": "execute_result"
    }
   ],
   "source": [
    "session = 'GRIN038_H13_M37_S23'\n",
    "com_filtered_for_analysis[session]"
   ]
  },
  {
   "cell_type": "code",
   "execution_count": 28,
   "metadata": {
    "collapsed": false
   },
   "outputs": [
    {
     "name": "stderr",
     "output_type": "stream",
     "text": [
      "/home/jma819/.conda/envs/caiman/lib/python3.6/site-packages/jupyter_client/jsonutil.py:67: DeprecationWarning: Interpreting naive datetime as local 2021-02-10 17:38:02.349173. Please add timezone info to timestamps.\n",
      "  new_obj[k] = extract_dates(v)\n"
     ]
    },
    {
     "data": {
      "text/html": [
       "<div>\n",
       "<style scoped>\n",
       "    .dataframe tbody tr th:only-of-type {\n",
       "        vertical-align: middle;\n",
       "    }\n",
       "\n",
       "    .dataframe tbody tr th {\n",
       "        vertical-align: top;\n",
       "    }\n",
       "\n",
       "    .dataframe thead th {\n",
       "        text-align: right;\n",
       "    }\n",
       "</style>\n",
       "<table border=\"1\" class=\"dataframe\">\n",
       "  <thead>\n",
       "    <tr style=\"text-align: right;\">\n",
       "      <th></th>\n",
       "      <th>2</th>\n",
       "      <th>3</th>\n",
       "      <th>4</th>\n",
       "      <th>5</th>\n",
       "      <th>6</th>\n",
       "      <th>7</th>\n",
       "      <th>8</th>\n",
       "      <th>9</th>\n",
       "      <th>10</th>\n",
       "      <th>11</th>\n",
       "      <th>...</th>\n",
       "      <th>252</th>\n",
       "      <th>255</th>\n",
       "      <th>257</th>\n",
       "      <th>264</th>\n",
       "      <th>265</th>\n",
       "      <th>266</th>\n",
       "      <th>267</th>\n",
       "      <th>268</th>\n",
       "      <th>269</th>\n",
       "      <th>270</th>\n",
       "    </tr>\n",
       "  </thead>\n",
       "  <tbody>\n",
       "    <tr>\n",
       "      <th>0</th>\n",
       "      <td>-0.234305</td>\n",
       "      <td>-0.727433</td>\n",
       "      <td>-0.758172</td>\n",
       "      <td>-0.302642</td>\n",
       "      <td>0.672984</td>\n",
       "      <td>-0.116614</td>\n",
       "      <td>0.824765</td>\n",
       "      <td>-0.345302</td>\n",
       "      <td>-0.716999</td>\n",
       "      <td>-0.653851</td>\n",
       "      <td>...</td>\n",
       "      <td>-0.239377</td>\n",
       "      <td>-0.410529</td>\n",
       "      <td>-1.010402</td>\n",
       "      <td>-0.583441</td>\n",
       "      <td>-0.964526</td>\n",
       "      <td>-0.932812</td>\n",
       "      <td>0.001029</td>\n",
       "      <td>-0.943266</td>\n",
       "      <td>0.041748</td>\n",
       "      <td>-0.704566</td>\n",
       "    </tr>\n",
       "    <tr>\n",
       "      <th>1</th>\n",
       "      <td>-0.188130</td>\n",
       "      <td>-0.727433</td>\n",
       "      <td>-0.785327</td>\n",
       "      <td>-0.525217</td>\n",
       "      <td>0.291925</td>\n",
       "      <td>-0.320919</td>\n",
       "      <td>0.344244</td>\n",
       "      <td>-0.345302</td>\n",
       "      <td>-0.716999</td>\n",
       "      <td>-0.653851</td>\n",
       "      <td>...</td>\n",
       "      <td>-0.003858</td>\n",
       "      <td>-0.410529</td>\n",
       "      <td>-1.010402</td>\n",
       "      <td>-0.659226</td>\n",
       "      <td>-0.800508</td>\n",
       "      <td>-0.932812</td>\n",
       "      <td>0.018704</td>\n",
       "      <td>-0.943266</td>\n",
       "      <td>-0.122877</td>\n",
       "      <td>-0.704566</td>\n",
       "    </tr>\n",
       "    <tr>\n",
       "      <th>2</th>\n",
       "      <td>-0.085905</td>\n",
       "      <td>-0.727433</td>\n",
       "      <td>-0.806334</td>\n",
       "      <td>-0.673292</td>\n",
       "      <td>0.032154</td>\n",
       "      <td>-0.457414</td>\n",
       "      <td>0.008011</td>\n",
       "      <td>-0.305996</td>\n",
       "      <td>-0.716999</td>\n",
       "      <td>-0.653851</td>\n",
       "      <td>...</td>\n",
       "      <td>0.254113</td>\n",
       "      <td>-0.410529</td>\n",
       "      <td>-1.010402</td>\n",
       "      <td>-0.694164</td>\n",
       "      <td>-0.159779</td>\n",
       "      <td>-0.932812</td>\n",
       "      <td>0.001126</td>\n",
       "      <td>-0.943266</td>\n",
       "      <td>-0.554734</td>\n",
       "      <td>-0.704566</td>\n",
       "    </tr>\n",
       "    <tr>\n",
       "      <th>3</th>\n",
       "      <td>5.067661</td>\n",
       "      <td>-0.727433</td>\n",
       "      <td>-0.822585</td>\n",
       "      <td>-0.394172</td>\n",
       "      <td>-0.144933</td>\n",
       "      <td>-0.548606</td>\n",
       "      <td>-0.227259</td>\n",
       "      <td>0.951941</td>\n",
       "      <td>-0.716999</td>\n",
       "      <td>-0.653851</td>\n",
       "      <td>...</td>\n",
       "      <td>0.048541</td>\n",
       "      <td>-0.410529</td>\n",
       "      <td>-1.010402</td>\n",
       "      <td>-0.710271</td>\n",
       "      <td>1.477747</td>\n",
       "      <td>-0.932812</td>\n",
       "      <td>-0.011728</td>\n",
       "      <td>-0.943266</td>\n",
       "      <td>-0.767904</td>\n",
       "      <td>-0.704566</td>\n",
       "    </tr>\n",
       "    <tr>\n",
       "      <th>4</th>\n",
       "      <td>13.089135</td>\n",
       "      <td>-0.727433</td>\n",
       "      <td>-0.550476</td>\n",
       "      <td>0.144246</td>\n",
       "      <td>-0.265655</td>\n",
       "      <td>-0.609530</td>\n",
       "      <td>-0.391885</td>\n",
       "      <td>10.264585</td>\n",
       "      <td>-0.035531</td>\n",
       "      <td>-0.653851</td>\n",
       "      <td>...</td>\n",
       "      <td>-0.071396</td>\n",
       "      <td>-0.410529</td>\n",
       "      <td>4.817341</td>\n",
       "      <td>-0.717696</td>\n",
       "      <td>3.893867</td>\n",
       "      <td>-0.932812</td>\n",
       "      <td>-0.021128</td>\n",
       "      <td>-0.943266</td>\n",
       "      <td>-0.873127</td>\n",
       "      <td>-0.704566</td>\n",
       "    </tr>\n",
       "    <tr>\n",
       "      <th>...</th>\n",
       "      <td>...</td>\n",
       "      <td>...</td>\n",
       "      <td>...</td>\n",
       "      <td>...</td>\n",
       "      <td>...</td>\n",
       "      <td>...</td>\n",
       "      <td>...</td>\n",
       "      <td>...</td>\n",
       "      <td>...</td>\n",
       "      <td>...</td>\n",
       "      <td>...</td>\n",
       "      <td>...</td>\n",
       "      <td>...</td>\n",
       "      <td>...</td>\n",
       "      <td>...</td>\n",
       "      <td>...</td>\n",
       "      <td>...</td>\n",
       "      <td>...</td>\n",
       "      <td>...</td>\n",
       "      <td>...</td>\n",
       "      <td>...</td>\n",
       "    </tr>\n",
       "    <tr>\n",
       "      <th>9745</th>\n",
       "      <td>0.050135</td>\n",
       "      <td>-0.691712</td>\n",
       "      <td>-0.292928</td>\n",
       "      <td>-0.868753</td>\n",
       "      <td>0.106539</td>\n",
       "      <td>0.169101</td>\n",
       "      <td>-0.774454</td>\n",
       "      <td>-0.236196</td>\n",
       "      <td>0.019988</td>\n",
       "      <td>0.317833</td>\n",
       "      <td>...</td>\n",
       "      <td>0.841395</td>\n",
       "      <td>-0.311189</td>\n",
       "      <td>-1.009368</td>\n",
       "      <td>-0.723247</td>\n",
       "      <td>-0.294160</td>\n",
       "      <td>-0.704466</td>\n",
       "      <td>0.003001</td>\n",
       "      <td>-0.597368</td>\n",
       "      <td>-0.108745</td>\n",
       "      <td>-0.704449</td>\n",
       "    </tr>\n",
       "    <tr>\n",
       "      <th>9746</th>\n",
       "      <td>0.029958</td>\n",
       "      <td>-0.469921</td>\n",
       "      <td>-0.454629</td>\n",
       "      <td>-0.905917</td>\n",
       "      <td>0.154713</td>\n",
       "      <td>0.185194</td>\n",
       "      <td>-0.774735</td>\n",
       "      <td>-0.270125</td>\n",
       "      <td>0.095866</td>\n",
       "      <td>0.399723</td>\n",
       "      <td>...</td>\n",
       "      <td>0.838987</td>\n",
       "      <td>-0.337250</td>\n",
       "      <td>-1.009731</td>\n",
       "      <td>-0.723553</td>\n",
       "      <td>-0.418030</td>\n",
       "      <td>-0.623483</td>\n",
       "      <td>-0.001619</td>\n",
       "      <td>-0.611841</td>\n",
       "      <td>-0.352247</td>\n",
       "      <td>-0.704482</td>\n",
       "    </tr>\n",
       "    <tr>\n",
       "      <th>9747</th>\n",
       "      <td>-0.030152</td>\n",
       "      <td>-0.459300</td>\n",
       "      <td>-0.185838</td>\n",
       "      <td>-0.929109</td>\n",
       "      <td>0.137717</td>\n",
       "      <td>0.572006</td>\n",
       "      <td>-0.774941</td>\n",
       "      <td>-0.243514</td>\n",
       "      <td>0.076014</td>\n",
       "      <td>0.355426</td>\n",
       "      <td>...</td>\n",
       "      <td>0.845951</td>\n",
       "      <td>-0.344679</td>\n",
       "      <td>-1.009967</td>\n",
       "      <td>-0.587092</td>\n",
       "      <td>-0.519011</td>\n",
       "      <td>-0.614394</td>\n",
       "      <td>-0.003109</td>\n",
       "      <td>-0.129169</td>\n",
       "      <td>-0.240932</td>\n",
       "      <td>-0.704506</td>\n",
       "    </tr>\n",
       "    <tr>\n",
       "      <th>9748</th>\n",
       "      <td>-0.238255</td>\n",
       "      <td>-0.289297</td>\n",
       "      <td>-0.256586</td>\n",
       "      <td>-0.943581</td>\n",
       "      <td>0.001146</td>\n",
       "      <td>-0.036637</td>\n",
       "      <td>-0.775092</td>\n",
       "      <td>-0.252564</td>\n",
       "      <td>-0.058688</td>\n",
       "      <td>0.418954</td>\n",
       "      <td>...</td>\n",
       "      <td>0.702859</td>\n",
       "      <td>-0.259587</td>\n",
       "      <td>-1.010120</td>\n",
       "      <td>-0.189427</td>\n",
       "      <td>-0.601333</td>\n",
       "      <td>-0.529376</td>\n",
       "      <td>-0.046708</td>\n",
       "      <td>-0.084071</td>\n",
       "      <td>-0.397029</td>\n",
       "      <td>-0.704523</td>\n",
       "    </tr>\n",
       "    <tr>\n",
       "      <th>9749</th>\n",
       "      <td>-0.265904</td>\n",
       "      <td>-0.240837</td>\n",
       "      <td>0.000939</td>\n",
       "      <td>-0.952613</td>\n",
       "      <td>-0.193276</td>\n",
       "      <td>-0.431357</td>\n",
       "      <td>-0.578060</td>\n",
       "      <td>-0.231653</td>\n",
       "      <td>-0.212747</td>\n",
       "      <td>0.372859</td>\n",
       "      <td>...</td>\n",
       "      <td>0.471466</td>\n",
       "      <td>-0.410529</td>\n",
       "      <td>-1.010219</td>\n",
       "      <td>-0.351826</td>\n",
       "      <td>-0.668444</td>\n",
       "      <td>-0.415477</td>\n",
       "      <td>-0.046708</td>\n",
       "      <td>-0.119962</td>\n",
       "      <td>-0.683721</td>\n",
       "      <td>-0.704535</td>\n",
       "    </tr>\n",
       "  </tbody>\n",
       "</table>\n",
       "<p>9750 rows × 178 columns</p>\n",
       "</div>"
      ],
      "text/plain": [
       "            2         3         4         5         6         7         8    \\\n",
       "0     -0.234305 -0.727433 -0.758172 -0.302642  0.672984 -0.116614  0.824765   \n",
       "1     -0.188130 -0.727433 -0.785327 -0.525217  0.291925 -0.320919  0.344244   \n",
       "2     -0.085905 -0.727433 -0.806334 -0.673292  0.032154 -0.457414  0.008011   \n",
       "3      5.067661 -0.727433 -0.822585 -0.394172 -0.144933 -0.548606 -0.227259   \n",
       "4     13.089135 -0.727433 -0.550476  0.144246 -0.265655 -0.609530 -0.391885   \n",
       "...         ...       ...       ...       ...       ...       ...       ...   \n",
       "9745   0.050135 -0.691712 -0.292928 -0.868753  0.106539  0.169101 -0.774454   \n",
       "9746   0.029958 -0.469921 -0.454629 -0.905917  0.154713  0.185194 -0.774735   \n",
       "9747  -0.030152 -0.459300 -0.185838 -0.929109  0.137717  0.572006 -0.774941   \n",
       "9748  -0.238255 -0.289297 -0.256586 -0.943581  0.001146 -0.036637 -0.775092   \n",
       "9749  -0.265904 -0.240837  0.000939 -0.952613 -0.193276 -0.431357 -0.578060   \n",
       "\n",
       "            9         10        11   ...       252       255       257  \\\n",
       "0     -0.345302 -0.716999 -0.653851  ... -0.239377 -0.410529 -1.010402   \n",
       "1     -0.345302 -0.716999 -0.653851  ... -0.003858 -0.410529 -1.010402   \n",
       "2     -0.305996 -0.716999 -0.653851  ...  0.254113 -0.410529 -1.010402   \n",
       "3      0.951941 -0.716999 -0.653851  ...  0.048541 -0.410529 -1.010402   \n",
       "4     10.264585 -0.035531 -0.653851  ... -0.071396 -0.410529  4.817341   \n",
       "...         ...       ...       ...  ...       ...       ...       ...   \n",
       "9745  -0.236196  0.019988  0.317833  ...  0.841395 -0.311189 -1.009368   \n",
       "9746  -0.270125  0.095866  0.399723  ...  0.838987 -0.337250 -1.009731   \n",
       "9747  -0.243514  0.076014  0.355426  ...  0.845951 -0.344679 -1.009967   \n",
       "9748  -0.252564 -0.058688  0.418954  ...  0.702859 -0.259587 -1.010120   \n",
       "9749  -0.231653 -0.212747  0.372859  ...  0.471466 -0.410529 -1.010219   \n",
       "\n",
       "           264       265       266       267       268       269       270  \n",
       "0    -0.583441 -0.964526 -0.932812  0.001029 -0.943266  0.041748 -0.704566  \n",
       "1    -0.659226 -0.800508 -0.932812  0.018704 -0.943266 -0.122877 -0.704566  \n",
       "2    -0.694164 -0.159779 -0.932812  0.001126 -0.943266 -0.554734 -0.704566  \n",
       "3    -0.710271  1.477747 -0.932812 -0.011728 -0.943266 -0.767904 -0.704566  \n",
       "4    -0.717696  3.893867 -0.932812 -0.021128 -0.943266 -0.873127 -0.704566  \n",
       "...        ...       ...       ...       ...       ...       ...       ...  \n",
       "9745 -0.723247 -0.294160 -0.704466  0.003001 -0.597368 -0.108745 -0.704449  \n",
       "9746 -0.723553 -0.418030 -0.623483 -0.001619 -0.611841 -0.352247 -0.704482  \n",
       "9747 -0.587092 -0.519011 -0.614394 -0.003109 -0.129169 -0.240932 -0.704506  \n",
       "9748 -0.189427 -0.601333 -0.529376 -0.046708 -0.084071 -0.397029 -0.704523  \n",
       "9749 -0.351826 -0.668444 -0.415477 -0.046708 -0.119962 -0.683721 -0.704535  \n",
       "\n",
       "[9750 rows x 178 columns]"
      ]
     },
     "execution_count": 28,
     "metadata": {},
     "output_type": "execute_result"
    }
   ],
   "source": [
    "C_z_score_df_reindexed[session]"
   ]
  },
  {
   "cell_type": "code",
   "execution_count": null,
   "metadata": {
    "collapsed": true
   },
   "outputs": [],
   "source": [
    "## load up output of jaccard compute from MATLAB"
   ]
  },
  {
   "cell_type": "code",
   "execution_count": 29,
   "metadata": {
    "collapsed": false,
    "scrolled": true
   },
   "outputs": [
    {
     "name": "stderr",
     "output_type": "stream",
     "text": [
      "/home/jma819/.conda/envs/caiman/lib/python3.6/site-packages/jupyter_client/jsonutil.py:67: DeprecationWarning: Interpreting naive datetime as local 2021-02-10 17:41:00.775574. Please add timezone info to timestamps.\n",
      "  new_obj[k] = extract_dates(v)\n"
     ]
    }
   ],
   "source": [
    "#normlBinnedCellJaccards = np.genfromtxt('/projects/p30771/miniscope/analysis/OpenFieldAnalysis/spatial_clusters/jones_script_analysis/data/wt/GRIN039_H12_M26_S54_normlBinnedCellJaccards.csv', delimiter=',')"
   ]
  },
  {
   "cell_type": "code",
   "execution_count": 30,
   "metadata": {
    "collapsed": false
   },
   "outputs": [
    {
     "name": "stderr",
     "output_type": "stream",
     "text": [
      "/home/jma819/.conda/envs/caiman/lib/python3.6/site-packages/jupyter_client/jsonutil.py:67: DeprecationWarning: Interpreting naive datetime as local 2021-02-10 17:41:01.971385. Please add timezone info to timestamps.\n",
      "  new_obj[k] = extract_dates(v)\n"
     ]
    }
   ],
   "source": [
    "data_dir = '/projects/p30771/miniscope/analysis/OpenFieldAnalysis/spatial_clusters/jones_script_analysis/data/ko/'"
   ]
  },
  {
   "cell_type": "code",
   "execution_count": 31,
   "metadata": {
    "collapsed": false
   },
   "outputs": [
    {
     "name": "stderr",
     "output_type": "stream",
     "text": [
      "/home/jma819/.conda/envs/caiman/lib/python3.6/site-packages/jupyter_client/jsonutil.py:67: DeprecationWarning: Interpreting naive datetime as local 2021-02-10 17:41:02.698085. Please add timezone info to timestamps.\n",
      "  new_obj[k] = extract_dates(v)\n"
     ]
    }
   ],
   "source": [
    "normlBinnedCellJaccards = {}\n",
    "for file in glob.glob(data_dir+'*normlBinnedCellJaccards*'):\n",
    "    normlBinnedCellJaccards[file.split('/')[-1].rstrip('_normlBinnedCellJaccards.csv')] = np.genfromtxt(file, delimiter=',')\n",
    "normlBinnedCellJaccards_df = pd.DataFrame(normlBinnedCellJaccards)"
   ]
  },
  {
   "cell_type": "code",
   "execution_count": 32,
   "metadata": {
    "collapsed": false
   },
   "outputs": [
    {
     "name": "stderr",
     "output_type": "stream",
     "text": [
      "/home/jma819/.conda/envs/caiman/lib/python3.6/site-packages/jupyter_client/jsonutil.py:67: DeprecationWarning: Interpreting naive datetime as local 2021-02-10 17:41:04.101245. Please add timezone info to timestamps.\n",
      "  new_obj[k] = extract_dates(v)\n"
     ]
    },
    {
     "data": {
      "text/plain": [
       "0    24.596637\n",
       "1    19.833343\n",
       "2    16.092486\n",
       "3    14.094043\n",
       "4    12.721414\n",
       "dtype: float64"
      ]
     },
     "execution_count": 32,
     "metadata": {},
     "output_type": "execute_result"
    }
   ],
   "source": [
    "normlBinnedCellJaccards_df.mean(axis=1).head()"
   ]
  },
  {
   "cell_type": "code",
   "execution_count": 33,
   "metadata": {
    "collapsed": false
   },
   "outputs": [
    {
     "name": "stderr",
     "output_type": "stream",
     "text": [
      "/home/jma819/.conda/envs/caiman/lib/python3.6/site-packages/jupyter_client/jsonutil.py:67: DeprecationWarning: Interpreting naive datetime as local 2021-02-10 17:41:05.737096. Please add timezone info to timestamps.\n",
      "  new_obj[k] = extract_dates(v)\n"
     ]
    },
    {
     "data": {
      "text/plain": [
       "[<matplotlib.lines.Line2D at 0x2b21041972e8>]"
      ]
     },
     "execution_count": 33,
     "metadata": {},
     "output_type": "execute_result"
    },
    {
     "data": {
      "image/png": "[encoded data removed]",
      "text/plain": [
       "<Figure size 432x288 with 1 Axes>"
      ]
     },
     "metadata": {
      "needs_background": "light"
     },
     "output_type": "display_data"
    }
   ],
   "source": [
    "plt.plot(normlBinnedCellJaccards_df.mean(axis=1))"
   ]
  },
  {
   "cell_type": "code",
   "execution_count": 34,
   "metadata": {
    "collapsed": false,
    "scrolled": false
   },
   "outputs": [
    {
     "name": "stderr",
     "output_type": "stream",
     "text": [
      "/home/jma819/.conda/envs/caiman/lib/python3.6/site-packages/jupyter_client/jsonutil.py:67: DeprecationWarning: Interpreting naive datetime as local 2021-02-10 17:41:12.276745. Please add timezone info to timestamps.\n",
      "  new_obj[k] = extract_dates(v)\n"
     ]
    },
    {
     "data": {
      "text/plain": [
       "[<matplotlib.lines.Line2D at 0x2b2104048128>,\n",
       " <matplotlib.lines.Line2D at 0x2b2104048278>,\n",
       " <matplotlib.lines.Line2D at 0x2b21040483c8>,\n",
       " <matplotlib.lines.Line2D at 0x2b2104048518>,\n",
       " <matplotlib.lines.Line2D at 0x2b2104048668>,\n",
       " <matplotlib.lines.Line2D at 0x2b21040487b8>,\n",
       " <matplotlib.lines.Line2D at 0x2b2104048908>,\n",
       " <matplotlib.lines.Line2D at 0x2b2104048a58>]"
      ]
     },
     "execution_count": 34,
     "metadata": {},
     "output_type": "execute_result"
    },
    {
     "data": {
      "image/png": "[encoded data removed]",
      "text/plain": [
       "<Figure size 432x288 with 1 Axes>"
      ]
     },
     "metadata": {
      "needs_background": "light"
     },
     "output_type": "display_data"
    }
   ],
   "source": [
    "plt.plot(normlBinnedCellJaccards_df)"
   ]
  },
  {
   "cell_type": "code",
   "execution_count": null,
   "metadata": {
    "collapsed": true
   },
   "outputs": [],
   "source": []
  }
 ],
 "metadata": {
  "kernelspec": {
   "display_name": "caiman",
   "language": "python",
   "name": "caiman"
  },
  "language_info": {
   "codemirror_mode": {
    "name": "ipython",
    "version": 3
   },
   "file_extension": ".py",
   "mimetype": "text/x-python",
   "name": "python",
   "nbconvert_exporter": "python",
   "pygments_lexer": "ipython3",
   "version": "3.6.7"
  }
 },
 "nbformat": 4,
 "nbformat_minor": 2
}
