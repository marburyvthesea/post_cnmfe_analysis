{
 "cells": [
  {
   "cell_type": "code",
   "execution_count": 1,
   "metadata": {
    "collapsed": false,
    "scrolled": true
   },
   "outputs": [
    {
     "data": {
      "text/html": [
       "<style>.container { width:90% !important; }</style>"
      ],
      "text/plain": [
       "<IPython.core.display.HTML object>"
      ]
     },
     "metadata": {},
     "output_type": "display_data"
    },
    {
     "name": "stderr",
     "output_type": "stream",
     "text": [
      "/Users/johnmarshall/anaconda3/envs/caiman/lib/python3.6/site-packages/sklearn/utils/deprecation.py:144: FutureWarning: The sklearn.decomposition.incremental_pca module is  deprecated in version 0.22 and will be removed in version 0.24. The corresponding classes / functions should instead be imported from sklearn.decomposition. Anything that cannot be imported from sklearn.decomposition is now part of the private API.\n",
      "  warnings.warn(message, FutureWarning)\n",
      "/Users/johnmarshall/anaconda3/envs/caiman/lib/python3.6/site-packages/tensorflow/python/framework/dtypes.py:526: FutureWarning: Passing (type, 1) or '1type' as a synonym of type is deprecated; in a future version of numpy, it will be understood as (type, (1,)) / '(1,)type'.\n",
      "  _np_qint8 = np.dtype([(\"qint8\", np.int8, 1)])\n",
      "/Users/johnmarshall/anaconda3/envs/caiman/lib/python3.6/site-packages/tensorflow/python/framework/dtypes.py:527: FutureWarning: Passing (type, 1) or '1type' as a synonym of type is deprecated; in a future version of numpy, it will be understood as (type, (1,)) / '(1,)type'.\n",
      "  _np_quint8 = np.dtype([(\"quint8\", np.uint8, 1)])\n",
      "/Users/johnmarshall/anaconda3/envs/caiman/lib/python3.6/site-packages/tensorflow/python/framework/dtypes.py:528: FutureWarning: Passing (type, 1) or '1type' as a synonym of type is deprecated; in a future version of numpy, it will be understood as (type, (1,)) / '(1,)type'.\n",
      "  _np_qint16 = np.dtype([(\"qint16\", np.int16, 1)])\n",
      "/Users/johnmarshall/anaconda3/envs/caiman/lib/python3.6/site-packages/tensorflow/python/framework/dtypes.py:529: FutureWarning: Passing (type, 1) or '1type' as a synonym of type is deprecated; in a future version of numpy, it will be understood as (type, (1,)) / '(1,)type'.\n",
      "  _np_quint16 = np.dtype([(\"quint16\", np.uint16, 1)])\n",
      "/Users/johnmarshall/anaconda3/envs/caiman/lib/python3.6/site-packages/tensorflow/python/framework/dtypes.py:530: FutureWarning: Passing (type, 1) or '1type' as a synonym of type is deprecated; in a future version of numpy, it will be understood as (type, (1,)) / '(1,)type'.\n",
      "  _np_qint32 = np.dtype([(\"qint32\", np.int32, 1)])\n",
      "/Users/johnmarshall/anaconda3/envs/caiman/lib/python3.6/site-packages/tensorflow/python/framework/dtypes.py:535: FutureWarning: Passing (type, 1) or '1type' as a synonym of type is deprecated; in a future version of numpy, it will be understood as (type, (1,)) / '(1,)type'.\n",
      "  np_resource = np.dtype([(\"resource\", np.ubyte, 1)])\n"
     ]
    }
   ],
   "source": [
    "from IPython.core.display import display, HTML\n",
    "display(HTML(\"<style>.container { width:90% !important; }</style>\"))\n",
    "import numpy as np\n",
    "import pandas as pd\n",
    "import h5py\n",
    "from tqdm import tqdm\n",
    "import scipy.io as sio\n",
    "from scipy import stats\n",
    "from importlib import reload\n",
    "from matplotlib import pyplot as plt\n",
    "import sys\n",
    "#sys.path.append('/home/jma819/post_cmfe_analysis')\n",
    "sys.path.append('/Users/johnmarshall/Documents/Analysis/PythonAnalysisScripts/post_cmfe_analysis')\n",
    "import python_utils_jjm as utils_jjm\n",
    "import dlc_utils\n",
    "import caiman\n",
    "import statsmodels.formula.api as smf\n",
    "import scipy.spatial.distance as dist\n",
    "import itertools\n",
    "import math\n",
    "import warnings\n",
    "from sklearn.preprocessing import MinMaxScaler\n",
    "import seaborn as sns\n",
    "warnings.filterwarnings(action='once')"
   ]
  },
  {
   "cell_type": "code",
   "execution_count": 2,
   "metadata": {
    "collapsed": false,
    "scrolled": false
   },
   "outputs": [
    {
     "data": {
      "text/plain": [
       "<module 'dlc_utils' from '/Users/johnmarshall/Documents/Analysis/PythonAnalysisScripts/post_cmfe_analysis/dlc_utils.py'>"
      ]
     },
     "execution_count": 2,
     "metadata": {},
     "output_type": "execute_result"
    }
   ],
   "source": [
    "reload(utils_jjm)\n",
    "reload(dlc_utils)"
   ]
  },
  {
   "cell_type": "code",
   "execution_count": 2,
   "metadata": {
    "collapsed": true
   },
   "outputs": [],
   "source": [
    "cnmfe_file_key = pd.read_csv('/Volumes/My_Passport/dlc_analysis/behavcamvideos/open_field_miniscope/cnmfe_key.csv')\n",
    "#cnmfe_file_key = pd.read_csv('/projects/p30771/dlc_analysis/openfield_dlc_output/cnmfe_file_key.csv')"
   ]
  },
  {
   "cell_type": "code",
   "execution_count": 3,
   "metadata": {
    "collapsed": true
   },
   "outputs": [],
   "source": [
    "cnmfe_base_dir = '/Volumes/My_Passport/cnmfe_analysis_files/batch_output_files/'\n",
    "#cnmfe_base_dir = '/projects/p30771/MATLAB/CNMF_E_jjm/quest_MATLAB_cnmfe/batch_output_files/'\n",
    "wt_CNMFE_file = ['29-Jan_12_35_06_out.mat','30-Mar_20_39_05_out.mat', '30-Mar_20_45_16_out.mat', '27-Feb_17_33_59_out.mat', '22-Mar_22_52_02_out.mat',\n",
    "                 '28-Feb_16_10_05_out.mat', '27-Feb_17_32_15_out.mat', '28-Feb_16_21_21_out.mat', '25-Mar_13_27_27_out.mat',\n",
    "                 '25-Mar_14_22_02_out.mat', '25-Mar_14_22_44_out.mat', '26-Mar_18_33_55_out.mat', '27-Mar_00_26_12_out.mat', '27-Mar_00_48_46_out.mat']\n",
    "\n",
    "ko_CNMFE_files = ['30-Jan_16_54_31_out.mat','30-Jan_14_00_19_out.mat','31-Jan_01_43_49_out.mat','31-Jan_00_12_24_out.mat','31-Mar_13_28_15_out.mat', '29-Mar_21_42_20_out.mat', '13-Apr_17_57_40_out.mat', '29-Mar_14_27_55_out.mat', '13-Apr_16_01_20_out.mat',\n",
    "                 '13-Apr_16_11_27_out.mat', '29-Mar_13_39_44_out.mat']"
   ]
  },
  {
   "cell_type": "code",
   "execution_count": 4,
   "metadata": {
    "collapsed": true
   },
   "outputs": [],
   "source": [
    "tracking_files = ['/Volumes/My_Passport/dlc_analysis/behavcamvideos/open_field_miniscope/'+utils_jjm.find_behavior_tracking(fname, cnmfe_file_key) for fname in wt_CNMFE_file] \n",
    "#tracking_files = ['/projects/p30771/dlc_analysis/openfield_dlc_output/'+utils_jjm.find_behavior_tracking(fname, cnmfe_file_key) for fname in wt_CNMFE_file] "
   ]
  },
  {
   "cell_type": "code",
   "execution_count": 5,
   "metadata": {
    "collapsed": true
   },
   "outputs": [],
   "source": [
    "CNMFE_dir_paths_list = [str(cnmfe_base_dir+fname) for fname in wt_CNMFE_file]\n",
    "#CNMFE_dir_paths_list"
   ]
  },
  {
   "cell_type": "code",
   "execution_count": 6,
   "metadata": {
    "collapsed": true
   },
   "outputs": [],
   "source": [
    "binning_time = 1 # seconds \n",
    "body_part_for_tracking = 'tail_base' #\n",
    "number_of_bins = 50 #\n",
    "polynomial_degree = 2 #\n",
    "\n",
    "grouped_raw_data = {}\n",
    "success = []\n",
    "failed = []\n",
    "for CNMFE_file, tracking_file in zip(CNMFE_dir_paths_list, tracking_files):\n",
    "    #print(CNMFE_file)\n",
    "    #print(tracking_file)\n",
    "    try:\n",
    "        # load cell fluorescence \n",
    "        cell_fluorescence = sio.loadmat(CNMFE_file)\n",
    "        C_timedelta = utils_jjm.create_fluorescence_time_delta(cell_fluorescence['C'])\n",
    "        C_normalized = C_timedelta.apply(utils_jjm.normalize).set_index(pd.to_timedelta(np.linspace(0, (len(C_timedelta)-1)*(1/20), len(C_timedelta)), unit='s'), drop=True)\n",
    "        C_z_scored = C_timedelta.apply(stats.zscore).set_index(pd.to_timedelta(np.linspace(0, (len(C_timedelta)-1)*(1/20), len(C_timedelta)), unit='s'), drop=True)\n",
    "        C_normalized_z_scored = C_normalized.apply(stats.zscore).set_index(pd.to_timedelta(np.linspace(0, (len(C_normalized)-1)*(1/20), len(C_normalized)), unit='s'), drop=True)\n",
    "        # create tracking time deltas\n",
    "        interpolated = utils_jjm.prepare_timedelta_dfs(tracking_file)\n",
    "        #load spatial components by session\n",
    "        com_df, spatial_components = utils_jjm.return_spatial_info(CNMFE_file, 0.6)\n",
    "        cell_contours, for_dims = utils_jjm.create_contour_layouts(spatial_components)\n",
    "        #C_z_scored_filtered = utils_jjm.filter_out_by_size(C_z_scored, cell_contours, for_dims, 0.6, 100)\n",
    "        #store results \n",
    "        grouped_raw_data[tracking_file.split('/')[-2]] = {'C': C_timedelta, 'C_z_scored': C_z_scored, 'C_normalized': C_normalized, 'C_normalized_z_scored': C_normalized_z_scored, \n",
    "                                                          'interpolated' : interpolated, 'com' : com_df, 'spatial_components' : spatial_components, 'cell_contours': cell_contours,  \n",
    "                                                         'for_dims' : for_dims}\n",
    "        success.append((tracking_file.split('/')[-2], CNMFE_file.split('/')[-1]))\n",
    "    except FileNotFoundError:\n",
    "        failed.append(tracking_file)\n",
    "    except OSError:\n",
    "        failed.append(tracking_file)"
   ]
  },
  {
   "cell_type": "markdown",
   "metadata": {},
   "source": [
    "## triggered averaging "
   ]
  },
  {
   "cell_type": "code",
   "execution_count": 7,
   "metadata": {
    "collapsed": true
   },
   "outputs": [],
   "source": [
    "## combine dfs for each session to bin velocity values across dfs\n",
    "#downsample\n",
    "new_sampling_interval = .2\n",
    "V_df = pd.concat([grouped_raw_data[session]['interpolated'].resample(str(new_sampling_interval)+'S').max() \n",
    "                  for session in list(grouped_raw_data.keys())], keys=list(grouped_raw_data.keys()))\n",
    "#bin recording periods by mouse velocity \n",
    "all_sessions_v_bins = pd.cut(V_df['tail_base'], bins=50)\n",
    "\n",
    "V_df['velocity_bins'] = all_sessions_v_bins"
   ]
  },
  {
   "cell_type": "code",
   "execution_count": 8,
   "metadata": {
    "collapsed": false
   },
   "outputs": [
    {
     "data": {
      "text/html": [
       "<div>\n",
       "<style scoped>\n",
       "    .dataframe tbody tr th:only-of-type {\n",
       "        vertical-align: middle;\n",
       "    }\n",
       "\n",
       "    .dataframe tbody tr th {\n",
       "        vertical-align: top;\n",
       "    }\n",
       "\n",
       "    .dataframe thead th {\n",
       "        text-align: right;\n",
       "    }\n",
       "</style>\n",
       "<table border=\"1\" class=\"dataframe\">\n",
       "  <thead>\n",
       "    <tr style=\"text-align: right;\">\n",
       "      <th></th>\n",
       "      <th></th>\n",
       "      <th>index</th>\n",
       "      <th>miniscope_light</th>\n",
       "      <th>tail_base</th>\n",
       "      <th>ear_left</th>\n",
       "      <th>centroid</th>\n",
       "      <th>ear_right</th>\n",
       "      <th>miniscope_light_likelihood</th>\n",
       "      <th>tail_base_likelihood</th>\n",
       "      <th>ear_left_likelihood</th>\n",
       "      <th>centroid_likelihood</th>\n",
       "      <th>ear_right_likelihood</th>\n",
       "      <th>msCam_index</th>\n",
       "      <th>velocity_bins</th>\n",
       "    </tr>\n",
       "  </thead>\n",
       "  <tbody>\n",
       "    <tr>\n",
       "      <th rowspan=\"5\" valign=\"top\">GRIN039_H12_M26_S54</th>\n",
       "      <th>00:00:00</th>\n",
       "      <td>10.01</td>\n",
       "      <td>2.855264</td>\n",
       "      <td>2.171160</td>\n",
       "      <td>2.233086</td>\n",
       "      <td>2.058301</td>\n",
       "      <td>2.024822</td>\n",
       "      <td>1.0</td>\n",
       "      <td>1.0</td>\n",
       "      <td>0.999998</td>\n",
       "      <td>1.000000</td>\n",
       "      <td>1.000000</td>\n",
       "      <td>3.0</td>\n",
       "      <td>(-0.0671, 2.294]</td>\n",
       "    </tr>\n",
       "    <tr>\n",
       "      <th>00:00:00.200000</th>\n",
       "      <td>12.69</td>\n",
       "      <td>2.728127</td>\n",
       "      <td>2.149969</td>\n",
       "      <td>2.264927</td>\n",
       "      <td>2.006667</td>\n",
       "      <td>2.008735</td>\n",
       "      <td>1.0</td>\n",
       "      <td>1.0</td>\n",
       "      <td>0.999968</td>\n",
       "      <td>0.999992</td>\n",
       "      <td>0.999998</td>\n",
       "      <td>7.0</td>\n",
       "      <td>(-0.0671, 2.294]</td>\n",
       "    </tr>\n",
       "    <tr>\n",
       "      <th>00:00:00.400000</th>\n",
       "      <td>15.37</td>\n",
       "      <td>2.600990</td>\n",
       "      <td>2.128777</td>\n",
       "      <td>2.296769</td>\n",
       "      <td>1.955033</td>\n",
       "      <td>1.992648</td>\n",
       "      <td>1.0</td>\n",
       "      <td>1.0</td>\n",
       "      <td>0.999937</td>\n",
       "      <td>0.999983</td>\n",
       "      <td>0.999997</td>\n",
       "      <td>11.0</td>\n",
       "      <td>(-0.0671, 2.294]</td>\n",
       "    </tr>\n",
       "    <tr>\n",
       "      <th>00:00:00.600000</th>\n",
       "      <td>18.05</td>\n",
       "      <td>2.473853</td>\n",
       "      <td>2.107586</td>\n",
       "      <td>2.328611</td>\n",
       "      <td>1.903400</td>\n",
       "      <td>1.976562</td>\n",
       "      <td>1.0</td>\n",
       "      <td>1.0</td>\n",
       "      <td>0.999907</td>\n",
       "      <td>0.999975</td>\n",
       "      <td>0.999995</td>\n",
       "      <td>15.0</td>\n",
       "      <td>(-0.0671, 2.294]</td>\n",
       "    </tr>\n",
       "    <tr>\n",
       "      <th>00:00:00.800000</th>\n",
       "      <td>20.73</td>\n",
       "      <td>2.346716</td>\n",
       "      <td>2.086394</td>\n",
       "      <td>2.360452</td>\n",
       "      <td>1.851766</td>\n",
       "      <td>1.960475</td>\n",
       "      <td>1.0</td>\n",
       "      <td>1.0</td>\n",
       "      <td>0.999876</td>\n",
       "      <td>0.999967</td>\n",
       "      <td>0.999993</td>\n",
       "      <td>19.0</td>\n",
       "      <td>(-0.0671, 2.294]</td>\n",
       "    </tr>\n",
       "  </tbody>\n",
       "</table>\n",
       "</div>"
      ],
      "text/plain": [
       "                                     index  miniscope_light  tail_base  \\\n",
       "GRIN039_H12_M26_S54 00:00:00         10.01         2.855264   2.171160   \n",
       "                    00:00:00.200000  12.69         2.728127   2.149969   \n",
       "                    00:00:00.400000  15.37         2.600990   2.128777   \n",
       "                    00:00:00.600000  18.05         2.473853   2.107586   \n",
       "                    00:00:00.800000  20.73         2.346716   2.086394   \n",
       "\n",
       "                                     ear_left  centroid  ear_right  \\\n",
       "GRIN039_H12_M26_S54 00:00:00         2.233086  2.058301   2.024822   \n",
       "                    00:00:00.200000  2.264927  2.006667   2.008735   \n",
       "                    00:00:00.400000  2.296769  1.955033   1.992648   \n",
       "                    00:00:00.600000  2.328611  1.903400   1.976562   \n",
       "                    00:00:00.800000  2.360452  1.851766   1.960475   \n",
       "\n",
       "                                     miniscope_light_likelihood  \\\n",
       "GRIN039_H12_M26_S54 00:00:00                                1.0   \n",
       "                    00:00:00.200000                         1.0   \n",
       "                    00:00:00.400000                         1.0   \n",
       "                    00:00:00.600000                         1.0   \n",
       "                    00:00:00.800000                         1.0   \n",
       "\n",
       "                                     tail_base_likelihood  \\\n",
       "GRIN039_H12_M26_S54 00:00:00                          1.0   \n",
       "                    00:00:00.200000                   1.0   \n",
       "                    00:00:00.400000                   1.0   \n",
       "                    00:00:00.600000                   1.0   \n",
       "                    00:00:00.800000                   1.0   \n",
       "\n",
       "                                     ear_left_likelihood  centroid_likelihood  \\\n",
       "GRIN039_H12_M26_S54 00:00:00                    0.999998             1.000000   \n",
       "                    00:00:00.200000             0.999968             0.999992   \n",
       "                    00:00:00.400000             0.999937             0.999983   \n",
       "                    00:00:00.600000             0.999907             0.999975   \n",
       "                    00:00:00.800000             0.999876             0.999967   \n",
       "\n",
       "                                     ear_right_likelihood  msCam_index  \\\n",
       "GRIN039_H12_M26_S54 00:00:00                     1.000000          3.0   \n",
       "                    00:00:00.200000              0.999998          7.0   \n",
       "                    00:00:00.400000              0.999997         11.0   \n",
       "                    00:00:00.600000              0.999995         15.0   \n",
       "                    00:00:00.800000              0.999993         19.0   \n",
       "\n",
       "                                        velocity_bins  \n",
       "GRIN039_H12_M26_S54 00:00:00         (-0.0671, 2.294]  \n",
       "                    00:00:00.200000  (-0.0671, 2.294]  \n",
       "                    00:00:00.400000  (-0.0671, 2.294]  \n",
       "                    00:00:00.600000  (-0.0671, 2.294]  \n",
       "                    00:00:00.800000  (-0.0671, 2.294]  "
      ]
     },
     "execution_count": 8,
     "metadata": {},
     "output_type": "execute_result"
    }
   ],
   "source": [
    "V_df.head()"
   ]
  },
  {
   "cell_type": "code",
   "execution_count": 9,
   "metadata": {
    "collapsed": false
   },
   "outputs": [
    {
     "data": {
      "text/html": [
       "<div>\n",
       "<style scoped>\n",
       "    .dataframe tbody tr th:only-of-type {\n",
       "        vertical-align: middle;\n",
       "    }\n",
       "\n",
       "    .dataframe tbody tr th {\n",
       "        vertical-align: top;\n",
       "    }\n",
       "\n",
       "    .dataframe thead th {\n",
       "        text-align: right;\n",
       "    }\n",
       "</style>\n",
       "<table border=\"1\" class=\"dataframe\">\n",
       "  <thead>\n",
       "    <tr style=\"text-align: right;\">\n",
       "      <th></th>\n",
       "      <th>index</th>\n",
       "      <th>miniscope_light</th>\n",
       "      <th>tail_base</th>\n",
       "      <th>ear_left</th>\n",
       "      <th>centroid</th>\n",
       "      <th>ear_right</th>\n",
       "      <th>miniscope_light_likelihood</th>\n",
       "      <th>tail_base_likelihood</th>\n",
       "      <th>ear_left_likelihood</th>\n",
       "      <th>centroid_likelihood</th>\n",
       "      <th>ear_right_likelihood</th>\n",
       "      <th>msCam_index</th>\n",
       "      <th>velocity_bins</th>\n",
       "    </tr>\n",
       "  </thead>\n",
       "  <tbody>\n",
       "    <tr>\n",
       "      <th>00:00:00</th>\n",
       "      <td>19.1850</td>\n",
       "      <td>0.165001</td>\n",
       "      <td>0.281118</td>\n",
       "      <td>0.139150</td>\n",
       "      <td>0.086676</td>\n",
       "      <td>0.142547</td>\n",
       "      <td>0.005841</td>\n",
       "      <td>0.999999</td>\n",
       "      <td>0.041948</td>\n",
       "      <td>0.334162</td>\n",
       "      <td>0.288862</td>\n",
       "      <td>3.0</td>\n",
       "      <td>(-0.0671, 2.294]</td>\n",
       "    </tr>\n",
       "    <tr>\n",
       "      <th>00:00:00.200000</th>\n",
       "      <td>25.1650</td>\n",
       "      <td>0.160264</td>\n",
       "      <td>0.289744</td>\n",
       "      <td>0.144505</td>\n",
       "      <td>0.092245</td>\n",
       "      <td>0.145542</td>\n",
       "      <td>0.005809</td>\n",
       "      <td>0.999999</td>\n",
       "      <td>0.041702</td>\n",
       "      <td>0.333417</td>\n",
       "      <td>0.286158</td>\n",
       "      <td>7.0</td>\n",
       "      <td>(-0.0671, 2.294]</td>\n",
       "    </tr>\n",
       "    <tr>\n",
       "      <th>00:00:00.400000</th>\n",
       "      <td>31.1450</td>\n",
       "      <td>0.155527</td>\n",
       "      <td>0.298371</td>\n",
       "      <td>0.149860</td>\n",
       "      <td>0.097814</td>\n",
       "      <td>0.148536</td>\n",
       "      <td>0.005778</td>\n",
       "      <td>0.999999</td>\n",
       "      <td>0.041457</td>\n",
       "      <td>0.332672</td>\n",
       "      <td>0.283455</td>\n",
       "      <td>11.0</td>\n",
       "      <td>(-0.0671, 2.294]</td>\n",
       "    </tr>\n",
       "    <tr>\n",
       "      <th>00:00:00.600000</th>\n",
       "      <td>37.1250</td>\n",
       "      <td>0.150790</td>\n",
       "      <td>0.306998</td>\n",
       "      <td>0.155215</td>\n",
       "      <td>0.103383</td>\n",
       "      <td>0.151531</td>\n",
       "      <td>0.005746</td>\n",
       "      <td>0.999999</td>\n",
       "      <td>0.041211</td>\n",
       "      <td>0.331927</td>\n",
       "      <td>0.280751</td>\n",
       "      <td>15.0</td>\n",
       "      <td>(-0.0671, 2.294]</td>\n",
       "    </tr>\n",
       "    <tr>\n",
       "      <th>00:00:00.800000</th>\n",
       "      <td>43.1050</td>\n",
       "      <td>0.146053</td>\n",
       "      <td>0.315624</td>\n",
       "      <td>0.160570</td>\n",
       "      <td>0.108952</td>\n",
       "      <td>0.154526</td>\n",
       "      <td>0.005714</td>\n",
       "      <td>0.999999</td>\n",
       "      <td>0.040965</td>\n",
       "      <td>0.331182</td>\n",
       "      <td>0.278047</td>\n",
       "      <td>19.0</td>\n",
       "      <td>(-0.0671, 2.294]</td>\n",
       "    </tr>\n",
       "    <tr>\n",
       "      <th>...</th>\n",
       "      <td>...</td>\n",
       "      <td>...</td>\n",
       "      <td>...</td>\n",
       "      <td>...</td>\n",
       "      <td>...</td>\n",
       "      <td>...</td>\n",
       "      <td>...</td>\n",
       "      <td>...</td>\n",
       "      <td>...</td>\n",
       "      <td>...</td>\n",
       "      <td>...</td>\n",
       "      <td>...</td>\n",
       "      <td>...</td>\n",
       "    </tr>\n",
       "    <tr>\n",
       "      <th>00:21:03.200000</th>\n",
       "      <td>980.0675</td>\n",
       "      <td>0.197392</td>\n",
       "      <td>0.262343</td>\n",
       "      <td>0.198186</td>\n",
       "      <td>0.200420</td>\n",
       "      <td>0.667456</td>\n",
       "      <td>0.021941</td>\n",
       "      <td>0.999867</td>\n",
       "      <td>0.115469</td>\n",
       "      <td>0.329394</td>\n",
       "      <td>0.181410</td>\n",
       "      <td>25267.0</td>\n",
       "      <td>(-0.0671, 2.294]</td>\n",
       "    </tr>\n",
       "    <tr>\n",
       "      <th>00:21:03.400000</th>\n",
       "      <td>984.2775</td>\n",
       "      <td>0.198095</td>\n",
       "      <td>0.262694</td>\n",
       "      <td>0.198357</td>\n",
       "      <td>0.230088</td>\n",
       "      <td>0.766187</td>\n",
       "      <td>0.022248</td>\n",
       "      <td>0.999863</td>\n",
       "      <td>0.116643</td>\n",
       "      <td>0.329047</td>\n",
       "      <td>0.178546</td>\n",
       "      <td>25271.0</td>\n",
       "      <td>(-0.0671, 2.294]</td>\n",
       "    </tr>\n",
       "    <tr>\n",
       "      <th>00:21:03.600000</th>\n",
       "      <td>988.4875</td>\n",
       "      <td>0.198799</td>\n",
       "      <td>0.263044</td>\n",
       "      <td>0.198528</td>\n",
       "      <td>0.259756</td>\n",
       "      <td>0.864918</td>\n",
       "      <td>0.022554</td>\n",
       "      <td>0.999859</td>\n",
       "      <td>0.117816</td>\n",
       "      <td>0.328700</td>\n",
       "      <td>0.175681</td>\n",
       "      <td>25275.0</td>\n",
       "      <td>(-0.0671, 2.294]</td>\n",
       "    </tr>\n",
       "    <tr>\n",
       "      <th>00:21:03.800000</th>\n",
       "      <td>992.6975</td>\n",
       "      <td>0.199503</td>\n",
       "      <td>0.263395</td>\n",
       "      <td>0.198699</td>\n",
       "      <td>0.289423</td>\n",
       "      <td>0.963649</td>\n",
       "      <td>0.022861</td>\n",
       "      <td>0.999855</td>\n",
       "      <td>0.118990</td>\n",
       "      <td>0.328353</td>\n",
       "      <td>0.172817</td>\n",
       "      <td>25279.0</td>\n",
       "      <td>(-0.0671, 2.294]</td>\n",
       "    </tr>\n",
       "    <tr>\n",
       "      <th>00:21:04</th>\n",
       "      <td>993.7500</td>\n",
       "      <td>0.199678</td>\n",
       "      <td>0.263483</td>\n",
       "      <td>0.198742</td>\n",
       "      <td>0.296840</td>\n",
       "      <td>0.988332</td>\n",
       "      <td>0.022938</td>\n",
       "      <td>0.999851</td>\n",
       "      <td>0.119284</td>\n",
       "      <td>0.328006</td>\n",
       "      <td>0.169953</td>\n",
       "      <td>25280.0</td>\n",
       "      <td>(-0.0671, 2.294]</td>\n",
       "    </tr>\n",
       "  </tbody>\n",
       "</table>\n",
       "<p>6321 rows × 13 columns</p>\n",
       "</div>"
      ],
      "text/plain": [
       "                    index  miniscope_light  tail_base  ear_left  centroid  \\\n",
       "00:00:00          19.1850         0.165001   0.281118  0.139150  0.086676   \n",
       "00:00:00.200000   25.1650         0.160264   0.289744  0.144505  0.092245   \n",
       "00:00:00.400000   31.1450         0.155527   0.298371  0.149860  0.097814   \n",
       "00:00:00.600000   37.1250         0.150790   0.306998  0.155215  0.103383   \n",
       "00:00:00.800000   43.1050         0.146053   0.315624  0.160570  0.108952   \n",
       "...                   ...              ...        ...       ...       ...   \n",
       "00:21:03.200000  980.0675         0.197392   0.262343  0.198186  0.200420   \n",
       "00:21:03.400000  984.2775         0.198095   0.262694  0.198357  0.230088   \n",
       "00:21:03.600000  988.4875         0.198799   0.263044  0.198528  0.259756   \n",
       "00:21:03.800000  992.6975         0.199503   0.263395  0.198699  0.289423   \n",
       "00:21:04         993.7500         0.199678   0.263483  0.198742  0.296840   \n",
       "\n",
       "                 ear_right  miniscope_light_likelihood  tail_base_likelihood  \\\n",
       "00:00:00          0.142547                    0.005841              0.999999   \n",
       "00:00:00.200000   0.145542                    0.005809              0.999999   \n",
       "00:00:00.400000   0.148536                    0.005778              0.999999   \n",
       "00:00:00.600000   0.151531                    0.005746              0.999999   \n",
       "00:00:00.800000   0.154526                    0.005714              0.999999   \n",
       "...                    ...                         ...                   ...   \n",
       "00:21:03.200000   0.667456                    0.021941              0.999867   \n",
       "00:21:03.400000   0.766187                    0.022248              0.999863   \n",
       "00:21:03.600000   0.864918                    0.022554              0.999859   \n",
       "00:21:03.800000   0.963649                    0.022861              0.999855   \n",
       "00:21:04          0.988332                    0.022938              0.999851   \n",
       "\n",
       "                 ear_left_likelihood  centroid_likelihood  \\\n",
       "00:00:00                    0.041948             0.334162   \n",
       "00:00:00.200000             0.041702             0.333417   \n",
       "00:00:00.400000             0.041457             0.332672   \n",
       "00:00:00.600000             0.041211             0.331927   \n",
       "00:00:00.800000             0.040965             0.331182   \n",
       "...                              ...                  ...   \n",
       "00:21:03.200000             0.115469             0.329394   \n",
       "00:21:03.400000             0.116643             0.329047   \n",
       "00:21:03.600000             0.117816             0.328700   \n",
       "00:21:03.800000             0.118990             0.328353   \n",
       "00:21:04                    0.119284             0.328006   \n",
       "\n",
       "                 ear_right_likelihood  msCam_index     velocity_bins  \n",
       "00:00:00                     0.288862          3.0  (-0.0671, 2.294]  \n",
       "00:00:00.200000              0.286158          7.0  (-0.0671, 2.294]  \n",
       "00:00:00.400000              0.283455         11.0  (-0.0671, 2.294]  \n",
       "00:00:00.600000              0.280751         15.0  (-0.0671, 2.294]  \n",
       "00:00:00.800000              0.278047         19.0  (-0.0671, 2.294]  \n",
       "...                               ...          ...               ...  \n",
       "00:21:03.200000              0.181410      25267.0  (-0.0671, 2.294]  \n",
       "00:21:03.400000              0.178546      25271.0  (-0.0671, 2.294]  \n",
       "00:21:03.600000              0.175681      25275.0  (-0.0671, 2.294]  \n",
       "00:21:03.800000              0.172817      25279.0  (-0.0671, 2.294]  \n",
       "00:21:04                     0.169953      25280.0  (-0.0671, 2.294]  \n",
       "\n",
       "[6321 rows x 13 columns]"
      ]
     },
     "execution_count": 9,
     "metadata": {},
     "output_type": "execute_result"
    }
   ],
   "source": [
    "V_df.loc['GRIN026_H16_M35_S34']"
   ]
  },
  {
   "cell_type": "code",
   "execution_count": 10,
   "metadata": {
    "collapsed": true
   },
   "outputs": [],
   "source": [
    "#to_save = V_df.loc['GRIN026_H16_M35_S34'].rename(columns={'tail_base':'animal_velocity'})['animal_velocity']"
   ]
  },
  {
   "cell_type": "code",
   "execution_count": 11,
   "metadata": {
    "collapsed": true
   },
   "outputs": [],
   "source": [
    "#to_save.iloc[0:6250].to_csv('/Volumes/My_Passport/cnmfe_analysis_files/OpenFieldAnalysis/2020/GRIN026_H16_M35_S34_animal_velocity_trimmed.csv')"
   ]
  },
  {
   "cell_type": "code",
   "execution_count": 12,
   "metadata": {
    "collapsed": true,
    "scrolled": false
   },
   "outputs": [],
   "source": [
    "#to_save.iloc[0:6250]"
   ]
  },
  {
   "cell_type": "code",
   "execution_count": 13,
   "metadata": {
    "collapsed": true
   },
   "outputs": [],
   "source": [
    "## filters out detected \"cells\" that are smaller than a given pixel threshold (i.e noise)\n",
    "filtered_for_analysis = {}\n",
    "for session in list(grouped_raw_data.keys()):\n",
    "    filtered_for_analysis[session] = utils_jjm.filter_out_by_size(grouped_raw_data[session]['C_normalized_z_scored'], grouped_raw_data[session]['cell_contours'], \n",
    "                                                                  grouped_raw_data[session]['for_dims'], 0.6, 100)\n",
    "C_df = pd.concat([filtered_for_analysis[session].resample(str(new_sampling_interval)+'S').max()\n",
    "                  for session in list(grouped_raw_data.keys())], keys=list(grouped_raw_data.keys()))\n"
   ]
  },
  {
   "cell_type": "code",
   "execution_count": 14,
   "metadata": {
    "collapsed": true,
    "scrolled": true
   },
   "outputs": [],
   "source": [
    "#C_df.loc['GRIN026_H16_M35_S34'].dropna(axis=1).to_csv('/Volumes/My_Passport/cnmfe_analysis_files/OpenFieldAnalysis/2020/GRIN026_H16_M35_S34_cells_f_traces_filtered.csv')"
   ]
  },
  {
   "cell_type": "code",
   "execution_count": 15,
   "metadata": {
    "collapsed": true
   },
   "outputs": [],
   "source": [
    "#C_df.loc['GRIN026_H16_M35_S34'].dropna(axis=1)"
   ]
  },
  {
   "cell_type": "code",
   "execution_count": 16,
   "metadata": {
    "collapsed": true
   },
   "outputs": [],
   "source": [
    "#filtered_for_analysis['GRIN026_H16_M35_S34'].iloc[:,:]"
   ]
  },
  {
   "cell_type": "code",
   "execution_count": 17,
   "metadata": {
    "collapsed": true,
    "scrolled": true
   },
   "outputs": [],
   "source": [
    "#filtered_for_analysis['GRIN026_H16_M35_S34'].drop(['msCamFrame'], axis=1).to_csv('/Volumes/My_Passport/cnmfe_analysis_files/OpenFieldAnalysis/2020/GRIN026_H16_M35_S34_cells_f_traces_filtered.csv')"
   ]
  },
  {
   "cell_type": "code",
   "execution_count": 18,
   "metadata": {
    "collapsed": true
   },
   "outputs": [],
   "source": [
    "# should save fluorescence output here to pass along along with velocity data, could just pull out tail base values \n",
    "#C_df.head()\n",
    "#C_df.loc['GRIN026_H16_M35_S34'.to_csv('/Volumes/My_Passport/cnmfe_analysis_files/OpenFieldAnalysis/2020/GRIN026_H16_M35_S34_cells_f_traces.csv')"
   ]
  },
  {
   "cell_type": "code",
   "execution_count": 19,
   "metadata": {
    "collapsed": true
   },
   "outputs": [],
   "source": [
    "#bin by activity threshold (body_part, resting_time_threshold, active_time_threshold, crossing_threshold, resting_threshold, activity_threshold)\n",
    "binned_velocity_df = pd.DataFrame([dlc_utils.bin_by_activity_threshold(V_df.loc[session]['tail_base'], 80, 20, 1, 2, 3)\n",
    "                                for session in list(grouped_raw_data.keys())], index=list(grouped_raw_data.keys()))\n",
    "binned_velocity_df = binned_velocity_df.transpose()"
   ]
  },
  {
   "cell_type": "code",
   "execution_count": 16,
   "metadata": {
    "collapsed": true
   },
   "outputs": [],
   "source": [
    "#binned_velocity_df"
   ]
  },
  {
   "cell_type": "code",
   "execution_count": 17,
   "metadata": {
    "collapsed": true
   },
   "outputs": [],
   "source": [
    "#plt.plot(binned_velocity_df['GRIN035_H14_M40_S34'])\n",
    "#plt.show()"
   ]
  },
  {
   "cell_type": "code",
   "execution_count": 18,
   "metadata": {
    "collapsed": true
   },
   "outputs": [],
   "source": [
    "#binned_velocity_df"
   ]
  },
  {
   "cell_type": "code",
   "execution_count": 19,
   "metadata": {
    "collapsed": true
   },
   "outputs": [],
   "source": [
    "#fig, (ax1, ax2) = plt.subplots(nrows=1, ncols=2, sharex=True)\n",
    "#ax1.plot(binned_velocity_df['GRIN013_H13_M33_S54'].values)\n",
    "#ax2.plot(V_df.loc['GRIN013_H13_M33_S54']['tail_base'].values)\n",
    "#plt.show()"
   ]
  },
  {
   "cell_type": "code",
   "execution_count": 20,
   "metadata": {
    "collapsed": true,
    "scrolled": true
   },
   "outputs": [],
   "source": [
    "## get velocity threshold indicies and select fluorescence regions\n",
    "triggered_activity_across_sessions = {}\n",
    "triggered_activity_all_cells = {}\n",
    "for session in list(grouped_raw_data.keys()):\n",
    "    #inputs activity_threshold, resting_threshold, resting_baseline \n",
    "    crossing_indicies = utils_jjm.select_trigger_regions(binned_velocity_df[session], 0.5, 0.5, 20)\n",
    "    #inputs time_to_plot\n",
    "    threshold_activity = utils_jjm.average_triggered_regions(V_df.loc[session]['tail_base'].values, crossing_indicies, 80)\n",
    "    cells_in_session = C_df.loc[session].dropna(axis=1)\n",
    "    cell_fluorescence = cells_in_session.drop(['msCamFrame'], axis=1)\n",
    "    f_threshold_activity = utils_jjm.average_triggered_regions(cell_fluorescence.mean(axis=1).values, crossing_indicies, 80)\n",
    "    triggered_activity_across_sessions[session] = pd.concat([threshold_activity, f_threshold_activity], axis=1, keys=['velocity', 'fluorescence'])\n",
    "    f_thresholds_cell = {}\n",
    "    for cell in cell_fluorescence:\n",
    "        f_thresholds_cell[cell_fluorescence[cell].name] = utils_jjm.average_triggered_regions(cell_fluorescence[cell].values, crossing_indicies, 80)\n",
    "    triggered_activity_all_cells[session] = pd.concat(list(f_thresholds_cell.values()), axis=1, keys=list(f_thresholds_cell.keys()))\n",
    "\n",
    "# all cells averaged together\n",
    "triggered_activity_across_sessions_df = pd.concat(triggered_activity_across_sessions, axis=1)\n",
    "# all cells individual\n",
    "triggered_activity_all_cells_df = pd.concat(triggered_activity_all_cells, axis=1)"
   ]
  },
  {
   "cell_type": "code",
   "execution_count": 21,
   "metadata": {
    "collapsed": true
   },
   "outputs": [],
   "source": [
    "# velocity and fluorescence events, averaged over all cells in session, for each event in session\n",
    "#triggered_activity_across_sessions_df.head()\n",
    "#triggered_activity_across_sessions_df.to_csv('/Volumes/My_Passport/cnmfe_analysis_files/OpenFieldAnalysis/2020/motion_events_velocity_wt.csv')"
   ]
  },
  {
   "cell_type": "code",
   "execution_count": 22,
   "metadata": {
    "collapsed": true
   },
   "outputs": [],
   "source": [
    "# fluorescence events, averaged over all cells \n",
    "#triggered_activity_all_cells_df.head()\n",
    "#triggered_activity_all_cells_df.to_csv('/Volumes/My_Passport/cnmfe_analysis_files/OpenFieldAnalysis/2020/motion_events_cell_fluorescence_wt.csv')"
   ]
  },
  {
   "cell_type": "markdown",
   "metadata": {},
   "source": [
    "## display averaged data"
   ]
  },
  {
   "cell_type": "code",
   "execution_count": 23,
   "metadata": {
    "collapsed": true
   },
   "outputs": [],
   "source": [
    "# create range scaled data to compare across cells\n",
    "scaler = MinMaxScaler()\n",
    "activity_scaled = pd.DataFrame(scaler.fit_transform(triggered_activity_across_sessions_df), columns=triggered_activity_across_sessions_df.columns)"
   ]
  },
  {
   "cell_type": "code",
   "execution_count": 24,
   "metadata": {
    "collapsed": false
   },
   "outputs": [
    {
     "data": {
      "text/html": [
       "<div>\n",
       "<style scoped>\n",
       "    .dataframe tbody tr th:only-of-type {\n",
       "        vertical-align: middle;\n",
       "    }\n",
       "\n",
       "    .dataframe tbody tr th {\n",
       "        vertical-align: top;\n",
       "    }\n",
       "\n",
       "    .dataframe thead tr th {\n",
       "        text-align: left;\n",
       "    }\n",
       "</style>\n",
       "<table border=\"1\" class=\"dataframe\">\n",
       "  <thead>\n",
       "    <tr>\n",
       "      <th></th>\n",
       "      <th colspan=\"10\" halign=\"left\">GRIN039_H12_M26_S54</th>\n",
       "      <th>...</th>\n",
       "      <th colspan=\"10\" halign=\"left\">GRIN035_H14_M40_S34</th>\n",
       "    </tr>\n",
       "    <tr>\n",
       "      <th></th>\n",
       "      <th colspan=\"10\" halign=\"left\">velocity</th>\n",
       "      <th>...</th>\n",
       "      <th colspan=\"4\" halign=\"left\">velocity</th>\n",
       "      <th colspan=\"6\" halign=\"left\">fluorescence</th>\n",
       "    </tr>\n",
       "    <tr>\n",
       "      <th></th>\n",
       "      <th>1097</th>\n",
       "      <th>2097</th>\n",
       "      <th>2644</th>\n",
       "      <th>3297</th>\n",
       "      <th>5522</th>\n",
       "      <th>5798</th>\n",
       "      <th>5913</th>\n",
       "      <th>6412</th>\n",
       "      <th>7620</th>\n",
       "      <th>8471</th>\n",
       "      <th>...</th>\n",
       "      <th>1012</th>\n",
       "      <th>3536</th>\n",
       "      <th>4516</th>\n",
       "      <th>5643</th>\n",
       "      <th>136</th>\n",
       "      <th>578</th>\n",
       "      <th>1012</th>\n",
       "      <th>3536</th>\n",
       "      <th>4516</th>\n",
       "      <th>5643</th>\n",
       "    </tr>\n",
       "  </thead>\n",
       "  <tbody>\n",
       "    <tr>\n",
       "      <th>0</th>\n",
       "      <td>0.053852</td>\n",
       "      <td>0.005708</td>\n",
       "      <td>0.014068</td>\n",
       "      <td>0.068507</td>\n",
       "      <td>0.007272</td>\n",
       "      <td>0.226826</td>\n",
       "      <td>0.019103</td>\n",
       "      <td>0.004526</td>\n",
       "      <td>0.007611</td>\n",
       "      <td>0.004690</td>\n",
       "      <td>...</td>\n",
       "      <td>0.027071</td>\n",
       "      <td>0.007192</td>\n",
       "      <td>0.001231</td>\n",
       "      <td>0.051032</td>\n",
       "      <td>0.189728</td>\n",
       "      <td>0.891939</td>\n",
       "      <td>0.166707</td>\n",
       "      <td>0.074252</td>\n",
       "      <td>0.117846</td>\n",
       "      <td>0.758470</td>\n",
       "    </tr>\n",
       "    <tr>\n",
       "      <th>1</th>\n",
       "      <td>0.051561</td>\n",
       "      <td>0.006628</td>\n",
       "      <td>0.013460</td>\n",
       "      <td>0.080900</td>\n",
       "      <td>0.006303</td>\n",
       "      <td>0.173490</td>\n",
       "      <td>0.014753</td>\n",
       "      <td>0.004766</td>\n",
       "      <td>0.007009</td>\n",
       "      <td>0.004722</td>\n",
       "      <td>...</td>\n",
       "      <td>0.028420</td>\n",
       "      <td>0.007791</td>\n",
       "      <td>0.001595</td>\n",
       "      <td>0.052312</td>\n",
       "      <td>0.166084</td>\n",
       "      <td>0.668920</td>\n",
       "      <td>0.135407</td>\n",
       "      <td>0.052987</td>\n",
       "      <td>0.310368</td>\n",
       "      <td>0.783512</td>\n",
       "    </tr>\n",
       "    <tr>\n",
       "      <th>2</th>\n",
       "      <td>0.049271</td>\n",
       "      <td>0.007547</td>\n",
       "      <td>0.011399</td>\n",
       "      <td>0.093293</td>\n",
       "      <td>0.005333</td>\n",
       "      <td>0.124001</td>\n",
       "      <td>0.012127</td>\n",
       "      <td>0.005007</td>\n",
       "      <td>0.006407</td>\n",
       "      <td>0.004755</td>\n",
       "      <td>...</td>\n",
       "      <td>0.029768</td>\n",
       "      <td>0.008390</td>\n",
       "      <td>0.001959</td>\n",
       "      <td>0.053593</td>\n",
       "      <td>0.130012</td>\n",
       "      <td>0.530866</td>\n",
       "      <td>0.109931</td>\n",
       "      <td>0.080734</td>\n",
       "      <td>0.285276</td>\n",
       "      <td>0.854493</td>\n",
       "    </tr>\n",
       "    <tr>\n",
       "      <th>3</th>\n",
       "      <td>0.046980</td>\n",
       "      <td>0.007777</td>\n",
       "      <td>0.009337</td>\n",
       "      <td>0.096391</td>\n",
       "      <td>0.004790</td>\n",
       "      <td>0.129129</td>\n",
       "      <td>0.014427</td>\n",
       "      <td>0.005067</td>\n",
       "      <td>0.005805</td>\n",
       "      <td>0.004787</td>\n",
       "      <td>...</td>\n",
       "      <td>0.030105</td>\n",
       "      <td>0.008989</td>\n",
       "      <td>0.002323</td>\n",
       "      <td>0.054873</td>\n",
       "      <td>0.100663</td>\n",
       "      <td>0.379824</td>\n",
       "      <td>0.806101</td>\n",
       "      <td>0.059896</td>\n",
       "      <td>0.215123</td>\n",
       "      <td>0.844659</td>\n",
       "    </tr>\n",
       "    <tr>\n",
       "      <th>4</th>\n",
       "      <td>0.041613</td>\n",
       "      <td>0.006125</td>\n",
       "      <td>0.007275</td>\n",
       "      <td>0.084760</td>\n",
       "      <td>0.005358</td>\n",
       "      <td>0.134257</td>\n",
       "      <td>0.016726</td>\n",
       "      <td>0.004905</td>\n",
       "      <td>0.005203</td>\n",
       "      <td>0.004795</td>\n",
       "      <td>...</td>\n",
       "      <td>0.028427</td>\n",
       "      <td>0.009323</td>\n",
       "      <td>0.002414</td>\n",
       "      <td>0.056153</td>\n",
       "      <td>0.142822</td>\n",
       "      <td>0.295975</td>\n",
       "      <td>1.000000</td>\n",
       "      <td>0.060323</td>\n",
       "      <td>0.216296</td>\n",
       "      <td>1.000000</td>\n",
       "    </tr>\n",
       "  </tbody>\n",
       "</table>\n",
       "<p>5 rows × 131 columns</p>\n",
       "</div>"
      ],
      "text/plain": [
       "  GRIN039_H12_M26_S54                                                    \\\n",
       "             velocity                                                     \n",
       "                 1097      2097      2644      3297      5522      5798   \n",
       "0            0.053852  0.005708  0.014068  0.068507  0.007272  0.226826   \n",
       "1            0.051561  0.006628  0.013460  0.080900  0.006303  0.173490   \n",
       "2            0.049271  0.007547  0.011399  0.093293  0.005333  0.124001   \n",
       "3            0.046980  0.007777  0.009337  0.096391  0.004790  0.129129   \n",
       "4            0.041613  0.006125  0.007275  0.084760  0.005358  0.134257   \n",
       "\n",
       "                                           ... GRIN035_H14_M40_S34            \\\n",
       "                                           ...            velocity             \n",
       "       5913      6412      7620      8471  ...                1012      3536   \n",
       "0  0.019103  0.004526  0.007611  0.004690  ...            0.027071  0.007192   \n",
       "1  0.014753  0.004766  0.007009  0.004722  ...            0.028420  0.007791   \n",
       "2  0.012127  0.005007  0.006407  0.004755  ...            0.029768  0.008390   \n",
       "3  0.014427  0.005067  0.005805  0.004787  ...            0.030105  0.008989   \n",
       "4  0.016726  0.004905  0.005203  0.004795  ...            0.028427  0.009323   \n",
       "\n",
       "                                                                            \\\n",
       "                      fluorescence                                           \n",
       "       4516      5643         136       578       1012      3536      4516   \n",
       "0  0.001231  0.051032     0.189728  0.891939  0.166707  0.074252  0.117846   \n",
       "1  0.001595  0.052312     0.166084  0.668920  0.135407  0.052987  0.310368   \n",
       "2  0.001959  0.053593     0.130012  0.530866  0.109931  0.080734  0.285276   \n",
       "3  0.002323  0.054873     0.100663  0.379824  0.806101  0.059896  0.215123   \n",
       "4  0.002414  0.056153     0.142822  0.295975  1.000000  0.060323  0.216296   \n",
       "\n",
       "             \n",
       "             \n",
       "       5643  \n",
       "0  0.758470  \n",
       "1  0.783512  \n",
       "2  0.854493  \n",
       "3  0.844659  \n",
       "4  1.000000  \n",
       "\n",
       "[5 rows x 131 columns]"
      ]
     },
     "execution_count": 24,
     "metadata": {},
     "output_type": "execute_result"
    }
   ],
   "source": [
    "activity_scaled.head()"
   ]
  },
  {
   "cell_type": "markdown",
   "metadata": {},
   "source": [
    "# display individual cell data "
   ]
  },
  {
   "cell_type": "code",
   "execution_count": 25,
   "metadata": {
    "collapsed": false
   },
   "outputs": [
    {
     "data": {
      "text/html": [
       "<div>\n",
       "<style scoped>\n",
       "    .dataframe tbody tr th:only-of-type {\n",
       "        vertical-align: middle;\n",
       "    }\n",
       "\n",
       "    .dataframe tbody tr th {\n",
       "        vertical-align: top;\n",
       "    }\n",
       "\n",
       "    .dataframe thead tr th {\n",
       "        text-align: left;\n",
       "    }\n",
       "</style>\n",
       "<table border=\"1\" class=\"dataframe\">\n",
       "  <thead>\n",
       "    <tr>\n",
       "      <th></th>\n",
       "      <th colspan=\"5\" halign=\"left\">1</th>\n",
       "      <th colspan=\"5\" halign=\"left\">2</th>\n",
       "      <th>...</th>\n",
       "      <th colspan=\"5\" halign=\"left\">84</th>\n",
       "      <th colspan=\"5\" halign=\"left\">85</th>\n",
       "    </tr>\n",
       "    <tr>\n",
       "      <th></th>\n",
       "      <th>902</th>\n",
       "      <th>1112</th>\n",
       "      <th>3807</th>\n",
       "      <th>5448</th>\n",
       "      <th>5777</th>\n",
       "      <th>902</th>\n",
       "      <th>1112</th>\n",
       "      <th>3807</th>\n",
       "      <th>5448</th>\n",
       "      <th>5777</th>\n",
       "      <th>...</th>\n",
       "      <th>902</th>\n",
       "      <th>1112</th>\n",
       "      <th>3807</th>\n",
       "      <th>5448</th>\n",
       "      <th>5777</th>\n",
       "      <th>902</th>\n",
       "      <th>1112</th>\n",
       "      <th>3807</th>\n",
       "      <th>5448</th>\n",
       "      <th>5777</th>\n",
       "    </tr>\n",
       "  </thead>\n",
       "  <tbody>\n",
       "    <tr>\n",
       "      <th>0</th>\n",
       "      <td>-0.715473</td>\n",
       "      <td>-0.508238</td>\n",
       "      <td>-0.412488</td>\n",
       "      <td>0.153889</td>\n",
       "      <td>-0.224369</td>\n",
       "      <td>-0.645371</td>\n",
       "      <td>-0.592759</td>\n",
       "      <td>-0.623397</td>\n",
       "      <td>0.221391</td>\n",
       "      <td>0.147433</td>\n",
       "      <td>...</td>\n",
       "      <td>-0.489693</td>\n",
       "      <td>1.090881</td>\n",
       "      <td>0.643439</td>\n",
       "      <td>-0.507155</td>\n",
       "      <td>1.360337</td>\n",
       "      <td>0.085520</td>\n",
       "      <td>1.139437</td>\n",
       "      <td>0.478359</td>\n",
       "      <td>1.319918</td>\n",
       "      <td>0.193256</td>\n",
       "    </tr>\n",
       "    <tr>\n",
       "      <th>1</th>\n",
       "      <td>-0.679464</td>\n",
       "      <td>-0.522337</td>\n",
       "      <td>-0.545745</td>\n",
       "      <td>0.042282</td>\n",
       "      <td>-0.121881</td>\n",
       "      <td>-0.647717</td>\n",
       "      <td>-0.597356</td>\n",
       "      <td>-0.639495</td>\n",
       "      <td>0.781583</td>\n",
       "      <td>0.062918</td>\n",
       "      <td>...</td>\n",
       "      <td>-0.498455</td>\n",
       "      <td>0.463782</td>\n",
       "      <td>0.169009</td>\n",
       "      <td>-0.141913</td>\n",
       "      <td>0.740617</td>\n",
       "      <td>-0.035322</td>\n",
       "      <td>1.126668</td>\n",
       "      <td>0.253733</td>\n",
       "      <td>1.254406</td>\n",
       "      <td>0.170655</td>\n",
       "    </tr>\n",
       "    <tr>\n",
       "      <th>2</th>\n",
       "      <td>-0.510954</td>\n",
       "      <td>-0.534318</td>\n",
       "      <td>-0.115801</td>\n",
       "      <td>0.158773</td>\n",
       "      <td>-0.220702</td>\n",
       "      <td>-0.648703</td>\n",
       "      <td>-0.602911</td>\n",
       "      <td>-0.612768</td>\n",
       "      <td>0.343647</td>\n",
       "      <td>-0.012633</td>\n",
       "      <td>...</td>\n",
       "      <td>-0.502821</td>\n",
       "      <td>-0.216787</td>\n",
       "      <td>1.127614</td>\n",
       "      <td>-0.374999</td>\n",
       "      <td>0.221693</td>\n",
       "      <td>0.406973</td>\n",
       "      <td>1.009418</td>\n",
       "      <td>0.478532</td>\n",
       "      <td>1.231351</td>\n",
       "      <td>-0.205284</td>\n",
       "    </tr>\n",
       "    <tr>\n",
       "      <th>3</th>\n",
       "      <td>-0.222268</td>\n",
       "      <td>-0.505432</td>\n",
       "      <td>-0.243079</td>\n",
       "      <td>0.216253</td>\n",
       "      <td>-0.361516</td>\n",
       "      <td>-0.649119</td>\n",
       "      <td>-0.607873</td>\n",
       "      <td>-0.620617</td>\n",
       "      <td>0.572448</td>\n",
       "      <td>-0.080172</td>\n",
       "      <td>...</td>\n",
       "      <td>-0.504996</td>\n",
       "      <td>1.060031</td>\n",
       "      <td>0.746048</td>\n",
       "      <td>-0.473081</td>\n",
       "      <td>0.989243</td>\n",
       "      <td>0.264828</td>\n",
       "      <td>0.864388</td>\n",
       "      <td>0.233414</td>\n",
       "      <td>1.746670</td>\n",
       "      <td>0.043566</td>\n",
       "    </tr>\n",
       "    <tr>\n",
       "      <th>4</th>\n",
       "      <td>-0.310930</td>\n",
       "      <td>-0.519953</td>\n",
       "      <td>-0.262700</td>\n",
       "      <td>-0.007538</td>\n",
       "      <td>-0.320139</td>\n",
       "      <td>-0.649293</td>\n",
       "      <td>-0.612306</td>\n",
       "      <td>-0.638435</td>\n",
       "      <td>0.432355</td>\n",
       "      <td>-0.140547</td>\n",
       "      <td>...</td>\n",
       "      <td>-0.506079</td>\n",
       "      <td>0.469328</td>\n",
       "      <td>0.229308</td>\n",
       "      <td>-0.498370</td>\n",
       "      <td>0.740671</td>\n",
       "      <td>0.200079</td>\n",
       "      <td>0.731299</td>\n",
       "      <td>0.375054</td>\n",
       "      <td>0.464010</td>\n",
       "      <td>0.752470</td>\n",
       "    </tr>\n",
       "  </tbody>\n",
       "</table>\n",
       "<p>5 rows × 375 columns</p>\n",
       "</div>"
      ],
      "text/plain": [
       "         1                                                 2             \\\n",
       "       902       1112      3807      5448      5777      902       1112   \n",
       "0 -0.715473 -0.508238 -0.412488  0.153889 -0.224369 -0.645371 -0.592759   \n",
       "1 -0.679464 -0.522337 -0.545745  0.042282 -0.121881 -0.647717 -0.597356   \n",
       "2 -0.510954 -0.534318 -0.115801  0.158773 -0.220702 -0.648703 -0.602911   \n",
       "3 -0.222268 -0.505432 -0.243079  0.216253 -0.361516 -0.649119 -0.607873   \n",
       "4 -0.310930 -0.519953 -0.262700 -0.007538 -0.320139 -0.649293 -0.612306   \n",
       "\n",
       "                                 ...        84                                \\\n",
       "       3807      5448      5777  ...      902       1112      3807      5448   \n",
       "0 -0.623397  0.221391  0.147433  ... -0.489693  1.090881  0.643439 -0.507155   \n",
       "1 -0.639495  0.781583  0.062918  ... -0.498455  0.463782  0.169009 -0.141913   \n",
       "2 -0.612768  0.343647 -0.012633  ... -0.502821 -0.216787  1.127614 -0.374999   \n",
       "3 -0.620617  0.572448 -0.080172  ... -0.504996  1.060031  0.746048 -0.473081   \n",
       "4 -0.638435  0.432355 -0.140547  ... -0.506079  0.469328  0.229308 -0.498370   \n",
       "\n",
       "                   85                                          \n",
       "       5777      902       1112      3807      5448      5777  \n",
       "0  1.360337  0.085520  1.139437  0.478359  1.319918  0.193256  \n",
       "1  0.740617 -0.035322  1.126668  0.253733  1.254406  0.170655  \n",
       "2  0.221693  0.406973  1.009418  0.478532  1.231351 -0.205284  \n",
       "3  0.989243  0.264828  0.864388  0.233414  1.746670  0.043566  \n",
       "4  0.740671  0.200079  0.731299  0.375054  0.464010  0.752470  \n",
       "\n",
       "[5 rows x 375 columns]"
      ]
     },
     "execution_count": 25,
     "metadata": {},
     "output_type": "execute_result"
    }
   ],
   "source": [
    "## could save here \n",
    "# this data frame contains the activity for all cells, organized by movement event periods in each session\n",
    "triggered_activity_all_cells_df['GRIN026_H16_M35_S34'].head()"
   ]
  },
  {
   "cell_type": "code",
   "execution_count": 26,
   "metadata": {
    "collapsed": false
   },
   "outputs": [
    {
     "data": {
      "text/html": [
       "<div>\n",
       "<style scoped>\n",
       "    .dataframe tbody tr th:only-of-type {\n",
       "        vertical-align: middle;\n",
       "    }\n",
       "\n",
       "    .dataframe tbody tr th {\n",
       "        vertical-align: top;\n",
       "    }\n",
       "\n",
       "    .dataframe thead tr th {\n",
       "        text-align: left;\n",
       "    }\n",
       "</style>\n",
       "<table border=\"1\" class=\"dataframe\">\n",
       "  <thead>\n",
       "    <tr>\n",
       "      <th></th>\n",
       "      <th colspan=\"10\" halign=\"left\">GRIN039_H12_M26_S54</th>\n",
       "      <th>...</th>\n",
       "      <th colspan=\"10\" halign=\"left\">GRIN035_H14_M40_S34</th>\n",
       "    </tr>\n",
       "    <tr>\n",
       "      <th></th>\n",
       "      <th colspan=\"10\" halign=\"left\">velocity</th>\n",
       "      <th>...</th>\n",
       "      <th colspan=\"4\" halign=\"left\">velocity</th>\n",
       "      <th colspan=\"6\" halign=\"left\">fluorescence</th>\n",
       "    </tr>\n",
       "    <tr>\n",
       "      <th></th>\n",
       "      <th>1097</th>\n",
       "      <th>2097</th>\n",
       "      <th>2644</th>\n",
       "      <th>3297</th>\n",
       "      <th>5522</th>\n",
       "      <th>5798</th>\n",
       "      <th>5913</th>\n",
       "      <th>6412</th>\n",
       "      <th>7620</th>\n",
       "      <th>8471</th>\n",
       "      <th>...</th>\n",
       "      <th>1012</th>\n",
       "      <th>3536</th>\n",
       "      <th>4516</th>\n",
       "      <th>5643</th>\n",
       "      <th>136</th>\n",
       "      <th>578</th>\n",
       "      <th>1012</th>\n",
       "      <th>3536</th>\n",
       "      <th>4516</th>\n",
       "      <th>5643</th>\n",
       "    </tr>\n",
       "  </thead>\n",
       "  <tbody>\n",
       "    <tr>\n",
       "      <th>0</th>\n",
       "      <td>1.231612</td>\n",
       "      <td>0.091677</td>\n",
       "      <td>0.128645</td>\n",
       "      <td>0.892276</td>\n",
       "      <td>0.241687</td>\n",
       "      <td>1.039767</td>\n",
       "      <td>0.293580</td>\n",
       "      <td>0.207114</td>\n",
       "      <td>1.086147</td>\n",
       "      <td>0.308631</td>\n",
       "      <td>...</td>\n",
       "      <td>0.240742</td>\n",
       "      <td>0.168220</td>\n",
       "      <td>0.108827</td>\n",
       "      <td>0.342754</td>\n",
       "      <td>-0.052763</td>\n",
       "      <td>0.570161</td>\n",
       "      <td>-0.133252</td>\n",
       "      <td>-0.086256</td>\n",
       "      <td>0.746579</td>\n",
       "      <td>0.237182</td>\n",
       "    </tr>\n",
       "    <tr>\n",
       "      <th>1</th>\n",
       "      <td>1.188818</td>\n",
       "      <td>0.097096</td>\n",
       "      <td>0.126258</td>\n",
       "      <td>1.037126</td>\n",
       "      <td>0.222506</td>\n",
       "      <td>0.835284</td>\n",
       "      <td>0.257054</td>\n",
       "      <td>0.209753</td>\n",
       "      <td>1.018571</td>\n",
       "      <td>0.308929</td>\n",
       "      <td>...</td>\n",
       "      <td>0.248452</td>\n",
       "      <td>0.174066</td>\n",
       "      <td>0.115418</td>\n",
       "      <td>0.348990</td>\n",
       "      <td>-0.081193</td>\n",
       "      <td>0.372983</td>\n",
       "      <td>-0.152622</td>\n",
       "      <td>-0.103670</td>\n",
       "      <td>1.508911</td>\n",
       "      <td>0.253630</td>\n",
       "    </tr>\n",
       "    <tr>\n",
       "      <th>2</th>\n",
       "      <td>1.146024</td>\n",
       "      <td>0.102514</td>\n",
       "      <td>0.118164</td>\n",
       "      <td>1.181976</td>\n",
       "      <td>0.203325</td>\n",
       "      <td>0.645546</td>\n",
       "      <td>0.235008</td>\n",
       "      <td>0.212392</td>\n",
       "      <td>0.950995</td>\n",
       "      <td>0.309226</td>\n",
       "      <td>...</td>\n",
       "      <td>0.256162</td>\n",
       "      <td>0.179913</td>\n",
       "      <td>0.122010</td>\n",
       "      <td>0.355226</td>\n",
       "      <td>-0.124565</td>\n",
       "      <td>0.250925</td>\n",
       "      <td>-0.168388</td>\n",
       "      <td>-0.080949</td>\n",
       "      <td>1.409552</td>\n",
       "      <td>0.300250</td>\n",
       "    </tr>\n",
       "    <tr>\n",
       "      <th>3</th>\n",
       "      <td>1.103229</td>\n",
       "      <td>0.103869</td>\n",
       "      <td>0.110069</td>\n",
       "      <td>1.218189</td>\n",
       "      <td>0.192575</td>\n",
       "      <td>0.665207</td>\n",
       "      <td>0.254316</td>\n",
       "      <td>0.213052</td>\n",
       "      <td>0.883419</td>\n",
       "      <td>0.309524</td>\n",
       "      <td>...</td>\n",
       "      <td>0.258090</td>\n",
       "      <td>0.185759</td>\n",
       "      <td>0.128602</td>\n",
       "      <td>0.361462</td>\n",
       "      <td>-0.159855</td>\n",
       "      <td>0.117385</td>\n",
       "      <td>0.262438</td>\n",
       "      <td>-0.098012</td>\n",
       "      <td>1.131767</td>\n",
       "      <td>0.293791</td>\n",
       "    </tr>\n",
       "    <tr>\n",
       "      <th>4</th>\n",
       "      <td>1.002963</td>\n",
       "      <td>0.094133</td>\n",
       "      <td>0.101975</td>\n",
       "      <td>1.082245</td>\n",
       "      <td>0.203816</td>\n",
       "      <td>0.684867</td>\n",
       "      <td>0.273623</td>\n",
       "      <td>0.211278</td>\n",
       "      <td>0.815842</td>\n",
       "      <td>0.309598</td>\n",
       "      <td>...</td>\n",
       "      <td>0.248496</td>\n",
       "      <td>0.189022</td>\n",
       "      <td>0.130250</td>\n",
       "      <td>0.367698</td>\n",
       "      <td>-0.109163</td>\n",
       "      <td>0.043251</td>\n",
       "      <td>0.382433</td>\n",
       "      <td>-0.097663</td>\n",
       "      <td>1.136412</td>\n",
       "      <td>0.395819</td>\n",
       "    </tr>\n",
       "  </tbody>\n",
       "</table>\n",
       "<p>5 rows × 131 columns</p>\n",
       "</div>"
      ],
      "text/plain": [
       "  GRIN039_H12_M26_S54                                                    \\\n",
       "             velocity                                                     \n",
       "                 1097      2097      2644      3297      5522      5798   \n",
       "0            1.231612  0.091677  0.128645  0.892276  0.241687  1.039767   \n",
       "1            1.188818  0.097096  0.126258  1.037126  0.222506  0.835284   \n",
       "2            1.146024  0.102514  0.118164  1.181976  0.203325  0.645546   \n",
       "3            1.103229  0.103869  0.110069  1.218189  0.192575  0.665207   \n",
       "4            1.002963  0.094133  0.101975  1.082245  0.203816  0.684867   \n",
       "\n",
       "                                           ... GRIN035_H14_M40_S34            \\\n",
       "                                           ...            velocity             \n",
       "       5913      6412      7620      8471  ...                1012      3536   \n",
       "0  0.293580  0.207114  1.086147  0.308631  ...            0.240742  0.168220   \n",
       "1  0.257054  0.209753  1.018571  0.308929  ...            0.248452  0.174066   \n",
       "2  0.235008  0.212392  0.950995  0.309226  ...            0.256162  0.179913   \n",
       "3  0.254316  0.213052  0.883419  0.309524  ...            0.258090  0.185759   \n",
       "4  0.273623  0.211278  0.815842  0.309598  ...            0.248496  0.189022   \n",
       "\n",
       "                                                                            \\\n",
       "                      fluorescence                                           \n",
       "       4516      5643         136       578       1012      3536      4516   \n",
       "0  0.108827  0.342754    -0.052763  0.570161 -0.133252 -0.086256  0.746579   \n",
       "1  0.115418  0.348990    -0.081193  0.372983 -0.152622 -0.103670  1.508911   \n",
       "2  0.122010  0.355226    -0.124565  0.250925 -0.168388 -0.080949  1.409552   \n",
       "3  0.128602  0.361462    -0.159855  0.117385  0.262438 -0.098012  1.131767   \n",
       "4  0.130250  0.367698    -0.109163  0.043251  0.382433 -0.097663  1.136412   \n",
       "\n",
       "             \n",
       "             \n",
       "       5643  \n",
       "0  0.237182  \n",
       "1  0.253630  \n",
       "2  0.300250  \n",
       "3  0.293791  \n",
       "4  0.395819  \n",
       "\n",
       "[5 rows x 131 columns]"
      ]
     },
     "execution_count": 26,
     "metadata": {},
     "output_type": "execute_result"
    }
   ],
   "source": [
    "## could save here \n",
    "# this data frame contains the velocity values, and the fluoresence averaged across cells, for each event period in each session\n",
    "triggered_activity_across_sessions_df.head()"
   ]
  },
  {
   "cell_type": "code",
   "execution_count": 27,
   "metadata": {
    "collapsed": true,
    "scrolled": true
   },
   "outputs": [],
   "source": [
    "#list(triggered_activity_across_sessions.keys())"
   ]
  },
  {
   "cell_type": "code",
   "execution_count": 28,
   "metadata": {
    "collapsed": true
   },
   "outputs": [],
   "source": [
    "# create range scaled data to compare across cells\n",
    "scaler = MinMaxScaler()\n",
    "activity_scaled = pd.DataFrame(scaler.fit_transform(triggered_activity_all_cells_df), columns=triggered_activity_all_cells_df.columns)\n",
    "activity_scaled_cell_means = activity_scaled.groupby(level=[0,1], axis=1).mean()"
   ]
  },
  {
   "cell_type": "code",
   "execution_count": 29,
   "metadata": {
    "collapsed": false
   },
   "outputs": [
    {
     "name": "stdout",
     "output_type": "stream",
     "text": [
      "['GRIN033_H13_M42_S33', 'GRIN032_H17_M30_S22', 'GRIN034_H16_M13_S22', 'GRIN026_H16_M35_S34', 'GRIN032_H16_M49_S22', 'GRIN039_H12_M26_S54', 'GRIN035_H14_M40_S34', 'GRIN033_H14_M34_S32', 'GRIN027_H13_M29_S44', 'GRIN013_H13_M33_S54', 'GRIN034_H19_M0_S18', 'GRIN035_H13_M31_S20', 'GRIN035_H13_M50_S58']\n"
     ]
    }
   ],
   "source": [
    "sessions = list(set([column[0] for column in activity_scaled_cell_means.columns]))\n",
    "print(sessions)"
   ]
  },
  {
   "cell_type": "code",
   "execution_count": 30,
   "metadata": {
    "collapsed": false
   },
   "outputs": [
    {
     "data": {
      "text/html": [
       "<div>\n",
       "<style scoped>\n",
       "    .dataframe tbody tr th:only-of-type {\n",
       "        vertical-align: middle;\n",
       "    }\n",
       "\n",
       "    .dataframe tbody tr th {\n",
       "        vertical-align: top;\n",
       "    }\n",
       "\n",
       "    .dataframe thead th {\n",
       "        text-align: right;\n",
       "    }\n",
       "</style>\n",
       "<table border=\"1\" class=\"dataframe\">\n",
       "  <thead>\n",
       "    <tr style=\"text-align: right;\">\n",
       "      <th></th>\n",
       "      <th>1</th>\n",
       "      <th>2</th>\n",
       "      <th>3</th>\n",
       "      <th>4</th>\n",
       "      <th>5</th>\n",
       "      <th>6</th>\n",
       "      <th>7</th>\n",
       "      <th>8</th>\n",
       "      <th>9</th>\n",
       "      <th>10</th>\n",
       "      <th>...</th>\n",
       "      <th>72</th>\n",
       "      <th>73</th>\n",
       "      <th>74</th>\n",
       "      <th>75</th>\n",
       "      <th>79</th>\n",
       "      <th>81</th>\n",
       "      <th>82</th>\n",
       "      <th>83</th>\n",
       "      <th>84</th>\n",
       "      <th>85</th>\n",
       "    </tr>\n",
       "  </thead>\n",
       "  <tbody>\n",
       "    <tr>\n",
       "      <th>0</th>\n",
       "      <td>0.066210</td>\n",
       "      <td>0.057390</td>\n",
       "      <td>0.058824</td>\n",
       "      <td>0.060657</td>\n",
       "      <td>0.038314</td>\n",
       "      <td>0.024115</td>\n",
       "      <td>0.229775</td>\n",
       "      <td>0.210771</td>\n",
       "      <td>0.028804</td>\n",
       "      <td>0.024677</td>\n",
       "      <td>...</td>\n",
       "      <td>0.038639</td>\n",
       "      <td>0.331315</td>\n",
       "      <td>0.103015</td>\n",
       "      <td>0.295799</td>\n",
       "      <td>0.019507</td>\n",
       "      <td>0.074586</td>\n",
       "      <td>0.279794</td>\n",
       "      <td>0.106330</td>\n",
       "      <td>0.266895</td>\n",
       "      <td>0.363994</td>\n",
       "    </tr>\n",
       "    <tr>\n",
       "      <th>1</th>\n",
       "      <td>0.066740</td>\n",
       "      <td>0.076932</td>\n",
       "      <td>0.070547</td>\n",
       "      <td>0.045735</td>\n",
       "      <td>0.037617</td>\n",
       "      <td>0.020249</td>\n",
       "      <td>0.177509</td>\n",
       "      <td>0.224366</td>\n",
       "      <td>0.044296</td>\n",
       "      <td>0.066767</td>\n",
       "      <td>...</td>\n",
       "      <td>0.029756</td>\n",
       "      <td>0.192623</td>\n",
       "      <td>0.099991</td>\n",
       "      <td>0.200437</td>\n",
       "      <td>0.037702</td>\n",
       "      <td>0.062023</td>\n",
       "      <td>0.136144</td>\n",
       "      <td>0.167202</td>\n",
       "      <td>0.186974</td>\n",
       "      <td>0.341204</td>\n",
       "    </tr>\n",
       "    <tr>\n",
       "      <th>2</th>\n",
       "      <td>0.121893</td>\n",
       "      <td>0.056821</td>\n",
       "      <td>0.132046</td>\n",
       "      <td>0.037894</td>\n",
       "      <td>0.059942</td>\n",
       "      <td>0.058888</td>\n",
       "      <td>0.166758</td>\n",
       "      <td>0.246476</td>\n",
       "      <td>0.031028</td>\n",
       "      <td>0.090614</td>\n",
       "      <td>...</td>\n",
       "      <td>0.014961</td>\n",
       "      <td>0.135280</td>\n",
       "      <td>0.090051</td>\n",
       "      <td>0.136037</td>\n",
       "      <td>0.039852</td>\n",
       "      <td>0.103505</td>\n",
       "      <td>0.199497</td>\n",
       "      <td>0.178952</td>\n",
       "      <td>0.161226</td>\n",
       "      <td>0.381145</td>\n",
       "    </tr>\n",
       "    <tr>\n",
       "      <th>3</th>\n",
       "      <td>0.178289</td>\n",
       "      <td>0.063896</td>\n",
       "      <td>0.096021</td>\n",
       "      <td>0.056212</td>\n",
       "      <td>0.046566</td>\n",
       "      <td>0.050904</td>\n",
       "      <td>0.179065</td>\n",
       "      <td>0.261910</td>\n",
       "      <td>0.038601</td>\n",
       "      <td>0.067769</td>\n",
       "      <td>...</td>\n",
       "      <td>0.018650</td>\n",
       "      <td>0.103112</td>\n",
       "      <td>0.093828</td>\n",
       "      <td>0.202912</td>\n",
       "      <td>0.085951</td>\n",
       "      <td>0.069917</td>\n",
       "      <td>0.066693</td>\n",
       "      <td>0.148956</td>\n",
       "      <td>0.243418</td>\n",
       "      <td>0.361483</td>\n",
       "    </tr>\n",
       "    <tr>\n",
       "      <th>4</th>\n",
       "      <td>0.148848</td>\n",
       "      <td>0.054913</td>\n",
       "      <td>0.066982</td>\n",
       "      <td>0.035450</td>\n",
       "      <td>0.028589</td>\n",
       "      <td>0.026937</td>\n",
       "      <td>0.150978</td>\n",
       "      <td>0.270327</td>\n",
       "      <td>0.032900</td>\n",
       "      <td>0.031002</td>\n",
       "      <td>...</td>\n",
       "      <td>0.011905</td>\n",
       "      <td>0.108574</td>\n",
       "      <td>0.090078</td>\n",
       "      <td>0.201628</td>\n",
       "      <td>0.029167</td>\n",
       "      <td>0.089226</td>\n",
       "      <td>0.037345</td>\n",
       "      <td>0.153665</td>\n",
       "      <td>0.177132</td>\n",
       "      <td>0.334076</td>\n",
       "    </tr>\n",
       "  </tbody>\n",
       "</table>\n",
       "<p>5 rows × 75 columns</p>\n",
       "</div>"
      ],
      "text/plain": [
       "         1         2         3         4         5         6         7   \\\n",
       "0  0.066210  0.057390  0.058824  0.060657  0.038314  0.024115  0.229775   \n",
       "1  0.066740  0.076932  0.070547  0.045735  0.037617  0.020249  0.177509   \n",
       "2  0.121893  0.056821  0.132046  0.037894  0.059942  0.058888  0.166758   \n",
       "3  0.178289  0.063896  0.096021  0.056212  0.046566  0.050904  0.179065   \n",
       "4  0.148848  0.054913  0.066982  0.035450  0.028589  0.026937  0.150978   \n",
       "\n",
       "         8         9         10  ...        72        73        74        75  \\\n",
       "0  0.210771  0.028804  0.024677  ...  0.038639  0.331315  0.103015  0.295799   \n",
       "1  0.224366  0.044296  0.066767  ...  0.029756  0.192623  0.099991  0.200437   \n",
       "2  0.246476  0.031028  0.090614  ...  0.014961  0.135280  0.090051  0.136037   \n",
       "3  0.261910  0.038601  0.067769  ...  0.018650  0.103112  0.093828  0.202912   \n",
       "4  0.270327  0.032900  0.031002  ...  0.011905  0.108574  0.090078  0.201628   \n",
       "\n",
       "         79        81        82        83        84        85  \n",
       "0  0.019507  0.074586  0.279794  0.106330  0.266895  0.363994  \n",
       "1  0.037702  0.062023  0.136144  0.167202  0.186974  0.341204  \n",
       "2  0.039852  0.103505  0.199497  0.178952  0.161226  0.381145  \n",
       "3  0.085951  0.069917  0.066693  0.148956  0.243418  0.361483  \n",
       "4  0.029167  0.089226  0.037345  0.153665  0.177132  0.334076  \n",
       "\n",
       "[5 rows x 75 columns]"
      ]
     },
     "execution_count": 30,
     "metadata": {},
     "output_type": "execute_result"
    }
   ],
   "source": [
    "activity_scaled_cell_means['GRIN026_H16_M35_S34'].head()"
   ]
  },
  {
   "cell_type": "code",
   "execution_count": 31,
   "metadata": {
    "collapsed": false
   },
   "outputs": [
    {
     "data": {
      "image/png": "[encoded data removed]",
      "text/plain": [
       "<Figure size 432x288 with 1 Axes>"
      ]
     },
     "metadata": {
      "needs_background": "light"
     },
     "output_type": "display_data"
    }
   ],
   "source": [
    "plt.plot(activity_scaled_cell_means['GRIN026_H16_M35_S34'])\n",
    "plt.show()"
   ]
  },
  {
   "cell_type": "code",
   "execution_count": 32,
   "metadata": {
    "collapsed": true
   },
   "outputs": [],
   "source": [
    "# now i want to find the latency from the threshold crossing and sort the events in that manner "
   ]
  },
  {
   "cell_type": "code",
   "execution_count": 33,
   "metadata": {
    "collapsed": true
   },
   "outputs": [],
   "source": [
    "threshold_pt = activity_scaled_cell_means.shape[0]/2"
   ]
  },
  {
   "cell_type": "code",
   "execution_count": 34,
   "metadata": {
    "collapsed": true,
    "scrolled": true
   },
   "outputs": [],
   "source": [
    "latency = activity_scaled_cell_means.idxmax(axis=0)\n",
    "latency_flat = latency.reset_index()\n",
    "latency_sorted = latency_flat.sort_values(by=0)"
   ]
  },
  {
   "cell_type": "code",
   "execution_count": 35,
   "metadata": {
    "collapsed": true
   },
   "outputs": [],
   "source": [
    "sorted_heatmap = np.empty([activity_scaled_cell_means.shape[1], activity_scaled_cell_means.shape[0]])"
   ]
  },
  {
   "cell_type": "code",
   "execution_count": 36,
   "metadata": {
    "collapsed": true
   },
   "outputs": [],
   "source": [
    "#activity_scaled_cell_means['GRIN035_H14_M40_S34'][49]"
   ]
  },
  {
   "cell_type": "code",
   "execution_count": 37,
   "metadata": {
    "collapsed": true
   },
   "outputs": [],
   "source": [
    "for row_idx in range(len(list(latency_sorted.index))):\n",
    "    sorted_heatmap[row_idx] = activity_scaled_cell_means[latency_sorted.loc[list(latency_sorted.index)[row_idx]]['level_0']][latency_sorted.loc[list(latency_sorted.index)[row_idx]]['level_1']]\n",
    "    "
   ]
  },
  {
   "cell_type": "code",
   "execution_count": 38,
   "metadata": {
    "collapsed": false
   },
   "outputs": [
    {
     "data": {
      "image/png": "[encoded data removed]",
      "text/plain": [
       "<Figure size 720x432 with 2 Axes>"
      ]
     },
     "metadata": {
      "needs_background": "light"
     },
     "output_type": "display_data"
    }
   ],
   "source": [
    "# heatmap\n",
    "\n",
    "#fluorescence_events = np.transpose(sorted_heatmap)\n",
    "X_labels = np.linspace(-16, 16, 161)\n",
    "ax = sns.heatmap(sorted_heatmap, xticklabels=X_labels)\n",
    "ax.set_xticks(ax.get_xticks()[::20])\n",
    "ax.set_xticklabels(X_labels[::20])\n",
    "fig = plt.gcf()\n",
    "fig.set_size_inches(10, 6)\n",
    "ax = plt.gca()\n",
    "ax.set_ylabel('cell average F/F0 scaled')\n",
    "ax.set_xlabel('latency from movement onset (sec)')\n",
    "ax.axvline(x=(80), linestyle='--', lw=3, color='k')\n",
    "#fig.subplots_adjust(left=0.15)\n",
    "fig.savefig('/Volumes/My_Passport/cnmfe_analysis_files/OpenFieldAnalysis/2021/cell_avg_aligned_heatmap.pdf', transparent=True)\n",
    "plt.show()\n"
   ]
  },
  {
   "cell_type": "code",
   "execution_count": 39,
   "metadata": {
    "collapsed": true
   },
   "outputs": [],
   "source": [
    "KO_latency = pd.read_csv('/Volumes/My_Passport/cnmfe_analysis_files/OpenFieldAnalysis/2021/motion_onset_alignment/latency_to_movement_onset_KO.csv').drop(['Unnamed: 0'], axis=1)"
   ]
  },
  {
   "cell_type": "code",
   "execution_count": 40,
   "metadata": {
    "collapsed": false
   },
   "outputs": [
    {
     "data": {
      "text/plain": [
       "0        0\n",
       "1        0\n",
       "2        0\n",
       "3        0\n",
       "4        0\n",
       "      ... \n",
       "759    159\n",
       "760    159\n",
       "761    159\n",
       "762    159\n",
       "763    159\n",
       "Name: 0, Length: 764, dtype: int64"
      ]
     },
     "execution_count": 40,
     "metadata": {},
     "output_type": "execute_result"
    }
   ],
   "source": [
    "KO_latency['0']"
   ]
  },
  {
   "cell_type": "code",
   "execution_count": 41,
   "metadata": {
    "collapsed": false
   },
   "outputs": [
    {
     "data": {
      "text/plain": [
       "638   -15.9\n",
       "948   -15.9\n",
       "688   -15.9\n",
       "875   -15.9\n",
       "706   -15.9\n",
       "       ... \n",
       "169    15.9\n",
       "72     15.9\n",
       "591    15.9\n",
       "365    15.9\n",
       "950    15.9\n",
       "Name: 0, Length: 951, dtype: float64"
      ]
     },
     "execution_count": 41,
     "metadata": {},
     "output_type": "execute_result"
    }
   ],
   "source": [
    "#convert to seconds for display \n",
    "latency_sorted[0]*(.2)-(31.8/2)"
   ]
  },
  {
   "cell_type": "code",
   "execution_count": 42,
   "metadata": {
    "collapsed": false
   },
   "outputs": [
    {
     "data": {
      "image/png": "[encoded data removed]",
      "text/plain": [
       "<Figure size 720x432 with 1 Axes>"
      ]
     },
     "metadata": {
      "needs_background": "light"
     },
     "output_type": "display_data"
    }
   ],
   "source": [
    "## plot a histogram of the latency to threshold\n",
    "plt.hist(latency_sorted[0]*(.2)-(31.8/2), 50)\n",
    "plt.hist(KO_latency['0']*(.2)-(31.8/2), 50, color='g')\n",
    "fig = plt.gcf()\n",
    "fig.set_size_inches(10, 6)\n",
    "ax = plt.gca()\n",
    "ax.set_ylabel('counts')\n",
    "ax.set_xlabel('latency from/to movement onset (seconds)')\n",
    "ax.axvline(x=(0), linestyle='--', lw=2, color='k')\n",
    "fig.subplots_adjust(left=0.15)\n",
    "fig.savefig('/Volumes/My_Passport/cnmfe_analysis_files/OpenFieldAnalysis/2021/motion_onset_alignment/cumulative_latency_histogram.pdf', transparent=True)\n",
    "plt.show()"
   ]
  },
  {
   "cell_type": "code",
   "execution_count": 43,
   "metadata": {
    "collapsed": true
   },
   "outputs": [],
   "source": [
    "# plot cumulative histogram\n",
    "cumulative_latency = stats.cumfreq(latency_sorted[0].values, numbins=100, defaultreallimits=(0, 160))\n",
    "cumulative_latency_KO = stats.cumfreq(KO_latency['0'].values, numbins=100, defaultreallimits=(0, 160))"
   ]
  },
  {
   "cell_type": "code",
   "execution_count": 44,
   "metadata": {
    "collapsed": true
   },
   "outputs": [],
   "source": [
    "#cumulative_latency"
   ]
  },
  {
   "cell_type": "code",
   "execution_count": 45,
   "metadata": {
    "collapsed": true
   },
   "outputs": [],
   "source": [
    "cumulative_data = cumulative_latency.cumcount/len(latency_sorted[0].values)\n",
    "cumulative_data_KO = cumulative_latency_KO.cumcount/len(KO_latency['0'].values)"
   ]
  },
  {
   "cell_type": "code",
   "execution_count": 46,
   "metadata": {
    "collapsed": false
   },
   "outputs": [
    {
     "data": {
      "image/png": "[encoded data removed]",
      "text/plain": [
       "<Figure size 720x432 with 1 Axes>"
      ]
     },
     "metadata": {
      "needs_background": "light"
     },
     "output_type": "display_data"
    }
   ],
   "source": [
    "plt.rcParams.update({'font.size': 22})\n",
    "plt.plot(np.linspace(-16, 16, 100), cumulative_data, linewidth=7.0)\n",
    "plt.plot(np.linspace(-16, 16, 100), cumulative_data_KO, color='darkseagreen', linewidth=7.0)\n",
    "plt.xlim((-16, 16))\n",
    "fig = plt.gcf()\n",
    "fig.set_size_inches(10, 6)\n",
    "ax = plt.gca()\n",
    "ax.set_ylabel('cumulative fraction')\n",
    "ax.set_xlabel('latency from/to movement onset (seconds)')\n",
    "ax.axvline(x=(0), linestyle='--', lw=2, color='k')\n",
    "fig.subplots_adjust(left=0.15)\n",
    "fig.savefig('/Volumes/My_Passport/cnmfe_analysis_files/OpenFieldAnalysis/2021/motion_onset_alignment/cumulative_latency.pdf', transparent=True)\n",
    "plt.show()"
   ]
  },
  {
   "cell_type": "code",
   "execution_count": 47,
   "metadata": {
    "collapsed": false
   },
   "outputs": [
    {
     "data": {
      "text/plain": [
       "Ks_2sampResult(statistic=0.09, pvalue=0.8154147124661313)"
      ]
     },
     "execution_count": 47,
     "metadata": {},
     "output_type": "execute_result"
    }
   ],
   "source": [
    "stats.ks_2samp(cumulative_data, cumulative_data_KO)"
   ]
  },
  {
   "cell_type": "code",
   "execution_count": null,
   "metadata": {
    "collapsed": true
   },
   "outputs": [],
   "source": [
    "##average together by session "
   ]
  },
  {
   "cell_type": "code",
   "execution_count": null,
   "metadata": {
    "collapsed": true
   },
   "outputs": [],
   "source": [
    "#concat by mouse \n",
    "concacted_by_mouse = {}\n",
    "for mouse in list(set([session[0:7] for session in list(triggered_activity_across_sessions.keys())])):\n",
    "    dfs_by_mouse = []\n",
    "    sessions = []\n",
    "    for session in list(triggered_activity_across_sessions.keys()):\n",
    "        if mouse in session:\n",
    "            if not(triggered_activity_across_sessions[session].empty):\n",
    "                means = triggered_activity_across_sessions[session].mean(axis=1, level=0)\n",
    "                dfs_by_mouse.append(means)\n",
    "                sessions.append(session)\n",
    "    if len(dfs_by_mouse)>0:\n",
    "        concacted_by_mouse[mouse] = pd.concat(dfs_by_mouse, axis=1, keys=sessions)\n",
    "combined_by_mouse = pd.concat(list(concacted_by_mouse.values()), axis=1, keys=list(concacted_by_mouse.keys()))"
   ]
  },
  {
   "cell_type": "code",
   "execution_count": null,
   "metadata": {
    "collapsed": true
   },
   "outputs": [],
   "source": [
    "combined_by_mouse_timedelta = combined_by_mouse.set_index(pd.to_timedelta(np.linspace(0, (len(combined_by_mouse)-1)*(1/5), len(combined_by_mouse)), unit='s'), drop=True)\n",
    "resampled_for_plotting = combined_by_mouse_timedelta.resample('.4S').mean()"
   ]
  },
  {
   "cell_type": "code",
   "execution_count": null,
   "metadata": {
    "collapsed": true
   },
   "outputs": [],
   "source": [
    "#resampled_for_plotting.head()"
   ]
  },
  {
   "cell_type": "code",
   "execution_count": null,
   "metadata": {
    "collapsed": true
   },
   "outputs": [],
   "source": [
    "plt.rcParams.update({'font.size': 22})\n",
    "df_to_plot = resampled_for_plotting\n",
    "activity_measure = 'spatial_coordination'\n",
    "x = np.linspace(-(len(df_to_plot)/2)*.4, (len(df_to_plot)/2)*.4, len(df_to_plot))\n",
    "scale_f = 0.0868\n",
    "mean=df_to_plot.mean(axis=1, level=2)['velocity'].values*scale_f\n",
    "plt.plot(x, df_to_plot.mean(axis=1, level=2)['velocity'].values*scale_f, color='k')\n",
    "std_error = ((df_to_plot.std(axis=1, level=2)['velocity'])/math.sqrt(df_to_plot.mean(axis=1, level=0).shape[1]))*scale_f\n",
    "plt.fill_between(x, mean-std_error, mean+std_error)\n",
    "ax = plt.gca()\n",
    "ax.set_ylabel('velocity cm/sec')\n",
    "ax.set_xlabel('time (seconds)')\n",
    "ax.axvline(x=(0), linestyle='--', color='r')\n",
    "fig = plt.gcf()\n",
    "fig.set_size_inches(7, 6)\n",
    "#fig.draw()\n",
    "#fig.savefig('/home/jma819/presentation_files/wt_velocity_spatial_coord_triggered.svg', transparent=True)\n",
    "fig.subplots_adjust(left=0.15)\n",
    "fig.savefig('/Volumes/My_Passport/cnmfe_analysis_files/OpenFieldAnalysis/2020/motion_onset_alignment/v_triggered.pdf', transparent=True)\n",
    "plt.show()"
   ]
  },
  {
   "cell_type": "code",
   "execution_count": null,
   "metadata": {
    "collapsed": true
   },
   "outputs": [],
   "source": [
    "activity_measure = 'fluorescence'\n",
    "x = np.linspace(-(len(df_to_plot)/2)*.4, (len(df_to_plot)/2)*.4, len(df_to_plot))\n",
    "mean = df_to_plot.mean(axis=1, level=2)[activity_measure].values\n",
    "plt.plot(x, mean, color='k')\n",
    "std_error = (df_to_plot.std(axis=1, level=2)[activity_measure])/math.sqrt(df_to_plot.mean(axis=1, level=0).shape[1]*1)\n",
    "plt.fill_between(x, mean-std_error, mean+std_error)\n",
    "ax = plt.gca()\n",
    "ax.set_ylabel('dF/F z-score')\n",
    "ax.set_xlabel('time (seconds)')\n",
    "ax.set_ylim([-0.02, 1.2])\n",
    "ax.axvline(x=0, linestyle='--', color='r')\n",
    "fig = plt.gcf()\n",
    "fig.set_size_inches(7, 6)\n",
    "#fig.draw()\n",
    "#fig.savefig('.svg')\n",
    "fig.subplots_adjust(left=0.15)\n",
    "fig.savefig('/Volumes/My_Passport/cnmfe_analysis_files/OpenFieldAnalysis/2020/motion_onset_alignment/wt_fluorescence_triggered.pdf', transparent=True)\n",
    "plt.show()"
   ]
  },
  {
   "cell_type": "markdown",
   "metadata": {},
   "source": [
    "## event ISIs "
   ]
  },
  {
   "cell_type": "code",
   "execution_count": null,
   "metadata": {
    "collapsed": true
   },
   "outputs": [],
   "source": [
    "filtered_for_analysis = {}\n",
    "for session in list(grouped_raw_data.keys()):\n",
    "    filtered_for_analysis[session] = utils_jjm.filter_out_by_size(grouped_raw_data[session]['C_normalized_z_scored'], grouped_raw_data[session]['cell_contours'], \n",
    "                                                                  grouped_raw_data[session]['for_dims'], 0.6, 100)\n",
    "C_df = pd.concat([filtered_for_analysis[session].resample(str(new_sampling_interval)+'S').max()\n",
    "                  for session in list(grouped_raw_data.keys())], keys=list(grouped_raw_data.keys()))"
   ]
  },
  {
   "cell_type": "code",
   "execution_count": null,
   "metadata": {
    "collapsed": true
   },
   "outputs": [],
   "source": [
    "C_df = C_df.drop(['msCamFrame'], axis=1)"
   ]
  },
  {
   "cell_type": "code",
   "execution_count": null,
   "metadata": {
    "collapsed": true
   },
   "outputs": [],
   "source": []
  },
  {
   "cell_type": "code",
   "execution_count": null,
   "metadata": {
    "collapsed": true
   },
   "outputs": [],
   "source": [
    "ISIs_by_session = []\n",
    "for session in list(grouped_raw_data.keys()):\n",
    "    print(session)\n",
    "    event_indicies, event_times, event_ISIs = utils_jjm.get_ISIs(C_df.loc[session].dropna(axis=1), 20, .1, np.array(C_df.loc[session].dropna(axis=1).columns), 2)\n",
    "    ISIs_by_session.append(event_ISIs)"
   ]
  },
  {
   "cell_type": "code",
   "execution_count": null,
   "metadata": {
    "collapsed": true
   },
   "outputs": [],
   "source": []
  },
  {
   "cell_type": "code",
   "execution_count": null,
   "metadata": {
    "collapsed": true
   },
   "outputs": [],
   "source": []
  }
 ],
 "metadata": {
  "kernelspec": {
   "display_name": "caiman",
   "language": "python",
   "name": "caiman"
  },
  "language_info": {
   "codemirror_mode": {
    "name": "ipython",
    "version": 3
   },
   "file_extension": ".py",
   "mimetype": "text/x-python",
   "name": "python",
   "nbconvert_exporter": "python",
   "pygments_lexer": "ipython3",
   "version": "3.6.7"
  }
 },
 "nbformat": 4,
 "nbformat_minor": 2
}
