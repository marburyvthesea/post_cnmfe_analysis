{
 "cells": [
  {
   "cell_type": "code",
   "execution_count": 19,
   "metadata": {},
   "outputs": [
    {
     "name": "stderr",
     "output_type": "stream",
     "text": [
      "C:\\Users\\scanimage\\AppData\\Local\\Temp\\ipykernel_8464\\912229180.py:1: DeprecationWarning: Importing display from IPython.core.display is deprecated since IPython 7.14, please import from IPython display\n",
      "  from IPython.core.display import display, HTML\n"
     ]
    },
    {
     "data": {
      "text/html": [
       "<style>.container { width:90% !important; }</style>"
      ],
      "text/plain": [
       "<IPython.core.display.HTML object>"
      ]
     },
     "metadata": {},
     "output_type": "display_data"
    }
   ],
   "source": [
    "from IPython.core.display import display, HTML\n",
    "display(HTML(\"<style>.container { width:90% !important; }</style>\"))"
   ]
  },
  {
   "cell_type": "code",
   "execution_count": 20,
   "metadata": {},
   "outputs": [],
   "source": [
    "import sys\n",
    "import os\n",
    "import glob\n",
    "import importlib\n",
    "import multiprocessing as mp\n",
    "import itertools\n",
    "import math\n",
    "import random \n",
    "\n",
    "from matplotlib import pyplot as plt\n",
    "import matplotlib.image as mpimg\n",
    "from matplotlib import colors as mcolors\n",
    "import scipy.sparse as sparse\n",
    "import scipy.io as sio\n",
    "import scipy.stats as stats\n",
    "import scipy.spatial.distance as dist\n",
    "import numpy as np\n",
    "import h5py\n",
    "from tqdm import tqdm\n",
    "import pandas as pd\n",
    "#import tables\n",
    "#import deepdish as dd\n",
    "\n",
    "sys.path.append('C:\\\\Users\\\\scanimage\\\\Documents\\\\JJM\\\\post_cnmfe_analysis\\\\')\n",
    "import python_utils_jjm as jjm_utils"
   ]
  },
  {
   "cell_type": "code",
   "execution_count": 22,
   "metadata": {},
   "outputs": [
    {
     "data": {
      "text/plain": [
       "['13-Nov_18_04_16_out.mat',\n",
       " 'new_sessions_2023_09_28_My_V4_Miniscope_com_filtered.csv',\n",
       " 'new_sessions_2023_09_28_My_V4_Miniscope_C_traces_filtered.csv']"
      ]
     },
     "execution_count": 22,
     "metadata": {},
     "output_type": "execute_result"
    }
   ],
   "source": [
    "os.listdir('F:\\\\JJM\\\\miniscope_analysis_CA1\\\\cnmfe_output\\\\14_26_45_21928_run00\\\\')"
   ]
  },
  {
   "cell_type": "code",
   "execution_count": 24,
   "metadata": {},
   "outputs": [],
   "source": [
    "results_file = 'F:\\\\JJM\\\\miniscope_analysis_CA1\\\\cnmfe_output\\\\14_26_45_21928_run00\\\\13-Nov_18_04_16_out.mat'\n",
    "results = sio.loadmat(results_file)"
   ]
  },
  {
   "cell_type": "code",
   "execution_count": 25,
   "metadata": {},
   "outputs": [
    {
     "data": {
      "text/plain": [
       "<360000x408 sparse matrix of type '<class 'numpy.float64'>'\n",
       "\twith 196138 stored elements in Compressed Sparse Column format>"
      ]
     },
     "execution_count": 25,
     "metadata": {},
     "output_type": "execute_result"
    }
   ],
   "source": [
    "results['A']"
   ]
  },
  {
   "cell_type": "markdown",
   "metadata": {},
   "source": [
    "##plot contours from A, spatial profile of detected neurons, on correlation image (Cn) or image from file "
   ]
  },
  {
   "cell_type": "code",
   "execution_count": 26,
   "metadata": {},
   "outputs": [],
   "source": [
    "#input list to plot\n",
    "to_plot = [1, 3, 5, 6, 12, 13]"
   ]
  },
  {
   "cell_type": "code",
   "execution_count": 27,
   "metadata": {},
   "outputs": [],
   "source": [
    "# A is stored as \"sparse matrix\", convert to dense \n",
    "sparse.issparse(results['A'])\n",
    "A = np.array(results['A'].todense())"
   ]
  },
  {
   "cell_type": "code",
   "execution_count": 28,
   "metadata": {},
   "outputs": [],
   "source": [
    "img_file = 'F:\\\\JJM\\\\miniscope_analysis_CA1\\\\figure\\\\21928_MAX_Substack_500_1000-1.tif'\n",
    "img_from_file = mpimg.imread(img_file) \n",
    "#plt.imshow(img_from_file)"
   ]
  },
  {
   "cell_type": "code",
   "execution_count": 29,
   "metadata": {},
   "outputs": [
    {
     "data": {
      "text/plain": [
       "(600, 600)"
      ]
     },
     "execution_count": 29,
     "metadata": {},
     "output_type": "execute_result"
    }
   ],
   "source": [
    "np.shape(img_from_file)"
   ]
  },
  {
   "cell_type": "code",
   "execution_count": 30,
   "metadata": {},
   "outputs": [],
   "source": [
    "# Correlation image \n",
    "#Cn = results['Cn']\n",
    "Cn = np.transpose(img_from_file)\n",
    "#c, d1, d2 = np.shape(Cn)\n",
    "d1, d2 = np.shape(Cn)\n",
    "d, nr = np.shape(A)"
   ]
  },
  {
   "cell_type": "code",
   "execution_count": 31,
   "metadata": {},
   "outputs": [],
   "source": [
    "# threshold for contour\n",
    "maxthr=0.4\n",
    "nrgthr=0.9"
   ]
  },
  {
   "cell_type": "code",
   "execution_count": 32,
   "metadata": {},
   "outputs": [],
   "source": [
    "# mesh grid that represents the x, y dimensions of the image\n",
    "x, y = np.mgrid[0:d1:1, 0:d2:1]"
   ]
  },
  {
   "cell_type": "code",
   "execution_count": 33,
   "metadata": {},
   "outputs": [],
   "source": [
    "#create plot\n",
    "#%matplotlib inline\n",
    "#ax = plt.gca()\n",
    "#cmap=None\n",
    "#plt.imshow(np.transpose(Cn), interpolation=None, cmap='gray', vmin=np.percentile(Cn[~np.isnan(Cn)], 1),vmax=np.percentile(Cn[~np.isnan(Cn)], 99))"
   ]
  },
  {
   "cell_type": "code",
   "execution_count": 34,
   "metadata": {},
   "outputs": [],
   "source": [
    "coordinates = []\n",
    "#cm is an array of tuples \n",
    "cm = jjm_utils.com(A, d1, d2)"
   ]
  },
  {
   "cell_type": "code",
   "execution_count": 35,
   "metadata": {},
   "outputs": [
    {
     "data": {
      "text/plain": [
       "408"
      ]
     },
     "execution_count": 35,
     "metadata": {},
     "output_type": "execute_result"
    }
   ],
   "source": [
    "len(results['C'])"
   ]
  },
  {
   "cell_type": "code",
   "execution_count": 36,
   "metadata": {},
   "outputs": [],
   "source": [
    "#[int(i) for i in np.linspace(1,126,126)]"
   ]
  },
  {
   "cell_type": "code",
   "execution_count": 37,
   "metadata": {},
   "outputs": [],
   "source": [
    "to_plot = [1, 3, 5, 6, 12, 13, 14, 20, 24, 44, 51]\n",
    "#to_plot = [int(i) for i in np.linspace(0,220,50)]\n",
    "#to_plot"
   ]
  },
  {
   "cell_type": "code",
   "execution_count": 18,
   "metadata": {},
   "outputs": [
    {
     "data": {
      "text/plain": [
       "['#1f77b4',\n",
       " '#ff7f0e',\n",
       " '#2ca02c',\n",
       " '#d62728',\n",
       " '#9467bd',\n",
       " '#8c564b',\n",
       " '#e377c2',\n",
       " '#7f7f7f',\n",
       " '#bcbd22',\n",
       " '#17becf']"
      ]
     },
     "execution_count": 18,
     "metadata": {},
     "output_type": "execute_result"
    }
   ],
   "source": [
    "list(mcolors.TABLEAU_COLORS.values())"
   ]
  },
  {
   "cell_type": "code",
   "execution_count": null,
   "metadata": {},
   "outputs": [],
   "source": [
    "com_cnmfe = pd.read_csv('F:\\JJM\\miniscope_analysis\\dSPNs\\clustering_analysis\\DIO_r2_19_Day_3_13_54_25_com_filtered.csv')"
   ]
  },
  {
   "cell_type": "code",
   "execution_count": null,
   "metadata": {},
   "outputs": [],
   "source": [
    "[int(i) for i in list(com_cnmfe.columns)[2:]]"
   ]
  },
  {
   "cell_type": "code",
   "execution_count": null,
   "metadata": {},
   "outputs": [],
   "source": [
    "#rotated_image = np.rot90(img_from_file, k=-1)\n",
    "#rotated_image = np.rot90(rotated_image, k=-1)\n",
    "#rotated_image = np.rot90(rotated_image, k=-1)\n",
    "to_plot = [3, \n",
    "           5, 6, 13, 14, 20, 24, 44, 51, 55, 65, 95, 105, 135, 145, 155,\n",
    "          0, 10, 20, 30, 40, 50, 60, 70, 80, 100, 110, 140, 150, 180, 190, 210, 220,\n",
    "         113, 123, 133,\n",
    "          19, 25, 30, 31, 32, 35, 43, 47, 48]\n",
    "#           25, 27, 28, 30, 31, 32, 34, 35, 43, 47, 48, 49, 55, 62]\n",
    "\n",
    "maxthr = 0.4\n",
    "fig, ax = plt.subplots()\n",
    "\n",
    "ax.imshow(img_from_file, cmap='gray')\n",
    "\n",
    "ax.axis('off')\n",
    "\n",
    "if to_plot:\n",
    "    cells_to_plot = to_plot\n",
    "\n",
    "cells_to_plot\n",
    "\n",
    "if to_plot:\n",
    "    cells_to_plot = to_plot\n",
    "else:\n",
    "    max_number=nr\n",
    "    cells_to_plot = range(np.minimum(nr, max_number))\n",
    "\n",
    "contour_colors = [random.choice(list(mcolors.TABLEAU_COLORS.values())) for _ in range(len(cells_to_plot))]    \n",
    "    \n",
    "for i, color in zip(cells_to_plot, contour_colors):\n",
    "    #pars = dict(kwargs)\n",
    "    Bvec = A[:, i].flatten()\n",
    "    #normalize spatial contours to 1 \n",
    "    Bvec /= np.max(Bvec)\n",
    "    thr = maxthr\n",
    "# reshape to dimensions of image \n",
    "    Bmat = np.reshape(Bvec, (d1, d2), order='F')\n",
    "    colors = 'r'\n",
    "    cs = plt.contour(y, x, Bmat, [thr], colors=color)\n",
    "    #cs = plt.contour(y, x, Bmat, [thr], color='r')\n",
    "    for contour in cs.collections:\n",
    "        paths = contour.get_paths()\n",
    "        for path in paths:\n",
    "            x_center = np.mean(path.vertices[:, 0])\n",
    "            y_center = np.mean(path.vertices[:, 1])\n",
    "\n",
    "            # Add text annotation with the cell index at the center of the contour\n",
    "#            plt.text(x_center, y_center, str(i), color='r', fontsize=6)\n",
    "plt.savefig('F:\\\\JJM\\\\Marshall_et_al_2023\\\\Figure1\\\\eg_image\\\\DIO_r2_19_14_20_58\\\\imgwithcontours.tif')\n",
    "#plt.savefig('F:\\\\JJM\\\\Marshall_et_al_2023\\\\Figure1\\\\eg_image\\\\DIO_r2_19_14_20_58\\\\contours.tif', format='svg', transparent=True)"
   ]
  },
  {
   "cell_type": "code",
   "execution_count": null,
   "metadata": {},
   "outputs": [],
   "source": [
    "region_to_plot = (0,1000)\n",
    "cells_to_plot = [1, 5, 7, 8, 14, 19, 20, 29]\n",
    "N = len(cells_to_plot)\n",
    "fig, axs = plt.subplots(N, 1, figsize=(6, 2 * N), sharey=True) \n",
    "\n",
    "for ax in axs:\n",
    "    ax.axis('off')\n",
    "\n",
    "for i, color, ax in zip(cells_to_plot, contour_colors, axs):\n",
    "    ax.plot(results['C'][i][region_to_plot[0]:region_to_plot[1]], color=color)\n",
    "    \n",
    "plt.tight_layout()\n",
    "plt.savefig('F:\\\\JJM\\\\Marshall_et_al_2023\\\\Figure1\\\\eg_image\\\\DIO_r2_19_14_20_58\\\\traces.svg')\n",
    "plt.show()"
   ]
  },
  {
   "cell_type": "code",
   "execution_count": null,
   "metadata": {},
   "outputs": [],
   "source": [
    "#### plot one with scale\n",
    "region_to_plot = (0,1000)\n",
    "to_plot_scale =[1, 5, 7, 8, 14, 19, 20, 29]\n",
    "N = len(to_plot_scale)\n",
    "fig, axs = plt.subplots(N, 1, figsize=(6, 2 * N), sharey=True) \n",
    "\n",
    "for ax in axs:\n",
    "    ax.axis('on')\n",
    "\n",
    "for i, color, ax in zip(to_plot_scale, contour_colors, axs):\n",
    "    ax.plot(results['C'][i][region_to_plot[0]:region_to_plot[1]], color=color)\n",
    "    \n",
    "plt.tight_layout()\n",
    "plt.savefig('F:\\\\JJM\\\\Marshall_et_al_2023\\\\Figure1\\\\eg_image\\\\DIO_r2_19_14_20_58\\\\traces_scale.tif')\n",
    "plt.show()"
   ]
  },
  {
   "cell_type": "code",
   "execution_count": null,
   "metadata": {},
   "outputs": [],
   "source": [
    "len(results['C'][1])"
   ]
  },
  {
   "cell_type": "code",
   "execution_count": null,
   "metadata": {},
   "outputs": [],
   "source": [
    "coordinates = []\n",
    "cm = jjm_utils.com(A, d1, d2)\n",
    "\n",
    "if to_plot:\n",
    "    cells_to_plot = to_plot\n",
    "\n",
    "cells_to_plot\n",
    "\n",
    "if to_plot:\n",
    "    cells_to_plot = to_plot\n",
    "else:\n",
    "    max_number=nr\n",
    "    cells_to_plot = range(np.minimum(nr, max_number))\n",
    "\n",
    "for i in cells_to_plot:\n",
    "    #pars = dict(kwargs)\n",
    "    Bvec = A[:, i].flatten()\n",
    "    #normalize spatial contours to 1 \n",
    "    Bvec /= np.max(Bvec)\n",
    "    thr = maxthr\n",
    "# reshape to dimensions of image \n",
    "    Bmat = np.reshape(Bvec, np.shape(Cn), order='F')\n",
    "    colors = 'r'\n",
    "    cs = plt.contour(y, x, Bmat, [thr], colors=colors)\n",
    "    plt.savefig('F:\\\\JJM\\\\miniscope_analysis\\\\figures\\\\GRIN011_egforfigure\\\\MAX_GRIN011_H10_M19_S59msCam9_390_440_w_contours.png')"
   ]
  },
  {
   "cell_type": "code",
   "execution_count": null,
   "metadata": {},
   "outputs": [],
   "source": [
    "plt.savefig('F:\\\\JJM\\\\miniscope_analysis\\\\figures\\\\GRIN011_egforfigure\\\\MAX_GRIN011_H10_M19_S59msCam9_390_440_w_contours.png')"
   ]
  },
  {
   "cell_type": "code",
   "execution_count": null,
   "metadata": {},
   "outputs": [],
   "source": [
    "cs"
   ]
  },
  {
   "cell_type": "code",
   "execution_count": null,
   "metadata": {},
   "outputs": [],
   "source": []
  }
 ],
 "metadata": {
  "kernelspec": {
   "display_name": "2pCNMFEAnalysisEnv",
   "language": "python",
   "name": "2pcnmfeanalysisenv"
  },
  "language_info": {
   "codemirror_mode": {
    "name": "ipython",
    "version": 3
   },
   "file_extension": ".py",
   "mimetype": "text/x-python",
   "name": "python",
   "nbconvert_exporter": "python",
   "pygments_lexer": "ipython3",
   "version": "3.10.4"
  }
 },
 "nbformat": 4,
 "nbformat_minor": 2
}
