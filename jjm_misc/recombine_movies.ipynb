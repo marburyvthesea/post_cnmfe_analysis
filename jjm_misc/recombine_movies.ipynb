{
 "cells": [
  {
   "cell_type": "code",
   "execution_count": 1,
   "metadata": {
    "scrolled": true
   },
   "outputs": [
    {
     "name": "stderr",
     "output_type": "stream",
     "text": [
      "C:\\Users\\scanimage\\AppData\\Local\\Temp\\ipykernel_9056\\912229180.py:1: DeprecationWarning: Importing display from IPython.core.display is deprecated since IPython 7.14, please import from IPython display\n",
      "  from IPython.core.display import display, HTML\n"
     ]
    },
    {
     "data": {
      "text/html": [
       "<style>.container { width:90% !important; }</style>"
      ],
      "text/plain": [
       "<IPython.core.display.HTML object>"
      ]
     },
     "metadata": {},
     "output_type": "display_data"
    }
   ],
   "source": [
    "from IPython.core.display import display, HTML\n",
    "display(HTML(\"<style>.container { width:90% !important; }</style>\"))"
   ]
  },
  {
   "cell_type": "code",
   "execution_count": 2,
   "metadata": {},
   "outputs": [],
   "source": [
    "from matplotlib import pyplot as plt\n",
    "import sys\n",
    "import matplotlib.animation as animation\n",
    "import scipy.sparse as sparse\n",
    "import scipy.io as sio\n",
    "import scipy.stats as stats\n",
    "import scipy.spatial.distance as dist\n",
    "import numpy as np\n",
    "import h5py\n",
    "from tqdm import tqdm\n",
    "import pandas as pd\n",
    "import imageio\n",
    "\n",
    "#import tables\n",
    "#import deepdish as dd\n",
    "\n",
    "#sys.path.append('/home/jma819/post_cmfe_analysis')\n",
    "sys.path.append(r'C:\\Users\\scanimage\\Documents\\JJM\\post_cnmfe_analysis')\n",
    "import python_utils_jjm as utils_jjm"
   ]
  },
  {
   "cell_type": "code",
   "execution_count": 3,
   "metadata": {},
   "outputs": [],
   "source": [
    "results_file = r'F:\\MKB\\13-Jun_11_52_21_out.mat'"
   ]
  },
  {
   "cell_type": "code",
   "execution_count": 4,
   "metadata": {
    "scrolled": true
   },
   "outputs": [
    {
     "data": {
      "text/plain": [
       "'F:\\\\MKB\\\\13-Jun_11_52_21_out.mat'"
      ]
     },
     "execution_count": 4,
     "metadata": {},
     "output_type": "execute_result"
    }
   ],
   "source": [
    "results_file.split('/')[-1]"
   ]
  },
  {
   "cell_type": "code",
   "execution_count": 5,
   "metadata": {},
   "outputs": [
    {
     "data": {
      "text/plain": [
       "'F:\\\\MKB\\\\13-Jun_11_52_21_out_demixed_color.h5'"
      ]
     },
     "execution_count": 5,
     "metadata": {},
     "output_type": "execute_result"
    }
   ],
   "source": [
    "results_file[0:-4]+'_demixed_color.h5'"
   ]
  },
  {
   "cell_type": "code",
   "execution_count": 6,
   "metadata": {},
   "outputs": [],
   "source": [
    "results = sio.loadmat(results_file)"
   ]
  },
  {
   "cell_type": "code",
   "execution_count": 7,
   "metadata": {},
   "outputs": [
    {
     "data": {
      "text/plain": [
       "{'__header__': b'MATLAB 5.0 MAT-file, Platform: GLNXA64, Created on: Mon Jun 13 13:40:26 2022',\n",
       " '__version__': '1.0',\n",
       " '__globals__': [],\n",
       " 'A': <360000x6 sparse matrix of type '<class 'numpy.float64'>'\n",
       " \twith 9465 stored elements in Compressed Sparse Column format>,\n",
       " 'A_prev': array([], shape=(0, 0), dtype=uint8),\n",
       " 'C': array([[2.93705213e-01, 2.51882919e-01, 2.16015931e-01, ...,\n",
       "         5.61202929e-06, 5.51919958e-06, 5.42790539e-06],\n",
       "        [1.54582047e-01, 1.38036903e-01, 1.23262611e-01, ...,\n",
       "         0.00000000e+00, 0.00000000e+00, 0.00000000e+00],\n",
       "        [0.00000000e+00, 0.00000000e+00, 0.00000000e+00, ...,\n",
       "         1.17787420e-01, 0.00000000e+00, 0.00000000e+00],\n",
       "        [0.00000000e+00, 0.00000000e+00, 0.00000000e+00, ...,\n",
       "         1.10702457e-10, 1.05183723e-10, 9.99401083e-11],\n",
       "        [1.38083456e+00, 1.51317792e+00, 1.95224315e+00, ...,\n",
       "         1.10590269e-02, 1.07533240e-02, 0.00000000e+00],\n",
       "        [8.82562384e-01, 7.72275150e-01, 6.75769688e-01, ...,\n",
       "         1.00442048e-04, 9.67158727e-05, 9.31279299e-05]]),\n",
       " 'C_prev': array([], shape=(0, 0), dtype=uint8),\n",
       " 'C_raw': array([[ 0.29092547,  0.27857655,  0.25013224, ...,  0.03120261,\n",
       "         -0.01337186, -0.02417767],\n",
       "        [ 0.14398871,  0.18528892,  0.16526221, ..., -0.0163    ,\n",
       "          0.08895147,  0.01734056],\n",
       "        [-0.11764798, -0.12151316, -0.02444811, ...,  0.11558283,\n",
       "          0.18487353,  0.17578871],\n",
       "        [-0.13414943, -0.07527702, -0.02215068, ..., -0.04962773,\n",
       "         -0.01300634, -0.0140731 ],\n",
       "        [ 1.47980877,  1.61215213,  2.06498245, ...,  0.05356372,\n",
       "          0.0169367 ,  0.30482818],\n",
       "        [ 0.86094891,  0.85773681,  0.75914894, ..., -0.01200436,\n",
       "         -0.00675364, -0.01298854]]),\n",
       " 'S': <6x28071 sparse matrix of type '<class 'numpy.float64'>'\n",
       " \twith 34822 stored elements in Compressed Sparse Column format>,\n",
       " 'kernel': array([[(array([[50]], dtype=uint8), array(['exp2'], dtype='<U4'), array([[10,  1]], dtype=uint8), MatlabFunction([[(array(['/hpc/software/matlab/R2018a'], dtype='<U27'), array(['/'], dtype='<U1'), array(['@'], dtype='<U1'), array([[(array(['sf%2@(pars,t)(exp(-t/pars(1))-exp(-t/pars(2)))/((1-exp(-nMax/pars(1)))/(1-exp(-1/pars(1)))-(1-exp(-nMax/pars(2)))/(1-exp(-1/pars(2))))'],\n",
       "                                        dtype='<U134'), array(['anonymous'], dtype='<U9'), array(['/projects/p30771/MATLAB/CNMF_E_jjm/OASIS_matlab/packages/oasis/create_kernel.m'],\n",
       "                                        dtype='<U78'), MatlabOpaque([(b'', b'MCOS', b'function_handle_workspace', array([[3707764736],\n",
       "                                                       [         2],\n",
       "                                                       [         1],\n",
       "                                                       [         1],\n",
       "                                                       [         1],\n",
       "                                                       [         1]], dtype=uint32))                             ],\n",
       "                                               dtype=[('s0', 'O'), ('s1', 'O'), ('s2', 'O'), ('arr', 'O')]), array([], dtype='<U1'))                                                ]],\n",
       "                                dtype=[('function', 'O'), ('type', 'O'), ('file', 'O'), ('workspace', 'O'), ('within_file_path', 'O')]))                                                                                                                                                         ]],\n",
       "                        dtype=[('matlabroot', 'O'), ('separator', 'O'), ('sentinel', 'O'), ('function_handle', 'O')]), array([[5. , 0.5]]), array([[20,  2]], dtype=uint8), array([[0]], dtype=uint8))                                                                                                                                                                                      ]],\n",
       "       dtype=[('nMax', 'O'), ('type', 'O'), ('pars', 'O'), ('fhandle', 'O'), ('lb', 'O'), ('ub', 'O'), ('bound_pars', 'O')]),\n",
       " 'b': array([[array([], shape=(1, 0), dtype=float64),\n",
       "         array([], shape=(1, 0), dtype=float64),\n",
       "         array([], shape=(1, 0), dtype=float64),\n",
       "         array([], shape=(1, 0), dtype=float64),\n",
       "         array([], shape=(1, 0), dtype=float64)],\n",
       "        [array([], shape=(1, 0), dtype=float64),\n",
       "         array([], shape=(1, 0), dtype=float64),\n",
       "         array([], shape=(1, 0), dtype=float64),\n",
       "         array([], shape=(1, 0), dtype=float64),\n",
       "         array([], shape=(1, 0), dtype=float64)],\n",
       "        [array([], shape=(1, 0), dtype=float64),\n",
       "         array([], shape=(1, 0), dtype=float64),\n",
       "         array([], shape=(1, 0), dtype=float64),\n",
       "         array([], shape=(1, 0), dtype=float64),\n",
       "         array([], shape=(1, 0), dtype=float64)],\n",
       "        [array([], shape=(1, 0), dtype=float64),\n",
       "         array([], shape=(1, 0), dtype=float64),\n",
       "         array([], shape=(1, 0), dtype=float64),\n",
       "         array([], shape=(1, 0), dtype=float64),\n",
       "         array([], shape=(1, 0), dtype=float64)],\n",
       "        [array([], shape=(1, 0), dtype=float64),\n",
       "         array([], shape=(1, 0), dtype=float64),\n",
       "         array([], shape=(1, 0), dtype=float64),\n",
       "         array([], shape=(1, 0), dtype=float64),\n",
       "         array([], shape=(1, 0), dtype=float64)]], dtype=object),\n",
       " 'f': array([[array([], shape=(1, 0), dtype=float64),\n",
       "         array([], shape=(1, 0), dtype=float64),\n",
       "         array([], shape=(1, 0), dtype=float64),\n",
       "         array([], shape=(1, 0), dtype=float64),\n",
       "         array([], shape=(1, 0), dtype=float64)],\n",
       "        [array([], shape=(1, 0), dtype=float64),\n",
       "         array([], shape=(1, 0), dtype=float64),\n",
       "         array([], shape=(1, 0), dtype=float64),\n",
       "         array([], shape=(1, 0), dtype=float64),\n",
       "         array([], shape=(1, 0), dtype=float64)],\n",
       "        [array([], shape=(1, 0), dtype=float64),\n",
       "         array([], shape=(1, 0), dtype=float64),\n",
       "         array([], shape=(1, 0), dtype=float64),\n",
       "         array([], shape=(1, 0), dtype=float64),\n",
       "         array([], shape=(1, 0), dtype=float64)],\n",
       "        [array([], shape=(1, 0), dtype=float64),\n",
       "         array([], shape=(1, 0), dtype=float64),\n",
       "         array([], shape=(1, 0), dtype=float64),\n",
       "         array([], shape=(1, 0), dtype=float64),\n",
       "         array([], shape=(1, 0), dtype=float64)],\n",
       "        [array([], shape=(1, 0), dtype=float64),\n",
       "         array([], shape=(1, 0), dtype=float64),\n",
       "         array([], shape=(1, 0), dtype=float64),\n",
       "         array([], shape=(1, 0), dtype=float64),\n",
       "         array([], shape=(1, 0), dtype=float64)]], dtype=object),\n",
       " 'W': array([[<14400x28900 sparse matrix of type '<class 'numpy.float64'>'\n",
       "         \twith 539009 stored elements in Compressed Sparse Column format>,\n",
       "         <14400x37400 sparse matrix of type '<class 'numpy.float64'>'\n",
       "         \twith 627240 stored elements in Compressed Sparse Column format>,\n",
       "         <14400x37400 sparse matrix of type '<class 'numpy.float64'>'\n",
       "         \twith 627240 stored elements in Compressed Sparse Column format>,\n",
       "         <14400x37400 sparse matrix of type '<class 'numpy.float64'>'\n",
       "         \twith 627240 stored elements in Compressed Sparse Column format>,\n",
       "         <14400x28900 sparse matrix of type '<class 'numpy.float64'>'\n",
       "         \twith 544287 stored elements in Compressed Sparse Column format>],\n",
       "        [<14400x37400 sparse matrix of type '<class 'numpy.float64'>'\n",
       "         \twith 622320 stored elements in Compressed Sparse Column format>,\n",
       "         <14400x48400 sparse matrix of type '<class 'numpy.float64'>'\n",
       "         \twith 720000 stored elements in Compressed Sparse Column format>,\n",
       "         <14400x48400 sparse matrix of type '<class 'numpy.float64'>'\n",
       "         \twith 720000 stored elements in Compressed Sparse Column format>,\n",
       "         <14400x48400 sparse matrix of type '<class 'numpy.float64'>'\n",
       "         \twith 720000 stored elements in Compressed Sparse Column format>,\n",
       "         <14400x37400 sparse matrix of type '<class 'numpy.float64'>'\n",
       "         \twith 627600 stored elements in Compressed Sparse Column format>],\n",
       "        [<14400x37400 sparse matrix of type '<class 'numpy.float64'>'\n",
       "         \twith 622320 stored elements in Compressed Sparse Column format>,\n",
       "         <14400x48400 sparse matrix of type '<class 'numpy.float64'>'\n",
       "         \twith 720000 stored elements in Compressed Sparse Column format>,\n",
       "         <14400x48400 sparse matrix of type '<class 'numpy.float64'>'\n",
       "         \twith 720000 stored elements in Compressed Sparse Column format>,\n",
       "         <14400x48400 sparse matrix of type '<class 'numpy.float64'>'\n",
       "         \twith 720000 stored elements in Compressed Sparse Column format>,\n",
       "         <14400x37400 sparse matrix of type '<class 'numpy.float64'>'\n",
       "         \twith 627600 stored elements in Compressed Sparse Column format>],\n",
       "        [<14400x37400 sparse matrix of type '<class 'numpy.float64'>'\n",
       "         \twith 622320 stored elements in Compressed Sparse Column format>,\n",
       "         <14400x48400 sparse matrix of type '<class 'numpy.float64'>'\n",
       "         \twith 720000 stored elements in Compressed Sparse Column format>,\n",
       "         <14400x48400 sparse matrix of type '<class 'numpy.float64'>'\n",
       "         \twith 720000 stored elements in Compressed Sparse Column format>,\n",
       "         <14400x48400 sparse matrix of type '<class 'numpy.float64'>'\n",
       "         \twith 720000 stored elements in Compressed Sparse Column format>,\n",
       "         <14400x37400 sparse matrix of type '<class 'numpy.float64'>'\n",
       "         \twith 627600 stored elements in Compressed Sparse Column format>],\n",
       "        [<14400x28900 sparse matrix of type '<class 'numpy.float64'>'\n",
       "         \twith 539117 stored elements in Compressed Sparse Column format>,\n",
       "         <14400x37400 sparse matrix of type '<class 'numpy.float64'>'\n",
       "         \twith 627360 stored elements in Compressed Sparse Column format>,\n",
       "         <14400x37400 sparse matrix of type '<class 'numpy.float64'>'\n",
       "         \twith 627360 stored elements in Compressed Sparse Column format>,\n",
       "         <14400x37400 sparse matrix of type '<class 'numpy.float64'>'\n",
       "         \twith 627360 stored elements in Compressed Sparse Column format>,\n",
       "         <14400x28900 sparse matrix of type '<class 'numpy.float64'>'\n",
       "         \twith 544497 stored elements in Compressed Sparse Column format>]],\n",
       "       dtype=object),\n",
       " 'b0': array([[array([[188.06352],\n",
       "                [187.8942 ],\n",
       "                [186.45752],\n",
       "                ...,\n",
       "                [204.25304],\n",
       "                [206.56792],\n",
       "                [206.78348]], dtype=float32),\n",
       "         array([[202.83493],\n",
       "                [200.45004],\n",
       "                [206.29959],\n",
       "                ...,\n",
       "                [193.41878],\n",
       "                [186.9515 ],\n",
       "                [184.77892]], dtype=float32),\n",
       "         array([[222.41617],\n",
       "                [217.43538],\n",
       "                [220.89842],\n",
       "                ...,\n",
       "                [191.04984],\n",
       "                [189.00392],\n",
       "                [186.17163]], dtype=float32),\n",
       "         array([[196.79553],\n",
       "                [197.90169],\n",
       "                [196.22992],\n",
       "                ...,\n",
       "                [195.43962],\n",
       "                [200.83005],\n",
       "                [194.5868 ]], dtype=float32),\n",
       "         array([[253.06514],\n",
       "                [254.18596],\n",
       "                [253.53926],\n",
       "                ...,\n",
       "                [226.28233],\n",
       "                [220.39825],\n",
       "                [221.64346]], dtype=float32)],\n",
       "        [array([[222.68774],\n",
       "                [223.83037],\n",
       "                [222.91145],\n",
       "                ...,\n",
       "                [182.32434],\n",
       "                [180.83069],\n",
       "                [183.05147]], dtype=float32),\n",
       "         array([[205.86977],\n",
       "                [203.62164],\n",
       "                [203.33965],\n",
       "                ...,\n",
       "                [213.8753 ],\n",
       "                [217.83818],\n",
       "                [207.77696]], dtype=float32),\n",
       "         array([[193.40836],\n",
       "                [191.8105 ],\n",
       "                [190.1687 ],\n",
       "                ...,\n",
       "                [214.69392],\n",
       "                [211.11757],\n",
       "                [214.55457]], dtype=float32),\n",
       "         array([[186.5627 ],\n",
       "                [191.02281],\n",
       "                [192.27191],\n",
       "                ...,\n",
       "                [163.13516],\n",
       "                [170.66626],\n",
       "                [166.68384]], dtype=float32),\n",
       "         array([[192.23317],\n",
       "                [201.49855],\n",
       "                [187.87401],\n",
       "                ...,\n",
       "                [195.74376],\n",
       "                [188.00946],\n",
       "                [188.67407]], dtype=float32)],\n",
       "        [array([[192.84828],\n",
       "                [196.40218],\n",
       "                [194.23154],\n",
       "                ...,\n",
       "                [173.89908],\n",
       "                [174.1713 ],\n",
       "                [172.4673 ]], dtype=float32),\n",
       "         array([[177.2566 ],\n",
       "                [178.17195],\n",
       "                [179.1726 ],\n",
       "                ...,\n",
       "                [187.6376 ],\n",
       "                [186.36049],\n",
       "                [191.69426]], dtype=float32),\n",
       "         array([[214.61317],\n",
       "                [214.62523],\n",
       "                [209.46176],\n",
       "                ...,\n",
       "                [194.21982],\n",
       "                [201.76654],\n",
       "                [194.06319]], dtype=float32),\n",
       "         array([[217.00197],\n",
       "                [212.99709],\n",
       "                [210.24066],\n",
       "                ...,\n",
       "                [167.06514],\n",
       "                [163.73529],\n",
       "                [163.71445]], dtype=float32),\n",
       "         array([[166.9909 ],\n",
       "                [171.84502],\n",
       "                [169.0316 ],\n",
       "                ...,\n",
       "                [182.7877 ],\n",
       "                [177.41324],\n",
       "                [181.9134 ]], dtype=float32)],\n",
       "        [array([[185.5474 ],\n",
       "                [183.75809],\n",
       "                [184.68645],\n",
       "                ...,\n",
       "                [188.93587],\n",
       "                [191.3149 ],\n",
       "                [189.7444 ]], dtype=float32),\n",
       "         array([[173.73138],\n",
       "                [174.60764],\n",
       "                [171.92838],\n",
       "                ...,\n",
       "                [177.69002],\n",
       "                [176.94434],\n",
       "                [173.82549]], dtype=float32),\n",
       "         array([[191.69687],\n",
       "                [191.43408],\n",
       "                [190.93718],\n",
       "                ...,\n",
       "                [177.43506],\n",
       "                [177.94597],\n",
       "                [173.36212]], dtype=float32),\n",
       "         array([[199.58159],\n",
       "                [197.75287],\n",
       "                [191.70273],\n",
       "                ...,\n",
       "                [176.87823],\n",
       "                [166.66202],\n",
       "                [167.1687 ]], dtype=float32),\n",
       "         array([[170.25401],\n",
       "                [168.2781 ],\n",
       "                [168.73105],\n",
       "                ...,\n",
       "                [183.27486],\n",
       "                [184.44678],\n",
       "                [184.65616]], dtype=float32)],\n",
       "        [array([[189.832  ],\n",
       "                [186.96193],\n",
       "                [181.0075 ],\n",
       "                ...,\n",
       "                [194.4051 ],\n",
       "                [190.31392],\n",
       "                [187.9769 ]], dtype=float32),\n",
       "         array([[188.3263 ],\n",
       "                [191.23317],\n",
       "                [181.76395],\n",
       "                ...,\n",
       "                [187.30481],\n",
       "                [186.5005 ],\n",
       "                [186.423  ]], dtype=float32),\n",
       "         array([[184.89452],\n",
       "                [178.82841],\n",
       "                [178.05864],\n",
       "                ...,\n",
       "                [178.71738],\n",
       "                [179.08598],\n",
       "                [170.6135 ]], dtype=float32),\n",
       "         array([[173.03291],\n",
       "                [176.4572 ],\n",
       "                [167.75189],\n",
       "                ...,\n",
       "                [185.36212],\n",
       "                [183.22894],\n",
       "                [171.7659 ]], dtype=float32),\n",
       "         array([[165.91602],\n",
       "                [174.37482],\n",
       "                [169.10976],\n",
       "                ...,\n",
       "                [164.62196],\n",
       "                [166.11562],\n",
       "                [165.3188 ]], dtype=float32)]], dtype=object),\n",
       " 'b0_new': array([], shape=(0, 0), dtype=uint8),\n",
       " 'options': array([[(array([[600]], dtype=uint16), array([[600]], dtype=uint16), array([[1]], dtype=uint8), array([[4]], dtype=uint8), array([[1]], dtype=uint8), array(['greedy'], dtype='<U6'), array([[0.8]]), array([[7]], dtype=uint8), array([[35]], dtype=uint8), array([[1]], dtype=uint8), array([[5]], dtype=uint8), array([[1]], dtype=uint8), array([[0]], dtype=uint8), array([[100]], dtype=uint8), array([[32, 32]], dtype=uint8), array([[100]], dtype=uint8), array([[0.0001]]), array([[1]], dtype=uint8), array([[0.5]]), array([[3]], dtype=uint8), array([[5]], dtype=uint8), array([[0.25, 0.5 ]]), array(['logmexp'], dtype='<U7'), array([[0]], dtype=uint8), array([[5]], dtype=uint8), array([[0]], dtype=uint8), array([], shape=(0, 0), dtype=uint8), array([[0]], dtype=uint8), array([[64, 64]], dtype=uint8), array([[1]], dtype=uint8), array(['ellipse'], dtype='<U7'), array([[1]], dtype=uint8), array([[3]], dtype=uint8), array([[8]], dtype=uint8), array([[3]], dtype=uint8), MatlabOpaque([(b'', b'MCOS', b'strel', array([[3707764736],\n",
       "                              [         2],\n",
       "                              [         1],\n",
       "                              [         1],\n",
       "                              [         2],\n",
       "                              [         2]], dtype=uint32))         ],\n",
       "                      dtype=[('s0', 'O'), ('s1', 'O'), ('s2', 'O'), ('arr', 'O')]), array([[0.99]]), MatlabOpaque([(b'', b'MCOS', b'strel', array([[3707764736],\n",
       "                              [         2],\n",
       "                              [         1],\n",
       "                              [         1],\n",
       "                              [         3],\n",
       "                              [         2]], dtype=uint32))         ],\n",
       "                      dtype=[('s0', 'O'), ('s1', 'O'), ('s2', 'O'), ('arr', 'O')]), array([[3, 3]], dtype=uint8), array(['constrained_foopsi'], dtype='<U18'), array([[1]], dtype=uint8), array([[2]], dtype=uint8), array([[1]], dtype=uint8), array(['cvx'], dtype='<U3'), array([[1]], dtype=uint8), array([[0.99]]), array([[0]], dtype=uint8), array([[0.65]]), array([[1]], dtype=uint8), array([[50]], dtype=uint8), array([], shape=(0, 0), dtype=uint8), array([[0.9]]), array([[1, 2, 3, 4]], dtype=uint8), array([[1]], dtype=uint8), array([[16]], dtype=uint8), array([[0]], dtype=uint8), array([[1]], dtype=uint8), array([[1]], dtype=uint8), array(['default'], dtype='<U7'), array(['video_20220613T105105.avi'], dtype='<U25'), array([[1]], dtype=uint8), array([[0]], dtype=uint8), array([[0]], dtype=uint8), array([[inf]]), array([[0.8]]), array([[3]], dtype=uint8), array([[5]], dtype=uint8), array([[10]], dtype=uint8), array(['auto'], dtype='<U4'), array([[49]], dtype=uint8), array([[35]], dtype=uint8), array([[1]], dtype=uint8), array([[(array(['ar1'], dtype='<U3'), array(['constrained'], dtype='<U11'), array([[-5]], dtype=int16), array([[1]], dtype=uint8), array([[1]], dtype=uint8), array([[100]], dtype=uint8))]],\n",
       "               dtype=[('type', 'O'), ('method', 'O'), ('smin', 'O'), ('optimize_pars', 'O'), ('optimize_b', 'O'), ('max_tau', 'O')]), array([[5]], dtype=uint8), array([[1]], dtype=uint8), array([[1]], dtype=uint8), array([[49]], dtype=uint8), array([[1]], dtype=uint8), array([[1]], dtype=uint8), array([[50]], dtype=uint8), array([[4]], dtype=uint8), array(['max'], dtype='<U3'), array([[nan]]), array(['ring'], dtype='<U4'), array([[3]], dtype=uint8), array(['spline'], dtype='<U6'), array([[(array([[1]], dtype=uint8), array([[0]], dtype=uint8))]],\n",
       "               dtype=[('connected', 'O'), ('circular', 'O')]), array(['hals_thresh'], dtype='<U11'), array([[0]], dtype=uint8), array([[0]], dtype=uint8))                                                                                                                                                                                                                                                                                                                                                                                                                                                                                                                                                                                                                                                                                                                                                                                                                                                                                                                                                                                                                                                                                                          ]],\n",
       "       dtype=[('d1', 'O'), ('d2', 'O'), ('d3', 'O'), ('ssub', 'O'), ('tsub', 'O'), ('init_method', 'O'), ('min_corr', 'O'), ('gSig', 'O'), ('gSiz', 'O'), ('nb', 'O'), ('nIter', 'O'), ('med_app', 'O'), ('save_memory', 'O'), ('chunkSiz', 'O'), ('windowSiz', 'O'), ('snmf_max_iter', 'O'), ('err_thr', 'O'), ('eta', 'O'), ('beta', 'O'), ('bSiz', 'O'), ('maxIter', 'O'), ('noise_range', 'O'), ('noise_method', 'O'), ('flag_g', 'O'), ('lags', 'O'), ('include_noise', 'O'), ('pixels', 'O'), ('split_data', 'O'), ('block_size', 'O'), ('cluster_pixels', 'O'), ('search_method', 'O'), ('use_parallel', 'O'), ('min_size', 'O'), ('max_size', 'O'), ('dist', 'O'), ('se', 'O'), ('nrgthr', 'O'), ('clos_op', 'O'), ('medw', 'O'), ('deconv_method', 'O'), ('restimate_g', 'O'), ('temporal_iter', 'O'), ('temporal_parallel', 'O'), ('method', 'O'), ('bas_nonneg', 'O'), ('fudge_factor', 'O'), ('resparse', 'O'), ('merge_thr', 'O'), ('fast_merge', 'O'), ('df_prctile', 'O'), ('df_window', 'O'), ('cont_threshold', 'O'), ('ind', 'O'), ('skip_frame', 'O'), ('sx', 'O'), ('make_avi', 'O'), ('show_background', 'O'), ('show_contours', 'O'), ('cmap', 'O'), ('name', 'O'), ('plot_df', 'O'), ('make_gif', 'O'), ('save_avi', 'O'), ('pause_time', 'O'), ('cl_thr', 'O'), ('nsd', 'O'), ('nfr', 'O'), ('min_pnr', 'O'), ('seed_method', 'O'), ('min_pixel', 'O'), ('bd', 'O'), ('deconv_flag', 'O'), ('deconv_options', 'O'), ('smin', 'O'), ('center_psf', 'O'), ('gaussian_shape', 'O'), ('ring_radius', 'O'), ('bg_ssub', 'O'), ('bg_acceleration', 'O'), ('num_neighbors', 'O'), ('dmin', 'O'), ('method_dist', 'O'), ('thresh_outlier', 'O'), ('background_model', 'O'), ('nk', 'O'), ('detrend_method', 'O'), ('spatial_constraints', 'O'), ('spatial_algorithm', 'O'), ('with_overlap_init', 'O'), ('save_intermediate', 'O')]),\n",
       " 'P': array([[(array([], shape=(0, 0), dtype=uint8), array([], shape=(0, 0), dtype=uint8), array([], dtype='<U1'), array([[0]], dtype=uint8), array([[0]], dtype=uint8), array([[0]], dtype=uint8), array([[0]], dtype=uint8), array([[0]], dtype=uint8), array([], shape=(0, 0), dtype=uint8), array([], shape=(0, 0), dtype=uint8), array([[6]], dtype=uint8), array(['/projects/p30771/MATLAB/CNMF_E_jjm/quest_MATLAB_cnmfe/'],\n",
       "               dtype='<U54'), array([[5000],\n",
       "                [5000],\n",
       "                [5000],\n",
       "                [5000],\n",
       "                [5000],\n",
       "                [3071]], dtype=uint16), array([[array(['/projects/b1118/miniscope/data/v4/MKB/OpenField/CA1_05062022/Day1/2022_06_02/16_31_17/My_V4_Miniscope/Denoised/tifs/gray/cframes/groupedby5/memmap_0000memmap_0004_resized_source_extraction_06_13_22_T_10_51/frames_1_5000/LOGS_13-Jun_11_10_56/13-Jun_11_51_17.mat'],\n",
       "                       dtype='<U260')                                                                                                                                                                                                                                                           ],\n",
       "                [array(['/projects/b1118/miniscope/data/v4/MKB/OpenField/CA1_05062022/Day1/2022_06_02/16_31_17/My_V4_Miniscope/Denoised/tifs/gray/cframes/groupedby5/memmap_0005memmap_0009_resized_source_extraction_06_13_22_T_10_54/frames_1_5000/LOGS_13-Jun_11_16_26/13-Jun_11_51_28.mat'],\n",
       "                       dtype='<U260')                                                                                                                                                                                                                                                           ],\n",
       "                [array(['/projects/b1118/miniscope/data/v4/MKB/OpenField/CA1_05062022/Day1/2022_06_02/16_31_17/My_V4_Miniscope/Denoised/tifs/gray/cframes/groupedby5/memmap_0010memmap_0014_resized_source_extraction_06_13_22_T_10_58/frames_1_5000/LOGS_13-Jun_11_20_37/13-Jun_11_51_38.mat'],\n",
       "                       dtype='<U260')                                                                                                                                                                                                                                                           ],\n",
       "                [array(['/projects/b1118/miniscope/data/v4/MKB/OpenField/CA1_05062022/Day1/2022_06_02/16_31_17/My_V4_Miniscope/Denoised/tifs/gray/cframes/groupedby5/memmap_0015memmap_0019_resized_source_extraction_06_13_22_T_11_01/frames_1_5000/LOGS_13-Jun_11_24_39/13-Jun_11_51_49.mat'],\n",
       "                       dtype='<U260')                                                                                                                                                                                                                                                           ],\n",
       "                [array(['/projects/b1118/miniscope/data/v4/MKB/OpenField/CA1_05062022/Day1/2022_06_02/16_31_17/My_V4_Miniscope/Denoised/tifs/gray/cframes/groupedby5/memmap_0020memmap_0024_resized_source_extraction_06_13_22_T_11_04/frames_1_5000/LOGS_13-Jun_11_29_09/13-Jun_11_51_59.mat'],\n",
       "                       dtype='<U260')                                                                                                                                                                                                                                                           ],\n",
       "                [array(['/projects/b1118/miniscope/data/v4/MKB/OpenField/CA1_05062022/Day1/2022_06_02/16_31_17/My_V4_Miniscope/Denoised/tifs/gray/cframes/groupedby5/memmap_0025memmap_0028_resized_source_extraction_06_13_22_T_11_08/frames_1_3071/LOGS_13-Jun_11_33_23/13-Jun_11_52_10.mat'],\n",
       "                       dtype='<U260')                                                                                                                                                                                                                                                           ]],\n",
       "               dtype=object))                                                                                                                                                                                                                                                                                                                                                                                                ]],\n",
       "       dtype=[('mat_file', 'O'), ('mat_data', 'O'), ('indicator', 'O'), ('k_options', 'O'), ('k_snapshot', 'O'), ('k_del', 'O'), ('k_merge', 'O'), ('k_trim', 'O'), ('sn', 'O'), ('kernel_pars', 'O'), ('k_ids', 'O'), ('log_folder', 'O'), ('numFrames', 'O'), ('file_paths', 'O')]),\n",
       " 'Fs': array([[20]], dtype=uint8),\n",
       " 'file': array([[array(['/projects/b1118/miniscope/data/v4/MKB/OpenField/CA1_05062022/Day1/2022_06_02/16_31_17/My_V4_Miniscope/Denoised/tifs/gray/cframes/groupedby5/memmap_0000memmap_0004_resized.h5'],\n",
       "               dtype='<U173')                                                                                                                                                                    ],\n",
       "        [array(['/projects/b1118/miniscope/data/v4/MKB/OpenField/CA1_05062022/Day1/2022_06_02/16_31_17/My_V4_Miniscope/Denoised/tifs/gray/cframes/groupedby5/memmap_0005memmap_0009_resized.h5'],\n",
       "               dtype='<U173')                                                                                                                                                                    ],\n",
       "        [array(['/projects/b1118/miniscope/data/v4/MKB/OpenField/CA1_05062022/Day1/2022_06_02/16_31_17/My_V4_Miniscope/Denoised/tifs/gray/cframes/groupedby5/memmap_0010memmap_0014_resized.h5'],\n",
       "               dtype='<U173')                                                                                                                                                                    ],\n",
       "        [array(['/projects/b1118/miniscope/data/v4/MKB/OpenField/CA1_05062022/Day1/2022_06_02/16_31_17/My_V4_Miniscope/Denoised/tifs/gray/cframes/groupedby5/memmap_0015memmap_0019_resized.h5'],\n",
       "               dtype='<U173')                                                                                                                                                                    ],\n",
       "        [array(['/projects/b1118/miniscope/data/v4/MKB/OpenField/CA1_05062022/Day1/2022_06_02/16_31_17/My_V4_Miniscope/Denoised/tifs/gray/cframes/groupedby5/memmap_0020memmap_0024_resized.h5'],\n",
       "               dtype='<U173')                                                                                                                                                                    ],\n",
       "        [array(['/projects/b1118/miniscope/data/v4/MKB/OpenField/CA1_05062022/Day1/2022_06_02/16_31_17/My_V4_Miniscope/Denoised/tifs/gray/cframes/groupedby5/memmap_0025memmap_0028_resized.h5'],\n",
       "               dtype='<U173')                                                                                                                                                                    ]],\n",
       "       dtype=object),\n",
       " 'frame_range': array([], shape=(0, 0), dtype=uint8),\n",
       " 'ids': array([[1, 2, 3, 4, 5, 6]], dtype=uint8),\n",
       " 'tags': array([[0],\n",
       "        [0],\n",
       "        [0],\n",
       "        [0],\n",
       "        [0],\n",
       "        [0]], dtype=uint16),\n",
       " 'Cn': array([], shape=(0, 0), dtype=uint8),\n",
       " 'PNR': array([], shape=(0, 0), dtype=uint8),\n",
       " 'Coor': array([], shape=(0, 0), dtype=uint8),\n",
       " 'neurons_per_patch': array([], shape=(0, 0), dtype=uint8),\n",
       " 'Df': array([], shape=(0, 0), dtype=uint8),\n",
       " 'C_df': array([], shape=(0, 0), dtype=uint8),\n",
       " 'S_df': array([], shape=(0, 0), dtype=uint8),\n",
       " 'batches': array([], shape=(0, 0), dtype=uint8),\n",
       " 'file_id': array([[1],\n",
       "        [2],\n",
       "        [3],\n",
       "        [4],\n",
       "        [5],\n",
       "        [6]], dtype=uint8),\n",
       " '__function_workspace__': array([[ 0,  1, 73, ...,  0,  0,  0]], dtype=uint8)}"
      ]
     },
     "execution_count": 7,
     "metadata": {},
     "output_type": "execute_result"
    }
   ],
   "source": [
    "results"
   ]
  },
  {
   "cell_type": "markdown",
   "metadata": {},
   "source": [
    "##A is spatial contours"
   ]
  },
  {
   "cell_type": "code",
   "execution_count": 8,
   "metadata": {},
   "outputs": [],
   "source": [
    "#img_file = '/Users/johnmarshall/Documents/Analysis/MiniscopeMovies/GRIN011/H10_M19_S59msCam1.tif'\n",
    "#img_from_file = plt.imread(img_file)    \n",
    "#d1, d2 = np.shape(img_from_file)\n",
    "#d1, d2 = 480, 752\n",
    "#v4 image is 600x600 pixels\n",
    "d1, d2 = 600, 600"
   ]
  },
  {
   "cell_type": "code",
   "execution_count": 9,
   "metadata": {},
   "outputs": [],
   "source": [
    "dense_A = results['A'].todense()"
   ]
  },
  {
   "cell_type": "code",
   "execution_count": 10,
   "metadata": {},
   "outputs": [],
   "source": [
    "frames = np.shape(results['C'])[1]"
   ]
  },
  {
   "cell_type": "code",
   "execution_count": 11,
   "metadata": {},
   "outputs": [],
   "source": [
    "cells = np.shape(results['C'])[0]"
   ]
  },
  {
   "cell_type": "code",
   "execution_count": 13,
   "metadata": {},
   "outputs": [
    {
     "data": {
      "text/plain": [
       "(6, 28071)"
      ]
     },
     "execution_count": 13,
     "metadata": {},
     "output_type": "execute_result"
    }
   ],
   "source": [
    "np.shape(results['C'])"
   ]
  },
  {
   "cell_type": "code",
   "execution_count": 14,
   "metadata": {},
   "outputs": [
    {
     "data": {
      "text/plain": [
       "28071"
      ]
     },
     "execution_count": 14,
     "metadata": {},
     "output_type": "execute_result"
    }
   ],
   "source": [
    "frames"
   ]
  },
  {
   "cell_type": "code",
   "execution_count": 15,
   "metadata": {
    "scrolled": true
   },
   "outputs": [
    {
     "data": {
      "text/plain": [
       "6"
      ]
     },
     "execution_count": 15,
     "metadata": {},
     "output_type": "execute_result"
    }
   ],
   "source": [
    "cells"
   ]
  },
  {
   "cell_type": "code",
   "execution_count": 35,
   "metadata": {},
   "outputs": [
    {
     "data": {
      "text/plain": [
       "[<matplotlib.lines.Line2D at 0x24238d51450>]"
      ]
     },
     "execution_count": 35,
     "metadata": {},
     "output_type": "execute_result"
    },
    {
     "data": {
      "image/png": "[encoded data removed]",
      "text/plain": [
       "<Figure size 432x288 with 1 Axes>"
      ]
     },
     "metadata": {
      "needs_background": "light"
     },
     "output_type": "display_data"
    }
   ],
   "source": [
    "plt.plot(results['C'][1][:200])\n",
    "plt.plot(results['C'][4][:200])"
   ]
  },
  {
   "cell_type": "code",
   "execution_count": 31,
   "metadata": {},
   "outputs": [],
   "source": [
    "plt.show()"
   ]
  },
  {
   "cell_type": "code",
   "execution_count": 19,
   "metadata": {},
   "outputs": [
    {
     "name": "stderr",
     "output_type": "stream",
     "text": [
      "100%|████████████████████████████████████████████████████████████████████████████████████| 6/6 [00:01<00:00,  3.07it/s]\n"
     ]
    }
   ],
   "source": [
    "#reshape for all frames\n",
    "frame_range = (100, 250)\n",
    "cells_reshaped = np.empty((cells, frame_range[1]-frame_range[0], d1, d2))\n",
    "for cell in tqdm(range(cells)):\n",
    "    A_reshaped = np.reshape(dense_A[:, cell], (d1, d2))\n",
    "    cells_reshaped[cell] = np.array([np.dot(A_reshaped, results['C'][cell, frame]) for frame in range(frame_range[0], frame_range[1])])\n",
    "    \n"
   ]
  },
  {
   "cell_type": "code",
   "execution_count": null,
   "metadata": {},
   "outputs": [],
   "source": [
    "#to add color use RBGA, where each pixel has 3 values for RBG and last for intensity\n",
    "frame_range = (100, 150)\n",
    "cells_reshaped_color = np.empty((cells, frame_range[1]-frame_range[0], d1, d2, 4))\n",
    "for cell in tqdm(range(cells)):\n",
    "    A_reshaped = np.reshape(dense_A[:, cell], (d1, d2))\n",
    "    cell_frames = []\n",
    "    for frame in range(frame_range[0], frame_range[1]):\n",
    "        cell_frames.append(np.array([np.dot(A_reshaped, item) for item in [255, 128, 0, results['C'][cell, frame]]]))\n",
    "    \n"
   ]
  },
  {
   "cell_type": "code",
   "execution_count": 23,
   "metadata": {
    "scrolled": true
   },
   "outputs": [
    {
     "data": {
      "text/plain": [
       "(6, 150, 600, 600)"
      ]
     },
     "execution_count": 23,
     "metadata": {},
     "output_type": "execute_result"
    }
   ],
   "source": [
    "np.shape(cells_reshaped)"
   ]
  },
  {
   "cell_type": "code",
   "execution_count": 24,
   "metadata": {},
   "outputs": [],
   "source": [
    "cells_recombined = np.sum(cells_reshaped, axis=0)"
   ]
  },
  {
   "cell_type": "code",
   "execution_count": 25,
   "metadata": {},
   "outputs": [
    {
     "data": {
      "text/plain": [
       "(150, 600, 600)"
      ]
     },
     "execution_count": 25,
     "metadata": {},
     "output_type": "execute_result"
    }
   ],
   "source": [
    "np.shape(cells_recombined)"
   ]
  },
  {
   "cell_type": "code",
   "execution_count": 26,
   "metadata": {},
   "outputs": [
    {
     "data": {
      "text/plain": [
       "(600, 600)"
      ]
     },
     "execution_count": 26,
     "metadata": {},
     "output_type": "execute_result"
    }
   ],
   "source": [
    "np.shape(cells_recombined[1])"
   ]
  },
  {
   "cell_type": "code",
   "execution_count": 27,
   "metadata": {},
   "outputs": [],
   "source": [
    "hf = h5py.File(results_file[0:-4]+'_demixed_100_250.h5', 'w')"
   ]
  },
  {
   "cell_type": "code",
   "execution_count": 28,
   "metadata": {},
   "outputs": [
    {
     "data": {
      "text/plain": [
       "<HDF5 dataset \"demixed_movie_array\": shape (150, 600, 600), type \"<f8\">"
      ]
     },
     "execution_count": 28,
     "metadata": {},
     "output_type": "execute_result"
    }
   ],
   "source": [
    "hf.create_dataset('demixed_movie_array', data=cells_recombined )"
   ]
  },
  {
   "cell_type": "code",
   "execution_count": 29,
   "metadata": {},
   "outputs": [],
   "source": [
    "hf.close()"
   ]
  },
  {
   "cell_type": "code",
   "execution_count": null,
   "metadata": {},
   "outputs": [],
   "source": [
    "cells_recombined = np.sum(cells_reshaped, axis=0)"
   ]
  },
  {
   "cell_type": "code",
   "execution_count": null,
   "metadata": {
    "scrolled": false
   },
   "outputs": [],
   "source": [
    "imageio.mimwrite(results_file[0:-4]+'_demixed_.mp4', cells_recombined, fps = 20)"
   ]
  },
  {
   "cell_type": "code",
   "execution_count": null,
   "metadata": {},
   "outputs": [],
   "source": [
    "## recombine demixed video with behavior data \n",
    "cnmfe_range = (0, 150)\n",
    "dir_path = '/Volumes/My_Passport/cnmfe_analysis_files/GRIN011/'\n",
    "frame_clock_info = 'timestamp.dat'\n",
    "frame_clock_df = pd.read_table(dir_path+frame_clock_info)\n",
    "\n",
    "# load time stamps \n",
    "msCam_timestamps = frame_clock_df[frame_clock_df['camNum'] == 0].set_index('frameNum')[cnmfe_range[0]:cnmfe_range[1]]\n",
    "behavCam_timestamps = frame_clock_df[frame_clock_df['camNum'] == 1].set_index('frameNum')\n",
    "# reset initial clock value to 0 \n",
    "msCam_timestamps['sysClock'][1] = 0\n",
    "behavCam_timestamps['sysClock'][1] = 0"
   ]
  },
  {
   "cell_type": "code",
   "execution_count": null,
   "metadata": {},
   "outputs": [],
   "source": [
    "# create df to find matched behavior cam frames\n",
    "msCam_timestamps = jjm_utils.align_behavior_data(msCam_timestamps, behavCam_timestamps)\n",
    "msCam_timestamps.reset_index(inplace=True)\n",
    "msCam_timestamps.head()"
   ]
  },
  {
   "cell_type": "code",
   "execution_count": null,
   "metadata": {},
   "outputs": [],
   "source": [
    "# \n",
    "reader = imageio.get_reader('/Volumes/My_Passport/cnmfe_analysis_files/GRIN011/behavCam1.avi')"
   ]
  },
  {
   "cell_type": "code",
   "execution_count": null,
   "metadata": {
    "scrolled": true
   },
   "outputs": [],
   "source": [
    "bd1, bd2 = reader.get_meta_data()['size']"
   ]
  },
  {
   "cell_type": "code",
   "execution_count": null,
   "metadata": {},
   "outputs": [],
   "source": [
    "1 in msCam_timestamps['behavCam_frames'].values"
   ]
  },
  {
   "cell_type": "code",
   "execution_count": null,
   "metadata": {},
   "outputs": [],
   "source": [
    "behavior_adjusted = np.empty((cnmfe_range[1], bd2, bd1, 3))    \n",
    "#for frame in range(cnmfe_range[0], cnmfe_range[1])\n",
    "frame = 0\n",
    "for i, im in enumerate(reader):\n",
    "    if 1 in msCam_timestamps['behavCam_frames'].values:\n",
    "        behavior_adjusted[0] = im\n",
    "        "
   ]
  },
  {
   "cell_type": "code",
   "execution_count": null,
   "metadata": {},
   "outputs": [],
   "source": [
    "# combine those matched frames into a video\n",
    "\n",
    "imageio.mimwrite('/Volumes/My_Passport/cnmfe_analysis_files/GRIN011/behavior_adjusted.mp4', behavior_adjusted, fps = 20)"
   ]
  },
  {
   "cell_type": "code",
   "execution_count": null,
   "metadata": {},
   "outputs": [],
   "source": []
  }
 ],
 "metadata": {
  "kernelspec": {
   "display_name": "2pCNMFEAnalysisEnv",
   "language": "python",
   "name": "2pcnmfeanalysisenv"
  },
  "language_info": {
   "codemirror_mode": {
    "name": "ipython",
    "version": 3
   },
   "file_extension": ".py",
   "mimetype": "text/x-python",
   "name": "python",
   "nbconvert_exporter": "python",
   "pygments_lexer": "ipython3",
   "version": "3.10.4"
  }
 },
 "nbformat": 4,
 "nbformat_minor": 2
}
