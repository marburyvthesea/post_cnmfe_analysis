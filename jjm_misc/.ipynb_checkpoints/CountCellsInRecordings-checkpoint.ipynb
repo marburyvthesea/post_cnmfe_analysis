{
 "cells": [
  {
   "cell_type": "code",
   "execution_count": 14,
   "id": "4c296eba",
   "metadata": {},
   "outputs": [],
   "source": [
    "import pandas as pd\n",
    "import glob\n",
    "import numpy as np"
   ]
  },
  {
   "cell_type": "code",
   "execution_count": 5,
   "id": "4fd118be",
   "metadata": {},
   "outputs": [],
   "source": [
    "com_files = glob.glob(r'F:\\JJM\\miniscope_analysis\\mGluR5_NAM\\clustering_analysis\\*com_filtered.csv')"
   ]
  },
  {
   "cell_type": "code",
   "execution_count": 12,
   "id": "6fee7281",
   "metadata": {},
   "outputs": [],
   "source": [
    "cell_count = []\n",
    "for file in com_files:\n",
    "    comfile = pd.read_csv(file)\n",
    "    count_session = len(comfile.columns)\n",
    "    cell_count.append(count_session)"
   ]
  },
  {
   "cell_type": "code",
   "execution_count": 15,
   "id": "b09febc2",
   "metadata": {},
   "outputs": [
    {
     "data": {
      "text/plain": [
       "91.92592592592592"
      ]
     },
     "execution_count": 15,
     "metadata": {},
     "output_type": "execute_result"
    }
   ],
   "source": [
    "np.mean(cell_count)"
   ]
  },
  {
   "cell_type": "code",
   "execution_count": null,
   "id": "878e68f0",
   "metadata": {},
   "outputs": [],
   "source": []
  }
 ],
 "metadata": {
  "kernelspec": {
   "display_name": "2pCNMFEAnalysisEnv",
   "language": "python",
   "name": "2pcnmfeanalysisenv"
  },
  "language_info": {
   "codemirror_mode": {
    "name": "ipython",
    "version": 3
   },
   "file_extension": ".py",
   "mimetype": "text/x-python",
   "name": "python",
   "nbconvert_exporter": "python",
   "pygments_lexer": "ipython3",
   "version": "3.10.4"
  }
 },
 "nbformat": 4,
 "nbformat_minor": 5
}
