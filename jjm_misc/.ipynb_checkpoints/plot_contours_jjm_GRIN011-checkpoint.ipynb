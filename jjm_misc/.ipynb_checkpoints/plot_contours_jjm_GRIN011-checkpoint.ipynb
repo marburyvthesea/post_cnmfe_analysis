{
 "cells": [
  {
   "cell_type": "code",
   "execution_count": 1,
   "metadata": {},
   "outputs": [
    {
     "name": "stderr",
     "output_type": "stream",
     "text": [
      "C:\\Users\\scanimage\\AppData\\Local\\Temp\\ipykernel_45048\\912229180.py:1: DeprecationWarning: Importing display from IPython.core.display is deprecated since IPython 7.14, please import from IPython display\n",
      "  from IPython.core.display import display, HTML\n"
     ]
    },
    {
     "data": {
      "text/html": [
       "<style>.container { width:90% !important; }</style>"
      ],
      "text/plain": [
       "<IPython.core.display.HTML object>"
      ]
     },
     "metadata": {},
     "output_type": "display_data"
    }
   ],
   "source": [
    "from IPython.core.display import display, HTML\n",
    "display(HTML(\"<style>.container { width:90% !important; }</style>\"))"
   ]
  },
  {
   "cell_type": "code",
   "execution_count": 2,
   "metadata": {},
   "outputs": [],
   "source": [
    "import sys\n",
    "import os\n",
    "import glob\n",
    "import importlib\n",
    "import multiprocessing as mp\n",
    "import itertools\n",
    "import math\n",
    "import random \n",
    "\n",
    "from matplotlib import pyplot as plt\n",
    "import matplotlib.image as mpimg\n",
    "from matplotlib import colors as mcolors\n",
    "import scipy.sparse as sparse\n",
    "import scipy.io as sio\n",
    "import scipy.stats as stats\n",
    "import scipy.spatial.distance as dist\n",
    "import numpy as np\n",
    "import h5py\n",
    "from tqdm import tqdm\n",
    "import pandas as pd\n",
    "#import tables\n",
    "#import deepdish as dd\n",
    "\n",
    "sys.path.append('C:\\\\Users\\\\scanimage\\\\Documents\\\\JJM\\\\post_cnmfe_analysis\\\\')\n",
    "import python_utils_jjm as jjm_utils"
   ]
  },
  {
   "cell_type": "code",
   "execution_count": 3,
   "metadata": {},
   "outputs": [
    {
     "data": {
      "text/plain": [
       "['.DS_Store',\n",
       " '15-Oct_13_48_21_2.mat_out.mat',\n",
       " 'MAX_GRIN011_H10_M19_S59msCam9_390_440.tif',\n",
       " 'MAX_GRIN011_H10_M19_S59msCam9_390_440_traces.svg',\n",
       " 'MAX_GRIN011_H10_M19_S59msCam9_390_440_traces_scale.svg',\n",
       " 'MAX_GRIN011_H10_M19_S59msCam9_390_440_w_contours.png',\n",
       " 'MAX_Substack (680-690).tif',\n",
       " 'memmap_0005memmap_0009_resized_source_extraction_13_05_48_724']"
      ]
     },
     "execution_count": 3,
     "metadata": {},
     "output_type": "execute_result"
    }
   ],
   "source": [
    "os.listdir('F:\\\\JJM\\\\miniscope_analysis\\\\figures\\\\GRIN011_egforfigure\\\\')"
   ]
  },
  {
   "cell_type": "code",
   "execution_count": 4,
   "metadata": {},
   "outputs": [],
   "source": [
    "results_file = 'F:\\\\JJM\\\\miniscope_analysis\\\\figures\\\\GRIN011_egforfigure\\\\15-Oct_13_48_21_2.mat_out.mat'\n",
    "results = sio.loadmat(results_file)"
   ]
  },
  {
   "cell_type": "code",
   "execution_count": 5,
   "metadata": {},
   "outputs": [
    {
     "ename": "KeyError",
     "evalue": "''",
     "output_type": "error",
     "traceback": [
      "\u001b[1;31m---------------------------------------------------------------------------\u001b[0m",
      "\u001b[1;31mKeyError\u001b[0m                                  Traceback (most recent call last)",
      "Input \u001b[1;32mIn [5]\u001b[0m, in \u001b[0;36m<cell line: 1>\u001b[1;34m()\u001b[0m\n\u001b[1;32m----> 1\u001b[0m \u001b[43mresults\u001b[49m\u001b[43m[\u001b[49m\u001b[38;5;124;43m'\u001b[39;49m\u001b[38;5;124;43m'\u001b[39;49m\u001b[43m]\u001b[49m\n",
      "\u001b[1;31mKeyError\u001b[0m: ''"
     ]
    }
   ],
   "source": [
    "results['']"
   ]
  },
  {
   "cell_type": "markdown",
   "metadata": {},
   "source": [
    "##plot contours from A, spatial profile of detected neurons, on correlation image (Cn) or image from file "
   ]
  },
  {
   "cell_type": "code",
   "execution_count": null,
   "metadata": {},
   "outputs": [],
   "source": [
    "#input list to plot\n",
    "to_plot = [1, 3, 5, 6, 12, 13, 14, 20, 24, 51]"
   ]
  },
  {
   "cell_type": "code",
   "execution_count": 6,
   "metadata": {},
   "outputs": [],
   "source": [
    "# A is stored as \"sparse matrix\", convert to dense \n",
    "sparse.issparse(results['A'])\n",
    "A = np.array(results['A'].todense())"
   ]
  },
  {
   "cell_type": "code",
   "execution_count": 10,
   "metadata": {},
   "outputs": [],
   "source": [
    "# Correlation image \n",
    "#Cn = results['Cn']\n",
    "Cn = np.transpose(img_from_file)\n",
    "d1, d2 = np.shape(Cn)\n",
    "d, nr = np.shape(A)"
   ]
  },
  {
   "cell_type": "code",
   "execution_count": 11,
   "metadata": {},
   "outputs": [],
   "source": [
    "# threshold for contour\n",
    "maxthr=0.4\n",
    "nrgthr=0.9"
   ]
  },
  {
   "cell_type": "code",
   "execution_count": 12,
   "metadata": {},
   "outputs": [],
   "source": [
    "# mesh grid that represents the x, y dimensions of the image\n",
    "x, y = np.mgrid[0:d1:1, 0:d2:1]"
   ]
  },
  {
   "cell_type": "code",
   "execution_count": null,
   "metadata": {},
   "outputs": [],
   "source": [
    "#create plot\n",
    "#%matplotlib inline\n",
    "#ax = plt.gca()\n",
    "#cmap=None\n",
    "#plt.imshow(np.transpose(Cn), interpolation=None, cmap='gray', vmin=np.percentile(Cn[~np.isnan(Cn)], 1),vmax=np.percentile(Cn[~np.isnan(Cn)], 99))"
   ]
  },
  {
   "cell_type": "code",
   "execution_count": 13,
   "metadata": {},
   "outputs": [],
   "source": [
    "coordinates = []\n",
    "#cm is an array of tuples \n",
    "cm = jjm_utils.com(A, d1, d2)"
   ]
  },
  {
   "cell_type": "code",
   "execution_count": null,
   "metadata": {},
   "outputs": [],
   "source": [
    "len(results['C'])"
   ]
  },
  {
   "cell_type": "code",
   "execution_count": null,
   "metadata": {},
   "outputs": [],
   "source": [
    "#[int(i) for i in np.linspace(1,126,126)]"
   ]
  },
  {
   "cell_type": "code",
   "execution_count": 14,
   "metadata": {},
   "outputs": [],
   "source": [
    "#to_plot = [1, 3, 5, 6, 12, 13, 14, 20, 24, 51]\n",
    "to_plot = [int(i) for i in np.linspace(0,30,30)]"
   ]
  },
  {
   "cell_type": "code",
   "execution_count": 15,
   "metadata": {},
   "outputs": [],
   "source": [
    "img_file = 'F:\\\\JJM\\\\miniscope_analysis\\\\figures\\\\GRIN011_egforfigure\\\\MAX_Substack (680-690).tif'\n",
    "img_from_file = mpimg.imread(img_file)  "
   ]
  },
  {
   "cell_type": "code",
   "execution_count": 20,
   "metadata": {},
   "outputs": [
    {
     "data": {
      "text/plain": [
       "['#1f77b4',\n",
       " '#ff7f0e',\n",
       " '#2ca02c',\n",
       " '#d62728',\n",
       " '#9467bd',\n",
       " '#8c564b',\n",
       " '#e377c2',\n",
       " '#7f7f7f',\n",
       " '#bcbd22',\n",
       " '#17becf']"
      ]
     },
     "execution_count": 20,
     "metadata": {},
     "output_type": "execute_result"
    }
   ],
   "source": [
    "list(mcolors.TABLEAU_COLORS.values())"
   ]
  },
  {
   "cell_type": "code",
   "execution_count": 22,
   "metadata": {},
   "outputs": [
    {
     "data": {
      "image/png": "[encoded data removed]",
      "text/plain": [
       "<Figure size 432x288 with 1 Axes>"
      ]
     },
     "metadata": {
      "needs_background": "light"
     },
     "output_type": "display_data"
    }
   ],
   "source": [
    "rotated_image = np.rot90(img_from_file, k=-1)\n",
    "\n",
    "maxthr = 0.5\n",
    "fig, ax = plt.subplots()\n",
    "\n",
    "ax.imshow(rotated_image, cmap='gray')\n",
    "\n",
    "ax.axis('off')\n",
    "\n",
    "if to_plot:\n",
    "    cells_to_plot = to_plot\n",
    "\n",
    "cells_to_plot\n",
    "\n",
    "if to_plot:\n",
    "    cells_to_plot = to_plot\n",
    "else:\n",
    "    max_number=nr\n",
    "    cells_to_plot = range(np.minimum(nr, max_number))\n",
    "\n",
    "# Generate a list of distinct colors for contours\n",
    "contour_colors = [random.choice(list(mcolors.TABLEAU_COLORS.values())) for _ in range(len(cells_to_plot))]    \n",
    "    \n",
    "# Generate a list of distinct colors for contours\n",
    "#tableau_colors = list(mcolors.TABLEAU_COLORS.values())\n",
    "#contour_colors = random.sample(tableau_colors, len(cells_to_plot))\n",
    "       \n",
    "for i, color in zip(cells_to_plot, contour_colors):\n",
    "    #pars = dict(kwargs)\n",
    "    Bvec = A[:, i].flatten()\n",
    "    #normalize spatial contours to 1 \n",
    "    Bvec /= np.max(Bvec)\n",
    "    thr = maxthr\n",
    "# reshape to dimensions of image \n",
    "    Bmat = np.reshape(Bvec, np.shape(Cn), order='F')\n",
    "    colors = 'r'\n",
    "    cs = plt.contour(y, x, Bmat, [thr], colors=color)\n",
    "    plt.savefig('F:\\\\JJM\\\\miniscope_analysis\\\\figures\\\\GRIN011_egforfigure\\\\MAX_GRIN011_H10_M19_S59msCam9_390_440_w_contours.png')"
   ]
  },
  {
   "cell_type": "code",
   "execution_count": null,
   "metadata": {},
   "outputs": [],
   "source": [
    "region_to_plot = (4000,5000)\n",
    "N = len(cells_to_plot)\n",
    "fig, axs = plt.subplots(N, 1, figsize=(6, 2 * N)) \n",
    "\n",
    "for ax in axs:\n",
    "    ax.axis('off')\n",
    "\n",
    "for i, color, ax in zip(cells_to_plot, contour_colors, axs):\n",
    "    ax.plot(results['C'][i][region_to_plot[0]:region_to_plot[1]], color=color)\n",
    "    \n",
    "plt.tight_layout()\n",
    "plt.savefig('F:\\\\JJM\\\\miniscope_analysis\\\\figures\\\\GRIN011_egforfigure\\\\MAX_GRIN011_H10_M19_S59msCam9_390_440_traces.svg')\n",
    "plt.show()"
   ]
  },
  {
   "cell_type": "code",
   "execution_count": null,
   "metadata": {},
   "outputs": [],
   "source": [
    "##plot one with scale\n",
    "region_to_plot = (4000,5000)\n",
    "to_plot_scale =[0, 3]\n",
    "N = len(to_plot_scale)\n",
    "fig, axs = plt.subplots(N, 1, figsize=(6, 2 * N)) \n",
    "\n",
    "for ax in axs:\n",
    "    ax.axis('on')\n",
    "\n",
    "for i, color, ax in zip(to_plot_scale, contour_colors, axs):\n",
    "    ax.plot(results['C'][i][region_to_plot[0]:region_to_plot[1]], color=color)\n",
    "    \n",
    "plt.tight_layout()\n",
    "plt.savefig('F:\\\\JJM\\\\miniscope_analysis\\\\figures\\\\GRIN011_egforfigure\\\\MAX_GRIN011_H10_M19_S59msCam9_390_440_traces_scale.svg')\n",
    "plt.show()"
   ]
  },
  {
   "cell_type": "code",
   "execution_count": null,
   "metadata": {},
   "outputs": [],
   "source": [
    "len(results['C'][1])"
   ]
  },
  {
   "cell_type": "code",
   "execution_count": null,
   "metadata": {},
   "outputs": [],
   "source": [
    "coordinates = []\n",
    "cm = jjm_utils.com(A, d1, d2)\n",
    "\n",
    "if to_plot:\n",
    "    cells_to_plot = to_plot\n",
    "\n",
    "cells_to_plot\n",
    "\n",
    "if to_plot:\n",
    "    cells_to_plot = to_plot\n",
    "else:\n",
    "    max_number=nr\n",
    "    cells_to_plot = range(np.minimum(nr, max_number))\n",
    "\n",
    "for i in cells_to_plot:\n",
    "    #pars = dict(kwargs)\n",
    "    Bvec = A[:, i].flatten()\n",
    "    #normalize spatial contours to 1 \n",
    "    Bvec /= np.max(Bvec)\n",
    "    thr = maxthr\n",
    "# reshape to dimensions of image \n",
    "    Bmat = np.reshape(Bvec, np.shape(Cn), order='F')\n",
    "    colors = 'r'\n",
    "    cs = plt.contour(y, x, Bmat, [thr], colors=colors)\n",
    "    plt.savefig('F:\\\\JJM\\\\miniscope_analysis\\\\figures\\\\GRIN011_egforfigure\\\\MAX_GRIN011_H10_M19_S59msCam9_390_440_w_contours.png')"
   ]
  },
  {
   "cell_type": "code",
   "execution_count": null,
   "metadata": {},
   "outputs": [],
   "source": [
    "plt.savefig('F:\\\\JJM\\\\miniscope_analysis\\\\figures\\\\GRIN011_egforfigure\\\\MAX_GRIN011_H10_M19_S59msCam9_390_440_w_contours.png')"
   ]
  },
  {
   "cell_type": "code",
   "execution_count": null,
   "metadata": {},
   "outputs": [],
   "source": [
    "cs"
   ]
  },
  {
   "cell_type": "code",
   "execution_count": null,
   "metadata": {},
   "outputs": [],
   "source": []
  }
 ],
 "metadata": {
  "kernelspec": {
   "display_name": "2pCNMFEAnalysisEnv",
   "language": "python",
   "name": "2pcnmfeanalysisenv"
  },
  "language_info": {
   "codemirror_mode": {
    "name": "ipython",
    "version": 3
   },
   "file_extension": ".py",
   "mimetype": "text/x-python",
   "name": "python",
   "nbconvert_exporter": "python",
   "pygments_lexer": "ipython3",
   "version": "3.10.4"
  }
 },
 "nbformat": 4,
 "nbformat_minor": 2
}
