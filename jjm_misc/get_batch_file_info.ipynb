{
 "cells": [
  {
   "cell_type": "code",
   "execution_count": 1,
   "metadata": {
    "scrolled": false
   },
   "outputs": [
    {
     "name": "stderr",
     "output_type": "stream",
     "text": [
      "C:\\Users\\scanimage\\AppData\\Local\\Temp\\ipykernel_15912\\912229180.py:1: DeprecationWarning: Importing display from IPython.core.display is deprecated since IPython 7.14, please import from IPython display\n",
      "  from IPython.core.display import display, HTML\n"
     ]
    },
    {
     "data": {
      "text/html": [
       "<style>.container { width:90% !important; }</style>"
      ],
      "text/plain": [
       "<IPython.core.display.HTML object>"
      ]
     },
     "metadata": {},
     "output_type": "display_data"
    }
   ],
   "source": [
    "from IPython.core.display import display, HTML\n",
    "display(HTML(\"<style>.container { width:90% !important; }</style>\"))"
   ]
  },
  {
   "cell_type": "code",
   "execution_count": 2,
   "metadata": {},
   "outputs": [],
   "source": [
    "from matplotlib import pyplot as plt\n",
    "import sys\n",
    "import matplotlib.animation as animation\n",
    "import scipy.sparse as sparse\n",
    "import scipy.io as sio\n",
    "import scipy.stats as stats\n",
    "import scipy.spatial.distance as dist\n",
    "import numpy as np\n",
    "import h5py\n",
    "from tqdm import tqdm\n",
    "import pandas as pd\n",
    "#import imageio\n",
    "import os \n",
    "\n",
    "#import tables\n",
    "#import deepdish as dd\n",
    "\n",
    "#sys.path.append('/Users/johnmarshall/Documents/Analysis/PythonAnalysisScripts/post_cmfe_analysis')\n",
    "sys.path.append(r'C:\\Users\\scanimage\\Documents\\JJM\\post_cnmfe_analysis')\n",
    "import python_utils_jjm as jjm_utils"
   ]
  },
  {
   "cell_type": "code",
   "execution_count": 3,
   "metadata": {},
   "outputs": [],
   "source": [
    "dir_files = [f_name for f_name in os.listdir('F:\\JJM\\miniscope_analysis\\CNMFE_outputfiles\\OpenFieldGRINAnalysis') if 'out.mat' in f_name]"
   ]
  },
  {
   "cell_type": "code",
   "execution_count": 4,
   "metadata": {},
   "outputs": [
    {
     "data": {
      "text/plain": [
       "['24-Aug_18_47_51_out.mat',\n",
       " '24-Aug_18_48_08_out.mat',\n",
       " '25-Aug_17_46_55_out.mat',\n",
       " '26-Aug_15_57_27_out.mat',\n",
       " '26-Aug_20_22_57_out.mat',\n",
       " '30-Aug_12_38_32_out.mat',\n",
       " '30-Aug_16_25_58_out.mat',\n",
       " '30-Aug_18_16_26_out.mat',\n",
       " '31-Aug_12_18_47_out.mat',\n",
       " '31-Aug_13_16_00_out.mat',\n",
       " '31-Aug_13_41_59_out.mat']"
      ]
     },
     "execution_count": 4,
     "metadata": {},
     "output_type": "execute_result"
    }
   ],
   "source": [
    "dir_files"
   ]
  },
  {
   "cell_type": "code",
   "execution_count": 5,
   "metadata": {},
   "outputs": [],
   "source": [
    "#results = sio.loadmat('/Volumes/My_Passport/cnmfe_analysis_files/batch_output_files/0102021_files/' + '31-Jan_00_12_24_out.mat')\n",
    "#results = sio.loadmat('/projects/p30771/MATLAB/CNMF_E_jjm/quest_MATLAB_cnmfe/12-Mar_12_52_13_out.mat')"
   ]
  },
  {
   "cell_type": "code",
   "execution_count": 6,
   "metadata": {},
   "outputs": [],
   "source": [
    "#results['P'][0][0][13]"
   ]
  },
  {
   "cell_type": "code",
   "execution_count": 7,
   "metadata": {},
   "outputs": [
    {
     "name": "stdout",
     "output_type": "stream",
     "text": [
      "24-Aug_18_47_51_out.mat\n",
      "ok\n",
      "24-Aug_18_48_08_out.mat\n",
      "ok\n",
      "25-Aug_17_46_55_out.mat\n",
      "ok\n",
      "26-Aug_15_57_27_out.mat\n",
      "ok\n",
      "26-Aug_20_22_57_out.mat\n",
      "ok\n",
      "30-Aug_12_38_32_out.mat\n",
      "ok\n",
      "error with\n",
      "30-Aug_16_25_58_out.mat\n",
      "30-Aug_18_16_26_out.mat\n",
      "ok\n",
      "31-Aug_12_18_47_out.mat\n",
      "ok\n",
      "31-Aug_13_16_00_out.mat\n",
      "ok\n",
      "31-Aug_13_41_59_out.mat\n",
      "ok\n"
     ]
    }
   ],
   "source": [
    "## return a dictionary matching the batch output file to the information from quest directories \n",
    "file_info = {}\n",
    "files_with_errors = []\n",
    "for file in dir_files:\n",
    "    results = sio.loadmat(r'F:\\\\JJM\\\\miniscope_analysis\\\\CNMFE_outputfiles\\\\OpenFieldGRINAnalysis\\\\' + file)\n",
    "    try:\n",
    "        file_ids = [results['P'][0][0][13][0][0][0].split('/')[y] for y in range(5, 7)]\n",
    "        file_ids.append([results['P'][0][0][13][batch_folder][0][0].split('/')[7] for batch_folder in range(len(results['P'][0][0][13]))])\n",
    "        file_ids.append([results['P'][0][0][13][batch_folder][0][0].split('/')[8] for batch_folder in range(len(results['P'][0][0][13]))])\n",
    "        file_info[file] = file_ids\n",
    "        print(file)\n",
    "        print('ok')\n",
    "    except IndexError:\n",
    "        print('error with')\n",
    "        print(file)\n",
    "        files_with_errors.append(file)\n",
    "        pass\n",
    "    "
   ]
  },
  {
   "cell_type": "code",
   "execution_count": 18,
   "metadata": {},
   "outputs": [],
   "source": [
    "file_names = {}"
   ]
  },
  {
   "cell_type": "code",
   "execution_count": 43,
   "metadata": {},
   "outputs": [
    {
     "ename": "IndexError",
     "evalue": "list index out of range",
     "output_type": "error",
     "traceback": [
      "\u001b[1;31m---------------------------------------------------------------------------\u001b[0m",
      "\u001b[1;31mIndexError\u001b[0m                                Traceback (most recent call last)",
      "Input \u001b[1;32mIn [43]\u001b[0m, in \u001b[0;36m<cell line: 1>\u001b[1;34m()\u001b[0m\n\u001b[1;32m----> 1\u001b[0m f_to_load \u001b[38;5;241m=\u001b[39m \u001b[43mdir_files\u001b[49m\u001b[43m[\u001b[49m\u001b[38;5;241;43m11\u001b[39;49m\u001b[43m]\u001b[49m\n\u001b[0;32m      2\u001b[0m \u001b[38;5;28mprint\u001b[39m(f_to_load)\n\u001b[0;32m      3\u001b[0m file_info[f_to_load]\n",
      "\u001b[1;31mIndexError\u001b[0m: list index out of range"
     ]
    }
   ],
   "source": [
    "f_to_load = dir_files[11]\n",
    "print(f_to_load)\n",
    "file_info[f_to_load]"
   ]
  },
  {
   "cell_type": "code",
   "execution_count": 42,
   "metadata": {},
   "outputs": [
    {
     "data": {
      "text/plain": [
       "{'24-Aug_18_47_51_out.mat': ('DIO_r2.7', 'Vehicle'),\n",
       " '24-Aug_18_48_08_out.mat': ('DIO_r2.7', 'Vehicle'),\n",
       " '25-Aug_17_46_55_out.mat': ('DIO_r2.7', 'Fenobam'),\n",
       " '26-Aug_15_57_27_out.mat': ('DIO_r2.7', 'Fenobam'),\n",
       " '26-Aug_20_22_57_out.mat': ('DIO_r2.8', 'Vehicle'),\n",
       " '30-Aug_12_38_32_out.mat': ('DIO_r2.14', 'Vehicle'),\n",
       " '30-Aug_18_16_26_out.mat': ('DIO_r2.8', 'Fenobam'),\n",
       " '31-Aug_12_18_47_out.mat': ('DIO_r2.14', 'Vehicle'),\n",
       " '31-Aug_13_16_00_out.mat': ('DIO_r2.14', 'Fenobam'),\n",
       " '31-Aug_13_41_59_out.mat': ('DIO_r2.14', 'Fenobam')}"
      ]
     },
     "execution_count": 42,
     "metadata": {},
     "output_type": "execute_result"
    }
   ],
   "source": [
    "file_names[f_to_load]=('DIO_r2.14','Fenobam')\n",
    "file_names"
   ]
  },
  {
   "cell_type": "code",
   "execution_count": 46,
   "metadata": {},
   "outputs": [],
   "source": [
    "mouse_file_df = pd.DataFrame(mouse_file_dict)\n",
    "mouse_file_df.to_csv(r'F:\\JJM\\miniscope_analysis\\CNMFE_outputfiles\\OpenFieldGRINAnalysis\\cnmfe_file_key.csv')"
   ]
  },
  {
   "cell_type": "code",
   "execution_count": 18,
   "metadata": {
    "collapsed": true
   },
   "outputs": [],
   "source": [
    "behav_cam_path = '/volumes/My_Passport/dlc_analysis/behavcamvideos/'\n",
    "#for mat_file in list(mouse_file_dict.keys()):\n",
    "    "
   ]
  },
  {
   "cell_type": "code",
   "execution_count": 22,
   "metadata": {},
   "outputs": [
    {
     "name": "stdout",
     "output_type": "stream",
     "text": [
      "/volumes/My_Passport/dlc_analysis/behavcamvideos/GRIN026_H16_M35_S34/GRIN026_H16_M35_S34_dlc_tracking_foranalysis_04142020.csv\n"
     ]
    }
   ],
   "source": [
    "file = '10-Jan_21_07_47_out.mat'\n",
    "\n",
    "animal = mouse_file_dict[file][0]\n",
    "session = mouse_file_dict[file][1]\n",
    "\n",
    "path_to_tracking = behav_cam_path + animal +'_' + session + '/' + animal + '_' + session + '_dlc_tracking_foranalysis_04142020.csv'\n",
    "print(path_to_tracking )"
   ]
  },
  {
   "cell_type": "code",
   "execution_count": 19,
   "metadata": {},
   "outputs": [
    {
     "data": {
      "text/plain": [
       "'/volumes/My_Passport/dlc_analysis/behavcamvideos/GRIN026_H16_M35_S34'"
      ]
     },
     "execution_count": 19,
     "metadata": {},
     "output_type": "execute_result"
    }
   ],
   "source": [
    "session_name=3\n",
    "dlc_tracking = str(behav_cam_path+mouse_file_dict[list(mouse_file_dict.keys())[session_name]][0]+'_'+mouse_file_dict[list(mouse_file_dict.keys())[session_name]][1]+'/'"
   ]
  },
  {
   "cell_type": "code",
   "execution_count": 9,
   "metadata": {
    "scrolled": true
   },
   "outputs": [
    {
     "data": {
      "text/plain": [
       "['13-Apr_15_30_16_out.mat',\n",
       " '26-Mar_22_01_01_out.mat',\n",
       " '29-Mar_11_29_08_out.mat',\n",
       " '29-Mar_20_07_14_out.mat',\n",
       " '30-Mar_11_06_01_out.mat',\n",
       " '31-Mar_09_49_26_out.mat']"
      ]
     },
     "execution_count": 9,
     "metadata": {},
     "output_type": "execute_result"
    }
   ],
   "source": [
    "files_with_errors"
   ]
  },
  {
   "cell_type": "code",
   "execution_count": null,
   "metadata": {
    "collapsed": true
   },
   "outputs": [],
   "source": [
    "results = sio.loadmat('/Volumes/My_Passport/cnmfe_analysis_files/batch_output_files/' + '08-Apr_16_03_01_out.mat')"
   ]
  }
 ],
 "metadata": {
  "kernelspec": {
   "display_name": "2pCNMFEAnalysisEnv",
   "language": "python",
   "name": "2pcnmfeanalysisenv"
  },
  "language_info": {
   "codemirror_mode": {
    "name": "ipython",
    "version": 3
   },
   "file_extension": ".py",
   "mimetype": "text/x-python",
   "name": "python",
   "nbconvert_exporter": "python",
   "pygments_lexer": "ipython3",
   "version": "3.10.4"
  }
 },
 "nbformat": 4,
 "nbformat_minor": 4
}
