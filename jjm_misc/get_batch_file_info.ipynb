{
 "cells": [
  {
   "cell_type": "code",
   "execution_count": 1,
   "metadata": {
    "collapsed": false
   },
   "outputs": [
    {
     "data": {
      "text/html": [
       "<style>.container { width:90% !important; }</style>"
      ],
      "text/plain": [
       "<IPython.core.display.HTML object>"
      ]
     },
     "metadata": {},
     "output_type": "display_data"
    }
   ],
   "source": [
    "from IPython.core.display import display, HTML\n",
    "display(HTML(\"<style>.container { width:90% !important; }</style>\"))"
   ]
  },
  {
   "cell_type": "code",
   "execution_count": 2,
   "metadata": {
    "collapsed": false
   },
   "outputs": [],
   "source": [
    "from matplotlib import pyplot as plt\n",
    "import sys\n",
    "import matplotlib.animation as animation\n",
    "import scipy.sparse as sparse\n",
    "import scipy.io as sio\n",
    "import scipy.stats as stats\n",
    "import scipy.spatial.distance as dist\n",
    "import numpy as np\n",
    "import h5py\n",
    "from tqdm import tqdm\n",
    "import pandas as pd\n",
    "#import imageio\n",
    "import os \n",
    "\n",
    "#import tables\n",
    "#import deepdish as dd\n",
    "\n",
    "#sys.path.append('/Users/johnmarshall/Documents/Analysis/PythonAnalysisScripts/post_cmfe_analysis')\n",
    "sys.path.append('/home/jma819/post_cmfe_analysis')\n",
    "import python_utils_jjm as jjm_utils"
   ]
  },
  {
   "cell_type": "code",
   "execution_count": 3,
   "metadata": {
    "collapsed": true
   },
   "outputs": [],
   "source": [
    "dir_files = [f_name for f_name in os.listdir('/projects/p30771/MATLAB/CNMF_E_jjm/quest_MATLAB_cnmfe/') if 'out.mat' in f_name]"
   ]
  },
  {
   "cell_type": "code",
   "execution_count": 7,
   "metadata": {
    "collapsed": false
   },
   "outputs": [
    {
     "data": {
      "text/plain": [
       "['17-Mar_22_47_58_out.mat',\n",
       " '16-Mar_17_56_01_out.mat',\n",
       " '18-Mar_23_50_20_out.mat',\n",
       " '12-Mar_14_05_31_out.mat',\n",
       " '16-Mar_15_15_04_out.mat',\n",
       " '21-Mar_22_23_19_out.mat',\n",
       " '15-Mar_20_06_24_out.mat']"
      ]
     },
     "execution_count": 7,
     "metadata": {},
     "output_type": "execute_result"
    }
   ],
   "source": [
    "dir_files"
   ]
  },
  {
   "cell_type": "code",
   "execution_count": 5,
   "metadata": {
    "collapsed": false
   },
   "outputs": [],
   "source": [
    "#results = sio.loadmat('/Volumes/My_Passport/cnmfe_analysis_files/batch_output_files/0102021_files/' + '31-Jan_00_12_24_out.mat')\n",
    "#results = sio.loadmat('/projects/p30771/MATLAB/CNMF_E_jjm/quest_MATLAB_cnmfe/12-Mar_12_52_13_out.mat')"
   ]
  },
  {
   "cell_type": "code",
   "execution_count": 6,
   "metadata": {
    "collapsed": false
   },
   "outputs": [],
   "source": [
    "#results['P'][0][0][13]"
   ]
  },
  {
   "cell_type": "code",
   "execution_count": 8,
   "metadata": {
    "collapsed": false
   },
   "outputs": [
    {
     "name": "stdout",
     "output_type": "stream",
     "text": [
      "17-Mar_22_47_58_out.mat\n",
      "ok\n",
      "16-Mar_17_56_01_out.mat\n",
      "ok\n",
      "18-Mar_23_50_20_out.mat\n",
      "ok\n",
      "12-Mar_14_05_31_out.mat\n",
      "ok\n",
      "16-Mar_15_15_04_out.mat\n",
      "ok\n",
      "21-Mar_22_23_19_out.mat\n",
      "ok\n",
      "15-Mar_20_06_24_out.mat\n",
      "ok\n"
     ]
    }
   ],
   "source": [
    "## return a dictionary matching the batch output file to the information from quest directories \n",
    "file_info = {}\n",
    "files_with_errors = []\n",
    "for file in dir_files:\n",
    "    results = sio.loadmat('/projects/p30771/MATLAB/CNMF_E_jjm/quest_MATLAB_cnmfe/' + file)\n",
    "    try:\n",
    "        file_ids = [results['P'][0][0][13][0][0][0].split('/')[y] for y in range(5, 7)]\n",
    "        file_ids.append([results['P'][0][0][13][batch_folder][0][0].split('/')[7] for batch_folder in range(len(results['P'][0][0][13]))])\n",
    "        file_ids.append([results['P'][0][0][13][batch_folder][0][0].split('/')[8] for batch_folder in range(len(results['P'][0][0][13]))])\n",
    "        file_info[file] = file_ids\n",
    "        print(file)\n",
    "        print('ok')\n",
    "    except IndexError:\n",
    "        print('error with')\n",
    "        print(file)\n",
    "        files_with_errors.append(file)\n",
    "        pass\n",
    "    "
   ]
  },
  {
   "cell_type": "code",
   "execution_count": 16,
   "metadata": {
    "collapsed": false
   },
   "outputs": [
    {
     "data": {
      "text/plain": [
       "'GRIN041'"
      ]
     },
     "execution_count": 16,
     "metadata": {},
     "output_type": "execute_result"
    }
   ],
   "source": [
    "file_info['31-Jan_00_12_24_out.mat'][0]"
   ]
  },
  {
   "cell_type": "code",
   "execution_count": 18,
   "metadata": {
    "collapsed": false
   },
   "outputs": [
    {
     "data": {
      "text/plain": [
       "'1_25_2021'"
      ]
     },
     "execution_count": 18,
     "metadata": {},
     "output_type": "execute_result"
    }
   ],
   "source": [
    "file_info['31-Jan_00_12_24_out.mat'][1]"
   ]
  },
  {
   "cell_type": "code",
   "execution_count": 9,
   "metadata": {
    "collapsed": true
   },
   "outputs": [],
   "source": [
    "# display list of file with associated animal numbers\n",
    "mouse_file_dict = {}\n",
    "for cnmfe_file in list(file_info.keys()):\n",
    "    mouse_file_dict[cnmfe_file] = [file_info[cnmfe_file][0], file_info[cnmfe_file][1]]\n",
    "    "
   ]
  },
  {
   "cell_type": "code",
   "execution_count": 10,
   "metadata": {
    "collapsed": false
   },
   "outputs": [
    {
     "data": {
      "text/plain": [
       "{'17-Mar_22_47_58_out.mat': ['GRIN013', 'H12_M10_S14'],\n",
       " '16-Mar_17_56_01_out.mat': ['GRIN013', 'H17_M41_S14'],\n",
       " '18-Mar_23_50_20_out.mat': ['GRIN044', '1_27_2021'],\n",
       " '12-Mar_14_05_31_out.mat': ['GRIN039', '12_23_2020'],\n",
       " '16-Mar_15_15_04_out.mat': ['GRIN013', 'H12_M11_S45'],\n",
       " '21-Mar_22_23_19_out.mat': ['GRIN044', '1_25_2021'],\n",
       " '15-Mar_20_06_24_out.mat': ['GRIN009', 'H14_M35_S51']}"
      ]
     },
     "execution_count": 10,
     "metadata": {},
     "output_type": "execute_result"
    }
   ],
   "source": [
    "mouse_file_dict"
   ]
  },
  {
   "cell_type": "code",
   "execution_count": 29,
   "metadata": {
    "collapsed": true
   },
   "outputs": [],
   "source": [
    "mouse_file_df = pd.DataFrame(mouse_file_dict)\n",
    "mouse_file_df.to_csv('/volumes/My_Passport/dlc_analysis/behavcamvideos/cnmfe_file_key.csv')"
   ]
  },
  {
   "cell_type": "code",
   "execution_count": 18,
   "metadata": {
    "collapsed": true
   },
   "outputs": [],
   "source": [
    "behav_cam_path = '/volumes/My_Passport/dlc_analysis/behavcamvideos/'\n",
    "#for mat_file in list(mouse_file_dict.keys()):\n",
    "    "
   ]
  },
  {
   "cell_type": "code",
   "execution_count": 22,
   "metadata": {
    "collapsed": false
   },
   "outputs": [
    {
     "name": "stdout",
     "output_type": "stream",
     "text": [
      "/volumes/My_Passport/dlc_analysis/behavcamvideos/GRIN026_H16_M35_S34/GRIN026_H16_M35_S34_dlc_tracking_foranalysis_04142020.csv\n"
     ]
    }
   ],
   "source": [
    "file = '10-Jan_21_07_47_out.mat'\n",
    "\n",
    "animal = mouse_file_dict[file][0]\n",
    "session = mouse_file_dict[file][1]\n",
    "\n",
    "path_to_tracking = behav_cam_path + animal +'_' + session + '/' + animal + '_' + session + '_dlc_tracking_foranalysis_04142020.csv'\n",
    "print(path_to_tracking )"
   ]
  },
  {
   "cell_type": "code",
   "execution_count": 19,
   "metadata": {
    "collapsed": false
   },
   "outputs": [
    {
     "data": {
      "text/plain": [
       "'/volumes/My_Passport/dlc_analysis/behavcamvideos/GRIN026_H16_M35_S34'"
      ]
     },
     "execution_count": 19,
     "metadata": {},
     "output_type": "execute_result"
    }
   ],
   "source": [
    "session_name=3\n",
    "dlc_tracking = str(behav_cam_path+mouse_file_dict[list(mouse_file_dict.keys())[session_name]][0]+'_'+mouse_file_dict[list(mouse_file_dict.keys())[session_name]][1]+'/'"
   ]
  },
  {
   "cell_type": "code",
   "execution_count": 9,
   "metadata": {
    "collapsed": false,
    "scrolled": true
   },
   "outputs": [
    {
     "data": {
      "text/plain": [
       "['13-Apr_15_30_16_out.mat',\n",
       " '26-Mar_22_01_01_out.mat',\n",
       " '29-Mar_11_29_08_out.mat',\n",
       " '29-Mar_20_07_14_out.mat',\n",
       " '30-Mar_11_06_01_out.mat',\n",
       " '31-Mar_09_49_26_out.mat']"
      ]
     },
     "execution_count": 9,
     "metadata": {},
     "output_type": "execute_result"
    }
   ],
   "source": [
    "files_with_errors"
   ]
  },
  {
   "cell_type": "code",
   "execution_count": null,
   "metadata": {
    "collapsed": true
   },
   "outputs": [],
   "source": [
    "results = sio.loadmat('/Volumes/My_Passport/cnmfe_analysis_files/batch_output_files/' + '08-Apr_16_03_01_out.mat')"
   ]
  }
 ],
 "metadata": {
  "kernelspec": {
   "display_name": "caiman_with_tables",
   "language": "python",
   "name": "caiman_with_tables"
  },
  "language_info": {
   "codemirror_mode": {
    "name": "ipython",
    "version": 3
   },
   "file_extension": ".py",
   "mimetype": "text/x-python",
   "name": "python",
   "nbconvert_exporter": "python",
   "pygments_lexer": "ipython3",
   "version": "3.8.8"
  }
 },
 "nbformat": 4,
 "nbformat_minor": 4
}
