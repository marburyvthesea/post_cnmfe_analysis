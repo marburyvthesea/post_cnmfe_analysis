{
 "cells": [
  {
   "cell_type": "code",
   "execution_count": 3,
   "metadata": {},
   "outputs": [
    {
     "data": {
      "text/html": [
       "<style>.container { width:90% !important; }</style>"
      ],
      "text/plain": [
       "<IPython.core.display.HTML object>"
      ]
     },
     "metadata": {},
     "output_type": "display_data"
    }
   ],
   "source": [
    "from IPython.core.display import display, HTML\n",
    "display(HTML(\"<style>.container { width:90% !important; }</style>\"))"
   ]
  },
  {
   "cell_type": "code",
   "execution_count": 4,
   "metadata": {},
   "outputs": [],
   "source": [
    "import numpy as np\n",
    "import pandas as pd\n",
    "import h5py\n",
    "import itertools\n",
    "import python_utils_jjm as utils_jjm\n",
    "from tqdm import tqdm\n",
    "from scipy import stats\n",
    "from importlib import reload\n",
    "from matplotlib import pyplot as plt\n",
    "import sys\n",
    "sys.path.append('/Users/johnmarshall/Documents/Analysis/PythonAnalysisScripts/post_cmfe_analysis/')\n",
    "import miniscope_analysis as ma \n",
    "import scipy.spatial.distance as dist\n",
    "import sklearn.metrics as skm\n",
    "from tqdm import tqdm"
   ]
  },
  {
   "cell_type": "code",
   "execution_count": 5,
   "metadata": {},
   "outputs": [
    {
     "data": {
      "text/plain": [
       "<module 'python_utils_jjm' from '/Users/johnmarshall/Documents/Analysis/PythonAnalysisScripts/post_cmfe_analysis/python_utils_jjm.py'>"
      ]
     },
     "execution_count": 5,
     "metadata": {},
     "output_type": "execute_result"
    }
   ],
   "source": [
    "reload(ma)\n",
    "reload(utils_jjm)"
   ]
  },
  {
   "cell_type": "code",
   "execution_count": 6,
   "metadata": {},
   "outputs": [],
   "source": [
    "dir_ = '/Volumes/My_Passport/cnmfe_analysis_files/OpenFieldAnalysis/'\n",
    "dir_output = '/Volumes/My_Passport/cnmfe_analysis_files/OpenFieldAnalysis/velocity_correlation_analysis/'\n",
    "mouse = 'GRIN027'"
   ]
  },
  {
   "cell_type": "code",
   "execution_count": 7,
   "metadata": {},
   "outputs": [],
   "source": [
    "analysis_df = pd.read_hdf(str(dir_ + mouse + '_aligned_to_behavior.h5'))"
   ]
  },
  {
   "cell_type": "code",
   "execution_count": 8,
   "metadata": {},
   "outputs": [],
   "source": [
    "all_mice = ['GRIN027', 'GRIN026', 'GRIN013', 'GRIN012', 'GRIN018', 'GRIN011']\n",
    "#wt_mice = ['GRIN027', 'GRIN026', 'GRIN013']\n",
    "#ko_mice = ['GRIN012', 'GRIN018', 'GRIN011']"
   ]
  },
  {
   "cell_type": "code",
   "execution_count": 10,
   "metadata": {},
   "outputs": [],
   "source": [
    "dfs_loaded = []\n",
    "for mouse in all_mice:\n",
    "    dfs_loaded.append(pd.read_hdf(str(dir_ + mouse + '_aligned_to_behavior.h5')))\n",
    "all_mice = pd.concat(dfs_loaded, axis=1, keys=all_mice)    "
   ]
  },
  {
   "cell_type": "code",
   "execution_count": 12,
   "metadata": {},
   "outputs": [
    {
     "name": "stderr",
     "output_type": "stream",
     "text": [
      "/Users/johnmarshall/miniconda2/envs/caiman/lib/python3.6/site-packages/pandas/io/pytables.py:268: PerformanceWarning: \n",
      "your performance may suffer as PyTables will pickle object types that it cannot\n",
      "map directly to c-types [inferred_type->mixed-integer,key->axis0_level2] [items->None]\n",
      "\n",
      "  f = lambda store: store.put(key, value, **kwargs)\n",
      "/Users/johnmarshall/miniconda2/envs/caiman/lib/python3.6/site-packages/pandas/io/pytables.py:268: PerformanceWarning: \n",
      "your performance may suffer as PyTables will pickle object types that it cannot\n",
      "map directly to c-types [inferred_type->mixed-integer,key->block0_items_level2] [items->None]\n",
      "\n",
      "  f = lambda store: store.put(key, value, **kwargs)\n",
      "/Users/johnmarshall/miniconda2/envs/caiman/lib/python3.6/site-packages/pandas/io/pytables.py:268: PerformanceWarning: \n",
      "your performance may suffer as PyTables will pickle object types that it cannot\n",
      "map directly to c-types [inferred_type->mixed-integer,key->block1_items_level2] [items->None]\n",
      "\n",
      "  f = lambda store: store.put(key, value, **kwargs)\n",
      "/Users/johnmarshall/miniconda2/envs/caiman/lib/python3.6/site-packages/pandas/core/generic.py:2378: PerformanceWarning: \n",
      "your performance may suffer as PyTables will pickle object types that it cannot\n",
      "map directly to c-types [inferred_type->mixed,key->block2_values] [items->[('GRIN027', 'behavior', 'File'), ('GRIN026', 'behavior', 'File'), ('GRIN013', 'behavior', 'File'), ('GRIN012', 'behavior', 'File'), ('GRIN018', 'behavior', 'File'), ('GRIN011', 'behavior', 'File')]]\n",
      "\n",
      "  return pytables.to_hdf(path_or_buf, key, self, **kwargs)\n",
      "/Users/johnmarshall/miniconda2/envs/caiman/lib/python3.6/site-packages/pandas/io/pytables.py:268: PerformanceWarning: \n",
      "your performance may suffer as PyTables will pickle object types that it cannot\n",
      "map directly to c-types [inferred_type->mixed-integer,key->block2_items_level2] [items->None]\n",
      "\n",
      "  f = lambda store: store.put(key, value, **kwargs)\n"
     ]
    }
   ],
   "source": [
    "all_mice.to_hdf(str(dir_ + 'all_mice_aligned_to_behavior.h5'), key='df')"
   ]
  },
  {
   "cell_type": "code",
   "execution_count": null,
   "metadata": {},
   "outputs": [],
   "source": [
    "cell_z_v_linear_r = []\n",
    "mouse = 'GRIN026'\n",
    "for cell in wt_mice[mouse]['C_z_scored']:\n",
    "    cell_z_v_linear_r.append(stats.pearsonr(wt_mice[mouse]['C_z_scored'][cell], wt_mice[mouse]['behavior']['velocity'])[0])\n",
    "    \n",
    "\n",
    "hist_, bin_edges_ = np.histogram(cell_z_v_linear_r, bins='auto')\n",
    "plt.hist(cell_z_v_linear_r, bins='auto')\n",
    "plt.show()"
   ]
  },
  {
   "cell_type": "code",
   "execution_count": null,
   "metadata": {},
   "outputs": [],
   "source": [
    "plt.scatter(np.ones(len(cell_z_v_linear_r)), cell_z_v_linear_r)\n",
    "plt.xlim([-1, 2])"
   ]
  },
  {
   "cell_type": "code",
   "execution_count": null,
   "metadata": {},
   "outputs": [],
   "source": [
    "#by_mouse_rs_with_v"
   ]
  },
  {
   "cell_type": "code",
   "execution_count": null,
   "metadata": {},
   "outputs": [],
   "source": [
    "wt_corr_with_v = pd.concat(by_mouse_rs_with_v, keys=mice)"
   ]
  },
  {
   "cell_type": "code",
   "execution_count": null,
   "metadata": {},
   "outputs": [],
   "source": [
    "hist_, bin_edges_ = np.histogram(wt_corr_with_v[0], bins='auto')\n",
    "plt.hist(wt_corr_with_v[0], bins='auto')\n",
    "plt.show()"
   ]
  },
  {
   "cell_type": "code",
   "execution_count": null,
   "metadata": {},
   "outputs": [],
   "source": [
    "hist_, bin_edges_ = np.histogram(ko_corr_with_v[0], bins='auto')\n",
    "plt.hist(ko_corr_with_v[0], bins='auto')\n",
    "plt.show()"
   ]
  },
  {
   "cell_type": "code",
   "execution_count": null,
   "metadata": {},
   "outputs": [],
   "source": [
    "wt_corr_with_v = v_correlation_by_cell[v_correlation_by_cell['Unnamed: 0']=='wt']['0']\n",
    "ko_corr_with_v = v_correlation_by_cell[v_correlation_by_cell['Unnamed: 0']=='ko']['0']"
   ]
  },
  {
   "cell_type": "code",
   "execution_count": null,
   "metadata": {},
   "outputs": [],
   "source": [
    "np.mean(wt_corr_with_v)"
   ]
  },
  {
   "cell_type": "code",
   "execution_count": null,
   "metadata": {
    "scrolled": true
   },
   "outputs": [],
   "source": [
    "list(set(v_correlation_by_cell[v_correlation_by_cell['Unnamed: 0']=='ko']['Unnamed: 1']))"
   ]
  },
  {
   "cell_type": "code",
   "execution_count": null,
   "metadata": {},
   "outputs": [],
   "source": [
    "plt.scatter(np.concatenate([np.zeros(len(wt_corr_with_v)),np.ones(len(ko_corr_with_v))]), np.concatenate([wt_corr_with_v, ko_corr_with_v]))\n",
    "plt.xlim([-1, 2])\n",
    "ax = plt.gca()\n",
    "ax.spines[\"top\"].set_visible(False)\n",
    "ax.spines[\"right\"].set_visible(False)\n",
    "ax.spines[\"bottom\"].set_visible(False)\n",
    "plt.xticks([])\n",
    "plt.ylabel('pearsons r (cell fluorescence to velocity)')\n",
    "plt.draw()\n",
    "plt.savefig('/Users/johnmarshall/Documents/Presentations/Dec2019_progressreport/cell_velocity_correlation.png')\n",
    "plt.savefig('/Users/johnmarshall/Documents/Presentations/Dec2019_progressreport/cell_velocity_correlation.svg', transparent=True, format=\"svg\")"
   ]
  },
  {
   "cell_type": "code",
   "execution_count": null,
   "metadata": {},
   "outputs": [],
   "source": [
    "v_correlation_by_cell = pd.concat([wt_corr_with_v, ko_corr_with_v], keys = ['wt', 'ko'])"
   ]
  },
  {
   "cell_type": "code",
   "execution_count": null,
   "metadata": {},
   "outputs": [],
   "source": [
    "#v_correlation_by_cell.to_csv('/Volumes/My_Passport/cnmfe_analysis_files/OpenFieldAnalysis/velocity_correlation_analysis/cell_velocity_correlations_by_genotype.csv')\n",
    "v_correlation_by_cell = pd.read_csv('/Volumes/My_Passport/cnmfe_analysis_files/OpenFieldAnalysis/velocity_correlation_analysis/cell_velocity_correlations_by_genotype.csv')"
   ]
  },
  {
   "cell_type": "code",
   "execution_count": null,
   "metadata": {},
   "outputs": [],
   "source": [
    "#compare 200msec bins with z score above 3 with bins around 0 \n",
    "v_z_score_binned_df = pd.DataFrame({'velocity_z_score_binned' : utils_jjm.binning_function_uncrop(30, analysis_df['behavior']['velocity_z_score'], 3)})"
   ]
  },
  {
   "cell_type": "code",
   "execution_count": null,
   "metadata": {},
   "outputs": [],
   "source": [
    "v_z_score_binned_df_low_v = pd.DataFrame({'velocity_z_score_binned' : utils_jjm.binning_function_uncrop(30, analysis_df['behavior']['velocity_z_score'], 0.001)})"
   ]
  },
  {
   "cell_type": "code",
   "execution_count": null,
   "metadata": {},
   "outputs": [],
   "source": [
    "moving_bins = np.array(v_z_score_binned_df[v_z_score_binned_df['velocity_z_score_binned' ] > 0.5 ].index.to_list())"
   ]
  },
  {
   "cell_type": "code",
   "execution_count": null,
   "metadata": {},
   "outputs": [],
   "source": [
    "low_v_bins = np.array(v_z_score_binned_df_low_v[v_z_score_binned_df_low_v['velocity_z_score_binned' ] < 0.5 ].index.to_list())"
   ]
  },
  {
   "cell_type": "code",
   "execution_count": null,
   "metadata": {},
   "outputs": [],
   "source": [
    "plt.plot(v_z_score_binned_df)"
   ]
  },
  {
   "cell_type": "code",
   "execution_count": null,
   "metadata": {},
   "outputs": [],
   "source": [
    "plt.plot(v_z_score_binned_df_low_v)"
   ]
  },
  {
   "cell_type": "code",
   "execution_count": null,
   "metadata": {},
   "outputs": [],
   "source": [
    "plt.plot(analysis_df['behavior']['velocity_z_score'])"
   ]
  },
  {
   "cell_type": "code",
   "execution_count": null,
   "metadata": {},
   "outputs": [],
   "source": [
    "#for linear correlation coefficient\n",
    "moving_data = analysis_df['C_z_scored'].iloc[moving_bins, :]\n",
    "low_v_data = analysis_df['C_z_scored'].iloc[low_v_bins, :]"
   ]
  },
  {
   "cell_type": "code",
   "execution_count": null,
   "metadata": {},
   "outputs": [],
   "source": [
    "plt.plot(analysis_df['behavior']['velocity_z_score'].iloc[moving_bins])"
   ]
  },
  {
   "cell_type": "code",
   "execution_count": null,
   "metadata": {},
   "outputs": [],
   "source": [
    "plt.plot(analysis_df['behavior']['velocity_z_score'].iloc[low_v_bins])"
   ]
  },
  {
   "cell_type": "code",
   "execution_count": null,
   "metadata": {},
   "outputs": [],
   "source": [
    "plt.plot(analysis_df['C_z_scored'].iloc[moving_bins, :])\n",
    "plt.show()"
   ]
  },
  {
   "cell_type": "code",
   "execution_count": null,
   "metadata": {},
   "outputs": [],
   "source": [
    "plt.plot(analysis_df['C_z_scored'].iloc[low_v_bins, :])\n",
    "plt.show()"
   ]
  },
  {
   "cell_type": "code",
   "execution_count": null,
   "metadata": {},
   "outputs": [],
   "source": [
    "disp_cell = 10\n",
    "plt.plot(analysis_df['C_z_scored'].iloc[low_v_bins, :][disp_cell])\n",
    "plt.plot(analysis_df['C_z_scored'].iloc[moving_bins, :][disp_cell])"
   ]
  },
  {
   "cell_type": "code",
   "execution_count": null,
   "metadata": {},
   "outputs": [],
   "source": [
    "# display mean ISIs \n",
    "print('      ' + str(np.mean(ma.count_events_in_array(analysis_df['C_z_scored'].iloc[moving_bins, :][disp_cell].values, 1, .1, threshold=3, up=True)[1])))\n",
    "print('      ' + str(np.mean(ma.count_events_in_array(analysis_df['C_z_scored'].iloc[low_v_bins, :][disp_cell].values, 1, .1, threshold=3, up=True)[1])))"
   ]
  },
  {
   "cell_type": "code",
   "execution_count": null,
   "metadata": {},
   "outputs": [],
   "source": [
    "#get ISI distribution\n",
    "event_times_moving, ISIs_moving = utils_jjm.get_ISIs_binned_data(analysis_df['C_z_scored'].iloc[moving_bins, :], 1, len(analysis_df['C_z_scored'].columns), 3)\n",
    "event_times_low_v, ISIs_low_v = utils_jjm.get_ISIs_binned_data(analysis_df['C_z_scored'].iloc[low_v_bins, :], 1, len(analysis_df['C_z_scored'].columns), 3)"
   ]
  },
  {
   "cell_type": "code",
   "execution_count": null,
   "metadata": {},
   "outputs": [],
   "source": [
    "h5_output = h5py.File(dir_output + mouse + '_binned_events.h5', 'w')"
   ]
  },
  {
   "cell_type": "code",
   "execution_count": null,
   "metadata": {},
   "outputs": [],
   "source": [
    "h5_output.create_group('ISIs_moving')\n",
    "h5_output.create_group('ISIs_low_v')\n",
    "h5_output.create_group('event_times_moving')\n",
    "h5_output.create_group('event_times_low_v')\n",
    "for cell in range(np.shape(ISIs_moving)[0]):\n",
    "    h5_output['ISIs_moving'][str(cell)] = ISIs_moving[cell]\n",
    "for cell in range(np.shape(ISIs_low_v)[0]):\n",
    "    h5_output['ISIs_low_v'][str(cell)] = ISIs_low_v[cell]   \n",
    "for cell in range(np.shape(event_times_moving)[0]):\n",
    "    h5_output['event_times_moving'][str(cell)] = event_times_moving[cell]\n",
    "for cell in range(np.shape(event_times_low_v)[0]):\n",
    "    h5_output['event_times_low_v'][str(cell)] = event_times_low_v[cell]"
   ]
  },
  {
   "cell_type": "code",
   "execution_count": null,
   "metadata": {},
   "outputs": [],
   "source": [
    "h5_output.close()"
   ]
  },
  {
   "cell_type": "code",
   "execution_count": null,
   "metadata": {},
   "outputs": [],
   "source": [
    "#bin for jaccard score\n",
    "num_neurons = len(analysis_df['C_z_scored'].columns)\n",
    "moving_binned = []\n",
    "low_v_binned = []\n",
    "for cell in tqdm(range(num_neurons)):\n",
    "    moving_binned.append(utils_jjm.binning_function_uncrop(1, analysis_df['C_z_scored'].iloc[moving_bins, :][cell], 0.5))\n",
    "    low_v_binned.append(utils_jjm.binning_function_uncrop(1, analysis_df['C_z_scored'].iloc[low_v_bins, :][cell], 0.5))\n",
    "\n",
    "moving_binned_df = pd.DataFrame(np.transpose(moving_binned))\n",
    "low_v_binned_df = pd.DataFrame(np.transpose(low_v_binned))"
   ]
  },
  {
   "cell_type": "code",
   "execution_count": null,
   "metadata": {},
   "outputs": [],
   "source": [
    "plt.plot(moving_binned_df)\n",
    "plt.show()"
   ]
  },
  {
   "cell_type": "code",
   "execution_count": null,
   "metadata": {},
   "outputs": [],
   "source": [
    "plt.plot(low_v_binned_df)\n",
    "plt.show()"
   ]
  },
  {
   "cell_type": "code",
   "execution_count": null,
   "metadata": {},
   "outputs": [],
   "source": [
    "num_neurons = len(analysis_df['C_z_scored'].columns)\n",
    "# get linear pairwise correlation coefficients\n",
    "pairwise_r_correlation_moving_bins = {}\n",
    "pairwise_r_correlation_low_v_bins = {}\n",
    "#pairwise_jaccard_moving_bins = {}\n",
    "#pairwise_jaccard_low_v_bins = {}\n",
    "for pair in tqdm(itertools.combinations(range(num_neurons),2)):\n",
    "    pairwise_r_correlation_moving_bins[pair] = stats.pearsonr(moving_data[pair[0]], moving_data[pair[1]])[0]\n",
    "    pairwise_r_correlation_low_v_bins[pair] = stats.pearsonr(low_v_data[pair[0]], low_v_data[pair[1]])[0]\n",
    "    #pairwise_jaccard_moving_bins[pair] = skm.jaccard_similarity_score(moving_binned_df[pair[0]], moving_binned_df[pair[1]])\n",
    "    #pairwise_jaccard_low_v_bins[pair] = skm.jaccard_similarity_score(low_v_binned_df[pair[0]], low_v_binned_df[pair[1]])"
   ]
  },
  {
   "cell_type": "code",
   "execution_count": null,
   "metadata": {},
   "outputs": [],
   "source": [
    "pairwise_pearson = pd.DataFrame([pairwise_r_correlation_moving_bins, pairwise_r_correlation_low_v_bins], index=['pairwise_pearson_r_moving', 'pairwise_pearson_r_low_v'])\n",
    "#pairwise_jaccard = pd.DataFrame([pairwise_jaccard_moving_bins, pairwise_jaccard_low_v_bins], index=['pairwise_jaccard_moving', 'pairwise_jaccard_low_v'])"
   ]
  },
  {
   "cell_type": "code",
   "execution_count": null,
   "metadata": {},
   "outputs": [],
   "source": [
    "pairwise_pearson.to_hdf(dir_output + mouse + '_pairwise_pearson.h5', key='df')\n",
    "#pairwise_jaccard.to_hdf(dir_output + mouse + '_pairwise_jaccard.h5', key='df')"
   ]
  },
  {
   "cell_type": "code",
   "execution_count": null,
   "metadata": {},
   "outputs": [],
   "source": [
    "#plot pairwise correlations versus distance "
   ]
  },
  {
   "cell_type": "code",
   "execution_count": null,
   "metadata": {},
   "outputs": [],
   "source": [
    "#plt.scatter(pairwise_distance, pairwise_pearson)\n",
    "#plt.show()"
   ]
  },
  {
   "cell_type": "code",
   "execution_count": null,
   "metadata": {},
   "outputs": [],
   "source": [
    "hist_, bin_edges_ = np.histogram(pairwise_pearson.loc['pairwise_pearson_r_moving'], bins='auto')\n",
    "plt.hist(pairwise_pearson.loc['pairwise_pearson_r_moving'], bins='auto')\n",
    "plt.show()"
   ]
  },
  {
   "cell_type": "code",
   "execution_count": null,
   "metadata": {},
   "outputs": [],
   "source": [
    "hist_, bin_edges_ = np.histogram(pairwise_pearson.loc['pairwise_pearson_r_moving'], bins='auto')\n",
    "plt.hist(pairwise_pearson.loc['pairwise_pearson_r_low_v'], bins='auto')\n",
    "plt.show()"
   ]
  },
  {
   "cell_type": "code",
   "execution_count": null,
   "metadata": {},
   "outputs": [],
   "source": [
    "np.mean(pairwise_pearson.loc['pairwise_pearson_r_moving'])\n"
   ]
  },
  {
   "cell_type": "code",
   "execution_count": null,
   "metadata": {},
   "outputs": [],
   "source": [
    "np.mean(pairwise_pearson.loc['pairwise_pearson_r_low_v'])"
   ]
  },
  {
   "cell_type": "code",
   "execution_count": null,
   "metadata": {},
   "outputs": [],
   "source": [
    "# plot pairwise Jaccard \n",
    "hist_, bin_edges_ = np.histogram(pairwise_jaccard.loc['pairwise_jaccard_moving'], bins='auto')\n",
    "plt.hist(pairwise_jaccard.loc['pairwise_jaccard_moving'], bins='auto')\n",
    "plt.show()\n"
   ]
  },
  {
   "cell_type": "code",
   "execution_count": null,
   "metadata": {},
   "outputs": [],
   "source": [
    "hist_, bin_edges_ = np.histogram(pairwise_jaccard.loc['pairwise_jaccard_low_v'], bins='auto')\n",
    "plt.hist(pairwise_jaccard.loc['pairwise_jaccard_low_v'], bins='auto')\n",
    "plt.show()"
   ]
  },
  {
   "cell_type": "code",
   "execution_count": null,
   "metadata": {},
   "outputs": [],
   "source": [
    "np.mean(pairwise_jaccard.loc['pairwise_jaccard_low_v'])"
   ]
  },
  {
   "cell_type": "code",
   "execution_count": null,
   "metadata": {},
   "outputs": [],
   "source": [
    "np.mean(pairwise_jaccard.loc['pairwise_jaccard_moving'])"
   ]
  },
  {
   "cell_type": "code",
   "execution_count": null,
   "metadata": {},
   "outputs": [],
   "source": []
  }
 ],
 "metadata": {
  "kernelspec": {
   "display_name": "jupyter_env",
   "language": "python",
   "name": "jupyter_env"
  },
  "language_info": {
   "codemirror_mode": {
    "name": "ipython",
    "version": 3
   },
   "file_extension": ".py",
   "mimetype": "text/x-python",
   "name": "python",
   "nbconvert_exporter": "python",
   "pygments_lexer": "ipython3",
   "version": "3.6.8"
  }
 },
 "nbformat": 4,
 "nbformat_minor": 2
}
