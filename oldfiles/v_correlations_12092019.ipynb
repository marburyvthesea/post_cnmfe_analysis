{
 "cells": [
  {
   "cell_type": "code",
   "execution_count": 28,
   "metadata": {},
   "outputs": [
    {
     "data": {
      "text/html": [
       "<style>.container { width:90% !important; }</style>"
      ],
      "text/plain": [
       "<IPython.core.display.HTML object>"
      ]
     },
     "metadata": {},
     "output_type": "display_data"
    }
   ],
   "source": [
    "from IPython.core.display import display, HTML\n",
    "display(HTML(\"<style>.container { width:90% !important; }</style>\"))"
   ]
  },
  {
   "cell_type": "code",
   "execution_count": 29,
   "metadata": {},
   "outputs": [],
   "source": [
    "import numpy as np\n",
    "import pandas as pd\n",
    "import h5py\n",
    "import itertools\n",
    "import python_utils_jjm as utils_jjm\n",
    "from tqdm import tqdm\n",
    "from scipy import stats\n",
    "from importlib import reload\n",
    "from matplotlib import pyplot as plt\n",
    "import sys\n",
    "sys.path.append('/Users/johnmarshall/Documents/Analysis/PythonAnalysisScripts/post_cmfe_analysis/')\n",
    "import miniscope_analysis as ma \n",
    "import scipy.spatial.distance as dist\n",
    "import sklearn.metrics as skm\n",
    "from tqdm import tqdm"
   ]
  },
  {
   "cell_type": "code",
   "execution_count": 30,
   "metadata": {},
   "outputs": [
    {
     "data": {
      "text/plain": [
       "<module 'python_utils_jjm' from '/Users/johnmarshall/Documents/Analysis/PythonAnalysisScripts/post_cmfe_analysis/python_utils_jjm.py'>"
      ]
     },
     "execution_count": 30,
     "metadata": {},
     "output_type": "execute_result"
    }
   ],
   "source": [
    "reload(ma)\n",
    "reload(utils_jjm)"
   ]
  },
  {
   "cell_type": "code",
   "execution_count": 31,
   "metadata": {},
   "outputs": [],
   "source": [
    "dir_ = '/Volumes/My_Passport/cnmfe_analysis_files/OpenFieldAnalysis/'"
   ]
  },
  {
   "cell_type": "code",
   "execution_count": 32,
   "metadata": {},
   "outputs": [],
   "source": [
    "velocity_aligned = pd.read_hdf(dir_+'all_mice_aligned_to_behavior.h5')"
   ]
  },
  {
   "cell_type": "code",
   "execution_count": 38,
   "metadata": {},
   "outputs": [],
   "source": [
    "#wt_mice = ['GRIN027', 'GRIN026', 'GRIN013', 'GRIN032']\n",
    "wt_mice = ['GRIN032']\n",
    "ko_mice = ['GRIN012', 'GRIN018', 'GRIN011']"
   ]
  },
  {
   "cell_type": "code",
   "execution_count": 39,
   "metadata": {},
   "outputs": [
    {
     "data": {
      "text/html": [
       "<div>\n",
       "<style scoped>\n",
       "    .dataframe tbody tr th:only-of-type {\n",
       "        vertical-align: middle;\n",
       "    }\n",
       "\n",
       "    .dataframe tbody tr th {\n",
       "        vertical-align: top;\n",
       "    }\n",
       "\n",
       "    .dataframe thead tr th {\n",
       "        text-align: left;\n",
       "    }\n",
       "</style>\n",
       "<table border=\"1\" class=\"dataframe\">\n",
       "  <thead>\n",
       "    <tr>\n",
       "      <th></th>\n",
       "      <th colspan=\"10\" halign=\"left\">GRIN011</th>\n",
       "      <th>...</th>\n",
       "      <th colspan=\"10\" halign=\"left\">GRIN032</th>\n",
       "    </tr>\n",
       "    <tr>\n",
       "      <th></th>\n",
       "      <th colspan=\"10\" halign=\"left\">C_z_scored</th>\n",
       "      <th>...</th>\n",
       "      <th colspan=\"10\" halign=\"left\">C_z_scored</th>\n",
       "    </tr>\n",
       "    <tr>\n",
       "      <th></th>\n",
       "      <th>0</th>\n",
       "      <th>1</th>\n",
       "      <th>2</th>\n",
       "      <th>3</th>\n",
       "      <th>4</th>\n",
       "      <th>5</th>\n",
       "      <th>6</th>\n",
       "      <th>7</th>\n",
       "      <th>8</th>\n",
       "      <th>9</th>\n",
       "      <th>...</th>\n",
       "      <th>34</th>\n",
       "      <th>35</th>\n",
       "      <th>36</th>\n",
       "      <th>37</th>\n",
       "      <th>38</th>\n",
       "      <th>39</th>\n",
       "      <th>40</th>\n",
       "      <th>41</th>\n",
       "      <th>42</th>\n",
       "      <th>43</th>\n",
       "    </tr>\n",
       "  </thead>\n",
       "  <tbody>\n",
       "    <tr>\n",
       "      <th>0</th>\n",
       "      <td>-0.228888</td>\n",
       "      <td>-0.347683</td>\n",
       "      <td>-0.084443</td>\n",
       "      <td>0.315216</td>\n",
       "      <td>0.736817</td>\n",
       "      <td>0.050184</td>\n",
       "      <td>-0.410957</td>\n",
       "      <td>0.097476</td>\n",
       "      <td>3.419068</td>\n",
       "      <td>0.139459</td>\n",
       "      <td>...</td>\n",
       "      <td>1.945256</td>\n",
       "      <td>-0.373732</td>\n",
       "      <td>0.217412</td>\n",
       "      <td>0.275235</td>\n",
       "      <td>-0.412635</td>\n",
       "      <td>-0.347185</td>\n",
       "      <td>0.757467</td>\n",
       "      <td>0.086507</td>\n",
       "      <td>0.105644</td>\n",
       "      <td>0.970088</td>\n",
       "    </tr>\n",
       "    <tr>\n",
       "      <th>1</th>\n",
       "      <td>-0.244563</td>\n",
       "      <td>-0.347918</td>\n",
       "      <td>-0.103346</td>\n",
       "      <td>0.271259</td>\n",
       "      <td>0.678833</td>\n",
       "      <td>0.020152</td>\n",
       "      <td>-0.416319</td>\n",
       "      <td>0.068316</td>\n",
       "      <td>3.185303</td>\n",
       "      <td>0.110913</td>\n",
       "      <td>...</td>\n",
       "      <td>1.849589</td>\n",
       "      <td>-0.378930</td>\n",
       "      <td>0.194355</td>\n",
       "      <td>0.258418</td>\n",
       "      <td>-0.014215</td>\n",
       "      <td>0.024000</td>\n",
       "      <td>0.666505</td>\n",
       "      <td>0.056907</td>\n",
       "      <td>0.051431</td>\n",
       "      <td>1.198455</td>\n",
       "    </tr>\n",
       "    <tr>\n",
       "      <th>2</th>\n",
       "      <td>-0.259137</td>\n",
       "      <td>-0.348129</td>\n",
       "      <td>-0.121097</td>\n",
       "      <td>0.229800</td>\n",
       "      <td>0.623781</td>\n",
       "      <td>-0.007913</td>\n",
       "      <td>-0.421413</td>\n",
       "      <td>0.040584</td>\n",
       "      <td>2.965232</td>\n",
       "      <td>0.083968</td>\n",
       "      <td>...</td>\n",
       "      <td>1.756501</td>\n",
       "      <td>-0.383959</td>\n",
       "      <td>0.172010</td>\n",
       "      <td>0.241963</td>\n",
       "      <td>-0.033274</td>\n",
       "      <td>-0.018181</td>\n",
       "      <td>0.581682</td>\n",
       "      <td>0.028163</td>\n",
       "      <td>-0.000132</td>\n",
       "      <td>1.898681</td>\n",
       "    </tr>\n",
       "    <tr>\n",
       "      <th>3</th>\n",
       "      <td>-0.272688</td>\n",
       "      <td>-0.348320</td>\n",
       "      <td>-0.137766</td>\n",
       "      <td>0.190696</td>\n",
       "      <td>0.571513</td>\n",
       "      <td>-0.034137</td>\n",
       "      <td>-0.426252</td>\n",
       "      <td>0.014210</td>\n",
       "      <td>2.758052</td>\n",
       "      <td>0.058535</td>\n",
       "      <td>...</td>\n",
       "      <td>1.665921</td>\n",
       "      <td>-0.388825</td>\n",
       "      <td>0.150355</td>\n",
       "      <td>0.225862</td>\n",
       "      <td>-0.051741</td>\n",
       "      <td>-0.057526</td>\n",
       "      <td>0.502582</td>\n",
       "      <td>0.000250</td>\n",
       "      <td>-0.049174</td>\n",
       "      <td>2.435859</td>\n",
       "    </tr>\n",
       "    <tr>\n",
       "      <th>4</th>\n",
       "      <td>-0.177926</td>\n",
       "      <td>-0.348492</td>\n",
       "      <td>-0.153420</td>\n",
       "      <td>0.153814</td>\n",
       "      <td>0.521888</td>\n",
       "      <td>-0.058643</td>\n",
       "      <td>-0.430848</td>\n",
       "      <td>-0.010873</td>\n",
       "      <td>2.563009</td>\n",
       "      <td>0.034529</td>\n",
       "      <td>...</td>\n",
       "      <td>1.577783</td>\n",
       "      <td>-0.393533</td>\n",
       "      <td>0.129368</td>\n",
       "      <td>0.210108</td>\n",
       "      <td>-0.069638</td>\n",
       "      <td>-0.094224</td>\n",
       "      <td>0.428819</td>\n",
       "      <td>0.312185</td>\n",
       "      <td>-0.095818</td>\n",
       "      <td>2.654884</td>\n",
       "    </tr>\n",
       "  </tbody>\n",
       "</table>\n",
       "<p>5 rows × 521 columns</p>\n",
       "</div>"
      ],
      "text/plain": [
       "     GRIN011                                                              \\\n",
       "  C_z_scored                                                               \n",
       "          0         1         2         3         4         5         6    \n",
       "0  -0.228888 -0.347683 -0.084443  0.315216  0.736817  0.050184 -0.410957   \n",
       "1  -0.244563 -0.347918 -0.103346  0.271259  0.678833  0.020152 -0.416319   \n",
       "2  -0.259137 -0.348129 -0.121097  0.229800  0.623781 -0.007913 -0.421413   \n",
       "3  -0.272688 -0.348320 -0.137766  0.190696  0.571513 -0.034137 -0.426252   \n",
       "4  -0.177926 -0.348492 -0.153420  0.153814  0.521888 -0.058643 -0.430848   \n",
       "\n",
       "                                 ...    GRIN032                                \\\n",
       "                                 ... C_z_scored                                 \n",
       "         7         8         9   ...         34        35        36        37   \n",
       "0  0.097476  3.419068  0.139459  ...   1.945256 -0.373732  0.217412  0.275235   \n",
       "1  0.068316  3.185303  0.110913  ...   1.849589 -0.378930  0.194355  0.258418   \n",
       "2  0.040584  2.965232  0.083968  ...   1.756501 -0.383959  0.172010  0.241963   \n",
       "3  0.014210  2.758052  0.058535  ...   1.665921 -0.388825  0.150355  0.225862   \n",
       "4 -0.010873  2.563009  0.034529  ...   1.577783 -0.393533  0.129368  0.210108   \n",
       "\n",
       "                                                               \n",
       "                                                               \n",
       "         38        39        40        41        42        43  \n",
       "0 -0.412635 -0.347185  0.757467  0.086507  0.105644  0.970088  \n",
       "1 -0.014215  0.024000  0.666505  0.056907  0.051431  1.198455  \n",
       "2 -0.033274 -0.018181  0.581682  0.028163 -0.000132  1.898681  \n",
       "3 -0.051741 -0.057526  0.502582  0.000250 -0.049174  2.435859  \n",
       "4 -0.069638 -0.094224  0.428819  0.312185 -0.095818  2.654884  \n",
       "\n",
       "[5 rows x 521 columns]"
      ]
     },
     "execution_count": 39,
     "metadata": {},
     "output_type": "execute_result"
    }
   ],
   "source": [
    "velocity_aligned.head()"
   ]
  },
  {
   "cell_type": "code",
   "execution_count": 40,
   "metadata": {},
   "outputs": [],
   "source": [
    "## velocity correlations by genotype \n",
    "wt_cell_z_v_linear_r = []\n",
    "#mouse = 'GRIN026'\n",
    "for mouse in wt_mice:\n",
    "    for cell in velocity_aligned[mouse]['C_z_scored']:\n",
    "        wt_cell_z_v_linear_r.append(stats.pearsonr(velocity_aligned[mouse]['C_z_scored'][cell], velocity_aligned[mouse]['behavior']['velocity'])[0])\n",
    "        \n",
    "ko_cell_z_v_linear_r = []\n",
    "#mouse = 'GRIN026'\n",
    "for mouse in ko_mice:\n",
    "    for cell in velocity_aligned[mouse]['C_z_scored']:\n",
    "        ko_cell_z_v_linear_r.append(stats.pearsonr(velocity_aligned[mouse]['C_z_scored'][cell], velocity_aligned[mouse]['behavior']['velocity'])[0])\n"
   ]
  },
  {
   "cell_type": "code",
   "execution_count": 44,
   "metadata": {},
   "outputs": [
    {
     "data": {
      "text/html": [
       "<div>\n",
       "<style scoped>\n",
       "    .dataframe tbody tr th:only-of-type {\n",
       "        vertical-align: middle;\n",
       "    }\n",
       "\n",
       "    .dataframe tbody tr th {\n",
       "        vertical-align: top;\n",
       "    }\n",
       "\n",
       "    .dataframe thead th {\n",
       "        text-align: right;\n",
       "    }\n",
       "</style>\n",
       "<table border=\"1\" class=\"dataframe\">\n",
       "  <thead>\n",
       "    <tr style=\"text-align: right;\">\n",
       "      <th></th>\n",
       "      <th>0</th>\n",
       "      <th>1</th>\n",
       "      <th>2</th>\n",
       "      <th>3</th>\n",
       "      <th>4</th>\n",
       "      <th>5</th>\n",
       "      <th>6</th>\n",
       "      <th>7</th>\n",
       "      <th>8</th>\n",
       "      <th>9</th>\n",
       "      <th>...</th>\n",
       "      <th>34</th>\n",
       "      <th>35</th>\n",
       "      <th>36</th>\n",
       "      <th>37</th>\n",
       "      <th>38</th>\n",
       "      <th>39</th>\n",
       "      <th>40</th>\n",
       "      <th>41</th>\n",
       "      <th>42</th>\n",
       "      <th>43</th>\n",
       "    </tr>\n",
       "  </thead>\n",
       "  <tbody>\n",
       "    <tr>\n",
       "      <th>0</th>\n",
       "      <td>-0.195580</td>\n",
       "      <td>4.030452</td>\n",
       "      <td>-0.414852</td>\n",
       "      <td>-0.106266</td>\n",
       "      <td>-0.072519</td>\n",
       "      <td>0.063770</td>\n",
       "      <td>-0.125718</td>\n",
       "      <td>-0.002293</td>\n",
       "      <td>1.532846</td>\n",
       "      <td>-0.310192</td>\n",
       "      <td>...</td>\n",
       "      <td>1.945256</td>\n",
       "      <td>-0.373732</td>\n",
       "      <td>0.217412</td>\n",
       "      <td>0.275235</td>\n",
       "      <td>-0.412635</td>\n",
       "      <td>-0.347185</td>\n",
       "      <td>0.757467</td>\n",
       "      <td>0.086507</td>\n",
       "      <td>0.105644</td>\n",
       "      <td>0.970088</td>\n",
       "    </tr>\n",
       "    <tr>\n",
       "      <th>1</th>\n",
       "      <td>-0.204045</td>\n",
       "      <td>3.908475</td>\n",
       "      <td>-0.421297</td>\n",
       "      <td>-0.112741</td>\n",
       "      <td>-0.076507</td>\n",
       "      <td>0.053911</td>\n",
       "      <td>-0.131867</td>\n",
       "      <td>-0.011978</td>\n",
       "      <td>1.458686</td>\n",
       "      <td>-0.316815</td>\n",
       "      <td>...</td>\n",
       "      <td>1.849589</td>\n",
       "      <td>-0.378930</td>\n",
       "      <td>0.194355</td>\n",
       "      <td>0.258418</td>\n",
       "      <td>-0.014215</td>\n",
       "      <td>0.024000</td>\n",
       "      <td>0.666505</td>\n",
       "      <td>0.056907</td>\n",
       "      <td>0.051431</td>\n",
       "      <td>1.198455</td>\n",
       "    </tr>\n",
       "    <tr>\n",
       "      <th>2</th>\n",
       "      <td>-0.212376</td>\n",
       "      <td>3.789662</td>\n",
       "      <td>-0.427604</td>\n",
       "      <td>-0.119096</td>\n",
       "      <td>-0.080460</td>\n",
       "      <td>0.044304</td>\n",
       "      <td>-0.137860</td>\n",
       "      <td>-0.021514</td>\n",
       "      <td>1.387305</td>\n",
       "      <td>-0.323293</td>\n",
       "      <td>...</td>\n",
       "      <td>1.756501</td>\n",
       "      <td>-0.383959</td>\n",
       "      <td>0.172010</td>\n",
       "      <td>0.241963</td>\n",
       "      <td>-0.033274</td>\n",
       "      <td>-0.018181</td>\n",
       "      <td>0.581682</td>\n",
       "      <td>0.028163</td>\n",
       "      <td>-0.000132</td>\n",
       "      <td>1.898681</td>\n",
       "    </tr>\n",
       "    <tr>\n",
       "      <th>3</th>\n",
       "      <td>-0.220574</td>\n",
       "      <td>3.673932</td>\n",
       "      <td>-0.433777</td>\n",
       "      <td>-0.125334</td>\n",
       "      <td>-0.084377</td>\n",
       "      <td>0.034941</td>\n",
       "      <td>-0.143701</td>\n",
       "      <td>-0.030904</td>\n",
       "      <td>1.318597</td>\n",
       "      <td>-0.329631</td>\n",
       "      <td>...</td>\n",
       "      <td>1.665921</td>\n",
       "      <td>-0.388825</td>\n",
       "      <td>0.150355</td>\n",
       "      <td>0.225862</td>\n",
       "      <td>-0.051741</td>\n",
       "      <td>-0.057526</td>\n",
       "      <td>0.502582</td>\n",
       "      <td>0.000250</td>\n",
       "      <td>-0.049174</td>\n",
       "      <td>2.435859</td>\n",
       "    </tr>\n",
       "    <tr>\n",
       "      <th>4</th>\n",
       "      <td>-0.228643</td>\n",
       "      <td>3.561204</td>\n",
       "      <td>-0.439817</td>\n",
       "      <td>-0.131457</td>\n",
       "      <td>-0.088258</td>\n",
       "      <td>0.025817</td>\n",
       "      <td>-0.149394</td>\n",
       "      <td>-0.040151</td>\n",
       "      <td>1.252464</td>\n",
       "      <td>-0.019950</td>\n",
       "      <td>...</td>\n",
       "      <td>1.577783</td>\n",
       "      <td>-0.393533</td>\n",
       "      <td>0.129368</td>\n",
       "      <td>0.210108</td>\n",
       "      <td>-0.069638</td>\n",
       "      <td>-0.094224</td>\n",
       "      <td>0.428819</td>\n",
       "      <td>0.312185</td>\n",
       "      <td>-0.095818</td>\n",
       "      <td>2.654884</td>\n",
       "    </tr>\n",
       "  </tbody>\n",
       "</table>\n",
       "<p>5 rows × 44 columns</p>\n",
       "</div>"
      ],
      "text/plain": [
       "         0         1         2         3         4         5         6   \\\n",
       "0 -0.195580  4.030452 -0.414852 -0.106266 -0.072519  0.063770 -0.125718   \n",
       "1 -0.204045  3.908475 -0.421297 -0.112741 -0.076507  0.053911 -0.131867   \n",
       "2 -0.212376  3.789662 -0.427604 -0.119096 -0.080460  0.044304 -0.137860   \n",
       "3 -0.220574  3.673932 -0.433777 -0.125334 -0.084377  0.034941 -0.143701   \n",
       "4 -0.228643  3.561204 -0.439817 -0.131457 -0.088258  0.025817 -0.149394   \n",
       "\n",
       "         7         8         9   ...        34        35        36        37  \\\n",
       "0 -0.002293  1.532846 -0.310192  ...  1.945256 -0.373732  0.217412  0.275235   \n",
       "1 -0.011978  1.458686 -0.316815  ...  1.849589 -0.378930  0.194355  0.258418   \n",
       "2 -0.021514  1.387305 -0.323293  ...  1.756501 -0.383959  0.172010  0.241963   \n",
       "3 -0.030904  1.318597 -0.329631  ...  1.665921 -0.388825  0.150355  0.225862   \n",
       "4 -0.040151  1.252464 -0.019950  ...  1.577783 -0.393533  0.129368  0.210108   \n",
       "\n",
       "         38        39        40        41        42        43  \n",
       "0 -0.412635 -0.347185  0.757467  0.086507  0.105644  0.970088  \n",
       "1 -0.014215  0.024000  0.666505  0.056907  0.051431  1.198455  \n",
       "2 -0.033274 -0.018181  0.581682  0.028163 -0.000132  1.898681  \n",
       "3 -0.051741 -0.057526  0.502582  0.000250 -0.049174  2.435859  \n",
       "4 -0.069638 -0.094224  0.428819  0.312185 -0.095818  2.654884  \n",
       "\n",
       "[5 rows x 44 columns]"
      ]
     },
     "execution_count": 44,
     "metadata": {},
     "output_type": "execute_result"
    }
   ],
   "source": [
    "velocity_aligned['GRIN032']['C_z_scored'].head()"
   ]
  },
  {
   "cell_type": "code",
   "execution_count": 41,
   "metadata": {},
   "outputs": [
    {
     "data": {
      "image/png": "[encoded data removed]",
      "text/plain": [
       "<Figure size 432x288 with 1 Axes>"
      ]
     },
     "metadata": {
      "needs_background": "light"
     },
     "output_type": "display_data"
    }
   ],
   "source": [
    "plt.scatter(np.concatenate([np.zeros(len(wt_cell_z_v_linear_r)),np.ones(len(ko_cell_z_v_linear_r))/2]), np.concatenate([wt_cell_z_v_linear_r, ko_cell_z_v_linear_r]),\n",
    "           s=200, linewidths=.5, edgecolors='k')\n",
    "plt.xlim([-.5, 1])\n",
    "ax = plt.gca()\n",
    "ax.spines[\"top\"].set_visible(False)\n",
    "ax.spines[\"right\"].set_visible(False)\n",
    "ax.spines[\"bottom\"].set_visible(False)\n",
    "plt.xticks([])\n",
    "plt.ylabel('pearsons r (cell fluorescence to velocity)')\n",
    "plt.draw()\n",
    "plt.savefig('/Users/johnmarshall/Documents/Presentations/Dec2019_report/cell_velocity_correlation.png')\n",
    "plt.savefig('/Users/johnmarshall/Documents/Presentations/Dec2019_report/cell_velocity_correlation.svg', transparent=True, format=\"svg\")"
   ]
  },
  {
   "cell_type": "code",
   "execution_count": 45,
   "metadata": {},
   "outputs": [
    {
     "data": {
      "text/plain": [
       "(25000, 120)"
      ]
     },
     "execution_count": 45,
     "metadata": {},
     "output_type": "execute_result"
    }
   ],
   "source": [
    "velocity_aligned[mouse]['C_z_scored'].shape[1]"
   ]
  },
  {
   "cell_type": "code",
   "execution_count": 99,
   "metadata": {},
   "outputs": [],
   "source": [
    "## ISI intervals by genotype \n",
    "wt_ISIs = []\n",
    "ko_ISIs = []\n",
    "#mouse = 'GRIN026'\n",
    "#velocity_aligned[mouse]['C_z_scored']:\n",
    "for mouse in wt_mice:      \n",
    "    wt_ISIs.append(np.hstack(utils_jjm.get_ISIs(velocity_aligned[mouse]['C_z_scored'], 20, velocity_aligned[mouse]['C_z_scored'].shape[1], 2)[1]))\n",
    "for mouse in ko_mice:      \n",
    "    ko_ISIs.append(np.hstack(utils_jjm.get_ISIs(velocity_aligned[mouse]['C_z_scored'], 20, velocity_aligned[mouse]['C_z_scored'].shape[1], 2)[1]))\n"
   ]
  },
  {
   "cell_type": "code",
   "execution_count": 100,
   "metadata": {},
   "outputs": [
    {
     "data": {
      "image/png": "[encoded data removed]",
      "text/plain": [
       "<Figure size 648x288 with 1 Axes>"
      ]
     },
     "metadata": {
      "needs_background": "light"
     },
     "output_type": "display_data"
    }
   ],
   "source": [
    "##plotting overall distribution of ISIs\n",
    "fig, ax = plt.subplots(figsize=(9, 4))\n",
    "n, bins, patches = ax.hist(np.hstack(wt_ISIs), bins='auto', density=True, histtype='step', cumulative=True, label='Empirical', linewidth=2, color='b')\n",
    "n, bins, patches = ax.hist(np.hstack(ko_ISIs), bins='auto', density=True, histtype='step', cumulative=True, label='Empirical', linewidth=2, color='r')\n",
    "plt.ylabel('Cumulative probability')\n",
    "plt.xlabel('Fluorescence inter-event interval (sec)')\n",
    "plt.xlim(-100, 1500)\n",
    "plt.draw()"
   ]
  },
  {
   "cell_type": "code",
   "execution_count": 168,
   "metadata": {},
   "outputs": [],
   "source": [
    "#for resting periods find all 1 second regions where mouse is moving, then resting periods are seconds where there is no velocity bin \n",
    "binned_v_for_resting = utils_jjm.binning_function_uncrop(100, velocity_aligned[mouse]['behavior']['velocity'], 0.05)\n",
    "#for moving periods find all 100 msecond regions where mouse is moving, then resting periods are seconds where there is no velocity bin \n",
    "binned_v_for_moving = utils_jjm.binning_function_uncrop(5, velocity_aligned[mouse]['behavior']['velocity_z_score'], 3)"
   ]
  },
  {
   "cell_type": "code",
   "execution_count": 169,
   "metadata": {},
   "outputs": [],
   "source": [
    "binned_c_zscore = utils_jjm.binning_function_uncrop(50, velocity_aligned[mouse]['behavior']['velocity'], .1)"
   ]
  },
  {
   "cell_type": "code",
   "execution_count": 170,
   "metadata": {},
   "outputs": [
    {
     "data": {
      "text/plain": [
       "[<matplotlib.lines.Line2D at 0x1a1b682d68>]"
      ]
     },
     "execution_count": 170,
     "metadata": {},
     "output_type": "execute_result"
    },
    {
     "data": {
      "image/png": "[encoded data removed]",
      "text/plain": [
       "<Figure size 432x288 with 1 Axes>"
      ]
     },
     "metadata": {
      "needs_background": "light"
     },
     "output_type": "display_data"
    }
   ],
   "source": [
    "plt.plot(velocity_aligned[mouse]['behavior']['velocity'][18000:20000])"
   ]
  },
  {
   "cell_type": "code",
   "execution_count": 171,
   "metadata": {},
   "outputs": [
    {
     "data": {
      "image/png": "[encoded data removed]",
      "text/plain": [
       "<Figure size 432x288 with 1 Axes>"
      ]
     },
     "metadata": {
      "needs_background": "light"
     },
     "output_type": "display_data"
    }
   ],
   "source": [
    "plt.plot(binned_v_for_moving[18000:20000])\n",
    "plt.plot(binned_v_for_resting[18000:20000])\n",
    "plt.show()"
   ]
  },
  {
   "cell_type": "code",
   "execution_count": 172,
   "metadata": {},
   "outputs": [],
   "source": [
    "moving = np.argwhere(binned_v_for_moving == 1 )\n",
    "not_moving = np.argwhere(binned_v_for_resting == 0)\n",
    "moving_indicies = np.array([moving[x][0] for x in range(np.shape(moving)[0])])\n",
    "resting_indicies = np.array([not_moving[x][0] for x in range(np.shape(not_moving)[0])])"
   ]
  },
  {
   "cell_type": "code",
   "execution_count": 173,
   "metadata": {},
   "outputs": [
    {
     "data": {
      "text/plain": [
       "150    0.006341\n",
       "151    0.005396\n",
       "152    0.005684\n",
       "153    0.000718\n",
       "154    0.003429\n",
       "Name: velocity, dtype: float64"
      ]
     },
     "execution_count": 173,
     "metadata": {},
     "output_type": "execute_result"
    }
   ],
   "source": [
    "velocity_aligned.iloc[moving_indicies,:]['GRIN026']['behavior']['velocity'].head()"
   ]
  },
  {
   "cell_type": "code",
   "execution_count": 174,
   "metadata": {},
   "outputs": [
    {
     "data": {
      "text/plain": [
       "2000    0.000000\n",
       "2001    0.014966\n",
       "2002    0.010718\n",
       "2003    0.008852\n",
       "2004    0.005900\n",
       "Name: velocity, dtype: float64"
      ]
     },
     "execution_count": 174,
     "metadata": {},
     "output_type": "execute_result"
    }
   ],
   "source": [
    "velocity_aligned.iloc[resting_indicies,:]['GRIN026']['behavior']['velocity'].head()"
   ]
  },
  {
   "cell_type": "code",
   "execution_count": 183,
   "metadata": {},
   "outputs": [
    {
     "data": {
      "text/plain": [
       "0.02925725987289832"
      ]
     },
     "execution_count": 183,
     "metadata": {},
     "output_type": "execute_result"
    }
   ],
   "source": [
    "np.max(velocity_aligned.iloc[moving_indicies,:]['GRIN026']['behavior']['velocity'])"
   ]
  },
  {
   "cell_type": "code",
   "execution_count": 184,
   "metadata": {},
   "outputs": [
    {
     "data": {
      "text/plain": [
       "0.22064730277058348"
      ]
     },
     "execution_count": 184,
     "metadata": {},
     "output_type": "execute_result"
    }
   ],
   "source": [
    "np.max(velocity_aligned.iloc[resting_indicies,:]['GRIN026']['behavior']['velocity'])"
   ]
  },
  {
   "cell_type": "code",
   "execution_count": 185,
   "metadata": {},
   "outputs": [
    {
     "data": {
      "text/plain": [
       "[<matplotlib.lines.Line2D at 0x1a35ab4dd8>]"
      ]
     },
     "execution_count": 185,
     "metadata": {},
     "output_type": "execute_result"
    },
    {
     "data": {
      "image/png": "[encoded data removed]",
      "text/plain": [
       "<Figure size 432x288 with 1 Axes>"
      ]
     },
     "metadata": {
      "needs_background": "light"
     },
     "output_type": "display_data"
    }
   ],
   "source": [
    "plt.plot(velocity_aligned[mouse]['behavior']['velocity'][150:1150])"
   ]
  },
  {
   "cell_type": "code",
   "execution_count": 186,
   "metadata": {},
   "outputs": [
    {
     "data": {
      "text/plain": [
       "[<matplotlib.lines.Line2D at 0x1a51b0af28>]"
      ]
     },
     "execution_count": 186,
     "metadata": {},
     "output_type": "execute_result"
    },
    {
     "data": {
      "image/png": "[encoded data removed]",
      "text/plain": [
       "<Figure size 432x288 with 1 Axes>"
      ]
     },
     "metadata": {
      "needs_background": "light"
     },
     "output_type": "display_data"
    }
   ],
   "source": [
    "plt.plot(binned_v_for_resting[150:1150])"
   ]
  },
  {
   "cell_type": "code",
   "execution_count": null,
   "metadata": {},
   "outputs": [],
   "source": []
  }
 ],
 "metadata": {
  "kernelspec": {
   "display_name": "jupyter_env",
   "language": "python",
   "name": "jupyter_env"
  },
  "language_info": {
   "codemirror_mode": {
    "name": "ipython",
    "version": 3
   },
   "file_extension": ".py",
   "mimetype": "text/x-python",
   "name": "python",
   "nbconvert_exporter": "python",
   "pygments_lexer": "ipython3",
   "version": "3.8.1"
  }
 },
 "nbformat": 4,
 "nbformat_minor": 2
}
