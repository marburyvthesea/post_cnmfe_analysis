{
 "cells": [
  {
   "cell_type": "code",
   "execution_count": 3,
   "metadata": {},
   "outputs": [
    {
     "data": {
      "text/html": [
       "<style>.container { width:90% !important; }</style>"
      ],
      "text/plain": [
       "<IPython.core.display.HTML object>"
      ]
     },
     "metadata": {},
     "output_type": "display_data"
    }
   ],
   "source": [
    "from IPython.core.display import display, HTML\n",
    "display(HTML(\"<style>.container { width:90% !important; }</style>\"))"
   ]
  },
  {
   "cell_type": "code",
   "execution_count": 4,
   "metadata": {},
   "outputs": [],
   "source": [
    "import pandas as pd\n",
    "import numpy as np\n",
    "import matplotlib.pyplot as plt\n",
    "import math\n",
    "import sys\n",
    "sys.path.append('/Users/johnmarshall/Documents/Analysis/PythonAnalysisScripts/post_cmfe_analysis')\n",
    "import dlc_utils\n",
    "from importlib import reload"
   ]
  },
  {
   "cell_type": "code",
   "execution_count": 5,
   "metadata": {},
   "outputs": [],
   "source": [
    "reload(dlc_utils)\n",
    "# open dlc output file and calculate centroid of animal\n",
    "dlc_output = pd.read_hdf('/Volumes/My_Passport/dlc_analysis/behavcamvideos/GRIN018_H16_M13_S53/behavCam17DLC_resnet50_Open_Field_v2Jan27shuffle1_150000.h5')"
   ]
  },
  {
   "cell_type": "code",
   "execution_count": 6,
   "metadata": {},
   "outputs": [],
   "source": [
    "#dlc_output.head()"
   ]
  },
  {
   "cell_type": "code",
   "execution_count": 7,
   "metadata": {},
   "outputs": [],
   "source": [
    "dlc_output = dlc_utils.calculate_centroid(dlc_output)"
   ]
  },
  {
   "cell_type": "code",
   "execution_count": 8,
   "metadata": {},
   "outputs": [
    {
     "data": {
      "text/html": [
       "<div>\n",
       "<style scoped>\n",
       "    .dataframe tbody tr th:only-of-type {\n",
       "        vertical-align: middle;\n",
       "    }\n",
       "\n",
       "    .dataframe tbody tr th {\n",
       "        vertical-align: top;\n",
       "    }\n",
       "\n",
       "    .dataframe thead tr th {\n",
       "        text-align: left;\n",
       "    }\n",
       "</style>\n",
       "<table border=\"1\" class=\"dataframe\">\n",
       "  <thead>\n",
       "    <tr>\n",
       "      <th>scorer</th>\n",
       "      <th colspan=\"15\" halign=\"left\">DLC_resnet50_Open_Field_v2Jan27shuffle1_150000</th>\n",
       "    </tr>\n",
       "    <tr>\n",
       "      <th>bodyparts</th>\n",
       "      <th colspan=\"3\" halign=\"left\">ear_left</th>\n",
       "      <th colspan=\"3\" halign=\"left\">ear_right</th>\n",
       "      <th colspan=\"3\" halign=\"left\">tail_base</th>\n",
       "      <th colspan=\"3\" halign=\"left\">miniscope_light</th>\n",
       "      <th colspan=\"3\" halign=\"left\">centroid</th>\n",
       "    </tr>\n",
       "    <tr>\n",
       "      <th>coords</th>\n",
       "      <th>x</th>\n",
       "      <th>y</th>\n",
       "      <th>likelihood</th>\n",
       "      <th>x</th>\n",
       "      <th>y</th>\n",
       "      <th>likelihood</th>\n",
       "      <th>x</th>\n",
       "      <th>y</th>\n",
       "      <th>likelihood</th>\n",
       "      <th>x</th>\n",
       "      <th>y</th>\n",
       "      <th>likelihood</th>\n",
       "      <th>x</th>\n",
       "      <th>y</th>\n",
       "      <th>likelihood</th>\n",
       "    </tr>\n",
       "  </thead>\n",
       "  <tbody>\n",
       "    <tr>\n",
       "      <th>0</th>\n",
       "      <td>350.601959</td>\n",
       "      <td>349.726379</td>\n",
       "      <td>0.319404</td>\n",
       "      <td>356.126038</td>\n",
       "      <td>357.920654</td>\n",
       "      <td>0.347644</td>\n",
       "      <td>319.227081</td>\n",
       "      <td>379.762604</td>\n",
       "      <td>0.999709</td>\n",
       "      <td>350.018585</td>\n",
       "      <td>349.900177</td>\n",
       "      <td>0.001970</td>\n",
       "      <td>343.993416</td>\n",
       "      <td>359.327454</td>\n",
       "      <td>0.417182</td>\n",
       "    </tr>\n",
       "    <tr>\n",
       "      <th>1</th>\n",
       "      <td>352.136414</td>\n",
       "      <td>348.584778</td>\n",
       "      <td>0.206522</td>\n",
       "      <td>357.897064</td>\n",
       "      <td>357.440002</td>\n",
       "      <td>0.578003</td>\n",
       "      <td>324.396301</td>\n",
       "      <td>382.511169</td>\n",
       "      <td>0.999940</td>\n",
       "      <td>365.123566</td>\n",
       "      <td>349.354645</td>\n",
       "      <td>0.003283</td>\n",
       "      <td>349.888336</td>\n",
       "      <td>359.472649</td>\n",
       "      <td>0.446937</td>\n",
       "    </tr>\n",
       "    <tr>\n",
       "      <th>2</th>\n",
       "      <td>354.776398</td>\n",
       "      <td>350.084961</td>\n",
       "      <td>0.380140</td>\n",
       "      <td>358.336914</td>\n",
       "      <td>357.164124</td>\n",
       "      <td>0.926967</td>\n",
       "      <td>326.331451</td>\n",
       "      <td>381.919586</td>\n",
       "      <td>0.999972</td>\n",
       "      <td>364.012482</td>\n",
       "      <td>347.976837</td>\n",
       "      <td>0.007047</td>\n",
       "      <td>350.864311</td>\n",
       "      <td>359.286377</td>\n",
       "      <td>0.578532</td>\n",
       "    </tr>\n",
       "    <tr>\n",
       "      <th>3</th>\n",
       "      <td>355.406128</td>\n",
       "      <td>349.633942</td>\n",
       "      <td>0.284354</td>\n",
       "      <td>364.154694</td>\n",
       "      <td>355.427582</td>\n",
       "      <td>0.494322</td>\n",
       "      <td>328.312134</td>\n",
       "      <td>380.381989</td>\n",
       "      <td>0.999956</td>\n",
       "      <td>364.483948</td>\n",
       "      <td>347.774841</td>\n",
       "      <td>0.005748</td>\n",
       "      <td>353.089226</td>\n",
       "      <td>358.304588</td>\n",
       "      <td>0.446095</td>\n",
       "    </tr>\n",
       "    <tr>\n",
       "      <th>4</th>\n",
       "      <td>356.022430</td>\n",
       "      <td>349.103333</td>\n",
       "      <td>0.123370</td>\n",
       "      <td>364.043304</td>\n",
       "      <td>355.399353</td>\n",
       "      <td>0.352766</td>\n",
       "      <td>332.754883</td>\n",
       "      <td>374.448578</td>\n",
       "      <td>0.999993</td>\n",
       "      <td>364.510406</td>\n",
       "      <td>346.863708</td>\n",
       "      <td>0.002989</td>\n",
       "      <td>354.332756</td>\n",
       "      <td>356.453743</td>\n",
       "      <td>0.369780</td>\n",
       "    </tr>\n",
       "  </tbody>\n",
       "</table>\n",
       "</div>"
      ],
      "text/plain": [
       "scorer    DLC_resnet50_Open_Field_v2Jan27shuffle1_150000              \\\n",
       "bodyparts                                       ear_left               \n",
       "coords                                                 x           y   \n",
       "0                                             350.601959  349.726379   \n",
       "1                                             352.136414  348.584778   \n",
       "2                                             354.776398  350.084961   \n",
       "3                                             355.406128  349.633942   \n",
       "4                                             356.022430  349.103333   \n",
       "\n",
       "scorer                                                               \\\n",
       "bodyparts              ear_right                          tail_base   \n",
       "coords    likelihood           x           y likelihood           x   \n",
       "0           0.319404  356.126038  357.920654   0.347644  319.227081   \n",
       "1           0.206522  357.897064  357.440002   0.578003  324.396301   \n",
       "2           0.380140  358.336914  357.164124   0.926967  326.331451   \n",
       "3           0.284354  364.154694  355.427582   0.494322  328.312134   \n",
       "4           0.123370  364.043304  355.399353   0.352766  332.754883   \n",
       "\n",
       "scorer                                                                   \\\n",
       "bodyparts                        miniscope_light                          \n",
       "coords              y likelihood               x           y likelihood   \n",
       "0          379.762604   0.999709      350.018585  349.900177   0.001970   \n",
       "1          382.511169   0.999940      365.123566  349.354645   0.003283   \n",
       "2          381.919586   0.999972      364.012482  347.976837   0.007047   \n",
       "3          380.381989   0.999956      364.483948  347.774841   0.005748   \n",
       "4          374.448578   0.999993      364.510406  346.863708   0.002989   \n",
       "\n",
       "scorer                                        \n",
       "bodyparts    centroid                         \n",
       "coords              x           y likelihood  \n",
       "0          343.993416  359.327454   0.417182  \n",
       "1          349.888336  359.472649   0.446937  \n",
       "2          350.864311  359.286377   0.578532  \n",
       "3          353.089226  358.304588   0.446095  \n",
       "4          354.332756  356.453743   0.369780  "
      ]
     },
     "execution_count": 8,
     "metadata": {},
     "output_type": "execute_result"
    }
   ],
   "source": [
    "dlc_output.head()"
   ]
  },
  {
   "cell_type": "code",
   "execution_count": 9,
   "metadata": {},
   "outputs": [],
   "source": [
    "coordinates_delta_df = dlc_utils.difference_df(dlc_output)"
   ]
  },
  {
   "cell_type": "code",
   "execution_count": 13,
   "metadata": {},
   "outputs": [],
   "source": [
    "df_columns = list(dlc_output.columns)"
   ]
  },
  {
   "cell_type": "code",
   "execution_count": 29,
   "metadata": {},
   "outputs": [],
   "source": [
    "velocity_df = pd.DataFrame(np.transpose(np.array([np.array([dlc_utils.velocity(coordinates_delta_df[body_part]['x'].values[frame],coordinates_delta_df[body_part]['y'].values[frame]) for frame in range(len(coordinates_delta_df))]) for body_part in list(set([df_columns[item][1] for item in range(len(df_columns))]))])),\n",
    "             columns=list(set([df_columns[item][1] for item in range(len(df_columns))]))) \n",
    "# add in likelihood estimates\n",
    "for body_part in list(set([df_columns[item][1] for item in range(len(df_columns))])):\n",
    "    velocity_df[body_part+'_likelihood']=dlc_output[df_columns[0][0]][body_part]['likelihood'].values\n",
    "#velocity_df"
   ]
  },
  {
   "cell_type": "code",
   "execution_count": 30,
   "metadata": {},
   "outputs": [
    {
     "data": {
      "text/html": [
       "<div>\n",
       "<style scoped>\n",
       "    .dataframe tbody tr th:only-of-type {\n",
       "        vertical-align: middle;\n",
       "    }\n",
       "\n",
       "    .dataframe tbody tr th {\n",
       "        vertical-align: top;\n",
       "    }\n",
       "\n",
       "    .dataframe thead th {\n",
       "        text-align: right;\n",
       "    }\n",
       "</style>\n",
       "<table border=\"1\" class=\"dataframe\">\n",
       "  <thead>\n",
       "    <tr style=\"text-align: right;\">\n",
       "      <th></th>\n",
       "      <th>centroid</th>\n",
       "      <th>ear_right</th>\n",
       "      <th>miniscope_light</th>\n",
       "      <th>ear_left</th>\n",
       "      <th>tail_base</th>\n",
       "      <th>centroid_likelihood</th>\n",
       "      <th>ear_right_likelihood</th>\n",
       "      <th>miniscope_light_likelihood</th>\n",
       "      <th>ear_left_likelihood</th>\n",
       "      <th>tail_base_likelihood</th>\n",
       "    </tr>\n",
       "  </thead>\n",
       "  <tbody>\n",
       "    <tr>\n",
       "      <th>0</th>\n",
       "      <td>NaN</td>\n",
       "      <td>NaN</td>\n",
       "      <td>NaN</td>\n",
       "      <td>NaN</td>\n",
       "      <td>NaN</td>\n",
       "      <td>0.417182</td>\n",
       "      <td>0.347644</td>\n",
       "      <td>0.001970</td>\n",
       "      <td>0.319404</td>\n",
       "      <td>0.999709</td>\n",
       "    </tr>\n",
       "    <tr>\n",
       "      <th>1</th>\n",
       "      <td>5.896708</td>\n",
       "      <td>1.835092</td>\n",
       "      <td>15.114828</td>\n",
       "      <td>1.912539</td>\n",
       "      <td>5.854524</td>\n",
       "      <td>0.446937</td>\n",
       "      <td>0.578003</td>\n",
       "      <td>0.003283</td>\n",
       "      <td>0.206522</td>\n",
       "      <td>0.999940</td>\n",
       "    </tr>\n",
       "    <tr>\n",
       "      <th>2</th>\n",
       "      <td>0.993592</td>\n",
       "      <td>0.519208</td>\n",
       "      <td>1.769989</td>\n",
       "      <td>3.036456</td>\n",
       "      <td>2.023555</td>\n",
       "      <td>0.578532</td>\n",
       "      <td>0.926967</td>\n",
       "      <td>0.007047</td>\n",
       "      <td>0.380140</td>\n",
       "      <td>0.999972</td>\n",
       "    </tr>\n",
       "    <tr>\n",
       "      <th>3</th>\n",
       "      <td>2.431903</td>\n",
       "      <td>6.071420</td>\n",
       "      <td>0.512916</td>\n",
       "      <td>0.774583</td>\n",
       "      <td>2.507451</td>\n",
       "      <td>0.446095</td>\n",
       "      <td>0.494322</td>\n",
       "      <td>0.005748</td>\n",
       "      <td>0.284354</td>\n",
       "      <td>0.999956</td>\n",
       "    </tr>\n",
       "    <tr>\n",
       "      <th>4</th>\n",
       "      <td>2.229797</td>\n",
       "      <td>0.114910</td>\n",
       "      <td>0.911517</td>\n",
       "      <td>0.813250</td>\n",
       "      <td>7.412380</td>\n",
       "      <td>0.369780</td>\n",
       "      <td>0.352766</td>\n",
       "      <td>0.002989</td>\n",
       "      <td>0.123370</td>\n",
       "      <td>0.999993</td>\n",
       "    </tr>\n",
       "  </tbody>\n",
       "</table>\n",
       "</div>"
      ],
      "text/plain": [
       "   centroid  ear_right  miniscope_light  ear_left  tail_base  \\\n",
       "0       NaN        NaN              NaN       NaN        NaN   \n",
       "1  5.896708   1.835092        15.114828  1.912539   5.854524   \n",
       "2  0.993592   0.519208         1.769989  3.036456   2.023555   \n",
       "3  2.431903   6.071420         0.512916  0.774583   2.507451   \n",
       "4  2.229797   0.114910         0.911517  0.813250   7.412380   \n",
       "\n",
       "   centroid_likelihood  ear_right_likelihood  miniscope_light_likelihood  \\\n",
       "0             0.417182              0.347644                    0.001970   \n",
       "1             0.446937              0.578003                    0.003283   \n",
       "2             0.578532              0.926967                    0.007047   \n",
       "3             0.446095              0.494322                    0.005748   \n",
       "4             0.369780              0.352766                    0.002989   \n",
       "\n",
       "   ear_left_likelihood  tail_base_likelihood  \n",
       "0             0.319404              0.999709  \n",
       "1             0.206522              0.999940  \n",
       "2             0.380140              0.999972  \n",
       "3             0.284354              0.999956  \n",
       "4             0.123370              0.999993  "
      ]
     },
     "execution_count": 30,
     "metadata": {},
     "output_type": "execute_result"
    }
   ],
   "source": [
    "velocity_df.head()"
   ]
  },
  {
   "cell_type": "code",
   "execution_count": null,
   "metadata": {},
   "outputs": [],
   "source": [
    "velocity_columns = list(velocity_df.columns)"
   ]
  },
  {
   "cell_type": "code",
   "execution_count": null,
   "metadata": {},
   "outputs": [],
   "source": [
    "velocity_columns"
   ]
  },
  {
   "cell_type": "code",
   "execution_count": null,
   "metadata": {},
   "outputs": [],
   "source": [
    "body_part = velocity_columns[4]\n",
    "fig, ax = plt.subplots() \n",
    "ax.plot(velocity_df[body_part])\n",
    "# to plot second body part velocity on same y axis\n",
    "#ax.plot(velocity_df['centroid'])\n",
    "ax1 = ax.twinx()\n",
    "ax1.set_ylim([-0.2, 1.2])\n",
    "ax1.plot(dlc_output[df_columns[0][0]][body_part]['likelihood'], color='orange')\n",
    "def frames_to_time(x):\n",
    "    return(x*0.05)\n",
    "def time_to_frames(x):\n",
    "    return(x*20)\n",
    "secax = ax.secondary_xaxis('top', functions=(frames_to_time, time_to_frames))\n",
    "plt.show()"
   ]
  },
  {
   "cell_type": "code",
   "execution_count": null,
   "metadata": {},
   "outputs": [],
   "source": [
    "fig = plt.plot(velocity_df.rolling(6, center=True).mean()['tail_base'])\n",
    "ax = plt.gca()\n",
    "def frames_to_time(x):\n",
    "    return(x*0.05)\n",
    "def time_to_frames(x):\n",
    "    return(x*20)\n",
    "secax = ax.secondary_xaxis('top', functions=(frames_to_time, time_to_frames))\n",
    "plt.show()"
   ]
  },
  {
   "cell_type": "code",
   "execution_count": null,
   "metadata": {},
   "outputs": [],
   "source": [
    "print(df_columns[0][1])\n",
    "dlc_output[df_columns[0][0]][df_columns[0][1]]"
   ]
  },
  {
   "cell_type": "code",
   "execution_count": null,
   "metadata": {},
   "outputs": [],
   "source": []
  },
  {
   "cell_type": "code",
   "execution_count": null,
   "metadata": {},
   "outputs": [],
   "source": [
    "#create body part delta data frame \n",
    "body_part_deltas = []\n",
    "for body_part in range:    \n",
    "    body_part_delta = [dlc_output.iloc[frame+1,1]-dlc_output.iloc[frame,1] for frame in range (0, 999)]"
   ]
  },
  {
   "cell_type": "code",
   "execution_count": null,
   "metadata": {},
   "outputs": [],
   "source": []
  }
 ],
 "metadata": {
  "kernelspec": {
   "display_name": "2pCNMFEAnalysisEnv",
   "language": "python",
   "name": "2pcnmfeanalysisenv"
  },
  "language_info": {
   "codemirror_mode": {
    "name": "ipython",
    "version": 3
   },
   "file_extension": ".py",
   "mimetype": "text/x-python",
   "name": "python",
   "nbconvert_exporter": "python",
   "pygments_lexer": "ipython3",
   "version": "3.10.4"
  }
 },
 "nbformat": 4,
 "nbformat_minor": 2
}
